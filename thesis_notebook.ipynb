{
 "cells": [
  {
   "cell_type": "code",
   "execution_count": 9,
   "metadata": {},
   "outputs": [],
   "source": [
    "from scipy.io import arff\n",
    "import pandas as pd\n",
    "from pyod.models.mo_gaal import MO_GAAL\n",
    "from pyod.models.lof import LOF\n",
    "from pyod.models.knn import KNN\n",
    "from pyod.models.anogan import AnoGAN\n",
    "from sklearn import metrics\n",
    "import tensorflow as tf\n",
    "import numpy as np\n",
    "import random"
   ]
  },
  {
   "cell_type": "code",
   "execution_count": 10,
   "metadata": {},
   "outputs": [],
   "source": [
    "class CustomData():\n",
    "    def __init__(self, path):\n",
    "        arff_data = arff.loadarff(path)\n",
    "        df = pd.DataFrame(arff_data[0])\n",
    "        df[\"outlier\"] = pd.factorize(df[\"outlier\"], sort=True)[0]\n",
    "        \n",
    "        self.data = df.iloc[:,:-2]\n",
    "        self.ground_truth = df.iloc[:,-1]\n",
    "        \n",
    "    def __len__(self):\n",
    "        return len(self.data)\n",
    "    \n",
    "    def __getitem__(self, i):\n",
    "        return self.data[i]\n",
    "        \n",
    "def AUC(truth, decision):\n",
    "    print(\"AUC: \" + str(metrics.roc_auc_score(truth, decision)))"
   ]
  },
  {
   "cell_type": "code",
   "execution_count": null,
   "metadata": {},
   "outputs": [],
   "source": []
  },
  {
   "cell_type": "code",
   "execution_count": 11,
   "metadata": {},
   "outputs": [],
   "source": [
    "import os\n",
    "def initialize(seed):\n",
    "    tf.keras.utils.set_random_seed(seed) #seeds numpy, random and tf all at once\n",
    "    tf.config.experimental.enable_op_determinism()\n",
    "    \n",
    "    tf.config.threading.set_inter_op_parallelism_threads(1)\n",
    "    tf.config.threading.set_intra_op_parallelism_threads(1)\n",
    "    os.environ['TF_DETERMINISTIC_OPS'] = '1'\n",
    "    os.environ['TF_CUDNN_DETERMINISTIC'] = '1'\n",
    "    os.environ[\"PYTHONHASSEED\"] = str(seed)"
   ]
  },
  {
   "cell_type": "code",
   "execution_count": null,
   "metadata": {},
   "outputs": [],
   "source": [
    "'''\n",
    "(prior, prior_labels), (test, test_labels) = tf.keras.datasets.fashion_mnist.load_data()\n",
    "outlier = 3\n",
    "    \n",
    "idx = prior_labels == outlier\n",
    "train = prior[idx].copy() / 255\n",
    "nsamples, nx, ny = np.shape(train)\n",
    "train = train.reshape(nsamples, nx*ny)\n",
    "    \n",
    "test_copy = test.copy() / 255\n",
    "nsamples, nx, ny = np.shape(test_copy)\n",
    "test_copy = test_copy.reshape(nsamples, nx*ny)\n",
    "    \n",
    "    # DONT USE 1 OR 0 AS INLIER\n",
    "ground_truth = test_labels.copy()\n",
    "ground_truth[ground_truth != outlier] = 1\n",
    "ground_truth[ground_truth == outlier] = 0\n",
    "    \n",
    "initialize(777)\n",
    "'''"
   ]
  },
  {
   "cell_type": "code",
   "execution_count": null,
   "metadata": {},
   "outputs": [],
   "source": [
    "'''\n",
    "out_idx = test_labels == outlier\n",
    "norm_idx = test_labels != outlier\n",
    "\n",
    "outliers = test[out_idx].copy()\n",
    "normal = test[norm_idx].copy()\n",
    "\n",
    "outliers = outliers[0:20]\n",
    "\n",
    "res = np.concatenate((outliers, normal)) / 255\n",
    "nsamples, nx, ny = np.shape(res)\n",
    "res = res.reshape(nsamples, nx*ny)\n",
    "\n",
    "ground = np.ones((9020))\n",
    "for i in range(20):\n",
    "    ground[i] = 0\n",
    "'''"
   ]
  },
  {
   "cell_type": "code",
   "execution_count": 60,
   "metadata": {},
   "outputs": [
    {
     "data": {
      "text/plain": [
       "'\\n(prior, prior_labels), (test, test_labels) = tf.keras.datasets.fashion_mnist.load_data()\\ninlier = 3\\n\\nidx = prior_labels == inlier\\ntrain = prior[idx].copy() / 255\\nnsamples, nx, ny = np.shape(train)\\ntrain = train.reshape(nsamples, nx*ny)\\n    \\ntest_copy = test.copy() / 255\\nnsamples, nx, ny = np.shape(test_copy)\\ntest_copy = test_copy.reshape(nsamples, nx*ny)\\n    \\n    # DONT USE 1 OR 0 AS INLIER\\nground_truth = test_labels.copy()\\nground_truth[ground_truth != inlier] = 1\\nground_truth[ground_truth == inlier] = 0\\n'"
      ]
     },
     "execution_count": 60,
     "metadata": {},
     "output_type": "execute_result"
    }
   ],
   "source": [
    "'''\n",
    "(prior, prior_labels), (test, test_labels) = tf.keras.datasets.fashion_mnist.load_data()\n",
    "inlier = 3\n",
    "\n",
    "idx = prior_labels == inlier\n",
    "train = prior[idx].copy() / 255\n",
    "nsamples, nx, ny = np.shape(train)\n",
    "train = train.reshape(nsamples, nx*ny)\n",
    "    \n",
    "test_copy = test.copy() / 255\n",
    "nsamples, nx, ny = np.shape(test_copy)\n",
    "test_copy = test_copy.reshape(nsamples, nx*ny)\n",
    "    \n",
    "    # DONT USE 1 OR 0 AS INLIER\n",
    "ground_truth = test_labels.copy()\n",
    "ground_truth[ground_truth != inlier] = 1\n",
    "ground_truth[ground_truth == inlier] = 0\n",
    "''' "
   ]
  },
  {
   "cell_type": "code",
   "execution_count": 69,
   "metadata": {},
   "outputs": [
    {
     "name": "stdout",
     "output_type": "stream",
     "text": [
      "(5000, 32, 32, 3)\n",
      "5000\n",
      "AUC: 0.691850111111111\n"
     ]
    }
   ],
   "source": [
    "(prior, prior_labels), (test, test_labels) = tf.keras.datasets.cifar10.load_data() #tf.keras.datasets.fashion_mnist.load_data()\n",
    "inlier = 6\n",
    "idx = np.where(prior_labels == inlier)\n",
    "\n",
    "train = prior[idx[0]].copy()\n",
    "\n",
    "print(np.shape(train))\n",
    "print(len(train))\n",
    "nsamples, nx, ny, nz = np.shape(train)\n",
    "train = train.reshape(nsamples, nx*ny*nz) / 255\n",
    "    \n",
    "\n",
    "test_copy = test.copy() / 255\n",
    "nsamples, nx, ny, nz = np.shape(test_copy)\n",
    "test_copy = test_copy.reshape(nsamples, nx*ny*nz)\n",
    "    \n",
    "    # DONT USE 1 OR 0 AS INLIER\n",
    "ground_truth = test_labels.copy()\n",
    "ground_truth[ground_truth != inlier] = 1\n",
    "ground_truth[ground_truth == inlier] = 0\n",
    "\n",
    "initialize(777)\n",
    "lof_model = LOF()\n",
    "lof_model.fit(train)\n",
    "AUC(ground_truth, lof_model.decision_function(test_copy))"
   ]
  },
  {
   "cell_type": "code",
   "execution_count": 67,
   "metadata": {},
   "outputs": [
    {
     "name": "stdout",
     "output_type": "stream",
     "text": [
      "AUC: 0.5108335555555555\n"
     ]
    }
   ],
   "source": []
  },
  {
   "cell_type": "code",
   "execution_count": null,
   "metadata": {},
   "outputs": [],
   "source": [
    "arrythmia_path = \"./Resources/Datasets/Arrhythmia_withoutdupl_norm_02_v01.arff\"\n",
    "wave_path = \"./Resources/Datasets/Waveform_withoutdupl_norm_v01.arff\"\n",
    "internet_ads_path = \"./Resources/Datasets/InternetAds_withoutdupl_norm_02_v01.arff\"\n",
    "\n",
    "dataset = CustomData(arrythmia_path)"
   ]
  },
  {
   "cell_type": "code",
   "execution_count": null,
   "metadata": {},
   "outputs": [],
   "source": [
    "mogaal_model = MO_GAAL(lr_d=0.01, lr_g=0.01, stop_epochs=50)\n",
    "mogaal_model.fit(dataset.data)"
   ]
  },
  {
   "cell_type": "code",
   "execution_count": null,
   "metadata": {},
   "outputs": [],
   "source": [
    "decision_values = mogaal_model.decision_function(dataset.data)\n",
    "AUC(dataset.ground_truth, decision_values)"
   ]
  },
  {
   "cell_type": "code",
   "execution_count": null,
   "metadata": {},
   "outputs": [],
   "source": [
    "lof_model = LOF()\n",
    "lof_model.fit(dataset.data)"
   ]
  },
  {
   "cell_type": "code",
   "execution_count": null,
   "metadata": {},
   "outputs": [],
   "source": [
    "decision_values = lof_model.decision_function(dataset.data)\n",
    "AUC(dataset.ground_truth, decision_values)"
   ]
  },
  {
   "cell_type": "code",
   "execution_count": null,
   "metadata": {},
   "outputs": [],
   "source": [
    "knn_model = KNN()\n",
    "knn_model.fit(dataset.data)"
   ]
  },
  {
   "cell_type": "code",
   "execution_count": null,
   "metadata": {},
   "outputs": [],
   "source": [
    "decision_values = knn_model.decision_function(dataset.data)\n",
    "AUC(dataset.ground_truth, decision_values)"
   ]
  },
  {
   "cell_type": "code",
   "execution_count": null,
   "metadata": {},
   "outputs": [],
   "source": [
    "anogan_model = AnoGAN()\n",
    "anogan_model.fit(dataset.data)"
   ]
  },
  {
   "cell_type": "code",
   "execution_count": null,
   "metadata": {},
   "outputs": [],
   "source": [
    "decision_values = anogan_model.decision_function(dataset.data)\n",
    "AUC(dataset.ground_truth, decision_values)\n",
    "anogan_model.plot_learning_curves()"
   ]
  },
  {
   "cell_type": "code",
   "execution_count": null,
   "metadata": {},
   "outputs": [],
   "source": []
  }
 ],
 "metadata": {
  "kernelspec": {
   "display_name": "Python 3",
   "language": "python",
   "name": "python3"
  },
  "language_info": {
   "codemirror_mode": {
    "name": "ipython",
    "version": 3
   },
   "file_extension": ".py",
   "mimetype": "text/x-python",
   "name": "python",
   "nbconvert_exporter": "python",
   "pygments_lexer": "ipython3",
   "version": "3.9.16"
  },
  "orig_nbformat": 4
 },
 "nbformat": 4,
 "nbformat_minor": 2
}

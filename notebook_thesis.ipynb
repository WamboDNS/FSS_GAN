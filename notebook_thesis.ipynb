{
 "cells": [
  {
   "cell_type": "code",
   "execution_count": 1,
   "id": "dd3c328a",
   "metadata": {},
   "outputs": [
    {
     "name": "stderr",
     "output_type": "stream",
     "text": [
      "2023-05-15 18:04:07.216780: I tensorflow/core/platform/cpu_feature_guard.cc:182] This TensorFlow binary is optimized to use available CPU instructions in performance-critical operations.\n",
      "To enable the following instructions: AVX2 FMA, in other operations, rebuild TensorFlow with the appropriate compiler flags.\n",
      "2023-05-15 18:04:07.687361: W tensorflow/compiler/tf2tensorrt/utils/py_utils.cc:38] TF-TRT Warning: Could not find TensorRT\n"
     ]
    }
   ],
   "source": [
    "import warnings #suppress warnings\n",
    "import torch\n",
    "import random\n",
    "import pandas as pd\n",
    "from torch.utils.data import Dataset, DataLoader\n",
    "from scipy.io import arff\n",
    "from pyod.models.anogan import AnoGAN\n",
    "from pyod.models.mo_gaal import MO_GAAL\n",
    "from pyod.models.lof import LOF\n",
    "from pyod.models.gmm import GMM\n",
    "import sklearn.metrics as sk\n",
    "\n",
    "warnings.simplefilter(\"ignore\")"
   ]
  },
  {
   "cell_type": "code",
   "execution_count": 16,
   "id": "67edf4ab",
   "metadata": {},
   "outputs": [],
   "source": [
    "class CustomDataset(Dataset):\n",
    "    def __init__(self, path):\n",
    "        # start preprocessing \n",
    "        self.arff_data = arff.loadarff(path)\n",
    "        self.df = pd.DataFrame(self.arff_data[0])\n",
    "        # 1 is outlier, 0 is normal data\n",
    "        self.df[\"outlier\"] = pd.factorize(self.df[\"outlier\"])[0] - 1\n",
    "        self.df[\"outlier\"] = self.df[\"outlier\"].abs()\n",
    "        #end preprocessing\n",
    "        \n",
    "        self.data_tensor = torch.tensor(self.df.to_numpy()).float()\n",
    "        self.data_numpy = self.df.to_numpy()\n",
    "        \n",
    "    def __len__(self):\n",
    "        return len(self.data_tensor)\n",
    "    \n",
    "    def __getitem__(self, i):\n",
    "        return self.data_tensor[i]"
   ]
  },
  {
   "cell_type": "code",
   "execution_count": 18,
   "id": "a6f7d4f3",
   "metadata": {
    "scrolled": true
   },
   "outputs": [],
   "source": [
    "internet_ads_path = \"./Resources/Datasets/InternetAds_withoutdupl_norm_02_v01.arff\" #invert outlier-normal-labels\n",
    "arrythmia_path = \"./Resources/Datasets/Arrhythmia_withoutdupl_norm_02_v01.arff\"\n",
    "wave_path = \"./Resources/Datasets/Waveform_withoutdupl_norm_v01.arff\"\n",
    "\n",
    "#seed = 777\n",
    "#torch.manual_seed(seed)\n",
    "#random.seed(seed)\n",
    "\n",
    "#num_workers = 2\n",
    "#batch_size = 128\n",
    "#number of used GPUs\n",
    "#gpu = 0 \n",
    "#usedDevice = torch.device(\"cpu\" if gpu == 0 else \"cuda\")\n",
    "\n",
    "dataset = CustomDataset(arrythmia_path)\n",
    "\n",
    "data_no_label = dataset.data_numpy[:,:-2]\n",
    "data_label = dataset.data_numpy[:, -1]\n",
    "\n",
    "#train_set, eval_set, test_set = torch.utils.data.random_split(dataset.data_numpy[:,:-1], [0.6,0.2,0.2]) #PFUSCH WEGEN NUMPY?\n",
    "#maybe data loader for each category?\n",
    "#dataloader = DataLoader(dataset=dataset.data_tensor, batch_size = batch_size, shuffle=True, num_workers=num_workers)"
   ]
  },
  {
   "cell_type": "code",
   "execution_count": 37,
   "id": "731ccfc6",
   "metadata": {},
   "outputs": [],
   "source": [
    "def check_accuracy(decision_values, labels):\n",
    "    # positive: anomaly\n",
    "    tp = 0\n",
    "    tn = 0\n",
    "    fp = 0\n",
    "    fn = 0\n",
    "    \n",
    "    for i in range(len(data_no_label)):\n",
    "        if data_label[i] == labels[i]: # correct label\n",
    "            if labels[i] == 1:\n",
    "                tp += 1\n",
    "            else:\n",
    "                tn += 1\n",
    "        else:\n",
    "            if labels[i] == 1: # wrong label\n",
    "                fp += 1\n",
    "            else: \n",
    "                fn += 1\n",
    "                \n",
    "    print(\"------------------------------------------------------------\")\n",
    "    print(\"TP: \" + str(tp))\n",
    "    print(\"FP: \" + str(fp))\n",
    "    print(\"TN: \" + str(tn))\n",
    "    print(\"FN: \" + str(fn))\n",
    "    print(\"------------------------------------------------------------\")\n",
    "    print(\"Precision: \" + str(tp/(tp+fp))) # When we declare a positive, how certain are we?\n",
    "    print(\"Recall: \" + str(tp/(tp+fn))) # How good are we at detecting the positives?\n",
    "    print(\"Accuracy: \" + str((tp+tn)/(tp+tn+fp+fn)))\n",
    "    print(\"AUC: \" + str(sk.roc_auc_score(data_label, decision_values)))\n",
    "    print(\"F1 sklearn: \" + str(sk.f1_score(y_true = data_label,y_pred = labels)))\n",
    "    print(\"F1 calculated: \" + str((tp/(tp+fp))*(tp/(tp+fn))*2/((tp/(tp+fp))+(tp/(tp+fn)))))"
   ]
  },
  {
   "cell_type": "code",
   "execution_count": 38,
   "id": "2f5859f3",
   "metadata": {},
   "outputs": [
    {
     "data": {
      "text/plain": [
       "LOF(algorithm='auto', contamination=0.1, leaf_size=30, metric='minkowski',\n",
       "  metric_params=None, n_jobs=1, n_neighbors=5, novelty=True, p=2)"
      ]
     },
     "execution_count": 38,
     "metadata": {},
     "output_type": "execute_result"
    }
   ],
   "source": [
    "lof_model = LOF(n_neighbors=5)\n",
    "lof_model.fit(data_no_label)"
   ]
  },
  {
   "cell_type": "code",
   "execution_count": 39,
   "id": "6d9b4641",
   "metadata": {},
   "outputs": [
    {
     "name": "stdout",
     "output_type": "stream",
     "text": [
      "------------------------------------------------------------\n",
      "TP: 1\n",
      "FP: 24\n",
      "TN: 220\n",
      "FN: 3\n",
      "------------------------------------------------------------\n",
      "Precision: 0.04\n",
      "Recall: 0.25\n",
      "Accuracy: 0.8911290322580645\n",
      "AUC: 0.7120901639344263\n",
      "F1 sklearn: 0.06896551724137932\n",
      "F1 calculated: 0.06896551724137932\n"
     ]
    }
   ],
   "source": [
    "decision_values = lof_model.decision_function(data_no_label)\n",
    "check_accuracy(decision_values, lof_model.labels_)"
   ]
  },
  {
   "cell_type": "code",
   "execution_count": null,
   "id": "45ba458d",
   "metadata": {},
   "outputs": [],
   "source": []
  },
  {
   "cell_type": "code",
   "execution_count": 148,
   "id": "950cdadc",
   "metadata": {},
   "outputs": [
    {
     "name": "stdout",
     "output_type": "stream",
     "text": [
      "AUC: 0.7264344262295082\n",
      "TP: 1\n",
      "FP: 24\n",
      "TN: 220\n",
      "FN: 3\n"
     ]
    }
   ],
   "source": [
    "from pyod.models.knn import KNN\n",
    "\n",
    "knn_model = KNN()\n",
    "knn_model.fit(data_no_label)\n",
    "predicted_values = knn_model.decision_function(data_no_label)\n",
    "predicted_labels = knn_model.labels_\n",
    "check_accuracy(predicted_values, predicted_labels)"
   ]
  },
  {
   "cell_type": "code",
   "execution_count": 91,
   "id": "c119f09c",
   "metadata": {},
   "outputs": [
    {
     "ename": "NameError",
     "evalue": "name 'train_set' is not defined",
     "output_type": "error",
     "traceback": [
      "\u001b[0;31m---------------------------------------------------------------------------\u001b[0m",
      "\u001b[0;31mNameError\u001b[0m                                 Traceback (most recent call last)",
      "Cell \u001b[0;32mIn[91], line 2\u001b[0m\n\u001b[1;32m      1\u001b[0m mogaal_model \u001b[39m=\u001b[39m MO_GAAL(contamination\u001b[39m=\u001b[39m\u001b[39m0.05\u001b[39m)\n\u001b[0;32m----> 2\u001b[0m mogaal_model\u001b[39m.\u001b[39mfit(train_set)\n",
      "\u001b[0;31mNameError\u001b[0m: name 'train_set' is not defined"
     ]
    }
   ],
   "source": [
    "mogaal_model = MO_GAAL(contamination=0.05)\n",
    "mogaal_model.fit(train_set)"
   ]
  },
  {
   "cell_type": "code",
   "execution_count": null,
   "id": "f1b6c5a1",
   "metadata": {},
   "outputs": [],
   "source": [
    "test_mogaal_pred = mogaal_model.predict(test_set)"
   ]
  },
  {
   "cell_type": "code",
   "execution_count": null,
   "id": "9136cb51",
   "metadata": {},
   "outputs": [],
   "source": [
    "check_accuracy(test_mogaal_pred)"
   ]
  },
  {
   "cell_type": "code",
   "execution_count": null,
   "id": "f8ef8cbb",
   "metadata": {},
   "outputs": [],
   "source": [
    "anogan_model = AnoGAN()\n",
    "anogan_model.fit(train_set)"
   ]
  },
  {
   "cell_type": "code",
   "execution_count": 14,
   "id": "264558c2",
   "metadata": {},
   "outputs": [],
   "source": [
    "test_anogan_pred = anogan_model.predict(test_set)"
   ]
  },
  {
   "cell_type": "code",
   "execution_count": null,
   "id": "33eb5f33",
   "metadata": {},
   "outputs": [],
   "source": [
    "check_accuracy(test_anogan_pred)"
   ]
  },
  {
   "cell_type": "code",
   "execution_count": 19,
   "id": "e6b74df4",
   "metadata": {},
   "outputs": [
    {
     "data": {
      "text/plain": [
       "GMM(contamination=0.1, covariance_type='full', init_params='kmeans',\n",
       "  max_iter=100, means_init=None, n_components=5, n_init=1,\n",
       "  precisions_init=None, random_state=None, reg_covar=1e-06, tol=0.001,\n",
       "  warm_start=False, weights_init=None)"
      ]
     },
     "execution_count": 19,
     "metadata": {},
     "output_type": "execute_result"
    }
   ],
   "source": [
    "gmm_model = GMM(n_components=5)\n",
    "gmm_model.fit(train_set)"
   ]
  },
  {
   "cell_type": "code",
   "execution_count": 20,
   "id": "31c0e257",
   "metadata": {},
   "outputs": [],
   "source": [
    "test_gmm_pred = gmm_model.predict(test_set)"
   ]
  },
  {
   "cell_type": "code",
   "execution_count": 26,
   "id": "282238de",
   "metadata": {},
   "outputs": [
    {
     "name": "stdout",
     "output_type": "stream",
     "text": [
      "688\n",
      "TP: 13\n",
      "FP: 116\n",
      "TN: 542\n",
      "FN: 17\n",
      "Accuracy: 0.8066860465116279\n"
     ]
    }
   ],
   "source": [
    "check_accuracy(test_gmm_pred)"
   ]
  },
  {
   "cell_type": "code",
   "execution_count": null,
   "id": "b1ef8405",
   "metadata": {},
   "outputs": [],
   "source": []
  }
 ],
 "metadata": {
  "kernelspec": {
   "display_name": "Python 3 (ipykernel)",
   "language": "python",
   "name": "python3"
  },
  "language_info": {
   "codemirror_mode": {
    "name": "ipython",
    "version": 3
   },
   "file_extension": ".py",
   "mimetype": "text/x-python",
   "name": "python",
   "nbconvert_exporter": "python",
   "pygments_lexer": "ipython3",
   "version": "3.9.16"
  }
 },
 "nbformat": 4,
 "nbformat_minor": 5
}

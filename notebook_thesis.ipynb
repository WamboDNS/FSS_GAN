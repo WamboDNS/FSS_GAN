{
 "cells": [
  {
   "cell_type": "code",
   "execution_count": 1,
   "id": "dd3c328a",
   "metadata": {},
   "outputs": [
    {
     "name": "stderr",
     "output_type": "stream",
     "text": [
      "2023-05-13 17:49:47.740289: I tensorflow/core/platform/cpu_feature_guard.cc:182] This TensorFlow binary is optimized to use available CPU instructions in performance-critical operations.\n",
      "To enable the following instructions: AVX2 FMA, in other operations, rebuild TensorFlow with the appropriate compiler flags.\n",
      "2023-05-13 17:49:48.209505: W tensorflow/compiler/tf2tensorrt/utils/py_utils.cc:38] TF-TRT Warning: Could not find TensorRT\n"
     ]
    }
   ],
   "source": [
    "import warnings #suppress warnings\n",
    "import torch\n",
    "import random\n",
    "import pandas as pd\n",
    "from torch.utils.data import Dataset, DataLoader\n",
    "from scipy.io import arff\n",
    "from pyod.models.anogan import AnoGAN\n",
    "from pyod.models.mo_gaal import MO_GAAL\n",
    "\n",
    "warnings.simplefilter(\"ignore\")"
   ]
  },
  {
   "cell_type": "code",
   "execution_count": 60,
   "id": "67edf4ab",
   "metadata": {},
   "outputs": [],
   "source": [
    "class CustomDataset(Dataset):\n",
    "    def __init__(self, path):\n",
    "        # start preprocessing \n",
    "        self.arff_data = arff.loadarff(path)\n",
    "        self.df = pd.DataFrame(self.arff_data[0])\n",
    "        #0 is outlier, 1 is normal data\n",
    "        self.df[\"outlier\"] = pd.factorize(self.df[\"outlier\"])[0]\n",
    "        #end preprocessing\n",
    "        \n",
    "        self.data_tensor = torch.tensor(self.df.to_numpy()).float()\n",
    "        self.data_numpy = self.df.to_numpy()\n",
    "        self.n = self.df.shape[0]\n",
    "        \n",
    "    def __len__(self):\n",
    "        return len(self.data_tensor)\n",
    "    \n",
    "    def __getitem__(self, i):\n",
    "        return self.data_tensor[i]"
   ]
  },
  {
   "cell_type": "code",
   "execution_count": 61,
   "id": "a6f7d4f3",
   "metadata": {
    "scrolled": true
   },
   "outputs": [],
   "source": [
    "path = \"/home/denis/Documents/Resources_Thesis/Waveform_withoutdupl_norm_v01.arff\"\n",
    "seed = 777\n",
    "torch.manual_seed(seed)\n",
    "random.seed(seed)\n",
    "num_workers = 2\n",
    "batch_size = 128\n",
    "#number of used GPUs\n",
    "gpu = 0 \n",
    "\n",
    "usedDevice = torch.device(\"cpu\" if gpu == 0 else \"cuda\")\n",
    "dataset = CustomDataset(path)\n",
    "train_set, eval_set, test_set = torch.utils.data.random_split(dataset.data_numpy[:,:-1], [0.6,0.2,0.2]) #PFUSCH WEGEN NUMPY?\n",
    "#maybe data loader for each category?\n",
    "dataloader = DataLoader(dataset=dataset.data_tensor, batch_size = batch_size, shuffle=True, num_workers=num_workers)"
   ]
  },
  {
   "cell_type": "code",
   "execution_count": null,
   "id": "f0c7fd04",
   "metadata": {},
   "outputs": [],
   "source": []
  },
  {
   "cell_type": "code",
   "execution_count": 62,
   "id": "c119f09c",
   "metadata": {},
   "outputs": [
    {
     "name": "stdout",
     "output_type": "stream",
     "text": [
      "Epoch 1 of 60\n",
      "\n",
      "Testing for epoch 1 index 1:\n",
      "65/65 [==============================] - 0s 503us/step\n"
     ]
    },
    {
     "name": "stderr",
     "output_type": "stream",
     "text": [
      "2023-05-13 18:25:56.258686: I tensorflow/core/common_runtime/executor.cc:1197] [/device:CPU:0] (DEBUG INFO) Executor start aborting (this does not indicate an error and you can ignore this message): INVALID_ARGUMENT: You must feed a value for placeholder tensor 'Placeholder/_1' with dtype int64 and shape [1000]\n",
      "\t [[{{node Placeholder/_1}}]]\n",
      "2023-05-13 18:25:56.459610: I tensorflow/core/common_runtime/executor.cc:1197] [/device:CPU:0] (DEBUG INFO) Executor start aborting (this does not indicate an error and you can ignore this message): INVALID_ARGUMENT: You must feed a value for placeholder tensor 'Placeholder/_1' with dtype float and shape [500]\n",
      "\t [[{{node Placeholder/_1}}]]\n",
      "2023-05-13 18:25:56.594611: I tensorflow/core/common_runtime/executor.cc:1197] [/device:CPU:0] (DEBUG INFO) Executor start aborting (this does not indicate an error and you can ignore this message): INVALID_ARGUMENT: You must feed a value for placeholder tensor 'Placeholder/_1' with dtype float and shape [500]\n",
      "\t [[{{node Placeholder/_1}}]]\n",
      "2023-05-13 18:25:56.724654: I tensorflow/core/common_runtime/executor.cc:1197] [/device:CPU:0] (DEBUG INFO) Executor start aborting (this does not indicate an error and you can ignore this message): INVALID_ARGUMENT: You must feed a value for placeholder tensor 'Placeholder/_1' with dtype float and shape [500]\n",
      "\t [[{{node Placeholder/_1}}]]\n",
      "2023-05-13 18:25:56.852638: I tensorflow/core/common_runtime/executor.cc:1197] [/device:CPU:0] (DEBUG INFO) Executor start aborting (this does not indicate an error and you can ignore this message): INVALID_ARGUMENT: You must feed a value for placeholder tensor 'Placeholder/_1' with dtype float and shape [500]\n",
      "\t [[{{node Placeholder/_1}}]]\n",
      "2023-05-13 18:25:56.978231: I tensorflow/core/common_runtime/executor.cc:1197] [/device:CPU:0] (DEBUG INFO) Executor start aborting (this does not indicate an error and you can ignore this message): INVALID_ARGUMENT: You must feed a value for placeholder tensor 'Placeholder/_1' with dtype float and shape [500]\n",
      "\t [[{{node Placeholder/_1}}]]\n",
      "2023-05-13 18:25:57.101213: I tensorflow/core/common_runtime/executor.cc:1197] [/device:CPU:0] (DEBUG INFO) Executor start aborting (this does not indicate an error and you can ignore this message): INVALID_ARGUMENT: You must feed a value for placeholder tensor 'Placeholder/_1' with dtype float and shape [500]\n",
      "\t [[{{node Placeholder/_1}}]]\n",
      "2023-05-13 18:25:57.226828: I tensorflow/core/common_runtime/executor.cc:1197] [/device:CPU:0] (DEBUG INFO) Executor start aborting (this does not indicate an error and you can ignore this message): INVALID_ARGUMENT: You must feed a value for placeholder tensor 'Placeholder/_1' with dtype float and shape [500]\n",
      "\t [[{{node Placeholder/_1}}]]\n",
      "2023-05-13 18:25:57.348636: I tensorflow/core/common_runtime/executor.cc:1197] [/device:CPU:0] (DEBUG INFO) Executor start aborting (this does not indicate an error and you can ignore this message): INVALID_ARGUMENT: You must feed a value for placeholder tensor 'Placeholder/_1' with dtype float and shape [500]\n",
      "\t [[{{node Placeholder/_1}}]]\n",
      "2023-05-13 18:25:57.471660: I tensorflow/core/common_runtime/executor.cc:1197] [/device:CPU:0] (DEBUG INFO) Executor start aborting (this does not indicate an error and you can ignore this message): INVALID_ARGUMENT: You must feed a value for placeholder tensor 'Placeholder/_1' with dtype float and shape [500]\n",
      "\t [[{{node Placeholder/_1}}]]\n",
      "2023-05-13 18:25:57.597852: I tensorflow/core/common_runtime/executor.cc:1197] [/device:CPU:0] (DEBUG INFO) Executor start aborting (this does not indicate an error and you can ignore this message): INVALID_ARGUMENT: You must feed a value for placeholder tensor 'Placeholder/_1' with dtype float and shape [500]\n",
      "\t [[{{node Placeholder/_1}}]]\n"
     ]
    },
    {
     "name": "stdout",
     "output_type": "stream",
     "text": [
      "\n",
      "Testing for epoch 1 index 2:\n",
      "65/65 [==============================] - 0s 496us/step\n"
     ]
    },
    {
     "name": "stderr",
     "output_type": "stream",
     "text": [
      "2023-05-13 18:25:58.293018: I tensorflow/core/common_runtime/executor.cc:1197] [/device:CPU:0] (DEBUG INFO) Executor start aborting (this does not indicate an error and you can ignore this message): INVALID_ARGUMENT: You must feed a value for placeholder tensor 'Placeholder/_1' with dtype int64 and shape [1000]\n",
      "\t [[{{node Placeholder/_1}}]]\n",
      "2023-05-13 18:25:58.369363: I tensorflow/core/common_runtime/executor.cc:1197] [/device:CPU:0] (DEBUG INFO) Executor start aborting (this does not indicate an error and you can ignore this message): INVALID_ARGUMENT: You must feed a value for placeholder tensor 'Placeholder/_1' with dtype float and shape [500]\n",
      "\t [[{{node Placeholder/_1}}]]\n",
      "2023-05-13 18:25:58.373401: I tensorflow/core/common_runtime/executor.cc:1197] [/device:CPU:0] (DEBUG INFO) Executor start aborting (this does not indicate an error and you can ignore this message): INVALID_ARGUMENT: You must feed a value for placeholder tensor 'Placeholder/_1' with dtype float and shape [500]\n",
      "\t [[{{node Placeholder/_1}}]]\n",
      "2023-05-13 18:25:58.376974: I tensorflow/core/common_runtime/executor.cc:1197] [/device:CPU:0] (DEBUG INFO) Executor start aborting (this does not indicate an error and you can ignore this message): INVALID_ARGUMENT: You must feed a value for placeholder tensor 'Placeholder/_1' with dtype float and shape [500]\n",
      "\t [[{{node Placeholder/_1}}]]\n",
      "2023-05-13 18:25:58.380619: I tensorflow/core/common_runtime/executor.cc:1197] [/device:CPU:0] (DEBUG INFO) Executor start aborting (this does not indicate an error and you can ignore this message): INVALID_ARGUMENT: You must feed a value for placeholder tensor 'Placeholder/_1' with dtype float and shape [500]\n",
      "\t [[{{node Placeholder/_1}}]]\n",
      "2023-05-13 18:25:58.383843: I tensorflow/core/common_runtime/executor.cc:1197] [/device:CPU:0] (DEBUG INFO) Executor start aborting (this does not indicate an error and you can ignore this message): INVALID_ARGUMENT: You must feed a value for placeholder tensor 'Placeholder/_1' with dtype float and shape [500]\n",
      "\t [[{{node Placeholder/_1}}]]\n",
      "2023-05-13 18:25:58.387239: I tensorflow/core/common_runtime/executor.cc:1197] [/device:CPU:0] (DEBUG INFO) Executor start aborting (this does not indicate an error and you can ignore this message): INVALID_ARGUMENT: You must feed a value for placeholder tensor 'Placeholder/_1' with dtype float and shape [500]\n",
      "\t [[{{node Placeholder/_1}}]]\n",
      "2023-05-13 18:25:58.390449: I tensorflow/core/common_runtime/executor.cc:1197] [/device:CPU:0] (DEBUG INFO) Executor start aborting (this does not indicate an error and you can ignore this message): INVALID_ARGUMENT: You must feed a value for placeholder tensor 'Placeholder/_1' with dtype float and shape [500]\n",
      "\t [[{{node Placeholder/_1}}]]\n",
      "2023-05-13 18:25:58.394229: I tensorflow/core/common_runtime/executor.cc:1197] [/device:CPU:0] (DEBUG INFO) Executor start aborting (this does not indicate an error and you can ignore this message): INVALID_ARGUMENT: You must feed a value for placeholder tensor 'Placeholder/_1' with dtype float and shape [500]\n",
      "\t [[{{node Placeholder/_1}}]]\n",
      "2023-05-13 18:25:58.397482: I tensorflow/core/common_runtime/executor.cc:1197] [/device:CPU:0] (DEBUG INFO) Executor start aborting (this does not indicate an error and you can ignore this message): INVALID_ARGUMENT: You must feed a value for placeholder tensor 'Placeholder/_1' with dtype float and shape [500]\n",
      "\t [[{{node Placeholder/_1}}]]\n",
      "2023-05-13 18:25:58.400838: I tensorflow/core/common_runtime/executor.cc:1197] [/device:CPU:0] (DEBUG INFO) Executor start aborting (this does not indicate an error and you can ignore this message): INVALID_ARGUMENT: You must feed a value for placeholder tensor 'Placeholder/_1' with dtype float and shape [500]\n",
      "\t [[{{node Placeholder/_1}}]]\n"
     ]
    },
    {
     "name": "stdout",
     "output_type": "stream",
     "text": [
      "\n",
      "Testing for epoch 1 index 3:\n",
      "65/65 [==============================] - 0s 468us/step\n"
     ]
    },
    {
     "name": "stderr",
     "output_type": "stream",
     "text": [
      "2023-05-13 18:25:58.678705: I tensorflow/core/common_runtime/executor.cc:1197] [/device:CPU:0] (DEBUG INFO) Executor start aborting (this does not indicate an error and you can ignore this message): INVALID_ARGUMENT: You must feed a value for placeholder tensor 'Placeholder/_1' with dtype int64 and shape [1000]\n",
      "\t [[{{node Placeholder/_1}}]]\n",
      "2023-05-13 18:25:58.750671: I tensorflow/core/common_runtime/executor.cc:1197] [/device:CPU:0] (DEBUG INFO) Executor start aborting (this does not indicate an error and you can ignore this message): INVALID_ARGUMENT: You must feed a value for placeholder tensor 'Placeholder/_1' with dtype float and shape [500]\n",
      "\t [[{{node Placeholder/_1}}]]\n",
      "2023-05-13 18:25:58.755063: I tensorflow/core/common_runtime/executor.cc:1197] [/device:CPU:0] (DEBUG INFO) Executor start aborting (this does not indicate an error and you can ignore this message): INVALID_ARGUMENT: You must feed a value for placeholder tensor 'Placeholder/_1' with dtype float and shape [500]\n",
      "\t [[{{node Placeholder/_1}}]]\n",
      "2023-05-13 18:25:58.758498: I tensorflow/core/common_runtime/executor.cc:1197] [/device:CPU:0] (DEBUG INFO) Executor start aborting (this does not indicate an error and you can ignore this message): INVALID_ARGUMENT: You must feed a value for placeholder tensor 'Placeholder/_1' with dtype float and shape [500]\n",
      "\t [[{{node Placeholder/_1}}]]\n",
      "2023-05-13 18:25:58.762276: I tensorflow/core/common_runtime/executor.cc:1197] [/device:CPU:0] (DEBUG INFO) Executor start aborting (this does not indicate an error and you can ignore this message): INVALID_ARGUMENT: You must feed a value for placeholder tensor 'Placeholder/_1' with dtype float and shape [500]\n",
      "\t [[{{node Placeholder/_1}}]]\n",
      "2023-05-13 18:25:58.765727: I tensorflow/core/common_runtime/executor.cc:1197] [/device:CPU:0] (DEBUG INFO) Executor start aborting (this does not indicate an error and you can ignore this message): INVALID_ARGUMENT: You must feed a value for placeholder tensor 'Placeholder/_1' with dtype float and shape [500]\n",
      "\t [[{{node Placeholder/_1}}]]\n",
      "2023-05-13 18:25:58.769319: I tensorflow/core/common_runtime/executor.cc:1197] [/device:CPU:0] (DEBUG INFO) Executor start aborting (this does not indicate an error and you can ignore this message): INVALID_ARGUMENT: You must feed a value for placeholder tensor 'Placeholder/_1' with dtype float and shape [500]\n",
      "\t [[{{node Placeholder/_1}}]]\n",
      "2023-05-13 18:25:58.772471: I tensorflow/core/common_runtime/executor.cc:1197] [/device:CPU:0] (DEBUG INFO) Executor start aborting (this does not indicate an error and you can ignore this message): INVALID_ARGUMENT: You must feed a value for placeholder tensor 'Placeholder/_1' with dtype float and shape [500]\n",
      "\t [[{{node Placeholder/_1}}]]\n",
      "2023-05-13 18:25:58.775892: I tensorflow/core/common_runtime/executor.cc:1197] [/device:CPU:0] (DEBUG INFO) Executor start aborting (this does not indicate an error and you can ignore this message): INVALID_ARGUMENT: You must feed a value for placeholder tensor 'Placeholder/_1' with dtype float and shape [500]\n",
      "\t [[{{node Placeholder/_1}}]]\n",
      "2023-05-13 18:25:58.779207: I tensorflow/core/common_runtime/executor.cc:1197] [/device:CPU:0] (DEBUG INFO) Executor start aborting (this does not indicate an error and you can ignore this message): INVALID_ARGUMENT: You must feed a value for placeholder tensor 'Placeholder/_1' with dtype float and shape [500]\n",
      "\t [[{{node Placeholder/_1}}]]\n",
      "2023-05-13 18:25:58.782741: I tensorflow/core/common_runtime/executor.cc:1197] [/device:CPU:0] (DEBUG INFO) Executor start aborting (this does not indicate an error and you can ignore this message): INVALID_ARGUMENT: You must feed a value for placeholder tensor 'Placeholder/_1' with dtype float and shape [500]\n",
      "\t [[{{node Placeholder/_1}}]]\n"
     ]
    },
    {
     "name": "stdout",
     "output_type": "stream",
     "text": [
      "\n",
      "Testing for epoch 1 index 4:\n",
      "65/65 [==============================] - 0s 456us/step\n"
     ]
    },
    {
     "name": "stderr",
     "output_type": "stream",
     "text": [
      "2023-05-13 18:25:59.054364: I tensorflow/core/common_runtime/executor.cc:1197] [/device:CPU:0] (DEBUG INFO) Executor start aborting (this does not indicate an error and you can ignore this message): INVALID_ARGUMENT: You must feed a value for placeholder tensor 'Placeholder/_1' with dtype int64 and shape [1000]\n",
      "\t [[{{node Placeholder/_1}}]]\n",
      "2023-05-13 18:25:59.130339: I tensorflow/core/common_runtime/executor.cc:1197] [/device:CPU:0] (DEBUG INFO) Executor start aborting (this does not indicate an error and you can ignore this message): INVALID_ARGUMENT: You must feed a value for placeholder tensor 'Placeholder/_1' with dtype float and shape [500]\n",
      "\t [[{{node Placeholder/_1}}]]\n",
      "2023-05-13 18:25:59.134358: I tensorflow/core/common_runtime/executor.cc:1197] [/device:CPU:0] (DEBUG INFO) Executor start aborting (this does not indicate an error and you can ignore this message): INVALID_ARGUMENT: You must feed a value for placeholder tensor 'Placeholder/_1' with dtype float and shape [500]\n",
      "\t [[{{node Placeholder/_1}}]]\n",
      "2023-05-13 18:25:59.137843: I tensorflow/core/common_runtime/executor.cc:1197] [/device:CPU:0] (DEBUG INFO) Executor start aborting (this does not indicate an error and you can ignore this message): INVALID_ARGUMENT: You must feed a value for placeholder tensor 'Placeholder/_1' with dtype float and shape [500]\n",
      "\t [[{{node Placeholder/_1}}]]\n",
      "2023-05-13 18:25:59.141156: I tensorflow/core/common_runtime/executor.cc:1197] [/device:CPU:0] (DEBUG INFO) Executor start aborting (this does not indicate an error and you can ignore this message): INVALID_ARGUMENT: You must feed a value for placeholder tensor 'Placeholder/_1' with dtype float and shape [500]\n",
      "\t [[{{node Placeholder/_1}}]]\n",
      "2023-05-13 18:25:59.144379: I tensorflow/core/common_runtime/executor.cc:1197] [/device:CPU:0] (DEBUG INFO) Executor start aborting (this does not indicate an error and you can ignore this message): INVALID_ARGUMENT: You must feed a value for placeholder tensor 'Placeholder/_1' with dtype float and shape [500]\n",
      "\t [[{{node Placeholder/_1}}]]\n",
      "2023-05-13 18:25:59.147813: I tensorflow/core/common_runtime/executor.cc:1197] [/device:CPU:0] (DEBUG INFO) Executor start aborting (this does not indicate an error and you can ignore this message): INVALID_ARGUMENT: You must feed a value for placeholder tensor 'Placeholder/_1' with dtype float and shape [500]\n",
      "\t [[{{node Placeholder/_1}}]]\n",
      "2023-05-13 18:25:59.151031: I tensorflow/core/common_runtime/executor.cc:1197] [/device:CPU:0] (DEBUG INFO) Executor start aborting (this does not indicate an error and you can ignore this message): INVALID_ARGUMENT: You must feed a value for placeholder tensor 'Placeholder/_1' with dtype float and shape [500]\n",
      "\t [[{{node Placeholder/_1}}]]\n",
      "2023-05-13 18:25:59.154432: I tensorflow/core/common_runtime/executor.cc:1197] [/device:CPU:0] (DEBUG INFO) Executor start aborting (this does not indicate an error and you can ignore this message): INVALID_ARGUMENT: You must feed a value for placeholder tensor 'Placeholder/_1' with dtype float and shape [500]\n",
      "\t [[{{node Placeholder/_1}}]]\n",
      "2023-05-13 18:25:59.157751: I tensorflow/core/common_runtime/executor.cc:1197] [/device:CPU:0] (DEBUG INFO) Executor start aborting (this does not indicate an error and you can ignore this message): INVALID_ARGUMENT: You must feed a value for placeholder tensor 'Placeholder/_1' with dtype float and shape [500]\n",
      "\t [[{{node Placeholder/_1}}]]\n",
      "2023-05-13 18:25:59.161302: I tensorflow/core/common_runtime/executor.cc:1197] [/device:CPU:0] (DEBUG INFO) Executor start aborting (this does not indicate an error and you can ignore this message): INVALID_ARGUMENT: You must feed a value for placeholder tensor 'Placeholder/_1' with dtype float and shape [500]\n",
      "\t [[{{node Placeholder/_1}}]]\n"
     ]
    },
    {
     "name": "stdout",
     "output_type": "stream",
     "text": [
      "Epoch 2 of 60\n",
      "\n",
      "Testing for epoch 2 index 1:\n",
      "65/65 [==============================] - 0s 488us/step\n"
     ]
    },
    {
     "name": "stderr",
     "output_type": "stream",
     "text": [
      "2023-05-13 18:25:59.439418: I tensorflow/core/common_runtime/executor.cc:1197] [/device:CPU:0] (DEBUG INFO) Executor start aborting (this does not indicate an error and you can ignore this message): INVALID_ARGUMENT: You must feed a value for placeholder tensor 'Placeholder/_1' with dtype int64 and shape [1000]\n",
      "\t [[{{node Placeholder/_1}}]]\n",
      "2023-05-13 18:25:59.513947: I tensorflow/core/common_runtime/executor.cc:1197] [/device:CPU:0] (DEBUG INFO) Executor start aborting (this does not indicate an error and you can ignore this message): INVALID_ARGUMENT: You must feed a value for placeholder tensor 'Placeholder/_1' with dtype float and shape [500]\n",
      "\t [[{{node Placeholder/_1}}]]\n",
      "2023-05-13 18:25:59.518244: I tensorflow/core/common_runtime/executor.cc:1197] [/device:CPU:0] (DEBUG INFO) Executor start aborting (this does not indicate an error and you can ignore this message): INVALID_ARGUMENT: You must feed a value for placeholder tensor 'Placeholder/_1' with dtype float and shape [500]\n",
      "\t [[{{node Placeholder/_1}}]]\n",
      "2023-05-13 18:25:59.521866: I tensorflow/core/common_runtime/executor.cc:1197] [/device:CPU:0] (DEBUG INFO) Executor start aborting (this does not indicate an error and you can ignore this message): INVALID_ARGUMENT: You must feed a value for placeholder tensor 'Placeholder/_1' with dtype float and shape [500]\n",
      "\t [[{{node Placeholder/_1}}]]\n",
      "2023-05-13 18:25:59.525311: I tensorflow/core/common_runtime/executor.cc:1197] [/device:CPU:0] (DEBUG INFO) Executor start aborting (this does not indicate an error and you can ignore this message): INVALID_ARGUMENT: You must feed a value for placeholder tensor 'Placeholder/_1' with dtype float and shape [500]\n",
      "\t [[{{node Placeholder/_1}}]]\n",
      "2023-05-13 18:25:59.529049: I tensorflow/core/common_runtime/executor.cc:1197] [/device:CPU:0] (DEBUG INFO) Executor start aborting (this does not indicate an error and you can ignore this message): INVALID_ARGUMENT: You must feed a value for placeholder tensor 'Placeholder/_1' with dtype float and shape [500]\n",
      "\t [[{{node Placeholder/_1}}]]\n",
      "2023-05-13 18:25:59.532299: I tensorflow/core/common_runtime/executor.cc:1197] [/device:CPU:0] (DEBUG INFO) Executor start aborting (this does not indicate an error and you can ignore this message): INVALID_ARGUMENT: You must feed a value for placeholder tensor 'Placeholder/_1' with dtype float and shape [500]\n",
      "\t [[{{node Placeholder/_1}}]]\n",
      "2023-05-13 18:25:59.535958: I tensorflow/core/common_runtime/executor.cc:1197] [/device:CPU:0] (DEBUG INFO) Executor start aborting (this does not indicate an error and you can ignore this message): INVALID_ARGUMENT: You must feed a value for placeholder tensor 'Placeholder/_1' with dtype float and shape [500]\n",
      "\t [[{{node Placeholder/_1}}]]\n",
      "2023-05-13 18:25:59.539231: I tensorflow/core/common_runtime/executor.cc:1197] [/device:CPU:0] (DEBUG INFO) Executor start aborting (this does not indicate an error and you can ignore this message): INVALID_ARGUMENT: You must feed a value for placeholder tensor 'Placeholder/_1' with dtype float and shape [500]\n",
      "\t [[{{node Placeholder/_1}}]]\n",
      "2023-05-13 18:25:59.542513: I tensorflow/core/common_runtime/executor.cc:1197] [/device:CPU:0] (DEBUG INFO) Executor start aborting (this does not indicate an error and you can ignore this message): INVALID_ARGUMENT: You must feed a value for placeholder tensor 'Placeholder/_1' with dtype float and shape [500]\n",
      "\t [[{{node Placeholder/_1}}]]\n",
      "2023-05-13 18:25:59.546206: I tensorflow/core/common_runtime/executor.cc:1197] [/device:CPU:0] (DEBUG INFO) Executor start aborting (this does not indicate an error and you can ignore this message): INVALID_ARGUMENT: You must feed a value for placeholder tensor 'Placeholder/_1' with dtype float and shape [500]\n",
      "\t [[{{node Placeholder/_1}}]]\n"
     ]
    },
    {
     "name": "stdout",
     "output_type": "stream",
     "text": [
      "\n",
      "Testing for epoch 2 index 2:\n",
      "65/65 [==============================] - 0s 464us/step\n"
     ]
    },
    {
     "name": "stderr",
     "output_type": "stream",
     "text": [
      "2023-05-13 18:25:59.819036: I tensorflow/core/common_runtime/executor.cc:1197] [/device:CPU:0] (DEBUG INFO) Executor start aborting (this does not indicate an error and you can ignore this message): INVALID_ARGUMENT: You must feed a value for placeholder tensor 'Placeholder/_1' with dtype int64 and shape [1000]\n",
      "\t [[{{node Placeholder/_1}}]]\n",
      "2023-05-13 18:25:59.896071: I tensorflow/core/common_runtime/executor.cc:1197] [/device:CPU:0] (DEBUG INFO) Executor start aborting (this does not indicate an error and you can ignore this message): INVALID_ARGUMENT: You must feed a value for placeholder tensor 'Placeholder/_1' with dtype float and shape [500]\n",
      "\t [[{{node Placeholder/_1}}]]\n",
      "2023-05-13 18:25:59.900346: I tensorflow/core/common_runtime/executor.cc:1197] [/device:CPU:0] (DEBUG INFO) Executor start aborting (this does not indicate an error and you can ignore this message): INVALID_ARGUMENT: You must feed a value for placeholder tensor 'Placeholder/_1' with dtype float and shape [500]\n",
      "\t [[{{node Placeholder/_1}}]]\n",
      "2023-05-13 18:25:59.903990: I tensorflow/core/common_runtime/executor.cc:1197] [/device:CPU:0] (DEBUG INFO) Executor start aborting (this does not indicate an error and you can ignore this message): INVALID_ARGUMENT: You must feed a value for placeholder tensor 'Placeholder/_1' with dtype float and shape [500]\n",
      "\t [[{{node Placeholder/_1}}]]\n",
      "2023-05-13 18:25:59.908125: I tensorflow/core/common_runtime/executor.cc:1197] [/device:CPU:0] (DEBUG INFO) Executor start aborting (this does not indicate an error and you can ignore this message): INVALID_ARGUMENT: You must feed a value for placeholder tensor 'Placeholder/_1' with dtype float and shape [500]\n",
      "\t [[{{node Placeholder/_1}}]]\n",
      "2023-05-13 18:25:59.911481: I tensorflow/core/common_runtime/executor.cc:1197] [/device:CPU:0] (DEBUG INFO) Executor start aborting (this does not indicate an error and you can ignore this message): INVALID_ARGUMENT: You must feed a value for placeholder tensor 'Placeholder/_1' with dtype float and shape [500]\n",
      "\t [[{{node Placeholder/_1}}]]\n",
      "2023-05-13 18:25:59.914965: I tensorflow/core/common_runtime/executor.cc:1197] [/device:CPU:0] (DEBUG INFO) Executor start aborting (this does not indicate an error and you can ignore this message): INVALID_ARGUMENT: You must feed a value for placeholder tensor 'Placeholder/_1' with dtype float and shape [500]\n",
      "\t [[{{node Placeholder/_1}}]]\n",
      "2023-05-13 18:25:59.918197: I tensorflow/core/common_runtime/executor.cc:1197] [/device:CPU:0] (DEBUG INFO) Executor start aborting (this does not indicate an error and you can ignore this message): INVALID_ARGUMENT: You must feed a value for placeholder tensor 'Placeholder/_1' with dtype float and shape [500]\n",
      "\t [[{{node Placeholder/_1}}]]\n",
      "2023-05-13 18:25:59.921580: I tensorflow/core/common_runtime/executor.cc:1197] [/device:CPU:0] (DEBUG INFO) Executor start aborting (this does not indicate an error and you can ignore this message): INVALID_ARGUMENT: You must feed a value for placeholder tensor 'Placeholder/_1' with dtype float and shape [500]\n",
      "\t [[{{node Placeholder/_1}}]]\n",
      "2023-05-13 18:25:59.924859: I tensorflow/core/common_runtime/executor.cc:1197] [/device:CPU:0] (DEBUG INFO) Executor start aborting (this does not indicate an error and you can ignore this message): INVALID_ARGUMENT: You must feed a value for placeholder tensor 'Placeholder/_1' with dtype float and shape [500]\n",
      "\t [[{{node Placeholder/_1}}]]\n",
      "2023-05-13 18:25:59.928434: I tensorflow/core/common_runtime/executor.cc:1197] [/device:CPU:0] (DEBUG INFO) Executor start aborting (this does not indicate an error and you can ignore this message): INVALID_ARGUMENT: You must feed a value for placeholder tensor 'Placeholder/_1' with dtype float and shape [500]\n",
      "\t [[{{node Placeholder/_1}}]]\n"
     ]
    },
    {
     "name": "stdout",
     "output_type": "stream",
     "text": [
      "\n",
      "Testing for epoch 2 index 3:\n",
      "65/65 [==============================] - 0s 448us/step\n"
     ]
    },
    {
     "name": "stderr",
     "output_type": "stream",
     "text": [
      "2023-05-13 18:26:00.189459: I tensorflow/core/common_runtime/executor.cc:1197] [/device:CPU:0] (DEBUG INFO) Executor start aborting (this does not indicate an error and you can ignore this message): INVALID_ARGUMENT: You must feed a value for placeholder tensor 'Placeholder/_1' with dtype int64 and shape [1000]\n",
      "\t [[{{node Placeholder/_1}}]]\n",
      "2023-05-13 18:26:00.258016: I tensorflow/core/common_runtime/executor.cc:1197] [/device:CPU:0] (DEBUG INFO) Executor start aborting (this does not indicate an error and you can ignore this message): INVALID_ARGUMENT: You must feed a value for placeholder tensor 'Placeholder/_1' with dtype float and shape [500]\n",
      "\t [[{{node Placeholder/_1}}]]\n",
      "2023-05-13 18:26:00.262300: I tensorflow/core/common_runtime/executor.cc:1197] [/device:CPU:0] (DEBUG INFO) Executor start aborting (this does not indicate an error and you can ignore this message): INVALID_ARGUMENT: You must feed a value for placeholder tensor 'Placeholder/_1' with dtype float and shape [500]\n",
      "\t [[{{node Placeholder/_1}}]]\n",
      "2023-05-13 18:26:00.265554: I tensorflow/core/common_runtime/executor.cc:1197] [/device:CPU:0] (DEBUG INFO) Executor start aborting (this does not indicate an error and you can ignore this message): INVALID_ARGUMENT: You must feed a value for placeholder tensor 'Placeholder/_1' with dtype float and shape [500]\n",
      "\t [[{{node Placeholder/_1}}]]\n",
      "2023-05-13 18:26:00.268895: I tensorflow/core/common_runtime/executor.cc:1197] [/device:CPU:0] (DEBUG INFO) Executor start aborting (this does not indicate an error and you can ignore this message): INVALID_ARGUMENT: You must feed a value for placeholder tensor 'Placeholder/_1' with dtype float and shape [500]\n",
      "\t [[{{node Placeholder/_1}}]]\n",
      "2023-05-13 18:26:00.271866: I tensorflow/core/common_runtime/executor.cc:1197] [/device:CPU:0] (DEBUG INFO) Executor start aborting (this does not indicate an error and you can ignore this message): INVALID_ARGUMENT: You must feed a value for placeholder tensor 'Placeholder/_1' with dtype float and shape [500]\n",
      "\t [[{{node Placeholder/_1}}]]\n",
      "2023-05-13 18:26:00.275525: I tensorflow/core/common_runtime/executor.cc:1197] [/device:CPU:0] (DEBUG INFO) Executor start aborting (this does not indicate an error and you can ignore this message): INVALID_ARGUMENT: You must feed a value for placeholder tensor 'Placeholder/_1' with dtype float and shape [500]\n",
      "\t [[{{node Placeholder/_1}}]]\n",
      "2023-05-13 18:26:00.278731: I tensorflow/core/common_runtime/executor.cc:1197] [/device:CPU:0] (DEBUG INFO) Executor start aborting (this does not indicate an error and you can ignore this message): INVALID_ARGUMENT: You must feed a value for placeholder tensor 'Placeholder/_1' with dtype float and shape [500]\n",
      "\t [[{{node Placeholder/_1}}]]\n",
      "2023-05-13 18:26:00.282405: I tensorflow/core/common_runtime/executor.cc:1197] [/device:CPU:0] (DEBUG INFO) Executor start aborting (this does not indicate an error and you can ignore this message): INVALID_ARGUMENT: You must feed a value for placeholder tensor 'Placeholder/_1' with dtype float and shape [500]\n",
      "\t [[{{node Placeholder/_1}}]]\n",
      "2023-05-13 18:26:00.285739: I tensorflow/core/common_runtime/executor.cc:1197] [/device:CPU:0] (DEBUG INFO) Executor start aborting (this does not indicate an error and you can ignore this message): INVALID_ARGUMENT: You must feed a value for placeholder tensor 'Placeholder/_1' with dtype float and shape [500]\n",
      "\t [[{{node Placeholder/_1}}]]\n",
      "2023-05-13 18:26:00.289320: I tensorflow/core/common_runtime/executor.cc:1197] [/device:CPU:0] (DEBUG INFO) Executor start aborting (this does not indicate an error and you can ignore this message): INVALID_ARGUMENT: You must feed a value for placeholder tensor 'Placeholder/_1' with dtype float and shape [500]\n",
      "\t [[{{node Placeholder/_1}}]]\n"
     ]
    },
    {
     "name": "stdout",
     "output_type": "stream",
     "text": [
      "\n",
      "Testing for epoch 2 index 4:\n",
      "65/65 [==============================] - 0s 489us/step\n"
     ]
    },
    {
     "name": "stderr",
     "output_type": "stream",
     "text": [
      "2023-05-13 18:26:00.540586: I tensorflow/core/common_runtime/executor.cc:1197] [/device:CPU:0] (DEBUG INFO) Executor start aborting (this does not indicate an error and you can ignore this message): INVALID_ARGUMENT: You must feed a value for placeholder tensor 'Placeholder/_1' with dtype int64 and shape [1000]\n",
      "\t [[{{node Placeholder/_1}}]]\n",
      "2023-05-13 18:26:00.611637: I tensorflow/core/common_runtime/executor.cc:1197] [/device:CPU:0] (DEBUG INFO) Executor start aborting (this does not indicate an error and you can ignore this message): INVALID_ARGUMENT: You must feed a value for placeholder tensor 'Placeholder/_1' with dtype float and shape [500]\n",
      "\t [[{{node Placeholder/_1}}]]\n",
      "2023-05-13 18:26:00.615879: I tensorflow/core/common_runtime/executor.cc:1197] [/device:CPU:0] (DEBUG INFO) Executor start aborting (this does not indicate an error and you can ignore this message): INVALID_ARGUMENT: You must feed a value for placeholder tensor 'Placeholder/_1' with dtype float and shape [500]\n",
      "\t [[{{node Placeholder/_1}}]]\n",
      "2023-05-13 18:26:00.619230: I tensorflow/core/common_runtime/executor.cc:1197] [/device:CPU:0] (DEBUG INFO) Executor start aborting (this does not indicate an error and you can ignore this message): INVALID_ARGUMENT: You must feed a value for placeholder tensor 'Placeholder/_1' with dtype float and shape [500]\n",
      "\t [[{{node Placeholder/_1}}]]\n",
      "2023-05-13 18:26:00.623259: I tensorflow/core/common_runtime/executor.cc:1197] [/device:CPU:0] (DEBUG INFO) Executor start aborting (this does not indicate an error and you can ignore this message): INVALID_ARGUMENT: You must feed a value for placeholder tensor 'Placeholder/_1' with dtype float and shape [500]\n",
      "\t [[{{node Placeholder/_1}}]]\n",
      "2023-05-13 18:26:00.626156: I tensorflow/core/common_runtime/executor.cc:1197] [/device:CPU:0] (DEBUG INFO) Executor start aborting (this does not indicate an error and you can ignore this message): INVALID_ARGUMENT: You must feed a value for placeholder tensor 'Placeholder/_1' with dtype float and shape [500]\n",
      "\t [[{{node Placeholder/_1}}]]\n",
      "2023-05-13 18:26:00.629857: I tensorflow/core/common_runtime/executor.cc:1197] [/device:CPU:0] (DEBUG INFO) Executor start aborting (this does not indicate an error and you can ignore this message): INVALID_ARGUMENT: You must feed a value for placeholder tensor 'Placeholder/_1' with dtype float and shape [500]\n",
      "\t [[{{node Placeholder/_1}}]]\n",
      "2023-05-13 18:26:00.632887: I tensorflow/core/common_runtime/executor.cc:1197] [/device:CPU:0] (DEBUG INFO) Executor start aborting (this does not indicate an error and you can ignore this message): INVALID_ARGUMENT: You must feed a value for placeholder tensor 'Placeholder/_1' with dtype float and shape [500]\n",
      "\t [[{{node Placeholder/_1}}]]\n",
      "2023-05-13 18:26:00.636547: I tensorflow/core/common_runtime/executor.cc:1197] [/device:CPU:0] (DEBUG INFO) Executor start aborting (this does not indicate an error and you can ignore this message): INVALID_ARGUMENT: You must feed a value for placeholder tensor 'Placeholder/_1' with dtype float and shape [500]\n",
      "\t [[{{node Placeholder/_1}}]]\n",
      "2023-05-13 18:26:00.639629: I tensorflow/core/common_runtime/executor.cc:1197] [/device:CPU:0] (DEBUG INFO) Executor start aborting (this does not indicate an error and you can ignore this message): INVALID_ARGUMENT: You must feed a value for placeholder tensor 'Placeholder/_1' with dtype float and shape [500]\n",
      "\t [[{{node Placeholder/_1}}]]\n",
      "2023-05-13 18:26:00.642998: I tensorflow/core/common_runtime/executor.cc:1197] [/device:CPU:0] (DEBUG INFO) Executor start aborting (this does not indicate an error and you can ignore this message): INVALID_ARGUMENT: You must feed a value for placeholder tensor 'Placeholder/_1' with dtype float and shape [500]\n",
      "\t [[{{node Placeholder/_1}}]]\n"
     ]
    },
    {
     "name": "stdout",
     "output_type": "stream",
     "text": [
      "Epoch 3 of 60\n",
      "\n",
      "Testing for epoch 3 index 1:\n",
      "65/65 [==============================] - 0s 469us/step\n"
     ]
    },
    {
     "name": "stderr",
     "output_type": "stream",
     "text": [
      "2023-05-13 18:26:00.893493: I tensorflow/core/common_runtime/executor.cc:1197] [/device:CPU:0] (DEBUG INFO) Executor start aborting (this does not indicate an error and you can ignore this message): INVALID_ARGUMENT: You must feed a value for placeholder tensor 'Placeholder/_1' with dtype int64 and shape [1000]\n",
      "\t [[{{node Placeholder/_1}}]]\n",
      "2023-05-13 18:26:00.964252: I tensorflow/core/common_runtime/executor.cc:1197] [/device:CPU:0] (DEBUG INFO) Executor start aborting (this does not indicate an error and you can ignore this message): INVALID_ARGUMENT: You must feed a value for placeholder tensor 'Placeholder/_1' with dtype float and shape [500]\n",
      "\t [[{{node Placeholder/_1}}]]\n",
      "2023-05-13 18:26:00.967799: I tensorflow/core/common_runtime/executor.cc:1197] [/device:CPU:0] (DEBUG INFO) Executor start aborting (this does not indicate an error and you can ignore this message): INVALID_ARGUMENT: You must feed a value for placeholder tensor 'Placeholder/_1' with dtype float and shape [500]\n",
      "\t [[{{node Placeholder/_1}}]]\n",
      "2023-05-13 18:26:00.971273: I tensorflow/core/common_runtime/executor.cc:1197] [/device:CPU:0] (DEBUG INFO) Executor start aborting (this does not indicate an error and you can ignore this message): INVALID_ARGUMENT: You must feed a value for placeholder tensor 'Placeholder/_1' with dtype float and shape [500]\n",
      "\t [[{{node Placeholder/_1}}]]\n",
      "2023-05-13 18:26:00.974422: I tensorflow/core/common_runtime/executor.cc:1197] [/device:CPU:0] (DEBUG INFO) Executor start aborting (this does not indicate an error and you can ignore this message): INVALID_ARGUMENT: You must feed a value for placeholder tensor 'Placeholder/_1' with dtype float and shape [500]\n",
      "\t [[{{node Placeholder/_1}}]]\n",
      "2023-05-13 18:26:00.977722: I tensorflow/core/common_runtime/executor.cc:1197] [/device:CPU:0] (DEBUG INFO) Executor start aborting (this does not indicate an error and you can ignore this message): INVALID_ARGUMENT: You must feed a value for placeholder tensor 'Placeholder/_1' with dtype float and shape [500]\n",
      "\t [[{{node Placeholder/_1}}]]\n",
      "2023-05-13 18:26:00.980728: I tensorflow/core/common_runtime/executor.cc:1197] [/device:CPU:0] (DEBUG INFO) Executor start aborting (this does not indicate an error and you can ignore this message): INVALID_ARGUMENT: You must feed a value for placeholder tensor 'Placeholder/_1' with dtype float and shape [500]\n",
      "\t [[{{node Placeholder/_1}}]]\n",
      "2023-05-13 18:26:00.983857: I tensorflow/core/common_runtime/executor.cc:1197] [/device:CPU:0] (DEBUG INFO) Executor start aborting (this does not indicate an error and you can ignore this message): INVALID_ARGUMENT: You must feed a value for placeholder tensor 'Placeholder/_1' with dtype float and shape [500]\n",
      "\t [[{{node Placeholder/_1}}]]\n",
      "2023-05-13 18:26:00.986896: I tensorflow/core/common_runtime/executor.cc:1197] [/device:CPU:0] (DEBUG INFO) Executor start aborting (this does not indicate an error and you can ignore this message): INVALID_ARGUMENT: You must feed a value for placeholder tensor 'Placeholder/_1' with dtype float and shape [500]\n",
      "\t [[{{node Placeholder/_1}}]]\n",
      "2023-05-13 18:26:00.990470: I tensorflow/core/common_runtime/executor.cc:1197] [/device:CPU:0] (DEBUG INFO) Executor start aborting (this does not indicate an error and you can ignore this message): INVALID_ARGUMENT: You must feed a value for placeholder tensor 'Placeholder/_1' with dtype float and shape [500]\n",
      "\t [[{{node Placeholder/_1}}]]\n",
      "2023-05-13 18:26:00.993491: I tensorflow/core/common_runtime/executor.cc:1197] [/device:CPU:0] (DEBUG INFO) Executor start aborting (this does not indicate an error and you can ignore this message): INVALID_ARGUMENT: You must feed a value for placeholder tensor 'Placeholder/_1' with dtype float and shape [500]\n",
      "\t [[{{node Placeholder/_1}}]]\n"
     ]
    },
    {
     "name": "stdout",
     "output_type": "stream",
     "text": [
      "\n",
      "Testing for epoch 3 index 2:\n",
      "65/65 [==============================] - 0s 457us/step\n"
     ]
    },
    {
     "name": "stderr",
     "output_type": "stream",
     "text": [
      "2023-05-13 18:26:01.251031: I tensorflow/core/common_runtime/executor.cc:1197] [/device:CPU:0] (DEBUG INFO) Executor start aborting (this does not indicate an error and you can ignore this message): INVALID_ARGUMENT: You must feed a value for placeholder tensor 'Placeholder/_1' with dtype int64 and shape [1000]\n",
      "\t [[{{node Placeholder/_1}}]]\n",
      "2023-05-13 18:26:01.319107: I tensorflow/core/common_runtime/executor.cc:1197] [/device:CPU:0] (DEBUG INFO) Executor start aborting (this does not indicate an error and you can ignore this message): INVALID_ARGUMENT: You must feed a value for placeholder tensor 'Placeholder/_1' with dtype float and shape [500]\n",
      "\t [[{{node Placeholder/_1}}]]\n",
      "2023-05-13 18:26:01.322951: I tensorflow/core/common_runtime/executor.cc:1197] [/device:CPU:0] (DEBUG INFO) Executor start aborting (this does not indicate an error and you can ignore this message): INVALID_ARGUMENT: You must feed a value for placeholder tensor 'Placeholder/_1' with dtype float and shape [500]\n",
      "\t [[{{node Placeholder/_1}}]]\n",
      "2023-05-13 18:26:01.326152: I tensorflow/core/common_runtime/executor.cc:1197] [/device:CPU:0] (DEBUG INFO) Executor start aborting (this does not indicate an error and you can ignore this message): INVALID_ARGUMENT: You must feed a value for placeholder tensor 'Placeholder/_1' with dtype float and shape [500]\n",
      "\t [[{{node Placeholder/_1}}]]\n",
      "2023-05-13 18:26:01.329133: I tensorflow/core/common_runtime/executor.cc:1197] [/device:CPU:0] (DEBUG INFO) Executor start aborting (this does not indicate an error and you can ignore this message): INVALID_ARGUMENT: You must feed a value for placeholder tensor 'Placeholder/_1' with dtype float and shape [500]\n",
      "\t [[{{node Placeholder/_1}}]]\n",
      "2023-05-13 18:26:01.332384: I tensorflow/core/common_runtime/executor.cc:1197] [/device:CPU:0] (DEBUG INFO) Executor start aborting (this does not indicate an error and you can ignore this message): INVALID_ARGUMENT: You must feed a value for placeholder tensor 'Placeholder/_1' with dtype float and shape [500]\n",
      "\t [[{{node Placeholder/_1}}]]\n",
      "2023-05-13 18:26:01.335449: I tensorflow/core/common_runtime/executor.cc:1197] [/device:CPU:0] (DEBUG INFO) Executor start aborting (this does not indicate an error and you can ignore this message): INVALID_ARGUMENT: You must feed a value for placeholder tensor 'Placeholder/_1' with dtype float and shape [500]\n",
      "\t [[{{node Placeholder/_1}}]]\n",
      "2023-05-13 18:26:01.338913: I tensorflow/core/common_runtime/executor.cc:1197] [/device:CPU:0] (DEBUG INFO) Executor start aborting (this does not indicate an error and you can ignore this message): INVALID_ARGUMENT: You must feed a value for placeholder tensor 'Placeholder/_1' with dtype float and shape [500]\n",
      "\t [[{{node Placeholder/_1}}]]\n",
      "2023-05-13 18:26:01.341859: I tensorflow/core/common_runtime/executor.cc:1197] [/device:CPU:0] (DEBUG INFO) Executor start aborting (this does not indicate an error and you can ignore this message): INVALID_ARGUMENT: You must feed a value for placeholder tensor 'Placeholder/_1' with dtype float and shape [500]\n",
      "\t [[{{node Placeholder/_1}}]]\n",
      "2023-05-13 18:26:01.345597: I tensorflow/core/common_runtime/executor.cc:1197] [/device:CPU:0] (DEBUG INFO) Executor start aborting (this does not indicate an error and you can ignore this message): INVALID_ARGUMENT: You must feed a value for placeholder tensor 'Placeholder/_1' with dtype float and shape [500]\n",
      "\t [[{{node Placeholder/_1}}]]\n",
      "2023-05-13 18:26:01.348531: I tensorflow/core/common_runtime/executor.cc:1197] [/device:CPU:0] (DEBUG INFO) Executor start aborting (this does not indicate an error and you can ignore this message): INVALID_ARGUMENT: You must feed a value for placeholder tensor 'Placeholder/_1' with dtype float and shape [500]\n",
      "\t [[{{node Placeholder/_1}}]]\n"
     ]
    },
    {
     "name": "stdout",
     "output_type": "stream",
     "text": [
      "\n",
      "Testing for epoch 3 index 3:\n",
      "65/65 [==============================] - 0s 466us/step\n"
     ]
    },
    {
     "name": "stderr",
     "output_type": "stream",
     "text": [
      "2023-05-13 18:26:01.591667: I tensorflow/core/common_runtime/executor.cc:1197] [/device:CPU:0] (DEBUG INFO) Executor start aborting (this does not indicate an error and you can ignore this message): INVALID_ARGUMENT: You must feed a value for placeholder tensor 'Placeholder/_1' with dtype int64 and shape [1000]\n",
      "\t [[{{node Placeholder/_1}}]]\n",
      "2023-05-13 18:26:01.661026: I tensorflow/core/common_runtime/executor.cc:1197] [/device:CPU:0] (DEBUG INFO) Executor start aborting (this does not indicate an error and you can ignore this message): INVALID_ARGUMENT: You must feed a value for placeholder tensor 'Placeholder/_1' with dtype float and shape [500]\n",
      "\t [[{{node Placeholder/_1}}]]\n",
      "2023-05-13 18:26:01.664846: I tensorflow/core/common_runtime/executor.cc:1197] [/device:CPU:0] (DEBUG INFO) Executor start aborting (this does not indicate an error and you can ignore this message): INVALID_ARGUMENT: You must feed a value for placeholder tensor 'Placeholder/_1' with dtype float and shape [500]\n",
      "\t [[{{node Placeholder/_1}}]]\n",
      "2023-05-13 18:26:01.667859: I tensorflow/core/common_runtime/executor.cc:1197] [/device:CPU:0] (DEBUG INFO) Executor start aborting (this does not indicate an error and you can ignore this message): INVALID_ARGUMENT: You must feed a value for placeholder tensor 'Placeholder/_1' with dtype float and shape [500]\n",
      "\t [[{{node Placeholder/_1}}]]\n",
      "2023-05-13 18:26:01.671339: I tensorflow/core/common_runtime/executor.cc:1197] [/device:CPU:0] (DEBUG INFO) Executor start aborting (this does not indicate an error and you can ignore this message): INVALID_ARGUMENT: You must feed a value for placeholder tensor 'Placeholder/_1' with dtype float and shape [500]\n",
      "\t [[{{node Placeholder/_1}}]]\n",
      "2023-05-13 18:26:01.674214: I tensorflow/core/common_runtime/executor.cc:1197] [/device:CPU:0] (DEBUG INFO) Executor start aborting (this does not indicate an error and you can ignore this message): INVALID_ARGUMENT: You must feed a value for placeholder tensor 'Placeholder/_1' with dtype float and shape [500]\n",
      "\t [[{{node Placeholder/_1}}]]\n",
      "2023-05-13 18:26:01.677906: I tensorflow/core/common_runtime/executor.cc:1197] [/device:CPU:0] (DEBUG INFO) Executor start aborting (this does not indicate an error and you can ignore this message): INVALID_ARGUMENT: You must feed a value for placeholder tensor 'Placeholder/_1' with dtype float and shape [500]\n",
      "\t [[{{node Placeholder/_1}}]]\n",
      "2023-05-13 18:26:01.680810: I tensorflow/core/common_runtime/executor.cc:1197] [/device:CPU:0] (DEBUG INFO) Executor start aborting (this does not indicate an error and you can ignore this message): INVALID_ARGUMENT: You must feed a value for placeholder tensor 'Placeholder/_1' with dtype float and shape [500]\n",
      "\t [[{{node Placeholder/_1}}]]\n",
      "2023-05-13 18:26:01.684753: I tensorflow/core/common_runtime/executor.cc:1197] [/device:CPU:0] (DEBUG INFO) Executor start aborting (this does not indicate an error and you can ignore this message): INVALID_ARGUMENT: You must feed a value for placeholder tensor 'Placeholder/_1' with dtype float and shape [500]\n",
      "\t [[{{node Placeholder/_1}}]]\n",
      "2023-05-13 18:26:01.687712: I tensorflow/core/common_runtime/executor.cc:1197] [/device:CPU:0] (DEBUG INFO) Executor start aborting (this does not indicate an error and you can ignore this message): INVALID_ARGUMENT: You must feed a value for placeholder tensor 'Placeholder/_1' with dtype float and shape [500]\n",
      "\t [[{{node Placeholder/_1}}]]\n",
      "2023-05-13 18:26:01.691137: I tensorflow/core/common_runtime/executor.cc:1197] [/device:CPU:0] (DEBUG INFO) Executor start aborting (this does not indicate an error and you can ignore this message): INVALID_ARGUMENT: You must feed a value for placeholder tensor 'Placeholder/_1' with dtype float and shape [500]\n",
      "\t [[{{node Placeholder/_1}}]]\n"
     ]
    },
    {
     "name": "stdout",
     "output_type": "stream",
     "text": [
      "\n",
      "Testing for epoch 3 index 4:\n",
      "65/65 [==============================] - 0s 459us/step\n"
     ]
    },
    {
     "name": "stderr",
     "output_type": "stream",
     "text": [
      "2023-05-13 18:26:01.931251: I tensorflow/core/common_runtime/executor.cc:1197] [/device:CPU:0] (DEBUG INFO) Executor start aborting (this does not indicate an error and you can ignore this message): INVALID_ARGUMENT: You must feed a value for placeholder tensor 'Placeholder/_1' with dtype int64 and shape [1000]\n",
      "\t [[{{node Placeholder/_1}}]]\n",
      "2023-05-13 18:26:01.999331: I tensorflow/core/common_runtime/executor.cc:1197] [/device:CPU:0] (DEBUG INFO) Executor start aborting (this does not indicate an error and you can ignore this message): INVALID_ARGUMENT: You must feed a value for placeholder tensor 'Placeholder/_1' with dtype float and shape [500]\n",
      "\t [[{{node Placeholder/_1}}]]\n",
      "2023-05-13 18:26:02.002850: I tensorflow/core/common_runtime/executor.cc:1197] [/device:CPU:0] (DEBUG INFO) Executor start aborting (this does not indicate an error and you can ignore this message): INVALID_ARGUMENT: You must feed a value for placeholder tensor 'Placeholder/_1' with dtype float and shape [500]\n",
      "\t [[{{node Placeholder/_1}}]]\n",
      "2023-05-13 18:26:02.006022: I tensorflow/core/common_runtime/executor.cc:1197] [/device:CPU:0] (DEBUG INFO) Executor start aborting (this does not indicate an error and you can ignore this message): INVALID_ARGUMENT: You must feed a value for placeholder tensor 'Placeholder/_1' with dtype float and shape [500]\n",
      "\t [[{{node Placeholder/_1}}]]\n",
      "2023-05-13 18:26:02.008872: I tensorflow/core/common_runtime/executor.cc:1197] [/device:CPU:0] (DEBUG INFO) Executor start aborting (this does not indicate an error and you can ignore this message): INVALID_ARGUMENT: You must feed a value for placeholder tensor 'Placeholder/_1' with dtype float and shape [500]\n",
      "\t [[{{node Placeholder/_1}}]]\n",
      "2023-05-13 18:26:02.012190: I tensorflow/core/common_runtime/executor.cc:1197] [/device:CPU:0] (DEBUG INFO) Executor start aborting (this does not indicate an error and you can ignore this message): INVALID_ARGUMENT: You must feed a value for placeholder tensor 'Placeholder/_1' with dtype float and shape [500]\n",
      "\t [[{{node Placeholder/_1}}]]\n",
      "2023-05-13 18:26:02.015176: I tensorflow/core/common_runtime/executor.cc:1197] [/device:CPU:0] (DEBUG INFO) Executor start aborting (this does not indicate an error and you can ignore this message): INVALID_ARGUMENT: You must feed a value for placeholder tensor 'Placeholder/_1' with dtype float and shape [500]\n",
      "\t [[{{node Placeholder/_1}}]]\n",
      "2023-05-13 18:26:02.018957: I tensorflow/core/common_runtime/executor.cc:1197] [/device:CPU:0] (DEBUG INFO) Executor start aborting (this does not indicate an error and you can ignore this message): INVALID_ARGUMENT: You must feed a value for placeholder tensor 'Placeholder/_1' with dtype float and shape [500]\n",
      "\t [[{{node Placeholder/_1}}]]\n",
      "2023-05-13 18:26:02.022165: I tensorflow/core/common_runtime/executor.cc:1197] [/device:CPU:0] (DEBUG INFO) Executor start aborting (this does not indicate an error and you can ignore this message): INVALID_ARGUMENT: You must feed a value for placeholder tensor 'Placeholder/_1' with dtype float and shape [500]\n",
      "\t [[{{node Placeholder/_1}}]]\n",
      "2023-05-13 18:26:02.025914: I tensorflow/core/common_runtime/executor.cc:1197] [/device:CPU:0] (DEBUG INFO) Executor start aborting (this does not indicate an error and you can ignore this message): INVALID_ARGUMENT: You must feed a value for placeholder tensor 'Placeholder/_1' with dtype float and shape [500]\n",
      "\t [[{{node Placeholder/_1}}]]\n",
      "2023-05-13 18:26:02.029047: I tensorflow/core/common_runtime/executor.cc:1197] [/device:CPU:0] (DEBUG INFO) Executor start aborting (this does not indicate an error and you can ignore this message): INVALID_ARGUMENT: You must feed a value for placeholder tensor 'Placeholder/_1' with dtype float and shape [500]\n",
      "\t [[{{node Placeholder/_1}}]]\n"
     ]
    },
    {
     "name": "stdout",
     "output_type": "stream",
     "text": [
      "Epoch 4 of 60\n",
      "\n",
      "Testing for epoch 4 index 1:\n",
      "65/65 [==============================] - 0s 466us/step\n"
     ]
    },
    {
     "name": "stderr",
     "output_type": "stream",
     "text": [
      "2023-05-13 18:26:02.289493: I tensorflow/core/common_runtime/executor.cc:1197] [/device:CPU:0] (DEBUG INFO) Executor start aborting (this does not indicate an error and you can ignore this message): INVALID_ARGUMENT: You must feed a value for placeholder tensor 'Placeholder/_1' with dtype int64 and shape [1000]\n",
      "\t [[{{node Placeholder/_1}}]]\n",
      "2023-05-13 18:26:02.363729: I tensorflow/core/common_runtime/executor.cc:1197] [/device:CPU:0] (DEBUG INFO) Executor start aborting (this does not indicate an error and you can ignore this message): INVALID_ARGUMENT: You must feed a value for placeholder tensor 'Placeholder/_1' with dtype float and shape [500]\n",
      "\t [[{{node Placeholder/_1}}]]\n",
      "2023-05-13 18:26:02.367742: I tensorflow/core/common_runtime/executor.cc:1197] [/device:CPU:0] (DEBUG INFO) Executor start aborting (this does not indicate an error and you can ignore this message): INVALID_ARGUMENT: You must feed a value for placeholder tensor 'Placeholder/_1' with dtype float and shape [500]\n",
      "\t [[{{node Placeholder/_1}}]]\n",
      "2023-05-13 18:26:02.371329: I tensorflow/core/common_runtime/executor.cc:1197] [/device:CPU:0] (DEBUG INFO) Executor start aborting (this does not indicate an error and you can ignore this message): INVALID_ARGUMENT: You must feed a value for placeholder tensor 'Placeholder/_1' with dtype float and shape [500]\n",
      "\t [[{{node Placeholder/_1}}]]\n",
      "2023-05-13 18:26:02.374832: I tensorflow/core/common_runtime/executor.cc:1197] [/device:CPU:0] (DEBUG INFO) Executor start aborting (this does not indicate an error and you can ignore this message): INVALID_ARGUMENT: You must feed a value for placeholder tensor 'Placeholder/_1' with dtype float and shape [500]\n",
      "\t [[{{node Placeholder/_1}}]]\n",
      "2023-05-13 18:26:02.377929: I tensorflow/core/common_runtime/executor.cc:1197] [/device:CPU:0] (DEBUG INFO) Executor start aborting (this does not indicate an error and you can ignore this message): INVALID_ARGUMENT: You must feed a value for placeholder tensor 'Placeholder/_1' with dtype float and shape [500]\n",
      "\t [[{{node Placeholder/_1}}]]\n",
      "2023-05-13 18:26:02.381131: I tensorflow/core/common_runtime/executor.cc:1197] [/device:CPU:0] (DEBUG INFO) Executor start aborting (this does not indicate an error and you can ignore this message): INVALID_ARGUMENT: You must feed a value for placeholder tensor 'Placeholder/_1' with dtype float and shape [500]\n",
      "\t [[{{node Placeholder/_1}}]]\n",
      "2023-05-13 18:26:02.384150: I tensorflow/core/common_runtime/executor.cc:1197] [/device:CPU:0] (DEBUG INFO) Executor start aborting (this does not indicate an error and you can ignore this message): INVALID_ARGUMENT: You must feed a value for placeholder tensor 'Placeholder/_1' with dtype float and shape [500]\n",
      "\t [[{{node Placeholder/_1}}]]\n",
      "2023-05-13 18:26:02.387493: I tensorflow/core/common_runtime/executor.cc:1197] [/device:CPU:0] (DEBUG INFO) Executor start aborting (this does not indicate an error and you can ignore this message): INVALID_ARGUMENT: You must feed a value for placeholder tensor 'Placeholder/_1' with dtype float and shape [500]\n",
      "\t [[{{node Placeholder/_1}}]]\n",
      "2023-05-13 18:26:02.390637: I tensorflow/core/common_runtime/executor.cc:1197] [/device:CPU:0] (DEBUG INFO) Executor start aborting (this does not indicate an error and you can ignore this message): INVALID_ARGUMENT: You must feed a value for placeholder tensor 'Placeholder/_1' with dtype float and shape [500]\n",
      "\t [[{{node Placeholder/_1}}]]\n",
      "2023-05-13 18:26:02.394064: I tensorflow/core/common_runtime/executor.cc:1197] [/device:CPU:0] (DEBUG INFO) Executor start aborting (this does not indicate an error and you can ignore this message): INVALID_ARGUMENT: You must feed a value for placeholder tensor 'Placeholder/_1' with dtype float and shape [500]\n",
      "\t [[{{node Placeholder/_1}}]]\n"
     ]
    },
    {
     "name": "stdout",
     "output_type": "stream",
     "text": [
      "\n",
      "Testing for epoch 4 index 2:\n",
      "65/65 [==============================] - 0s 463us/step\n"
     ]
    },
    {
     "name": "stderr",
     "output_type": "stream",
     "text": [
      "2023-05-13 18:26:02.648064: I tensorflow/core/common_runtime/executor.cc:1197] [/device:CPU:0] (DEBUG INFO) Executor start aborting (this does not indicate an error and you can ignore this message): INVALID_ARGUMENT: You must feed a value for placeholder tensor 'Placeholder/_1' with dtype int64 and shape [1000]\n",
      "\t [[{{node Placeholder/_1}}]]\n",
      "2023-05-13 18:26:02.719682: I tensorflow/core/common_runtime/executor.cc:1197] [/device:CPU:0] (DEBUG INFO) Executor start aborting (this does not indicate an error and you can ignore this message): INVALID_ARGUMENT: You must feed a value for placeholder tensor 'Placeholder/_1' with dtype float and shape [500]\n",
      "\t [[{{node Placeholder/_1}}]]\n",
      "2023-05-13 18:26:02.723027: I tensorflow/core/common_runtime/executor.cc:1197] [/device:CPU:0] (DEBUG INFO) Executor start aborting (this does not indicate an error and you can ignore this message): INVALID_ARGUMENT: You must feed a value for placeholder tensor 'Placeholder/_1' with dtype float and shape [500]\n",
      "\t [[{{node Placeholder/_1}}]]\n",
      "2023-05-13 18:26:02.726826: I tensorflow/core/common_runtime/executor.cc:1197] [/device:CPU:0] (DEBUG INFO) Executor start aborting (this does not indicate an error and you can ignore this message): INVALID_ARGUMENT: You must feed a value for placeholder tensor 'Placeholder/_1' with dtype float and shape [500]\n",
      "\t [[{{node Placeholder/_1}}]]\n",
      "2023-05-13 18:26:02.729922: I tensorflow/core/common_runtime/executor.cc:1197] [/device:CPU:0] (DEBUG INFO) Executor start aborting (this does not indicate an error and you can ignore this message): INVALID_ARGUMENT: You must feed a value for placeholder tensor 'Placeholder/_1' with dtype float and shape [500]\n",
      "\t [[{{node Placeholder/_1}}]]\n",
      "2023-05-13 18:26:02.733498: I tensorflow/core/common_runtime/executor.cc:1197] [/device:CPU:0] (DEBUG INFO) Executor start aborting (this does not indicate an error and you can ignore this message): INVALID_ARGUMENT: You must feed a value for placeholder tensor 'Placeholder/_1' with dtype float and shape [500]\n",
      "\t [[{{node Placeholder/_1}}]]\n",
      "2023-05-13 18:26:02.736444: I tensorflow/core/common_runtime/executor.cc:1197] [/device:CPU:0] (DEBUG INFO) Executor start aborting (this does not indicate an error and you can ignore this message): INVALID_ARGUMENT: You must feed a value for placeholder tensor 'Placeholder/_1' with dtype float and shape [500]\n",
      "\t [[{{node Placeholder/_1}}]]\n",
      "2023-05-13 18:26:02.740251: I tensorflow/core/common_runtime/executor.cc:1197] [/device:CPU:0] (DEBUG INFO) Executor start aborting (this does not indicate an error and you can ignore this message): INVALID_ARGUMENT: You must feed a value for placeholder tensor 'Placeholder/_1' with dtype float and shape [500]\n",
      "\t [[{{node Placeholder/_1}}]]\n",
      "2023-05-13 18:26:02.743294: I tensorflow/core/common_runtime/executor.cc:1197] [/device:CPU:0] (DEBUG INFO) Executor start aborting (this does not indicate an error and you can ignore this message): INVALID_ARGUMENT: You must feed a value for placeholder tensor 'Placeholder/_1' with dtype float and shape [500]\n",
      "\t [[{{node Placeholder/_1}}]]\n",
      "2023-05-13 18:26:02.746933: I tensorflow/core/common_runtime/executor.cc:1197] [/device:CPU:0] (DEBUG INFO) Executor start aborting (this does not indicate an error and you can ignore this message): INVALID_ARGUMENT: You must feed a value for placeholder tensor 'Placeholder/_1' with dtype float and shape [500]\n",
      "\t [[{{node Placeholder/_1}}]]\n",
      "2023-05-13 18:26:02.749874: I tensorflow/core/common_runtime/executor.cc:1197] [/device:CPU:0] (DEBUG INFO) Executor start aborting (this does not indicate an error and you can ignore this message): INVALID_ARGUMENT: You must feed a value for placeholder tensor 'Placeholder/_1' with dtype float and shape [500]\n",
      "\t [[{{node Placeholder/_1}}]]\n"
     ]
    },
    {
     "name": "stdout",
     "output_type": "stream",
     "text": [
      "\n",
      "Testing for epoch 4 index 3:\n",
      "65/65 [==============================] - 0s 451us/step\n"
     ]
    },
    {
     "name": "stderr",
     "output_type": "stream",
     "text": [
      "2023-05-13 18:26:02.998577: I tensorflow/core/common_runtime/executor.cc:1197] [/device:CPU:0] (DEBUG INFO) Executor start aborting (this does not indicate an error and you can ignore this message): INVALID_ARGUMENT: You must feed a value for placeholder tensor 'Placeholder/_1' with dtype int64 and shape [1000]\n",
      "\t [[{{node Placeholder/_1}}]]\n",
      "2023-05-13 18:26:03.067898: I tensorflow/core/common_runtime/executor.cc:1197] [/device:CPU:0] (DEBUG INFO) Executor start aborting (this does not indicate an error and you can ignore this message): INVALID_ARGUMENT: You must feed a value for placeholder tensor 'Placeholder/_1' with dtype float and shape [500]\n",
      "\t [[{{node Placeholder/_1}}]]\n",
      "2023-05-13 18:26:03.071410: I tensorflow/core/common_runtime/executor.cc:1197] [/device:CPU:0] (DEBUG INFO) Executor start aborting (this does not indicate an error and you can ignore this message): INVALID_ARGUMENT: You must feed a value for placeholder tensor 'Placeholder/_1' with dtype float and shape [500]\n",
      "\t [[{{node Placeholder/_1}}]]\n",
      "2023-05-13 18:26:03.074812: I tensorflow/core/common_runtime/executor.cc:1197] [/device:CPU:0] (DEBUG INFO) Executor start aborting (this does not indicate an error and you can ignore this message): INVALID_ARGUMENT: You must feed a value for placeholder tensor 'Placeholder/_1' with dtype float and shape [500]\n",
      "\t [[{{node Placeholder/_1}}]]\n",
      "2023-05-13 18:26:03.077875: I tensorflow/core/common_runtime/executor.cc:1197] [/device:CPU:0] (DEBUG INFO) Executor start aborting (this does not indicate an error and you can ignore this message): INVALID_ARGUMENT: You must feed a value for placeholder tensor 'Placeholder/_1' with dtype float and shape [500]\n",
      "\t [[{{node Placeholder/_1}}]]\n",
      "2023-05-13 18:26:03.081194: I tensorflow/core/common_runtime/executor.cc:1197] [/device:CPU:0] (DEBUG INFO) Executor start aborting (this does not indicate an error and you can ignore this message): INVALID_ARGUMENT: You must feed a value for placeholder tensor 'Placeholder/_1' with dtype float and shape [500]\n",
      "\t [[{{node Placeholder/_1}}]]\n",
      "2023-05-13 18:26:03.084047: I tensorflow/core/common_runtime/executor.cc:1197] [/device:CPU:0] (DEBUG INFO) Executor start aborting (this does not indicate an error and you can ignore this message): INVALID_ARGUMENT: You must feed a value for placeholder tensor 'Placeholder/_1' with dtype float and shape [500]\n",
      "\t [[{{node Placeholder/_1}}]]\n",
      "2023-05-13 18:26:03.087744: I tensorflow/core/common_runtime/executor.cc:1197] [/device:CPU:0] (DEBUG INFO) Executor start aborting (this does not indicate an error and you can ignore this message): INVALID_ARGUMENT: You must feed a value for placeholder tensor 'Placeholder/_1' with dtype float and shape [500]\n",
      "\t [[{{node Placeholder/_1}}]]\n",
      "2023-05-13 18:26:03.090607: I tensorflow/core/common_runtime/executor.cc:1197] [/device:CPU:0] (DEBUG INFO) Executor start aborting (this does not indicate an error and you can ignore this message): INVALID_ARGUMENT: You must feed a value for placeholder tensor 'Placeholder/_1' with dtype float and shape [500]\n",
      "\t [[{{node Placeholder/_1}}]]\n",
      "2023-05-13 18:26:03.094209: I tensorflow/core/common_runtime/executor.cc:1197] [/device:CPU:0] (DEBUG INFO) Executor start aborting (this does not indicate an error and you can ignore this message): INVALID_ARGUMENT: You must feed a value for placeholder tensor 'Placeholder/_1' with dtype float and shape [500]\n",
      "\t [[{{node Placeholder/_1}}]]\n",
      "2023-05-13 18:26:03.097351: I tensorflow/core/common_runtime/executor.cc:1197] [/device:CPU:0] (DEBUG INFO) Executor start aborting (this does not indicate an error and you can ignore this message): INVALID_ARGUMENT: You must feed a value for placeholder tensor 'Placeholder/_1' with dtype float and shape [500]\n",
      "\t [[{{node Placeholder/_1}}]]\n"
     ]
    },
    {
     "name": "stdout",
     "output_type": "stream",
     "text": [
      "\n",
      "Testing for epoch 4 index 4:\n",
      "65/65 [==============================] - 0s 459us/step\n"
     ]
    },
    {
     "name": "stderr",
     "output_type": "stream",
     "text": [
      "2023-05-13 18:26:03.342849: I tensorflow/core/common_runtime/executor.cc:1197] [/device:CPU:0] (DEBUG INFO) Executor start aborting (this does not indicate an error and you can ignore this message): INVALID_ARGUMENT: You must feed a value for placeholder tensor 'Placeholder/_1' with dtype int64 and shape [1000]\n",
      "\t [[{{node Placeholder/_1}}]]\n",
      "2023-05-13 18:26:03.412283: I tensorflow/core/common_runtime/executor.cc:1197] [/device:CPU:0] (DEBUG INFO) Executor start aborting (this does not indicate an error and you can ignore this message): INVALID_ARGUMENT: You must feed a value for placeholder tensor 'Placeholder/_1' with dtype float and shape [500]\n",
      "\t [[{{node Placeholder/_1}}]]\n",
      "2023-05-13 18:26:03.415935: I tensorflow/core/common_runtime/executor.cc:1197] [/device:CPU:0] (DEBUG INFO) Executor start aborting (this does not indicate an error and you can ignore this message): INVALID_ARGUMENT: You must feed a value for placeholder tensor 'Placeholder/_1' with dtype float and shape [500]\n",
      "\t [[{{node Placeholder/_1}}]]\n",
      "2023-05-13 18:26:03.419250: I tensorflow/core/common_runtime/executor.cc:1197] [/device:CPU:0] (DEBUG INFO) Executor start aborting (this does not indicate an error and you can ignore this message): INVALID_ARGUMENT: You must feed a value for placeholder tensor 'Placeholder/_1' with dtype float and shape [500]\n",
      "\t [[{{node Placeholder/_1}}]]\n",
      "2023-05-13 18:26:03.422405: I tensorflow/core/common_runtime/executor.cc:1197] [/device:CPU:0] (DEBUG INFO) Executor start aborting (this does not indicate an error and you can ignore this message): INVALID_ARGUMENT: You must feed a value for placeholder tensor 'Placeholder/_1' with dtype float and shape [500]\n",
      "\t [[{{node Placeholder/_1}}]]\n",
      "2023-05-13 18:26:03.425309: I tensorflow/core/common_runtime/executor.cc:1197] [/device:CPU:0] (DEBUG INFO) Executor start aborting (this does not indicate an error and you can ignore this message): INVALID_ARGUMENT: You must feed a value for placeholder tensor 'Placeholder/_1' with dtype float and shape [500]\n",
      "\t [[{{node Placeholder/_1}}]]\n",
      "2023-05-13 18:26:03.428725: I tensorflow/core/common_runtime/executor.cc:1197] [/device:CPU:0] (DEBUG INFO) Executor start aborting (this does not indicate an error and you can ignore this message): INVALID_ARGUMENT: You must feed a value for placeholder tensor 'Placeholder/_1' with dtype float and shape [500]\n",
      "\t [[{{node Placeholder/_1}}]]\n",
      "2023-05-13 18:26:03.431711: I tensorflow/core/common_runtime/executor.cc:1197] [/device:CPU:0] (DEBUG INFO) Executor start aborting (this does not indicate an error and you can ignore this message): INVALID_ARGUMENT: You must feed a value for placeholder tensor 'Placeholder/_1' with dtype float and shape [500]\n",
      "\t [[{{node Placeholder/_1}}]]\n",
      "2023-05-13 18:26:03.435308: I tensorflow/core/common_runtime/executor.cc:1197] [/device:CPU:0] (DEBUG INFO) Executor start aborting (this does not indicate an error and you can ignore this message): INVALID_ARGUMENT: You must feed a value for placeholder tensor 'Placeholder/_1' with dtype float and shape [500]\n",
      "\t [[{{node Placeholder/_1}}]]\n",
      "2023-05-13 18:26:03.438434: I tensorflow/core/common_runtime/executor.cc:1197] [/device:CPU:0] (DEBUG INFO) Executor start aborting (this does not indicate an error and you can ignore this message): INVALID_ARGUMENT: You must feed a value for placeholder tensor 'Placeholder/_1' with dtype float and shape [500]\n",
      "\t [[{{node Placeholder/_1}}]]\n",
      "2023-05-13 18:26:03.442220: I tensorflow/core/common_runtime/executor.cc:1197] [/device:CPU:0] (DEBUG INFO) Executor start aborting (this does not indicate an error and you can ignore this message): INVALID_ARGUMENT: You must feed a value for placeholder tensor 'Placeholder/_1' with dtype float and shape [500]\n",
      "\t [[{{node Placeholder/_1}}]]\n"
     ]
    },
    {
     "name": "stdout",
     "output_type": "stream",
     "text": [
      "Epoch 5 of 60\n",
      "\n",
      "Testing for epoch 5 index 1:\n",
      "65/65 [==============================] - 0s 458us/step\n"
     ]
    },
    {
     "name": "stderr",
     "output_type": "stream",
     "text": [
      "2023-05-13 18:26:03.713291: I tensorflow/core/common_runtime/executor.cc:1197] [/device:CPU:0] (DEBUG INFO) Executor start aborting (this does not indicate an error and you can ignore this message): INVALID_ARGUMENT: You must feed a value for placeholder tensor 'Placeholder/_1' with dtype int64 and shape [1000]\n",
      "\t [[{{node Placeholder/_1}}]]\n",
      "2023-05-13 18:26:03.782489: I tensorflow/core/common_runtime/executor.cc:1197] [/device:CPU:0] (DEBUG INFO) Executor start aborting (this does not indicate an error and you can ignore this message): INVALID_ARGUMENT: You must feed a value for placeholder tensor 'Placeholder/_1' with dtype float and shape [500]\n",
      "\t [[{{node Placeholder/_1}}]]\n",
      "2023-05-13 18:26:03.786079: I tensorflow/core/common_runtime/executor.cc:1197] [/device:CPU:0] (DEBUG INFO) Executor start aborting (this does not indicate an error and you can ignore this message): INVALID_ARGUMENT: You must feed a value for placeholder tensor 'Placeholder/_1' with dtype float and shape [500]\n",
      "\t [[{{node Placeholder/_1}}]]\n",
      "2023-05-13 18:26:03.789531: I tensorflow/core/common_runtime/executor.cc:1197] [/device:CPU:0] (DEBUG INFO) Executor start aborting (this does not indicate an error and you can ignore this message): INVALID_ARGUMENT: You must feed a value for placeholder tensor 'Placeholder/_1' with dtype float and shape [500]\n",
      "\t [[{{node Placeholder/_1}}]]\n",
      "2023-05-13 18:26:03.792485: I tensorflow/core/common_runtime/executor.cc:1197] [/device:CPU:0] (DEBUG INFO) Executor start aborting (this does not indicate an error and you can ignore this message): INVALID_ARGUMENT: You must feed a value for placeholder tensor 'Placeholder/_1' with dtype float and shape [500]\n",
      "\t [[{{node Placeholder/_1}}]]\n",
      "2023-05-13 18:26:03.796109: I tensorflow/core/common_runtime/executor.cc:1197] [/device:CPU:0] (DEBUG INFO) Executor start aborting (this does not indicate an error and you can ignore this message): INVALID_ARGUMENT: You must feed a value for placeholder tensor 'Placeholder/_1' with dtype float and shape [500]\n",
      "\t [[{{node Placeholder/_1}}]]\n",
      "2023-05-13 18:26:03.799221: I tensorflow/core/common_runtime/executor.cc:1197] [/device:CPU:0] (DEBUG INFO) Executor start aborting (this does not indicate an error and you can ignore this message): INVALID_ARGUMENT: You must feed a value for placeholder tensor 'Placeholder/_1' with dtype float and shape [500]\n",
      "\t [[{{node Placeholder/_1}}]]\n",
      "2023-05-13 18:26:03.802990: I tensorflow/core/common_runtime/executor.cc:1197] [/device:CPU:0] (DEBUG INFO) Executor start aborting (this does not indicate an error and you can ignore this message): INVALID_ARGUMENT: You must feed a value for placeholder tensor 'Placeholder/_1' with dtype float and shape [500]\n",
      "\t [[{{node Placeholder/_1}}]]\n",
      "2023-05-13 18:26:03.806074: I tensorflow/core/common_runtime/executor.cc:1197] [/device:CPU:0] (DEBUG INFO) Executor start aborting (this does not indicate an error and you can ignore this message): INVALID_ARGUMENT: You must feed a value for placeholder tensor 'Placeholder/_1' with dtype float and shape [500]\n",
      "\t [[{{node Placeholder/_1}}]]\n",
      "2023-05-13 18:26:03.809784: I tensorflow/core/common_runtime/executor.cc:1197] [/device:CPU:0] (DEBUG INFO) Executor start aborting (this does not indicate an error and you can ignore this message): INVALID_ARGUMENT: You must feed a value for placeholder tensor 'Placeholder/_1' with dtype float and shape [500]\n",
      "\t [[{{node Placeholder/_1}}]]\n",
      "2023-05-13 18:26:03.812596: I tensorflow/core/common_runtime/executor.cc:1197] [/device:CPU:0] (DEBUG INFO) Executor start aborting (this does not indicate an error and you can ignore this message): INVALID_ARGUMENT: You must feed a value for placeholder tensor 'Placeholder/_1' with dtype float and shape [500]\n",
      "\t [[{{node Placeholder/_1}}]]\n"
     ]
    },
    {
     "name": "stdout",
     "output_type": "stream",
     "text": [
      "\n",
      "Testing for epoch 5 index 2:\n",
      "65/65 [==============================] - 0s 462us/step\n"
     ]
    },
    {
     "name": "stderr",
     "output_type": "stream",
     "text": [
      "2023-05-13 18:26:04.056961: I tensorflow/core/common_runtime/executor.cc:1197] [/device:CPU:0] (DEBUG INFO) Executor start aborting (this does not indicate an error and you can ignore this message): INVALID_ARGUMENT: You must feed a value for placeholder tensor 'Placeholder/_1' with dtype int64 and shape [1000]\n",
      "\t [[{{node Placeholder/_1}}]]\n",
      "2023-05-13 18:26:04.127636: I tensorflow/core/common_runtime/executor.cc:1197] [/device:CPU:0] (DEBUG INFO) Executor start aborting (this does not indicate an error and you can ignore this message): INVALID_ARGUMENT: You must feed a value for placeholder tensor 'Placeholder/_1' with dtype float and shape [500]\n",
      "\t [[{{node Placeholder/_1}}]]\n",
      "2023-05-13 18:26:04.131220: I tensorflow/core/common_runtime/executor.cc:1197] [/device:CPU:0] (DEBUG INFO) Executor start aborting (this does not indicate an error and you can ignore this message): INVALID_ARGUMENT: You must feed a value for placeholder tensor 'Placeholder/_1' with dtype float and shape [500]\n",
      "\t [[{{node Placeholder/_1}}]]\n",
      "2023-05-13 18:26:04.134178: I tensorflow/core/common_runtime/executor.cc:1197] [/device:CPU:0] (DEBUG INFO) Executor start aborting (this does not indicate an error and you can ignore this message): INVALID_ARGUMENT: You must feed a value for placeholder tensor 'Placeholder/_1' with dtype float and shape [500]\n",
      "\t [[{{node Placeholder/_1}}]]\n",
      "2023-05-13 18:26:04.137153: I tensorflow/core/common_runtime/executor.cc:1197] [/device:CPU:0] (DEBUG INFO) Executor start aborting (this does not indicate an error and you can ignore this message): INVALID_ARGUMENT: You must feed a value for placeholder tensor 'Placeholder/_1' with dtype float and shape [500]\n",
      "\t [[{{node Placeholder/_1}}]]\n",
      "2023-05-13 18:26:04.140075: I tensorflow/core/common_runtime/executor.cc:1197] [/device:CPU:0] (DEBUG INFO) Executor start aborting (this does not indicate an error and you can ignore this message): INVALID_ARGUMENT: You must feed a value for placeholder tensor 'Placeholder/_1' with dtype float and shape [500]\n",
      "\t [[{{node Placeholder/_1}}]]\n",
      "2023-05-13 18:26:04.143461: I tensorflow/core/common_runtime/executor.cc:1197] [/device:CPU:0] (DEBUG INFO) Executor start aborting (this does not indicate an error and you can ignore this message): INVALID_ARGUMENT: You must feed a value for placeholder tensor 'Placeholder/_1' with dtype float and shape [500]\n",
      "\t [[{{node Placeholder/_1}}]]\n",
      "2023-05-13 18:26:04.146336: I tensorflow/core/common_runtime/executor.cc:1197] [/device:CPU:0] (DEBUG INFO) Executor start aborting (this does not indicate an error and you can ignore this message): INVALID_ARGUMENT: You must feed a value for placeholder tensor 'Placeholder/_1' with dtype float and shape [500]\n",
      "\t [[{{node Placeholder/_1}}]]\n",
      "2023-05-13 18:26:04.150125: I tensorflow/core/common_runtime/executor.cc:1197] [/device:CPU:0] (DEBUG INFO) Executor start aborting (this does not indicate an error and you can ignore this message): INVALID_ARGUMENT: You must feed a value for placeholder tensor 'Placeholder/_1' with dtype float and shape [500]\n",
      "\t [[{{node Placeholder/_1}}]]\n",
      "2023-05-13 18:26:04.152992: I tensorflow/core/common_runtime/executor.cc:1197] [/device:CPU:0] (DEBUG INFO) Executor start aborting (this does not indicate an error and you can ignore this message): INVALID_ARGUMENT: You must feed a value for placeholder tensor 'Placeholder/_1' with dtype float and shape [500]\n",
      "\t [[{{node Placeholder/_1}}]]\n",
      "2023-05-13 18:26:04.156665: I tensorflow/core/common_runtime/executor.cc:1197] [/device:CPU:0] (DEBUG INFO) Executor start aborting (this does not indicate an error and you can ignore this message): INVALID_ARGUMENT: You must feed a value for placeholder tensor 'Placeholder/_1' with dtype float and shape [500]\n",
      "\t [[{{node Placeholder/_1}}]]\n"
     ]
    },
    {
     "name": "stdout",
     "output_type": "stream",
     "text": [
      "\n",
      "Testing for epoch 5 index 3:\n",
      "65/65 [==============================] - 0s 461us/step\n"
     ]
    },
    {
     "name": "stderr",
     "output_type": "stream",
     "text": [
      "2023-05-13 18:26:04.410251: I tensorflow/core/common_runtime/executor.cc:1197] [/device:CPU:0] (DEBUG INFO) Executor start aborting (this does not indicate an error and you can ignore this message): INVALID_ARGUMENT: You must feed a value for placeholder tensor 'Placeholder/_1' with dtype int64 and shape [1000]\n",
      "\t [[{{node Placeholder/_1}}]]\n",
      "2023-05-13 18:26:04.478580: I tensorflow/core/common_runtime/executor.cc:1197] [/device:CPU:0] (DEBUG INFO) Executor start aborting (this does not indicate an error and you can ignore this message): INVALID_ARGUMENT: You must feed a value for placeholder tensor 'Placeholder/_1' with dtype float and shape [500]\n",
      "\t [[{{node Placeholder/_1}}]]\n",
      "2023-05-13 18:26:04.482129: I tensorflow/core/common_runtime/executor.cc:1197] [/device:CPU:0] (DEBUG INFO) Executor start aborting (this does not indicate an error and you can ignore this message): INVALID_ARGUMENT: You must feed a value for placeholder tensor 'Placeholder/_1' with dtype float and shape [500]\n",
      "\t [[{{node Placeholder/_1}}]]\n",
      "2023-05-13 18:26:04.485218: I tensorflow/core/common_runtime/executor.cc:1197] [/device:CPU:0] (DEBUG INFO) Executor start aborting (this does not indicate an error and you can ignore this message): INVALID_ARGUMENT: You must feed a value for placeholder tensor 'Placeholder/_1' with dtype float and shape [500]\n",
      "\t [[{{node Placeholder/_1}}]]\n",
      "2023-05-13 18:26:04.488393: I tensorflow/core/common_runtime/executor.cc:1197] [/device:CPU:0] (DEBUG INFO) Executor start aborting (this does not indicate an error and you can ignore this message): INVALID_ARGUMENT: You must feed a value for placeholder tensor 'Placeholder/_1' with dtype float and shape [500]\n",
      "\t [[{{node Placeholder/_1}}]]\n",
      "2023-05-13 18:26:04.492140: I tensorflow/core/common_runtime/executor.cc:1197] [/device:CPU:0] (DEBUG INFO) Executor start aborting (this does not indicate an error and you can ignore this message): INVALID_ARGUMENT: You must feed a value for placeholder tensor 'Placeholder/_1' with dtype float and shape [500]\n",
      "\t [[{{node Placeholder/_1}}]]\n",
      "2023-05-13 18:26:04.495380: I tensorflow/core/common_runtime/executor.cc:1197] [/device:CPU:0] (DEBUG INFO) Executor start aborting (this does not indicate an error and you can ignore this message): INVALID_ARGUMENT: You must feed a value for placeholder tensor 'Placeholder/_1' with dtype float and shape [500]\n",
      "\t [[{{node Placeholder/_1}}]]\n",
      "2023-05-13 18:26:04.499097: I tensorflow/core/common_runtime/executor.cc:1197] [/device:CPU:0] (DEBUG INFO) Executor start aborting (this does not indicate an error and you can ignore this message): INVALID_ARGUMENT: You must feed a value for placeholder tensor 'Placeholder/_1' with dtype float and shape [500]\n",
      "\t [[{{node Placeholder/_1}}]]\n",
      "2023-05-13 18:26:04.502284: I tensorflow/core/common_runtime/executor.cc:1197] [/device:CPU:0] (DEBUG INFO) Executor start aborting (this does not indicate an error and you can ignore this message): INVALID_ARGUMENT: You must feed a value for placeholder tensor 'Placeholder/_1' with dtype float and shape [500]\n",
      "\t [[{{node Placeholder/_1}}]]\n",
      "2023-05-13 18:26:04.505747: I tensorflow/core/common_runtime/executor.cc:1197] [/device:CPU:0] (DEBUG INFO) Executor start aborting (this does not indicate an error and you can ignore this message): INVALID_ARGUMENT: You must feed a value for placeholder tensor 'Placeholder/_1' with dtype float and shape [500]\n",
      "\t [[{{node Placeholder/_1}}]]\n",
      "2023-05-13 18:26:04.508717: I tensorflow/core/common_runtime/executor.cc:1197] [/device:CPU:0] (DEBUG INFO) Executor start aborting (this does not indicate an error and you can ignore this message): INVALID_ARGUMENT: You must feed a value for placeholder tensor 'Placeholder/_1' with dtype float and shape [500]\n",
      "\t [[{{node Placeholder/_1}}]]\n"
     ]
    },
    {
     "name": "stdout",
     "output_type": "stream",
     "text": [
      "\n",
      "Testing for epoch 5 index 4:\n",
      "65/65 [==============================] - 0s 446us/step\n"
     ]
    },
    {
     "name": "stderr",
     "output_type": "stream",
     "text": [
      "2023-05-13 18:26:04.757042: I tensorflow/core/common_runtime/executor.cc:1197] [/device:CPU:0] (DEBUG INFO) Executor start aborting (this does not indicate an error and you can ignore this message): INVALID_ARGUMENT: You must feed a value for placeholder tensor 'Placeholder/_1' with dtype int64 and shape [1000]\n",
      "\t [[{{node Placeholder/_1}}]]\n",
      "2023-05-13 18:26:04.824293: I tensorflow/core/common_runtime/executor.cc:1197] [/device:CPU:0] (DEBUG INFO) Executor start aborting (this does not indicate an error and you can ignore this message): INVALID_ARGUMENT: You must feed a value for placeholder tensor 'Placeholder/_1' with dtype float and shape [500]\n",
      "\t [[{{node Placeholder/_1}}]]\n",
      "2023-05-13 18:26:04.827879: I tensorflow/core/common_runtime/executor.cc:1197] [/device:CPU:0] (DEBUG INFO) Executor start aborting (this does not indicate an error and you can ignore this message): INVALID_ARGUMENT: You must feed a value for placeholder tensor 'Placeholder/_1' with dtype float and shape [500]\n",
      "\t [[{{node Placeholder/_1}}]]\n",
      "2023-05-13 18:26:04.831277: I tensorflow/core/common_runtime/executor.cc:1197] [/device:CPU:0] (DEBUG INFO) Executor start aborting (this does not indicate an error and you can ignore this message): INVALID_ARGUMENT: You must feed a value for placeholder tensor 'Placeholder/_1' with dtype float and shape [500]\n",
      "\t [[{{node Placeholder/_1}}]]\n",
      "2023-05-13 18:26:04.834211: I tensorflow/core/common_runtime/executor.cc:1197] [/device:CPU:0] (DEBUG INFO) Executor start aborting (this does not indicate an error and you can ignore this message): INVALID_ARGUMENT: You must feed a value for placeholder tensor 'Placeholder/_1' with dtype float and shape [500]\n",
      "\t [[{{node Placeholder/_1}}]]\n",
      "2023-05-13 18:26:04.837659: I tensorflow/core/common_runtime/executor.cc:1197] [/device:CPU:0] (DEBUG INFO) Executor start aborting (this does not indicate an error and you can ignore this message): INVALID_ARGUMENT: You must feed a value for placeholder tensor 'Placeholder/_1' with dtype float and shape [500]\n",
      "\t [[{{node Placeholder/_1}}]]\n",
      "2023-05-13 18:26:04.840686: I tensorflow/core/common_runtime/executor.cc:1197] [/device:CPU:0] (DEBUG INFO) Executor start aborting (this does not indicate an error and you can ignore this message): INVALID_ARGUMENT: You must feed a value for placeholder tensor 'Placeholder/_1' with dtype float and shape [500]\n",
      "\t [[{{node Placeholder/_1}}]]\n",
      "2023-05-13 18:26:04.844706: I tensorflow/core/common_runtime/executor.cc:1197] [/device:CPU:0] (DEBUG INFO) Executor start aborting (this does not indicate an error and you can ignore this message): INVALID_ARGUMENT: You must feed a value for placeholder tensor 'Placeholder/_1' with dtype float and shape [500]\n",
      "\t [[{{node Placeholder/_1}}]]\n",
      "2023-05-13 18:26:04.847882: I tensorflow/core/common_runtime/executor.cc:1197] [/device:CPU:0] (DEBUG INFO) Executor start aborting (this does not indicate an error and you can ignore this message): INVALID_ARGUMENT: You must feed a value for placeholder tensor 'Placeholder/_1' with dtype float and shape [500]\n",
      "\t [[{{node Placeholder/_1}}]]\n",
      "2023-05-13 18:26:04.851676: I tensorflow/core/common_runtime/executor.cc:1197] [/device:CPU:0] (DEBUG INFO) Executor start aborting (this does not indicate an error and you can ignore this message): INVALID_ARGUMENT: You must feed a value for placeholder tensor 'Placeholder/_1' with dtype float and shape [500]\n",
      "\t [[{{node Placeholder/_1}}]]\n",
      "2023-05-13 18:26:04.855140: I tensorflow/core/common_runtime/executor.cc:1197] [/device:CPU:0] (DEBUG INFO) Executor start aborting (this does not indicate an error and you can ignore this message): INVALID_ARGUMENT: You must feed a value for placeholder tensor 'Placeholder/_1' with dtype float and shape [500]\n",
      "\t [[{{node Placeholder/_1}}]]\n"
     ]
    },
    {
     "name": "stdout",
     "output_type": "stream",
     "text": [
      "Epoch 6 of 60\n",
      "\n",
      "Testing for epoch 6 index 1:\n",
      "65/65 [==============================] - 0s 459us/step\n"
     ]
    },
    {
     "name": "stderr",
     "output_type": "stream",
     "text": [
      "2023-05-13 18:26:05.097020: I tensorflow/core/common_runtime/executor.cc:1197] [/device:CPU:0] (DEBUG INFO) Executor start aborting (this does not indicate an error and you can ignore this message): INVALID_ARGUMENT: You must feed a value for placeholder tensor 'Placeholder/_1' with dtype int64 and shape [1000]\n",
      "\t [[{{node Placeholder/_1}}]]\n",
      "2023-05-13 18:26:05.165266: I tensorflow/core/common_runtime/executor.cc:1197] [/device:CPU:0] (DEBUG INFO) Executor start aborting (this does not indicate an error and you can ignore this message): INVALID_ARGUMENT: You must feed a value for placeholder tensor 'Placeholder/_1' with dtype float and shape [500]\n",
      "\t [[{{node Placeholder/_1}}]]\n",
      "2023-05-13 18:26:05.168456: I tensorflow/core/common_runtime/executor.cc:1197] [/device:CPU:0] (DEBUG INFO) Executor start aborting (this does not indicate an error and you can ignore this message): INVALID_ARGUMENT: You must feed a value for placeholder tensor 'Placeholder/_1' with dtype float and shape [500]\n",
      "\t [[{{node Placeholder/_1}}]]\n",
      "2023-05-13 18:26:05.171807: I tensorflow/core/common_runtime/executor.cc:1197] [/device:CPU:0] (DEBUG INFO) Executor start aborting (this does not indicate an error and you can ignore this message): INVALID_ARGUMENT: You must feed a value for placeholder tensor 'Placeholder/_1' with dtype float and shape [500]\n",
      "\t [[{{node Placeholder/_1}}]]\n",
      "2023-05-13 18:26:05.174679: I tensorflow/core/common_runtime/executor.cc:1197] [/device:CPU:0] (DEBUG INFO) Executor start aborting (this does not indicate an error and you can ignore this message): INVALID_ARGUMENT: You must feed a value for placeholder tensor 'Placeholder/_1' with dtype float and shape [500]\n",
      "\t [[{{node Placeholder/_1}}]]\n",
      "2023-05-13 18:26:05.178412: I tensorflow/core/common_runtime/executor.cc:1197] [/device:CPU:0] (DEBUG INFO) Executor start aborting (this does not indicate an error and you can ignore this message): INVALID_ARGUMENT: You must feed a value for placeholder tensor 'Placeholder/_1' with dtype float and shape [500]\n",
      "\t [[{{node Placeholder/_1}}]]\n",
      "2023-05-13 18:26:05.181333: I tensorflow/core/common_runtime/executor.cc:1197] [/device:CPU:0] (DEBUG INFO) Executor start aborting (this does not indicate an error and you can ignore this message): INVALID_ARGUMENT: You must feed a value for placeholder tensor 'Placeholder/_1' with dtype float and shape [500]\n",
      "\t [[{{node Placeholder/_1}}]]\n",
      "2023-05-13 18:26:05.185017: I tensorflow/core/common_runtime/executor.cc:1197] [/device:CPU:0] (DEBUG INFO) Executor start aborting (this does not indicate an error and you can ignore this message): INVALID_ARGUMENT: You must feed a value for placeholder tensor 'Placeholder/_1' with dtype float and shape [500]\n",
      "\t [[{{node Placeholder/_1}}]]\n",
      "2023-05-13 18:26:05.187960: I tensorflow/core/common_runtime/executor.cc:1197] [/device:CPU:0] (DEBUG INFO) Executor start aborting (this does not indicate an error and you can ignore this message): INVALID_ARGUMENT: You must feed a value for placeholder tensor 'Placeholder/_1' with dtype float and shape [500]\n",
      "\t [[{{node Placeholder/_1}}]]\n",
      "2023-05-13 18:26:05.191846: I tensorflow/core/common_runtime/executor.cc:1197] [/device:CPU:0] (DEBUG INFO) Executor start aborting (this does not indicate an error and you can ignore this message): INVALID_ARGUMENT: You must feed a value for placeholder tensor 'Placeholder/_1' with dtype float and shape [500]\n",
      "\t [[{{node Placeholder/_1}}]]\n",
      "2023-05-13 18:26:05.194883: I tensorflow/core/common_runtime/executor.cc:1197] [/device:CPU:0] (DEBUG INFO) Executor start aborting (this does not indicate an error and you can ignore this message): INVALID_ARGUMENT: You must feed a value for placeholder tensor 'Placeholder/_1' with dtype float and shape [500]\n",
      "\t [[{{node Placeholder/_1}}]]\n"
     ]
    },
    {
     "name": "stdout",
     "output_type": "stream",
     "text": [
      "\n",
      "Testing for epoch 6 index 2:\n",
      "65/65 [==============================] - 0s 454us/step\n"
     ]
    },
    {
     "name": "stderr",
     "output_type": "stream",
     "text": [
      "2023-05-13 18:26:05.436101: I tensorflow/core/common_runtime/executor.cc:1197] [/device:CPU:0] (DEBUG INFO) Executor start aborting (this does not indicate an error and you can ignore this message): INVALID_ARGUMENT: You must feed a value for placeholder tensor 'Placeholder/_1' with dtype int64 and shape [1000]\n",
      "\t [[{{node Placeholder/_1}}]]\n",
      "2023-05-13 18:26:05.508189: I tensorflow/core/common_runtime/executor.cc:1197] [/device:CPU:0] (DEBUG INFO) Executor start aborting (this does not indicate an error and you can ignore this message): INVALID_ARGUMENT: You must feed a value for placeholder tensor 'Placeholder/_1' with dtype float and shape [500]\n",
      "\t [[{{node Placeholder/_1}}]]\n",
      "2023-05-13 18:26:05.512062: I tensorflow/core/common_runtime/executor.cc:1197] [/device:CPU:0] (DEBUG INFO) Executor start aborting (this does not indicate an error and you can ignore this message): INVALID_ARGUMENT: You must feed a value for placeholder tensor 'Placeholder/_1' with dtype float and shape [500]\n",
      "\t [[{{node Placeholder/_1}}]]\n",
      "2023-05-13 18:26:05.515250: I tensorflow/core/common_runtime/executor.cc:1197] [/device:CPU:0] (DEBUG INFO) Executor start aborting (this does not indicate an error and you can ignore this message): INVALID_ARGUMENT: You must feed a value for placeholder tensor 'Placeholder/_1' with dtype float and shape [500]\n",
      "\t [[{{node Placeholder/_1}}]]\n",
      "2023-05-13 18:26:05.518823: I tensorflow/core/common_runtime/executor.cc:1197] [/device:CPU:0] (DEBUG INFO) Executor start aborting (this does not indicate an error and you can ignore this message): INVALID_ARGUMENT: You must feed a value for placeholder tensor 'Placeholder/_1' with dtype float and shape [500]\n",
      "\t [[{{node Placeholder/_1}}]]\n",
      "2023-05-13 18:26:05.521997: I tensorflow/core/common_runtime/executor.cc:1197] [/device:CPU:0] (DEBUG INFO) Executor start aborting (this does not indicate an error and you can ignore this message): INVALID_ARGUMENT: You must feed a value for placeholder tensor 'Placeholder/_1' with dtype float and shape [500]\n",
      "\t [[{{node Placeholder/_1}}]]\n",
      "2023-05-13 18:26:05.525686: I tensorflow/core/common_runtime/executor.cc:1197] [/device:CPU:0] (DEBUG INFO) Executor start aborting (this does not indicate an error and you can ignore this message): INVALID_ARGUMENT: You must feed a value for placeholder tensor 'Placeholder/_1' with dtype float and shape [500]\n",
      "\t [[{{node Placeholder/_1}}]]\n",
      "2023-05-13 18:26:05.528639: I tensorflow/core/common_runtime/executor.cc:1197] [/device:CPU:0] (DEBUG INFO) Executor start aborting (this does not indicate an error and you can ignore this message): INVALID_ARGUMENT: You must feed a value for placeholder tensor 'Placeholder/_1' with dtype float and shape [500]\n",
      "\t [[{{node Placeholder/_1}}]]\n",
      "2023-05-13 18:26:05.532273: I tensorflow/core/common_runtime/executor.cc:1197] [/device:CPU:0] (DEBUG INFO) Executor start aborting (this does not indicate an error and you can ignore this message): INVALID_ARGUMENT: You must feed a value for placeholder tensor 'Placeholder/_1' with dtype float and shape [500]\n",
      "\t [[{{node Placeholder/_1}}]]\n",
      "2023-05-13 18:26:05.535427: I tensorflow/core/common_runtime/executor.cc:1197] [/device:CPU:0] (DEBUG INFO) Executor start aborting (this does not indicate an error and you can ignore this message): INVALID_ARGUMENT: You must feed a value for placeholder tensor 'Placeholder/_1' with dtype float and shape [500]\n",
      "\t [[{{node Placeholder/_1}}]]\n",
      "2023-05-13 18:26:05.539032: I tensorflow/core/common_runtime/executor.cc:1197] [/device:CPU:0] (DEBUG INFO) Executor start aborting (this does not indicate an error and you can ignore this message): INVALID_ARGUMENT: You must feed a value for placeholder tensor 'Placeholder/_1' with dtype float and shape [500]\n",
      "\t [[{{node Placeholder/_1}}]]\n"
     ]
    },
    {
     "name": "stdout",
     "output_type": "stream",
     "text": [
      "\n",
      "Testing for epoch 6 index 3:\n",
      "65/65 [==============================] - 0s 447us/step\n"
     ]
    },
    {
     "name": "stderr",
     "output_type": "stream",
     "text": [
      "2023-05-13 18:26:05.778635: I tensorflow/core/common_runtime/executor.cc:1197] [/device:CPU:0] (DEBUG INFO) Executor start aborting (this does not indicate an error and you can ignore this message): INVALID_ARGUMENT: You must feed a value for placeholder tensor 'Placeholder/_1' with dtype int64 and shape [1000]\n",
      "\t [[{{node Placeholder/_1}}]]\n",
      "2023-05-13 18:26:05.846532: I tensorflow/core/common_runtime/executor.cc:1197] [/device:CPU:0] (DEBUG INFO) Executor start aborting (this does not indicate an error and you can ignore this message): INVALID_ARGUMENT: You must feed a value for placeholder tensor 'Placeholder/_1' with dtype float and shape [500]\n",
      "\t [[{{node Placeholder/_1}}]]\n",
      "2023-05-13 18:26:05.849820: I tensorflow/core/common_runtime/executor.cc:1197] [/device:CPU:0] (DEBUG INFO) Executor start aborting (this does not indicate an error and you can ignore this message): INVALID_ARGUMENT: You must feed a value for placeholder tensor 'Placeholder/_1' with dtype float and shape [500]\n",
      "\t [[{{node Placeholder/_1}}]]\n",
      "2023-05-13 18:26:05.852826: I tensorflow/core/common_runtime/executor.cc:1197] [/device:CPU:0] (DEBUG INFO) Executor start aborting (this does not indicate an error and you can ignore this message): INVALID_ARGUMENT: You must feed a value for placeholder tensor 'Placeholder/_1' with dtype float and shape [500]\n",
      "\t [[{{node Placeholder/_1}}]]\n",
      "2023-05-13 18:26:05.855698: I tensorflow/core/common_runtime/executor.cc:1197] [/device:CPU:0] (DEBUG INFO) Executor start aborting (this does not indicate an error and you can ignore this message): INVALID_ARGUMENT: You must feed a value for placeholder tensor 'Placeholder/_1' with dtype float and shape [500]\n",
      "\t [[{{node Placeholder/_1}}]]\n",
      "2023-05-13 18:26:05.859330: I tensorflow/core/common_runtime/executor.cc:1197] [/device:CPU:0] (DEBUG INFO) Executor start aborting (this does not indicate an error and you can ignore this message): INVALID_ARGUMENT: You must feed a value for placeholder tensor 'Placeholder/_1' with dtype float and shape [500]\n",
      "\t [[{{node Placeholder/_1}}]]\n",
      "2023-05-13 18:26:05.862202: I tensorflow/core/common_runtime/executor.cc:1197] [/device:CPU:0] (DEBUG INFO) Executor start aborting (this does not indicate an error and you can ignore this message): INVALID_ARGUMENT: You must feed a value for placeholder tensor 'Placeholder/_1' with dtype float and shape [500]\n",
      "\t [[{{node Placeholder/_1}}]]\n",
      "2023-05-13 18:26:05.865695: I tensorflow/core/common_runtime/executor.cc:1197] [/device:CPU:0] (DEBUG INFO) Executor start aborting (this does not indicate an error and you can ignore this message): INVALID_ARGUMENT: You must feed a value for placeholder tensor 'Placeholder/_1' with dtype float and shape [500]\n",
      "\t [[{{node Placeholder/_1}}]]\n",
      "2023-05-13 18:26:05.868584: I tensorflow/core/common_runtime/executor.cc:1197] [/device:CPU:0] (DEBUG INFO) Executor start aborting (this does not indicate an error and you can ignore this message): INVALID_ARGUMENT: You must feed a value for placeholder tensor 'Placeholder/_1' with dtype float and shape [500]\n",
      "\t [[{{node Placeholder/_1}}]]\n",
      "2023-05-13 18:26:05.872347: I tensorflow/core/common_runtime/executor.cc:1197] [/device:CPU:0] (DEBUG INFO) Executor start aborting (this does not indicate an error and you can ignore this message): INVALID_ARGUMENT: You must feed a value for placeholder tensor 'Placeholder/_1' with dtype float and shape [500]\n",
      "\t [[{{node Placeholder/_1}}]]\n",
      "2023-05-13 18:26:05.875211: I tensorflow/core/common_runtime/executor.cc:1197] [/device:CPU:0] (DEBUG INFO) Executor start aborting (this does not indicate an error and you can ignore this message): INVALID_ARGUMENT: You must feed a value for placeholder tensor 'Placeholder/_1' with dtype float and shape [500]\n",
      "\t [[{{node Placeholder/_1}}]]\n"
     ]
    },
    {
     "name": "stdout",
     "output_type": "stream",
     "text": [
      "\n",
      "Testing for epoch 6 index 4:\n",
      "65/65 [==============================] - 0s 433us/step\n"
     ]
    },
    {
     "name": "stderr",
     "output_type": "stream",
     "text": [
      "2023-05-13 18:26:06.110476: I tensorflow/core/common_runtime/executor.cc:1197] [/device:CPU:0] (DEBUG INFO) Executor start aborting (this does not indicate an error and you can ignore this message): INVALID_ARGUMENT: You must feed a value for placeholder tensor 'Placeholder/_1' with dtype int64 and shape [1000]\n",
      "\t [[{{node Placeholder/_1}}]]\n",
      "2023-05-13 18:26:06.177842: I tensorflow/core/common_runtime/executor.cc:1197] [/device:CPU:0] (DEBUG INFO) Executor start aborting (this does not indicate an error and you can ignore this message): INVALID_ARGUMENT: You must feed a value for placeholder tensor 'Placeholder/_1' with dtype float and shape [500]\n",
      "\t [[{{node Placeholder/_1}}]]\n",
      "2023-05-13 18:26:06.181173: I tensorflow/core/common_runtime/executor.cc:1197] [/device:CPU:0] (DEBUG INFO) Executor start aborting (this does not indicate an error and you can ignore this message): INVALID_ARGUMENT: You must feed a value for placeholder tensor 'Placeholder/_1' with dtype float and shape [500]\n",
      "\t [[{{node Placeholder/_1}}]]\n",
      "2023-05-13 18:26:06.184849: I tensorflow/core/common_runtime/executor.cc:1197] [/device:CPU:0] (DEBUG INFO) Executor start aborting (this does not indicate an error and you can ignore this message): INVALID_ARGUMENT: You must feed a value for placeholder tensor 'Placeholder/_1' with dtype float and shape [500]\n",
      "\t [[{{node Placeholder/_1}}]]\n",
      "2023-05-13 18:26:06.187704: I tensorflow/core/common_runtime/executor.cc:1197] [/device:CPU:0] (DEBUG INFO) Executor start aborting (this does not indicate an error and you can ignore this message): INVALID_ARGUMENT: You must feed a value for placeholder tensor 'Placeholder/_1' with dtype float and shape [500]\n",
      "\t [[{{node Placeholder/_1}}]]\n",
      "2023-05-13 18:26:06.191358: I tensorflow/core/common_runtime/executor.cc:1197] [/device:CPU:0] (DEBUG INFO) Executor start aborting (this does not indicate an error and you can ignore this message): INVALID_ARGUMENT: You must feed a value for placeholder tensor 'Placeholder/_1' with dtype float and shape [500]\n",
      "\t [[{{node Placeholder/_1}}]]\n",
      "2023-05-13 18:26:06.194346: I tensorflow/core/common_runtime/executor.cc:1197] [/device:CPU:0] (DEBUG INFO) Executor start aborting (this does not indicate an error and you can ignore this message): INVALID_ARGUMENT: You must feed a value for placeholder tensor 'Placeholder/_1' with dtype float and shape [500]\n",
      "\t [[{{node Placeholder/_1}}]]\n",
      "2023-05-13 18:26:06.197330: I tensorflow/core/common_runtime/executor.cc:1197] [/device:CPU:0] (DEBUG INFO) Executor start aborting (this does not indicate an error and you can ignore this message): INVALID_ARGUMENT: You must feed a value for placeholder tensor 'Placeholder/_1' with dtype float and shape [500]\n",
      "\t [[{{node Placeholder/_1}}]]\n",
      "2023-05-13 18:26:06.200319: I tensorflow/core/common_runtime/executor.cc:1197] [/device:CPU:0] (DEBUG INFO) Executor start aborting (this does not indicate an error and you can ignore this message): INVALID_ARGUMENT: You must feed a value for placeholder tensor 'Placeholder/_1' with dtype float and shape [500]\n",
      "\t [[{{node Placeholder/_1}}]]\n",
      "2023-05-13 18:26:06.203203: I tensorflow/core/common_runtime/executor.cc:1197] [/device:CPU:0] (DEBUG INFO) Executor start aborting (this does not indicate an error and you can ignore this message): INVALID_ARGUMENT: You must feed a value for placeholder tensor 'Placeholder/_1' with dtype float and shape [500]\n",
      "\t [[{{node Placeholder/_1}}]]\n",
      "2023-05-13 18:26:06.206187: I tensorflow/core/common_runtime/executor.cc:1197] [/device:CPU:0] (DEBUG INFO) Executor start aborting (this does not indicate an error and you can ignore this message): INVALID_ARGUMENT: You must feed a value for placeholder tensor 'Placeholder/_1' with dtype float and shape [500]\n",
      "\t [[{{node Placeholder/_1}}]]\n"
     ]
    },
    {
     "name": "stdout",
     "output_type": "stream",
     "text": [
      "Epoch 7 of 60\n",
      "\n",
      "Testing for epoch 7 index 1:\n",
      "65/65 [==============================] - 0s 463us/step\n"
     ]
    },
    {
     "name": "stderr",
     "output_type": "stream",
     "text": [
      "2023-05-13 18:26:06.443647: I tensorflow/core/common_runtime/executor.cc:1197] [/device:CPU:0] (DEBUG INFO) Executor start aborting (this does not indicate an error and you can ignore this message): INVALID_ARGUMENT: You must feed a value for placeholder tensor 'Placeholder/_1' with dtype int64 and shape [1000]\n",
      "\t [[{{node Placeholder/_1}}]]\n",
      "2023-05-13 18:26:06.512732: I tensorflow/core/common_runtime/executor.cc:1197] [/device:CPU:0] (DEBUG INFO) Executor start aborting (this does not indicate an error and you can ignore this message): INVALID_ARGUMENT: You must feed a value for placeholder tensor 'Placeholder/_1' with dtype float and shape [500]\n",
      "\t [[{{node Placeholder/_1}}]]\n",
      "2023-05-13 18:26:06.516226: I tensorflow/core/common_runtime/executor.cc:1197] [/device:CPU:0] (DEBUG INFO) Executor start aborting (this does not indicate an error and you can ignore this message): INVALID_ARGUMENT: You must feed a value for placeholder tensor 'Placeholder/_1' with dtype float and shape [500]\n",
      "\t [[{{node Placeholder/_1}}]]\n",
      "2023-05-13 18:26:06.519687: I tensorflow/core/common_runtime/executor.cc:1197] [/device:CPU:0] (DEBUG INFO) Executor start aborting (this does not indicate an error and you can ignore this message): INVALID_ARGUMENT: You must feed a value for placeholder tensor 'Placeholder/_1' with dtype float and shape [500]\n",
      "\t [[{{node Placeholder/_1}}]]\n",
      "2023-05-13 18:26:06.522587: I tensorflow/core/common_runtime/executor.cc:1197] [/device:CPU:0] (DEBUG INFO) Executor start aborting (this does not indicate an error and you can ignore this message): INVALID_ARGUMENT: You must feed a value for placeholder tensor 'Placeholder/_1' with dtype float and shape [500]\n",
      "\t [[{{node Placeholder/_1}}]]\n",
      "2023-05-13 18:26:06.525994: I tensorflow/core/common_runtime/executor.cc:1197] [/device:CPU:0] (DEBUG INFO) Executor start aborting (this does not indicate an error and you can ignore this message): INVALID_ARGUMENT: You must feed a value for placeholder tensor 'Placeholder/_1' with dtype float and shape [500]\n",
      "\t [[{{node Placeholder/_1}}]]\n",
      "2023-05-13 18:26:06.528850: I tensorflow/core/common_runtime/executor.cc:1197] [/device:CPU:0] (DEBUG INFO) Executor start aborting (this does not indicate an error and you can ignore this message): INVALID_ARGUMENT: You must feed a value for placeholder tensor 'Placeholder/_1' with dtype float and shape [500]\n",
      "\t [[{{node Placeholder/_1}}]]\n",
      "2023-05-13 18:26:06.532475: I tensorflow/core/common_runtime/executor.cc:1197] [/device:CPU:0] (DEBUG INFO) Executor start aborting (this does not indicate an error and you can ignore this message): INVALID_ARGUMENT: You must feed a value for placeholder tensor 'Placeholder/_1' with dtype float and shape [500]\n",
      "\t [[{{node Placeholder/_1}}]]\n",
      "2023-05-13 18:26:06.535608: I tensorflow/core/common_runtime/executor.cc:1197] [/device:CPU:0] (DEBUG INFO) Executor start aborting (this does not indicate an error and you can ignore this message): INVALID_ARGUMENT: You must feed a value for placeholder tensor 'Placeholder/_1' with dtype float and shape [500]\n",
      "\t [[{{node Placeholder/_1}}]]\n",
      "2023-05-13 18:26:06.539083: I tensorflow/core/common_runtime/executor.cc:1197] [/device:CPU:0] (DEBUG INFO) Executor start aborting (this does not indicate an error and you can ignore this message): INVALID_ARGUMENT: You must feed a value for placeholder tensor 'Placeholder/_1' with dtype float and shape [500]\n",
      "\t [[{{node Placeholder/_1}}]]\n",
      "2023-05-13 18:26:06.542022: I tensorflow/core/common_runtime/executor.cc:1197] [/device:CPU:0] (DEBUG INFO) Executor start aborting (this does not indicate an error and you can ignore this message): INVALID_ARGUMENT: You must feed a value for placeholder tensor 'Placeholder/_1' with dtype float and shape [500]\n",
      "\t [[{{node Placeholder/_1}}]]\n"
     ]
    },
    {
     "name": "stdout",
     "output_type": "stream",
     "text": [
      "\n",
      "Testing for epoch 7 index 2:\n",
      "65/65 [==============================] - 0s 495us/step\n"
     ]
    },
    {
     "name": "stderr",
     "output_type": "stream",
     "text": [
      "2023-05-13 18:26:06.784789: I tensorflow/core/common_runtime/executor.cc:1197] [/device:CPU:0] (DEBUG INFO) Executor start aborting (this does not indicate an error and you can ignore this message): INVALID_ARGUMENT: You must feed a value for placeholder tensor 'Placeholder/_1' with dtype int64 and shape [1000]\n",
      "\t [[{{node Placeholder/_1}}]]\n",
      "2023-05-13 18:26:06.856782: I tensorflow/core/common_runtime/executor.cc:1197] [/device:CPU:0] (DEBUG INFO) Executor start aborting (this does not indicate an error and you can ignore this message): INVALID_ARGUMENT: You must feed a value for placeholder tensor 'Placeholder/_1' with dtype float and shape [500]\n",
      "\t [[{{node Placeholder/_1}}]]\n",
      "2023-05-13 18:26:06.861192: I tensorflow/core/common_runtime/executor.cc:1197] [/device:CPU:0] (DEBUG INFO) Executor start aborting (this does not indicate an error and you can ignore this message): INVALID_ARGUMENT: You must feed a value for placeholder tensor 'Placeholder/_1' with dtype float and shape [500]\n",
      "\t [[{{node Placeholder/_1}}]]\n",
      "2023-05-13 18:26:06.865268: I tensorflow/core/common_runtime/executor.cc:1197] [/device:CPU:0] (DEBUG INFO) Executor start aborting (this does not indicate an error and you can ignore this message): INVALID_ARGUMENT: You must feed a value for placeholder tensor 'Placeholder/_1' with dtype float and shape [500]\n",
      "\t [[{{node Placeholder/_1}}]]\n",
      "2023-05-13 18:26:06.868610: I tensorflow/core/common_runtime/executor.cc:1197] [/device:CPU:0] (DEBUG INFO) Executor start aborting (this does not indicate an error and you can ignore this message): INVALID_ARGUMENT: You must feed a value for placeholder tensor 'Placeholder/_1' with dtype float and shape [500]\n",
      "\t [[{{node Placeholder/_1}}]]\n",
      "2023-05-13 18:26:06.872524: I tensorflow/core/common_runtime/executor.cc:1197] [/device:CPU:0] (DEBUG INFO) Executor start aborting (this does not indicate an error and you can ignore this message): INVALID_ARGUMENT: You must feed a value for placeholder tensor 'Placeholder/_1' with dtype float and shape [500]\n",
      "\t [[{{node Placeholder/_1}}]]\n",
      "2023-05-13 18:26:06.875514: I tensorflow/core/common_runtime/executor.cc:1197] [/device:CPU:0] (DEBUG INFO) Executor start aborting (this does not indicate an error and you can ignore this message): INVALID_ARGUMENT: You must feed a value for placeholder tensor 'Placeholder/_1' with dtype float and shape [500]\n",
      "\t [[{{node Placeholder/_1}}]]\n",
      "2023-05-13 18:26:06.879355: I tensorflow/core/common_runtime/executor.cc:1197] [/device:CPU:0] (DEBUG INFO) Executor start aborting (this does not indicate an error and you can ignore this message): INVALID_ARGUMENT: You must feed a value for placeholder tensor 'Placeholder/_1' with dtype float and shape [500]\n",
      "\t [[{{node Placeholder/_1}}]]\n",
      "2023-05-13 18:26:06.882489: I tensorflow/core/common_runtime/executor.cc:1197] [/device:CPU:0] (DEBUG INFO) Executor start aborting (this does not indicate an error and you can ignore this message): INVALID_ARGUMENT: You must feed a value for placeholder tensor 'Placeholder/_1' with dtype float and shape [500]\n",
      "\t [[{{node Placeholder/_1}}]]\n",
      "2023-05-13 18:26:06.886317: I tensorflow/core/common_runtime/executor.cc:1197] [/device:CPU:0] (DEBUG INFO) Executor start aborting (this does not indicate an error and you can ignore this message): INVALID_ARGUMENT: You must feed a value for placeholder tensor 'Placeholder/_1' with dtype float and shape [500]\n",
      "\t [[{{node Placeholder/_1}}]]\n",
      "2023-05-13 18:26:06.889508: I tensorflow/core/common_runtime/executor.cc:1197] [/device:CPU:0] (DEBUG INFO) Executor start aborting (this does not indicate an error and you can ignore this message): INVALID_ARGUMENT: You must feed a value for placeholder tensor 'Placeholder/_1' with dtype float and shape [500]\n",
      "\t [[{{node Placeholder/_1}}]]\n"
     ]
    },
    {
     "name": "stdout",
     "output_type": "stream",
     "text": [
      "\n",
      "Testing for epoch 7 index 3:\n",
      "65/65 [==============================] - 0s 449us/step\n"
     ]
    },
    {
     "name": "stderr",
     "output_type": "stream",
     "text": [
      "2023-05-13 18:26:07.139887: I tensorflow/core/common_runtime/executor.cc:1197] [/device:CPU:0] (DEBUG INFO) Executor start aborting (this does not indicate an error and you can ignore this message): INVALID_ARGUMENT: You must feed a value for placeholder tensor 'Placeholder/_1' with dtype int64 and shape [1000]\n",
      "\t [[{{node Placeholder/_1}}]]\n",
      "2023-05-13 18:26:07.208504: I tensorflow/core/common_runtime/executor.cc:1197] [/device:CPU:0] (DEBUG INFO) Executor start aborting (this does not indicate an error and you can ignore this message): INVALID_ARGUMENT: You must feed a value for placeholder tensor 'Placeholder/_1' with dtype float and shape [500]\n",
      "\t [[{{node Placeholder/_1}}]]\n",
      "2023-05-13 18:26:07.212710: I tensorflow/core/common_runtime/executor.cc:1197] [/device:CPU:0] (DEBUG INFO) Executor start aborting (this does not indicate an error and you can ignore this message): INVALID_ARGUMENT: You must feed a value for placeholder tensor 'Placeholder/_1' with dtype float and shape [500]\n",
      "\t [[{{node Placeholder/_1}}]]\n",
      "2023-05-13 18:26:07.215789: I tensorflow/core/common_runtime/executor.cc:1197] [/device:CPU:0] (DEBUG INFO) Executor start aborting (this does not indicate an error and you can ignore this message): INVALID_ARGUMENT: You must feed a value for placeholder tensor 'Placeholder/_1' with dtype float and shape [500]\n",
      "\t [[{{node Placeholder/_1}}]]\n",
      "2023-05-13 18:26:07.219626: I tensorflow/core/common_runtime/executor.cc:1197] [/device:CPU:0] (DEBUG INFO) Executor start aborting (this does not indicate an error and you can ignore this message): INVALID_ARGUMENT: You must feed a value for placeholder tensor 'Placeholder/_1' with dtype float and shape [500]\n",
      "\t [[{{node Placeholder/_1}}]]\n",
      "2023-05-13 18:26:07.222722: I tensorflow/core/common_runtime/executor.cc:1197] [/device:CPU:0] (DEBUG INFO) Executor start aborting (this does not indicate an error and you can ignore this message): INVALID_ARGUMENT: You must feed a value for placeholder tensor 'Placeholder/_1' with dtype float and shape [500]\n",
      "\t [[{{node Placeholder/_1}}]]\n",
      "2023-05-13 18:26:07.226508: I tensorflow/core/common_runtime/executor.cc:1197] [/device:CPU:0] (DEBUG INFO) Executor start aborting (this does not indicate an error and you can ignore this message): INVALID_ARGUMENT: You must feed a value for placeholder tensor 'Placeholder/_1' with dtype float and shape [500]\n",
      "\t [[{{node Placeholder/_1}}]]\n",
      "2023-05-13 18:26:07.229626: I tensorflow/core/common_runtime/executor.cc:1197] [/device:CPU:0] (DEBUG INFO) Executor start aborting (this does not indicate an error and you can ignore this message): INVALID_ARGUMENT: You must feed a value for placeholder tensor 'Placeholder/_1' with dtype float and shape [500]\n",
      "\t [[{{node Placeholder/_1}}]]\n",
      "2023-05-13 18:26:07.233227: I tensorflow/core/common_runtime/executor.cc:1197] [/device:CPU:0] (DEBUG INFO) Executor start aborting (this does not indicate an error and you can ignore this message): INVALID_ARGUMENT: You must feed a value for placeholder tensor 'Placeholder/_1' with dtype float and shape [500]\n",
      "\t [[{{node Placeholder/_1}}]]\n",
      "2023-05-13 18:26:07.236162: I tensorflow/core/common_runtime/executor.cc:1197] [/device:CPU:0] (DEBUG INFO) Executor start aborting (this does not indicate an error and you can ignore this message): INVALID_ARGUMENT: You must feed a value for placeholder tensor 'Placeholder/_1' with dtype float and shape [500]\n",
      "\t [[{{node Placeholder/_1}}]]\n",
      "2023-05-13 18:26:07.239656: I tensorflow/core/common_runtime/executor.cc:1197] [/device:CPU:0] (DEBUG INFO) Executor start aborting (this does not indicate an error and you can ignore this message): INVALID_ARGUMENT: You must feed a value for placeholder tensor 'Placeholder/_1' with dtype float and shape [500]\n",
      "\t [[{{node Placeholder/_1}}]]\n"
     ]
    },
    {
     "name": "stdout",
     "output_type": "stream",
     "text": [
      "\n",
      "Testing for epoch 7 index 4:\n",
      "65/65 [==============================] - 0s 443us/step\n"
     ]
    },
    {
     "name": "stderr",
     "output_type": "stream",
     "text": [
      "2023-05-13 18:26:07.481162: I tensorflow/core/common_runtime/executor.cc:1197] [/device:CPU:0] (DEBUG INFO) Executor start aborting (this does not indicate an error and you can ignore this message): INVALID_ARGUMENT: You must feed a value for placeholder tensor 'Placeholder/_1' with dtype int64 and shape [1000]\n",
      "\t [[{{node Placeholder/_1}}]]\n",
      "2023-05-13 18:26:07.548207: I tensorflow/core/common_runtime/executor.cc:1197] [/device:CPU:0] (DEBUG INFO) Executor start aborting (this does not indicate an error and you can ignore this message): INVALID_ARGUMENT: You must feed a value for placeholder tensor 'Placeholder/_1' with dtype float and shape [500]\n",
      "\t [[{{node Placeholder/_1}}]]\n",
      "2023-05-13 18:26:07.551541: I tensorflow/core/common_runtime/executor.cc:1197] [/device:CPU:0] (DEBUG INFO) Executor start aborting (this does not indicate an error and you can ignore this message): INVALID_ARGUMENT: You must feed a value for placeholder tensor 'Placeholder/_1' with dtype float and shape [500]\n",
      "\t [[{{node Placeholder/_1}}]]\n",
      "2023-05-13 18:26:07.554614: I tensorflow/core/common_runtime/executor.cc:1197] [/device:CPU:0] (DEBUG INFO) Executor start aborting (this does not indicate an error and you can ignore this message): INVALID_ARGUMENT: You must feed a value for placeholder tensor 'Placeholder/_1' with dtype float and shape [500]\n",
      "\t [[{{node Placeholder/_1}}]]\n",
      "2023-05-13 18:26:07.557512: I tensorflow/core/common_runtime/executor.cc:1197] [/device:CPU:0] (DEBUG INFO) Executor start aborting (this does not indicate an error and you can ignore this message): INVALID_ARGUMENT: You must feed a value for placeholder tensor 'Placeholder/_1' with dtype float and shape [500]\n",
      "\t [[{{node Placeholder/_1}}]]\n",
      "2023-05-13 18:26:07.560785: I tensorflow/core/common_runtime/executor.cc:1197] [/device:CPU:0] (DEBUG INFO) Executor start aborting (this does not indicate an error and you can ignore this message): INVALID_ARGUMENT: You must feed a value for placeholder tensor 'Placeholder/_1' with dtype float and shape [500]\n",
      "\t [[{{node Placeholder/_1}}]]\n",
      "2023-05-13 18:26:07.563711: I tensorflow/core/common_runtime/executor.cc:1197] [/device:CPU:0] (DEBUG INFO) Executor start aborting (this does not indicate an error and you can ignore this message): INVALID_ARGUMENT: You must feed a value for placeholder tensor 'Placeholder/_1' with dtype float and shape [500]\n",
      "\t [[{{node Placeholder/_1}}]]\n",
      "2023-05-13 18:26:07.567074: I tensorflow/core/common_runtime/executor.cc:1197] [/device:CPU:0] (DEBUG INFO) Executor start aborting (this does not indicate an error and you can ignore this message): INVALID_ARGUMENT: You must feed a value for placeholder tensor 'Placeholder/_1' with dtype float and shape [500]\n",
      "\t [[{{node Placeholder/_1}}]]\n",
      "2023-05-13 18:26:07.570172: I tensorflow/core/common_runtime/executor.cc:1197] [/device:CPU:0] (DEBUG INFO) Executor start aborting (this does not indicate an error and you can ignore this message): INVALID_ARGUMENT: You must feed a value for placeholder tensor 'Placeholder/_1' with dtype float and shape [500]\n",
      "\t [[{{node Placeholder/_1}}]]\n",
      "2023-05-13 18:26:07.573701: I tensorflow/core/common_runtime/executor.cc:1197] [/device:CPU:0] (DEBUG INFO) Executor start aborting (this does not indicate an error and you can ignore this message): INVALID_ARGUMENT: You must feed a value for placeholder tensor 'Placeholder/_1' with dtype float and shape [500]\n",
      "\t [[{{node Placeholder/_1}}]]\n",
      "2023-05-13 18:26:07.576708: I tensorflow/core/common_runtime/executor.cc:1197] [/device:CPU:0] (DEBUG INFO) Executor start aborting (this does not indicate an error and you can ignore this message): INVALID_ARGUMENT: You must feed a value for placeholder tensor 'Placeholder/_1' with dtype float and shape [500]\n",
      "\t [[{{node Placeholder/_1}}]]\n"
     ]
    },
    {
     "name": "stdout",
     "output_type": "stream",
     "text": [
      "Epoch 8 of 60\n",
      "\n",
      "Testing for epoch 8 index 1:\n",
      "65/65 [==============================] - 0s 443us/step\n"
     ]
    },
    {
     "name": "stderr",
     "output_type": "stream",
     "text": [
      "2023-05-13 18:26:07.818047: I tensorflow/core/common_runtime/executor.cc:1197] [/device:CPU:0] (DEBUG INFO) Executor start aborting (this does not indicate an error and you can ignore this message): INVALID_ARGUMENT: You must feed a value for placeholder tensor 'Placeholder/_1' with dtype int64 and shape [1000]\n",
      "\t [[{{node Placeholder/_1}}]]\n",
      "2023-05-13 18:26:07.885902: I tensorflow/core/common_runtime/executor.cc:1197] [/device:CPU:0] (DEBUG INFO) Executor start aborting (this does not indicate an error and you can ignore this message): INVALID_ARGUMENT: You must feed a value for placeholder tensor 'Placeholder/_1' with dtype float and shape [500]\n",
      "\t [[{{node Placeholder/_1}}]]\n",
      "2023-05-13 18:26:07.889452: I tensorflow/core/common_runtime/executor.cc:1197] [/device:CPU:0] (DEBUG INFO) Executor start aborting (this does not indicate an error and you can ignore this message): INVALID_ARGUMENT: You must feed a value for placeholder tensor 'Placeholder/_1' with dtype float and shape [500]\n",
      "\t [[{{node Placeholder/_1}}]]\n",
      "2023-05-13 18:26:07.893206: I tensorflow/core/common_runtime/executor.cc:1197] [/device:CPU:0] (DEBUG INFO) Executor start aborting (this does not indicate an error and you can ignore this message): INVALID_ARGUMENT: You must feed a value for placeholder tensor 'Placeholder/_1' with dtype float and shape [500]\n",
      "\t [[{{node Placeholder/_1}}]]\n",
      "2023-05-13 18:26:07.896127: I tensorflow/core/common_runtime/executor.cc:1197] [/device:CPU:0] (DEBUG INFO) Executor start aborting (this does not indicate an error and you can ignore this message): INVALID_ARGUMENT: You must feed a value for placeholder tensor 'Placeholder/_1' with dtype float and shape [500]\n",
      "\t [[{{node Placeholder/_1}}]]\n",
      "2023-05-13 18:26:07.899709: I tensorflow/core/common_runtime/executor.cc:1197] [/device:CPU:0] (DEBUG INFO) Executor start aborting (this does not indicate an error and you can ignore this message): INVALID_ARGUMENT: You must feed a value for placeholder tensor 'Placeholder/_1' with dtype float and shape [500]\n",
      "\t [[{{node Placeholder/_1}}]]\n",
      "2023-05-13 18:26:07.902749: I tensorflow/core/common_runtime/executor.cc:1197] [/device:CPU:0] (DEBUG INFO) Executor start aborting (this does not indicate an error and you can ignore this message): INVALID_ARGUMENT: You must feed a value for placeholder tensor 'Placeholder/_1' with dtype float and shape [500]\n",
      "\t [[{{node Placeholder/_1}}]]\n",
      "2023-05-13 18:26:07.905655: I tensorflow/core/common_runtime/executor.cc:1197] [/device:CPU:0] (DEBUG INFO) Executor start aborting (this does not indicate an error and you can ignore this message): INVALID_ARGUMENT: You must feed a value for placeholder tensor 'Placeholder/_1' with dtype float and shape [500]\n",
      "\t [[{{node Placeholder/_1}}]]\n",
      "2023-05-13 18:26:07.908543: I tensorflow/core/common_runtime/executor.cc:1197] [/device:CPU:0] (DEBUG INFO) Executor start aborting (this does not indicate an error and you can ignore this message): INVALID_ARGUMENT: You must feed a value for placeholder tensor 'Placeholder/_1' with dtype float and shape [500]\n",
      "\t [[{{node Placeholder/_1}}]]\n",
      "2023-05-13 18:26:07.911387: I tensorflow/core/common_runtime/executor.cc:1197] [/device:CPU:0] (DEBUG INFO) Executor start aborting (this does not indicate an error and you can ignore this message): INVALID_ARGUMENT: You must feed a value for placeholder tensor 'Placeholder/_1' with dtype float and shape [500]\n",
      "\t [[{{node Placeholder/_1}}]]\n",
      "2023-05-13 18:26:07.914656: I tensorflow/core/common_runtime/executor.cc:1197] [/device:CPU:0] (DEBUG INFO) Executor start aborting (this does not indicate an error and you can ignore this message): INVALID_ARGUMENT: You must feed a value for placeholder tensor 'Placeholder/_1' with dtype float and shape [500]\n",
      "\t [[{{node Placeholder/_1}}]]\n"
     ]
    },
    {
     "name": "stdout",
     "output_type": "stream",
     "text": [
      "\n",
      "Testing for epoch 8 index 2:\n",
      "65/65 [==============================] - 0s 493us/step\n"
     ]
    },
    {
     "name": "stderr",
     "output_type": "stream",
     "text": [
      "2023-05-13 18:26:08.164084: I tensorflow/core/common_runtime/executor.cc:1197] [/device:CPU:0] (DEBUG INFO) Executor start aborting (this does not indicate an error and you can ignore this message): INVALID_ARGUMENT: You must feed a value for placeholder tensor 'Placeholder/_1' with dtype int64 and shape [1000]\n",
      "\t [[{{node Placeholder/_1}}]]\n",
      "2023-05-13 18:26:08.234497: I tensorflow/core/common_runtime/executor.cc:1197] [/device:CPU:0] (DEBUG INFO) Executor start aborting (this does not indicate an error and you can ignore this message): INVALID_ARGUMENT: You must feed a value for placeholder tensor 'Placeholder/_1' with dtype float and shape [500]\n",
      "\t [[{{node Placeholder/_1}}]]\n",
      "2023-05-13 18:26:08.238073: I tensorflow/core/common_runtime/executor.cc:1197] [/device:CPU:0] (DEBUG INFO) Executor start aborting (this does not indicate an error and you can ignore this message): INVALID_ARGUMENT: You must feed a value for placeholder tensor 'Placeholder/_1' with dtype float and shape [500]\n",
      "\t [[{{node Placeholder/_1}}]]\n",
      "2023-05-13 18:26:08.241820: I tensorflow/core/common_runtime/executor.cc:1197] [/device:CPU:0] (DEBUG INFO) Executor start aborting (this does not indicate an error and you can ignore this message): INVALID_ARGUMENT: You must feed a value for placeholder tensor 'Placeholder/_1' with dtype float and shape [500]\n",
      "\t [[{{node Placeholder/_1}}]]\n",
      "2023-05-13 18:26:08.244891: I tensorflow/core/common_runtime/executor.cc:1197] [/device:CPU:0] (DEBUG INFO) Executor start aborting (this does not indicate an error and you can ignore this message): INVALID_ARGUMENT: You must feed a value for placeholder tensor 'Placeholder/_1' with dtype float and shape [500]\n",
      "\t [[{{node Placeholder/_1}}]]\n",
      "2023-05-13 18:26:08.248209: I tensorflow/core/common_runtime/executor.cc:1197] [/device:CPU:0] (DEBUG INFO) Executor start aborting (this does not indicate an error and you can ignore this message): INVALID_ARGUMENT: You must feed a value for placeholder tensor 'Placeholder/_1' with dtype float and shape [500]\n",
      "\t [[{{node Placeholder/_1}}]]\n",
      "2023-05-13 18:26:08.251259: I tensorflow/core/common_runtime/executor.cc:1197] [/device:CPU:0] (DEBUG INFO) Executor start aborting (this does not indicate an error and you can ignore this message): INVALID_ARGUMENT: You must feed a value for placeholder tensor 'Placeholder/_1' with dtype float and shape [500]\n",
      "\t [[{{node Placeholder/_1}}]]\n",
      "2023-05-13 18:26:08.255036: I tensorflow/core/common_runtime/executor.cc:1197] [/device:CPU:0] (DEBUG INFO) Executor start aborting (this does not indicate an error and you can ignore this message): INVALID_ARGUMENT: You must feed a value for placeholder tensor 'Placeholder/_1' with dtype float and shape [500]\n",
      "\t [[{{node Placeholder/_1}}]]\n",
      "2023-05-13 18:26:08.258238: I tensorflow/core/common_runtime/executor.cc:1197] [/device:CPU:0] (DEBUG INFO) Executor start aborting (this does not indicate an error and you can ignore this message): INVALID_ARGUMENT: You must feed a value for placeholder tensor 'Placeholder/_1' with dtype float and shape [500]\n",
      "\t [[{{node Placeholder/_1}}]]\n",
      "2023-05-13 18:26:08.262078: I tensorflow/core/common_runtime/executor.cc:1197] [/device:CPU:0] (DEBUG INFO) Executor start aborting (this does not indicate an error and you can ignore this message): INVALID_ARGUMENT: You must feed a value for placeholder tensor 'Placeholder/_1' with dtype float and shape [500]\n",
      "\t [[{{node Placeholder/_1}}]]\n",
      "2023-05-13 18:26:08.265319: I tensorflow/core/common_runtime/executor.cc:1197] [/device:CPU:0] (DEBUG INFO) Executor start aborting (this does not indicate an error and you can ignore this message): INVALID_ARGUMENT: You must feed a value for placeholder tensor 'Placeholder/_1' with dtype float and shape [500]\n",
      "\t [[{{node Placeholder/_1}}]]\n"
     ]
    },
    {
     "name": "stdout",
     "output_type": "stream",
     "text": [
      "\n",
      "Testing for epoch 8 index 3:\n",
      "65/65 [==============================] - 0s 459us/step\n"
     ]
    },
    {
     "name": "stderr",
     "output_type": "stream",
     "text": [
      "2023-05-13 18:26:08.525744: I tensorflow/core/common_runtime/executor.cc:1197] [/device:CPU:0] (DEBUG INFO) Executor start aborting (this does not indicate an error and you can ignore this message): INVALID_ARGUMENT: You must feed a value for placeholder tensor 'Placeholder/_1' with dtype int64 and shape [1000]\n",
      "\t [[{{node Placeholder/_1}}]]\n",
      "2023-05-13 18:26:08.596916: I tensorflow/core/common_runtime/executor.cc:1197] [/device:CPU:0] (DEBUG INFO) Executor start aborting (this does not indicate an error and you can ignore this message): INVALID_ARGUMENT: You must feed a value for placeholder tensor 'Placeholder/_1' with dtype float and shape [500]\n",
      "\t [[{{node Placeholder/_1}}]]\n",
      "2023-05-13 18:26:08.600577: I tensorflow/core/common_runtime/executor.cc:1197] [/device:CPU:0] (DEBUG INFO) Executor start aborting (this does not indicate an error and you can ignore this message): INVALID_ARGUMENT: You must feed a value for placeholder tensor 'Placeholder/_1' with dtype float and shape [500]\n",
      "\t [[{{node Placeholder/_1}}]]\n",
      "2023-05-13 18:26:08.603763: I tensorflow/core/common_runtime/executor.cc:1197] [/device:CPU:0] (DEBUG INFO) Executor start aborting (this does not indicate an error and you can ignore this message): INVALID_ARGUMENT: You must feed a value for placeholder tensor 'Placeholder/_1' with dtype float and shape [500]\n",
      "\t [[{{node Placeholder/_1}}]]\n",
      "2023-05-13 18:26:08.606742: I tensorflow/core/common_runtime/executor.cc:1197] [/device:CPU:0] (DEBUG INFO) Executor start aborting (this does not indicate an error and you can ignore this message): INVALID_ARGUMENT: You must feed a value for placeholder tensor 'Placeholder/_1' with dtype float and shape [500]\n",
      "\t [[{{node Placeholder/_1}}]]\n",
      "2023-05-13 18:26:08.610031: I tensorflow/core/common_runtime/executor.cc:1197] [/device:CPU:0] (DEBUG INFO) Executor start aborting (this does not indicate an error and you can ignore this message): INVALID_ARGUMENT: You must feed a value for placeholder tensor 'Placeholder/_1' with dtype float and shape [500]\n",
      "\t [[{{node Placeholder/_1}}]]\n",
      "2023-05-13 18:26:08.613056: I tensorflow/core/common_runtime/executor.cc:1197] [/device:CPU:0] (DEBUG INFO) Executor start aborting (this does not indicate an error and you can ignore this message): INVALID_ARGUMENT: You must feed a value for placeholder tensor 'Placeholder/_1' with dtype float and shape [500]\n",
      "\t [[{{node Placeholder/_1}}]]\n",
      "2023-05-13 18:26:08.616430: I tensorflow/core/common_runtime/executor.cc:1197] [/device:CPU:0] (DEBUG INFO) Executor start aborting (this does not indicate an error and you can ignore this message): INVALID_ARGUMENT: You must feed a value for placeholder tensor 'Placeholder/_1' with dtype float and shape [500]\n",
      "\t [[{{node Placeholder/_1}}]]\n",
      "2023-05-13 18:26:08.619360: I tensorflow/core/common_runtime/executor.cc:1197] [/device:CPU:0] (DEBUG INFO) Executor start aborting (this does not indicate an error and you can ignore this message): INVALID_ARGUMENT: You must feed a value for placeholder tensor 'Placeholder/_1' with dtype float and shape [500]\n",
      "\t [[{{node Placeholder/_1}}]]\n",
      "2023-05-13 18:26:08.622732: I tensorflow/core/common_runtime/executor.cc:1197] [/device:CPU:0] (DEBUG INFO) Executor start aborting (this does not indicate an error and you can ignore this message): INVALID_ARGUMENT: You must feed a value for placeholder tensor 'Placeholder/_1' with dtype float and shape [500]\n",
      "\t [[{{node Placeholder/_1}}]]\n",
      "2023-05-13 18:26:08.625707: I tensorflow/core/common_runtime/executor.cc:1197] [/device:CPU:0] (DEBUG INFO) Executor start aborting (this does not indicate an error and you can ignore this message): INVALID_ARGUMENT: You must feed a value for placeholder tensor 'Placeholder/_1' with dtype float and shape [500]\n",
      "\t [[{{node Placeholder/_1}}]]\n"
     ]
    },
    {
     "name": "stdout",
     "output_type": "stream",
     "text": [
      "\n",
      "Testing for epoch 8 index 4:\n",
      "65/65 [==============================] - 0s 465us/step\n"
     ]
    },
    {
     "name": "stderr",
     "output_type": "stream",
     "text": [
      "2023-05-13 18:26:08.870856: I tensorflow/core/common_runtime/executor.cc:1197] [/device:CPU:0] (DEBUG INFO) Executor start aborting (this does not indicate an error and you can ignore this message): INVALID_ARGUMENT: You must feed a value for placeholder tensor 'Placeholder/_1' with dtype int64 and shape [1000]\n",
      "\t [[{{node Placeholder/_1}}]]\n",
      "2023-05-13 18:26:08.940575: I tensorflow/core/common_runtime/executor.cc:1197] [/device:CPU:0] (DEBUG INFO) Executor start aborting (this does not indicate an error and you can ignore this message): INVALID_ARGUMENT: You must feed a value for placeholder tensor 'Placeholder/_1' with dtype float and shape [500]\n",
      "\t [[{{node Placeholder/_1}}]]\n",
      "2023-05-13 18:26:08.944071: I tensorflow/core/common_runtime/executor.cc:1197] [/device:CPU:0] (DEBUG INFO) Executor start aborting (this does not indicate an error and you can ignore this message): INVALID_ARGUMENT: You must feed a value for placeholder tensor 'Placeholder/_1' with dtype float and shape [500]\n",
      "\t [[{{node Placeholder/_1}}]]\n",
      "2023-05-13 18:26:08.947235: I tensorflow/core/common_runtime/executor.cc:1197] [/device:CPU:0] (DEBUG INFO) Executor start aborting (this does not indicate an error and you can ignore this message): INVALID_ARGUMENT: You must feed a value for placeholder tensor 'Placeholder/_1' with dtype float and shape [500]\n",
      "\t [[{{node Placeholder/_1}}]]\n",
      "2023-05-13 18:26:08.950289: I tensorflow/core/common_runtime/executor.cc:1197] [/device:CPU:0] (DEBUG INFO) Executor start aborting (this does not indicate an error and you can ignore this message): INVALID_ARGUMENT: You must feed a value for placeholder tensor 'Placeholder/_1' with dtype float and shape [500]\n",
      "\t [[{{node Placeholder/_1}}]]\n",
      "2023-05-13 18:26:08.953431: I tensorflow/core/common_runtime/executor.cc:1197] [/device:CPU:0] (DEBUG INFO) Executor start aborting (this does not indicate an error and you can ignore this message): INVALID_ARGUMENT: You must feed a value for placeholder tensor 'Placeholder/_1' with dtype float and shape [500]\n",
      "\t [[{{node Placeholder/_1}}]]\n",
      "2023-05-13 18:26:08.956290: I tensorflow/core/common_runtime/executor.cc:1197] [/device:CPU:0] (DEBUG INFO) Executor start aborting (this does not indicate an error and you can ignore this message): INVALID_ARGUMENT: You must feed a value for placeholder tensor 'Placeholder/_1' with dtype float and shape [500]\n",
      "\t [[{{node Placeholder/_1}}]]\n",
      "2023-05-13 18:26:08.959223: I tensorflow/core/common_runtime/executor.cc:1197] [/device:CPU:0] (DEBUG INFO) Executor start aborting (this does not indicate an error and you can ignore this message): INVALID_ARGUMENT: You must feed a value for placeholder tensor 'Placeholder/_1' with dtype float and shape [500]\n",
      "\t [[{{node Placeholder/_1}}]]\n",
      "2023-05-13 18:26:08.962467: I tensorflow/core/common_runtime/executor.cc:1197] [/device:CPU:0] (DEBUG INFO) Executor start aborting (this does not indicate an error and you can ignore this message): INVALID_ARGUMENT: You must feed a value for placeholder tensor 'Placeholder/_1' with dtype float and shape [500]\n",
      "\t [[{{node Placeholder/_1}}]]\n",
      "2023-05-13 18:26:08.965316: I tensorflow/core/common_runtime/executor.cc:1197] [/device:CPU:0] (DEBUG INFO) Executor start aborting (this does not indicate an error and you can ignore this message): INVALID_ARGUMENT: You must feed a value for placeholder tensor 'Placeholder/_1' with dtype float and shape [500]\n",
      "\t [[{{node Placeholder/_1}}]]\n",
      "2023-05-13 18:26:08.968990: I tensorflow/core/common_runtime/executor.cc:1197] [/device:CPU:0] (DEBUG INFO) Executor start aborting (this does not indicate an error and you can ignore this message): INVALID_ARGUMENT: You must feed a value for placeholder tensor 'Placeholder/_1' with dtype float and shape [500]\n",
      "\t [[{{node Placeholder/_1}}]]\n"
     ]
    },
    {
     "name": "stdout",
     "output_type": "stream",
     "text": [
      "Epoch 9 of 60\n",
      "\n",
      "Testing for epoch 9 index 1:\n",
      "65/65 [==============================] - 0s 475us/step\n"
     ]
    },
    {
     "name": "stderr",
     "output_type": "stream",
     "text": [
      "2023-05-13 18:26:09.234189: I tensorflow/core/common_runtime/executor.cc:1197] [/device:CPU:0] (DEBUG INFO) Executor start aborting (this does not indicate an error and you can ignore this message): INVALID_ARGUMENT: You must feed a value for placeholder tensor 'Placeholder/_1' with dtype int64 and shape [1000]\n",
      "\t [[{{node Placeholder/_1}}]]\n",
      "2023-05-13 18:26:09.306682: I tensorflow/core/common_runtime/executor.cc:1197] [/device:CPU:0] (DEBUG INFO) Executor start aborting (this does not indicate an error and you can ignore this message): INVALID_ARGUMENT: You must feed a value for placeholder tensor 'Placeholder/_1' with dtype float and shape [500]\n",
      "\t [[{{node Placeholder/_1}}]]\n",
      "2023-05-13 18:26:09.310952: I tensorflow/core/common_runtime/executor.cc:1197] [/device:CPU:0] (DEBUG INFO) Executor start aborting (this does not indicate an error and you can ignore this message): INVALID_ARGUMENT: You must feed a value for placeholder tensor 'Placeholder/_1' with dtype float and shape [500]\n",
      "\t [[{{node Placeholder/_1}}]]\n",
      "2023-05-13 18:26:09.314732: I tensorflow/core/common_runtime/executor.cc:1197] [/device:CPU:0] (DEBUG INFO) Executor start aborting (this does not indicate an error and you can ignore this message): INVALID_ARGUMENT: You must feed a value for placeholder tensor 'Placeholder/_1' with dtype float and shape [500]\n",
      "\t [[{{node Placeholder/_1}}]]\n",
      "2023-05-13 18:26:09.318020: I tensorflow/core/common_runtime/executor.cc:1197] [/device:CPU:0] (DEBUG INFO) Executor start aborting (this does not indicate an error and you can ignore this message): INVALID_ARGUMENT: You must feed a value for placeholder tensor 'Placeholder/_1' with dtype float and shape [500]\n",
      "\t [[{{node Placeholder/_1}}]]\n",
      "2023-05-13 18:26:09.321262: I tensorflow/core/common_runtime/executor.cc:1197] [/device:CPU:0] (DEBUG INFO) Executor start aborting (this does not indicate an error and you can ignore this message): INVALID_ARGUMENT: You must feed a value for placeholder tensor 'Placeholder/_1' with dtype float and shape [500]\n",
      "\t [[{{node Placeholder/_1}}]]\n",
      "2023-05-13 18:26:09.324726: I tensorflow/core/common_runtime/executor.cc:1197] [/device:CPU:0] (DEBUG INFO) Executor start aborting (this does not indicate an error and you can ignore this message): INVALID_ARGUMENT: You must feed a value for placeholder tensor 'Placeholder/_1' with dtype float and shape [500]\n",
      "\t [[{{node Placeholder/_1}}]]\n",
      "2023-05-13 18:26:09.327853: I tensorflow/core/common_runtime/executor.cc:1197] [/device:CPU:0] (DEBUG INFO) Executor start aborting (this does not indicate an error and you can ignore this message): INVALID_ARGUMENT: You must feed a value for placeholder tensor 'Placeholder/_1' with dtype float and shape [500]\n",
      "\t [[{{node Placeholder/_1}}]]\n",
      "2023-05-13 18:26:09.331833: I tensorflow/core/common_runtime/executor.cc:1197] [/device:CPU:0] (DEBUG INFO) Executor start aborting (this does not indicate an error and you can ignore this message): INVALID_ARGUMENT: You must feed a value for placeholder tensor 'Placeholder/_1' with dtype float and shape [500]\n",
      "\t [[{{node Placeholder/_1}}]]\n",
      "2023-05-13 18:26:09.335004: I tensorflow/core/common_runtime/executor.cc:1197] [/device:CPU:0] (DEBUG INFO) Executor start aborting (this does not indicate an error and you can ignore this message): INVALID_ARGUMENT: You must feed a value for placeholder tensor 'Placeholder/_1' with dtype float and shape [500]\n",
      "\t [[{{node Placeholder/_1}}]]\n",
      "2023-05-13 18:26:09.338202: I tensorflow/core/common_runtime/executor.cc:1197] [/device:CPU:0] (DEBUG INFO) Executor start aborting (this does not indicate an error and you can ignore this message): INVALID_ARGUMENT: You must feed a value for placeholder tensor 'Placeholder/_1' with dtype float and shape [500]\n",
      "\t [[{{node Placeholder/_1}}]]\n"
     ]
    },
    {
     "name": "stdout",
     "output_type": "stream",
     "text": [
      "\n",
      "Testing for epoch 9 index 2:\n",
      "65/65 [==============================] - 0s 486us/step\n"
     ]
    },
    {
     "name": "stderr",
     "output_type": "stream",
     "text": [
      "2023-05-13 18:26:09.581878: I tensorflow/core/common_runtime/executor.cc:1197] [/device:CPU:0] (DEBUG INFO) Executor start aborting (this does not indicate an error and you can ignore this message): INVALID_ARGUMENT: You must feed a value for placeholder tensor 'Placeholder/_1' with dtype int64 and shape [1000]\n",
      "\t [[{{node Placeholder/_1}}]]\n",
      "2023-05-13 18:26:09.653767: I tensorflow/core/common_runtime/executor.cc:1197] [/device:CPU:0] (DEBUG INFO) Executor start aborting (this does not indicate an error and you can ignore this message): INVALID_ARGUMENT: You must feed a value for placeholder tensor 'Placeholder/_1' with dtype float and shape [500]\n",
      "\t [[{{node Placeholder/_1}}]]\n",
      "2023-05-13 18:26:09.657857: I tensorflow/core/common_runtime/executor.cc:1197] [/device:CPU:0] (DEBUG INFO) Executor start aborting (this does not indicate an error and you can ignore this message): INVALID_ARGUMENT: You must feed a value for placeholder tensor 'Placeholder/_1' with dtype float and shape [500]\n",
      "\t [[{{node Placeholder/_1}}]]\n",
      "2023-05-13 18:26:09.661219: I tensorflow/core/common_runtime/executor.cc:1197] [/device:CPU:0] (DEBUG INFO) Executor start aborting (this does not indicate an error and you can ignore this message): INVALID_ARGUMENT: You must feed a value for placeholder tensor 'Placeholder/_1' with dtype float and shape [500]\n",
      "\t [[{{node Placeholder/_1}}]]\n",
      "2023-05-13 18:26:09.664435: I tensorflow/core/common_runtime/executor.cc:1197] [/device:CPU:0] (DEBUG INFO) Executor start aborting (this does not indicate an error and you can ignore this message): INVALID_ARGUMENT: You must feed a value for placeholder tensor 'Placeholder/_1' with dtype float and shape [500]\n",
      "\t [[{{node Placeholder/_1}}]]\n",
      "2023-05-13 18:26:09.667752: I tensorflow/core/common_runtime/executor.cc:1197] [/device:CPU:0] (DEBUG INFO) Executor start aborting (this does not indicate an error and you can ignore this message): INVALID_ARGUMENT: You must feed a value for placeholder tensor 'Placeholder/_1' with dtype float and shape [500]\n",
      "\t [[{{node Placeholder/_1}}]]\n",
      "2023-05-13 18:26:09.670828: I tensorflow/core/common_runtime/executor.cc:1197] [/device:CPU:0] (DEBUG INFO) Executor start aborting (this does not indicate an error and you can ignore this message): INVALID_ARGUMENT: You must feed a value for placeholder tensor 'Placeholder/_1' with dtype float and shape [500]\n",
      "\t [[{{node Placeholder/_1}}]]\n",
      "2023-05-13 18:26:09.673750: I tensorflow/core/common_runtime/executor.cc:1197] [/device:CPU:0] (DEBUG INFO) Executor start aborting (this does not indicate an error and you can ignore this message): INVALID_ARGUMENT: You must feed a value for placeholder tensor 'Placeholder/_1' with dtype float and shape [500]\n",
      "\t [[{{node Placeholder/_1}}]]\n",
      "2023-05-13 18:26:09.677378: I tensorflow/core/common_runtime/executor.cc:1197] [/device:CPU:0] (DEBUG INFO) Executor start aborting (this does not indicate an error and you can ignore this message): INVALID_ARGUMENT: You must feed a value for placeholder tensor 'Placeholder/_1' with dtype float and shape [500]\n",
      "\t [[{{node Placeholder/_1}}]]\n",
      "2023-05-13 18:26:09.680693: I tensorflow/core/common_runtime/executor.cc:1197] [/device:CPU:0] (DEBUG INFO) Executor start aborting (this does not indicate an error and you can ignore this message): INVALID_ARGUMENT: You must feed a value for placeholder tensor 'Placeholder/_1' with dtype float and shape [500]\n",
      "\t [[{{node Placeholder/_1}}]]\n",
      "2023-05-13 18:26:09.684533: I tensorflow/core/common_runtime/executor.cc:1197] [/device:CPU:0] (DEBUG INFO) Executor start aborting (this does not indicate an error and you can ignore this message): INVALID_ARGUMENT: You must feed a value for placeholder tensor 'Placeholder/_1' with dtype float and shape [500]\n",
      "\t [[{{node Placeholder/_1}}]]\n"
     ]
    },
    {
     "name": "stdout",
     "output_type": "stream",
     "text": [
      "\n",
      "Testing for epoch 9 index 3:\n",
      "65/65 [==============================] - 0s 476us/step\n"
     ]
    },
    {
     "name": "stderr",
     "output_type": "stream",
     "text": [
      "2023-05-13 18:26:09.932641: I tensorflow/core/common_runtime/executor.cc:1197] [/device:CPU:0] (DEBUG INFO) Executor start aborting (this does not indicate an error and you can ignore this message): INVALID_ARGUMENT: You must feed a value for placeholder tensor 'Placeholder/_1' with dtype int64 and shape [1000]\n",
      "\t [[{{node Placeholder/_1}}]]\n",
      "2023-05-13 18:26:10.002862: I tensorflow/core/common_runtime/executor.cc:1197] [/device:CPU:0] (DEBUG INFO) Executor start aborting (this does not indicate an error and you can ignore this message): INVALID_ARGUMENT: You must feed a value for placeholder tensor 'Placeholder/_1' with dtype float and shape [500]\n",
      "\t [[{{node Placeholder/_1}}]]\n",
      "2023-05-13 18:26:10.006633: I tensorflow/core/common_runtime/executor.cc:1197] [/device:CPU:0] (DEBUG INFO) Executor start aborting (this does not indicate an error and you can ignore this message): INVALID_ARGUMENT: You must feed a value for placeholder tensor 'Placeholder/_1' with dtype float and shape [500]\n",
      "\t [[{{node Placeholder/_1}}]]\n",
      "2023-05-13 18:26:10.009864: I tensorflow/core/common_runtime/executor.cc:1197] [/device:CPU:0] (DEBUG INFO) Executor start aborting (this does not indicate an error and you can ignore this message): INVALID_ARGUMENT: You must feed a value for placeholder tensor 'Placeholder/_1' with dtype float and shape [500]\n",
      "\t [[{{node Placeholder/_1}}]]\n",
      "2023-05-13 18:26:10.013095: I tensorflow/core/common_runtime/executor.cc:1197] [/device:CPU:0] (DEBUG INFO) Executor start aborting (this does not indicate an error and you can ignore this message): INVALID_ARGUMENT: You must feed a value for placeholder tensor 'Placeholder/_1' with dtype float and shape [500]\n",
      "\t [[{{node Placeholder/_1}}]]\n",
      "2023-05-13 18:26:10.015969: I tensorflow/core/common_runtime/executor.cc:1197] [/device:CPU:0] (DEBUG INFO) Executor start aborting (this does not indicate an error and you can ignore this message): INVALID_ARGUMENT: You must feed a value for placeholder tensor 'Placeholder/_1' with dtype float and shape [500]\n",
      "\t [[{{node Placeholder/_1}}]]\n",
      "2023-05-13 18:26:10.019018: I tensorflow/core/common_runtime/executor.cc:1197] [/device:CPU:0] (DEBUG INFO) Executor start aborting (this does not indicate an error and you can ignore this message): INVALID_ARGUMENT: You must feed a value for placeholder tensor 'Placeholder/_1' with dtype float and shape [500]\n",
      "\t [[{{node Placeholder/_1}}]]\n",
      "2023-05-13 18:26:10.021982: I tensorflow/core/common_runtime/executor.cc:1197] [/device:CPU:0] (DEBUG INFO) Executor start aborting (this does not indicate an error and you can ignore this message): INVALID_ARGUMENT: You must feed a value for placeholder tensor 'Placeholder/_1' with dtype float and shape [500]\n",
      "\t [[{{node Placeholder/_1}}]]\n",
      "2023-05-13 18:26:10.025396: I tensorflow/core/common_runtime/executor.cc:1197] [/device:CPU:0] (DEBUG INFO) Executor start aborting (this does not indicate an error and you can ignore this message): INVALID_ARGUMENT: You must feed a value for placeholder tensor 'Placeholder/_1' with dtype float and shape [500]\n",
      "\t [[{{node Placeholder/_1}}]]\n",
      "2023-05-13 18:26:10.028422: I tensorflow/core/common_runtime/executor.cc:1197] [/device:CPU:0] (DEBUG INFO) Executor start aborting (this does not indicate an error and you can ignore this message): INVALID_ARGUMENT: You must feed a value for placeholder tensor 'Placeholder/_1' with dtype float and shape [500]\n",
      "\t [[{{node Placeholder/_1}}]]\n",
      "2023-05-13 18:26:10.031987: I tensorflow/core/common_runtime/executor.cc:1197] [/device:CPU:0] (DEBUG INFO) Executor start aborting (this does not indicate an error and you can ignore this message): INVALID_ARGUMENT: You must feed a value for placeholder tensor 'Placeholder/_1' with dtype float and shape [500]\n",
      "\t [[{{node Placeholder/_1}}]]\n"
     ]
    },
    {
     "name": "stdout",
     "output_type": "stream",
     "text": [
      "\n",
      "Testing for epoch 9 index 4:\n",
      "65/65 [==============================] - 0s 466us/step\n"
     ]
    },
    {
     "name": "stderr",
     "output_type": "stream",
     "text": [
      "2023-05-13 18:26:10.280627: I tensorflow/core/common_runtime/executor.cc:1197] [/device:CPU:0] (DEBUG INFO) Executor start aborting (this does not indicate an error and you can ignore this message): INVALID_ARGUMENT: You must feed a value for placeholder tensor 'Placeholder/_1' with dtype int64 and shape [1000]\n",
      "\t [[{{node Placeholder/_1}}]]\n",
      "2023-05-13 18:26:10.351938: I tensorflow/core/common_runtime/executor.cc:1197] [/device:CPU:0] (DEBUG INFO) Executor start aborting (this does not indicate an error and you can ignore this message): INVALID_ARGUMENT: You must feed a value for placeholder tensor 'Placeholder/_1' with dtype float and shape [500]\n",
      "\t [[{{node Placeholder/_1}}]]\n",
      "2023-05-13 18:26:10.355463: I tensorflow/core/common_runtime/executor.cc:1197] [/device:CPU:0] (DEBUG INFO) Executor start aborting (this does not indicate an error and you can ignore this message): INVALID_ARGUMENT: You must feed a value for placeholder tensor 'Placeholder/_1' with dtype float and shape [500]\n",
      "\t [[{{node Placeholder/_1}}]]\n",
      "2023-05-13 18:26:10.358965: I tensorflow/core/common_runtime/executor.cc:1197] [/device:CPU:0] (DEBUG INFO) Executor start aborting (this does not indicate an error and you can ignore this message): INVALID_ARGUMENT: You must feed a value for placeholder tensor 'Placeholder/_1' with dtype float and shape [500]\n",
      "\t [[{{node Placeholder/_1}}]]\n",
      "2023-05-13 18:26:10.361915: I tensorflow/core/common_runtime/executor.cc:1197] [/device:CPU:0] (DEBUG INFO) Executor start aborting (this does not indicate an error and you can ignore this message): INVALID_ARGUMENT: You must feed a value for placeholder tensor 'Placeholder/_1' with dtype float and shape [500]\n",
      "\t [[{{node Placeholder/_1}}]]\n",
      "2023-05-13 18:26:10.365577: I tensorflow/core/common_runtime/executor.cc:1197] [/device:CPU:0] (DEBUG INFO) Executor start aborting (this does not indicate an error and you can ignore this message): INVALID_ARGUMENT: You must feed a value for placeholder tensor 'Placeholder/_1' with dtype float and shape [500]\n",
      "\t [[{{node Placeholder/_1}}]]\n",
      "2023-05-13 18:26:10.368455: I tensorflow/core/common_runtime/executor.cc:1197] [/device:CPU:0] (DEBUG INFO) Executor start aborting (this does not indicate an error and you can ignore this message): INVALID_ARGUMENT: You must feed a value for placeholder tensor 'Placeholder/_1' with dtype float and shape [500]\n",
      "\t [[{{node Placeholder/_1}}]]\n",
      "2023-05-13 18:26:10.372283: I tensorflow/core/common_runtime/executor.cc:1197] [/device:CPU:0] (DEBUG INFO) Executor start aborting (this does not indicate an error and you can ignore this message): INVALID_ARGUMENT: You must feed a value for placeholder tensor 'Placeholder/_1' with dtype float and shape [500]\n",
      "\t [[{{node Placeholder/_1}}]]\n",
      "2023-05-13 18:26:10.375229: I tensorflow/core/common_runtime/executor.cc:1197] [/device:CPU:0] (DEBUG INFO) Executor start aborting (this does not indicate an error and you can ignore this message): INVALID_ARGUMENT: You must feed a value for placeholder tensor 'Placeholder/_1' with dtype float and shape [500]\n",
      "\t [[{{node Placeholder/_1}}]]\n",
      "2023-05-13 18:26:10.379198: I tensorflow/core/common_runtime/executor.cc:1197] [/device:CPU:0] (DEBUG INFO) Executor start aborting (this does not indicate an error and you can ignore this message): INVALID_ARGUMENT: You must feed a value for placeholder tensor 'Placeholder/_1' with dtype float and shape [500]\n",
      "\t [[{{node Placeholder/_1}}]]\n",
      "2023-05-13 18:26:10.382158: I tensorflow/core/common_runtime/executor.cc:1197] [/device:CPU:0] (DEBUG INFO) Executor start aborting (this does not indicate an error and you can ignore this message): INVALID_ARGUMENT: You must feed a value for placeholder tensor 'Placeholder/_1' with dtype float and shape [500]\n",
      "\t [[{{node Placeholder/_1}}]]\n"
     ]
    },
    {
     "name": "stdout",
     "output_type": "stream",
     "text": [
      "Epoch 10 of 60\n",
      "\n",
      "Testing for epoch 10 index 1:\n",
      "65/65 [==============================] - 0s 579us/step\n"
     ]
    },
    {
     "name": "stderr",
     "output_type": "stream",
     "text": [
      "2023-05-13 18:26:10.652442: I tensorflow/core/common_runtime/executor.cc:1197] [/device:CPU:0] (DEBUG INFO) Executor start aborting (this does not indicate an error and you can ignore this message): INVALID_ARGUMENT: You must feed a value for placeholder tensor 'Placeholder/_1' with dtype int64 and shape [1000]\n",
      "\t [[{{node Placeholder/_1}}]]\n",
      "2023-05-13 18:26:10.744435: I tensorflow/core/common_runtime/executor.cc:1197] [/device:CPU:0] (DEBUG INFO) Executor start aborting (this does not indicate an error and you can ignore this message): INVALID_ARGUMENT: You must feed a value for placeholder tensor 'Placeholder/_1' with dtype float and shape [500]\n",
      "\t [[{{node Placeholder/_1}}]]\n",
      "2023-05-13 18:26:10.748693: I tensorflow/core/common_runtime/executor.cc:1197] [/device:CPU:0] (DEBUG INFO) Executor start aborting (this does not indicate an error and you can ignore this message): INVALID_ARGUMENT: You must feed a value for placeholder tensor 'Placeholder/_1' with dtype float and shape [500]\n",
      "\t [[{{node Placeholder/_1}}]]\n",
      "2023-05-13 18:26:10.752867: I tensorflow/core/common_runtime/executor.cc:1197] [/device:CPU:0] (DEBUG INFO) Executor start aborting (this does not indicate an error and you can ignore this message): INVALID_ARGUMENT: You must feed a value for placeholder tensor 'Placeholder/_1' with dtype float and shape [500]\n",
      "\t [[{{node Placeholder/_1}}]]\n",
      "2023-05-13 18:26:10.756745: I tensorflow/core/common_runtime/executor.cc:1197] [/device:CPU:0] (DEBUG INFO) Executor start aborting (this does not indicate an error and you can ignore this message): INVALID_ARGUMENT: You must feed a value for placeholder tensor 'Placeholder/_1' with dtype float and shape [500]\n",
      "\t [[{{node Placeholder/_1}}]]\n",
      "2023-05-13 18:26:10.761128: I tensorflow/core/common_runtime/executor.cc:1197] [/device:CPU:0] (DEBUG INFO) Executor start aborting (this does not indicate an error and you can ignore this message): INVALID_ARGUMENT: You must feed a value for placeholder tensor 'Placeholder/_1' with dtype float and shape [500]\n",
      "\t [[{{node Placeholder/_1}}]]\n",
      "2023-05-13 18:26:10.764582: I tensorflow/core/common_runtime/executor.cc:1197] [/device:CPU:0] (DEBUG INFO) Executor start aborting (this does not indicate an error and you can ignore this message): INVALID_ARGUMENT: You must feed a value for placeholder tensor 'Placeholder/_1' with dtype float and shape [500]\n",
      "\t [[{{node Placeholder/_1}}]]\n",
      "2023-05-13 18:26:10.768320: I tensorflow/core/common_runtime/executor.cc:1197] [/device:CPU:0] (DEBUG INFO) Executor start aborting (this does not indicate an error and you can ignore this message): INVALID_ARGUMENT: You must feed a value for placeholder tensor 'Placeholder/_1' with dtype float and shape [500]\n",
      "\t [[{{node Placeholder/_1}}]]\n",
      "2023-05-13 18:26:10.771747: I tensorflow/core/common_runtime/executor.cc:1197] [/device:CPU:0] (DEBUG INFO) Executor start aborting (this does not indicate an error and you can ignore this message): INVALID_ARGUMENT: You must feed a value for placeholder tensor 'Placeholder/_1' with dtype float and shape [500]\n",
      "\t [[{{node Placeholder/_1}}]]\n",
      "2023-05-13 18:26:10.775184: I tensorflow/core/common_runtime/executor.cc:1197] [/device:CPU:0] (DEBUG INFO) Executor start aborting (this does not indicate an error and you can ignore this message): INVALID_ARGUMENT: You must feed a value for placeholder tensor 'Placeholder/_1' with dtype float and shape [500]\n",
      "\t [[{{node Placeholder/_1}}]]\n",
      "2023-05-13 18:26:10.778570: I tensorflow/core/common_runtime/executor.cc:1197] [/device:CPU:0] (DEBUG INFO) Executor start aborting (this does not indicate an error and you can ignore this message): INVALID_ARGUMENT: You must feed a value for placeholder tensor 'Placeholder/_1' with dtype float and shape [500]\n",
      "\t [[{{node Placeholder/_1}}]]\n"
     ]
    },
    {
     "name": "stdout",
     "output_type": "stream",
     "text": [
      "\n",
      "Testing for epoch 10 index 2:\n",
      "65/65 [==============================] - 0s 498us/step\n"
     ]
    },
    {
     "name": "stderr",
     "output_type": "stream",
     "text": [
      "2023-05-13 18:26:11.065908: I tensorflow/core/common_runtime/executor.cc:1197] [/device:CPU:0] (DEBUG INFO) Executor start aborting (this does not indicate an error and you can ignore this message): INVALID_ARGUMENT: You must feed a value for placeholder tensor 'Placeholder/_1' with dtype int64 and shape [1000]\n",
      "\t [[{{node Placeholder/_1}}]]\n",
      "2023-05-13 18:26:11.141414: I tensorflow/core/common_runtime/executor.cc:1197] [/device:CPU:0] (DEBUG INFO) Executor start aborting (this does not indicate an error and you can ignore this message): INVALID_ARGUMENT: You must feed a value for placeholder tensor 'Placeholder/_1' with dtype float and shape [500]\n",
      "\t [[{{node Placeholder/_1}}]]\n",
      "2023-05-13 18:26:11.145473: I tensorflow/core/common_runtime/executor.cc:1197] [/device:CPU:0] (DEBUG INFO) Executor start aborting (this does not indicate an error and you can ignore this message): INVALID_ARGUMENT: You must feed a value for placeholder tensor 'Placeholder/_1' with dtype float and shape [500]\n",
      "\t [[{{node Placeholder/_1}}]]\n",
      "2023-05-13 18:26:11.148974: I tensorflow/core/common_runtime/executor.cc:1197] [/device:CPU:0] (DEBUG INFO) Executor start aborting (this does not indicate an error and you can ignore this message): INVALID_ARGUMENT: You must feed a value for placeholder tensor 'Placeholder/_1' with dtype float and shape [500]\n",
      "\t [[{{node Placeholder/_1}}]]\n",
      "2023-05-13 18:26:11.152426: I tensorflow/core/common_runtime/executor.cc:1197] [/device:CPU:0] (DEBUG INFO) Executor start aborting (this does not indicate an error and you can ignore this message): INVALID_ARGUMENT: You must feed a value for placeholder tensor 'Placeholder/_1' with dtype float and shape [500]\n",
      "\t [[{{node Placeholder/_1}}]]\n",
      "2023-05-13 18:26:11.155782: I tensorflow/core/common_runtime/executor.cc:1197] [/device:CPU:0] (DEBUG INFO) Executor start aborting (this does not indicate an error and you can ignore this message): INVALID_ARGUMENT: You must feed a value for placeholder tensor 'Placeholder/_1' with dtype float and shape [500]\n",
      "\t [[{{node Placeholder/_1}}]]\n",
      "2023-05-13 18:26:11.159177: I tensorflow/core/common_runtime/executor.cc:1197] [/device:CPU:0] (DEBUG INFO) Executor start aborting (this does not indicate an error and you can ignore this message): INVALID_ARGUMENT: You must feed a value for placeholder tensor 'Placeholder/_1' with dtype float and shape [500]\n",
      "\t [[{{node Placeholder/_1}}]]\n",
      "2023-05-13 18:26:11.163147: I tensorflow/core/common_runtime/executor.cc:1197] [/device:CPU:0] (DEBUG INFO) Executor start aborting (this does not indicate an error and you can ignore this message): INVALID_ARGUMENT: You must feed a value for placeholder tensor 'Placeholder/_1' with dtype float and shape [500]\n",
      "\t [[{{node Placeholder/_1}}]]\n",
      "2023-05-13 18:26:11.167051: I tensorflow/core/common_runtime/executor.cc:1197] [/device:CPU:0] (DEBUG INFO) Executor start aborting (this does not indicate an error and you can ignore this message): INVALID_ARGUMENT: You must feed a value for placeholder tensor 'Placeholder/_1' with dtype float and shape [500]\n",
      "\t [[{{node Placeholder/_1}}]]\n",
      "2023-05-13 18:26:11.171560: I tensorflow/core/common_runtime/executor.cc:1197] [/device:CPU:0] (DEBUG INFO) Executor start aborting (this does not indicate an error and you can ignore this message): INVALID_ARGUMENT: You must feed a value for placeholder tensor 'Placeholder/_1' with dtype float and shape [500]\n",
      "\t [[{{node Placeholder/_1}}]]\n",
      "2023-05-13 18:26:11.174958: I tensorflow/core/common_runtime/executor.cc:1197] [/device:CPU:0] (DEBUG INFO) Executor start aborting (this does not indicate an error and you can ignore this message): INVALID_ARGUMENT: You must feed a value for placeholder tensor 'Placeholder/_1' with dtype float and shape [500]\n",
      "\t [[{{node Placeholder/_1}}]]\n"
     ]
    },
    {
     "name": "stdout",
     "output_type": "stream",
     "text": [
      "\n",
      "Testing for epoch 10 index 3:\n",
      "65/65 [==============================] - 0s 477us/step\n"
     ]
    },
    {
     "name": "stderr",
     "output_type": "stream",
     "text": [
      "2023-05-13 18:26:11.459574: I tensorflow/core/common_runtime/executor.cc:1197] [/device:CPU:0] (DEBUG INFO) Executor start aborting (this does not indicate an error and you can ignore this message): INVALID_ARGUMENT: You must feed a value for placeholder tensor 'Placeholder/_1' with dtype int64 and shape [1000]\n",
      "\t [[{{node Placeholder/_1}}]]\n",
      "2023-05-13 18:26:11.529398: I tensorflow/core/common_runtime/executor.cc:1197] [/device:CPU:0] (DEBUG INFO) Executor start aborting (this does not indicate an error and you can ignore this message): INVALID_ARGUMENT: You must feed a value for placeholder tensor 'Placeholder/_1' with dtype float and shape [500]\n",
      "\t [[{{node Placeholder/_1}}]]\n",
      "2023-05-13 18:26:11.532885: I tensorflow/core/common_runtime/executor.cc:1197] [/device:CPU:0] (DEBUG INFO) Executor start aborting (this does not indicate an error and you can ignore this message): INVALID_ARGUMENT: You must feed a value for placeholder tensor 'Placeholder/_1' with dtype float and shape [500]\n",
      "\t [[{{node Placeholder/_1}}]]\n",
      "2023-05-13 18:26:11.535789: I tensorflow/core/common_runtime/executor.cc:1197] [/device:CPU:0] (DEBUG INFO) Executor start aborting (this does not indicate an error and you can ignore this message): INVALID_ARGUMENT: You must feed a value for placeholder tensor 'Placeholder/_1' with dtype float and shape [500]\n",
      "\t [[{{node Placeholder/_1}}]]\n",
      "2023-05-13 18:26:11.539318: I tensorflow/core/common_runtime/executor.cc:1197] [/device:CPU:0] (DEBUG INFO) Executor start aborting (this does not indicate an error and you can ignore this message): INVALID_ARGUMENT: You must feed a value for placeholder tensor 'Placeholder/_1' with dtype float and shape [500]\n",
      "\t [[{{node Placeholder/_1}}]]\n",
      "2023-05-13 18:26:11.542186: I tensorflow/core/common_runtime/executor.cc:1197] [/device:CPU:0] (DEBUG INFO) Executor start aborting (this does not indicate an error and you can ignore this message): INVALID_ARGUMENT: You must feed a value for placeholder tensor 'Placeholder/_1' with dtype float and shape [500]\n",
      "\t [[{{node Placeholder/_1}}]]\n",
      "2023-05-13 18:26:11.546102: I tensorflow/core/common_runtime/executor.cc:1197] [/device:CPU:0] (DEBUG INFO) Executor start aborting (this does not indicate an error and you can ignore this message): INVALID_ARGUMENT: You must feed a value for placeholder tensor 'Placeholder/_1' with dtype float and shape [500]\n",
      "\t [[{{node Placeholder/_1}}]]\n",
      "2023-05-13 18:26:11.548964: I tensorflow/core/common_runtime/executor.cc:1197] [/device:CPU:0] (DEBUG INFO) Executor start aborting (this does not indicate an error and you can ignore this message): INVALID_ARGUMENT: You must feed a value for placeholder tensor 'Placeholder/_1' with dtype float and shape [500]\n",
      "\t [[{{node Placeholder/_1}}]]\n",
      "2023-05-13 18:26:11.552788: I tensorflow/core/common_runtime/executor.cc:1197] [/device:CPU:0] (DEBUG INFO) Executor start aborting (this does not indicate an error and you can ignore this message): INVALID_ARGUMENT: You must feed a value for placeholder tensor 'Placeholder/_1' with dtype float and shape [500]\n",
      "\t [[{{node Placeholder/_1}}]]\n",
      "2023-05-13 18:26:11.555723: I tensorflow/core/common_runtime/executor.cc:1197] [/device:CPU:0] (DEBUG INFO) Executor start aborting (this does not indicate an error and you can ignore this message): INVALID_ARGUMENT: You must feed a value for placeholder tensor 'Placeholder/_1' with dtype float and shape [500]\n",
      "\t [[{{node Placeholder/_1}}]]\n",
      "2023-05-13 18:26:11.558632: I tensorflow/core/common_runtime/executor.cc:1197] [/device:CPU:0] (DEBUG INFO) Executor start aborting (this does not indicate an error and you can ignore this message): INVALID_ARGUMENT: You must feed a value for placeholder tensor 'Placeholder/_1' with dtype float and shape [500]\n",
      "\t [[{{node Placeholder/_1}}]]\n"
     ]
    },
    {
     "name": "stdout",
     "output_type": "stream",
     "text": [
      "\n",
      "Testing for epoch 10 index 4:\n",
      "65/65 [==============================] - 0s 473us/step\n"
     ]
    },
    {
     "name": "stderr",
     "output_type": "stream",
     "text": [
      "2023-05-13 18:26:11.797258: I tensorflow/core/common_runtime/executor.cc:1197] [/device:CPU:0] (DEBUG INFO) Executor start aborting (this does not indicate an error and you can ignore this message): INVALID_ARGUMENT: You must feed a value for placeholder tensor 'Placeholder/_1' with dtype int64 and shape [1000]\n",
      "\t [[{{node Placeholder/_1}}]]\n",
      "2023-05-13 18:26:11.868195: I tensorflow/core/common_runtime/executor.cc:1197] [/device:CPU:0] (DEBUG INFO) Executor start aborting (this does not indicate an error and you can ignore this message): INVALID_ARGUMENT: You must feed a value for placeholder tensor 'Placeholder/_1' with dtype float and shape [500]\n",
      "\t [[{{node Placeholder/_1}}]]\n",
      "2023-05-13 18:26:11.872322: I tensorflow/core/common_runtime/executor.cc:1197] [/device:CPU:0] (DEBUG INFO) Executor start aborting (this does not indicate an error and you can ignore this message): INVALID_ARGUMENT: You must feed a value for placeholder tensor 'Placeholder/_1' with dtype float and shape [500]\n",
      "\t [[{{node Placeholder/_1}}]]\n",
      "2023-05-13 18:26:11.875441: I tensorflow/core/common_runtime/executor.cc:1197] [/device:CPU:0] (DEBUG INFO) Executor start aborting (this does not indicate an error and you can ignore this message): INVALID_ARGUMENT: You must feed a value for placeholder tensor 'Placeholder/_1' with dtype float and shape [500]\n",
      "\t [[{{node Placeholder/_1}}]]\n",
      "2023-05-13 18:26:11.879197: I tensorflow/core/common_runtime/executor.cc:1197] [/device:CPU:0] (DEBUG INFO) Executor start aborting (this does not indicate an error and you can ignore this message): INVALID_ARGUMENT: You must feed a value for placeholder tensor 'Placeholder/_1' with dtype float and shape [500]\n",
      "\t [[{{node Placeholder/_1}}]]\n",
      "2023-05-13 18:26:11.882107: I tensorflow/core/common_runtime/executor.cc:1197] [/device:CPU:0] (DEBUG INFO) Executor start aborting (this does not indicate an error and you can ignore this message): INVALID_ARGUMENT: You must feed a value for placeholder tensor 'Placeholder/_1' with dtype float and shape [500]\n",
      "\t [[{{node Placeholder/_1}}]]\n",
      "2023-05-13 18:26:11.886020: I tensorflow/core/common_runtime/executor.cc:1197] [/device:CPU:0] (DEBUG INFO) Executor start aborting (this does not indicate an error and you can ignore this message): INVALID_ARGUMENT: You must feed a value for placeholder tensor 'Placeholder/_1' with dtype float and shape [500]\n",
      "\t [[{{node Placeholder/_1}}]]\n",
      "2023-05-13 18:26:11.888912: I tensorflow/core/common_runtime/executor.cc:1197] [/device:CPU:0] (DEBUG INFO) Executor start aborting (this does not indicate an error and you can ignore this message): INVALID_ARGUMENT: You must feed a value for placeholder tensor 'Placeholder/_1' with dtype float and shape [500]\n",
      "\t [[{{node Placeholder/_1}}]]\n",
      "2023-05-13 18:26:11.892443: I tensorflow/core/common_runtime/executor.cc:1197] [/device:CPU:0] (DEBUG INFO) Executor start aborting (this does not indicate an error and you can ignore this message): INVALID_ARGUMENT: You must feed a value for placeholder tensor 'Placeholder/_1' with dtype float and shape [500]\n",
      "\t [[{{node Placeholder/_1}}]]\n",
      "2023-05-13 18:26:11.895393: I tensorflow/core/common_runtime/executor.cc:1197] [/device:CPU:0] (DEBUG INFO) Executor start aborting (this does not indicate an error and you can ignore this message): INVALID_ARGUMENT: You must feed a value for placeholder tensor 'Placeholder/_1' with dtype float and shape [500]\n",
      "\t [[{{node Placeholder/_1}}]]\n",
      "2023-05-13 18:26:11.898478: I tensorflow/core/common_runtime/executor.cc:1197] [/device:CPU:0] (DEBUG INFO) Executor start aborting (this does not indicate an error and you can ignore this message): INVALID_ARGUMENT: You must feed a value for placeholder tensor 'Placeholder/_1' with dtype float and shape [500]\n",
      "\t [[{{node Placeholder/_1}}]]\n"
     ]
    },
    {
     "name": "stdout",
     "output_type": "stream",
     "text": [
      "Epoch 11 of 60\n",
      "\n",
      "Testing for epoch 11 index 1:\n",
      "65/65 [==============================] - 0s 479us/step\n"
     ]
    },
    {
     "name": "stderr",
     "output_type": "stream",
     "text": [
      "2023-05-13 18:26:12.136678: I tensorflow/core/common_runtime/executor.cc:1197] [/device:CPU:0] (DEBUG INFO) Executor start aborting (this does not indicate an error and you can ignore this message): INVALID_ARGUMENT: You must feed a value for placeholder tensor 'Placeholder/_1' with dtype int64 and shape [1000]\n",
      "\t [[{{node Placeholder/_1}}]]\n",
      "2023-05-13 18:26:12.206106: I tensorflow/core/common_runtime/executor.cc:1197] [/device:CPU:0] (DEBUG INFO) Executor start aborting (this does not indicate an error and you can ignore this message): INVALID_ARGUMENT: You must feed a value for placeholder tensor 'Placeholder/_1' with dtype float and shape [500]\n",
      "\t [[{{node Placeholder/_1}}]]\n",
      "2023-05-13 18:26:12.209518: I tensorflow/core/common_runtime/executor.cc:1197] [/device:CPU:0] (DEBUG INFO) Executor start aborting (this does not indicate an error and you can ignore this message): INVALID_ARGUMENT: You must feed a value for placeholder tensor 'Placeholder/_1' with dtype float and shape [500]\n",
      "\t [[{{node Placeholder/_1}}]]\n",
      "2023-05-13 18:26:12.213119: I tensorflow/core/common_runtime/executor.cc:1197] [/device:CPU:0] (DEBUG INFO) Executor start aborting (this does not indicate an error and you can ignore this message): INVALID_ARGUMENT: You must feed a value for placeholder tensor 'Placeholder/_1' with dtype float and shape [500]\n",
      "\t [[{{node Placeholder/_1}}]]\n",
      "2023-05-13 18:26:12.216074: I tensorflow/core/common_runtime/executor.cc:1197] [/device:CPU:0] (DEBUG INFO) Executor start aborting (this does not indicate an error and you can ignore this message): INVALID_ARGUMENT: You must feed a value for placeholder tensor 'Placeholder/_1' with dtype float and shape [500]\n",
      "\t [[{{node Placeholder/_1}}]]\n",
      "2023-05-13 18:26:12.219700: I tensorflow/core/common_runtime/executor.cc:1197] [/device:CPU:0] (DEBUG INFO) Executor start aborting (this does not indicate an error and you can ignore this message): INVALID_ARGUMENT: You must feed a value for placeholder tensor 'Placeholder/_1' with dtype float and shape [500]\n",
      "\t [[{{node Placeholder/_1}}]]\n",
      "2023-05-13 18:26:12.222513: I tensorflow/core/common_runtime/executor.cc:1197] [/device:CPU:0] (DEBUG INFO) Executor start aborting (this does not indicate an error and you can ignore this message): INVALID_ARGUMENT: You must feed a value for placeholder tensor 'Placeholder/_1' with dtype float and shape [500]\n",
      "\t [[{{node Placeholder/_1}}]]\n",
      "2023-05-13 18:26:12.226396: I tensorflow/core/common_runtime/executor.cc:1197] [/device:CPU:0] (DEBUG INFO) Executor start aborting (this does not indicate an error and you can ignore this message): INVALID_ARGUMENT: You must feed a value for placeholder tensor 'Placeholder/_1' with dtype float and shape [500]\n",
      "\t [[{{node Placeholder/_1}}]]\n",
      "2023-05-13 18:26:12.229396: I tensorflow/core/common_runtime/executor.cc:1197] [/device:CPU:0] (DEBUG INFO) Executor start aborting (this does not indicate an error and you can ignore this message): INVALID_ARGUMENT: You must feed a value for placeholder tensor 'Placeholder/_1' with dtype float and shape [500]\n",
      "\t [[{{node Placeholder/_1}}]]\n",
      "2023-05-13 18:26:12.233300: I tensorflow/core/common_runtime/executor.cc:1197] [/device:CPU:0] (DEBUG INFO) Executor start aborting (this does not indicate an error and you can ignore this message): INVALID_ARGUMENT: You must feed a value for placeholder tensor 'Placeholder/_1' with dtype float and shape [500]\n",
      "\t [[{{node Placeholder/_1}}]]\n",
      "2023-05-13 18:26:12.236457: I tensorflow/core/common_runtime/executor.cc:1197] [/device:CPU:0] (DEBUG INFO) Executor start aborting (this does not indicate an error and you can ignore this message): INVALID_ARGUMENT: You must feed a value for placeholder tensor 'Placeholder/_1' with dtype float and shape [500]\n",
      "\t [[{{node Placeholder/_1}}]]\n"
     ]
    },
    {
     "name": "stdout",
     "output_type": "stream",
     "text": [
      "\n",
      "Testing for epoch 11 index 2:\n",
      "65/65 [==============================] - 0s 466us/step\n"
     ]
    },
    {
     "name": "stderr",
     "output_type": "stream",
     "text": [
      "2023-05-13 18:26:12.474783: I tensorflow/core/common_runtime/executor.cc:1197] [/device:CPU:0] (DEBUG INFO) Executor start aborting (this does not indicate an error and you can ignore this message): INVALID_ARGUMENT: You must feed a value for placeholder tensor 'Placeholder/_1' with dtype int64 and shape [1000]\n",
      "\t [[{{node Placeholder/_1}}]]\n",
      "2023-05-13 18:26:12.543367: I tensorflow/core/common_runtime/executor.cc:1197] [/device:CPU:0] (DEBUG INFO) Executor start aborting (this does not indicate an error and you can ignore this message): INVALID_ARGUMENT: You must feed a value for placeholder tensor 'Placeholder/_1' with dtype float and shape [500]\n",
      "\t [[{{node Placeholder/_1}}]]\n",
      "2023-05-13 18:26:12.547192: I tensorflow/core/common_runtime/executor.cc:1197] [/device:CPU:0] (DEBUG INFO) Executor start aborting (this does not indicate an error and you can ignore this message): INVALID_ARGUMENT: You must feed a value for placeholder tensor 'Placeholder/_1' with dtype float and shape [500]\n",
      "\t [[{{node Placeholder/_1}}]]\n",
      "2023-05-13 18:26:12.550535: I tensorflow/core/common_runtime/executor.cc:1197] [/device:CPU:0] (DEBUG INFO) Executor start aborting (this does not indicate an error and you can ignore this message): INVALID_ARGUMENT: You must feed a value for placeholder tensor 'Placeholder/_1' with dtype float and shape [500]\n",
      "\t [[{{node Placeholder/_1}}]]\n",
      "2023-05-13 18:26:12.553620: I tensorflow/core/common_runtime/executor.cc:1197] [/device:CPU:0] (DEBUG INFO) Executor start aborting (this does not indicate an error and you can ignore this message): INVALID_ARGUMENT: You must feed a value for placeholder tensor 'Placeholder/_1' with dtype float and shape [500]\n",
      "\t [[{{node Placeholder/_1}}]]\n",
      "2023-05-13 18:26:12.556442: I tensorflow/core/common_runtime/executor.cc:1197] [/device:CPU:0] (DEBUG INFO) Executor start aborting (this does not indicate an error and you can ignore this message): INVALID_ARGUMENT: You must feed a value for placeholder tensor 'Placeholder/_1' with dtype float and shape [500]\n",
      "\t [[{{node Placeholder/_1}}]]\n",
      "2023-05-13 18:26:12.559923: I tensorflow/core/common_runtime/executor.cc:1197] [/device:CPU:0] (DEBUG INFO) Executor start aborting (this does not indicate an error and you can ignore this message): INVALID_ARGUMENT: You must feed a value for placeholder tensor 'Placeholder/_1' with dtype float and shape [500]\n",
      "\t [[{{node Placeholder/_1}}]]\n",
      "2023-05-13 18:26:12.562815: I tensorflow/core/common_runtime/executor.cc:1197] [/device:CPU:0] (DEBUG INFO) Executor start aborting (this does not indicate an error and you can ignore this message): INVALID_ARGUMENT: You must feed a value for placeholder tensor 'Placeholder/_1' with dtype float and shape [500]\n",
      "\t [[{{node Placeholder/_1}}]]\n",
      "2023-05-13 18:26:12.566590: I tensorflow/core/common_runtime/executor.cc:1197] [/device:CPU:0] (DEBUG INFO) Executor start aborting (this does not indicate an error and you can ignore this message): INVALID_ARGUMENT: You must feed a value for placeholder tensor 'Placeholder/_1' with dtype float and shape [500]\n",
      "\t [[{{node Placeholder/_1}}]]\n",
      "2023-05-13 18:26:12.569446: I tensorflow/core/common_runtime/executor.cc:1197] [/device:CPU:0] (DEBUG INFO) Executor start aborting (this does not indicate an error and you can ignore this message): INVALID_ARGUMENT: You must feed a value for placeholder tensor 'Placeholder/_1' with dtype float and shape [500]\n",
      "\t [[{{node Placeholder/_1}}]]\n",
      "2023-05-13 18:26:12.572322: I tensorflow/core/common_runtime/executor.cc:1197] [/device:CPU:0] (DEBUG INFO) Executor start aborting (this does not indicate an error and you can ignore this message): INVALID_ARGUMENT: You must feed a value for placeholder tensor 'Placeholder/_1' with dtype float and shape [500]\n",
      "\t [[{{node Placeholder/_1}}]]\n"
     ]
    },
    {
     "name": "stdout",
     "output_type": "stream",
     "text": [
      "\n",
      "Testing for epoch 11 index 3:\n",
      "65/65 [==============================] - 0s 483us/step\n"
     ]
    },
    {
     "name": "stderr",
     "output_type": "stream",
     "text": [
      "2023-05-13 18:26:12.829494: I tensorflow/core/common_runtime/executor.cc:1197] [/device:CPU:0] (DEBUG INFO) Executor start aborting (this does not indicate an error and you can ignore this message): INVALID_ARGUMENT: You must feed a value for placeholder tensor 'Placeholder/_1' with dtype int64 and shape [1000]\n",
      "\t [[{{node Placeholder/_1}}]]\n",
      "2023-05-13 18:26:12.902204: I tensorflow/core/common_runtime/executor.cc:1197] [/device:CPU:0] (DEBUG INFO) Executor start aborting (this does not indicate an error and you can ignore this message): INVALID_ARGUMENT: You must feed a value for placeholder tensor 'Placeholder/_1' with dtype float and shape [500]\n",
      "\t [[{{node Placeholder/_1}}]]\n",
      "2023-05-13 18:26:12.905683: I tensorflow/core/common_runtime/executor.cc:1197] [/device:CPU:0] (DEBUG INFO) Executor start aborting (this does not indicate an error and you can ignore this message): INVALID_ARGUMENT: You must feed a value for placeholder tensor 'Placeholder/_1' with dtype float and shape [500]\n",
      "\t [[{{node Placeholder/_1}}]]\n",
      "2023-05-13 18:26:12.908796: I tensorflow/core/common_runtime/executor.cc:1197] [/device:CPU:0] (DEBUG INFO) Executor start aborting (this does not indicate an error and you can ignore this message): INVALID_ARGUMENT: You must feed a value for placeholder tensor 'Placeholder/_1' with dtype float and shape [500]\n",
      "\t [[{{node Placeholder/_1}}]]\n",
      "2023-05-13 18:26:12.911855: I tensorflow/core/common_runtime/executor.cc:1197] [/device:CPU:0] (DEBUG INFO) Executor start aborting (this does not indicate an error and you can ignore this message): INVALID_ARGUMENT: You must feed a value for placeholder tensor 'Placeholder/_1' with dtype float and shape [500]\n",
      "\t [[{{node Placeholder/_1}}]]\n",
      "2023-05-13 18:26:12.916000: I tensorflow/core/common_runtime/executor.cc:1197] [/device:CPU:0] (DEBUG INFO) Executor start aborting (this does not indicate an error and you can ignore this message): INVALID_ARGUMENT: You must feed a value for placeholder tensor 'Placeholder/_1' with dtype float and shape [500]\n",
      "\t [[{{node Placeholder/_1}}]]\n",
      "2023-05-13 18:26:12.919514: I tensorflow/core/common_runtime/executor.cc:1197] [/device:CPU:0] (DEBUG INFO) Executor start aborting (this does not indicate an error and you can ignore this message): INVALID_ARGUMENT: You must feed a value for placeholder tensor 'Placeholder/_1' with dtype float and shape [500]\n",
      "\t [[{{node Placeholder/_1}}]]\n",
      "2023-05-13 18:26:12.923193: I tensorflow/core/common_runtime/executor.cc:1197] [/device:CPU:0] (DEBUG INFO) Executor start aborting (this does not indicate an error and you can ignore this message): INVALID_ARGUMENT: You must feed a value for placeholder tensor 'Placeholder/_1' with dtype float and shape [500]\n",
      "\t [[{{node Placeholder/_1}}]]\n",
      "2023-05-13 18:26:12.926419: I tensorflow/core/common_runtime/executor.cc:1197] [/device:CPU:0] (DEBUG INFO) Executor start aborting (this does not indicate an error and you can ignore this message): INVALID_ARGUMENT: You must feed a value for placeholder tensor 'Placeholder/_1' with dtype float and shape [500]\n",
      "\t [[{{node Placeholder/_1}}]]\n",
      "2023-05-13 18:26:12.930016: I tensorflow/core/common_runtime/executor.cc:1197] [/device:CPU:0] (DEBUG INFO) Executor start aborting (this does not indicate an error and you can ignore this message): INVALID_ARGUMENT: You must feed a value for placeholder tensor 'Placeholder/_1' with dtype float and shape [500]\n",
      "\t [[{{node Placeholder/_1}}]]\n",
      "2023-05-13 18:26:12.933125: I tensorflow/core/common_runtime/executor.cc:1197] [/device:CPU:0] (DEBUG INFO) Executor start aborting (this does not indicate an error and you can ignore this message): INVALID_ARGUMENT: You must feed a value for placeholder tensor 'Placeholder/_1' with dtype float and shape [500]\n",
      "\t [[{{node Placeholder/_1}}]]\n"
     ]
    },
    {
     "name": "stdout",
     "output_type": "stream",
     "text": [
      "\n",
      "Testing for epoch 11 index 4:\n",
      "65/65 [==============================] - 0s 419us/step\n"
     ]
    },
    {
     "name": "stderr",
     "output_type": "stream",
     "text": [
      "2023-05-13 18:26:13.187271: I tensorflow/core/common_runtime/executor.cc:1197] [/device:CPU:0] (DEBUG INFO) Executor start aborting (this does not indicate an error and you can ignore this message): INVALID_ARGUMENT: You must feed a value for placeholder tensor 'Placeholder/_1' with dtype int64 and shape [1000]\n",
      "\t [[{{node Placeholder/_1}}]]\n",
      "2023-05-13 18:26:13.252272: I tensorflow/core/common_runtime/executor.cc:1197] [/device:CPU:0] (DEBUG INFO) Executor start aborting (this does not indicate an error and you can ignore this message): INVALID_ARGUMENT: You must feed a value for placeholder tensor 'Placeholder/_1' with dtype float and shape [500]\n",
      "\t [[{{node Placeholder/_1}}]]\n",
      "2023-05-13 18:26:13.255943: I tensorflow/core/common_runtime/executor.cc:1197] [/device:CPU:0] (DEBUG INFO) Executor start aborting (this does not indicate an error and you can ignore this message): INVALID_ARGUMENT: You must feed a value for placeholder tensor 'Placeholder/_1' with dtype float and shape [500]\n",
      "\t [[{{node Placeholder/_1}}]]\n",
      "2023-05-13 18:26:13.259005: I tensorflow/core/common_runtime/executor.cc:1197] [/device:CPU:0] (DEBUG INFO) Executor start aborting (this does not indicate an error and you can ignore this message): INVALID_ARGUMENT: You must feed a value for placeholder tensor 'Placeholder/_1' with dtype float and shape [500]\n",
      "\t [[{{node Placeholder/_1}}]]\n",
      "2023-05-13 18:26:13.262065: I tensorflow/core/common_runtime/executor.cc:1197] [/device:CPU:0] (DEBUG INFO) Executor start aborting (this does not indicate an error and you can ignore this message): INVALID_ARGUMENT: You must feed a value for placeholder tensor 'Placeholder/_1' with dtype float and shape [500]\n",
      "\t [[{{node Placeholder/_1}}]]\n",
      "2023-05-13 18:26:13.265001: I tensorflow/core/common_runtime/executor.cc:1197] [/device:CPU:0] (DEBUG INFO) Executor start aborting (this does not indicate an error and you can ignore this message): INVALID_ARGUMENT: You must feed a value for placeholder tensor 'Placeholder/_1' with dtype float and shape [500]\n",
      "\t [[{{node Placeholder/_1}}]]\n",
      "2023-05-13 18:26:13.268060: I tensorflow/core/common_runtime/executor.cc:1197] [/device:CPU:0] (DEBUG INFO) Executor start aborting (this does not indicate an error and you can ignore this message): INVALID_ARGUMENT: You must feed a value for placeholder tensor 'Placeholder/_1' with dtype float and shape [500]\n",
      "\t [[{{node Placeholder/_1}}]]\n",
      "2023-05-13 18:26:13.271133: I tensorflow/core/common_runtime/executor.cc:1197] [/device:CPU:0] (DEBUG INFO) Executor start aborting (this does not indicate an error and you can ignore this message): INVALID_ARGUMENT: You must feed a value for placeholder tensor 'Placeholder/_1' with dtype float and shape [500]\n",
      "\t [[{{node Placeholder/_1}}]]\n",
      "2023-05-13 18:26:13.274367: I tensorflow/core/common_runtime/executor.cc:1197] [/device:CPU:0] (DEBUG INFO) Executor start aborting (this does not indicate an error and you can ignore this message): INVALID_ARGUMENT: You must feed a value for placeholder tensor 'Placeholder/_1' with dtype float and shape [500]\n",
      "\t [[{{node Placeholder/_1}}]]\n",
      "2023-05-13 18:26:13.277337: I tensorflow/core/common_runtime/executor.cc:1197] [/device:CPU:0] (DEBUG INFO) Executor start aborting (this does not indicate an error and you can ignore this message): INVALID_ARGUMENT: You must feed a value for placeholder tensor 'Placeholder/_1' with dtype float and shape [500]\n",
      "\t [[{{node Placeholder/_1}}]]\n",
      "2023-05-13 18:26:13.280356: I tensorflow/core/common_runtime/executor.cc:1197] [/device:CPU:0] (DEBUG INFO) Executor start aborting (this does not indicate an error and you can ignore this message): INVALID_ARGUMENT: You must feed a value for placeholder tensor 'Placeholder/_1' with dtype float and shape [500]\n",
      "\t [[{{node Placeholder/_1}}]]\n"
     ]
    },
    {
     "name": "stdout",
     "output_type": "stream",
     "text": [
      "Epoch 12 of 60\n",
      "\n",
      "Testing for epoch 12 index 1:\n",
      "65/65 [==============================] - 0s 456us/step\n"
     ]
    },
    {
     "name": "stderr",
     "output_type": "stream",
     "text": [
      "2023-05-13 18:26:13.530743: I tensorflow/core/common_runtime/executor.cc:1197] [/device:CPU:0] (DEBUG INFO) Executor start aborting (this does not indicate an error and you can ignore this message): INVALID_ARGUMENT: You must feed a value for placeholder tensor 'Placeholder/_1' with dtype int64 and shape [1000]\n",
      "\t [[{{node Placeholder/_1}}]]\n",
      "2023-05-13 18:26:13.599365: I tensorflow/core/common_runtime/executor.cc:1197] [/device:CPU:0] (DEBUG INFO) Executor start aborting (this does not indicate an error and you can ignore this message): INVALID_ARGUMENT: You must feed a value for placeholder tensor 'Placeholder/_1' with dtype float and shape [500]\n",
      "\t [[{{node Placeholder/_1}}]]\n",
      "2023-05-13 18:26:13.603776: I tensorflow/core/common_runtime/executor.cc:1197] [/device:CPU:0] (DEBUG INFO) Executor start aborting (this does not indicate an error and you can ignore this message): INVALID_ARGUMENT: You must feed a value for placeholder tensor 'Placeholder/_1' with dtype float and shape [500]\n",
      "\t [[{{node Placeholder/_1}}]]\n",
      "2023-05-13 18:26:13.607182: I tensorflow/core/common_runtime/executor.cc:1197] [/device:CPU:0] (DEBUG INFO) Executor start aborting (this does not indicate an error and you can ignore this message): INVALID_ARGUMENT: You must feed a value for placeholder tensor 'Placeholder/_1' with dtype float and shape [500]\n",
      "\t [[{{node Placeholder/_1}}]]\n",
      "2023-05-13 18:26:13.610788: I tensorflow/core/common_runtime/executor.cc:1197] [/device:CPU:0] (DEBUG INFO) Executor start aborting (this does not indicate an error and you can ignore this message): INVALID_ARGUMENT: You must feed a value for placeholder tensor 'Placeholder/_1' with dtype float and shape [500]\n",
      "\t [[{{node Placeholder/_1}}]]\n",
      "2023-05-13 18:26:13.613918: I tensorflow/core/common_runtime/executor.cc:1197] [/device:CPU:0] (DEBUG INFO) Executor start aborting (this does not indicate an error and you can ignore this message): INVALID_ARGUMENT: You must feed a value for placeholder tensor 'Placeholder/_1' with dtype float and shape [500]\n",
      "\t [[{{node Placeholder/_1}}]]\n",
      "2023-05-13 18:26:13.617985: I tensorflow/core/common_runtime/executor.cc:1197] [/device:CPU:0] (DEBUG INFO) Executor start aborting (this does not indicate an error and you can ignore this message): INVALID_ARGUMENT: You must feed a value for placeholder tensor 'Placeholder/_1' with dtype float and shape [500]\n",
      "\t [[{{node Placeholder/_1}}]]\n",
      "2023-05-13 18:26:13.621030: I tensorflow/core/common_runtime/executor.cc:1197] [/device:CPU:0] (DEBUG INFO) Executor start aborting (this does not indicate an error and you can ignore this message): INVALID_ARGUMENT: You must feed a value for placeholder tensor 'Placeholder/_1' with dtype float and shape [500]\n",
      "\t [[{{node Placeholder/_1}}]]\n",
      "2023-05-13 18:26:13.625043: I tensorflow/core/common_runtime/executor.cc:1197] [/device:CPU:0] (DEBUG INFO) Executor start aborting (this does not indicate an error and you can ignore this message): INVALID_ARGUMENT: You must feed a value for placeholder tensor 'Placeholder/_1' with dtype float and shape [500]\n",
      "\t [[{{node Placeholder/_1}}]]\n",
      "2023-05-13 18:26:13.628095: I tensorflow/core/common_runtime/executor.cc:1197] [/device:CPU:0] (DEBUG INFO) Executor start aborting (this does not indicate an error and you can ignore this message): INVALID_ARGUMENT: You must feed a value for placeholder tensor 'Placeholder/_1' with dtype float and shape [500]\n",
      "\t [[{{node Placeholder/_1}}]]\n",
      "2023-05-13 18:26:13.631913: I tensorflow/core/common_runtime/executor.cc:1197] [/device:CPU:0] (DEBUG INFO) Executor start aborting (this does not indicate an error and you can ignore this message): INVALID_ARGUMENT: You must feed a value for placeholder tensor 'Placeholder/_1' with dtype float and shape [500]\n",
      "\t [[{{node Placeholder/_1}}]]\n"
     ]
    },
    {
     "name": "stdout",
     "output_type": "stream",
     "text": [
      "\n",
      "Testing for epoch 12 index 2:\n",
      "65/65 [==============================] - 0s 505us/step\n"
     ]
    },
    {
     "name": "stderr",
     "output_type": "stream",
     "text": [
      "2023-05-13 18:26:13.890199: I tensorflow/core/common_runtime/executor.cc:1197] [/device:CPU:0] (DEBUG INFO) Executor start aborting (this does not indicate an error and you can ignore this message): INVALID_ARGUMENT: You must feed a value for placeholder tensor 'Placeholder/_1' with dtype int64 and shape [1000]\n",
      "\t [[{{node Placeholder/_1}}]]\n",
      "2023-05-13 18:26:13.971791: I tensorflow/core/common_runtime/executor.cc:1197] [/device:CPU:0] (DEBUG INFO) Executor start aborting (this does not indicate an error and you can ignore this message): INVALID_ARGUMENT: You must feed a value for placeholder tensor 'Placeholder/_1' with dtype float and shape [500]\n",
      "\t [[{{node Placeholder/_1}}]]\n",
      "2023-05-13 18:26:13.976356: I tensorflow/core/common_runtime/executor.cc:1197] [/device:CPU:0] (DEBUG INFO) Executor start aborting (this does not indicate an error and you can ignore this message): INVALID_ARGUMENT: You must feed a value for placeholder tensor 'Placeholder/_1' with dtype float and shape [500]\n",
      "\t [[{{node Placeholder/_1}}]]\n",
      "2023-05-13 18:26:13.979620: I tensorflow/core/common_runtime/executor.cc:1197] [/device:CPU:0] (DEBUG INFO) Executor start aborting (this does not indicate an error and you can ignore this message): INVALID_ARGUMENT: You must feed a value for placeholder tensor 'Placeholder/_1' with dtype float and shape [500]\n",
      "\t [[{{node Placeholder/_1}}]]\n",
      "2023-05-13 18:26:13.983468: I tensorflow/core/common_runtime/executor.cc:1197] [/device:CPU:0] (DEBUG INFO) Executor start aborting (this does not indicate an error and you can ignore this message): INVALID_ARGUMENT: You must feed a value for placeholder tensor 'Placeholder/_1' with dtype float and shape [500]\n",
      "\t [[{{node Placeholder/_1}}]]\n",
      "2023-05-13 18:26:13.986546: I tensorflow/core/common_runtime/executor.cc:1197] [/device:CPU:0] (DEBUG INFO) Executor start aborting (this does not indicate an error and you can ignore this message): INVALID_ARGUMENT: You must feed a value for placeholder tensor 'Placeholder/_1' with dtype float and shape [500]\n",
      "\t [[{{node Placeholder/_1}}]]\n",
      "2023-05-13 18:26:13.990529: I tensorflow/core/common_runtime/executor.cc:1197] [/device:CPU:0] (DEBUG INFO) Executor start aborting (this does not indicate an error and you can ignore this message): INVALID_ARGUMENT: You must feed a value for placeholder tensor 'Placeholder/_1' with dtype float and shape [500]\n",
      "\t [[{{node Placeholder/_1}}]]\n",
      "2023-05-13 18:26:13.994401: I tensorflow/core/common_runtime/executor.cc:1197] [/device:CPU:0] (DEBUG INFO) Executor start aborting (this does not indicate an error and you can ignore this message): INVALID_ARGUMENT: You must feed a value for placeholder tensor 'Placeholder/_1' with dtype float and shape [500]\n",
      "\t [[{{node Placeholder/_1}}]]\n",
      "2023-05-13 18:26:13.997723: I tensorflow/core/common_runtime/executor.cc:1197] [/device:CPU:0] (DEBUG INFO) Executor start aborting (this does not indicate an error and you can ignore this message): INVALID_ARGUMENT: You must feed a value for placeholder tensor 'Placeholder/_1' with dtype float and shape [500]\n",
      "\t [[{{node Placeholder/_1}}]]\n",
      "2023-05-13 18:26:14.001270: I tensorflow/core/common_runtime/executor.cc:1197] [/device:CPU:0] (DEBUG INFO) Executor start aborting (this does not indicate an error and you can ignore this message): INVALID_ARGUMENT: You must feed a value for placeholder tensor 'Placeholder/_1' with dtype float and shape [500]\n",
      "\t [[{{node Placeholder/_1}}]]\n",
      "2023-05-13 18:26:14.005684: I tensorflow/core/common_runtime/executor.cc:1197] [/device:CPU:0] (DEBUG INFO) Executor start aborting (this does not indicate an error and you can ignore this message): INVALID_ARGUMENT: You must feed a value for placeholder tensor 'Placeholder/_1' with dtype float and shape [500]\n",
      "\t [[{{node Placeholder/_1}}]]\n"
     ]
    },
    {
     "name": "stdout",
     "output_type": "stream",
     "text": [
      "\n",
      "Testing for epoch 12 index 3:\n",
      "65/65 [==============================] - 0s 520us/step\n"
     ]
    },
    {
     "name": "stderr",
     "output_type": "stream",
     "text": [
      "2023-05-13 18:26:14.306022: I tensorflow/core/common_runtime/executor.cc:1197] [/device:CPU:0] (DEBUG INFO) Executor start aborting (this does not indicate an error and you can ignore this message): INVALID_ARGUMENT: You must feed a value for placeholder tensor 'Placeholder/_1' with dtype int64 and shape [1000]\n",
      "\t [[{{node Placeholder/_1}}]]\n",
      "2023-05-13 18:26:14.380907: I tensorflow/core/common_runtime/executor.cc:1197] [/device:CPU:0] (DEBUG INFO) Executor start aborting (this does not indicate an error and you can ignore this message): INVALID_ARGUMENT: You must feed a value for placeholder tensor 'Placeholder/_1' with dtype float and shape [500]\n",
      "\t [[{{node Placeholder/_1}}]]\n",
      "2023-05-13 18:26:14.384280: I tensorflow/core/common_runtime/executor.cc:1197] [/device:CPU:0] (DEBUG INFO) Executor start aborting (this does not indicate an error and you can ignore this message): INVALID_ARGUMENT: You must feed a value for placeholder tensor 'Placeholder/_1' with dtype float and shape [500]\n",
      "\t [[{{node Placeholder/_1}}]]\n",
      "2023-05-13 18:26:14.388070: I tensorflow/core/common_runtime/executor.cc:1197] [/device:CPU:0] (DEBUG INFO) Executor start aborting (this does not indicate an error and you can ignore this message): INVALID_ARGUMENT: You must feed a value for placeholder tensor 'Placeholder/_1' with dtype float and shape [500]\n",
      "\t [[{{node Placeholder/_1}}]]\n",
      "2023-05-13 18:26:14.391005: I tensorflow/core/common_runtime/executor.cc:1197] [/device:CPU:0] (DEBUG INFO) Executor start aborting (this does not indicate an error and you can ignore this message): INVALID_ARGUMENT: You must feed a value for placeholder tensor 'Placeholder/_1' with dtype float and shape [500]\n",
      "\t [[{{node Placeholder/_1}}]]\n",
      "2023-05-13 18:26:14.394716: I tensorflow/core/common_runtime/executor.cc:1197] [/device:CPU:0] (DEBUG INFO) Executor start aborting (this does not indicate an error and you can ignore this message): INVALID_ARGUMENT: You must feed a value for placeholder tensor 'Placeholder/_1' with dtype float and shape [500]\n",
      "\t [[{{node Placeholder/_1}}]]\n",
      "2023-05-13 18:26:14.397763: I tensorflow/core/common_runtime/executor.cc:1197] [/device:CPU:0] (DEBUG INFO) Executor start aborting (this does not indicate an error and you can ignore this message): INVALID_ARGUMENT: You must feed a value for placeholder tensor 'Placeholder/_1' with dtype float and shape [500]\n",
      "\t [[{{node Placeholder/_1}}]]\n",
      "2023-05-13 18:26:14.402037: I tensorflow/core/common_runtime/executor.cc:1197] [/device:CPU:0] (DEBUG INFO) Executor start aborting (this does not indicate an error and you can ignore this message): INVALID_ARGUMENT: You must feed a value for placeholder tensor 'Placeholder/_1' with dtype float and shape [500]\n",
      "\t [[{{node Placeholder/_1}}]]\n",
      "2023-05-13 18:26:14.405124: I tensorflow/core/common_runtime/executor.cc:1197] [/device:CPU:0] (DEBUG INFO) Executor start aborting (this does not indicate an error and you can ignore this message): INVALID_ARGUMENT: You must feed a value for placeholder tensor 'Placeholder/_1' with dtype float and shape [500]\n",
      "\t [[{{node Placeholder/_1}}]]\n",
      "2023-05-13 18:26:14.408532: I tensorflow/core/common_runtime/executor.cc:1197] [/device:CPU:0] (DEBUG INFO) Executor start aborting (this does not indicate an error and you can ignore this message): INVALID_ARGUMENT: You must feed a value for placeholder tensor 'Placeholder/_1' with dtype float and shape [500]\n",
      "\t [[{{node Placeholder/_1}}]]\n",
      "2023-05-13 18:26:14.411359: I tensorflow/core/common_runtime/executor.cc:1197] [/device:CPU:0] (DEBUG INFO) Executor start aborting (this does not indicate an error and you can ignore this message): INVALID_ARGUMENT: You must feed a value for placeholder tensor 'Placeholder/_1' with dtype float and shape [500]\n",
      "\t [[{{node Placeholder/_1}}]]\n"
     ]
    },
    {
     "name": "stdout",
     "output_type": "stream",
     "text": [
      "\n",
      "Testing for epoch 12 index 4:\n",
      "65/65 [==============================] - 0s 435us/step\n"
     ]
    },
    {
     "name": "stderr",
     "output_type": "stream",
     "text": [
      "2023-05-13 18:26:14.662463: I tensorflow/core/common_runtime/executor.cc:1197] [/device:CPU:0] (DEBUG INFO) Executor start aborting (this does not indicate an error and you can ignore this message): INVALID_ARGUMENT: You must feed a value for placeholder tensor 'Placeholder/_1' with dtype int64 and shape [1000]\n",
      "\t [[{{node Placeholder/_1}}]]\n",
      "2023-05-13 18:26:14.728610: I tensorflow/core/common_runtime/executor.cc:1197] [/device:CPU:0] (DEBUG INFO) Executor start aborting (this does not indicate an error and you can ignore this message): INVALID_ARGUMENT: You must feed a value for placeholder tensor 'Placeholder/_1' with dtype float and shape [500]\n",
      "\t [[{{node Placeholder/_1}}]]\n",
      "2023-05-13 18:26:14.732117: I tensorflow/core/common_runtime/executor.cc:1197] [/device:CPU:0] (DEBUG INFO) Executor start aborting (this does not indicate an error and you can ignore this message): INVALID_ARGUMENT: You must feed a value for placeholder tensor 'Placeholder/_1' with dtype float and shape [500]\n",
      "\t [[{{node Placeholder/_1}}]]\n",
      "2023-05-13 18:26:14.735685: I tensorflow/core/common_runtime/executor.cc:1197] [/device:CPU:0] (DEBUG INFO) Executor start aborting (this does not indicate an error and you can ignore this message): INVALID_ARGUMENT: You must feed a value for placeholder tensor 'Placeholder/_1' with dtype float and shape [500]\n",
      "\t [[{{node Placeholder/_1}}]]\n",
      "2023-05-13 18:26:14.740484: I tensorflow/core/common_runtime/executor.cc:1197] [/device:CPU:0] (DEBUG INFO) Executor start aborting (this does not indicate an error and you can ignore this message): INVALID_ARGUMENT: You must feed a value for placeholder tensor 'Placeholder/_1' with dtype float and shape [500]\n",
      "\t [[{{node Placeholder/_1}}]]\n",
      "2023-05-13 18:26:14.744305: I tensorflow/core/common_runtime/executor.cc:1197] [/device:CPU:0] (DEBUG INFO) Executor start aborting (this does not indicate an error and you can ignore this message): INVALID_ARGUMENT: You must feed a value for placeholder tensor 'Placeholder/_1' with dtype float and shape [500]\n",
      "\t [[{{node Placeholder/_1}}]]\n",
      "2023-05-13 18:26:14.748770: I tensorflow/core/common_runtime/executor.cc:1197] [/device:CPU:0] (DEBUG INFO) Executor start aborting (this does not indicate an error and you can ignore this message): INVALID_ARGUMENT: You must feed a value for placeholder tensor 'Placeholder/_1' with dtype float and shape [500]\n",
      "\t [[{{node Placeholder/_1}}]]\n",
      "2023-05-13 18:26:14.752230: I tensorflow/core/common_runtime/executor.cc:1197] [/device:CPU:0] (DEBUG INFO) Executor start aborting (this does not indicate an error and you can ignore this message): INVALID_ARGUMENT: You must feed a value for placeholder tensor 'Placeholder/_1' with dtype float and shape [500]\n",
      "\t [[{{node Placeholder/_1}}]]\n",
      "2023-05-13 18:26:14.756058: I tensorflow/core/common_runtime/executor.cc:1197] [/device:CPU:0] (DEBUG INFO) Executor start aborting (this does not indicate an error and you can ignore this message): INVALID_ARGUMENT: You must feed a value for placeholder tensor 'Placeholder/_1' with dtype float and shape [500]\n",
      "\t [[{{node Placeholder/_1}}]]\n",
      "2023-05-13 18:26:14.759211: I tensorflow/core/common_runtime/executor.cc:1197] [/device:CPU:0] (DEBUG INFO) Executor start aborting (this does not indicate an error and you can ignore this message): INVALID_ARGUMENT: You must feed a value for placeholder tensor 'Placeholder/_1' with dtype float and shape [500]\n",
      "\t [[{{node Placeholder/_1}}]]\n",
      "2023-05-13 18:26:14.762184: I tensorflow/core/common_runtime/executor.cc:1197] [/device:CPU:0] (DEBUG INFO) Executor start aborting (this does not indicate an error and you can ignore this message): INVALID_ARGUMENT: You must feed a value for placeholder tensor 'Placeholder/_1' with dtype float and shape [500]\n",
      "\t [[{{node Placeholder/_1}}]]\n"
     ]
    },
    {
     "name": "stdout",
     "output_type": "stream",
     "text": [
      "Epoch 13 of 60\n",
      "\n",
      "Testing for epoch 13 index 1:\n",
      "65/65 [==============================] - 0s 694us/step\n"
     ]
    },
    {
     "name": "stderr",
     "output_type": "stream",
     "text": [
      "2023-05-13 18:26:15.054911: I tensorflow/core/common_runtime/executor.cc:1197] [/device:CPU:0] (DEBUG INFO) Executor start aborting (this does not indicate an error and you can ignore this message): INVALID_ARGUMENT: You must feed a value for placeholder tensor 'Placeholder/_1' with dtype int64 and shape [1000]\n",
      "\t [[{{node Placeholder/_1}}]]\n",
      "2023-05-13 18:26:15.153385: I tensorflow/core/common_runtime/executor.cc:1197] [/device:CPU:0] (DEBUG INFO) Executor start aborting (this does not indicate an error and you can ignore this message): INVALID_ARGUMENT: You must feed a value for placeholder tensor 'Placeholder/_1' with dtype float and shape [500]\n",
      "\t [[{{node Placeholder/_1}}]]\n",
      "2023-05-13 18:26:15.158618: I tensorflow/core/common_runtime/executor.cc:1197] [/device:CPU:0] (DEBUG INFO) Executor start aborting (this does not indicate an error and you can ignore this message): INVALID_ARGUMENT: You must feed a value for placeholder tensor 'Placeholder/_1' with dtype float and shape [500]\n",
      "\t [[{{node Placeholder/_1}}]]\n",
      "2023-05-13 18:26:15.164384: I tensorflow/core/common_runtime/executor.cc:1197] [/device:CPU:0] (DEBUG INFO) Executor start aborting (this does not indicate an error and you can ignore this message): INVALID_ARGUMENT: You must feed a value for placeholder tensor 'Placeholder/_1' with dtype float and shape [500]\n",
      "\t [[{{node Placeholder/_1}}]]\n",
      "2023-05-13 18:26:15.168805: I tensorflow/core/common_runtime/executor.cc:1197] [/device:CPU:0] (DEBUG INFO) Executor start aborting (this does not indicate an error and you can ignore this message): INVALID_ARGUMENT: You must feed a value for placeholder tensor 'Placeholder/_1' with dtype float and shape [500]\n",
      "\t [[{{node Placeholder/_1}}]]\n",
      "2023-05-13 18:26:15.173679: I tensorflow/core/common_runtime/executor.cc:1197] [/device:CPU:0] (DEBUG INFO) Executor start aborting (this does not indicate an error and you can ignore this message): INVALID_ARGUMENT: You must feed a value for placeholder tensor 'Placeholder/_1' with dtype float and shape [500]\n",
      "\t [[{{node Placeholder/_1}}]]\n",
      "2023-05-13 18:26:15.179218: I tensorflow/core/common_runtime/executor.cc:1197] [/device:CPU:0] (DEBUG INFO) Executor start aborting (this does not indicate an error and you can ignore this message): INVALID_ARGUMENT: You must feed a value for placeholder tensor 'Placeholder/_1' with dtype float and shape [500]\n",
      "\t [[{{node Placeholder/_1}}]]\n",
      "2023-05-13 18:26:15.183211: I tensorflow/core/common_runtime/executor.cc:1197] [/device:CPU:0] (DEBUG INFO) Executor start aborting (this does not indicate an error and you can ignore this message): INVALID_ARGUMENT: You must feed a value for placeholder tensor 'Placeholder/_1' with dtype float and shape [500]\n",
      "\t [[{{node Placeholder/_1}}]]\n",
      "2023-05-13 18:26:15.187530: I tensorflow/core/common_runtime/executor.cc:1197] [/device:CPU:0] (DEBUG INFO) Executor start aborting (this does not indicate an error and you can ignore this message): INVALID_ARGUMENT: You must feed a value for placeholder tensor 'Placeholder/_1' with dtype float and shape [500]\n",
      "\t [[{{node Placeholder/_1}}]]\n",
      "2023-05-13 18:26:15.193073: I tensorflow/core/common_runtime/executor.cc:1197] [/device:CPU:0] (DEBUG INFO) Executor start aborting (this does not indicate an error and you can ignore this message): INVALID_ARGUMENT: You must feed a value for placeholder tensor 'Placeholder/_1' with dtype float and shape [500]\n",
      "\t [[{{node Placeholder/_1}}]]\n",
      "2023-05-13 18:26:15.198612: I tensorflow/core/common_runtime/executor.cc:1197] [/device:CPU:0] (DEBUG INFO) Executor start aborting (this does not indicate an error and you can ignore this message): INVALID_ARGUMENT: You must feed a value for placeholder tensor 'Placeholder/_1' with dtype float and shape [500]\n",
      "\t [[{{node Placeholder/_1}}]]\n"
     ]
    },
    {
     "name": "stdout",
     "output_type": "stream",
     "text": [
      "\n",
      "Testing for epoch 13 index 2:\n",
      "65/65 [==============================] - 0s 599us/step\n"
     ]
    },
    {
     "name": "stderr",
     "output_type": "stream",
     "text": [
      "2023-05-13 18:26:15.562296: I tensorflow/core/common_runtime/executor.cc:1197] [/device:CPU:0] (DEBUG INFO) Executor start aborting (this does not indicate an error and you can ignore this message): INVALID_ARGUMENT: You must feed a value for placeholder tensor 'Placeholder/_1' with dtype int64 and shape [1000]\n",
      "\t [[{{node Placeholder/_1}}]]\n",
      "2023-05-13 18:26:15.659972: I tensorflow/core/common_runtime/executor.cc:1197] [/device:CPU:0] (DEBUG INFO) Executor start aborting (this does not indicate an error and you can ignore this message): INVALID_ARGUMENT: You must feed a value for placeholder tensor 'Placeholder/_1' with dtype float and shape [500]\n",
      "\t [[{{node Placeholder/_1}}]]\n",
      "2023-05-13 18:26:15.663992: I tensorflow/core/common_runtime/executor.cc:1197] [/device:CPU:0] (DEBUG INFO) Executor start aborting (this does not indicate an error and you can ignore this message): INVALID_ARGUMENT: You must feed a value for placeholder tensor 'Placeholder/_1' with dtype float and shape [500]\n",
      "\t [[{{node Placeholder/_1}}]]\n",
      "2023-05-13 18:26:15.667476: I tensorflow/core/common_runtime/executor.cc:1197] [/device:CPU:0] (DEBUG INFO) Executor start aborting (this does not indicate an error and you can ignore this message): INVALID_ARGUMENT: You must feed a value for placeholder tensor 'Placeholder/_1' with dtype float and shape [500]\n",
      "\t [[{{node Placeholder/_1}}]]\n",
      "2023-05-13 18:26:15.674792: I tensorflow/core/common_runtime/executor.cc:1197] [/device:CPU:0] (DEBUG INFO) Executor start aborting (this does not indicate an error and you can ignore this message): INVALID_ARGUMENT: You must feed a value for placeholder tensor 'Placeholder/_1' with dtype float and shape [500]\n",
      "\t [[{{node Placeholder/_1}}]]\n",
      "2023-05-13 18:26:15.679752: I tensorflow/core/common_runtime/executor.cc:1197] [/device:CPU:0] (DEBUG INFO) Executor start aborting (this does not indicate an error and you can ignore this message): INVALID_ARGUMENT: You must feed a value for placeholder tensor 'Placeholder/_1' with dtype float and shape [500]\n",
      "\t [[{{node Placeholder/_1}}]]\n",
      "2023-05-13 18:26:15.683970: I tensorflow/core/common_runtime/executor.cc:1197] [/device:CPU:0] (DEBUG INFO) Executor start aborting (this does not indicate an error and you can ignore this message): INVALID_ARGUMENT: You must feed a value for placeholder tensor 'Placeholder/_1' with dtype float and shape [500]\n",
      "\t [[{{node Placeholder/_1}}]]\n",
      "2023-05-13 18:26:15.688224: I tensorflow/core/common_runtime/executor.cc:1197] [/device:CPU:0] (DEBUG INFO) Executor start aborting (this does not indicate an error and you can ignore this message): INVALID_ARGUMENT: You must feed a value for placeholder tensor 'Placeholder/_1' with dtype float and shape [500]\n",
      "\t [[{{node Placeholder/_1}}]]\n",
      "2023-05-13 18:26:15.692487: I tensorflow/core/common_runtime/executor.cc:1197] [/device:CPU:0] (DEBUG INFO) Executor start aborting (this does not indicate an error and you can ignore this message): INVALID_ARGUMENT: You must feed a value for placeholder tensor 'Placeholder/_1' with dtype float and shape [500]\n",
      "\t [[{{node Placeholder/_1}}]]\n",
      "2023-05-13 18:26:15.697269: I tensorflow/core/common_runtime/executor.cc:1197] [/device:CPU:0] (DEBUG INFO) Executor start aborting (this does not indicate an error and you can ignore this message): INVALID_ARGUMENT: You must feed a value for placeholder tensor 'Placeholder/_1' with dtype float and shape [500]\n",
      "\t [[{{node Placeholder/_1}}]]\n",
      "2023-05-13 18:26:15.713476: I tensorflow/core/common_runtime/executor.cc:1197] [/device:CPU:0] (DEBUG INFO) Executor start aborting (this does not indicate an error and you can ignore this message): INVALID_ARGUMENT: You must feed a value for placeholder tensor 'Placeholder/_1' with dtype float and shape [500]\n",
      "\t [[{{node Placeholder/_1}}]]\n"
     ]
    },
    {
     "name": "stdout",
     "output_type": "stream",
     "text": [
      "\n",
      "Testing for epoch 13 index 3:\n",
      "65/65 [==============================] - 0s 462us/step\n"
     ]
    },
    {
     "name": "stderr",
     "output_type": "stream",
     "text": [
      "2023-05-13 18:26:16.019480: I tensorflow/core/common_runtime/executor.cc:1197] [/device:CPU:0] (DEBUG INFO) Executor start aborting (this does not indicate an error and you can ignore this message): INVALID_ARGUMENT: You must feed a value for placeholder tensor 'Placeholder/_1' with dtype int64 and shape [1000]\n",
      "\t [[{{node Placeholder/_1}}]]\n",
      "2023-05-13 18:26:16.089734: I tensorflow/core/common_runtime/executor.cc:1197] [/device:CPU:0] (DEBUG INFO) Executor start aborting (this does not indicate an error and you can ignore this message): INVALID_ARGUMENT: You must feed a value for placeholder tensor 'Placeholder/_1' with dtype float and shape [500]\n",
      "\t [[{{node Placeholder/_1}}]]\n",
      "2023-05-13 18:26:16.093077: I tensorflow/core/common_runtime/executor.cc:1197] [/device:CPU:0] (DEBUG INFO) Executor start aborting (this does not indicate an error and you can ignore this message): INVALID_ARGUMENT: You must feed a value for placeholder tensor 'Placeholder/_1' with dtype float and shape [500]\n",
      "\t [[{{node Placeholder/_1}}]]\n",
      "2023-05-13 18:26:16.096712: I tensorflow/core/common_runtime/executor.cc:1197] [/device:CPU:0] (DEBUG INFO) Executor start aborting (this does not indicate an error and you can ignore this message): INVALID_ARGUMENT: You must feed a value for placeholder tensor 'Placeholder/_1' with dtype float and shape [500]\n",
      "\t [[{{node Placeholder/_1}}]]\n",
      "2023-05-13 18:26:16.099729: I tensorflow/core/common_runtime/executor.cc:1197] [/device:CPU:0] (DEBUG INFO) Executor start aborting (this does not indicate an error and you can ignore this message): INVALID_ARGUMENT: You must feed a value for placeholder tensor 'Placeholder/_1' with dtype float and shape [500]\n",
      "\t [[{{node Placeholder/_1}}]]\n",
      "2023-05-13 18:26:16.102864: I tensorflow/core/common_runtime/executor.cc:1197] [/device:CPU:0] (DEBUG INFO) Executor start aborting (this does not indicate an error and you can ignore this message): INVALID_ARGUMENT: You must feed a value for placeholder tensor 'Placeholder/_1' with dtype float and shape [500]\n",
      "\t [[{{node Placeholder/_1}}]]\n",
      "2023-05-13 18:26:16.105788: I tensorflow/core/common_runtime/executor.cc:1197] [/device:CPU:0] (DEBUG INFO) Executor start aborting (this does not indicate an error and you can ignore this message): INVALID_ARGUMENT: You must feed a value for placeholder tensor 'Placeholder/_1' with dtype float and shape [500]\n",
      "\t [[{{node Placeholder/_1}}]]\n",
      "2023-05-13 18:26:16.109183: I tensorflow/core/common_runtime/executor.cc:1197] [/device:CPU:0] (DEBUG INFO) Executor start aborting (this does not indicate an error and you can ignore this message): INVALID_ARGUMENT: You must feed a value for placeholder tensor 'Placeholder/_1' with dtype float and shape [500]\n",
      "\t [[{{node Placeholder/_1}}]]\n",
      "2023-05-13 18:26:16.112022: I tensorflow/core/common_runtime/executor.cc:1197] [/device:CPU:0] (DEBUG INFO) Executor start aborting (this does not indicate an error and you can ignore this message): INVALID_ARGUMENT: You must feed a value for placeholder tensor 'Placeholder/_1' with dtype float and shape [500]\n",
      "\t [[{{node Placeholder/_1}}]]\n",
      "2023-05-13 18:26:16.115382: I tensorflow/core/common_runtime/executor.cc:1197] [/device:CPU:0] (DEBUG INFO) Executor start aborting (this does not indicate an error and you can ignore this message): INVALID_ARGUMENT: You must feed a value for placeholder tensor 'Placeholder/_1' with dtype float and shape [500]\n",
      "\t [[{{node Placeholder/_1}}]]\n",
      "2023-05-13 18:26:16.118401: I tensorflow/core/common_runtime/executor.cc:1197] [/device:CPU:0] (DEBUG INFO) Executor start aborting (this does not indicate an error and you can ignore this message): INVALID_ARGUMENT: You must feed a value for placeholder tensor 'Placeholder/_1' with dtype float and shape [500]\n",
      "\t [[{{node Placeholder/_1}}]]\n"
     ]
    },
    {
     "name": "stdout",
     "output_type": "stream",
     "text": [
      "\n",
      "Testing for epoch 13 index 4:\n",
      "65/65 [==============================] - 0s 445us/step\n"
     ]
    },
    {
     "name": "stderr",
     "output_type": "stream",
     "text": [
      "2023-05-13 18:26:16.356641: I tensorflow/core/common_runtime/executor.cc:1197] [/device:CPU:0] (DEBUG INFO) Executor start aborting (this does not indicate an error and you can ignore this message): INVALID_ARGUMENT: You must feed a value for placeholder tensor 'Placeholder/_1' with dtype int64 and shape [1000]\n",
      "\t [[{{node Placeholder/_1}}]]\n",
      "2023-05-13 18:26:16.422872: I tensorflow/core/common_runtime/executor.cc:1197] [/device:CPU:0] (DEBUG INFO) Executor start aborting (this does not indicate an error and you can ignore this message): INVALID_ARGUMENT: You must feed a value for placeholder tensor 'Placeholder/_1' with dtype float and shape [500]\n",
      "\t [[{{node Placeholder/_1}}]]\n",
      "2023-05-13 18:26:16.426197: I tensorflow/core/common_runtime/executor.cc:1197] [/device:CPU:0] (DEBUG INFO) Executor start aborting (this does not indicate an error and you can ignore this message): INVALID_ARGUMENT: You must feed a value for placeholder tensor 'Placeholder/_1' with dtype float and shape [500]\n",
      "\t [[{{node Placeholder/_1}}]]\n",
      "2023-05-13 18:26:16.429678: I tensorflow/core/common_runtime/executor.cc:1197] [/device:CPU:0] (DEBUG INFO) Executor start aborting (this does not indicate an error and you can ignore this message): INVALID_ARGUMENT: You must feed a value for placeholder tensor 'Placeholder/_1' with dtype float and shape [500]\n",
      "\t [[{{node Placeholder/_1}}]]\n",
      "2023-05-13 18:26:16.432820: I tensorflow/core/common_runtime/executor.cc:1197] [/device:CPU:0] (DEBUG INFO) Executor start aborting (this does not indicate an error and you can ignore this message): INVALID_ARGUMENT: You must feed a value for placeholder tensor 'Placeholder/_1' with dtype float and shape [500]\n",
      "\t [[{{node Placeholder/_1}}]]\n",
      "2023-05-13 18:26:16.435758: I tensorflow/core/common_runtime/executor.cc:1197] [/device:CPU:0] (DEBUG INFO) Executor start aborting (this does not indicate an error and you can ignore this message): INVALID_ARGUMENT: You must feed a value for placeholder tensor 'Placeholder/_1' with dtype float and shape [500]\n",
      "\t [[{{node Placeholder/_1}}]]\n",
      "2023-05-13 18:26:16.438689: I tensorflow/core/common_runtime/executor.cc:1197] [/device:CPU:0] (DEBUG INFO) Executor start aborting (this does not indicate an error and you can ignore this message): INVALID_ARGUMENT: You must feed a value for placeholder tensor 'Placeholder/_1' with dtype float and shape [500]\n",
      "\t [[{{node Placeholder/_1}}]]\n",
      "2023-05-13 18:26:16.442091: I tensorflow/core/common_runtime/executor.cc:1197] [/device:CPU:0] (DEBUG INFO) Executor start aborting (this does not indicate an error and you can ignore this message): INVALID_ARGUMENT: You must feed a value for placeholder tensor 'Placeholder/_1' with dtype float and shape [500]\n",
      "\t [[{{node Placeholder/_1}}]]\n",
      "2023-05-13 18:26:16.445060: I tensorflow/core/common_runtime/executor.cc:1197] [/device:CPU:0] (DEBUG INFO) Executor start aborting (this does not indicate an error and you can ignore this message): INVALID_ARGUMENT: You must feed a value for placeholder tensor 'Placeholder/_1' with dtype float and shape [500]\n",
      "\t [[{{node Placeholder/_1}}]]\n",
      "2023-05-13 18:26:16.448500: I tensorflow/core/common_runtime/executor.cc:1197] [/device:CPU:0] (DEBUG INFO) Executor start aborting (this does not indicate an error and you can ignore this message): INVALID_ARGUMENT: You must feed a value for placeholder tensor 'Placeholder/_1' with dtype float and shape [500]\n",
      "\t [[{{node Placeholder/_1}}]]\n",
      "2023-05-13 18:26:16.451480: I tensorflow/core/common_runtime/executor.cc:1197] [/device:CPU:0] (DEBUG INFO) Executor start aborting (this does not indicate an error and you can ignore this message): INVALID_ARGUMENT: You must feed a value for placeholder tensor 'Placeholder/_1' with dtype float and shape [500]\n",
      "\t [[{{node Placeholder/_1}}]]\n"
     ]
    },
    {
     "name": "stdout",
     "output_type": "stream",
     "text": [
      "Epoch 14 of 60\n",
      "\n",
      "Testing for epoch 14 index 1:\n",
      "65/65 [==============================] - 0s 443us/step\n"
     ]
    },
    {
     "name": "stderr",
     "output_type": "stream",
     "text": [
      "2023-05-13 18:26:16.691151: I tensorflow/core/common_runtime/executor.cc:1197] [/device:CPU:0] (DEBUG INFO) Executor start aborting (this does not indicate an error and you can ignore this message): INVALID_ARGUMENT: You must feed a value for placeholder tensor 'Placeholder/_1' with dtype int64 and shape [1000]\n",
      "\t [[{{node Placeholder/_1}}]]\n",
      "2023-05-13 18:26:16.758750: I tensorflow/core/common_runtime/executor.cc:1197] [/device:CPU:0] (DEBUG INFO) Executor start aborting (this does not indicate an error and you can ignore this message): INVALID_ARGUMENT: You must feed a value for placeholder tensor 'Placeholder/_1' with dtype float and shape [500]\n",
      "\t [[{{node Placeholder/_1}}]]\n",
      "2023-05-13 18:26:16.762388: I tensorflow/core/common_runtime/executor.cc:1197] [/device:CPU:0] (DEBUG INFO) Executor start aborting (this does not indicate an error and you can ignore this message): INVALID_ARGUMENT: You must feed a value for placeholder tensor 'Placeholder/_1' with dtype float and shape [500]\n",
      "\t [[{{node Placeholder/_1}}]]\n",
      "2023-05-13 18:26:16.765268: I tensorflow/core/common_runtime/executor.cc:1197] [/device:CPU:0] (DEBUG INFO) Executor start aborting (this does not indicate an error and you can ignore this message): INVALID_ARGUMENT: You must feed a value for placeholder tensor 'Placeholder/_1' with dtype float and shape [500]\n",
      "\t [[{{node Placeholder/_1}}]]\n",
      "2023-05-13 18:26:16.768435: I tensorflow/core/common_runtime/executor.cc:1197] [/device:CPU:0] (DEBUG INFO) Executor start aborting (this does not indicate an error and you can ignore this message): INVALID_ARGUMENT: You must feed a value for placeholder tensor 'Placeholder/_1' with dtype float and shape [500]\n",
      "\t [[{{node Placeholder/_1}}]]\n",
      "2023-05-13 18:26:16.771225: I tensorflow/core/common_runtime/executor.cc:1197] [/device:CPU:0] (DEBUG INFO) Executor start aborting (this does not indicate an error and you can ignore this message): INVALID_ARGUMENT: You must feed a value for placeholder tensor 'Placeholder/_1' with dtype float and shape [500]\n",
      "\t [[{{node Placeholder/_1}}]]\n",
      "2023-05-13 18:26:16.774415: I tensorflow/core/common_runtime/executor.cc:1197] [/device:CPU:0] (DEBUG INFO) Executor start aborting (this does not indicate an error and you can ignore this message): INVALID_ARGUMENT: You must feed a value for placeholder tensor 'Placeholder/_1' with dtype float and shape [500]\n",
      "\t [[{{node Placeholder/_1}}]]\n",
      "2023-05-13 18:26:16.777336: I tensorflow/core/common_runtime/executor.cc:1197] [/device:CPU:0] (DEBUG INFO) Executor start aborting (this does not indicate an error and you can ignore this message): INVALID_ARGUMENT: You must feed a value for placeholder tensor 'Placeholder/_1' with dtype float and shape [500]\n",
      "\t [[{{node Placeholder/_1}}]]\n",
      "2023-05-13 18:26:16.780150: I tensorflow/core/common_runtime/executor.cc:1197] [/device:CPU:0] (DEBUG INFO) Executor start aborting (this does not indicate an error and you can ignore this message): INVALID_ARGUMENT: You must feed a value for placeholder tensor 'Placeholder/_1' with dtype float and shape [500]\n",
      "\t [[{{node Placeholder/_1}}]]\n",
      "2023-05-13 18:26:16.782925: I tensorflow/core/common_runtime/executor.cc:1197] [/device:CPU:0] (DEBUG INFO) Executor start aborting (this does not indicate an error and you can ignore this message): INVALID_ARGUMENT: You must feed a value for placeholder tensor 'Placeholder/_1' with dtype float and shape [500]\n",
      "\t [[{{node Placeholder/_1}}]]\n",
      "2023-05-13 18:26:16.785711: I tensorflow/core/common_runtime/executor.cc:1197] [/device:CPU:0] (DEBUG INFO) Executor start aborting (this does not indicate an error and you can ignore this message): INVALID_ARGUMENT: You must feed a value for placeholder tensor 'Placeholder/_1' with dtype float and shape [500]\n",
      "\t [[{{node Placeholder/_1}}]]\n"
     ]
    },
    {
     "name": "stdout",
     "output_type": "stream",
     "text": [
      "\n",
      "Testing for epoch 14 index 2:\n",
      "65/65 [==============================] - 0s 427us/step\n"
     ]
    },
    {
     "name": "stderr",
     "output_type": "stream",
     "text": [
      "2023-05-13 18:26:17.022011: I tensorflow/core/common_runtime/executor.cc:1197] [/device:CPU:0] (DEBUG INFO) Executor start aborting (this does not indicate an error and you can ignore this message): INVALID_ARGUMENT: You must feed a value for placeholder tensor 'Placeholder/_1' with dtype int64 and shape [1000]\n",
      "\t [[{{node Placeholder/_1}}]]\n",
      "2023-05-13 18:26:17.088692: I tensorflow/core/common_runtime/executor.cc:1197] [/device:CPU:0] (DEBUG INFO) Executor start aborting (this does not indicate an error and you can ignore this message): INVALID_ARGUMENT: You must feed a value for placeholder tensor 'Placeholder/_1' with dtype float and shape [500]\n",
      "\t [[{{node Placeholder/_1}}]]\n",
      "2023-05-13 18:26:17.092231: I tensorflow/core/common_runtime/executor.cc:1197] [/device:CPU:0] (DEBUG INFO) Executor start aborting (this does not indicate an error and you can ignore this message): INVALID_ARGUMENT: You must feed a value for placeholder tensor 'Placeholder/_1' with dtype float and shape [500]\n",
      "\t [[{{node Placeholder/_1}}]]\n",
      "2023-05-13 18:26:17.096282: I tensorflow/core/common_runtime/executor.cc:1197] [/device:CPU:0] (DEBUG INFO) Executor start aborting (this does not indicate an error and you can ignore this message): INVALID_ARGUMENT: You must feed a value for placeholder tensor 'Placeholder/_1' with dtype float and shape [500]\n",
      "\t [[{{node Placeholder/_1}}]]\n",
      "2023-05-13 18:26:17.099614: I tensorflow/core/common_runtime/executor.cc:1197] [/device:CPU:0] (DEBUG INFO) Executor start aborting (this does not indicate an error and you can ignore this message): INVALID_ARGUMENT: You must feed a value for placeholder tensor 'Placeholder/_1' with dtype float and shape [500]\n",
      "\t [[{{node Placeholder/_1}}]]\n",
      "2023-05-13 18:26:17.103146: I tensorflow/core/common_runtime/executor.cc:1197] [/device:CPU:0] (DEBUG INFO) Executor start aborting (this does not indicate an error and you can ignore this message): INVALID_ARGUMENT: You must feed a value for placeholder tensor 'Placeholder/_1' with dtype float and shape [500]\n",
      "\t [[{{node Placeholder/_1}}]]\n",
      "2023-05-13 18:26:17.106437: I tensorflow/core/common_runtime/executor.cc:1197] [/device:CPU:0] (DEBUG INFO) Executor start aborting (this does not indicate an error and you can ignore this message): INVALID_ARGUMENT: You must feed a value for placeholder tensor 'Placeholder/_1' with dtype float and shape [500]\n",
      "\t [[{{node Placeholder/_1}}]]\n",
      "2023-05-13 18:26:17.110024: I tensorflow/core/common_runtime/executor.cc:1197] [/device:CPU:0] (DEBUG INFO) Executor start aborting (this does not indicate an error and you can ignore this message): INVALID_ARGUMENT: You must feed a value for placeholder tensor 'Placeholder/_1' with dtype float and shape [500]\n",
      "\t [[{{node Placeholder/_1}}]]\n",
      "2023-05-13 18:26:17.113148: I tensorflow/core/common_runtime/executor.cc:1197] [/device:CPU:0] (DEBUG INFO) Executor start aborting (this does not indicate an error and you can ignore this message): INVALID_ARGUMENT: You must feed a value for placeholder tensor 'Placeholder/_1' with dtype float and shape [500]\n",
      "\t [[{{node Placeholder/_1}}]]\n",
      "2023-05-13 18:26:17.116931: I tensorflow/core/common_runtime/executor.cc:1197] [/device:CPU:0] (DEBUG INFO) Executor start aborting (this does not indicate an error and you can ignore this message): INVALID_ARGUMENT: You must feed a value for placeholder tensor 'Placeholder/_1' with dtype float and shape [500]\n",
      "\t [[{{node Placeholder/_1}}]]\n",
      "2023-05-13 18:26:17.119917: I tensorflow/core/common_runtime/executor.cc:1197] [/device:CPU:0] (DEBUG INFO) Executor start aborting (this does not indicate an error and you can ignore this message): INVALID_ARGUMENT: You must feed a value for placeholder tensor 'Placeholder/_1' with dtype float and shape [500]\n",
      "\t [[{{node Placeholder/_1}}]]\n"
     ]
    },
    {
     "name": "stdout",
     "output_type": "stream",
     "text": [
      "\n",
      "Testing for epoch 14 index 3:\n",
      "65/65 [==============================] - 0s 421us/step\n"
     ]
    },
    {
     "name": "stderr",
     "output_type": "stream",
     "text": [
      "2023-05-13 18:26:17.404045: I tensorflow/core/common_runtime/executor.cc:1197] [/device:CPU:0] (DEBUG INFO) Executor start aborting (this does not indicate an error and you can ignore this message): INVALID_ARGUMENT: You must feed a value for placeholder tensor 'Placeholder/_1' with dtype int64 and shape [1000]\n",
      "\t [[{{node Placeholder/_1}}]]\n",
      "2023-05-13 18:26:17.469834: I tensorflow/core/common_runtime/executor.cc:1197] [/device:CPU:0] (DEBUG INFO) Executor start aborting (this does not indicate an error and you can ignore this message): INVALID_ARGUMENT: You must feed a value for placeholder tensor 'Placeholder/_1' with dtype float and shape [500]\n",
      "\t [[{{node Placeholder/_1}}]]\n",
      "2023-05-13 18:26:17.473066: I tensorflow/core/common_runtime/executor.cc:1197] [/device:CPU:0] (DEBUG INFO) Executor start aborting (this does not indicate an error and you can ignore this message): INVALID_ARGUMENT: You must feed a value for placeholder tensor 'Placeholder/_1' with dtype float and shape [500]\n",
      "\t [[{{node Placeholder/_1}}]]\n",
      "2023-05-13 18:26:17.476494: I tensorflow/core/common_runtime/executor.cc:1197] [/device:CPU:0] (DEBUG INFO) Executor start aborting (this does not indicate an error and you can ignore this message): INVALID_ARGUMENT: You must feed a value for placeholder tensor 'Placeholder/_1' with dtype float and shape [500]\n",
      "\t [[{{node Placeholder/_1}}]]\n",
      "2023-05-13 18:26:17.479449: I tensorflow/core/common_runtime/executor.cc:1197] [/device:CPU:0] (DEBUG INFO) Executor start aborting (this does not indicate an error and you can ignore this message): INVALID_ARGUMENT: You must feed a value for placeholder tensor 'Placeholder/_1' with dtype float and shape [500]\n",
      "\t [[{{node Placeholder/_1}}]]\n",
      "2023-05-13 18:26:17.482291: I tensorflow/core/common_runtime/executor.cc:1197] [/device:CPU:0] (DEBUG INFO) Executor start aborting (this does not indicate an error and you can ignore this message): INVALID_ARGUMENT: You must feed a value for placeholder tensor 'Placeholder/_1' with dtype float and shape [500]\n",
      "\t [[{{node Placeholder/_1}}]]\n",
      "2023-05-13 18:26:17.485233: I tensorflow/core/common_runtime/executor.cc:1197] [/device:CPU:0] (DEBUG INFO) Executor start aborting (this does not indicate an error and you can ignore this message): INVALID_ARGUMENT: You must feed a value for placeholder tensor 'Placeholder/_1' with dtype float and shape [500]\n",
      "\t [[{{node Placeholder/_1}}]]\n",
      "2023-05-13 18:26:17.488093: I tensorflow/core/common_runtime/executor.cc:1197] [/device:CPU:0] (DEBUG INFO) Executor start aborting (this does not indicate an error and you can ignore this message): INVALID_ARGUMENT: You must feed a value for placeholder tensor 'Placeholder/_1' with dtype float and shape [500]\n",
      "\t [[{{node Placeholder/_1}}]]\n",
      "2023-05-13 18:26:17.491055: I tensorflow/core/common_runtime/executor.cc:1197] [/device:CPU:0] (DEBUG INFO) Executor start aborting (this does not indicate an error and you can ignore this message): INVALID_ARGUMENT: You must feed a value for placeholder tensor 'Placeholder/_1' with dtype float and shape [500]\n",
      "\t [[{{node Placeholder/_1}}]]\n",
      "2023-05-13 18:26:17.493856: I tensorflow/core/common_runtime/executor.cc:1197] [/device:CPU:0] (DEBUG INFO) Executor start aborting (this does not indicate an error and you can ignore this message): INVALID_ARGUMENT: You must feed a value for placeholder tensor 'Placeholder/_1' with dtype float and shape [500]\n",
      "\t [[{{node Placeholder/_1}}]]\n",
      "2023-05-13 18:26:17.497301: I tensorflow/core/common_runtime/executor.cc:1197] [/device:CPU:0] (DEBUG INFO) Executor start aborting (this does not indicate an error and you can ignore this message): INVALID_ARGUMENT: You must feed a value for placeholder tensor 'Placeholder/_1' with dtype float and shape [500]\n",
      "\t [[{{node Placeholder/_1}}]]\n"
     ]
    },
    {
     "name": "stdout",
     "output_type": "stream",
     "text": [
      "\n",
      "Testing for epoch 14 index 4:\n",
      "65/65 [==============================] - 0s 429us/step\n"
     ]
    },
    {
     "name": "stderr",
     "output_type": "stream",
     "text": [
      "2023-05-13 18:26:17.735262: I tensorflow/core/common_runtime/executor.cc:1197] [/device:CPU:0] (DEBUG INFO) Executor start aborting (this does not indicate an error and you can ignore this message): INVALID_ARGUMENT: You must feed a value for placeholder tensor 'Placeholder/_1' with dtype int64 and shape [1000]\n",
      "\t [[{{node Placeholder/_1}}]]\n",
      "2023-05-13 18:26:17.800689: I tensorflow/core/common_runtime/executor.cc:1197] [/device:CPU:0] (DEBUG INFO) Executor start aborting (this does not indicate an error and you can ignore this message): INVALID_ARGUMENT: You must feed a value for placeholder tensor 'Placeholder/_1' with dtype float and shape [500]\n",
      "\t [[{{node Placeholder/_1}}]]\n",
      "2023-05-13 18:26:17.804016: I tensorflow/core/common_runtime/executor.cc:1197] [/device:CPU:0] (DEBUG INFO) Executor start aborting (this does not indicate an error and you can ignore this message): INVALID_ARGUMENT: You must feed a value for placeholder tensor 'Placeholder/_1' with dtype float and shape [500]\n",
      "\t [[{{node Placeholder/_1}}]]\n",
      "2023-05-13 18:26:17.807057: I tensorflow/core/common_runtime/executor.cc:1197] [/device:CPU:0] (DEBUG INFO) Executor start aborting (this does not indicate an error and you can ignore this message): INVALID_ARGUMENT: You must feed a value for placeholder tensor 'Placeholder/_1' with dtype float and shape [500]\n",
      "\t [[{{node Placeholder/_1}}]]\n",
      "2023-05-13 18:26:17.810299: I tensorflow/core/common_runtime/executor.cc:1197] [/device:CPU:0] (DEBUG INFO) Executor start aborting (this does not indicate an error and you can ignore this message): INVALID_ARGUMENT: You must feed a value for placeholder tensor 'Placeholder/_1' with dtype float and shape [500]\n",
      "\t [[{{node Placeholder/_1}}]]\n",
      "2023-05-13 18:26:17.813095: I tensorflow/core/common_runtime/executor.cc:1197] [/device:CPU:0] (DEBUG INFO) Executor start aborting (this does not indicate an error and you can ignore this message): INVALID_ARGUMENT: You must feed a value for placeholder tensor 'Placeholder/_1' with dtype float and shape [500]\n",
      "\t [[{{node Placeholder/_1}}]]\n",
      "2023-05-13 18:26:17.816564: I tensorflow/core/common_runtime/executor.cc:1197] [/device:CPU:0] (DEBUG INFO) Executor start aborting (this does not indicate an error and you can ignore this message): INVALID_ARGUMENT: You must feed a value for placeholder tensor 'Placeholder/_1' with dtype float and shape [500]\n",
      "\t [[{{node Placeholder/_1}}]]\n",
      "2023-05-13 18:26:17.819542: I tensorflow/core/common_runtime/executor.cc:1197] [/device:CPU:0] (DEBUG INFO) Executor start aborting (this does not indicate an error and you can ignore this message): INVALID_ARGUMENT: You must feed a value for placeholder tensor 'Placeholder/_1' with dtype float and shape [500]\n",
      "\t [[{{node Placeholder/_1}}]]\n",
      "2023-05-13 18:26:17.822334: I tensorflow/core/common_runtime/executor.cc:1197] [/device:CPU:0] (DEBUG INFO) Executor start aborting (this does not indicate an error and you can ignore this message): INVALID_ARGUMENT: You must feed a value for placeholder tensor 'Placeholder/_1' with dtype float and shape [500]\n",
      "\t [[{{node Placeholder/_1}}]]\n",
      "2023-05-13 18:26:17.825149: I tensorflow/core/common_runtime/executor.cc:1197] [/device:CPU:0] (DEBUG INFO) Executor start aborting (this does not indicate an error and you can ignore this message): INVALID_ARGUMENT: You must feed a value for placeholder tensor 'Placeholder/_1' with dtype float and shape [500]\n",
      "\t [[{{node Placeholder/_1}}]]\n",
      "2023-05-13 18:26:17.827990: I tensorflow/core/common_runtime/executor.cc:1197] [/device:CPU:0] (DEBUG INFO) Executor start aborting (this does not indicate an error and you can ignore this message): INVALID_ARGUMENT: You must feed a value for placeholder tensor 'Placeholder/_1' with dtype float and shape [500]\n",
      "\t [[{{node Placeholder/_1}}]]\n"
     ]
    },
    {
     "name": "stdout",
     "output_type": "stream",
     "text": [
      "Epoch 15 of 60\n",
      "\n",
      "Testing for epoch 15 index 1:\n",
      "65/65 [==============================] - 0s 423us/step\n"
     ]
    },
    {
     "name": "stderr",
     "output_type": "stream",
     "text": [
      "2023-05-13 18:26:18.059214: I tensorflow/core/common_runtime/executor.cc:1197] [/device:CPU:0] (DEBUG INFO) Executor start aborting (this does not indicate an error and you can ignore this message): INVALID_ARGUMENT: You must feed a value for placeholder tensor 'Placeholder/_1' with dtype int64 and shape [1000]\n",
      "\t [[{{node Placeholder/_1}}]]\n",
      "2023-05-13 18:26:18.124395: I tensorflow/core/common_runtime/executor.cc:1197] [/device:CPU:0] (DEBUG INFO) Executor start aborting (this does not indicate an error and you can ignore this message): INVALID_ARGUMENT: You must feed a value for placeholder tensor 'Placeholder/_1' with dtype float and shape [500]\n",
      "\t [[{{node Placeholder/_1}}]]\n",
      "2023-05-13 18:26:18.127613: I tensorflow/core/common_runtime/executor.cc:1197] [/device:CPU:0] (DEBUG INFO) Executor start aborting (this does not indicate an error and you can ignore this message): INVALID_ARGUMENT: You must feed a value for placeholder tensor 'Placeholder/_1' with dtype float and shape [500]\n",
      "\t [[{{node Placeholder/_1}}]]\n",
      "2023-05-13 18:26:18.130453: I tensorflow/core/common_runtime/executor.cc:1197] [/device:CPU:0] (DEBUG INFO) Executor start aborting (this does not indicate an error and you can ignore this message): INVALID_ARGUMENT: You must feed a value for placeholder tensor 'Placeholder/_1' with dtype float and shape [500]\n",
      "\t [[{{node Placeholder/_1}}]]\n",
      "2023-05-13 18:26:18.133243: I tensorflow/core/common_runtime/executor.cc:1197] [/device:CPU:0] (DEBUG INFO) Executor start aborting (this does not indicate an error and you can ignore this message): INVALID_ARGUMENT: You must feed a value for placeholder tensor 'Placeholder/_1' with dtype float and shape [500]\n",
      "\t [[{{node Placeholder/_1}}]]\n",
      "2023-05-13 18:26:18.136165: I tensorflow/core/common_runtime/executor.cc:1197] [/device:CPU:0] (DEBUG INFO) Executor start aborting (this does not indicate an error and you can ignore this message): INVALID_ARGUMENT: You must feed a value for placeholder tensor 'Placeholder/_1' with dtype float and shape [500]\n",
      "\t [[{{node Placeholder/_1}}]]\n",
      "2023-05-13 18:26:18.139150: I tensorflow/core/common_runtime/executor.cc:1197] [/device:CPU:0] (DEBUG INFO) Executor start aborting (this does not indicate an error and you can ignore this message): INVALID_ARGUMENT: You must feed a value for placeholder tensor 'Placeholder/_1' with dtype float and shape [500]\n",
      "\t [[{{node Placeholder/_1}}]]\n",
      "2023-05-13 18:26:18.142474: I tensorflow/core/common_runtime/executor.cc:1197] [/device:CPU:0] (DEBUG INFO) Executor start aborting (this does not indicate an error and you can ignore this message): INVALID_ARGUMENT: You must feed a value for placeholder tensor 'Placeholder/_1' with dtype float and shape [500]\n",
      "\t [[{{node Placeholder/_1}}]]\n",
      "2023-05-13 18:26:18.145320: I tensorflow/core/common_runtime/executor.cc:1197] [/device:CPU:0] (DEBUG INFO) Executor start aborting (this does not indicate an error and you can ignore this message): INVALID_ARGUMENT: You must feed a value for placeholder tensor 'Placeholder/_1' with dtype float and shape [500]\n",
      "\t [[{{node Placeholder/_1}}]]\n",
      "2023-05-13 18:26:18.148214: I tensorflow/core/common_runtime/executor.cc:1197] [/device:CPU:0] (DEBUG INFO) Executor start aborting (this does not indicate an error and you can ignore this message): INVALID_ARGUMENT: You must feed a value for placeholder tensor 'Placeholder/_1' with dtype float and shape [500]\n",
      "\t [[{{node Placeholder/_1}}]]\n",
      "2023-05-13 18:26:18.151258: I tensorflow/core/common_runtime/executor.cc:1197] [/device:CPU:0] (DEBUG INFO) Executor start aborting (this does not indicate an error and you can ignore this message): INVALID_ARGUMENT: You must feed a value for placeholder tensor 'Placeholder/_1' with dtype float and shape [500]\n",
      "\t [[{{node Placeholder/_1}}]]\n"
     ]
    },
    {
     "name": "stdout",
     "output_type": "stream",
     "text": [
      "\n",
      "Testing for epoch 15 index 2:\n",
      "65/65 [==============================] - 0s 437us/step\n"
     ]
    },
    {
     "name": "stderr",
     "output_type": "stream",
     "text": [
      "2023-05-13 18:26:18.391967: I tensorflow/core/common_runtime/executor.cc:1197] [/device:CPU:0] (DEBUG INFO) Executor start aborting (this does not indicate an error and you can ignore this message): INVALID_ARGUMENT: You must feed a value for placeholder tensor 'Placeholder/_1' with dtype int64 and shape [1000]\n",
      "\t [[{{node Placeholder/_1}}]]\n",
      "2023-05-13 18:26:18.461644: I tensorflow/core/common_runtime/executor.cc:1197] [/device:CPU:0] (DEBUG INFO) Executor start aborting (this does not indicate an error and you can ignore this message): INVALID_ARGUMENT: You must feed a value for placeholder tensor 'Placeholder/_1' with dtype float and shape [500]\n",
      "\t [[{{node Placeholder/_1}}]]\n",
      "2023-05-13 18:26:18.465130: I tensorflow/core/common_runtime/executor.cc:1197] [/device:CPU:0] (DEBUG INFO) Executor start aborting (this does not indicate an error and you can ignore this message): INVALID_ARGUMENT: You must feed a value for placeholder tensor 'Placeholder/_1' with dtype float and shape [500]\n",
      "\t [[{{node Placeholder/_1}}]]\n",
      "2023-05-13 18:26:18.468143: I tensorflow/core/common_runtime/executor.cc:1197] [/device:CPU:0] (DEBUG INFO) Executor start aborting (this does not indicate an error and you can ignore this message): INVALID_ARGUMENT: You must feed a value for placeholder tensor 'Placeholder/_1' with dtype float and shape [500]\n",
      "\t [[{{node Placeholder/_1}}]]\n",
      "2023-05-13 18:26:18.471217: I tensorflow/core/common_runtime/executor.cc:1197] [/device:CPU:0] (DEBUG INFO) Executor start aborting (this does not indicate an error and you can ignore this message): INVALID_ARGUMENT: You must feed a value for placeholder tensor 'Placeholder/_1' with dtype float and shape [500]\n",
      "\t [[{{node Placeholder/_1}}]]\n",
      "2023-05-13 18:26:18.474129: I tensorflow/core/common_runtime/executor.cc:1197] [/device:CPU:0] (DEBUG INFO) Executor start aborting (this does not indicate an error and you can ignore this message): INVALID_ARGUMENT: You must feed a value for placeholder tensor 'Placeholder/_1' with dtype float and shape [500]\n",
      "\t [[{{node Placeholder/_1}}]]\n",
      "2023-05-13 18:26:18.476987: I tensorflow/core/common_runtime/executor.cc:1197] [/device:CPU:0] (DEBUG INFO) Executor start aborting (this does not indicate an error and you can ignore this message): INVALID_ARGUMENT: You must feed a value for placeholder tensor 'Placeholder/_1' with dtype float and shape [500]\n",
      "\t [[{{node Placeholder/_1}}]]\n",
      "2023-05-13 18:26:18.479841: I tensorflow/core/common_runtime/executor.cc:1197] [/device:CPU:0] (DEBUG INFO) Executor start aborting (this does not indicate an error and you can ignore this message): INVALID_ARGUMENT: You must feed a value for placeholder tensor 'Placeholder/_1' with dtype float and shape [500]\n",
      "\t [[{{node Placeholder/_1}}]]\n",
      "2023-05-13 18:26:18.483244: I tensorflow/core/common_runtime/executor.cc:1197] [/device:CPU:0] (DEBUG INFO) Executor start aborting (this does not indicate an error and you can ignore this message): INVALID_ARGUMENT: You must feed a value for placeholder tensor 'Placeholder/_1' with dtype float and shape [500]\n",
      "\t [[{{node Placeholder/_1}}]]\n",
      "2023-05-13 18:26:18.486234: I tensorflow/core/common_runtime/executor.cc:1197] [/device:CPU:0] (DEBUG INFO) Executor start aborting (this does not indicate an error and you can ignore this message): INVALID_ARGUMENT: You must feed a value for placeholder tensor 'Placeholder/_1' with dtype float and shape [500]\n",
      "\t [[{{node Placeholder/_1}}]]\n",
      "2023-05-13 18:26:18.489283: I tensorflow/core/common_runtime/executor.cc:1197] [/device:CPU:0] (DEBUG INFO) Executor start aborting (this does not indicate an error and you can ignore this message): INVALID_ARGUMENT: You must feed a value for placeholder tensor 'Placeholder/_1' with dtype float and shape [500]\n",
      "\t [[{{node Placeholder/_1}}]]\n"
     ]
    },
    {
     "name": "stdout",
     "output_type": "stream",
     "text": [
      "\n",
      "Testing for epoch 15 index 3:\n",
      "65/65 [==============================] - 0s 423us/step\n"
     ]
    },
    {
     "name": "stderr",
     "output_type": "stream",
     "text": [
      "2023-05-13 18:26:18.720616: I tensorflow/core/common_runtime/executor.cc:1197] [/device:CPU:0] (DEBUG INFO) Executor start aborting (this does not indicate an error and you can ignore this message): INVALID_ARGUMENT: You must feed a value for placeholder tensor 'Placeholder/_1' with dtype int64 and shape [1000]\n",
      "\t [[{{node Placeholder/_1}}]]\n",
      "2023-05-13 18:26:18.787345: I tensorflow/core/common_runtime/executor.cc:1197] [/device:CPU:0] (DEBUG INFO) Executor start aborting (this does not indicate an error and you can ignore this message): INVALID_ARGUMENT: You must feed a value for placeholder tensor 'Placeholder/_1' with dtype float and shape [500]\n",
      "\t [[{{node Placeholder/_1}}]]\n",
      "2023-05-13 18:26:18.790778: I tensorflow/core/common_runtime/executor.cc:1197] [/device:CPU:0] (DEBUG INFO) Executor start aborting (this does not indicate an error and you can ignore this message): INVALID_ARGUMENT: You must feed a value for placeholder tensor 'Placeholder/_1' with dtype float and shape [500]\n",
      "\t [[{{node Placeholder/_1}}]]\n",
      "2023-05-13 18:26:18.793735: I tensorflow/core/common_runtime/executor.cc:1197] [/device:CPU:0] (DEBUG INFO) Executor start aborting (this does not indicate an error and you can ignore this message): INVALID_ARGUMENT: You must feed a value for placeholder tensor 'Placeholder/_1' with dtype float and shape [500]\n",
      "\t [[{{node Placeholder/_1}}]]\n",
      "2023-05-13 18:26:18.796690: I tensorflow/core/common_runtime/executor.cc:1197] [/device:CPU:0] (DEBUG INFO) Executor start aborting (this does not indicate an error and you can ignore this message): INVALID_ARGUMENT: You must feed a value for placeholder tensor 'Placeholder/_1' with dtype float and shape [500]\n",
      "\t [[{{node Placeholder/_1}}]]\n",
      "2023-05-13 18:26:18.799595: I tensorflow/core/common_runtime/executor.cc:1197] [/device:CPU:0] (DEBUG INFO) Executor start aborting (this does not indicate an error and you can ignore this message): INVALID_ARGUMENT: You must feed a value for placeholder tensor 'Placeholder/_1' with dtype float and shape [500]\n",
      "\t [[{{node Placeholder/_1}}]]\n",
      "2023-05-13 18:26:18.802843: I tensorflow/core/common_runtime/executor.cc:1197] [/device:CPU:0] (DEBUG INFO) Executor start aborting (this does not indicate an error and you can ignore this message): INVALID_ARGUMENT: You must feed a value for placeholder tensor 'Placeholder/_1' with dtype float and shape [500]\n",
      "\t [[{{node Placeholder/_1}}]]\n",
      "2023-05-13 18:26:18.805707: I tensorflow/core/common_runtime/executor.cc:1197] [/device:CPU:0] (DEBUG INFO) Executor start aborting (this does not indicate an error and you can ignore this message): INVALID_ARGUMENT: You must feed a value for placeholder tensor 'Placeholder/_1' with dtype float and shape [500]\n",
      "\t [[{{node Placeholder/_1}}]]\n",
      "2023-05-13 18:26:18.808597: I tensorflow/core/common_runtime/executor.cc:1197] [/device:CPU:0] (DEBUG INFO) Executor start aborting (this does not indicate an error and you can ignore this message): INVALID_ARGUMENT: You must feed a value for placeholder tensor 'Placeholder/_1' with dtype float and shape [500]\n",
      "\t [[{{node Placeholder/_1}}]]\n",
      "2023-05-13 18:26:18.811818: I tensorflow/core/common_runtime/executor.cc:1197] [/device:CPU:0] (DEBUG INFO) Executor start aborting (this does not indicate an error and you can ignore this message): INVALID_ARGUMENT: You must feed a value for placeholder tensor 'Placeholder/_1' with dtype float and shape [500]\n",
      "\t [[{{node Placeholder/_1}}]]\n",
      "2023-05-13 18:26:18.814722: I tensorflow/core/common_runtime/executor.cc:1197] [/device:CPU:0] (DEBUG INFO) Executor start aborting (this does not indicate an error and you can ignore this message): INVALID_ARGUMENT: You must feed a value for placeholder tensor 'Placeholder/_1' with dtype float and shape [500]\n",
      "\t [[{{node Placeholder/_1}}]]\n"
     ]
    },
    {
     "name": "stdout",
     "output_type": "stream",
     "text": [
      "\n",
      "Testing for epoch 15 index 4:\n",
      "65/65 [==============================] - 0s 429us/step\n"
     ]
    },
    {
     "name": "stderr",
     "output_type": "stream",
     "text": [
      "2023-05-13 18:26:19.050398: I tensorflow/core/common_runtime/executor.cc:1197] [/device:CPU:0] (DEBUG INFO) Executor start aborting (this does not indicate an error and you can ignore this message): INVALID_ARGUMENT: You must feed a value for placeholder tensor 'Placeholder/_1' with dtype int64 and shape [1000]\n",
      "\t [[{{node Placeholder/_1}}]]\n",
      "2023-05-13 18:26:19.117688: I tensorflow/core/common_runtime/executor.cc:1197] [/device:CPU:0] (DEBUG INFO) Executor start aborting (this does not indicate an error and you can ignore this message): INVALID_ARGUMENT: You must feed a value for placeholder tensor 'Placeholder/_1' with dtype float and shape [500]\n",
      "\t [[{{node Placeholder/_1}}]]\n",
      "2023-05-13 18:26:19.121111: I tensorflow/core/common_runtime/executor.cc:1197] [/device:CPU:0] (DEBUG INFO) Executor start aborting (this does not indicate an error and you can ignore this message): INVALID_ARGUMENT: You must feed a value for placeholder tensor 'Placeholder/_1' with dtype float and shape [500]\n",
      "\t [[{{node Placeholder/_1}}]]\n",
      "2023-05-13 18:26:19.124103: I tensorflow/core/common_runtime/executor.cc:1197] [/device:CPU:0] (DEBUG INFO) Executor start aborting (this does not indicate an error and you can ignore this message): INVALID_ARGUMENT: You must feed a value for placeholder tensor 'Placeholder/_1' with dtype float and shape [500]\n",
      "\t [[{{node Placeholder/_1}}]]\n",
      "2023-05-13 18:26:19.127120: I tensorflow/core/common_runtime/executor.cc:1197] [/device:CPU:0] (DEBUG INFO) Executor start aborting (this does not indicate an error and you can ignore this message): INVALID_ARGUMENT: You must feed a value for placeholder tensor 'Placeholder/_1' with dtype float and shape [500]\n",
      "\t [[{{node Placeholder/_1}}]]\n",
      "2023-05-13 18:26:19.130157: I tensorflow/core/common_runtime/executor.cc:1197] [/device:CPU:0] (DEBUG INFO) Executor start aborting (this does not indicate an error and you can ignore this message): INVALID_ARGUMENT: You must feed a value for placeholder tensor 'Placeholder/_1' with dtype float and shape [500]\n",
      "\t [[{{node Placeholder/_1}}]]\n",
      "2023-05-13 18:26:19.133043: I tensorflow/core/common_runtime/executor.cc:1197] [/device:CPU:0] (DEBUG INFO) Executor start aborting (this does not indicate an error and you can ignore this message): INVALID_ARGUMENT: You must feed a value for placeholder tensor 'Placeholder/_1' with dtype float and shape [500]\n",
      "\t [[{{node Placeholder/_1}}]]\n",
      "2023-05-13 18:26:19.136250: I tensorflow/core/common_runtime/executor.cc:1197] [/device:CPU:0] (DEBUG INFO) Executor start aborting (this does not indicate an error and you can ignore this message): INVALID_ARGUMENT: You must feed a value for placeholder tensor 'Placeholder/_1' with dtype float and shape [500]\n",
      "\t [[{{node Placeholder/_1}}]]\n",
      "2023-05-13 18:26:19.139158: I tensorflow/core/common_runtime/executor.cc:1197] [/device:CPU:0] (DEBUG INFO) Executor start aborting (this does not indicate an error and you can ignore this message): INVALID_ARGUMENT: You must feed a value for placeholder tensor 'Placeholder/_1' with dtype float and shape [500]\n",
      "\t [[{{node Placeholder/_1}}]]\n",
      "2023-05-13 18:26:19.142465: I tensorflow/core/common_runtime/executor.cc:1197] [/device:CPU:0] (DEBUG INFO) Executor start aborting (this does not indicate an error and you can ignore this message): INVALID_ARGUMENT: You must feed a value for placeholder tensor 'Placeholder/_1' with dtype float and shape [500]\n",
      "\t [[{{node Placeholder/_1}}]]\n",
      "2023-05-13 18:26:19.145356: I tensorflow/core/common_runtime/executor.cc:1197] [/device:CPU:0] (DEBUG INFO) Executor start aborting (this does not indicate an error and you can ignore this message): INVALID_ARGUMENT: You must feed a value for placeholder tensor 'Placeholder/_1' with dtype float and shape [500]\n",
      "\t [[{{node Placeholder/_1}}]]\n"
     ]
    },
    {
     "name": "stdout",
     "output_type": "stream",
     "text": [
      "Epoch 16 of 60\n",
      "\n",
      "Testing for epoch 16 index 1:\n",
      "65/65 [==============================] - 0s 536us/step\n"
     ]
    },
    {
     "name": "stderr",
     "output_type": "stream",
     "text": [
      "2023-05-13 18:26:19.380221: I tensorflow/core/common_runtime/executor.cc:1197] [/device:CPU:0] (DEBUG INFO) Executor start aborting (this does not indicate an error and you can ignore this message): INVALID_ARGUMENT: You must feed a value for placeholder tensor 'Placeholder/_1' with dtype int64 and shape [1000]\n",
      "\t [[{{node Placeholder/_1}}]]\n",
      "2023-05-13 18:26:19.460482: I tensorflow/core/common_runtime/executor.cc:1197] [/device:CPU:0] (DEBUG INFO) Executor start aborting (this does not indicate an error and you can ignore this message): INVALID_ARGUMENT: You must feed a value for placeholder tensor 'Placeholder/_1' with dtype float and shape [500]\n",
      "\t [[{{node Placeholder/_1}}]]\n",
      "2023-05-13 18:26:19.464380: I tensorflow/core/common_runtime/executor.cc:1197] [/device:CPU:0] (DEBUG INFO) Executor start aborting (this does not indicate an error and you can ignore this message): INVALID_ARGUMENT: You must feed a value for placeholder tensor 'Placeholder/_1' with dtype float and shape [500]\n",
      "\t [[{{node Placeholder/_1}}]]\n",
      "2023-05-13 18:26:19.467689: I tensorflow/core/common_runtime/executor.cc:1197] [/device:CPU:0] (DEBUG INFO) Executor start aborting (this does not indicate an error and you can ignore this message): INVALID_ARGUMENT: You must feed a value for placeholder tensor 'Placeholder/_1' with dtype float and shape [500]\n",
      "\t [[{{node Placeholder/_1}}]]\n",
      "2023-05-13 18:26:19.471057: I tensorflow/core/common_runtime/executor.cc:1197] [/device:CPU:0] (DEBUG INFO) Executor start aborting (this does not indicate an error and you can ignore this message): INVALID_ARGUMENT: You must feed a value for placeholder tensor 'Placeholder/_1' with dtype float and shape [500]\n",
      "\t [[{{node Placeholder/_1}}]]\n",
      "2023-05-13 18:26:19.474183: I tensorflow/core/common_runtime/executor.cc:1197] [/device:CPU:0] (DEBUG INFO) Executor start aborting (this does not indicate an error and you can ignore this message): INVALID_ARGUMENT: You must feed a value for placeholder tensor 'Placeholder/_1' with dtype float and shape [500]\n",
      "\t [[{{node Placeholder/_1}}]]\n",
      "2023-05-13 18:26:19.478028: I tensorflow/core/common_runtime/executor.cc:1197] [/device:CPU:0] (DEBUG INFO) Executor start aborting (this does not indicate an error and you can ignore this message): INVALID_ARGUMENT: You must feed a value for placeholder tensor 'Placeholder/_1' with dtype float and shape [500]\n",
      "\t [[{{node Placeholder/_1}}]]\n",
      "2023-05-13 18:26:19.481169: I tensorflow/core/common_runtime/executor.cc:1197] [/device:CPU:0] (DEBUG INFO) Executor start aborting (this does not indicate an error and you can ignore this message): INVALID_ARGUMENT: You must feed a value for placeholder tensor 'Placeholder/_1' with dtype float and shape [500]\n",
      "\t [[{{node Placeholder/_1}}]]\n",
      "2023-05-13 18:26:19.484955: I tensorflow/core/common_runtime/executor.cc:1197] [/device:CPU:0] (DEBUG INFO) Executor start aborting (this does not indicate an error and you can ignore this message): INVALID_ARGUMENT: You must feed a value for placeholder tensor 'Placeholder/_1' with dtype float and shape [500]\n",
      "\t [[{{node Placeholder/_1}}]]\n",
      "2023-05-13 18:26:19.488033: I tensorflow/core/common_runtime/executor.cc:1197] [/device:CPU:0] (DEBUG INFO) Executor start aborting (this does not indicate an error and you can ignore this message): INVALID_ARGUMENT: You must feed a value for placeholder tensor 'Placeholder/_1' with dtype float and shape [500]\n",
      "\t [[{{node Placeholder/_1}}]]\n",
      "2023-05-13 18:26:19.491692: I tensorflow/core/common_runtime/executor.cc:1197] [/device:CPU:0] (DEBUG INFO) Executor start aborting (this does not indicate an error and you can ignore this message): INVALID_ARGUMENT: You must feed a value for placeholder tensor 'Placeholder/_1' with dtype float and shape [500]\n",
      "\t [[{{node Placeholder/_1}}]]\n"
     ]
    },
    {
     "name": "stdout",
     "output_type": "stream",
     "text": [
      "\n",
      "Testing for epoch 16 index 2:\n",
      "65/65 [==============================] - 0s 523us/step\n"
     ]
    },
    {
     "name": "stderr",
     "output_type": "stream",
     "text": [
      "2023-05-13 18:26:19.745849: I tensorflow/core/common_runtime/executor.cc:1197] [/device:CPU:0] (DEBUG INFO) Executor start aborting (this does not indicate an error and you can ignore this message): INVALID_ARGUMENT: You must feed a value for placeholder tensor 'Placeholder/_1' with dtype int64 and shape [1000]\n",
      "\t [[{{node Placeholder/_1}}]]\n",
      "2023-05-13 18:26:19.819906: I tensorflow/core/common_runtime/executor.cc:1197] [/device:CPU:0] (DEBUG INFO) Executor start aborting (this does not indicate an error and you can ignore this message): INVALID_ARGUMENT: You must feed a value for placeholder tensor 'Placeholder/_1' with dtype float and shape [500]\n",
      "\t [[{{node Placeholder/_1}}]]\n",
      "2023-05-13 18:26:19.824646: I tensorflow/core/common_runtime/executor.cc:1197] [/device:CPU:0] (DEBUG INFO) Executor start aborting (this does not indicate an error and you can ignore this message): INVALID_ARGUMENT: You must feed a value for placeholder tensor 'Placeholder/_1' with dtype float and shape [500]\n",
      "\t [[{{node Placeholder/_1}}]]\n",
      "2023-05-13 18:26:19.827847: I tensorflow/core/common_runtime/executor.cc:1197] [/device:CPU:0] (DEBUG INFO) Executor start aborting (this does not indicate an error and you can ignore this message): INVALID_ARGUMENT: You must feed a value for placeholder tensor 'Placeholder/_1' with dtype float and shape [500]\n",
      "\t [[{{node Placeholder/_1}}]]\n",
      "2023-05-13 18:26:19.831891: I tensorflow/core/common_runtime/executor.cc:1197] [/device:CPU:0] (DEBUG INFO) Executor start aborting (this does not indicate an error and you can ignore this message): INVALID_ARGUMENT: You must feed a value for placeholder tensor 'Placeholder/_1' with dtype float and shape [500]\n",
      "\t [[{{node Placeholder/_1}}]]\n",
      "2023-05-13 18:26:19.835177: I tensorflow/core/common_runtime/executor.cc:1197] [/device:CPU:0] (DEBUG INFO) Executor start aborting (this does not indicate an error and you can ignore this message): INVALID_ARGUMENT: You must feed a value for placeholder tensor 'Placeholder/_1' with dtype float and shape [500]\n",
      "\t [[{{node Placeholder/_1}}]]\n",
      "2023-05-13 18:26:19.839435: I tensorflow/core/common_runtime/executor.cc:1197] [/device:CPU:0] (DEBUG INFO) Executor start aborting (this does not indicate an error and you can ignore this message): INVALID_ARGUMENT: You must feed a value for placeholder tensor 'Placeholder/_1' with dtype float and shape [500]\n",
      "\t [[{{node Placeholder/_1}}]]\n",
      "2023-05-13 18:26:19.842882: I tensorflow/core/common_runtime/executor.cc:1197] [/device:CPU:0] (DEBUG INFO) Executor start aborting (this does not indicate an error and you can ignore this message): INVALID_ARGUMENT: You must feed a value for placeholder tensor 'Placeholder/_1' with dtype float and shape [500]\n",
      "\t [[{{node Placeholder/_1}}]]\n",
      "2023-05-13 18:26:19.846523: I tensorflow/core/common_runtime/executor.cc:1197] [/device:CPU:0] (DEBUG INFO) Executor start aborting (this does not indicate an error and you can ignore this message): INVALID_ARGUMENT: You must feed a value for placeholder tensor 'Placeholder/_1' with dtype float and shape [500]\n",
      "\t [[{{node Placeholder/_1}}]]\n",
      "2023-05-13 18:26:19.849602: I tensorflow/core/common_runtime/executor.cc:1197] [/device:CPU:0] (DEBUG INFO) Executor start aborting (this does not indicate an error and you can ignore this message): INVALID_ARGUMENT: You must feed a value for placeholder tensor 'Placeholder/_1' with dtype float and shape [500]\n",
      "\t [[{{node Placeholder/_1}}]]\n",
      "2023-05-13 18:26:19.853297: I tensorflow/core/common_runtime/executor.cc:1197] [/device:CPU:0] (DEBUG INFO) Executor start aborting (this does not indicate an error and you can ignore this message): INVALID_ARGUMENT: You must feed a value for placeholder tensor 'Placeholder/_1' with dtype float and shape [500]\n",
      "\t [[{{node Placeholder/_1}}]]\n"
     ]
    },
    {
     "name": "stdout",
     "output_type": "stream",
     "text": [
      "\n",
      "Testing for epoch 16 index 3:\n",
      "65/65 [==============================] - 0s 433us/step\n"
     ]
    },
    {
     "name": "stderr",
     "output_type": "stream",
     "text": [
      "2023-05-13 18:26:20.107555: I tensorflow/core/common_runtime/executor.cc:1197] [/device:CPU:0] (DEBUG INFO) Executor start aborting (this does not indicate an error and you can ignore this message): INVALID_ARGUMENT: You must feed a value for placeholder tensor 'Placeholder/_1' with dtype int64 and shape [1000]\n",
      "\t [[{{node Placeholder/_1}}]]\n",
      "2023-05-13 18:26:20.175399: I tensorflow/core/common_runtime/executor.cc:1197] [/device:CPU:0] (DEBUG INFO) Executor start aborting (this does not indicate an error and you can ignore this message): INVALID_ARGUMENT: You must feed a value for placeholder tensor 'Placeholder/_1' with dtype float and shape [500]\n",
      "\t [[{{node Placeholder/_1}}]]\n",
      "2023-05-13 18:26:20.178806: I tensorflow/core/common_runtime/executor.cc:1197] [/device:CPU:0] (DEBUG INFO) Executor start aborting (this does not indicate an error and you can ignore this message): INVALID_ARGUMENT: You must feed a value for placeholder tensor 'Placeholder/_1' with dtype float and shape [500]\n",
      "\t [[{{node Placeholder/_1}}]]\n",
      "2023-05-13 18:26:20.181814: I tensorflow/core/common_runtime/executor.cc:1197] [/device:CPU:0] (DEBUG INFO) Executor start aborting (this does not indicate an error and you can ignore this message): INVALID_ARGUMENT: You must feed a value for placeholder tensor 'Placeholder/_1' with dtype float and shape [500]\n",
      "\t [[{{node Placeholder/_1}}]]\n",
      "2023-05-13 18:26:20.185211: I tensorflow/core/common_runtime/executor.cc:1197] [/device:CPU:0] (DEBUG INFO) Executor start aborting (this does not indicate an error and you can ignore this message): INVALID_ARGUMENT: You must feed a value for placeholder tensor 'Placeholder/_1' with dtype float and shape [500]\n",
      "\t [[{{node Placeholder/_1}}]]\n",
      "2023-05-13 18:26:20.188096: I tensorflow/core/common_runtime/executor.cc:1197] [/device:CPU:0] (DEBUG INFO) Executor start aborting (this does not indicate an error and you can ignore this message): INVALID_ARGUMENT: You must feed a value for placeholder tensor 'Placeholder/_1' with dtype float and shape [500]\n",
      "\t [[{{node Placeholder/_1}}]]\n",
      "2023-05-13 18:26:20.191600: I tensorflow/core/common_runtime/executor.cc:1197] [/device:CPU:0] (DEBUG INFO) Executor start aborting (this does not indicate an error and you can ignore this message): INVALID_ARGUMENT: You must feed a value for placeholder tensor 'Placeholder/_1' with dtype float and shape [500]\n",
      "\t [[{{node Placeholder/_1}}]]\n",
      "2023-05-13 18:26:20.194490: I tensorflow/core/common_runtime/executor.cc:1197] [/device:CPU:0] (DEBUG INFO) Executor start aborting (this does not indicate an error and you can ignore this message): INVALID_ARGUMENT: You must feed a value for placeholder tensor 'Placeholder/_1' with dtype float and shape [500]\n",
      "\t [[{{node Placeholder/_1}}]]\n",
      "2023-05-13 18:26:20.197393: I tensorflow/core/common_runtime/executor.cc:1197] [/device:CPU:0] (DEBUG INFO) Executor start aborting (this does not indicate an error and you can ignore this message): INVALID_ARGUMENT: You must feed a value for placeholder tensor 'Placeholder/_1' with dtype float and shape [500]\n",
      "\t [[{{node Placeholder/_1}}]]\n",
      "2023-05-13 18:26:20.200237: I tensorflow/core/common_runtime/executor.cc:1197] [/device:CPU:0] (DEBUG INFO) Executor start aborting (this does not indicate an error and you can ignore this message): INVALID_ARGUMENT: You must feed a value for placeholder tensor 'Placeholder/_1' with dtype float and shape [500]\n",
      "\t [[{{node Placeholder/_1}}]]\n",
      "2023-05-13 18:26:20.203202: I tensorflow/core/common_runtime/executor.cc:1197] [/device:CPU:0] (DEBUG INFO) Executor start aborting (this does not indicate an error and you can ignore this message): INVALID_ARGUMENT: You must feed a value for placeholder tensor 'Placeholder/_1' with dtype float and shape [500]\n",
      "\t [[{{node Placeholder/_1}}]]\n"
     ]
    },
    {
     "name": "stdout",
     "output_type": "stream",
     "text": [
      "\n",
      "Testing for epoch 16 index 4:\n",
      "65/65 [==============================] - 0s 444us/step\n"
     ]
    },
    {
     "name": "stderr",
     "output_type": "stream",
     "text": [
      "2023-05-13 18:26:20.445380: I tensorflow/core/common_runtime/executor.cc:1197] [/device:CPU:0] (DEBUG INFO) Executor start aborting (this does not indicate an error and you can ignore this message): INVALID_ARGUMENT: You must feed a value for placeholder tensor 'Placeholder/_1' with dtype int64 and shape [1000]\n",
      "\t [[{{node Placeholder/_1}}]]\n",
      "2023-05-13 18:26:20.512494: I tensorflow/core/common_runtime/executor.cc:1197] [/device:CPU:0] (DEBUG INFO) Executor start aborting (this does not indicate an error and you can ignore this message): INVALID_ARGUMENT: You must feed a value for placeholder tensor 'Placeholder/_1' with dtype float and shape [500]\n",
      "\t [[{{node Placeholder/_1}}]]\n",
      "2023-05-13 18:26:20.515697: I tensorflow/core/common_runtime/executor.cc:1197] [/device:CPU:0] (DEBUG INFO) Executor start aborting (this does not indicate an error and you can ignore this message): INVALID_ARGUMENT: You must feed a value for placeholder tensor 'Placeholder/_1' with dtype float and shape [500]\n",
      "\t [[{{node Placeholder/_1}}]]\n",
      "2023-05-13 18:26:20.518939: I tensorflow/core/common_runtime/executor.cc:1197] [/device:CPU:0] (DEBUG INFO) Executor start aborting (this does not indicate an error and you can ignore this message): INVALID_ARGUMENT: You must feed a value for placeholder tensor 'Placeholder/_1' with dtype float and shape [500]\n",
      "\t [[{{node Placeholder/_1}}]]\n",
      "2023-05-13 18:26:20.521859: I tensorflow/core/common_runtime/executor.cc:1197] [/device:CPU:0] (DEBUG INFO) Executor start aborting (this does not indicate an error and you can ignore this message): INVALID_ARGUMENT: You must feed a value for placeholder tensor 'Placeholder/_1' with dtype float and shape [500]\n",
      "\t [[{{node Placeholder/_1}}]]\n",
      "2023-05-13 18:26:20.525068: I tensorflow/core/common_runtime/executor.cc:1197] [/device:CPU:0] (DEBUG INFO) Executor start aborting (this does not indicate an error and you can ignore this message): INVALID_ARGUMENT: You must feed a value for placeholder tensor 'Placeholder/_1' with dtype float and shape [500]\n",
      "\t [[{{node Placeholder/_1}}]]\n",
      "2023-05-13 18:26:20.528024: I tensorflow/core/common_runtime/executor.cc:1197] [/device:CPU:0] (DEBUG INFO) Executor start aborting (this does not indicate an error and you can ignore this message): INVALID_ARGUMENT: You must feed a value for placeholder tensor 'Placeholder/_1' with dtype float and shape [500]\n",
      "\t [[{{node Placeholder/_1}}]]\n",
      "2023-05-13 18:26:20.530891: I tensorflow/core/common_runtime/executor.cc:1197] [/device:CPU:0] (DEBUG INFO) Executor start aborting (this does not indicate an error and you can ignore this message): INVALID_ARGUMENT: You must feed a value for placeholder tensor 'Placeholder/_1' with dtype float and shape [500]\n",
      "\t [[{{node Placeholder/_1}}]]\n",
      "2023-05-13 18:26:20.533805: I tensorflow/core/common_runtime/executor.cc:1197] [/device:CPU:0] (DEBUG INFO) Executor start aborting (this does not indicate an error and you can ignore this message): INVALID_ARGUMENT: You must feed a value for placeholder tensor 'Placeholder/_1' with dtype float and shape [500]\n",
      "\t [[{{node Placeholder/_1}}]]\n",
      "2023-05-13 18:26:20.536635: I tensorflow/core/common_runtime/executor.cc:1197] [/device:CPU:0] (DEBUG INFO) Executor start aborting (this does not indicate an error and you can ignore this message): INVALID_ARGUMENT: You must feed a value for placeholder tensor 'Placeholder/_1' with dtype float and shape [500]\n",
      "\t [[{{node Placeholder/_1}}]]\n",
      "2023-05-13 18:26:20.539608: I tensorflow/core/common_runtime/executor.cc:1197] [/device:CPU:0] (DEBUG INFO) Executor start aborting (this does not indicate an error and you can ignore this message): INVALID_ARGUMENT: You must feed a value for placeholder tensor 'Placeholder/_1' with dtype float and shape [500]\n",
      "\t [[{{node Placeholder/_1}}]]\n"
     ]
    },
    {
     "name": "stdout",
     "output_type": "stream",
     "text": [
      "Epoch 17 of 60\n",
      "\n",
      "Testing for epoch 17 index 1:\n",
      "65/65 [==============================] - 0s 442us/step\n"
     ]
    },
    {
     "name": "stderr",
     "output_type": "stream",
     "text": [
      "2023-05-13 18:26:20.775224: I tensorflow/core/common_runtime/executor.cc:1197] [/device:CPU:0] (DEBUG INFO) Executor start aborting (this does not indicate an error and you can ignore this message): INVALID_ARGUMENT: You must feed a value for placeholder tensor 'Placeholder/_1' with dtype int64 and shape [1000]\n",
      "\t [[{{node Placeholder/_1}}]]\n",
      "2023-05-13 18:26:20.841652: I tensorflow/core/common_runtime/executor.cc:1197] [/device:CPU:0] (DEBUG INFO) Executor start aborting (this does not indicate an error and you can ignore this message): INVALID_ARGUMENT: You must feed a value for placeholder tensor 'Placeholder/_1' with dtype float and shape [500]\n",
      "\t [[{{node Placeholder/_1}}]]\n",
      "2023-05-13 18:26:20.845399: I tensorflow/core/common_runtime/executor.cc:1197] [/device:CPU:0] (DEBUG INFO) Executor start aborting (this does not indicate an error and you can ignore this message): INVALID_ARGUMENT: You must feed a value for placeholder tensor 'Placeholder/_1' with dtype float and shape [500]\n",
      "\t [[{{node Placeholder/_1}}]]\n",
      "2023-05-13 18:26:20.848377: I tensorflow/core/common_runtime/executor.cc:1197] [/device:CPU:0] (DEBUG INFO) Executor start aborting (this does not indicate an error and you can ignore this message): INVALID_ARGUMENT: You must feed a value for placeholder tensor 'Placeholder/_1' with dtype float and shape [500]\n",
      "\t [[{{node Placeholder/_1}}]]\n",
      "2023-05-13 18:26:20.851623: I tensorflow/core/common_runtime/executor.cc:1197] [/device:CPU:0] (DEBUG INFO) Executor start aborting (this does not indicate an error and you can ignore this message): INVALID_ARGUMENT: You must feed a value for placeholder tensor 'Placeholder/_1' with dtype float and shape [500]\n",
      "\t [[{{node Placeholder/_1}}]]\n",
      "2023-05-13 18:26:20.854410: I tensorflow/core/common_runtime/executor.cc:1197] [/device:CPU:0] (DEBUG INFO) Executor start aborting (this does not indicate an error and you can ignore this message): INVALID_ARGUMENT: You must feed a value for placeholder tensor 'Placeholder/_1' with dtype float and shape [500]\n",
      "\t [[{{node Placeholder/_1}}]]\n",
      "2023-05-13 18:26:20.857265: I tensorflow/core/common_runtime/executor.cc:1197] [/device:CPU:0] (DEBUG INFO) Executor start aborting (this does not indicate an error and you can ignore this message): INVALID_ARGUMENT: You must feed a value for placeholder tensor 'Placeholder/_1' with dtype float and shape [500]\n",
      "\t [[{{node Placeholder/_1}}]]\n",
      "2023-05-13 18:26:20.860237: I tensorflow/core/common_runtime/executor.cc:1197] [/device:CPU:0] (DEBUG INFO) Executor start aborting (this does not indicate an error and you can ignore this message): INVALID_ARGUMENT: You must feed a value for placeholder tensor 'Placeholder/_1' with dtype float and shape [500]\n",
      "\t [[{{node Placeholder/_1}}]]\n",
      "2023-05-13 18:26:20.863122: I tensorflow/core/common_runtime/executor.cc:1197] [/device:CPU:0] (DEBUG INFO) Executor start aborting (this does not indicate an error and you can ignore this message): INVALID_ARGUMENT: You must feed a value for placeholder tensor 'Placeholder/_1' with dtype float and shape [500]\n",
      "\t [[{{node Placeholder/_1}}]]\n",
      "2023-05-13 18:26:20.866094: I tensorflow/core/common_runtime/executor.cc:1197] [/device:CPU:0] (DEBUG INFO) Executor start aborting (this does not indicate an error and you can ignore this message): INVALID_ARGUMENT: You must feed a value for placeholder tensor 'Placeholder/_1' with dtype float and shape [500]\n",
      "\t [[{{node Placeholder/_1}}]]\n",
      "2023-05-13 18:26:20.869010: I tensorflow/core/common_runtime/executor.cc:1197] [/device:CPU:0] (DEBUG INFO) Executor start aborting (this does not indicate an error and you can ignore this message): INVALID_ARGUMENT: You must feed a value for placeholder tensor 'Placeholder/_1' with dtype float and shape [500]\n",
      "\t [[{{node Placeholder/_1}}]]\n"
     ]
    },
    {
     "name": "stdout",
     "output_type": "stream",
     "text": [
      "\n",
      "Testing for epoch 17 index 2:\n",
      "65/65 [==============================] - 0s 552us/step\n"
     ]
    },
    {
     "name": "stderr",
     "output_type": "stream",
     "text": [
      "2023-05-13 18:26:21.134920: I tensorflow/core/common_runtime/executor.cc:1197] [/device:CPU:0] (DEBUG INFO) Executor start aborting (this does not indicate an error and you can ignore this message): INVALID_ARGUMENT: You must feed a value for placeholder tensor 'Placeholder/_1' with dtype int64 and shape [1000]\n",
      "\t [[{{node Placeholder/_1}}]]\n",
      "2023-05-13 18:26:21.213098: I tensorflow/core/common_runtime/executor.cc:1197] [/device:CPU:0] (DEBUG INFO) Executor start aborting (this does not indicate an error and you can ignore this message): INVALID_ARGUMENT: You must feed a value for placeholder tensor 'Placeholder/_1' with dtype float and shape [500]\n",
      "\t [[{{node Placeholder/_1}}]]\n",
      "2023-05-13 18:26:21.216909: I tensorflow/core/common_runtime/executor.cc:1197] [/device:CPU:0] (DEBUG INFO) Executor start aborting (this does not indicate an error and you can ignore this message): INVALID_ARGUMENT: You must feed a value for placeholder tensor 'Placeholder/_1' with dtype float and shape [500]\n",
      "\t [[{{node Placeholder/_1}}]]\n",
      "2023-05-13 18:26:21.221043: I tensorflow/core/common_runtime/executor.cc:1197] [/device:CPU:0] (DEBUG INFO) Executor start aborting (this does not indicate an error and you can ignore this message): INVALID_ARGUMENT: You must feed a value for placeholder tensor 'Placeholder/_1' with dtype float and shape [500]\n",
      "\t [[{{node Placeholder/_1}}]]\n",
      "2023-05-13 18:26:21.224305: I tensorflow/core/common_runtime/executor.cc:1197] [/device:CPU:0] (DEBUG INFO) Executor start aborting (this does not indicate an error and you can ignore this message): INVALID_ARGUMENT: You must feed a value for placeholder tensor 'Placeholder/_1' with dtype float and shape [500]\n",
      "\t [[{{node Placeholder/_1}}]]\n",
      "2023-05-13 18:26:21.228092: I tensorflow/core/common_runtime/executor.cc:1197] [/device:CPU:0] (DEBUG INFO) Executor start aborting (this does not indicate an error and you can ignore this message): INVALID_ARGUMENT: You must feed a value for placeholder tensor 'Placeholder/_1' with dtype float and shape [500]\n",
      "\t [[{{node Placeholder/_1}}]]\n",
      "2023-05-13 18:26:21.231192: I tensorflow/core/common_runtime/executor.cc:1197] [/device:CPU:0] (DEBUG INFO) Executor start aborting (this does not indicate an error and you can ignore this message): INVALID_ARGUMENT: You must feed a value for placeholder tensor 'Placeholder/_1' with dtype float and shape [500]\n",
      "\t [[{{node Placeholder/_1}}]]\n",
      "2023-05-13 18:26:21.234758: I tensorflow/core/common_runtime/executor.cc:1197] [/device:CPU:0] (DEBUG INFO) Executor start aborting (this does not indicate an error and you can ignore this message): INVALID_ARGUMENT: You must feed a value for placeholder tensor 'Placeholder/_1' with dtype float and shape [500]\n",
      "\t [[{{node Placeholder/_1}}]]\n",
      "2023-05-13 18:26:21.237854: I tensorflow/core/common_runtime/executor.cc:1197] [/device:CPU:0] (DEBUG INFO) Executor start aborting (this does not indicate an error and you can ignore this message): INVALID_ARGUMENT: You must feed a value for placeholder tensor 'Placeholder/_1' with dtype float and shape [500]\n",
      "\t [[{{node Placeholder/_1}}]]\n",
      "2023-05-13 18:26:21.242084: I tensorflow/core/common_runtime/executor.cc:1197] [/device:CPU:0] (DEBUG INFO) Executor start aborting (this does not indicate an error and you can ignore this message): INVALID_ARGUMENT: You must feed a value for placeholder tensor 'Placeholder/_1' with dtype float and shape [500]\n",
      "\t [[{{node Placeholder/_1}}]]\n",
      "2023-05-13 18:26:21.245136: I tensorflow/core/common_runtime/executor.cc:1197] [/device:CPU:0] (DEBUG INFO) Executor start aborting (this does not indicate an error and you can ignore this message): INVALID_ARGUMENT: You must feed a value for placeholder tensor 'Placeholder/_1' with dtype float and shape [500]\n",
      "\t [[{{node Placeholder/_1}}]]\n"
     ]
    },
    {
     "name": "stdout",
     "output_type": "stream",
     "text": [
      "\n",
      "Testing for epoch 17 index 3:\n",
      "65/65 [==============================] - 0s 436us/step\n"
     ]
    },
    {
     "name": "stderr",
     "output_type": "stream",
     "text": [
      "2023-05-13 18:26:21.496962: I tensorflow/core/common_runtime/executor.cc:1197] [/device:CPU:0] (DEBUG INFO) Executor start aborting (this does not indicate an error and you can ignore this message): INVALID_ARGUMENT: You must feed a value for placeholder tensor 'Placeholder/_1' with dtype int64 and shape [1000]\n",
      "\t [[{{node Placeholder/_1}}]]\n",
      "2023-05-13 18:26:21.569050: I tensorflow/core/common_runtime/executor.cc:1197] [/device:CPU:0] (DEBUG INFO) Executor start aborting (this does not indicate an error and you can ignore this message): INVALID_ARGUMENT: You must feed a value for placeholder tensor 'Placeholder/_1' with dtype float and shape [500]\n",
      "\t [[{{node Placeholder/_1}}]]\n",
      "2023-05-13 18:26:21.572571: I tensorflow/core/common_runtime/executor.cc:1197] [/device:CPU:0] (DEBUG INFO) Executor start aborting (this does not indicate an error and you can ignore this message): INVALID_ARGUMENT: You must feed a value for placeholder tensor 'Placeholder/_1' with dtype float and shape [500]\n",
      "\t [[{{node Placeholder/_1}}]]\n",
      "2023-05-13 18:26:21.575841: I tensorflow/core/common_runtime/executor.cc:1197] [/device:CPU:0] (DEBUG INFO) Executor start aborting (this does not indicate an error and you can ignore this message): INVALID_ARGUMENT: You must feed a value for placeholder tensor 'Placeholder/_1' with dtype float and shape [500]\n",
      "\t [[{{node Placeholder/_1}}]]\n",
      "2023-05-13 18:26:21.578943: I tensorflow/core/common_runtime/executor.cc:1197] [/device:CPU:0] (DEBUG INFO) Executor start aborting (this does not indicate an error and you can ignore this message): INVALID_ARGUMENT: You must feed a value for placeholder tensor 'Placeholder/_1' with dtype float and shape [500]\n",
      "\t [[{{node Placeholder/_1}}]]\n",
      "2023-05-13 18:26:21.581892: I tensorflow/core/common_runtime/executor.cc:1197] [/device:CPU:0] (DEBUG INFO) Executor start aborting (this does not indicate an error and you can ignore this message): INVALID_ARGUMENT: You must feed a value for placeholder tensor 'Placeholder/_1' with dtype float and shape [500]\n",
      "\t [[{{node Placeholder/_1}}]]\n",
      "2023-05-13 18:26:21.584870: I tensorflow/core/common_runtime/executor.cc:1197] [/device:CPU:0] (DEBUG INFO) Executor start aborting (this does not indicate an error and you can ignore this message): INVALID_ARGUMENT: You must feed a value for placeholder tensor 'Placeholder/_1' with dtype float and shape [500]\n",
      "\t [[{{node Placeholder/_1}}]]\n",
      "2023-05-13 18:26:21.588111: I tensorflow/core/common_runtime/executor.cc:1197] [/device:CPU:0] (DEBUG INFO) Executor start aborting (this does not indicate an error and you can ignore this message): INVALID_ARGUMENT: You must feed a value for placeholder tensor 'Placeholder/_1' with dtype float and shape [500]\n",
      "\t [[{{node Placeholder/_1}}]]\n",
      "2023-05-13 18:26:21.591054: I tensorflow/core/common_runtime/executor.cc:1197] [/device:CPU:0] (DEBUG INFO) Executor start aborting (this does not indicate an error and you can ignore this message): INVALID_ARGUMENT: You must feed a value for placeholder tensor 'Placeholder/_1' with dtype float and shape [500]\n",
      "\t [[{{node Placeholder/_1}}]]\n",
      "2023-05-13 18:26:21.594556: I tensorflow/core/common_runtime/executor.cc:1197] [/device:CPU:0] (DEBUG INFO) Executor start aborting (this does not indicate an error and you can ignore this message): INVALID_ARGUMENT: You must feed a value for placeholder tensor 'Placeholder/_1' with dtype float and shape [500]\n",
      "\t [[{{node Placeholder/_1}}]]\n",
      "2023-05-13 18:26:21.597476: I tensorflow/core/common_runtime/executor.cc:1197] [/device:CPU:0] (DEBUG INFO) Executor start aborting (this does not indicate an error and you can ignore this message): INVALID_ARGUMENT: You must feed a value for placeholder tensor 'Placeholder/_1' with dtype float and shape [500]\n",
      "\t [[{{node Placeholder/_1}}]]\n"
     ]
    },
    {
     "name": "stdout",
     "output_type": "stream",
     "text": [
      "\n",
      "Testing for epoch 17 index 4:\n",
      "65/65 [==============================] - 0s 445us/step\n"
     ]
    },
    {
     "name": "stderr",
     "output_type": "stream",
     "text": [
      "2023-05-13 18:26:21.834850: I tensorflow/core/common_runtime/executor.cc:1197] [/device:CPU:0] (DEBUG INFO) Executor start aborting (this does not indicate an error and you can ignore this message): INVALID_ARGUMENT: You must feed a value for placeholder tensor 'Placeholder/_1' with dtype int64 and shape [1000]\n",
      "\t [[{{node Placeholder/_1}}]]\n",
      "2023-05-13 18:26:21.902208: I tensorflow/core/common_runtime/executor.cc:1197] [/device:CPU:0] (DEBUG INFO) Executor start aborting (this does not indicate an error and you can ignore this message): INVALID_ARGUMENT: You must feed a value for placeholder tensor 'Placeholder/_1' with dtype float and shape [500]\n",
      "\t [[{{node Placeholder/_1}}]]\n",
      "2023-05-13 18:26:21.905607: I tensorflow/core/common_runtime/executor.cc:1197] [/device:CPU:0] (DEBUG INFO) Executor start aborting (this does not indicate an error and you can ignore this message): INVALID_ARGUMENT: You must feed a value for placeholder tensor 'Placeholder/_1' with dtype float and shape [500]\n",
      "\t [[{{node Placeholder/_1}}]]\n",
      "2023-05-13 18:26:21.908629: I tensorflow/core/common_runtime/executor.cc:1197] [/device:CPU:0] (DEBUG INFO) Executor start aborting (this does not indicate an error and you can ignore this message): INVALID_ARGUMENT: You must feed a value for placeholder tensor 'Placeholder/_1' with dtype float and shape [500]\n",
      "\t [[{{node Placeholder/_1}}]]\n",
      "2023-05-13 18:26:21.911579: I tensorflow/core/common_runtime/executor.cc:1197] [/device:CPU:0] (DEBUG INFO) Executor start aborting (this does not indicate an error and you can ignore this message): INVALID_ARGUMENT: You must feed a value for placeholder tensor 'Placeholder/_1' with dtype float and shape [500]\n",
      "\t [[{{node Placeholder/_1}}]]\n",
      "2023-05-13 18:26:21.914903: I tensorflow/core/common_runtime/executor.cc:1197] [/device:CPU:0] (DEBUG INFO) Executor start aborting (this does not indicate an error and you can ignore this message): INVALID_ARGUMENT: You must feed a value for placeholder tensor 'Placeholder/_1' with dtype float and shape [500]\n",
      "\t [[{{node Placeholder/_1}}]]\n",
      "2023-05-13 18:26:21.917843: I tensorflow/core/common_runtime/executor.cc:1197] [/device:CPU:0] (DEBUG INFO) Executor start aborting (this does not indicate an error and you can ignore this message): INVALID_ARGUMENT: You must feed a value for placeholder tensor 'Placeholder/_1' with dtype float and shape [500]\n",
      "\t [[{{node Placeholder/_1}}]]\n",
      "2023-05-13 18:26:21.920954: I tensorflow/core/common_runtime/executor.cc:1197] [/device:CPU:0] (DEBUG INFO) Executor start aborting (this does not indicate an error and you can ignore this message): INVALID_ARGUMENT: You must feed a value for placeholder tensor 'Placeholder/_1' with dtype float and shape [500]\n",
      "\t [[{{node Placeholder/_1}}]]\n",
      "2023-05-13 18:26:21.923831: I tensorflow/core/common_runtime/executor.cc:1197] [/device:CPU:0] (DEBUG INFO) Executor start aborting (this does not indicate an error and you can ignore this message): INVALID_ARGUMENT: You must feed a value for placeholder tensor 'Placeholder/_1' with dtype float and shape [500]\n",
      "\t [[{{node Placeholder/_1}}]]\n",
      "2023-05-13 18:26:21.926731: I tensorflow/core/common_runtime/executor.cc:1197] [/device:CPU:0] (DEBUG INFO) Executor start aborting (this does not indicate an error and you can ignore this message): INVALID_ARGUMENT: You must feed a value for placeholder tensor 'Placeholder/_1' with dtype float and shape [500]\n",
      "\t [[{{node Placeholder/_1}}]]\n",
      "2023-05-13 18:26:21.929700: I tensorflow/core/common_runtime/executor.cc:1197] [/device:CPU:0] (DEBUG INFO) Executor start aborting (this does not indicate an error and you can ignore this message): INVALID_ARGUMENT: You must feed a value for placeholder tensor 'Placeholder/_1' with dtype float and shape [500]\n",
      "\t [[{{node Placeholder/_1}}]]\n"
     ]
    },
    {
     "name": "stdout",
     "output_type": "stream",
     "text": [
      "Epoch 18 of 60\n",
      "\n",
      "Testing for epoch 18 index 1:\n",
      "65/65 [==============================] - 0s 429us/step\n"
     ]
    },
    {
     "name": "stderr",
     "output_type": "stream",
     "text": [
      "2023-05-13 18:26:22.172630: I tensorflow/core/common_runtime/executor.cc:1197] [/device:CPU:0] (DEBUG INFO) Executor start aborting (this does not indicate an error and you can ignore this message): INVALID_ARGUMENT: You must feed a value for placeholder tensor 'Placeholder/_1' with dtype int64 and shape [1000]\n",
      "\t [[{{node Placeholder/_1}}]]\n",
      "2023-05-13 18:26:22.238277: I tensorflow/core/common_runtime/executor.cc:1197] [/device:CPU:0] (DEBUG INFO) Executor start aborting (this does not indicate an error and you can ignore this message): INVALID_ARGUMENT: You must feed a value for placeholder tensor 'Placeholder/_1' with dtype float and shape [500]\n",
      "\t [[{{node Placeholder/_1}}]]\n",
      "2023-05-13 18:26:22.241933: I tensorflow/core/common_runtime/executor.cc:1197] [/device:CPU:0] (DEBUG INFO) Executor start aborting (this does not indicate an error and you can ignore this message): INVALID_ARGUMENT: You must feed a value for placeholder tensor 'Placeholder/_1' with dtype float and shape [500]\n",
      "\t [[{{node Placeholder/_1}}]]\n",
      "2023-05-13 18:26:22.244938: I tensorflow/core/common_runtime/executor.cc:1197] [/device:CPU:0] (DEBUG INFO) Executor start aborting (this does not indicate an error and you can ignore this message): INVALID_ARGUMENT: You must feed a value for placeholder tensor 'Placeholder/_1' with dtype float and shape [500]\n",
      "\t [[{{node Placeholder/_1}}]]\n",
      "2023-05-13 18:26:22.248064: I tensorflow/core/common_runtime/executor.cc:1197] [/device:CPU:0] (DEBUG INFO) Executor start aborting (this does not indicate an error and you can ignore this message): INVALID_ARGUMENT: You must feed a value for placeholder tensor 'Placeholder/_1' with dtype float and shape [500]\n",
      "\t [[{{node Placeholder/_1}}]]\n",
      "2023-05-13 18:26:22.250883: I tensorflow/core/common_runtime/executor.cc:1197] [/device:CPU:0] (DEBUG INFO) Executor start aborting (this does not indicate an error and you can ignore this message): INVALID_ARGUMENT: You must feed a value for placeholder tensor 'Placeholder/_1' with dtype float and shape [500]\n",
      "\t [[{{node Placeholder/_1}}]]\n",
      "2023-05-13 18:26:22.254326: I tensorflow/core/common_runtime/executor.cc:1197] [/device:CPU:0] (DEBUG INFO) Executor start aborting (this does not indicate an error and you can ignore this message): INVALID_ARGUMENT: You must feed a value for placeholder tensor 'Placeholder/_1' with dtype float and shape [500]\n",
      "\t [[{{node Placeholder/_1}}]]\n",
      "2023-05-13 18:26:22.257219: I tensorflow/core/common_runtime/executor.cc:1197] [/device:CPU:0] (DEBUG INFO) Executor start aborting (this does not indicate an error and you can ignore this message): INVALID_ARGUMENT: You must feed a value for placeholder tensor 'Placeholder/_1' with dtype float and shape [500]\n",
      "\t [[{{node Placeholder/_1}}]]\n",
      "2023-05-13 18:26:22.261543: I tensorflow/core/common_runtime/executor.cc:1197] [/device:CPU:0] (DEBUG INFO) Executor start aborting (this does not indicate an error and you can ignore this message): INVALID_ARGUMENT: You must feed a value for placeholder tensor 'Placeholder/_1' with dtype float and shape [500]\n",
      "\t [[{{node Placeholder/_1}}]]\n",
      "2023-05-13 18:26:22.264609: I tensorflow/core/common_runtime/executor.cc:1197] [/device:CPU:0] (DEBUG INFO) Executor start aborting (this does not indicate an error and you can ignore this message): INVALID_ARGUMENT: You must feed a value for placeholder tensor 'Placeholder/_1' with dtype float and shape [500]\n",
      "\t [[{{node Placeholder/_1}}]]\n",
      "2023-05-13 18:26:22.268056: I tensorflow/core/common_runtime/executor.cc:1197] [/device:CPU:0] (DEBUG INFO) Executor start aborting (this does not indicate an error and you can ignore this message): INVALID_ARGUMENT: You must feed a value for placeholder tensor 'Placeholder/_1' with dtype float and shape [500]\n",
      "\t [[{{node Placeholder/_1}}]]\n"
     ]
    },
    {
     "name": "stdout",
     "output_type": "stream",
     "text": [
      "\n",
      "Testing for epoch 18 index 2:\n",
      "65/65 [==============================] - 0s 443us/step\n"
     ]
    },
    {
     "name": "stderr",
     "output_type": "stream",
     "text": [
      "2023-05-13 18:26:22.499281: I tensorflow/core/common_runtime/executor.cc:1197] [/device:CPU:0] (DEBUG INFO) Executor start aborting (this does not indicate an error and you can ignore this message): INVALID_ARGUMENT: You must feed a value for placeholder tensor 'Placeholder/_1' with dtype int64 and shape [1000]\n",
      "\t [[{{node Placeholder/_1}}]]\n",
      "2023-05-13 18:26:22.565570: I tensorflow/core/common_runtime/executor.cc:1197] [/device:CPU:0] (DEBUG INFO) Executor start aborting (this does not indicate an error and you can ignore this message): INVALID_ARGUMENT: You must feed a value for placeholder tensor 'Placeholder/_1' with dtype float and shape [500]\n",
      "\t [[{{node Placeholder/_1}}]]\n",
      "2023-05-13 18:26:22.568979: I tensorflow/core/common_runtime/executor.cc:1197] [/device:CPU:0] (DEBUG INFO) Executor start aborting (this does not indicate an error and you can ignore this message): INVALID_ARGUMENT: You must feed a value for placeholder tensor 'Placeholder/_1' with dtype float and shape [500]\n",
      "\t [[{{node Placeholder/_1}}]]\n",
      "2023-05-13 18:26:22.571909: I tensorflow/core/common_runtime/executor.cc:1197] [/device:CPU:0] (DEBUG INFO) Executor start aborting (this does not indicate an error and you can ignore this message): INVALID_ARGUMENT: You must feed a value for placeholder tensor 'Placeholder/_1' with dtype float and shape [500]\n",
      "\t [[{{node Placeholder/_1}}]]\n",
      "2023-05-13 18:26:22.574861: I tensorflow/core/common_runtime/executor.cc:1197] [/device:CPU:0] (DEBUG INFO) Executor start aborting (this does not indicate an error and you can ignore this message): INVALID_ARGUMENT: You must feed a value for placeholder tensor 'Placeholder/_1' with dtype float and shape [500]\n",
      "\t [[{{node Placeholder/_1}}]]\n",
      "2023-05-13 18:26:22.577657: I tensorflow/core/common_runtime/executor.cc:1197] [/device:CPU:0] (DEBUG INFO) Executor start aborting (this does not indicate an error and you can ignore this message): INVALID_ARGUMENT: You must feed a value for placeholder tensor 'Placeholder/_1' with dtype float and shape [500]\n",
      "\t [[{{node Placeholder/_1}}]]\n",
      "2023-05-13 18:26:22.580664: I tensorflow/core/common_runtime/executor.cc:1197] [/device:CPU:0] (DEBUG INFO) Executor start aborting (this does not indicate an error and you can ignore this message): INVALID_ARGUMENT: You must feed a value for placeholder tensor 'Placeholder/_1' with dtype float and shape [500]\n",
      "\t [[{{node Placeholder/_1}}]]\n",
      "2023-05-13 18:26:22.583497: I tensorflow/core/common_runtime/executor.cc:1197] [/device:CPU:0] (DEBUG INFO) Executor start aborting (this does not indicate an error and you can ignore this message): INVALID_ARGUMENT: You must feed a value for placeholder tensor 'Placeholder/_1' with dtype float and shape [500]\n",
      "\t [[{{node Placeholder/_1}}]]\n",
      "2023-05-13 18:26:22.586414: I tensorflow/core/common_runtime/executor.cc:1197] [/device:CPU:0] (DEBUG INFO) Executor start aborting (this does not indicate an error and you can ignore this message): INVALID_ARGUMENT: You must feed a value for placeholder tensor 'Placeholder/_1' with dtype float and shape [500]\n",
      "\t [[{{node Placeholder/_1}}]]\n",
      "2023-05-13 18:26:22.589339: I tensorflow/core/common_runtime/executor.cc:1197] [/device:CPU:0] (DEBUG INFO) Executor start aborting (this does not indicate an error and you can ignore this message): INVALID_ARGUMENT: You must feed a value for placeholder tensor 'Placeholder/_1' with dtype float and shape [500]\n",
      "\t [[{{node Placeholder/_1}}]]\n",
      "2023-05-13 18:26:22.592231: I tensorflow/core/common_runtime/executor.cc:1197] [/device:CPU:0] (DEBUG INFO) Executor start aborting (this does not indicate an error and you can ignore this message): INVALID_ARGUMENT: You must feed a value for placeholder tensor 'Placeholder/_1' with dtype float and shape [500]\n",
      "\t [[{{node Placeholder/_1}}]]\n"
     ]
    },
    {
     "name": "stdout",
     "output_type": "stream",
     "text": [
      "\n",
      "Testing for epoch 18 index 3:\n",
      "65/65 [==============================] - 0s 492us/step\n"
     ]
    },
    {
     "name": "stderr",
     "output_type": "stream",
     "text": [
      "2023-05-13 18:26:22.895047: I tensorflow/core/common_runtime/executor.cc:1197] [/device:CPU:0] (DEBUG INFO) Executor start aborting (this does not indicate an error and you can ignore this message): INVALID_ARGUMENT: You must feed a value for placeholder tensor 'Placeholder/_1' with dtype int64 and shape [1000]\n",
      "\t [[{{node Placeholder/_1}}]]\n",
      "2023-05-13 18:26:22.966868: I tensorflow/core/common_runtime/executor.cc:1197] [/device:CPU:0] (DEBUG INFO) Executor start aborting (this does not indicate an error and you can ignore this message): INVALID_ARGUMENT: You must feed a value for placeholder tensor 'Placeholder/_1' with dtype float and shape [500]\n",
      "\t [[{{node Placeholder/_1}}]]\n",
      "2023-05-13 18:26:22.970299: I tensorflow/core/common_runtime/executor.cc:1197] [/device:CPU:0] (DEBUG INFO) Executor start aborting (this does not indicate an error and you can ignore this message): INVALID_ARGUMENT: You must feed a value for placeholder tensor 'Placeholder/_1' with dtype float and shape [500]\n",
      "\t [[{{node Placeholder/_1}}]]\n",
      "2023-05-13 18:26:22.973405: I tensorflow/core/common_runtime/executor.cc:1197] [/device:CPU:0] (DEBUG INFO) Executor start aborting (this does not indicate an error and you can ignore this message): INVALID_ARGUMENT: You must feed a value for placeholder tensor 'Placeholder/_1' with dtype float and shape [500]\n",
      "\t [[{{node Placeholder/_1}}]]\n",
      "2023-05-13 18:26:22.976521: I tensorflow/core/common_runtime/executor.cc:1197] [/device:CPU:0] (DEBUG INFO) Executor start aborting (this does not indicate an error and you can ignore this message): INVALID_ARGUMENT: You must feed a value for placeholder tensor 'Placeholder/_1' with dtype float and shape [500]\n",
      "\t [[{{node Placeholder/_1}}]]\n",
      "2023-05-13 18:26:22.979447: I tensorflow/core/common_runtime/executor.cc:1197] [/device:CPU:0] (DEBUG INFO) Executor start aborting (this does not indicate an error and you can ignore this message): INVALID_ARGUMENT: You must feed a value for placeholder tensor 'Placeholder/_1' with dtype float and shape [500]\n",
      "\t [[{{node Placeholder/_1}}]]\n",
      "2023-05-13 18:26:22.983585: I tensorflow/core/common_runtime/executor.cc:1197] [/device:CPU:0] (DEBUG INFO) Executor start aborting (this does not indicate an error and you can ignore this message): INVALID_ARGUMENT: You must feed a value for placeholder tensor 'Placeholder/_1' with dtype float and shape [500]\n",
      "\t [[{{node Placeholder/_1}}]]\n",
      "2023-05-13 18:26:22.986681: I tensorflow/core/common_runtime/executor.cc:1197] [/device:CPU:0] (DEBUG INFO) Executor start aborting (this does not indicate an error and you can ignore this message): INVALID_ARGUMENT: You must feed a value for placeholder tensor 'Placeholder/_1' with dtype float and shape [500]\n",
      "\t [[{{node Placeholder/_1}}]]\n",
      "2023-05-13 18:26:22.990632: I tensorflow/core/common_runtime/executor.cc:1197] [/device:CPU:0] (DEBUG INFO) Executor start aborting (this does not indicate an error and you can ignore this message): INVALID_ARGUMENT: You must feed a value for placeholder tensor 'Placeholder/_1' with dtype float and shape [500]\n",
      "\t [[{{node Placeholder/_1}}]]\n",
      "2023-05-13 18:26:22.993731: I tensorflow/core/common_runtime/executor.cc:1197] [/device:CPU:0] (DEBUG INFO) Executor start aborting (this does not indicate an error and you can ignore this message): INVALID_ARGUMENT: You must feed a value for placeholder tensor 'Placeholder/_1' with dtype float and shape [500]\n",
      "\t [[{{node Placeholder/_1}}]]\n",
      "2023-05-13 18:26:22.997934: I tensorflow/core/common_runtime/executor.cc:1197] [/device:CPU:0] (DEBUG INFO) Executor start aborting (this does not indicate an error and you can ignore this message): INVALID_ARGUMENT: You must feed a value for placeholder tensor 'Placeholder/_1' with dtype float and shape [500]\n",
      "\t [[{{node Placeholder/_1}}]]\n"
     ]
    },
    {
     "name": "stdout",
     "output_type": "stream",
     "text": [
      "\n",
      "Testing for epoch 18 index 4:\n",
      "65/65 [==============================] - 0s 462us/step\n"
     ]
    },
    {
     "name": "stderr",
     "output_type": "stream",
     "text": [
      "2023-05-13 18:26:23.240920: I tensorflow/core/common_runtime/executor.cc:1197] [/device:CPU:0] (DEBUG INFO) Executor start aborting (this does not indicate an error and you can ignore this message): INVALID_ARGUMENT: You must feed a value for placeholder tensor 'Placeholder/_1' with dtype int64 and shape [1000]\n",
      "\t [[{{node Placeholder/_1}}]]\n",
      "2023-05-13 18:26:23.310080: I tensorflow/core/common_runtime/executor.cc:1197] [/device:CPU:0] (DEBUG INFO) Executor start aborting (this does not indicate an error and you can ignore this message): INVALID_ARGUMENT: You must feed a value for placeholder tensor 'Placeholder/_1' with dtype float and shape [500]\n",
      "\t [[{{node Placeholder/_1}}]]\n",
      "2023-05-13 18:26:23.313346: I tensorflow/core/common_runtime/executor.cc:1197] [/device:CPU:0] (DEBUG INFO) Executor start aborting (this does not indicate an error and you can ignore this message): INVALID_ARGUMENT: You must feed a value for placeholder tensor 'Placeholder/_1' with dtype float and shape [500]\n",
      "\t [[{{node Placeholder/_1}}]]\n",
      "2023-05-13 18:26:23.316889: I tensorflow/core/common_runtime/executor.cc:1197] [/device:CPU:0] (DEBUG INFO) Executor start aborting (this does not indicate an error and you can ignore this message): INVALID_ARGUMENT: You must feed a value for placeholder tensor 'Placeholder/_1' with dtype float and shape [500]\n",
      "\t [[{{node Placeholder/_1}}]]\n",
      "2023-05-13 18:26:23.319790: I tensorflow/core/common_runtime/executor.cc:1197] [/device:CPU:0] (DEBUG INFO) Executor start aborting (this does not indicate an error and you can ignore this message): INVALID_ARGUMENT: You must feed a value for placeholder tensor 'Placeholder/_1' with dtype float and shape [500]\n",
      "\t [[{{node Placeholder/_1}}]]\n",
      "2023-05-13 18:26:23.322667: I tensorflow/core/common_runtime/executor.cc:1197] [/device:CPU:0] (DEBUG INFO) Executor start aborting (this does not indicate an error and you can ignore this message): INVALID_ARGUMENT: You must feed a value for placeholder tensor 'Placeholder/_1' with dtype float and shape [500]\n",
      "\t [[{{node Placeholder/_1}}]]\n",
      "2023-05-13 18:26:23.325704: I tensorflow/core/common_runtime/executor.cc:1197] [/device:CPU:0] (DEBUG INFO) Executor start aborting (this does not indicate an error and you can ignore this message): INVALID_ARGUMENT: You must feed a value for placeholder tensor 'Placeholder/_1' with dtype float and shape [500]\n",
      "\t [[{{node Placeholder/_1}}]]\n",
      "2023-05-13 18:26:23.328613: I tensorflow/core/common_runtime/executor.cc:1197] [/device:CPU:0] (DEBUG INFO) Executor start aborting (this does not indicate an error and you can ignore this message): INVALID_ARGUMENT: You must feed a value for placeholder tensor 'Placeholder/_1' with dtype float and shape [500]\n",
      "\t [[{{node Placeholder/_1}}]]\n",
      "2023-05-13 18:26:23.331563: I tensorflow/core/common_runtime/executor.cc:1197] [/device:CPU:0] (DEBUG INFO) Executor start aborting (this does not indicate an error and you can ignore this message): INVALID_ARGUMENT: You must feed a value for placeholder tensor 'Placeholder/_1' with dtype float and shape [500]\n",
      "\t [[{{node Placeholder/_1}}]]\n",
      "2023-05-13 18:26:23.334501: I tensorflow/core/common_runtime/executor.cc:1197] [/device:CPU:0] (DEBUG INFO) Executor start aborting (this does not indicate an error and you can ignore this message): INVALID_ARGUMENT: You must feed a value for placeholder tensor 'Placeholder/_1' with dtype float and shape [500]\n",
      "\t [[{{node Placeholder/_1}}]]\n",
      "2023-05-13 18:26:23.337645: I tensorflow/core/common_runtime/executor.cc:1197] [/device:CPU:0] (DEBUG INFO) Executor start aborting (this does not indicate an error and you can ignore this message): INVALID_ARGUMENT: You must feed a value for placeholder tensor 'Placeholder/_1' with dtype float and shape [500]\n",
      "\t [[{{node Placeholder/_1}}]]\n"
     ]
    },
    {
     "name": "stdout",
     "output_type": "stream",
     "text": [
      "Epoch 19 of 60\n",
      "\n",
      "Testing for epoch 19 index 1:\n",
      "65/65 [==============================] - 0s 452us/step\n"
     ]
    },
    {
     "name": "stderr",
     "output_type": "stream",
     "text": [
      "2023-05-13 18:26:23.600475: I tensorflow/core/common_runtime/executor.cc:1197] [/device:CPU:0] (DEBUG INFO) Executor start aborting (this does not indicate an error and you can ignore this message): INVALID_ARGUMENT: You must feed a value for placeholder tensor 'Placeholder/_1' with dtype int64 and shape [1000]\n",
      "\t [[{{node Placeholder/_1}}]]\n",
      "2023-05-13 18:26:23.669569: I tensorflow/core/common_runtime/executor.cc:1197] [/device:CPU:0] (DEBUG INFO) Executor start aborting (this does not indicate an error and you can ignore this message): INVALID_ARGUMENT: You must feed a value for placeholder tensor 'Placeholder/_1' with dtype float and shape [500]\n",
      "\t [[{{node Placeholder/_1}}]]\n",
      "2023-05-13 18:26:23.673482: I tensorflow/core/common_runtime/executor.cc:1197] [/device:CPU:0] (DEBUG INFO) Executor start aborting (this does not indicate an error and you can ignore this message): INVALID_ARGUMENT: You must feed a value for placeholder tensor 'Placeholder/_1' with dtype float and shape [500]\n",
      "\t [[{{node Placeholder/_1}}]]\n",
      "2023-05-13 18:26:23.677555: I tensorflow/core/common_runtime/executor.cc:1197] [/device:CPU:0] (DEBUG INFO) Executor start aborting (this does not indicate an error and you can ignore this message): INVALID_ARGUMENT: You must feed a value for placeholder tensor 'Placeholder/_1' with dtype float and shape [500]\n",
      "\t [[{{node Placeholder/_1}}]]\n",
      "2023-05-13 18:26:23.681275: I tensorflow/core/common_runtime/executor.cc:1197] [/device:CPU:0] (DEBUG INFO) Executor start aborting (this does not indicate an error and you can ignore this message): INVALID_ARGUMENT: You must feed a value for placeholder tensor 'Placeholder/_1' with dtype float and shape [500]\n",
      "\t [[{{node Placeholder/_1}}]]\n",
      "2023-05-13 18:26:23.686108: I tensorflow/core/common_runtime/executor.cc:1197] [/device:CPU:0] (DEBUG INFO) Executor start aborting (this does not indicate an error and you can ignore this message): INVALID_ARGUMENT: You must feed a value for placeholder tensor 'Placeholder/_1' with dtype float and shape [500]\n",
      "\t [[{{node Placeholder/_1}}]]\n",
      "2023-05-13 18:26:23.689456: I tensorflow/core/common_runtime/executor.cc:1197] [/device:CPU:0] (DEBUG INFO) Executor start aborting (this does not indicate an error and you can ignore this message): INVALID_ARGUMENT: You must feed a value for placeholder tensor 'Placeholder/_1' with dtype float and shape [500]\n",
      "\t [[{{node Placeholder/_1}}]]\n",
      "2023-05-13 18:26:23.693428: I tensorflow/core/common_runtime/executor.cc:1197] [/device:CPU:0] (DEBUG INFO) Executor start aborting (this does not indicate an error and you can ignore this message): INVALID_ARGUMENT: You must feed a value for placeholder tensor 'Placeholder/_1' with dtype float and shape [500]\n",
      "\t [[{{node Placeholder/_1}}]]\n",
      "2023-05-13 18:26:23.696791: I tensorflow/core/common_runtime/executor.cc:1197] [/device:CPU:0] (DEBUG INFO) Executor start aborting (this does not indicate an error and you can ignore this message): INVALID_ARGUMENT: You must feed a value for placeholder tensor 'Placeholder/_1' with dtype float and shape [500]\n",
      "\t [[{{node Placeholder/_1}}]]\n",
      "2023-05-13 18:26:23.700446: I tensorflow/core/common_runtime/executor.cc:1197] [/device:CPU:0] (DEBUG INFO) Executor start aborting (this does not indicate an error and you can ignore this message): INVALID_ARGUMENT: You must feed a value for placeholder tensor 'Placeholder/_1' with dtype float and shape [500]\n",
      "\t [[{{node Placeholder/_1}}]]\n",
      "2023-05-13 18:26:23.703582: I tensorflow/core/common_runtime/executor.cc:1197] [/device:CPU:0] (DEBUG INFO) Executor start aborting (this does not indicate an error and you can ignore this message): INVALID_ARGUMENT: You must feed a value for placeholder tensor 'Placeholder/_1' with dtype float and shape [500]\n",
      "\t [[{{node Placeholder/_1}}]]\n"
     ]
    },
    {
     "name": "stdout",
     "output_type": "stream",
     "text": [
      "\n",
      "Testing for epoch 19 index 2:\n",
      "65/65 [==============================] - 0s 470us/step\n"
     ]
    },
    {
     "name": "stderr",
     "output_type": "stream",
     "text": [
      "2023-05-13 18:26:23.950668: I tensorflow/core/common_runtime/executor.cc:1197] [/device:CPU:0] (DEBUG INFO) Executor start aborting (this does not indicate an error and you can ignore this message): INVALID_ARGUMENT: You must feed a value for placeholder tensor 'Placeholder/_1' with dtype int64 and shape [1000]\n",
      "\t [[{{node Placeholder/_1}}]]\n",
      "2023-05-13 18:26:24.023495: I tensorflow/core/common_runtime/executor.cc:1197] [/device:CPU:0] (DEBUG INFO) Executor start aborting (this does not indicate an error and you can ignore this message): INVALID_ARGUMENT: You must feed a value for placeholder tensor 'Placeholder/_1' with dtype float and shape [500]\n",
      "\t [[{{node Placeholder/_1}}]]\n",
      "2023-05-13 18:26:24.027988: I tensorflow/core/common_runtime/executor.cc:1197] [/device:CPU:0] (DEBUG INFO) Executor start aborting (this does not indicate an error and you can ignore this message): INVALID_ARGUMENT: You must feed a value for placeholder tensor 'Placeholder/_1' with dtype float and shape [500]\n",
      "\t [[{{node Placeholder/_1}}]]\n",
      "2023-05-13 18:26:24.032493: I tensorflow/core/common_runtime/executor.cc:1197] [/device:CPU:0] (DEBUG INFO) Executor start aborting (this does not indicate an error and you can ignore this message): INVALID_ARGUMENT: You must feed a value for placeholder tensor 'Placeholder/_1' with dtype float and shape [500]\n",
      "\t [[{{node Placeholder/_1}}]]\n",
      "2023-05-13 18:26:24.035875: I tensorflow/core/common_runtime/executor.cc:1197] [/device:CPU:0] (DEBUG INFO) Executor start aborting (this does not indicate an error and you can ignore this message): INVALID_ARGUMENT: You must feed a value for placeholder tensor 'Placeholder/_1' with dtype float and shape [500]\n",
      "\t [[{{node Placeholder/_1}}]]\n",
      "2023-05-13 18:26:24.039861: I tensorflow/core/common_runtime/executor.cc:1197] [/device:CPU:0] (DEBUG INFO) Executor start aborting (this does not indicate an error and you can ignore this message): INVALID_ARGUMENT: You must feed a value for placeholder tensor 'Placeholder/_1' with dtype float and shape [500]\n",
      "\t [[{{node Placeholder/_1}}]]\n",
      "2023-05-13 18:26:24.043327: I tensorflow/core/common_runtime/executor.cc:1197] [/device:CPU:0] (DEBUG INFO) Executor start aborting (this does not indicate an error and you can ignore this message): INVALID_ARGUMENT: You must feed a value for placeholder tensor 'Placeholder/_1' with dtype float and shape [500]\n",
      "\t [[{{node Placeholder/_1}}]]\n",
      "2023-05-13 18:26:24.048011: I tensorflow/core/common_runtime/executor.cc:1197] [/device:CPU:0] (DEBUG INFO) Executor start aborting (this does not indicate an error and you can ignore this message): INVALID_ARGUMENT: You must feed a value for placeholder tensor 'Placeholder/_1' with dtype float and shape [500]\n",
      "\t [[{{node Placeholder/_1}}]]\n",
      "2023-05-13 18:26:24.051911: I tensorflow/core/common_runtime/executor.cc:1197] [/device:CPU:0] (DEBUG INFO) Executor start aborting (this does not indicate an error and you can ignore this message): INVALID_ARGUMENT: You must feed a value for placeholder tensor 'Placeholder/_1' with dtype float and shape [500]\n",
      "\t [[{{node Placeholder/_1}}]]\n",
      "2023-05-13 18:26:24.056263: I tensorflow/core/common_runtime/executor.cc:1197] [/device:CPU:0] (DEBUG INFO) Executor start aborting (this does not indicate an error and you can ignore this message): INVALID_ARGUMENT: You must feed a value for placeholder tensor 'Placeholder/_1' with dtype float and shape [500]\n",
      "\t [[{{node Placeholder/_1}}]]\n",
      "2023-05-13 18:26:24.060701: I tensorflow/core/common_runtime/executor.cc:1197] [/device:CPU:0] (DEBUG INFO) Executor start aborting (this does not indicate an error and you can ignore this message): INVALID_ARGUMENT: You must feed a value for placeholder tensor 'Placeholder/_1' with dtype float and shape [500]\n",
      "\t [[{{node Placeholder/_1}}]]\n"
     ]
    },
    {
     "name": "stdout",
     "output_type": "stream",
     "text": [
      "\n",
      "Testing for epoch 19 index 3:\n",
      "65/65 [==============================] - 0s 446us/step\n"
     ]
    },
    {
     "name": "stderr",
     "output_type": "stream",
     "text": [
      "2023-05-13 18:26:24.318364: I tensorflow/core/common_runtime/executor.cc:1197] [/device:CPU:0] (DEBUG INFO) Executor start aborting (this does not indicate an error and you can ignore this message): INVALID_ARGUMENT: You must feed a value for placeholder tensor 'Placeholder/_1' with dtype int64 and shape [1000]\n",
      "\t [[{{node Placeholder/_1}}]]\n",
      "2023-05-13 18:26:24.386313: I tensorflow/core/common_runtime/executor.cc:1197] [/device:CPU:0] (DEBUG INFO) Executor start aborting (this does not indicate an error and you can ignore this message): INVALID_ARGUMENT: You must feed a value for placeholder tensor 'Placeholder/_1' with dtype float and shape [500]\n",
      "\t [[{{node Placeholder/_1}}]]\n",
      "2023-05-13 18:26:24.389712: I tensorflow/core/common_runtime/executor.cc:1197] [/device:CPU:0] (DEBUG INFO) Executor start aborting (this does not indicate an error and you can ignore this message): INVALID_ARGUMENT: You must feed a value for placeholder tensor 'Placeholder/_1' with dtype float and shape [500]\n",
      "\t [[{{node Placeholder/_1}}]]\n",
      "2023-05-13 18:26:24.393212: I tensorflow/core/common_runtime/executor.cc:1197] [/device:CPU:0] (DEBUG INFO) Executor start aborting (this does not indicate an error and you can ignore this message): INVALID_ARGUMENT: You must feed a value for placeholder tensor 'Placeholder/_1' with dtype float and shape [500]\n",
      "\t [[{{node Placeholder/_1}}]]\n",
      "2023-05-13 18:26:24.396096: I tensorflow/core/common_runtime/executor.cc:1197] [/device:CPU:0] (DEBUG INFO) Executor start aborting (this does not indicate an error and you can ignore this message): INVALID_ARGUMENT: You must feed a value for placeholder tensor 'Placeholder/_1' with dtype float and shape [500]\n",
      "\t [[{{node Placeholder/_1}}]]\n",
      "2023-05-13 18:26:24.399144: I tensorflow/core/common_runtime/executor.cc:1197] [/device:CPU:0] (DEBUG INFO) Executor start aborting (this does not indicate an error and you can ignore this message): INVALID_ARGUMENT: You must feed a value for placeholder tensor 'Placeholder/_1' with dtype float and shape [500]\n",
      "\t [[{{node Placeholder/_1}}]]\n",
      "2023-05-13 18:26:24.402089: I tensorflow/core/common_runtime/executor.cc:1197] [/device:CPU:0] (DEBUG INFO) Executor start aborting (this does not indicate an error and you can ignore this message): INVALID_ARGUMENT: You must feed a value for placeholder tensor 'Placeholder/_1' with dtype float and shape [500]\n",
      "\t [[{{node Placeholder/_1}}]]\n",
      "2023-05-13 18:26:24.405049: I tensorflow/core/common_runtime/executor.cc:1197] [/device:CPU:0] (DEBUG INFO) Executor start aborting (this does not indicate an error and you can ignore this message): INVALID_ARGUMENT: You must feed a value for placeholder tensor 'Placeholder/_1' with dtype float and shape [500]\n",
      "\t [[{{node Placeholder/_1}}]]\n",
      "2023-05-13 18:26:24.408098: I tensorflow/core/common_runtime/executor.cc:1197] [/device:CPU:0] (DEBUG INFO) Executor start aborting (this does not indicate an error and you can ignore this message): INVALID_ARGUMENT: You must feed a value for placeholder tensor 'Placeholder/_1' with dtype float and shape [500]\n",
      "\t [[{{node Placeholder/_1}}]]\n",
      "2023-05-13 18:26:24.410978: I tensorflow/core/common_runtime/executor.cc:1197] [/device:CPU:0] (DEBUG INFO) Executor start aborting (this does not indicate an error and you can ignore this message): INVALID_ARGUMENT: You must feed a value for placeholder tensor 'Placeholder/_1' with dtype float and shape [500]\n",
      "\t [[{{node Placeholder/_1}}]]\n",
      "2023-05-13 18:26:24.414523: I tensorflow/core/common_runtime/executor.cc:1197] [/device:CPU:0] (DEBUG INFO) Executor start aborting (this does not indicate an error and you can ignore this message): INVALID_ARGUMENT: You must feed a value for placeholder tensor 'Placeholder/_1' with dtype float and shape [500]\n",
      "\t [[{{node Placeholder/_1}}]]\n"
     ]
    },
    {
     "name": "stdout",
     "output_type": "stream",
     "text": [
      "\n",
      "Testing for epoch 19 index 4:\n",
      "65/65 [==============================] - 0s 466us/step\n"
     ]
    },
    {
     "name": "stderr",
     "output_type": "stream",
     "text": [
      "2023-05-13 18:26:24.680045: I tensorflow/core/common_runtime/executor.cc:1197] [/device:CPU:0] (DEBUG INFO) Executor start aborting (this does not indicate an error and you can ignore this message): INVALID_ARGUMENT: You must feed a value for placeholder tensor 'Placeholder/_1' with dtype int64 and shape [1000]\n",
      "\t [[{{node Placeholder/_1}}]]\n",
      "2023-05-13 18:26:24.751908: I tensorflow/core/common_runtime/executor.cc:1197] [/device:CPU:0] (DEBUG INFO) Executor start aborting (this does not indicate an error and you can ignore this message): INVALID_ARGUMENT: You must feed a value for placeholder tensor 'Placeholder/_1' with dtype float and shape [500]\n",
      "\t [[{{node Placeholder/_1}}]]\n",
      "2023-05-13 18:26:24.755382: I tensorflow/core/common_runtime/executor.cc:1197] [/device:CPU:0] (DEBUG INFO) Executor start aborting (this does not indicate an error and you can ignore this message): INVALID_ARGUMENT: You must feed a value for placeholder tensor 'Placeholder/_1' with dtype float and shape [500]\n",
      "\t [[{{node Placeholder/_1}}]]\n",
      "2023-05-13 18:26:24.758887: I tensorflow/core/common_runtime/executor.cc:1197] [/device:CPU:0] (DEBUG INFO) Executor start aborting (this does not indicate an error and you can ignore this message): INVALID_ARGUMENT: You must feed a value for placeholder tensor 'Placeholder/_1' with dtype float and shape [500]\n",
      "\t [[{{node Placeholder/_1}}]]\n",
      "2023-05-13 18:26:24.762200: I tensorflow/core/common_runtime/executor.cc:1197] [/device:CPU:0] (DEBUG INFO) Executor start aborting (this does not indicate an error and you can ignore this message): INVALID_ARGUMENT: You must feed a value for placeholder tensor 'Placeholder/_1' with dtype float and shape [500]\n",
      "\t [[{{node Placeholder/_1}}]]\n",
      "2023-05-13 18:26:24.765419: I tensorflow/core/common_runtime/executor.cc:1197] [/device:CPU:0] (DEBUG INFO) Executor start aborting (this does not indicate an error and you can ignore this message): INVALID_ARGUMENT: You must feed a value for placeholder tensor 'Placeholder/_1' with dtype float and shape [500]\n",
      "\t [[{{node Placeholder/_1}}]]\n",
      "2023-05-13 18:26:24.768783: I tensorflow/core/common_runtime/executor.cc:1197] [/device:CPU:0] (DEBUG INFO) Executor start aborting (this does not indicate an error and you can ignore this message): INVALID_ARGUMENT: You must feed a value for placeholder tensor 'Placeholder/_1' with dtype float and shape [500]\n",
      "\t [[{{node Placeholder/_1}}]]\n",
      "2023-05-13 18:26:24.771597: I tensorflow/core/common_runtime/executor.cc:1197] [/device:CPU:0] (DEBUG INFO) Executor start aborting (this does not indicate an error and you can ignore this message): INVALID_ARGUMENT: You must feed a value for placeholder tensor 'Placeholder/_1' with dtype float and shape [500]\n",
      "\t [[{{node Placeholder/_1}}]]\n",
      "2023-05-13 18:26:24.775219: I tensorflow/core/common_runtime/executor.cc:1197] [/device:CPU:0] (DEBUG INFO) Executor start aborting (this does not indicate an error and you can ignore this message): INVALID_ARGUMENT: You must feed a value for placeholder tensor 'Placeholder/_1' with dtype float and shape [500]\n",
      "\t [[{{node Placeholder/_1}}]]\n",
      "2023-05-13 18:26:24.778021: I tensorflow/core/common_runtime/executor.cc:1197] [/device:CPU:0] (DEBUG INFO) Executor start aborting (this does not indicate an error and you can ignore this message): INVALID_ARGUMENT: You must feed a value for placeholder tensor 'Placeholder/_1' with dtype float and shape [500]\n",
      "\t [[{{node Placeholder/_1}}]]\n",
      "2023-05-13 18:26:24.780824: I tensorflow/core/common_runtime/executor.cc:1197] [/device:CPU:0] (DEBUG INFO) Executor start aborting (this does not indicate an error and you can ignore this message): INVALID_ARGUMENT: You must feed a value for placeholder tensor 'Placeholder/_1' with dtype float and shape [500]\n",
      "\t [[{{node Placeholder/_1}}]]\n"
     ]
    },
    {
     "name": "stdout",
     "output_type": "stream",
     "text": [
      "Epoch 20 of 60\n",
      "\n",
      "Testing for epoch 20 index 1:\n",
      "65/65 [==============================] - 0s 446us/step\n"
     ]
    },
    {
     "name": "stderr",
     "output_type": "stream",
     "text": [
      "2023-05-13 18:26:25.022381: I tensorflow/core/common_runtime/executor.cc:1197] [/device:CPU:0] (DEBUG INFO) Executor start aborting (this does not indicate an error and you can ignore this message): INVALID_ARGUMENT: You must feed a value for placeholder tensor 'Placeholder/_1' with dtype int64 and shape [1000]\n",
      "\t [[{{node Placeholder/_1}}]]\n",
      "2023-05-13 18:26:25.090882: I tensorflow/core/common_runtime/executor.cc:1197] [/device:CPU:0] (DEBUG INFO) Executor start aborting (this does not indicate an error and you can ignore this message): INVALID_ARGUMENT: You must feed a value for placeholder tensor 'Placeholder/_1' with dtype float and shape [500]\n",
      "\t [[{{node Placeholder/_1}}]]\n",
      "2023-05-13 18:26:25.094892: I tensorflow/core/common_runtime/executor.cc:1197] [/device:CPU:0] (DEBUG INFO) Executor start aborting (this does not indicate an error and you can ignore this message): INVALID_ARGUMENT: You must feed a value for placeholder tensor 'Placeholder/_1' with dtype float and shape [500]\n",
      "\t [[{{node Placeholder/_1}}]]\n",
      "2023-05-13 18:26:25.097797: I tensorflow/core/common_runtime/executor.cc:1197] [/device:CPU:0] (DEBUG INFO) Executor start aborting (this does not indicate an error and you can ignore this message): INVALID_ARGUMENT: You must feed a value for placeholder tensor 'Placeholder/_1' with dtype float and shape [500]\n",
      "\t [[{{node Placeholder/_1}}]]\n",
      "2023-05-13 18:26:25.101399: I tensorflow/core/common_runtime/executor.cc:1197] [/device:CPU:0] (DEBUG INFO) Executor start aborting (this does not indicate an error and you can ignore this message): INVALID_ARGUMENT: You must feed a value for placeholder tensor 'Placeholder/_1' with dtype float and shape [500]\n",
      "\t [[{{node Placeholder/_1}}]]\n",
      "2023-05-13 18:26:25.104573: I tensorflow/core/common_runtime/executor.cc:1197] [/device:CPU:0] (DEBUG INFO) Executor start aborting (this does not indicate an error and you can ignore this message): INVALID_ARGUMENT: You must feed a value for placeholder tensor 'Placeholder/_1' with dtype float and shape [500]\n",
      "\t [[{{node Placeholder/_1}}]]\n",
      "2023-05-13 18:26:25.107442: I tensorflow/core/common_runtime/executor.cc:1197] [/device:CPU:0] (DEBUG INFO) Executor start aborting (this does not indicate an error and you can ignore this message): INVALID_ARGUMENT: You must feed a value for placeholder tensor 'Placeholder/_1' with dtype float and shape [500]\n",
      "\t [[{{node Placeholder/_1}}]]\n",
      "2023-05-13 18:26:25.110800: I tensorflow/core/common_runtime/executor.cc:1197] [/device:CPU:0] (DEBUG INFO) Executor start aborting (this does not indicate an error and you can ignore this message): INVALID_ARGUMENT: You must feed a value for placeholder tensor 'Placeholder/_1' with dtype float and shape [500]\n",
      "\t [[{{node Placeholder/_1}}]]\n",
      "2023-05-13 18:26:25.113957: I tensorflow/core/common_runtime/executor.cc:1197] [/device:CPU:0] (DEBUG INFO) Executor start aborting (this does not indicate an error and you can ignore this message): INVALID_ARGUMENT: You must feed a value for placeholder tensor 'Placeholder/_1' with dtype float and shape [500]\n",
      "\t [[{{node Placeholder/_1}}]]\n",
      "2023-05-13 18:26:25.117556: I tensorflow/core/common_runtime/executor.cc:1197] [/device:CPU:0] (DEBUG INFO) Executor start aborting (this does not indicate an error and you can ignore this message): INVALID_ARGUMENT: You must feed a value for placeholder tensor 'Placeholder/_1' with dtype float and shape [500]\n",
      "\t [[{{node Placeholder/_1}}]]\n",
      "2023-05-13 18:26:25.120608: I tensorflow/core/common_runtime/executor.cc:1197] [/device:CPU:0] (DEBUG INFO) Executor start aborting (this does not indicate an error and you can ignore this message): INVALID_ARGUMENT: You must feed a value for placeholder tensor 'Placeholder/_1' with dtype float and shape [500]\n",
      "\t [[{{node Placeholder/_1}}]]\n"
     ]
    },
    {
     "name": "stdout",
     "output_type": "stream",
     "text": [
      "\n",
      "Testing for epoch 20 index 2:\n",
      "65/65 [==============================] - 0s 419us/step\n"
     ]
    },
    {
     "name": "stderr",
     "output_type": "stream",
     "text": [
      "2023-05-13 18:26:25.356989: I tensorflow/core/common_runtime/executor.cc:1197] [/device:CPU:0] (DEBUG INFO) Executor start aborting (this does not indicate an error and you can ignore this message): INVALID_ARGUMENT: You must feed a value for placeholder tensor 'Placeholder/_1' with dtype int64 and shape [1000]\n",
      "\t [[{{node Placeholder/_1}}]]\n",
      "2023-05-13 18:26:25.421367: I tensorflow/core/common_runtime/executor.cc:1197] [/device:CPU:0] (DEBUG INFO) Executor start aborting (this does not indicate an error and you can ignore this message): INVALID_ARGUMENT: You must feed a value for placeholder tensor 'Placeholder/_1' with dtype float and shape [500]\n",
      "\t [[{{node Placeholder/_1}}]]\n",
      "2023-05-13 18:26:25.424723: I tensorflow/core/common_runtime/executor.cc:1197] [/device:CPU:0] (DEBUG INFO) Executor start aborting (this does not indicate an error and you can ignore this message): INVALID_ARGUMENT: You must feed a value for placeholder tensor 'Placeholder/_1' with dtype float and shape [500]\n",
      "\t [[{{node Placeholder/_1}}]]\n",
      "2023-05-13 18:26:25.428039: I tensorflow/core/common_runtime/executor.cc:1197] [/device:CPU:0] (DEBUG INFO) Executor start aborting (this does not indicate an error and you can ignore this message): INVALID_ARGUMENT: You must feed a value for placeholder tensor 'Placeholder/_1' with dtype float and shape [500]\n",
      "\t [[{{node Placeholder/_1}}]]\n",
      "2023-05-13 18:26:25.430961: I tensorflow/core/common_runtime/executor.cc:1197] [/device:CPU:0] (DEBUG INFO) Executor start aborting (this does not indicate an error and you can ignore this message): INVALID_ARGUMENT: You must feed a value for placeholder tensor 'Placeholder/_1' with dtype float and shape [500]\n",
      "\t [[{{node Placeholder/_1}}]]\n",
      "2023-05-13 18:26:25.433877: I tensorflow/core/common_runtime/executor.cc:1197] [/device:CPU:0] (DEBUG INFO) Executor start aborting (this does not indicate an error and you can ignore this message): INVALID_ARGUMENT: You must feed a value for placeholder tensor 'Placeholder/_1' with dtype float and shape [500]\n",
      "\t [[{{node Placeholder/_1}}]]\n",
      "2023-05-13 18:26:25.436686: I tensorflow/core/common_runtime/executor.cc:1197] [/device:CPU:0] (DEBUG INFO) Executor start aborting (this does not indicate an error and you can ignore this message): INVALID_ARGUMENT: You must feed a value for placeholder tensor 'Placeholder/_1' with dtype float and shape [500]\n",
      "\t [[{{node Placeholder/_1}}]]\n",
      "2023-05-13 18:26:25.439588: I tensorflow/core/common_runtime/executor.cc:1197] [/device:CPU:0] (DEBUG INFO) Executor start aborting (this does not indicate an error and you can ignore this message): INVALID_ARGUMENT: You must feed a value for placeholder tensor 'Placeholder/_1' with dtype float and shape [500]\n",
      "\t [[{{node Placeholder/_1}}]]\n",
      "2023-05-13 18:26:25.442422: I tensorflow/core/common_runtime/executor.cc:1197] [/device:CPU:0] (DEBUG INFO) Executor start aborting (this does not indicate an error and you can ignore this message): INVALID_ARGUMENT: You must feed a value for placeholder tensor 'Placeholder/_1' with dtype float and shape [500]\n",
      "\t [[{{node Placeholder/_1}}]]\n",
      "2023-05-13 18:26:25.445453: I tensorflow/core/common_runtime/executor.cc:1197] [/device:CPU:0] (DEBUG INFO) Executor start aborting (this does not indicate an error and you can ignore this message): INVALID_ARGUMENT: You must feed a value for placeholder tensor 'Placeholder/_1' with dtype float and shape [500]\n",
      "\t [[{{node Placeholder/_1}}]]\n",
      "2023-05-13 18:26:25.448797: I tensorflow/core/common_runtime/executor.cc:1197] [/device:CPU:0] (DEBUG INFO) Executor start aborting (this does not indicate an error and you can ignore this message): INVALID_ARGUMENT: You must feed a value for placeholder tensor 'Placeholder/_1' with dtype float and shape [500]\n",
      "\t [[{{node Placeholder/_1}}]]\n"
     ]
    },
    {
     "name": "stdout",
     "output_type": "stream",
     "text": [
      "\n",
      "Testing for epoch 20 index 3:\n",
      "65/65 [==============================] - 0s 496us/step\n"
     ]
    },
    {
     "name": "stderr",
     "output_type": "stream",
     "text": [
      "2023-05-13 18:26:25.700537: I tensorflow/core/common_runtime/executor.cc:1197] [/device:CPU:0] (DEBUG INFO) Executor start aborting (this does not indicate an error and you can ignore this message): INVALID_ARGUMENT: You must feed a value for placeholder tensor 'Placeholder/_1' with dtype int64 and shape [1000]\n",
      "\t [[{{node Placeholder/_1}}]]\n",
      "2023-05-13 18:26:25.773944: I tensorflow/core/common_runtime/executor.cc:1197] [/device:CPU:0] (DEBUG INFO) Executor start aborting (this does not indicate an error and you can ignore this message): INVALID_ARGUMENT: You must feed a value for placeholder tensor 'Placeholder/_1' with dtype float and shape [500]\n",
      "\t [[{{node Placeholder/_1}}]]\n",
      "2023-05-13 18:26:25.777932: I tensorflow/core/common_runtime/executor.cc:1197] [/device:CPU:0] (DEBUG INFO) Executor start aborting (this does not indicate an error and you can ignore this message): INVALID_ARGUMENT: You must feed a value for placeholder tensor 'Placeholder/_1' with dtype float and shape [500]\n",
      "\t [[{{node Placeholder/_1}}]]\n",
      "2023-05-13 18:26:25.782616: I tensorflow/core/common_runtime/executor.cc:1197] [/device:CPU:0] (DEBUG INFO) Executor start aborting (this does not indicate an error and you can ignore this message): INVALID_ARGUMENT: You must feed a value for placeholder tensor 'Placeholder/_1' with dtype float and shape [500]\n",
      "\t [[{{node Placeholder/_1}}]]\n",
      "2023-05-13 18:26:25.786069: I tensorflow/core/common_runtime/executor.cc:1197] [/device:CPU:0] (DEBUG INFO) Executor start aborting (this does not indicate an error and you can ignore this message): INVALID_ARGUMENT: You must feed a value for placeholder tensor 'Placeholder/_1' with dtype float and shape [500]\n",
      "\t [[{{node Placeholder/_1}}]]\n",
      "2023-05-13 18:26:25.789902: I tensorflow/core/common_runtime/executor.cc:1197] [/device:CPU:0] (DEBUG INFO) Executor start aborting (this does not indicate an error and you can ignore this message): INVALID_ARGUMENT: You must feed a value for placeholder tensor 'Placeholder/_1' with dtype float and shape [500]\n",
      "\t [[{{node Placeholder/_1}}]]\n",
      "2023-05-13 18:26:25.793214: I tensorflow/core/common_runtime/executor.cc:1197] [/device:CPU:0] (DEBUG INFO) Executor start aborting (this does not indicate an error and you can ignore this message): INVALID_ARGUMENT: You must feed a value for placeholder tensor 'Placeholder/_1' with dtype float and shape [500]\n",
      "\t [[{{node Placeholder/_1}}]]\n",
      "2023-05-13 18:26:25.797044: I tensorflow/core/common_runtime/executor.cc:1197] [/device:CPU:0] (DEBUG INFO) Executor start aborting (this does not indicate an error and you can ignore this message): INVALID_ARGUMENT: You must feed a value for placeholder tensor 'Placeholder/_1' with dtype float and shape [500]\n",
      "\t [[{{node Placeholder/_1}}]]\n",
      "2023-05-13 18:26:25.800131: I tensorflow/core/common_runtime/executor.cc:1197] [/device:CPU:0] (DEBUG INFO) Executor start aborting (this does not indicate an error and you can ignore this message): INVALID_ARGUMENT: You must feed a value for placeholder tensor 'Placeholder/_1' with dtype float and shape [500]\n",
      "\t [[{{node Placeholder/_1}}]]\n",
      "2023-05-13 18:26:25.803817: I tensorflow/core/common_runtime/executor.cc:1197] [/device:CPU:0] (DEBUG INFO) Executor start aborting (this does not indicate an error and you can ignore this message): INVALID_ARGUMENT: You must feed a value for placeholder tensor 'Placeholder/_1' with dtype float and shape [500]\n",
      "\t [[{{node Placeholder/_1}}]]\n",
      "2023-05-13 18:26:25.807203: I tensorflow/core/common_runtime/executor.cc:1197] [/device:CPU:0] (DEBUG INFO) Executor start aborting (this does not indicate an error and you can ignore this message): INVALID_ARGUMENT: You must feed a value for placeholder tensor 'Placeholder/_1' with dtype float and shape [500]\n",
      "\t [[{{node Placeholder/_1}}]]\n"
     ]
    },
    {
     "name": "stdout",
     "output_type": "stream",
     "text": [
      "\n",
      "Testing for epoch 20 index 4:\n",
      "65/65 [==============================] - 0s 471us/step\n"
     ]
    },
    {
     "name": "stderr",
     "output_type": "stream",
     "text": [
      "2023-05-13 18:26:26.063174: I tensorflow/core/common_runtime/executor.cc:1197] [/device:CPU:0] (DEBUG INFO) Executor start aborting (this does not indicate an error and you can ignore this message): INVALID_ARGUMENT: You must feed a value for placeholder tensor 'Placeholder/_1' with dtype int64 and shape [1000]\n",
      "\t [[{{node Placeholder/_1}}]]\n",
      "2023-05-13 18:26:26.134161: I tensorflow/core/common_runtime/executor.cc:1197] [/device:CPU:0] (DEBUG INFO) Executor start aborting (this does not indicate an error and you can ignore this message): INVALID_ARGUMENT: You must feed a value for placeholder tensor 'Placeholder/_1' with dtype float and shape [500]\n",
      "\t [[{{node Placeholder/_1}}]]\n",
      "2023-05-13 18:26:26.137585: I tensorflow/core/common_runtime/executor.cc:1197] [/device:CPU:0] (DEBUG INFO) Executor start aborting (this does not indicate an error and you can ignore this message): INVALID_ARGUMENT: You must feed a value for placeholder tensor 'Placeholder/_1' with dtype float and shape [500]\n",
      "\t [[{{node Placeholder/_1}}]]\n",
      "2023-05-13 18:26:26.141020: I tensorflow/core/common_runtime/executor.cc:1197] [/device:CPU:0] (DEBUG INFO) Executor start aborting (this does not indicate an error and you can ignore this message): INVALID_ARGUMENT: You must feed a value for placeholder tensor 'Placeholder/_1' with dtype float and shape [500]\n",
      "\t [[{{node Placeholder/_1}}]]\n",
      "2023-05-13 18:26:26.144183: I tensorflow/core/common_runtime/executor.cc:1197] [/device:CPU:0] (DEBUG INFO) Executor start aborting (this does not indicate an error and you can ignore this message): INVALID_ARGUMENT: You must feed a value for placeholder tensor 'Placeholder/_1' with dtype float and shape [500]\n",
      "\t [[{{node Placeholder/_1}}]]\n",
      "2023-05-13 18:26:26.147246: I tensorflow/core/common_runtime/executor.cc:1197] [/device:CPU:0] (DEBUG INFO) Executor start aborting (this does not indicate an error and you can ignore this message): INVALID_ARGUMENT: You must feed a value for placeholder tensor 'Placeholder/_1' with dtype float and shape [500]\n",
      "\t [[{{node Placeholder/_1}}]]\n",
      "2023-05-13 18:26:26.150802: I tensorflow/core/common_runtime/executor.cc:1197] [/device:CPU:0] (DEBUG INFO) Executor start aborting (this does not indicate an error and you can ignore this message): INVALID_ARGUMENT: You must feed a value for placeholder tensor 'Placeholder/_1' with dtype float and shape [500]\n",
      "\t [[{{node Placeholder/_1}}]]\n",
      "2023-05-13 18:26:26.154089: I tensorflow/core/common_runtime/executor.cc:1197] [/device:CPU:0] (DEBUG INFO) Executor start aborting (this does not indicate an error and you can ignore this message): INVALID_ARGUMENT: You must feed a value for placeholder tensor 'Placeholder/_1' with dtype float and shape [500]\n",
      "\t [[{{node Placeholder/_1}}]]\n",
      "2023-05-13 18:26:26.157761: I tensorflow/core/common_runtime/executor.cc:1197] [/device:CPU:0] (DEBUG INFO) Executor start aborting (this does not indicate an error and you can ignore this message): INVALID_ARGUMENT: You must feed a value for placeholder tensor 'Placeholder/_1' with dtype float and shape [500]\n",
      "\t [[{{node Placeholder/_1}}]]\n",
      "2023-05-13 18:26:26.161068: I tensorflow/core/common_runtime/executor.cc:1197] [/device:CPU:0] (DEBUG INFO) Executor start aborting (this does not indicate an error and you can ignore this message): INVALID_ARGUMENT: You must feed a value for placeholder tensor 'Placeholder/_1' with dtype float and shape [500]\n",
      "\t [[{{node Placeholder/_1}}]]\n",
      "2023-05-13 18:26:26.164719: I tensorflow/core/common_runtime/executor.cc:1197] [/device:CPU:0] (DEBUG INFO) Executor start aborting (this does not indicate an error and you can ignore this message): INVALID_ARGUMENT: You must feed a value for placeholder tensor 'Placeholder/_1' with dtype float and shape [500]\n",
      "\t [[{{node Placeholder/_1}}]]\n"
     ]
    },
    {
     "name": "stdout",
     "output_type": "stream",
     "text": [
      "Epoch 21 of 60\n",
      "\n",
      "Testing for epoch 21 index 1:\n",
      "65/65 [==============================] - 0s 435us/step\n"
     ]
    },
    {
     "name": "stderr",
     "output_type": "stream",
     "text": [
      "2023-05-13 18:26:26.428705: I tensorflow/core/common_runtime/executor.cc:1197] [/device:CPU:0] (DEBUG INFO) Executor start aborting (this does not indicate an error and you can ignore this message): INVALID_ARGUMENT: You must feed a value for placeholder tensor 'Placeholder/_1' with dtype int64 and shape [1000]\n",
      "\t [[{{node Placeholder/_1}}]]\n",
      "2023-05-13 18:26:26.497502: I tensorflow/core/common_runtime/executor.cc:1197] [/device:CPU:0] (DEBUG INFO) Executor start aborting (this does not indicate an error and you can ignore this message): INVALID_ARGUMENT: You must feed a value for placeholder tensor 'Placeholder/_1' with dtype float and shape [500]\n",
      "\t [[{{node Placeholder/_1}}]]\n",
      "2023-05-13 18:26:26.501124: I tensorflow/core/common_runtime/executor.cc:1197] [/device:CPU:0] (DEBUG INFO) Executor start aborting (this does not indicate an error and you can ignore this message): INVALID_ARGUMENT: You must feed a value for placeholder tensor 'Placeholder/_1' with dtype float and shape [500]\n",
      "\t [[{{node Placeholder/_1}}]]\n",
      "2023-05-13 18:26:26.504436: I tensorflow/core/common_runtime/executor.cc:1197] [/device:CPU:0] (DEBUG INFO) Executor start aborting (this does not indicate an error and you can ignore this message): INVALID_ARGUMENT: You must feed a value for placeholder tensor 'Placeholder/_1' with dtype float and shape [500]\n",
      "\t [[{{node Placeholder/_1}}]]\n",
      "2023-05-13 18:26:26.507351: I tensorflow/core/common_runtime/executor.cc:1197] [/device:CPU:0] (DEBUG INFO) Executor start aborting (this does not indicate an error and you can ignore this message): INVALID_ARGUMENT: You must feed a value for placeholder tensor 'Placeholder/_1' with dtype float and shape [500]\n",
      "\t [[{{node Placeholder/_1}}]]\n",
      "2023-05-13 18:26:26.510748: I tensorflow/core/common_runtime/executor.cc:1197] [/device:CPU:0] (DEBUG INFO) Executor start aborting (this does not indicate an error and you can ignore this message): INVALID_ARGUMENT: You must feed a value for placeholder tensor 'Placeholder/_1' with dtype float and shape [500]\n",
      "\t [[{{node Placeholder/_1}}]]\n",
      "2023-05-13 18:26:26.513847: I tensorflow/core/common_runtime/executor.cc:1197] [/device:CPU:0] (DEBUG INFO) Executor start aborting (this does not indicate an error and you can ignore this message): INVALID_ARGUMENT: You must feed a value for placeholder tensor 'Placeholder/_1' with dtype float and shape [500]\n",
      "\t [[{{node Placeholder/_1}}]]\n",
      "2023-05-13 18:26:26.516903: I tensorflow/core/common_runtime/executor.cc:1197] [/device:CPU:0] (DEBUG INFO) Executor start aborting (this does not indicate an error and you can ignore this message): INVALID_ARGUMENT: You must feed a value for placeholder tensor 'Placeholder/_1' with dtype float and shape [500]\n",
      "\t [[{{node Placeholder/_1}}]]\n",
      "2023-05-13 18:26:26.520205: I tensorflow/core/common_runtime/executor.cc:1197] [/device:CPU:0] (DEBUG INFO) Executor start aborting (this does not indicate an error and you can ignore this message): INVALID_ARGUMENT: You must feed a value for placeholder tensor 'Placeholder/_1' with dtype float and shape [500]\n",
      "\t [[{{node Placeholder/_1}}]]\n",
      "2023-05-13 18:26:26.523060: I tensorflow/core/common_runtime/executor.cc:1197] [/device:CPU:0] (DEBUG INFO) Executor start aborting (this does not indicate an error and you can ignore this message): INVALID_ARGUMENT: You must feed a value for placeholder tensor 'Placeholder/_1' with dtype float and shape [500]\n",
      "\t [[{{node Placeholder/_1}}]]\n",
      "2023-05-13 18:26:26.525935: I tensorflow/core/common_runtime/executor.cc:1197] [/device:CPU:0] (DEBUG INFO) Executor start aborting (this does not indicate an error and you can ignore this message): INVALID_ARGUMENT: You must feed a value for placeholder tensor 'Placeholder/_1' with dtype float and shape [500]\n",
      "\t [[{{node Placeholder/_1}}]]\n"
     ]
    },
    {
     "name": "stdout",
     "output_type": "stream",
     "text": [
      "\n",
      "Testing for epoch 21 index 2:\n",
      "65/65 [==============================] - 0s 453us/step\n",
      "16/16 [==============================] - 0s 718us/step - loss: 0.0495\n"
     ]
    },
    {
     "name": "stderr",
     "output_type": "stream",
     "text": [
      "2023-05-13 18:26:26.771613: I tensorflow/core/common_runtime/executor.cc:1197] [/device:CPU:0] (DEBUG INFO) Executor start aborting (this does not indicate an error and you can ignore this message): INVALID_ARGUMENT: You must feed a value for placeholder tensor 'Placeholder/_1' with dtype int64 and shape [1000]\n",
      "\t [[{{node Placeholder/_1}}]]\n"
     ]
    },
    {
     "name": "stdout",
     "output_type": "stream",
     "text": [
      "16/16 [==============================] - 0s 681us/step - loss: 3.2070\n",
      "16/16 [==============================] - 0s 700us/step - loss: 3.2070\n",
      "16/16 [==============================] - 0s 842us/step - loss: 3.2070\n",
      "16/16 [==============================] - 0s 823us/step - loss: 3.2070\n",
      "16/16 [==============================] - 0s 802us/step - loss: 3.2070\n",
      "16/16 [==============================] - 0s 885us/step - loss: 3.2070\n",
      "16/16 [==============================] - 0s 970us/step - loss: 3.2070\n",
      "16/16 [==============================] - 0s 866us/step - loss: 3.2070\n",
      "16/16 [==============================] - 0s 867us/step - loss: 3.2070\n",
      "\n",
      "Testing for epoch 21 index 3:\n",
      "65/65 [==============================] - 0s 474us/step\n",
      "16/16 [==============================] - 0s 890us/step - loss: 0.0484\n",
      "16/16 [==============================] - 0s 1ms/step - loss: 3.2201\n"
     ]
    },
    {
     "name": "stderr",
     "output_type": "stream",
     "text": [
      "2023-05-13 18:26:27.895145: I tensorflow/core/common_runtime/executor.cc:1197] [/device:CPU:0] (DEBUG INFO) Executor start aborting (this does not indicate an error and you can ignore this message): INVALID_ARGUMENT: You must feed a value for placeholder tensor 'Placeholder/_1' with dtype int64 and shape [1000]\n",
      "\t [[{{node Placeholder/_1}}]]\n"
     ]
    },
    {
     "name": "stdout",
     "output_type": "stream",
     "text": [
      "16/16 [==============================] - 0s 880us/step - loss: 3.2201\n",
      "16/16 [==============================] - 0s 914us/step - loss: 3.2201\n",
      "16/16 [==============================] - 0s 861us/step - loss: 3.2201\n",
      "16/16 [==============================] - 0s 889us/step - loss: 3.2201\n",
      "16/16 [==============================] - 0s 879us/step - loss: 3.2201\n",
      "16/16 [==============================] - 0s 804us/step - loss: 3.2201\n",
      "16/16 [==============================] - 0s 840us/step - loss: 3.2201\n",
      "16/16 [==============================] - 0s 871us/step - loss: 3.2201\n",
      "\n",
      "Testing for epoch 21 index 4:\n",
      "65/65 [==============================] - 0s 468us/step\n",
      "16/16 [==============================] - 0s 811us/step - loss: 0.0475\n",
      "16/16 [==============================] - 0s 852us/step - loss: 3.2300\n",
      "16/16 [==============================] - 0s 744us/step - loss: 3.2299\n"
     ]
    },
    {
     "name": "stderr",
     "output_type": "stream",
     "text": [
      "2023-05-13 18:26:28.634599: I tensorflow/core/common_runtime/executor.cc:1197] [/device:CPU:0] (DEBUG INFO) Executor start aborting (this does not indicate an error and you can ignore this message): INVALID_ARGUMENT: You must feed a value for placeholder tensor 'Placeholder/_1' with dtype int64 and shape [1000]\n",
      "\t [[{{node Placeholder/_1}}]]\n"
     ]
    },
    {
     "name": "stdout",
     "output_type": "stream",
     "text": [
      "16/16 [==============================] - 0s 867us/step - loss: 3.2299\n",
      "16/16 [==============================] - 0s 899us/step - loss: 3.2299\n",
      "16/16 [==============================] - 0s 950us/step - loss: 3.2299\n",
      "16/16 [==============================] - 0s 727us/step - loss: 3.2299\n",
      "16/16 [==============================] - 0s 699us/step - loss: 3.2299\n",
      "16/16 [==============================] - 0s 693us/step - loss: 3.2299\n",
      "16/16 [==============================] - 0s 687us/step - loss: 3.2299\n",
      "Epoch 22 of 60\n",
      "\n",
      "Testing for epoch 22 index 1:\n",
      "65/65 [==============================] - 0s 436us/step\n",
      "16/16 [==============================] - 0s 684us/step - loss: 0.0464\n",
      "16/16 [==============================] - 0s 677us/step - loss: 3.2560\n",
      "16/16 [==============================] - 0s 689us/step - loss: 3.2560\n",
      " 1/16 [>.............................] - ETA: 0s - loss: 3.3847"
     ]
    },
    {
     "name": "stderr",
     "output_type": "stream",
     "text": [
      "2023-05-13 18:26:29.331147: I tensorflow/core/common_runtime/executor.cc:1197] [/device:CPU:0] (DEBUG INFO) Executor start aborting (this does not indicate an error and you can ignore this message): INVALID_ARGUMENT: You must feed a value for placeholder tensor 'Placeholder/_1' with dtype int64 and shape [1000]\n",
      "\t [[{{node Placeholder/_1}}]]\n"
     ]
    },
    {
     "name": "stdout",
     "output_type": "stream",
     "text": [
      "16/16 [==============================] - 0s 674us/step - loss: 3.2560\n",
      "16/16 [==============================] - 0s 698us/step - loss: 3.2560\n",
      "16/16 [==============================] - 0s 690us/step - loss: 3.2560\n",
      "16/16 [==============================] - 0s 694us/step - loss: 3.2560\n",
      "16/16 [==============================] - 0s 675us/step - loss: 3.2560\n",
      "16/16 [==============================] - 0s 669us/step - loss: 3.2560\n",
      "16/16 [==============================] - 0s 682us/step - loss: 3.2560\n",
      "\n",
      "Testing for epoch 22 index 2:\n",
      "65/65 [==============================] - 0s 483us/step\n",
      "16/16 [==============================] - 0s 709us/step - loss: 0.0455\n",
      "16/16 [==============================] - 0s 686us/step - loss: 3.3107\n",
      "16/16 [==============================] - 0s 694us/step - loss: 3.3107\n"
     ]
    },
    {
     "name": "stderr",
     "output_type": "stream",
     "text": [
      "2023-05-13 18:26:29.982420: I tensorflow/core/common_runtime/executor.cc:1197] [/device:CPU:0] (DEBUG INFO) Executor start aborting (this does not indicate an error and you can ignore this message): INVALID_ARGUMENT: You must feed a value for placeholder tensor 'Placeholder/_1' with dtype int64 and shape [1000]\n",
      "\t [[{{node Placeholder/_1}}]]\n"
     ]
    },
    {
     "name": "stdout",
     "output_type": "stream",
     "text": [
      "16/16 [==============================] - 0s 805us/step - loss: 3.3107\n",
      "16/16 [==============================] - 0s 702us/step - loss: 3.3107\n",
      "16/16 [==============================] - 0s 709us/step - loss: 3.3107\n",
      "16/16 [==============================] - 0s 704us/step - loss: 3.3107\n",
      "16/16 [==============================] - 0s 709us/step - loss: 3.3107\n",
      "16/16 [==============================] - 0s 680us/step - loss: 3.3107\n",
      "16/16 [==============================] - 0s 708us/step - loss: 3.3107\n",
      "\n",
      "Testing for epoch 22 index 3:\n",
      "65/65 [==============================] - 0s 469us/step\n",
      "16/16 [==============================] - 0s 664us/step - loss: 0.0445\n",
      "16/16 [==============================] - 0s 697us/step - loss: 3.2757\n",
      "16/16 [==============================] - 0s 667us/step - loss: 3.2757\n",
      " 1/16 [>.............................] - ETA: 0s - loss: 3.3908"
     ]
    },
    {
     "name": "stderr",
     "output_type": "stream",
     "text": [
      "2023-05-13 18:26:30.660605: I tensorflow/core/common_runtime/executor.cc:1197] [/device:CPU:0] (DEBUG INFO) Executor start aborting (this does not indicate an error and you can ignore this message): INVALID_ARGUMENT: You must feed a value for placeholder tensor 'Placeholder/_1' with dtype int64 and shape [1000]\n",
      "\t [[{{node Placeholder/_1}}]]\n"
     ]
    },
    {
     "name": "stdout",
     "output_type": "stream",
     "text": [
      "16/16 [==============================] - 0s 716us/step - loss: 3.2757\n",
      "16/16 [==============================] - 0s 716us/step - loss: 3.2757\n",
      "16/16 [==============================] - 0s 747us/step - loss: 3.2757\n",
      "16/16 [==============================] - 0s 695us/step - loss: 3.2757\n",
      "16/16 [==============================] - 0s 761us/step - loss: 3.2757\n",
      "16/16 [==============================] - 0s 874us/step - loss: 3.2757\n",
      "16/16 [==============================] - 0s 889us/step - loss: 3.2757\n",
      "\n",
      "Testing for epoch 22 index 4:\n",
      "65/65 [==============================] - 0s 463us/step\n",
      "16/16 [==============================] - 0s 742us/step - loss: 0.0437\n",
      "16/16 [==============================] - 0s 700us/step - loss: 3.2912\n",
      "16/16 [==============================] - 0s 678us/step - loss: 3.2912\n"
     ]
    },
    {
     "name": "stderr",
     "output_type": "stream",
     "text": [
      "2023-05-13 18:26:31.367440: I tensorflow/core/common_runtime/executor.cc:1197] [/device:CPU:0] (DEBUG INFO) Executor start aborting (this does not indicate an error and you can ignore this message): INVALID_ARGUMENT: You must feed a value for placeholder tensor 'Placeholder/_1' with dtype int64 and shape [1000]\n",
      "\t [[{{node Placeholder/_1}}]]\n"
     ]
    },
    {
     "name": "stdout",
     "output_type": "stream",
     "text": [
      "16/16 [==============================] - 0s 699us/step - loss: 3.2912\n",
      "16/16 [==============================] - 0s 806us/step - loss: 3.2912\n",
      "16/16 [==============================] - 0s 709us/step - loss: 3.2912\n",
      "16/16 [==============================] - 0s 692us/step - loss: 3.2912\n",
      "16/16 [==============================] - 0s 684us/step - loss: 3.2912\n",
      "16/16 [==============================] - 0s 713us/step - loss: 3.2912\n",
      "16/16 [==============================] - 0s 700us/step - loss: 3.2912\n",
      "Epoch 23 of 60\n",
      "\n",
      "Testing for epoch 23 index 1:\n",
      "65/65 [==============================] - 0s 499us/step\n",
      "16/16 [==============================] - 0s 865us/step - loss: 0.0427\n",
      "16/16 [==============================] - 0s 793us/step - loss: 3.3342\n",
      "16/16 [==============================] - 0s 925us/step - loss: 3.3342\n"
     ]
    },
    {
     "name": "stderr",
     "output_type": "stream",
     "text": [
      "2023-05-13 18:26:32.052762: I tensorflow/core/common_runtime/executor.cc:1197] [/device:CPU:0] (DEBUG INFO) Executor start aborting (this does not indicate an error and you can ignore this message): INVALID_ARGUMENT: You must feed a value for placeholder tensor 'Placeholder/_1' with dtype int64 and shape [1000]\n",
      "\t [[{{node Placeholder/_1}}]]\n"
     ]
    },
    {
     "name": "stdout",
     "output_type": "stream",
     "text": [
      "16/16 [==============================] - 0s 934us/step - loss: 3.3342\n",
      "16/16 [==============================] - 0s 874us/step - loss: 3.3342\n",
      "16/16 [==============================] - 0s 886us/step - loss: 3.3342\n",
      "16/16 [==============================] - 0s 888us/step - loss: 3.3342\n",
      "16/16 [==============================] - 0s 815us/step - loss: 3.3342\n",
      "16/16 [==============================] - 0s 883us/step - loss: 3.3342\n",
      "16/16 [==============================] - 0s 718us/step - loss: 3.3342\n",
      "\n",
      "Testing for epoch 23 index 2:\n",
      "65/65 [==============================] - 0s 536us/step\n",
      "16/16 [==============================] - 0s 783us/step - loss: 0.0417\n",
      "16/16 [==============================] - 0s 762us/step - loss: 3.3669\n",
      "16/16 [==============================] - 0s 956us/step - loss: 3.3669\n"
     ]
    },
    {
     "name": "stderr",
     "output_type": "stream",
     "text": [
      "2023-05-13 18:26:32.803683: I tensorflow/core/common_runtime/executor.cc:1197] [/device:CPU:0] (DEBUG INFO) Executor start aborting (this does not indicate an error and you can ignore this message): INVALID_ARGUMENT: You must feed a value for placeholder tensor 'Placeholder/_1' with dtype int64 and shape [1000]\n",
      "\t [[{{node Placeholder/_1}}]]\n"
     ]
    },
    {
     "name": "stdout",
     "output_type": "stream",
     "text": [
      "16/16 [==============================] - 0s 857us/step - loss: 3.3669\n",
      "16/16 [==============================] - 0s 893us/step - loss: 3.3669\n",
      "16/16 [==============================] - 0s 828us/step - loss: 3.3669\n",
      "16/16 [==============================] - 0s 821us/step - loss: 3.3669\n",
      "16/16 [==============================] - 0s 792us/step - loss: 3.3669\n",
      "16/16 [==============================] - 0s 776us/step - loss: 3.3669\n",
      "16/16 [==============================] - 0s 683us/step - loss: 3.3669\n",
      "\n",
      "Testing for epoch 23 index 3:\n",
      "65/65 [==============================] - 0s 474us/step\n",
      "16/16 [==============================] - 0s 701us/step - loss: 0.0409\n",
      "16/16 [==============================] - 0s 722us/step - loss: 3.3816\n",
      "16/16 [==============================] - 0s 674us/step - loss: 3.3816\n"
     ]
    },
    {
     "name": "stderr",
     "output_type": "stream",
     "text": [
      "2023-05-13 18:26:33.829471: I tensorflow/core/common_runtime/executor.cc:1197] [/device:CPU:0] (DEBUG INFO) Executor start aborting (this does not indicate an error and you can ignore this message): INVALID_ARGUMENT: You must feed a value for placeholder tensor 'Placeholder/_1' with dtype int64 and shape [1000]\n",
      "\t [[{{node Placeholder/_1}}]]\n"
     ]
    },
    {
     "name": "stdout",
     "output_type": "stream",
     "text": [
      "16/16 [==============================] - 0s 671us/step - loss: 3.3816\n",
      "16/16 [==============================] - 0s 717us/step - loss: 3.3816\n",
      "16/16 [==============================] - 0s 733us/step - loss: 3.3816\n",
      "16/16 [==============================] - 0s 698us/step - loss: 3.3816\n",
      "16/16 [==============================] - 0s 806us/step - loss: 3.3816\n",
      "16/16 [==============================] - 0s 769us/step - loss: 3.3816\n",
      "16/16 [==============================] - 0s 700us/step - loss: 3.3816\n",
      "\n",
      "Testing for epoch 23 index 4:\n",
      "65/65 [==============================] - 0s 517us/step\n",
      "16/16 [==============================] - 0s 871us/step - loss: 0.0400\n",
      "16/16 [==============================] - 0s 901us/step - loss: 3.4146\n"
     ]
    },
    {
     "name": "stderr",
     "output_type": "stream",
     "text": [
      "2023-05-13 18:26:34.625900: I tensorflow/core/common_runtime/executor.cc:1197] [/device:CPU:0] (DEBUG INFO) Executor start aborting (this does not indicate an error and you can ignore this message): INVALID_ARGUMENT: You must feed a value for placeholder tensor 'Placeholder/_1' with dtype int64 and shape [1000]\n",
      "\t [[{{node Placeholder/_1}}]]\n"
     ]
    },
    {
     "name": "stdout",
     "output_type": "stream",
     "text": [
      "16/16 [==============================] - 0s 881us/step - loss: 3.4146\n",
      "16/16 [==============================] - 0s 683us/step - loss: 3.4146\n",
      "16/16 [==============================] - 0s 752us/step - loss: 3.4146\n",
      "16/16 [==============================] - 0s 912us/step - loss: 3.4146\n",
      "16/16 [==============================] - 0s 890us/step - loss: 3.4146\n",
      "16/16 [==============================] - 0s 822us/step - loss: 3.4146\n",
      "16/16 [==============================] - 0s 904us/step - loss: 3.4146\n",
      "16/16 [==============================] - 0s 906us/step - loss: 3.4146\n",
      "Epoch 24 of 60\n",
      "\n",
      "Testing for epoch 24 index 1:\n",
      "65/65 [==============================] - 0s 437us/step\n",
      "16/16 [==============================] - 0s 738us/step - loss: 0.0392\n",
      "16/16 [==============================] - 0s 721us/step - loss: 3.4176\n",
      "16/16 [==============================] - 0s 772us/step - loss: 3.4175\n"
     ]
    },
    {
     "name": "stderr",
     "output_type": "stream",
     "text": [
      "2023-05-13 18:26:35.438764: I tensorflow/core/common_runtime/executor.cc:1197] [/device:CPU:0] (DEBUG INFO) Executor start aborting (this does not indicate an error and you can ignore this message): INVALID_ARGUMENT: You must feed a value for placeholder tensor 'Placeholder/_1' with dtype int64 and shape [1000]\n",
      "\t [[{{node Placeholder/_1}}]]\n"
     ]
    },
    {
     "name": "stdout",
     "output_type": "stream",
     "text": [
      "16/16 [==============================] - 0s 692us/step - loss: 3.4175\n",
      "16/16 [==============================] - 0s 689us/step - loss: 3.4175\n",
      "16/16 [==============================] - 0s 691us/step - loss: 3.4175\n",
      "16/16 [==============================] - 0s 723us/step - loss: 3.4175\n",
      "16/16 [==============================] - 0s 783us/step - loss: 3.4175\n",
      "16/16 [==============================] - 0s 665us/step - loss: 3.4175\n",
      "16/16 [==============================] - 0s 685us/step - loss: 3.4175\n",
      "\n",
      "Testing for epoch 24 index 2:\n",
      "65/65 [==============================] - 0s 518us/step\n",
      "16/16 [==============================] - 0s 879us/step - loss: 0.0384\n",
      "16/16 [==============================] - 0s 871us/step - loss: 3.4378\n",
      "16/16 [==============================] - 0s 719us/step - loss: 3.4378\n"
     ]
    },
    {
     "name": "stderr",
     "output_type": "stream",
     "text": [
      "2023-05-13 18:26:36.207313: I tensorflow/core/common_runtime/executor.cc:1197] [/device:CPU:0] (DEBUG INFO) Executor start aborting (this does not indicate an error and you can ignore this message): INVALID_ARGUMENT: You must feed a value for placeholder tensor 'Placeholder/_1' with dtype int64 and shape [1000]\n",
      "\t [[{{node Placeholder/_1}}]]\n"
     ]
    },
    {
     "name": "stdout",
     "output_type": "stream",
     "text": [
      "16/16 [==============================] - 0s 699us/step - loss: 3.4378\n",
      "16/16 [==============================] - 0s 747us/step - loss: 3.4378\n",
      "16/16 [==============================] - 0s 723us/step - loss: 3.4378\n",
      "16/16 [==============================] - 0s 686us/step - loss: 3.4378\n",
      "16/16 [==============================] - 0s 741us/step - loss: 3.4378\n",
      "16/16 [==============================] - 0s 716us/step - loss: 3.4378\n",
      "16/16 [==============================] - 0s 705us/step - loss: 3.4378\n",
      "\n",
      "Testing for epoch 24 index 3:\n",
      "65/65 [==============================] - 0s 451us/step\n",
      "16/16 [==============================] - 0s 697us/step - loss: 0.0380\n",
      "16/16 [==============================] - 0s 672us/step - loss: 3.4826\n",
      "16/16 [==============================] - 0s 682us/step - loss: 3.4826\n"
     ]
    },
    {
     "name": "stderr",
     "output_type": "stream",
     "text": [
      "2023-05-13 18:26:36.933581: I tensorflow/core/common_runtime/executor.cc:1197] [/device:CPU:0] (DEBUG INFO) Executor start aborting (this does not indicate an error and you can ignore this message): INVALID_ARGUMENT: You must feed a value for placeholder tensor 'Placeholder/_1' with dtype int64 and shape [1000]\n",
      "\t [[{{node Placeholder/_1}}]]\n"
     ]
    },
    {
     "name": "stdout",
     "output_type": "stream",
     "text": [
      "16/16 [==============================] - 0s 736us/step - loss: 3.4826\n",
      "16/16 [==============================] - 0s 735us/step - loss: 3.4826\n",
      "16/16 [==============================] - 0s 728us/step - loss: 3.4826\n",
      "16/16 [==============================] - 0s 737us/step - loss: 3.4826\n",
      "16/16 [==============================] - 0s 766us/step - loss: 3.4826\n",
      "16/16 [==============================] - 0s 789us/step - loss: 3.4826\n",
      "16/16 [==============================] - 0s 758us/step - loss: 3.4826\n",
      "\n",
      "Testing for epoch 24 index 4:\n",
      "65/65 [==============================] - 0s 440us/step\n",
      "16/16 [==============================] - 0s 700us/step - loss: 0.0371\n",
      "16/16 [==============================] - 0s 723us/step - loss: 3.4782\n",
      "16/16 [==============================] - 0s 709us/step - loss: 3.4782\n"
     ]
    },
    {
     "name": "stderr",
     "output_type": "stream",
     "text": [
      "2023-05-13 18:26:37.624210: I tensorflow/core/common_runtime/executor.cc:1197] [/device:CPU:0] (DEBUG INFO) Executor start aborting (this does not indicate an error and you can ignore this message): INVALID_ARGUMENT: You must feed a value for placeholder tensor 'Placeholder/_1' with dtype int64 and shape [1000]\n",
      "\t [[{{node Placeholder/_1}}]]\n"
     ]
    },
    {
     "name": "stdout",
     "output_type": "stream",
     "text": [
      "16/16 [==============================] - 0s 748us/step - loss: 3.4782\n",
      "16/16 [==============================] - 0s 685us/step - loss: 3.4782\n",
      "16/16 [==============================] - 0s 711us/step - loss: 3.4782\n",
      "16/16 [==============================] - 0s 682us/step - loss: 3.4782\n",
      "16/16 [==============================] - 0s 674us/step - loss: 3.4782\n",
      "16/16 [==============================] - 0s 716us/step - loss: 3.4782\n",
      "16/16 [==============================] - 0s 730us/step - loss: 3.4782\n",
      "Epoch 25 of 60\n",
      "\n",
      "Testing for epoch 25 index 1:\n",
      "65/65 [==============================] - 0s 470us/step\n",
      "16/16 [==============================] - 0s 696us/step - loss: 0.0365\n",
      "16/16 [==============================] - 0s 711us/step - loss: 3.4826\n",
      "16/16 [==============================] - 0s 741us/step - loss: 3.4826\n"
     ]
    },
    {
     "name": "stderr",
     "output_type": "stream",
     "text": [
      "2023-05-13 18:26:38.301493: I tensorflow/core/common_runtime/executor.cc:1197] [/device:CPU:0] (DEBUG INFO) Executor start aborting (this does not indicate an error and you can ignore this message): INVALID_ARGUMENT: You must feed a value for placeholder tensor 'Placeholder/_1' with dtype int64 and shape [1000]\n",
      "\t [[{{node Placeholder/_1}}]]\n"
     ]
    },
    {
     "name": "stdout",
     "output_type": "stream",
     "text": [
      "16/16 [==============================] - 0s 674us/step - loss: 3.4826\n",
      "16/16 [==============================] - 0s 733us/step - loss: 3.4826\n",
      "16/16 [==============================] - 0s 695us/step - loss: 3.4826\n",
      "16/16 [==============================] - 0s 696us/step - loss: 3.4826\n",
      "16/16 [==============================] - 0s 731us/step - loss: 3.4826\n",
      "16/16 [==============================] - 0s 789us/step - loss: 3.4826\n",
      "16/16 [==============================] - 0s 749us/step - loss: 3.4826\n",
      "\n",
      "Testing for epoch 25 index 2:\n",
      "65/65 [==============================] - 0s 493us/step\n",
      "16/16 [==============================] - 0s 747us/step - loss: 0.0358\n",
      "16/16 [==============================] - 0s 812us/step - loss: 3.4882\n",
      "16/16 [==============================] - 0s 728us/step - loss: 3.4882\n"
     ]
    },
    {
     "name": "stderr",
     "output_type": "stream",
     "text": [
      "2023-05-13 18:26:38.975753: I tensorflow/core/common_runtime/executor.cc:1197] [/device:CPU:0] (DEBUG INFO) Executor start aborting (this does not indicate an error and you can ignore this message): INVALID_ARGUMENT: You must feed a value for placeholder tensor 'Placeholder/_1' with dtype int64 and shape [1000]\n",
      "\t [[{{node Placeholder/_1}}]]\n"
     ]
    },
    {
     "name": "stdout",
     "output_type": "stream",
     "text": [
      "16/16 [==============================] - 0s 717us/step - loss: 3.4882\n",
      "16/16 [==============================] - 0s 738us/step - loss: 3.4882\n",
      "16/16 [==============================] - 0s 732us/step - loss: 3.4882\n",
      "16/16 [==============================] - 0s 814us/step - loss: 3.4882\n",
      "16/16 [==============================] - 0s 757us/step - loss: 3.4882\n",
      "16/16 [==============================] - 0s 824us/step - loss: 3.4882\n",
      "16/16 [==============================] - 0s 777us/step - loss: 3.4882\n",
      "\n",
      "Testing for epoch 25 index 3:\n",
      "65/65 [==============================] - 0s 451us/step\n",
      "16/16 [==============================] - 0s 741us/step - loss: 0.0352\n",
      "16/16 [==============================] - 0s 753us/step - loss: 3.5272\n",
      "16/16 [==============================] - 0s 769us/step - loss: 3.5272\n"
     ]
    },
    {
     "name": "stderr",
     "output_type": "stream",
     "text": [
      "2023-05-13 18:26:39.649895: I tensorflow/core/common_runtime/executor.cc:1197] [/device:CPU:0] (DEBUG INFO) Executor start aborting (this does not indicate an error and you can ignore this message): INVALID_ARGUMENT: You must feed a value for placeholder tensor 'Placeholder/_1' with dtype int64 and shape [1000]\n",
      "\t [[{{node Placeholder/_1}}]]\n"
     ]
    },
    {
     "name": "stdout",
     "output_type": "stream",
     "text": [
      "16/16 [==============================] - 0s 768us/step - loss: 3.5272\n",
      "16/16 [==============================] - 0s 786us/step - loss: 3.5272\n",
      "16/16 [==============================] - 0s 737us/step - loss: 3.5272\n",
      "16/16 [==============================] - 0s 723us/step - loss: 3.5272\n",
      "16/16 [==============================] - 0s 797us/step - loss: 3.5272\n",
      "16/16 [==============================] - 0s 790us/step - loss: 3.5272\n",
      "16/16 [==============================] - 0s 727us/step - loss: 3.5272\n",
      "\n",
      "Testing for epoch 25 index 4:\n",
      "65/65 [==============================] - 0s 438us/step\n",
      "16/16 [==============================] - 0s 707us/step - loss: 0.0344\n",
      "16/16 [==============================] - 0s 761us/step - loss: 3.5187\n",
      "16/16 [==============================] - 0s 767us/step - loss: 3.5187\n"
     ]
    },
    {
     "name": "stderr",
     "output_type": "stream",
     "text": [
      "2023-05-13 18:26:40.321711: I tensorflow/core/common_runtime/executor.cc:1197] [/device:CPU:0] (DEBUG INFO) Executor start aborting (this does not indicate an error and you can ignore this message): INVALID_ARGUMENT: You must feed a value for placeholder tensor 'Placeholder/_1' with dtype int64 and shape [1000]\n",
      "\t [[{{node Placeholder/_1}}]]\n"
     ]
    },
    {
     "name": "stdout",
     "output_type": "stream",
     "text": [
      "16/16 [==============================] - 0s 737us/step - loss: 3.5187\n",
      "16/16 [==============================] - 0s 710us/step - loss: 3.5187\n",
      "16/16 [==============================] - 0s 671us/step - loss: 3.5187\n",
      "16/16 [==============================] - 0s 669us/step - loss: 3.5187\n",
      "16/16 [==============================] - 0s 671us/step - loss: 3.5187\n",
      "16/16 [==============================] - 0s 695us/step - loss: 3.5187\n",
      "16/16 [==============================] - 0s 708us/step - loss: 3.5187\n",
      "Epoch 26 of 60\n",
      "\n",
      "Testing for epoch 26 index 1:\n",
      "65/65 [==============================] - 0s 432us/step\n",
      "16/16 [==============================] - 0s 713us/step - loss: 0.0340\n",
      "16/16 [==============================] - 0s 708us/step - loss: 3.5369\n",
      "16/16 [==============================] - 0s 673us/step - loss: 3.5369\n",
      " 1/16 [>.............................] - ETA: 0s - loss: 3.4800"
     ]
    },
    {
     "name": "stderr",
     "output_type": "stream",
     "text": [
      "2023-05-13 18:26:40.982632: I tensorflow/core/common_runtime/executor.cc:1197] [/device:CPU:0] (DEBUG INFO) Executor start aborting (this does not indicate an error and you can ignore this message): INVALID_ARGUMENT: You must feed a value for placeholder tensor 'Placeholder/_1' with dtype int64 and shape [1000]\n",
      "\t [[{{node Placeholder/_1}}]]\n"
     ]
    },
    {
     "name": "stdout",
     "output_type": "stream",
     "text": [
      "16/16 [==============================] - 0s 688us/step - loss: 3.5369\n",
      "16/16 [==============================] - 0s 706us/step - loss: 3.5369\n",
      "16/16 [==============================] - 0s 752us/step - loss: 3.5369\n",
      "16/16 [==============================] - 0s 735us/step - loss: 3.5369\n",
      "16/16 [==============================] - 0s 786us/step - loss: 3.5369\n",
      "16/16 [==============================] - 0s 783us/step - loss: 3.5369\n",
      "16/16 [==============================] - 0s 755us/step - loss: 3.5369\n",
      "\n",
      "Testing for epoch 26 index 2:\n",
      "65/65 [==============================] - 0s 454us/step\n",
      "16/16 [==============================] - 0s 703us/step - loss: 0.0333\n",
      "16/16 [==============================] - 0s 670us/step - loss: 3.5746\n",
      "16/16 [==============================] - 0s 842us/step - loss: 3.5746\n"
     ]
    },
    {
     "name": "stderr",
     "output_type": "stream",
     "text": [
      "2023-05-13 18:26:41.653900: I tensorflow/core/common_runtime/executor.cc:1197] [/device:CPU:0] (DEBUG INFO) Executor start aborting (this does not indicate an error and you can ignore this message): INVALID_ARGUMENT: You must feed a value for placeholder tensor 'Placeholder/_1' with dtype int64 and shape [1000]\n",
      "\t [[{{node Placeholder/_1}}]]\n"
     ]
    },
    {
     "name": "stdout",
     "output_type": "stream",
     "text": [
      "16/16 [==============================] - 0s 679us/step - loss: 3.5746\n",
      "16/16 [==============================] - 0s 812us/step - loss: 3.5746\n",
      "16/16 [==============================] - 0s 766us/step - loss: 3.5746\n",
      "16/16 [==============================] - 0s 687us/step - loss: 3.5746\n",
      "16/16 [==============================] - 0s 787us/step - loss: 3.5746\n",
      "16/16 [==============================] - 0s 747us/step - loss: 3.5746\n",
      "16/16 [==============================] - 0s 778us/step - loss: 3.5746\n",
      "\n",
      "Testing for epoch 26 index 3:\n",
      "65/65 [==============================] - 0s 450us/step\n",
      "16/16 [==============================] - 0s 676us/step - loss: 0.0327\n",
      "16/16 [==============================] - 0s 758us/step - loss: 3.5818\n",
      "16/16 [==============================] - 0s 710us/step - loss: 3.5818\n",
      " 1/16 [>.............................] - ETA: 0s - loss: 3.6272"
     ]
    },
    {
     "name": "stderr",
     "output_type": "stream",
     "text": [
      "2023-05-13 18:26:42.329158: I tensorflow/core/common_runtime/executor.cc:1197] [/device:CPU:0] (DEBUG INFO) Executor start aborting (this does not indicate an error and you can ignore this message): INVALID_ARGUMENT: You must feed a value for placeholder tensor 'Placeholder/_1' with dtype int64 and shape [1000]\n",
      "\t [[{{node Placeholder/_1}}]]\n"
     ]
    },
    {
     "name": "stdout",
     "output_type": "stream",
     "text": [
      "16/16 [==============================] - 0s 792us/step - loss: 3.5818\n",
      "16/16 [==============================] - 0s 756us/step - loss: 3.5818\n",
      "16/16 [==============================] - 0s 888us/step - loss: 3.5818\n",
      "16/16 [==============================] - 0s 716us/step - loss: 3.5818\n",
      "16/16 [==============================] - 0s 741us/step - loss: 3.5818\n",
      "16/16 [==============================] - 0s 708us/step - loss: 3.5818\n",
      "16/16 [==============================] - 0s 711us/step - loss: 3.5818\n",
      "\n",
      "Testing for epoch 26 index 4:\n",
      "65/65 [==============================] - 0s 450us/step\n",
      "16/16 [==============================] - 0s 717us/step - loss: 0.0320\n",
      "16/16 [==============================] - 0s 803us/step - loss: 3.6176\n",
      "16/16 [==============================] - 0s 757us/step - loss: 3.6176\n"
     ]
    },
    {
     "name": "stderr",
     "output_type": "stream",
     "text": [
      "2023-05-13 18:26:43.004686: I tensorflow/core/common_runtime/executor.cc:1197] [/device:CPU:0] (DEBUG INFO) Executor start aborting (this does not indicate an error and you can ignore this message): INVALID_ARGUMENT: You must feed a value for placeholder tensor 'Placeholder/_1' with dtype int64 and shape [1000]\n",
      "\t [[{{node Placeholder/_1}}]]\n"
     ]
    },
    {
     "name": "stdout",
     "output_type": "stream",
     "text": [
      "16/16 [==============================] - 0s 715us/step - loss: 3.6176\n",
      "16/16 [==============================] - 0s 758us/step - loss: 3.6176\n",
      "16/16 [==============================] - 0s 765us/step - loss: 3.6176\n",
      "16/16 [==============================] - 0s 793us/step - loss: 3.6176\n",
      "16/16 [==============================] - 0s 768us/step - loss: 3.6176\n",
      "16/16 [==============================] - 0s 675us/step - loss: 3.6176\n",
      "16/16 [==============================] - 0s 663us/step - loss: 3.6176\n",
      "Epoch 27 of 60\n",
      "\n",
      "Testing for epoch 27 index 1:\n",
      "65/65 [==============================] - 0s 450us/step\n",
      "16/16 [==============================] - 0s 817us/step - loss: 0.0315\n",
      "16/16 [==============================] - 0s 784us/step - loss: 3.6518\n",
      "16/16 [==============================] - 0s 709us/step - loss: 3.6518\n"
     ]
    },
    {
     "name": "stderr",
     "output_type": "stream",
     "text": [
      "2023-05-13 18:26:43.681364: I tensorflow/core/common_runtime/executor.cc:1197] [/device:CPU:0] (DEBUG INFO) Executor start aborting (this does not indicate an error and you can ignore this message): INVALID_ARGUMENT: You must feed a value for placeholder tensor 'Placeholder/_1' with dtype int64 and shape [1000]\n",
      "\t [[{{node Placeholder/_1}}]]\n"
     ]
    },
    {
     "name": "stdout",
     "output_type": "stream",
     "text": [
      "16/16 [==============================] - 0s 774us/step - loss: 3.6518\n",
      "16/16 [==============================] - 0s 762us/step - loss: 3.6518\n",
      "16/16 [==============================] - 0s 791us/step - loss: 3.6518\n",
      "16/16 [==============================] - 0s 778us/step - loss: 3.6518\n",
      "16/16 [==============================] - 0s 742us/step - loss: 3.6518\n",
      "16/16 [==============================] - 0s 724us/step - loss: 3.6518\n",
      "16/16 [==============================] - 0s 685us/step - loss: 3.6518\n",
      "\n",
      "Testing for epoch 27 index 2:\n",
      "65/65 [==============================] - 0s 457us/step\n",
      "16/16 [==============================] - 0s 791us/step - loss: 0.0310\n",
      "16/16 [==============================] - 0s 690us/step - loss: 3.6569\n",
      "16/16 [==============================] - 0s 861us/step - loss: 3.6569\n"
     ]
    },
    {
     "name": "stderr",
     "output_type": "stream",
     "text": [
      "2023-05-13 18:26:44.366191: I tensorflow/core/common_runtime/executor.cc:1197] [/device:CPU:0] (DEBUG INFO) Executor start aborting (this does not indicate an error and you can ignore this message): INVALID_ARGUMENT: You must feed a value for placeholder tensor 'Placeholder/_1' with dtype int64 and shape [1000]\n",
      "\t [[{{node Placeholder/_1}}]]\n"
     ]
    },
    {
     "name": "stdout",
     "output_type": "stream",
     "text": [
      "16/16 [==============================] - 0s 713us/step - loss: 3.6569\n",
      "16/16 [==============================] - 0s 661us/step - loss: 3.6569\n",
      "16/16 [==============================] - 0s 689us/step - loss: 3.6569\n",
      "16/16 [==============================] - 0s 725us/step - loss: 3.6569\n",
      "16/16 [==============================] - 0s 743us/step - loss: 3.6569\n",
      "16/16 [==============================] - 0s 830us/step - loss: 3.6569\n",
      "16/16 [==============================] - 0s 754us/step - loss: 3.6569\n",
      "\n",
      "Testing for epoch 27 index 3:\n",
      "65/65 [==============================] - 0s 488us/step\n",
      "16/16 [==============================] - 0s 796us/step - loss: 0.0304\n",
      "16/16 [==============================] - 0s 702us/step - loss: 3.6611\n",
      "16/16 [==============================] - 0s 736us/step - loss: 3.6611\n"
     ]
    },
    {
     "name": "stderr",
     "output_type": "stream",
     "text": [
      "2023-05-13 18:26:45.061422: I tensorflow/core/common_runtime/executor.cc:1197] [/device:CPU:0] (DEBUG INFO) Executor start aborting (this does not indicate an error and you can ignore this message): INVALID_ARGUMENT: You must feed a value for placeholder tensor 'Placeholder/_1' with dtype int64 and shape [1000]\n",
      "\t [[{{node Placeholder/_1}}]]\n"
     ]
    },
    {
     "name": "stdout",
     "output_type": "stream",
     "text": [
      "16/16 [==============================] - 0s 734us/step - loss: 3.6611\n",
      "16/16 [==============================] - 0s 688us/step - loss: 3.6611\n",
      "16/16 [==============================] - 0s 701us/step - loss: 3.6611\n",
      "16/16 [==============================] - 0s 687us/step - loss: 3.6611\n",
      "16/16 [==============================] - 0s 711us/step - loss: 3.6611\n",
      "16/16 [==============================] - 0s 663us/step - loss: 3.6611\n",
      "16/16 [==============================] - 0s 783us/step - loss: 3.6611\n",
      "\n",
      "Testing for epoch 27 index 4:\n",
      "65/65 [==============================] - 0s 437us/step\n",
      "16/16 [==============================] - 0s 808us/step - loss: 0.0300\n",
      "16/16 [==============================] - 0s 691us/step - loss: 3.6668\n",
      "16/16 [==============================] - 0s 670us/step - loss: 3.6668\n"
     ]
    },
    {
     "name": "stderr",
     "output_type": "stream",
     "text": [
      "2023-05-13 18:26:45.752754: I tensorflow/core/common_runtime/executor.cc:1197] [/device:CPU:0] (DEBUG INFO) Executor start aborting (this does not indicate an error and you can ignore this message): INVALID_ARGUMENT: You must feed a value for placeholder tensor 'Placeholder/_1' with dtype int64 and shape [1000]\n",
      "\t [[{{node Placeholder/_1}}]]\n"
     ]
    },
    {
     "name": "stdout",
     "output_type": "stream",
     "text": [
      "16/16 [==============================] - 0s 696us/step - loss: 3.6668\n",
      "16/16 [==============================] - 0s 788us/step - loss: 3.6668\n",
      "16/16 [==============================] - 0s 674us/step - loss: 3.6668\n",
      "16/16 [==============================] - 0s 678us/step - loss: 3.6668\n",
      "16/16 [==============================] - 0s 681us/step - loss: 3.6668\n",
      "16/16 [==============================] - 0s 734us/step - loss: 3.6668\n",
      "16/16 [==============================] - 0s 724us/step - loss: 3.6668\n",
      "Epoch 28 of 60\n",
      "\n",
      "Testing for epoch 28 index 1:\n",
      "65/65 [==============================] - 0s 432us/step\n",
      "16/16 [==============================] - 0s 789us/step - loss: 0.0296\n",
      "16/16 [==============================] - 0s 714us/step - loss: 3.6600\n",
      "16/16 [==============================] - 0s 734us/step - loss: 3.6600\n"
     ]
    },
    {
     "name": "stderr",
     "output_type": "stream",
     "text": [
      "2023-05-13 18:26:46.429833: I tensorflow/core/common_runtime/executor.cc:1197] [/device:CPU:0] (DEBUG INFO) Executor start aborting (this does not indicate an error and you can ignore this message): INVALID_ARGUMENT: You must feed a value for placeholder tensor 'Placeholder/_1' with dtype int64 and shape [1000]\n",
      "\t [[{{node Placeholder/_1}}]]\n"
     ]
    },
    {
     "name": "stdout",
     "output_type": "stream",
     "text": [
      "16/16 [==============================] - 0s 704us/step - loss: 3.6600\n",
      "16/16 [==============================] - 0s 675us/step - loss: 3.6600\n",
      "16/16 [==============================] - 0s 700us/step - loss: 3.6600\n",
      "16/16 [==============================] - 0s 672us/step - loss: 3.6600\n",
      "16/16 [==============================] - 0s 699us/step - loss: 3.6600\n",
      "16/16 [==============================] - 0s 702us/step - loss: 3.6600\n",
      "16/16 [==============================] - 0s 786us/step - loss: 3.6600\n",
      "\n",
      "Testing for epoch 28 index 2:\n",
      "65/65 [==============================] - 0s 435us/step\n",
      "16/16 [==============================] - 0s 783us/step - loss: 0.0292\n",
      "16/16 [==============================] - 0s 735us/step - loss: 3.7007\n",
      "16/16 [==============================] - 0s 738us/step - loss: 3.7007\n"
     ]
    },
    {
     "name": "stderr",
     "output_type": "stream",
     "text": [
      "2023-05-13 18:26:47.112420: I tensorflow/core/common_runtime/executor.cc:1197] [/device:CPU:0] (DEBUG INFO) Executor start aborting (this does not indicate an error and you can ignore this message): INVALID_ARGUMENT: You must feed a value for placeholder tensor 'Placeholder/_1' with dtype int64 and shape [1000]\n",
      "\t [[{{node Placeholder/_1}}]]\n"
     ]
    },
    {
     "name": "stdout",
     "output_type": "stream",
     "text": [
      "16/16 [==============================] - 0s 713us/step - loss: 3.7007\n",
      "16/16 [==============================] - 0s 728us/step - loss: 3.7007\n",
      "16/16 [==============================] - 0s 693us/step - loss: 3.7007\n",
      "16/16 [==============================] - 0s 713us/step - loss: 3.7007\n",
      "16/16 [==============================] - 0s 783us/step - loss: 3.7007\n",
      "16/16 [==============================] - 0s 699us/step - loss: 3.7007\n",
      "16/16 [==============================] - 0s 797us/step - loss: 3.7007\n",
      "\n",
      "Testing for epoch 28 index 3:\n",
      "65/65 [==============================] - 0s 433us/step\n",
      "16/16 [==============================] - 0s 694us/step - loss: 0.0287\n",
      "16/16 [==============================] - 0s 689us/step - loss: 3.7082\n",
      "16/16 [==============================] - 0s 728us/step - loss: 3.7082\n"
     ]
    },
    {
     "name": "stderr",
     "output_type": "stream",
     "text": [
      "2023-05-13 18:26:47.783365: I tensorflow/core/common_runtime/executor.cc:1197] [/device:CPU:0] (DEBUG INFO) Executor start aborting (this does not indicate an error and you can ignore this message): INVALID_ARGUMENT: You must feed a value for placeholder tensor 'Placeholder/_1' with dtype int64 and shape [1000]\n",
      "\t [[{{node Placeholder/_1}}]]\n"
     ]
    },
    {
     "name": "stdout",
     "output_type": "stream",
     "text": [
      "16/16 [==============================] - 0s 708us/step - loss: 3.7082\n",
      "16/16 [==============================] - 0s 710us/step - loss: 3.7082\n",
      "16/16 [==============================] - 0s 775us/step - loss: 3.7082\n",
      "16/16 [==============================] - 0s 700us/step - loss: 3.7082\n",
      "16/16 [==============================] - 0s 770us/step - loss: 3.7082\n",
      "16/16 [==============================] - 0s 714us/step - loss: 3.7082\n",
      "16/16 [==============================] - 0s 700us/step - loss: 3.7082\n",
      "\n",
      "Testing for epoch 28 index 4:\n",
      "65/65 [==============================] - 0s 435us/step\n",
      "16/16 [==============================] - 0s 661us/step - loss: 0.0282\n",
      "16/16 [==============================] - 0s 702us/step - loss: 3.7178\n",
      "16/16 [==============================] - 0s 698us/step - loss: 3.7178\n",
      " 1/16 [>.............................] - ETA: 0s - loss: 3.7597"
     ]
    },
    {
     "name": "stderr",
     "output_type": "stream",
     "text": [
      "2023-05-13 18:26:48.462059: I tensorflow/core/common_runtime/executor.cc:1197] [/device:CPU:0] (DEBUG INFO) Executor start aborting (this does not indicate an error and you can ignore this message): INVALID_ARGUMENT: You must feed a value for placeholder tensor 'Placeholder/_1' with dtype int64 and shape [1000]\n",
      "\t [[{{node Placeholder/_1}}]]\n"
     ]
    },
    {
     "name": "stdout",
     "output_type": "stream",
     "text": [
      "16/16 [==============================] - 0s 730us/step - loss: 3.7178\n",
      "16/16 [==============================] - 0s 697us/step - loss: 3.7178\n",
      "16/16 [==============================] - 0s 702us/step - loss: 3.7178\n",
      "16/16 [==============================] - 0s 745us/step - loss: 3.7178\n",
      "16/16 [==============================] - 0s 711us/step - loss: 3.7178\n",
      "16/16 [==============================] - 0s 872us/step - loss: 3.7178\n",
      "16/16 [==============================] - 0s 799us/step - loss: 3.7178\n",
      "Epoch 29 of 60\n",
      "\n",
      "Testing for epoch 29 index 1:\n",
      "65/65 [==============================] - 0s 438us/step\n",
      "16/16 [==============================] - 0s 717us/step - loss: 0.0279\n",
      "16/16 [==============================] - 0s 680us/step - loss: 3.7678\n",
      "16/16 [==============================] - 0s 713us/step - loss: 3.7678\n"
     ]
    },
    {
     "name": "stderr",
     "output_type": "stream",
     "text": [
      "2023-05-13 18:26:49.140183: I tensorflow/core/common_runtime/executor.cc:1197] [/device:CPU:0] (DEBUG INFO) Executor start aborting (this does not indicate an error and you can ignore this message): INVALID_ARGUMENT: You must feed a value for placeholder tensor 'Placeholder/_1' with dtype int64 and shape [1000]\n",
      "\t [[{{node Placeholder/_1}}]]\n"
     ]
    },
    {
     "name": "stdout",
     "output_type": "stream",
     "text": [
      "16/16 [==============================] - 0s 697us/step - loss: 3.7678\n",
      "16/16 [==============================] - 0s 724us/step - loss: 3.7678\n",
      "16/16 [==============================] - 0s 735us/step - loss: 3.7678\n",
      "16/16 [==============================] - 0s 728us/step - loss: 3.7678\n",
      "16/16 [==============================] - 0s 710us/step - loss: 3.7678\n",
      "16/16 [==============================] - 0s 740us/step - loss: 3.7678\n",
      "16/16 [==============================] - 0s 723us/step - loss: 3.7678\n",
      "\n",
      "Testing for epoch 29 index 2:\n",
      "65/65 [==============================] - 0s 475us/step\n",
      "16/16 [==============================] - 0s 649us/step - loss: 0.0274\n",
      "16/16 [==============================] - 0s 695us/step - loss: 3.7576\n",
      "16/16 [==============================] - 0s 733us/step - loss: 3.7576\n"
     ]
    },
    {
     "name": "stderr",
     "output_type": "stream",
     "text": [
      "2023-05-13 18:26:49.822882: I tensorflow/core/common_runtime/executor.cc:1197] [/device:CPU:0] (DEBUG INFO) Executor start aborting (this does not indicate an error and you can ignore this message): INVALID_ARGUMENT: You must feed a value for placeholder tensor 'Placeholder/_1' with dtype int64 and shape [1000]\n",
      "\t [[{{node Placeholder/_1}}]]\n"
     ]
    },
    {
     "name": "stdout",
     "output_type": "stream",
     "text": [
      "16/16 [==============================] - 0s 1ms/step - loss: 3.7576\n",
      "16/16 [==============================] - 0s 870us/step - loss: 3.7576\n",
      "16/16 [==============================] - 0s 883us/step - loss: 3.7576\n",
      "16/16 [==============================] - 0s 873us/step - loss: 3.7576\n",
      "16/16 [==============================] - 0s 837us/step - loss: 3.7576\n",
      "16/16 [==============================] - 0s 709us/step - loss: 3.7576\n",
      "16/16 [==============================] - 0s 801us/step - loss: 3.7576\n",
      "\n",
      "Testing for epoch 29 index 3:\n",
      "65/65 [==============================] - 0s 444us/step\n",
      "16/16 [==============================] - 0s 750us/step - loss: 0.0271\n",
      "16/16 [==============================] - 0s 781us/step - loss: 3.7627\n",
      "16/16 [==============================] - 0s 780us/step - loss: 3.7627\n"
     ]
    },
    {
     "name": "stderr",
     "output_type": "stream",
     "text": [
      "2023-05-13 18:26:50.551573: I tensorflow/core/common_runtime/executor.cc:1197] [/device:CPU:0] (DEBUG INFO) Executor start aborting (this does not indicate an error and you can ignore this message): INVALID_ARGUMENT: You must feed a value for placeholder tensor 'Placeholder/_1' with dtype int64 and shape [1000]\n",
      "\t [[{{node Placeholder/_1}}]]\n"
     ]
    },
    {
     "name": "stdout",
     "output_type": "stream",
     "text": [
      "16/16 [==============================] - 0s 865us/step - loss: 3.7627\n",
      "16/16 [==============================] - 0s 782us/step - loss: 3.7627\n",
      "16/16 [==============================] - 0s 745us/step - loss: 3.7627\n",
      "16/16 [==============================] - 0s 746us/step - loss: 3.7627\n",
      "16/16 [==============================] - 0s 709us/step - loss: 3.7627\n",
      "16/16 [==============================] - 0s 714us/step - loss: 3.7627\n",
      "16/16 [==============================] - 0s 690us/step - loss: 3.7627\n",
      "\n",
      "Testing for epoch 29 index 4:\n",
      "65/65 [==============================] - 0s 439us/step\n",
      "16/16 [==============================] - 0s 758us/step - loss: 0.0267\n",
      "16/16 [==============================] - 0s 857us/step - loss: 3.7633\n",
      "16/16 [==============================] - 0s 809us/step - loss: 3.7633\n"
     ]
    },
    {
     "name": "stderr",
     "output_type": "stream",
     "text": [
      "2023-05-13 18:26:51.235684: I tensorflow/core/common_runtime/executor.cc:1197] [/device:CPU:0] (DEBUG INFO) Executor start aborting (this does not indicate an error and you can ignore this message): INVALID_ARGUMENT: You must feed a value for placeholder tensor 'Placeholder/_1' with dtype int64 and shape [1000]\n",
      "\t [[{{node Placeholder/_1}}]]\n"
     ]
    },
    {
     "name": "stdout",
     "output_type": "stream",
     "text": [
      "16/16 [==============================] - 0s 735us/step - loss: 3.7633\n",
      "16/16 [==============================] - 0s 753us/step - loss: 3.7633\n",
      "16/16 [==============================] - 0s 710us/step - loss: 3.7633\n",
      "16/16 [==============================] - 0s 780us/step - loss: 3.7633\n",
      "16/16 [==============================] - 0s 705us/step - loss: 3.7633\n",
      "16/16 [==============================] - 0s 780us/step - loss: 3.7633\n",
      "16/16 [==============================] - 0s 724us/step - loss: 3.7633\n",
      "Epoch 30 of 60\n",
      "\n",
      "Testing for epoch 30 index 1:\n",
      "65/65 [==============================] - 0s 482us/step\n",
      "16/16 [==============================] - 0s 718us/step - loss: 0.0264\n",
      "16/16 [==============================] - 0s 798us/step - loss: 3.7789\n",
      "16/16 [==============================] - 0s 728us/step - loss: 3.7789\n"
     ]
    },
    {
     "name": "stderr",
     "output_type": "stream",
     "text": [
      "2023-05-13 18:26:51.919495: I tensorflow/core/common_runtime/executor.cc:1197] [/device:CPU:0] (DEBUG INFO) Executor start aborting (this does not indicate an error and you can ignore this message): INVALID_ARGUMENT: You must feed a value for placeholder tensor 'Placeholder/_1' with dtype int64 and shape [1000]\n",
      "\t [[{{node Placeholder/_1}}]]\n"
     ]
    },
    {
     "name": "stdout",
     "output_type": "stream",
     "text": [
      "16/16 [==============================] - 0s 820us/step - loss: 3.7789\n",
      "16/16 [==============================] - 0s 803us/step - loss: 3.7789\n",
      "16/16 [==============================] - 0s 782us/step - loss: 3.7789\n",
      "16/16 [==============================] - 0s 679us/step - loss: 3.7789\n",
      "16/16 [==============================] - 0s 713us/step - loss: 3.7789\n",
      "16/16 [==============================] - 0s 686us/step - loss: 3.7789\n",
      "16/16 [==============================] - 0s 704us/step - loss: 3.7789\n",
      "\n",
      "Testing for epoch 30 index 2:\n",
      "65/65 [==============================] - 0s 418us/step\n",
      "16/16 [==============================] - 0s 743us/step - loss: 0.0260\n",
      "16/16 [==============================] - 0s 790us/step - loss: 3.8216\n",
      "16/16 [==============================] - 0s 728us/step - loss: 3.8216\n"
     ]
    },
    {
     "name": "stderr",
     "output_type": "stream",
     "text": [
      "2023-05-13 18:26:52.594511: I tensorflow/core/common_runtime/executor.cc:1197] [/device:CPU:0] (DEBUG INFO) Executor start aborting (this does not indicate an error and you can ignore this message): INVALID_ARGUMENT: You must feed a value for placeholder tensor 'Placeholder/_1' with dtype int64 and shape [1000]\n",
      "\t [[{{node Placeholder/_1}}]]\n"
     ]
    },
    {
     "name": "stdout",
     "output_type": "stream",
     "text": [
      "16/16 [==============================] - 0s 808us/step - loss: 3.8216\n",
      "16/16 [==============================] - 0s 711us/step - loss: 3.8216\n",
      "16/16 [==============================] - 0s 662us/step - loss: 3.8216\n",
      "16/16 [==============================] - 0s 668us/step - loss: 3.8216\n",
      "16/16 [==============================] - 0s 705us/step - loss: 3.8216\n",
      "16/16 [==============================] - 0s 698us/step - loss: 3.8216\n",
      "16/16 [==============================] - 0s 674us/step - loss: 3.8216\n",
      "\n",
      "Testing for epoch 30 index 3:\n",
      "65/65 [==============================] - 0s 441us/step\n",
      "16/16 [==============================] - 0s 680us/step - loss: 0.0256\n",
      "16/16 [==============================] - 0s 684us/step - loss: 3.8463\n",
      "16/16 [==============================] - 0s 692us/step - loss: 3.8463\n"
     ]
    },
    {
     "name": "stderr",
     "output_type": "stream",
     "text": [
      "2023-05-13 18:26:53.256054: I tensorflow/core/common_runtime/executor.cc:1197] [/device:CPU:0] (DEBUG INFO) Executor start aborting (this does not indicate an error and you can ignore this message): INVALID_ARGUMENT: You must feed a value for placeholder tensor 'Placeholder/_1' with dtype int64 and shape [1000]\n",
      "\t [[{{node Placeholder/_1}}]]\n"
     ]
    },
    {
     "name": "stdout",
     "output_type": "stream",
     "text": [
      "16/16 [==============================] - 0s 915us/step - loss: 3.8463\n",
      "16/16 [==============================] - 0s 786us/step - loss: 3.8463\n",
      "16/16 [==============================] - 0s 836us/step - loss: 3.8463\n",
      "16/16 [==============================] - 0s 803us/step - loss: 3.8463\n",
      "16/16 [==============================] - 0s 736us/step - loss: 3.8463\n",
      "16/16 [==============================] - 0s 675us/step - loss: 3.8463\n",
      "16/16 [==============================] - 0s 710us/step - loss: 3.8463\n",
      "\n",
      "Testing for epoch 30 index 4:\n",
      "65/65 [==============================] - 0s 440us/step\n",
      "16/16 [==============================] - 0s 723us/step - loss: 0.0253\n",
      "16/16 [==============================] - 0s 694us/step - loss: 3.8146\n",
      "16/16 [==============================] - 0s 727us/step - loss: 3.8146\n"
     ]
    },
    {
     "name": "stderr",
     "output_type": "stream",
     "text": [
      "2023-05-13 18:26:53.937356: I tensorflow/core/common_runtime/executor.cc:1197] [/device:CPU:0] (DEBUG INFO) Executor start aborting (this does not indicate an error and you can ignore this message): INVALID_ARGUMENT: You must feed a value for placeholder tensor 'Placeholder/_1' with dtype int64 and shape [1000]\n",
      "\t [[{{node Placeholder/_1}}]]\n"
     ]
    },
    {
     "name": "stdout",
     "output_type": "stream",
     "text": [
      "16/16 [==============================] - 0s 810us/step - loss: 3.8146\n",
      "16/16 [==============================] - 0s 750us/step - loss: 3.8146\n",
      "16/16 [==============================] - 0s 738us/step - loss: 3.8146\n",
      "16/16 [==============================] - 0s 780us/step - loss: 3.8146\n",
      "16/16 [==============================] - 0s 690us/step - loss: 3.8146\n",
      "16/16 [==============================] - 0s 733us/step - loss: 3.8146\n",
      "16/16 [==============================] - 0s 841us/step - loss: 3.8146\n",
      "Epoch 31 of 60\n",
      "\n",
      "Testing for epoch 31 index 1:\n",
      "65/65 [==============================] - 0s 463us/step\n",
      "16/16 [==============================] - 0s 673us/step - loss: 0.0250\n",
      "16/16 [==============================] - 0s 680us/step - loss: 3.8557\n",
      "16/16 [==============================] - 0s 728us/step - loss: 3.8557\n"
     ]
    },
    {
     "name": "stderr",
     "output_type": "stream",
     "text": [
      "2023-05-13 18:26:54.620746: I tensorflow/core/common_runtime/executor.cc:1197] [/device:CPU:0] (DEBUG INFO) Executor start aborting (this does not indicate an error and you can ignore this message): INVALID_ARGUMENT: You must feed a value for placeholder tensor 'Placeholder/_1' with dtype int64 and shape [1000]\n",
      "\t [[{{node Placeholder/_1}}]]\n"
     ]
    },
    {
     "name": "stdout",
     "output_type": "stream",
     "text": [
      "16/16 [==============================] - 0s 777us/step - loss: 3.8557\n",
      "16/16 [==============================] - 0s 698us/step - loss: 3.8557\n",
      "16/16 [==============================] - 0s 707us/step - loss: 3.8557\n",
      "16/16 [==============================] - 0s 801us/step - loss: 3.8557\n",
      "16/16 [==============================] - 0s 794us/step - loss: 3.8557\n",
      "16/16 [==============================] - 0s 791us/step - loss: 3.8557\n",
      "16/16 [==============================] - 0s 752us/step - loss: 3.8557\n",
      "\n",
      "Testing for epoch 31 index 2:\n",
      "65/65 [==============================] - 0s 466us/step\n",
      "16/16 [==============================] - 0s 741us/step - loss: 0.0246\n",
      "16/16 [==============================] - 0s 737us/step - loss: 3.8355\n",
      "16/16 [==============================] - 0s 787us/step - loss: 3.8355\n"
     ]
    },
    {
     "name": "stderr",
     "output_type": "stream",
     "text": [
      "2023-05-13 18:26:55.305417: I tensorflow/core/common_runtime/executor.cc:1197] [/device:CPU:0] (DEBUG INFO) Executor start aborting (this does not indicate an error and you can ignore this message): INVALID_ARGUMENT: You must feed a value for placeholder tensor 'Placeholder/_1' with dtype int64 and shape [1000]\n",
      "\t [[{{node Placeholder/_1}}]]\n"
     ]
    },
    {
     "name": "stdout",
     "output_type": "stream",
     "text": [
      "16/16 [==============================] - 0s 684us/step - loss: 3.8355\n",
      "16/16 [==============================] - 0s 661us/step - loss: 3.8355\n",
      "16/16 [==============================] - 0s 687us/step - loss: 3.8355\n",
      "16/16 [==============================] - 0s 744us/step - loss: 3.8355\n",
      "16/16 [==============================] - 0s 739us/step - loss: 3.8355\n",
      "16/16 [==============================] - 0s 700us/step - loss: 3.8355\n",
      "16/16 [==============================] - 0s 815us/step - loss: 3.8355\n",
      "\n",
      "Testing for epoch 31 index 3:\n",
      "65/65 [==============================] - 0s 505us/step\n",
      "16/16 [==============================] - 0s 746us/step - loss: 0.0243\n",
      "16/16 [==============================] - 0s 751us/step - loss: 3.8740\n",
      "16/16 [==============================] - 0s 702us/step - loss: 3.8739\n"
     ]
    },
    {
     "name": "stderr",
     "output_type": "stream",
     "text": [
      "2023-05-13 18:26:55.979344: I tensorflow/core/common_runtime/executor.cc:1197] [/device:CPU:0] (DEBUG INFO) Executor start aborting (this does not indicate an error and you can ignore this message): INVALID_ARGUMENT: You must feed a value for placeholder tensor 'Placeholder/_1' with dtype int64 and shape [1000]\n",
      "\t [[{{node Placeholder/_1}}]]\n"
     ]
    },
    {
     "name": "stdout",
     "output_type": "stream",
     "text": [
      "16/16 [==============================] - 0s 734us/step - loss: 3.8739\n",
      "16/16 [==============================] - 0s 746us/step - loss: 3.8739\n",
      "16/16 [==============================] - 0s 668us/step - loss: 3.8739\n",
      "16/16 [==============================] - 0s 724us/step - loss: 3.8739\n",
      "16/16 [==============================] - 0s 707us/step - loss: 3.8739\n",
      "16/16 [==============================] - 0s 755us/step - loss: 3.8739\n",
      "16/16 [==============================] - 0s 729us/step - loss: 3.8739\n",
      "\n",
      "Testing for epoch 31 index 4:\n",
      "65/65 [==============================] - 0s 474us/step\n",
      "16/16 [==============================] - 0s 672us/step - loss: 0.0239\n",
      "16/16 [==============================] - 0s 717us/step - loss: 3.9086\n",
      "16/16 [==============================] - 0s 734us/step - loss: 3.9085\n"
     ]
    },
    {
     "name": "stderr",
     "output_type": "stream",
     "text": [
      "2023-05-13 18:26:56.672897: I tensorflow/core/common_runtime/executor.cc:1197] [/device:CPU:0] (DEBUG INFO) Executor start aborting (this does not indicate an error and you can ignore this message): INVALID_ARGUMENT: You must feed a value for placeholder tensor 'Placeholder/_1' with dtype int64 and shape [1000]\n",
      "\t [[{{node Placeholder/_1}}]]\n"
     ]
    },
    {
     "name": "stdout",
     "output_type": "stream",
     "text": [
      "16/16 [==============================] - 0s 716us/step - loss: 3.9085\n",
      "16/16 [==============================] - 0s 748us/step - loss: 3.9085\n",
      "16/16 [==============================] - 0s 729us/step - loss: 3.9085\n",
      "16/16 [==============================] - 0s 752us/step - loss: 3.9085\n",
      "16/16 [==============================] - 0s 738us/step - loss: 3.9085\n",
      "16/16 [==============================] - 0s 766us/step - loss: 3.9085\n",
      "16/16 [==============================] - 0s 709us/step - loss: 3.9085\n",
      "Epoch 32 of 60\n",
      "\n",
      "Testing for epoch 32 index 1:\n",
      "65/65 [==============================] - 0s 434us/step\n",
      "16/16 [==============================] - 0s 704us/step - loss: 0.0236\n",
      "16/16 [==============================] - 0s 674us/step - loss: 3.9027\n",
      "16/16 [==============================] - 0s 677us/step - loss: 3.9027\n",
      " 1/16 [>.............................] - ETA: 0s - loss: 3.9138"
     ]
    },
    {
     "name": "stderr",
     "output_type": "stream",
     "text": [
      "2023-05-13 18:26:57.356841: I tensorflow/core/common_runtime/executor.cc:1197] [/device:CPU:0] (DEBUG INFO) Executor start aborting (this does not indicate an error and you can ignore this message): INVALID_ARGUMENT: You must feed a value for placeholder tensor 'Placeholder/_1' with dtype int64 and shape [1000]\n",
      "\t [[{{node Placeholder/_1}}]]\n"
     ]
    },
    {
     "name": "stdout",
     "output_type": "stream",
     "text": [
      "16/16 [==============================] - 0s 692us/step - loss: 3.9027\n",
      "16/16 [==============================] - 0s 697us/step - loss: 3.9027\n",
      "16/16 [==============================] - 0s 714us/step - loss: 3.9027\n",
      "16/16 [==============================] - 0s 743us/step - loss: 3.9027\n",
      "16/16 [==============================] - 0s 736us/step - loss: 3.9027\n",
      "16/16 [==============================] - 0s 715us/step - loss: 3.9027\n",
      "16/16 [==============================] - 0s 760us/step - loss: 3.9027\n",
      "\n",
      "Testing for epoch 32 index 2:\n",
      "65/65 [==============================] - 0s 453us/step\n",
      "16/16 [==============================] - 0s 831us/step - loss: 0.0233\n",
      "16/16 [==============================] - 0s 806us/step - loss: 3.8859\n",
      "16/16 [==============================] - 0s 697us/step - loss: 3.8859\n"
     ]
    },
    {
     "name": "stderr",
     "output_type": "stream",
     "text": [
      "2023-05-13 18:26:58.025836: I tensorflow/core/common_runtime/executor.cc:1197] [/device:CPU:0] (DEBUG INFO) Executor start aborting (this does not indicate an error and you can ignore this message): INVALID_ARGUMENT: You must feed a value for placeholder tensor 'Placeholder/_1' with dtype int64 and shape [1000]\n",
      "\t [[{{node Placeholder/_1}}]]\n"
     ]
    },
    {
     "name": "stdout",
     "output_type": "stream",
     "text": [
      "16/16 [==============================] - 0s 698us/step - loss: 3.8859\n",
      "16/16 [==============================] - 0s 726us/step - loss: 3.8859\n",
      "16/16 [==============================] - 0s 716us/step - loss: 3.8859\n",
      "16/16 [==============================] - 0s 765us/step - loss: 3.8859\n",
      "16/16 [==============================] - 0s 719us/step - loss: 3.8859\n",
      "16/16 [==============================] - 0s 835us/step - loss: 3.8859\n",
      "16/16 [==============================] - 0s 734us/step - loss: 3.8859\n",
      "\n",
      "Testing for epoch 32 index 3:\n",
      "65/65 [==============================] - 0s 470us/step\n",
      "16/16 [==============================] - 0s 694us/step - loss: 0.0230\n",
      "16/16 [==============================] - 0s 705us/step - loss: 3.9055\n",
      "16/16 [==============================] - 0s 655us/step - loss: 3.9055\n"
     ]
    },
    {
     "name": "stderr",
     "output_type": "stream",
     "text": [
      "2023-05-13 18:26:58.705268: I tensorflow/core/common_runtime/executor.cc:1197] [/device:CPU:0] (DEBUG INFO) Executor start aborting (this does not indicate an error and you can ignore this message): INVALID_ARGUMENT: You must feed a value for placeholder tensor 'Placeholder/_1' with dtype int64 and shape [1000]\n",
      "\t [[{{node Placeholder/_1}}]]\n"
     ]
    },
    {
     "name": "stdout",
     "output_type": "stream",
     "text": [
      "16/16 [==============================] - 0s 737us/step - loss: 3.9055\n",
      "16/16 [==============================] - 0s 720us/step - loss: 3.9055\n",
      "16/16 [==============================] - 0s 779us/step - loss: 3.9055\n",
      "16/16 [==============================] - 0s 715us/step - loss: 3.9055\n",
      "16/16 [==============================] - 0s 859us/step - loss: 3.9055\n",
      "16/16 [==============================] - 0s 742us/step - loss: 3.9055\n",
      "16/16 [==============================] - 0s 742us/step - loss: 3.9055\n",
      "\n",
      "Testing for epoch 32 index 4:\n",
      "65/65 [==============================] - 0s 451us/step\n",
      "16/16 [==============================] - 0s 708us/step - loss: 0.0228\n",
      "16/16 [==============================] - 0s 713us/step - loss: 3.9176\n",
      "16/16 [==============================] - 0s 851us/step - loss: 3.9176\n"
     ]
    },
    {
     "name": "stderr",
     "output_type": "stream",
     "text": [
      "2023-05-13 18:26:59.376902: I tensorflow/core/common_runtime/executor.cc:1197] [/device:CPU:0] (DEBUG INFO) Executor start aborting (this does not indicate an error and you can ignore this message): INVALID_ARGUMENT: You must feed a value for placeholder tensor 'Placeholder/_1' with dtype int64 and shape [1000]\n",
      "\t [[{{node Placeholder/_1}}]]\n"
     ]
    },
    {
     "name": "stdout",
     "output_type": "stream",
     "text": [
      "16/16 [==============================] - 0s 782us/step - loss: 3.9176\n",
      "16/16 [==============================] - 0s 819us/step - loss: 3.9176\n",
      "16/16 [==============================] - 0s 733us/step - loss: 3.9176\n",
      "16/16 [==============================] - 0s 770us/step - loss: 3.9176\n",
      "16/16 [==============================] - 0s 781us/step - loss: 3.9176\n",
      "16/16 [==============================] - 0s 703us/step - loss: 3.9176\n",
      "16/16 [==============================] - 0s 669us/step - loss: 3.9176\n",
      "Epoch 33 of 60\n",
      "\n",
      "Testing for epoch 33 index 1:\n",
      "65/65 [==============================] - 0s 429us/step\n",
      "16/16 [==============================] - 0s 802us/step - loss: 0.0226\n",
      "16/16 [==============================] - 0s 711us/step - loss: 3.9234\n",
      "16/16 [==============================] - 0s 776us/step - loss: 3.9234\n"
     ]
    },
    {
     "name": "stderr",
     "output_type": "stream",
     "text": [
      "2023-05-13 18:27:00.046918: I tensorflow/core/common_runtime/executor.cc:1197] [/device:CPU:0] (DEBUG INFO) Executor start aborting (this does not indicate an error and you can ignore this message): INVALID_ARGUMENT: You must feed a value for placeholder tensor 'Placeholder/_1' with dtype int64 and shape [1000]\n",
      "\t [[{{node Placeholder/_1}}]]\n"
     ]
    },
    {
     "name": "stdout",
     "output_type": "stream",
     "text": [
      "16/16 [==============================] - 0s 783us/step - loss: 3.9234\n",
      "16/16 [==============================] - 0s 1ms/step - loss: 3.9234\n",
      "16/16 [==============================] - 0s 717us/step - loss: 3.9234\n",
      "16/16 [==============================] - 0s 673us/step - loss: 3.9234\n",
      "16/16 [==============================] - 0s 783us/step - loss: 3.9234\n",
      "16/16 [==============================] - 0s 665us/step - loss: 3.9234\n",
      "16/16 [==============================] - 0s 672us/step - loss: 3.9234\n",
      "\n",
      "Testing for epoch 33 index 2:\n",
      "65/65 [==============================] - 0s 527us/step\n",
      "16/16 [==============================] - 0s 866us/step - loss: 0.0223\n",
      "16/16 [==============================] - 0s 822us/step - loss: 3.9280\n",
      "16/16 [==============================] - 0s 783us/step - loss: 3.9280\n"
     ]
    },
    {
     "name": "stderr",
     "output_type": "stream",
     "text": [
      "2023-05-13 18:27:00.757856: I tensorflow/core/common_runtime/executor.cc:1197] [/device:CPU:0] (DEBUG INFO) Executor start aborting (this does not indicate an error and you can ignore this message): INVALID_ARGUMENT: You must feed a value for placeholder tensor 'Placeholder/_1' with dtype int64 and shape [1000]\n",
      "\t [[{{node Placeholder/_1}}]]\n"
     ]
    },
    {
     "name": "stdout",
     "output_type": "stream",
     "text": [
      "16/16 [==============================] - 0s 856us/step - loss: 3.9280\n",
      "16/16 [==============================] - 0s 711us/step - loss: 3.9280\n",
      "16/16 [==============================] - 0s 724us/step - loss: 3.9280\n",
      "16/16 [==============================] - 0s 781us/step - loss: 3.9280\n",
      "16/16 [==============================] - 0s 716us/step - loss: 3.9280\n",
      "16/16 [==============================] - 0s 819us/step - loss: 3.9280\n",
      "16/16 [==============================] - 0s 1ms/step - loss: 3.9280\n",
      "\n",
      "Testing for epoch 33 index 3:\n",
      "65/65 [==============================] - 0s 454us/step\n",
      "16/16 [==============================] - 0s 774us/step - loss: 0.0221\n",
      "16/16 [==============================] - 0s 750us/step - loss: 3.9779\n",
      "16/16 [==============================] - 0s 723us/step - loss: 3.9778\n"
     ]
    },
    {
     "name": "stderr",
     "output_type": "stream",
     "text": [
      "2023-05-13 18:27:01.486426: I tensorflow/core/common_runtime/executor.cc:1197] [/device:CPU:0] (DEBUG INFO) Executor start aborting (this does not indicate an error and you can ignore this message): INVALID_ARGUMENT: You must feed a value for placeholder tensor 'Placeholder/_1' with dtype int64 and shape [1000]\n",
      "\t [[{{node Placeholder/_1}}]]\n"
     ]
    },
    {
     "name": "stdout",
     "output_type": "stream",
     "text": [
      "16/16 [==============================] - 0s 1ms/step - loss: 3.9779\n",
      "16/16 [==============================] - 0s 865us/step - loss: 3.9779\n",
      "16/16 [==============================] - 0s 793us/step - loss: 3.9779\n",
      "16/16 [==============================] - 0s 894us/step - loss: 3.9779\n",
      "16/16 [==============================] - 0s 872us/step - loss: 3.9779\n",
      "16/16 [==============================] - 0s 773us/step - loss: 3.9779\n",
      "16/16 [==============================] - 0s 864us/step - loss: 3.9779\n",
      "\n",
      "Testing for epoch 33 index 4:\n",
      "65/65 [==============================] - 0s 501us/step\n",
      "16/16 [==============================] - 0s 776us/step - loss: 0.0218\n",
      "16/16 [==============================] - 0s 961us/step - loss: 3.9718\n",
      " 1/16 [>.............................] - ETA: 0s - loss: 3.9390"
     ]
    },
    {
     "name": "stderr",
     "output_type": "stream",
     "text": [
      "2023-05-13 18:27:02.228690: I tensorflow/core/common_runtime/executor.cc:1197] [/device:CPU:0] (DEBUG INFO) Executor start aborting (this does not indicate an error and you can ignore this message): INVALID_ARGUMENT: You must feed a value for placeholder tensor 'Placeholder/_1' with dtype int64 and shape [1000]\n",
      "\t [[{{node Placeholder/_1}}]]\n"
     ]
    },
    {
     "name": "stdout",
     "output_type": "stream",
     "text": [
      "16/16 [==============================] - 0s 930us/step - loss: 3.9718\n",
      "16/16 [==============================] - 0s 937us/step - loss: 3.9718\n",
      "16/16 [==============================] - 0s 904us/step - loss: 3.9718\n",
      "16/16 [==============================] - 0s 854us/step - loss: 3.9718\n",
      "16/16 [==============================] - 0s 675us/step - loss: 3.9718\n",
      "16/16 [==============================] - 0s 754us/step - loss: 3.9718\n",
      "16/16 [==============================] - 0s 907us/step - loss: 3.9718\n",
      "16/16 [==============================] - 0s 756us/step - loss: 3.9718\n",
      "Epoch 34 of 60\n",
      "\n",
      "Testing for epoch 34 index 1:\n",
      "65/65 [==============================] - 0s 446us/step\n",
      "16/16 [==============================] - 0s 663us/step - loss: 0.0216\n",
      "16/16 [==============================] - 0s 689us/step - loss: 4.0128\n",
      "16/16 [==============================] - 0s 721us/step - loss: 4.0127\n",
      " 1/16 [>.............................] - ETA: 0s - loss: 3.9868"
     ]
    },
    {
     "name": "stderr",
     "output_type": "stream",
     "text": [
      "2023-05-13 18:27:02.958064: I tensorflow/core/common_runtime/executor.cc:1197] [/device:CPU:0] (DEBUG INFO) Executor start aborting (this does not indicate an error and you can ignore this message): INVALID_ARGUMENT: You must feed a value for placeholder tensor 'Placeholder/_1' with dtype int64 and shape [1000]\n",
      "\t [[{{node Placeholder/_1}}]]\n"
     ]
    },
    {
     "name": "stdout",
     "output_type": "stream",
     "text": [
      "16/16 [==============================] - 0s 700us/step - loss: 4.0127\n",
      "16/16 [==============================] - 0s 681us/step - loss: 4.0127\n",
      "16/16 [==============================] - 0s 688us/step - loss: 4.0127\n",
      "16/16 [==============================] - 0s 700us/step - loss: 4.0127\n",
      "16/16 [==============================] - 0s 697us/step - loss: 4.0127\n",
      "16/16 [==============================] - 0s 700us/step - loss: 4.0127\n",
      "16/16 [==============================] - 0s 664us/step - loss: 4.0127\n",
      "\n",
      "Testing for epoch 34 index 2:\n",
      "65/65 [==============================] - 0s 485us/step\n",
      "16/16 [==============================] - 0s 992us/step - loss: 0.0212\n",
      "16/16 [==============================] - 0s 837us/step - loss: 4.0136\n",
      " 1/16 [>.............................] - ETA: 0s - loss: 4.1570"
     ]
    },
    {
     "name": "stderr",
     "output_type": "stream",
     "text": [
      "2023-05-13 18:27:03.664565: I tensorflow/core/common_runtime/executor.cc:1197] [/device:CPU:0] (DEBUG INFO) Executor start aborting (this does not indicate an error and you can ignore this message): INVALID_ARGUMENT: You must feed a value for placeholder tensor 'Placeholder/_1' with dtype int64 and shape [1000]\n",
      "\t [[{{node Placeholder/_1}}]]\n"
     ]
    },
    {
     "name": "stdout",
     "output_type": "stream",
     "text": [
      "16/16 [==============================] - 0s 909us/step - loss: 4.0136\n",
      "16/16 [==============================] - 0s 830us/step - loss: 4.0136\n",
      "16/16 [==============================] - 0s 883us/step - loss: 4.0136\n",
      "16/16 [==============================] - 0s 885us/step - loss: 4.0136\n",
      "16/16 [==============================] - 0s 823us/step - loss: 4.0136\n",
      "16/16 [==============================] - 0s 882us/step - loss: 4.0136\n",
      "16/16 [==============================] - 0s 869us/step - loss: 4.0136\n",
      "16/16 [==============================] - 0s 784us/step - loss: 4.0136\n",
      "\n",
      "Testing for epoch 34 index 3:\n",
      "65/65 [==============================] - 0s 445us/step\n",
      "16/16 [==============================] - 0s 816us/step - loss: 0.0210\n",
      "16/16 [==============================] - 0s 671us/step - loss: 4.0304\n",
      "16/16 [==============================] - 0s 666us/step - loss: 4.0304\n"
     ]
    },
    {
     "name": "stderr",
     "output_type": "stream",
     "text": [
      "2023-05-13 18:27:04.389807: I tensorflow/core/common_runtime/executor.cc:1197] [/device:CPU:0] (DEBUG INFO) Executor start aborting (this does not indicate an error and you can ignore this message): INVALID_ARGUMENT: You must feed a value for placeholder tensor 'Placeholder/_1' with dtype int64 and shape [1000]\n",
      "\t [[{{node Placeholder/_1}}]]\n"
     ]
    },
    {
     "name": "stdout",
     "output_type": "stream",
     "text": [
      "16/16 [==============================] - 0s 824us/step - loss: 4.0304\n",
      "16/16 [==============================] - 0s 710us/step - loss: 4.0304\n",
      "16/16 [==============================] - 0s 708us/step - loss: 4.0304\n",
      "16/16 [==============================] - 0s 668us/step - loss: 4.0304\n",
      "16/16 [==============================] - 0s 655us/step - loss: 4.0304\n",
      "16/16 [==============================] - 0s 644us/step - loss: 4.0304\n",
      "16/16 [==============================] - 0s 681us/step - loss: 4.0304\n",
      "\n",
      "Testing for epoch 34 index 4:\n",
      "65/65 [==============================] - 0s 495us/step\n",
      "16/16 [==============================] - 0s 743us/step - loss: 0.0208\n",
      "16/16 [==============================] - 0s 850us/step - loss: 4.0020\n",
      "16/16 [==============================] - 0s 885us/step - loss: 4.0019\n"
     ]
    },
    {
     "name": "stderr",
     "output_type": "stream",
     "text": [
      "2023-05-13 18:27:05.055546: I tensorflow/core/common_runtime/executor.cc:1197] [/device:CPU:0] (DEBUG INFO) Executor start aborting (this does not indicate an error and you can ignore this message): INVALID_ARGUMENT: You must feed a value for placeholder tensor 'Placeholder/_1' with dtype int64 and shape [1000]\n",
      "\t [[{{node Placeholder/_1}}]]\n"
     ]
    },
    {
     "name": "stdout",
     "output_type": "stream",
     "text": [
      "16/16 [==============================] - 0s 721us/step - loss: 4.0019\n",
      "16/16 [==============================] - 0s 726us/step - loss: 4.0019\n",
      "16/16 [==============================] - 0s 726us/step - loss: 4.0019\n",
      "16/16 [==============================] - 0s 719us/step - loss: 4.0019\n",
      "16/16 [==============================] - 0s 702us/step - loss: 4.0019\n",
      "16/16 [==============================] - 0s 676us/step - loss: 4.0019\n",
      "16/16 [==============================] - 0s 733us/step - loss: 4.0019\n",
      "Epoch 35 of 60\n",
      "\n",
      "Testing for epoch 35 index 1:\n",
      "65/65 [==============================] - 0s 439us/step\n",
      "16/16 [==============================] - 0s 680us/step - loss: 0.0205\n",
      "16/16 [==============================] - 0s 642us/step - loss: 4.0457\n",
      "16/16 [==============================] - 0s 647us/step - loss: 4.0457\n",
      " 1/16 [>.............................] - ETA: 0s - loss: 4.1378"
     ]
    },
    {
     "name": "stderr",
     "output_type": "stream",
     "text": [
      "2023-05-13 18:27:05.730920: I tensorflow/core/common_runtime/executor.cc:1197] [/device:CPU:0] (DEBUG INFO) Executor start aborting (this does not indicate an error and you can ignore this message): INVALID_ARGUMENT: You must feed a value for placeholder tensor 'Placeholder/_1' with dtype int64 and shape [1000]\n",
      "\t [[{{node Placeholder/_1}}]]\n"
     ]
    },
    {
     "name": "stdout",
     "output_type": "stream",
     "text": [
      "16/16 [==============================] - 0s 701us/step - loss: 4.0457\n",
      "16/16 [==============================] - 0s 668us/step - loss: 4.0457\n",
      "16/16 [==============================] - 0s 725us/step - loss: 4.0457\n",
      "16/16 [==============================] - 0s 669us/step - loss: 4.0457\n",
      "16/16 [==============================] - 0s 664us/step - loss: 4.0457\n",
      "16/16 [==============================] - 0s 665us/step - loss: 4.0457\n",
      "16/16 [==============================] - 0s 669us/step - loss: 4.0457\n",
      "\n",
      "Testing for epoch 35 index 2:\n",
      "65/65 [==============================] - 0s 435us/step\n",
      "16/16 [==============================] - 0s 696us/step - loss: 0.0204\n",
      "16/16 [==============================] - 0s 705us/step - loss: 4.0250\n",
      "16/16 [==============================] - 0s 703us/step - loss: 4.0250\n"
     ]
    },
    {
     "name": "stderr",
     "output_type": "stream",
     "text": [
      "2023-05-13 18:27:06.378058: I tensorflow/core/common_runtime/executor.cc:1197] [/device:CPU:0] (DEBUG INFO) Executor start aborting (this does not indicate an error and you can ignore this message): INVALID_ARGUMENT: You must feed a value for placeholder tensor 'Placeholder/_1' with dtype int64 and shape [1000]\n",
      "\t [[{{node Placeholder/_1}}]]\n"
     ]
    },
    {
     "name": "stdout",
     "output_type": "stream",
     "text": [
      "16/16 [==============================] - 0s 708us/step - loss: 4.0250\n",
      "16/16 [==============================] - 0s 717us/step - loss: 4.0250\n",
      "16/16 [==============================] - 0s 683us/step - loss: 4.0250\n",
      "16/16 [==============================] - 0s 710us/step - loss: 4.0250\n",
      "16/16 [==============================] - 0s 687us/step - loss: 4.0250\n",
      "16/16 [==============================] - 0s 678us/step - loss: 4.0250\n",
      "16/16 [==============================] - 0s 673us/step - loss: 4.0250\n",
      "\n",
      "Testing for epoch 35 index 3:\n",
      "65/65 [==============================] - 0s 470us/step\n",
      "16/16 [==============================] - 0s 864us/step - loss: 0.0202\n",
      "16/16 [==============================] - 0s 866us/step - loss: 4.0330\n",
      "16/16 [==============================] - 0s 780us/step - loss: 4.0330\n"
     ]
    },
    {
     "name": "stderr",
     "output_type": "stream",
     "text": [
      "2023-05-13 18:27:07.042446: I tensorflow/core/common_runtime/executor.cc:1197] [/device:CPU:0] (DEBUG INFO) Executor start aborting (this does not indicate an error and you can ignore this message): INVALID_ARGUMENT: You must feed a value for placeholder tensor 'Placeholder/_1' with dtype int64 and shape [1000]\n",
      "\t [[{{node Placeholder/_1}}]]\n"
     ]
    },
    {
     "name": "stdout",
     "output_type": "stream",
     "text": [
      "16/16 [==============================] - 0s 884us/step - loss: 4.0330\n",
      "16/16 [==============================] - 0s 908us/step - loss: 4.0330\n",
      "16/16 [==============================] - 0s 887us/step - loss: 4.0330\n",
      "16/16 [==============================] - 0s 792us/step - loss: 4.0330\n",
      "16/16 [==============================] - 0s 808us/step - loss: 4.0330\n",
      "16/16 [==============================] - 0s 868us/step - loss: 4.0330\n",
      "16/16 [==============================] - 0s 789us/step - loss: 4.0330\n",
      "\n",
      "Testing for epoch 35 index 4:\n",
      "65/65 [==============================] - 0s 466us/step\n",
      "16/16 [==============================] - 0s 762us/step - loss: 0.0199\n",
      "16/16 [==============================] - 0s 792us/step - loss: 4.0716\n",
      "16/16 [==============================] - 0s 735us/step - loss: 4.0716\n"
     ]
    },
    {
     "name": "stderr",
     "output_type": "stream",
     "text": [
      "2023-05-13 18:27:07.752434: I tensorflow/core/common_runtime/executor.cc:1197] [/device:CPU:0] (DEBUG INFO) Executor start aborting (this does not indicate an error and you can ignore this message): INVALID_ARGUMENT: You must feed a value for placeholder tensor 'Placeholder/_1' with dtype int64 and shape [1000]\n",
      "\t [[{{node Placeholder/_1}}]]\n"
     ]
    },
    {
     "name": "stdout",
     "output_type": "stream",
     "text": [
      "16/16 [==============================] - 0s 729us/step - loss: 4.0716\n",
      "16/16 [==============================] - 0s 709us/step - loss: 4.0716\n",
      "16/16 [==============================] - 0s 664us/step - loss: 4.0716\n",
      "16/16 [==============================] - 0s 652us/step - loss: 4.0716\n",
      "16/16 [==============================] - 0s 693us/step - loss: 4.0716\n",
      "16/16 [==============================] - 0s 720us/step - loss: 4.0716\n",
      "16/16 [==============================] - 0s 705us/step - loss: 4.0716\n",
      "Epoch 36 of 60\n",
      "\n",
      "Testing for epoch 36 index 1:\n",
      "65/65 [==============================] - 0s 446us/step\n",
      "16/16 [==============================] - 0s 754us/step - loss: 0.0197\n",
      "16/16 [==============================] - 0s 716us/step - loss: 4.0751\n",
      "16/16 [==============================] - 0s 711us/step - loss: 4.0750\n",
      " 1/16 [>.............................] - ETA: 0s - loss: 4.1839"
     ]
    },
    {
     "name": "stderr",
     "output_type": "stream",
     "text": [
      "2023-05-13 18:27:08.416954: I tensorflow/core/common_runtime/executor.cc:1197] [/device:CPU:0] (DEBUG INFO) Executor start aborting (this does not indicate an error and you can ignore this message): INVALID_ARGUMENT: You must feed a value for placeholder tensor 'Placeholder/_1' with dtype int64 and shape [1000]\n",
      "\t [[{{node Placeholder/_1}}]]\n"
     ]
    },
    {
     "name": "stdout",
     "output_type": "stream",
     "text": [
      "16/16 [==============================] - 0s 715us/step - loss: 4.0750\n",
      "16/16 [==============================] - 0s 767us/step - loss: 4.0750\n",
      "16/16 [==============================] - 0s 680us/step - loss: 4.0750\n",
      "16/16 [==============================] - 0s 659us/step - loss: 4.0750\n",
      "16/16 [==============================] - 0s 742us/step - loss: 4.0750\n",
      "16/16 [==============================] - 0s 659us/step - loss: 4.0750\n",
      "16/16 [==============================] - 0s 671us/step - loss: 4.0750\n",
      "\n",
      "Testing for epoch 36 index 2:\n",
      "65/65 [==============================] - 0s 406us/step\n",
      "16/16 [==============================] - 0s 724us/step - loss: 0.0195\n"
     ]
    },
    {
     "name": "stderr",
     "output_type": "stream",
     "text": [
      "2023-05-13 18:27:09.072245: I tensorflow/core/common_runtime/executor.cc:1197] [/device:CPU:0] (DEBUG INFO) Executor start aborting (this does not indicate an error and you can ignore this message): INVALID_ARGUMENT: You must feed a value for placeholder tensor 'Placeholder/_1' with dtype int64 and shape [1000]\n",
      "\t [[{{node Placeholder/_1}}]]\n"
     ]
    },
    {
     "name": "stdout",
     "output_type": "stream",
     "text": [
      "16/16 [==============================] - 0s 715us/step - loss: 4.0570\n",
      "16/16 [==============================] - 0s 704us/step - loss: 4.0570\n",
      "16/16 [==============================] - 0s 691us/step - loss: 4.0570\n",
      "16/16 [==============================] - 0s 643us/step - loss: 4.0570\n",
      "16/16 [==============================] - 0s 724us/step - loss: 4.0570\n",
      "16/16 [==============================] - 0s 665us/step - loss: 4.0570\n",
      "16/16 [==============================] - 0s 768us/step - loss: 4.0570\n",
      "16/16 [==============================] - 0s 678us/step - loss: 4.0570\n",
      "16/16 [==============================] - 0s 728us/step - loss: 4.0570\n",
      "\n",
      "Testing for epoch 36 index 3:\n",
      "65/65 [==============================] - 0s 428us/step\n",
      "16/16 [==============================] - 0s 723us/step - loss: 0.0192\n",
      "16/16 [==============================] - 0s 679us/step - loss: 4.1200\n",
      "16/16 [==============================] - 0s 678us/step - loss: 4.1200\n"
     ]
    },
    {
     "name": "stderr",
     "output_type": "stream",
     "text": [
      "2023-05-13 18:27:10.021887: I tensorflow/core/common_runtime/executor.cc:1197] [/device:CPU:0] (DEBUG INFO) Executor start aborting (this does not indicate an error and you can ignore this message): INVALID_ARGUMENT: You must feed a value for placeholder tensor 'Placeholder/_1' with dtype int64 and shape [1000]\n",
      "\t [[{{node Placeholder/_1}}]]\n"
     ]
    },
    {
     "name": "stdout",
     "output_type": "stream",
     "text": [
      "16/16 [==============================] - 0s 788us/step - loss: 4.1200\n",
      "16/16 [==============================] - 0s 755us/step - loss: 4.1200\n",
      "16/16 [==============================] - 0s 689us/step - loss: 4.1200\n",
      "16/16 [==============================] - 0s 731us/step - loss: 4.1200\n",
      "16/16 [==============================] - 0s 739us/step - loss: 4.1200\n",
      "16/16 [==============================] - 0s 675us/step - loss: 4.1200\n",
      "16/16 [==============================] - 0s 780us/step - loss: 4.1200\n",
      "\n",
      "Testing for epoch 36 index 4:\n",
      "65/65 [==============================] - 0s 451us/step\n",
      "16/16 [==============================] - 0s 743us/step - loss: 0.0191\n",
      "16/16 [==============================] - 0s 682us/step - loss: 4.1082\n",
      "16/16 [==============================] - 0s 700us/step - loss: 4.1082\n"
     ]
    },
    {
     "name": "stderr",
     "output_type": "stream",
     "text": [
      "2023-05-13 18:27:10.766744: I tensorflow/core/common_runtime/executor.cc:1197] [/device:CPU:0] (DEBUG INFO) Executor start aborting (this does not indicate an error and you can ignore this message): INVALID_ARGUMENT: You must feed a value for placeholder tensor 'Placeholder/_1' with dtype int64 and shape [1000]\n",
      "\t [[{{node Placeholder/_1}}]]\n"
     ]
    },
    {
     "name": "stdout",
     "output_type": "stream",
     "text": [
      "16/16 [==============================] - 0s 787us/step - loss: 4.1082\n",
      "16/16 [==============================] - 0s 781us/step - loss: 4.1082\n",
      "16/16 [==============================] - 0s 802us/step - loss: 4.1082\n",
      "16/16 [==============================] - 0s 696us/step - loss: 4.1082\n",
      "16/16 [==============================] - 0s 693us/step - loss: 4.1082\n",
      "16/16 [==============================] - 0s 695us/step - loss: 4.1082\n",
      "16/16 [==============================] - 0s 705us/step - loss: 4.1082\n",
      "Epoch 37 of 60\n",
      "\n",
      "Testing for epoch 37 index 1:\n",
      "65/65 [==============================] - 0s 450us/step\n",
      "16/16 [==============================] - 0s 686us/step - loss: 0.0190\n",
      "16/16 [==============================] - 0s 731us/step - loss: 4.0723\n",
      "16/16 [==============================] - 0s 768us/step - loss: 4.0722\n"
     ]
    },
    {
     "name": "stderr",
     "output_type": "stream",
     "text": [
      "2023-05-13 18:27:11.509361: I tensorflow/core/common_runtime/executor.cc:1197] [/device:CPU:0] (DEBUG INFO) Executor start aborting (this does not indicate an error and you can ignore this message): INVALID_ARGUMENT: You must feed a value for placeholder tensor 'Placeholder/_1' with dtype int64 and shape [1000]\n",
      "\t [[{{node Placeholder/_1}}]]\n"
     ]
    },
    {
     "name": "stdout",
     "output_type": "stream",
     "text": [
      "16/16 [==============================] - 0s 732us/step - loss: 4.0722\n",
      "16/16 [==============================] - 0s 679us/step - loss: 4.0722\n",
      "16/16 [==============================] - 0s 685us/step - loss: 4.0722\n",
      "16/16 [==============================] - 0s 703us/step - loss: 4.0722\n",
      "16/16 [==============================] - 0s 688us/step - loss: 4.0722\n",
      "16/16 [==============================] - 0s 695us/step - loss: 4.0722\n",
      "16/16 [==============================] - 0s 680us/step - loss: 4.0722\n",
      "\n",
      "Testing for epoch 37 index 2:\n",
      "65/65 [==============================] - 0s 427us/step\n",
      "16/16 [==============================] - 0s 688us/step - loss: 0.0187\n",
      "16/16 [==============================] - 0s 708us/step - loss: 4.0924\n",
      "16/16 [==============================] - 0s 698us/step - loss: 4.0924\n"
     ]
    },
    {
     "name": "stderr",
     "output_type": "stream",
     "text": [
      "2023-05-13 18:27:12.243785: I tensorflow/core/common_runtime/executor.cc:1197] [/device:CPU:0] (DEBUG INFO) Executor start aborting (this does not indicate an error and you can ignore this message): INVALID_ARGUMENT: You must feed a value for placeholder tensor 'Placeholder/_1' with dtype int64 and shape [1000]\n",
      "\t [[{{node Placeholder/_1}}]]\n"
     ]
    },
    {
     "name": "stdout",
     "output_type": "stream",
     "text": [
      "16/16 [==============================] - 0s 733us/step - loss: 4.0924\n",
      "16/16 [==============================] - 0s 726us/step - loss: 4.0924\n",
      "16/16 [==============================] - 0s 792us/step - loss: 4.0924\n",
      "16/16 [==============================] - 0s 662us/step - loss: 4.0924\n",
      "16/16 [==============================] - 0s 697us/step - loss: 4.0924\n",
      "16/16 [==============================] - 0s 694us/step - loss: 4.0924\n",
      "16/16 [==============================] - 0s 645us/step - loss: 4.0924\n",
      "\n",
      "Testing for epoch 37 index 3:\n",
      "65/65 [==============================] - 0s 450us/step\n",
      "16/16 [==============================] - 0s 800us/step - loss: 0.0186\n",
      "16/16 [==============================] - 0s 679us/step - loss: 4.1117\n",
      "16/16 [==============================] - 0s 713us/step - loss: 4.1117\n"
     ]
    },
    {
     "name": "stderr",
     "output_type": "stream",
     "text": [
      "2023-05-13 18:27:12.950254: I tensorflow/core/common_runtime/executor.cc:1197] [/device:CPU:0] (DEBUG INFO) Executor start aborting (this does not indicate an error and you can ignore this message): INVALID_ARGUMENT: You must feed a value for placeholder tensor 'Placeholder/_1' with dtype int64 and shape [1000]\n",
      "\t [[{{node Placeholder/_1}}]]\n"
     ]
    },
    {
     "name": "stdout",
     "output_type": "stream",
     "text": [
      "16/16 [==============================] - 0s 698us/step - loss: 4.1117\n",
      "16/16 [==============================] - 0s 708us/step - loss: 4.1117\n",
      "16/16 [==============================] - 0s 704us/step - loss: 4.1117\n",
      "16/16 [==============================] - 0s 680us/step - loss: 4.1117\n",
      "16/16 [==============================] - 0s 701us/step - loss: 4.1117\n",
      "16/16 [==============================] - 0s 712us/step - loss: 4.1117\n",
      "16/16 [==============================] - 0s 676us/step - loss: 4.1117\n",
      "\n",
      "Testing for epoch 37 index 4:\n",
      "65/65 [==============================] - 0s 427us/step\n",
      "16/16 [==============================] - 0s 665us/step - loss: 0.0183\n",
      "16/16 [==============================] - 0s 793us/step - loss: 4.1613\n",
      "16/16 [==============================] - 0s 671us/step - loss: 4.1613\n"
     ]
    },
    {
     "name": "stderr",
     "output_type": "stream",
     "text": [
      "2023-05-13 18:27:13.622801: I tensorflow/core/common_runtime/executor.cc:1197] [/device:CPU:0] (DEBUG INFO) Executor start aborting (this does not indicate an error and you can ignore this message): INVALID_ARGUMENT: You must feed a value for placeholder tensor 'Placeholder/_1' with dtype int64 and shape [1000]\n",
      "\t [[{{node Placeholder/_1}}]]\n"
     ]
    },
    {
     "name": "stdout",
     "output_type": "stream",
     "text": [
      "16/16 [==============================] - 0s 680us/step - loss: 4.1613\n",
      "16/16 [==============================] - 0s 698us/step - loss: 4.1613\n",
      "16/16 [==============================] - 0s 751us/step - loss: 4.1613\n",
      "16/16 [==============================] - 0s 692us/step - loss: 4.1613\n",
      "16/16 [==============================] - 0s 671us/step - loss: 4.1613\n",
      "16/16 [==============================] - 0s 707us/step - loss: 4.1613\n",
      "16/16 [==============================] - 0s 668us/step - loss: 4.1613\n",
      "Epoch 38 of 60\n",
      "\n",
      "Testing for epoch 38 index 1:\n",
      "65/65 [==============================] - 0s 426us/step\n",
      "16/16 [==============================] - 0s 709us/step - loss: 0.0182\n",
      "16/16 [==============================] - 0s 689us/step - loss: 4.1287\n",
      "16/16 [==============================] - 0s 680us/step - loss: 4.1287\n",
      " 1/16 [>.............................] - ETA: 0s - loss: 4.0505"
     ]
    },
    {
     "name": "stderr",
     "output_type": "stream",
     "text": [
      "2023-05-13 18:27:14.286061: I tensorflow/core/common_runtime/executor.cc:1197] [/device:CPU:0] (DEBUG INFO) Executor start aborting (this does not indicate an error and you can ignore this message): INVALID_ARGUMENT: You must feed a value for placeholder tensor 'Placeholder/_1' with dtype int64 and shape [1000]\n",
      "\t [[{{node Placeholder/_1}}]]\n"
     ]
    },
    {
     "name": "stdout",
     "output_type": "stream",
     "text": [
      "16/16 [==============================] - 0s 697us/step - loss: 4.1287\n",
      "16/16 [==============================] - 0s 702us/step - loss: 4.1287\n",
      "16/16 [==============================] - 0s 718us/step - loss: 4.1287\n",
      "16/16 [==============================] - 0s 720us/step - loss: 4.1287\n",
      "16/16 [==============================] - 0s 712us/step - loss: 4.1287\n",
      "16/16 [==============================] - 0s 645us/step - loss: 4.1287\n",
      "16/16 [==============================] - 0s 685us/step - loss: 4.1287\n",
      "\n",
      "Testing for epoch 38 index 2:\n",
      "65/65 [==============================] - 0s 435us/step\n",
      "16/16 [==============================] - 0s 691us/step - loss: 0.0180\n",
      "16/16 [==============================] - 0s 754us/step - loss: 4.2063\n",
      "16/16 [==============================] - 0s 721us/step - loss: 4.2063\n",
      " 1/16 [>.............................] - ETA: 0s - loss: 4.2169"
     ]
    },
    {
     "name": "stderr",
     "output_type": "stream",
     "text": [
      "2023-05-13 18:27:14.938423: I tensorflow/core/common_runtime/executor.cc:1197] [/device:CPU:0] (DEBUG INFO) Executor start aborting (this does not indicate an error and you can ignore this message): INVALID_ARGUMENT: You must feed a value for placeholder tensor 'Placeholder/_1' with dtype int64 and shape [1000]\n",
      "\t [[{{node Placeholder/_1}}]]\n"
     ]
    },
    {
     "name": "stdout",
     "output_type": "stream",
     "text": [
      "16/16 [==============================] - 0s 700us/step - loss: 4.2063\n",
      "16/16 [==============================] - 0s 689us/step - loss: 4.2063\n",
      "16/16 [==============================] - 0s 713us/step - loss: 4.2063\n",
      "16/16 [==============================] - 0s 761us/step - loss: 4.2063\n",
      "16/16 [==============================] - 0s 689us/step - loss: 4.2063\n",
      "16/16 [==============================] - 0s 708us/step - loss: 4.2063\n",
      "16/16 [==============================] - 0s 685us/step - loss: 4.2063\n",
      "\n",
      "Testing for epoch 38 index 3:\n",
      "65/65 [==============================] - 0s 419us/step\n",
      "16/16 [==============================] - 0s 728us/step - loss: 0.0178\n",
      "16/16 [==============================] - 0s 673us/step - loss: 4.1991\n",
      "16/16 [==============================] - 0s 700us/step - loss: 4.1991\n",
      " 1/16 [>.............................] - ETA: 0s - loss: 4.0047"
     ]
    },
    {
     "name": "stderr",
     "output_type": "stream",
     "text": [
      "2023-05-13 18:27:15.595544: I tensorflow/core/common_runtime/executor.cc:1197] [/device:CPU:0] (DEBUG INFO) Executor start aborting (this does not indicate an error and you can ignore this message): INVALID_ARGUMENT: You must feed a value for placeholder tensor 'Placeholder/_1' with dtype int64 and shape [1000]\n",
      "\t [[{{node Placeholder/_1}}]]\n"
     ]
    },
    {
     "name": "stdout",
     "output_type": "stream",
     "text": [
      "16/16 [==============================] - 0s 687us/step - loss: 4.1991\n",
      "16/16 [==============================] - 0s 728us/step - loss: 4.1991\n",
      "16/16 [==============================] - 0s 728us/step - loss: 4.1991\n",
      "16/16 [==============================] - 0s 699us/step - loss: 4.1991\n",
      "16/16 [==============================] - 0s 671us/step - loss: 4.1991\n",
      "16/16 [==============================] - 0s 739us/step - loss: 4.1991\n",
      "16/16 [==============================] - 0s 687us/step - loss: 4.1991\n",
      "\n",
      "Testing for epoch 38 index 4:\n",
      "65/65 [==============================] - 0s 429us/step\n",
      "16/16 [==============================] - 0s 695us/step - loss: 0.0177\n",
      "16/16 [==============================] - 0s 690us/step - loss: 4.1554\n",
      "16/16 [==============================] - 0s 687us/step - loss: 4.1554\n",
      " 1/16 [>.............................] - ETA: 0s - loss: 4.0871"
     ]
    },
    {
     "name": "stderr",
     "output_type": "stream",
     "text": [
      "2023-05-13 18:27:16.260768: I tensorflow/core/common_runtime/executor.cc:1197] [/device:CPU:0] (DEBUG INFO) Executor start aborting (this does not indicate an error and you can ignore this message): INVALID_ARGUMENT: You must feed a value for placeholder tensor 'Placeholder/_1' with dtype int64 and shape [1000]\n",
      "\t [[{{node Placeholder/_1}}]]\n"
     ]
    },
    {
     "name": "stdout",
     "output_type": "stream",
     "text": [
      "16/16 [==============================] - 0s 727us/step - loss: 4.1554\n",
      "16/16 [==============================] - 0s 778us/step - loss: 4.1554\n",
      "16/16 [==============================] - 0s 692us/step - loss: 4.1554\n",
      "16/16 [==============================] - 0s 815us/step - loss: 4.1554\n",
      "16/16 [==============================] - 0s 681us/step - loss: 4.1554\n",
      "16/16 [==============================] - 0s 684us/step - loss: 4.1554\n",
      "16/16 [==============================] - 0s 712us/step - loss: 4.1554\n",
      "Epoch 39 of 60\n",
      "\n",
      "Testing for epoch 39 index 1:\n",
      "65/65 [==============================] - 0s 413us/step\n",
      "16/16 [==============================] - 0s 677us/step - loss: 0.0175\n",
      "16/16 [==============================] - 0s 642us/step - loss: 4.1986\n",
      "16/16 [==============================] - 0s 759us/step - loss: 4.1986\n",
      " 1/16 [>.............................] - ETA: 0s - loss: 4.2880"
     ]
    },
    {
     "name": "stderr",
     "output_type": "stream",
     "text": [
      "2023-05-13 18:27:16.918330: I tensorflow/core/common_runtime/executor.cc:1197] [/device:CPU:0] (DEBUG INFO) Executor start aborting (this does not indicate an error and you can ignore this message): INVALID_ARGUMENT: You must feed a value for placeholder tensor 'Placeholder/_1' with dtype int64 and shape [1000]\n",
      "\t [[{{node Placeholder/_1}}]]\n"
     ]
    },
    {
     "name": "stdout",
     "output_type": "stream",
     "text": [
      "16/16 [==============================] - 0s 730us/step - loss: 4.1986\n",
      "16/16 [==============================] - 0s 659us/step - loss: 4.1986\n",
      "16/16 [==============================] - 0s 667us/step - loss: 4.1986\n",
      "16/16 [==============================] - 0s 699us/step - loss: 4.1986\n",
      "16/16 [==============================] - 0s 701us/step - loss: 4.1986\n",
      "16/16 [==============================] - 0s 727us/step - loss: 4.1986\n",
      "16/16 [==============================] - 0s 769us/step - loss: 4.1986\n",
      "\n",
      "Testing for epoch 39 index 2:\n",
      "65/65 [==============================] - 0s 437us/step\n",
      "16/16 [==============================] - 0s 682us/step - loss: 0.0174\n",
      "16/16 [==============================] - 0s 686us/step - loss: 4.1989\n",
      "16/16 [==============================] - 0s 679us/step - loss: 4.1989\n",
      " 1/16 [>.............................] - ETA: 0s - loss: 4.2857"
     ]
    },
    {
     "name": "stderr",
     "output_type": "stream",
     "text": [
      "2023-05-13 18:27:17.574815: I tensorflow/core/common_runtime/executor.cc:1197] [/device:CPU:0] (DEBUG INFO) Executor start aborting (this does not indicate an error and you can ignore this message): INVALID_ARGUMENT: You must feed a value for placeholder tensor 'Placeholder/_1' with dtype int64 and shape [1000]\n",
      "\t [[{{node Placeholder/_1}}]]\n"
     ]
    },
    {
     "name": "stdout",
     "output_type": "stream",
     "text": [
      "16/16 [==============================] - 0s 684us/step - loss: 4.1989\n",
      "16/16 [==============================] - 0s 745us/step - loss: 4.1989\n",
      "16/16 [==============================] - 0s 720us/step - loss: 4.1989\n",
      "16/16 [==============================] - 0s 701us/step - loss: 4.1989\n",
      "16/16 [==============================] - 0s 980us/step - loss: 4.1989\n",
      "16/16 [==============================] - 0s 867us/step - loss: 4.1989\n",
      "16/16 [==============================] - 0s 974us/step - loss: 4.1989\n",
      "\n",
      "Testing for epoch 39 index 3:\n",
      "65/65 [==============================] - 0s 471us/step\n",
      "16/16 [==============================] - 0s 684us/step - loss: 0.0172\n",
      "16/16 [==============================] - 0s 695us/step - loss: 4.1822\n",
      "16/16 [==============================] - 0s 671us/step - loss: 4.1821\n"
     ]
    },
    {
     "name": "stderr",
     "output_type": "stream",
     "text": [
      "2023-05-13 18:27:18.279524: I tensorflow/core/common_runtime/executor.cc:1197] [/device:CPU:0] (DEBUG INFO) Executor start aborting (this does not indicate an error and you can ignore this message): INVALID_ARGUMENT: You must feed a value for placeholder tensor 'Placeholder/_1' with dtype int64 and shape [1000]\n",
      "\t [[{{node Placeholder/_1}}]]\n"
     ]
    },
    {
     "name": "stdout",
     "output_type": "stream",
     "text": [
      "16/16 [==============================] - 0s 712us/step - loss: 4.1821\n",
      "16/16 [==============================] - 0s 715us/step - loss: 4.1821\n",
      "16/16 [==============================] - 0s 732us/step - loss: 4.1821\n",
      "16/16 [==============================] - 0s 769us/step - loss: 4.1821\n",
      "16/16 [==============================] - 0s 671us/step - loss: 4.1821\n",
      "16/16 [==============================] - 0s 701us/step - loss: 4.1821\n",
      "16/16 [==============================] - 0s 680us/step - loss: 4.1821\n",
      "\n",
      "Testing for epoch 39 index 4:\n",
      "65/65 [==============================] - 0s 436us/step\n",
      "16/16 [==============================] - 0s 688us/step - loss: 0.0170\n",
      "16/16 [==============================] - 0s 709us/step - loss: 4.2654\n",
      "16/16 [==============================] - 0s 886us/step - loss: 4.2654\n"
     ]
    },
    {
     "name": "stderr",
     "output_type": "stream",
     "text": [
      "2023-05-13 18:27:18.947164: I tensorflow/core/common_runtime/executor.cc:1197] [/device:CPU:0] (DEBUG INFO) Executor start aborting (this does not indicate an error and you can ignore this message): INVALID_ARGUMENT: You must feed a value for placeholder tensor 'Placeholder/_1' with dtype int64 and shape [1000]\n",
      "\t [[{{node Placeholder/_1}}]]\n"
     ]
    },
    {
     "name": "stdout",
     "output_type": "stream",
     "text": [
      "16/16 [==============================] - 0s 725us/step - loss: 4.2654\n",
      "16/16 [==============================] - 0s 739us/step - loss: 4.2654\n",
      "16/16 [==============================] - 0s 692us/step - loss: 4.2654\n",
      "16/16 [==============================] - 0s 776us/step - loss: 4.2654\n",
      "16/16 [==============================] - 0s 1ms/step - loss: 4.2654\n",
      "16/16 [==============================] - 0s 954us/step - loss: 4.2654\n",
      "16/16 [==============================] - 0s 933us/step - loss: 4.2654\n",
      "Epoch 40 of 60\n",
      "\n",
      "Testing for epoch 40 index 1:\n",
      "65/65 [==============================] - 0s 441us/step\n",
      "16/16 [==============================] - 0s 1ms/step - loss: 0.0169\n",
      "16/16 [==============================] - 0s 845us/step - loss: 4.2035\n",
      "16/16 [==============================] - 0s 712us/step - loss: 4.2035\n"
     ]
    },
    {
     "name": "stderr",
     "output_type": "stream",
     "text": [
      "2023-05-13 18:27:19.668035: I tensorflow/core/common_runtime/executor.cc:1197] [/device:CPU:0] (DEBUG INFO) Executor start aborting (this does not indicate an error and you can ignore this message): INVALID_ARGUMENT: You must feed a value for placeholder tensor 'Placeholder/_1' with dtype int64 and shape [1000]\n",
      "\t [[{{node Placeholder/_1}}]]\n"
     ]
    },
    {
     "name": "stdout",
     "output_type": "stream",
     "text": [
      "16/16 [==============================] - 0s 748us/step - loss: 4.2035\n",
      "16/16 [==============================] - 0s 695us/step - loss: 4.2035\n",
      "16/16 [==============================] - 0s 887us/step - loss: 4.2035\n",
      "16/16 [==============================] - 0s 856us/step - loss: 4.2035\n",
      "16/16 [==============================] - 0s 702us/step - loss: 4.2035\n",
      "16/16 [==============================] - 0s 663us/step - loss: 4.2035\n",
      "16/16 [==============================] - 0s 662us/step - loss: 4.2035\n",
      "\n",
      "Testing for epoch 40 index 2:\n",
      "65/65 [==============================] - 0s 499us/step\n",
      "16/16 [==============================] - 0s 869us/step - loss: 0.0167\n",
      "16/16 [==============================] - 0s 720us/step - loss: 4.2357\n",
      "16/16 [==============================] - 0s 713us/step - loss: 4.2357\n"
     ]
    },
    {
     "name": "stderr",
     "output_type": "stream",
     "text": [
      "2023-05-13 18:27:20.353519: I tensorflow/core/common_runtime/executor.cc:1197] [/device:CPU:0] (DEBUG INFO) Executor start aborting (this does not indicate an error and you can ignore this message): INVALID_ARGUMENT: You must feed a value for placeholder tensor 'Placeholder/_1' with dtype int64 and shape [1000]\n",
      "\t [[{{node Placeholder/_1}}]]\n"
     ]
    },
    {
     "name": "stdout",
     "output_type": "stream",
     "text": [
      "16/16 [==============================] - 0s 784us/step - loss: 4.2357\n",
      "16/16 [==============================] - 0s 873us/step - loss: 4.2357\n",
      "16/16 [==============================] - 0s 772us/step - loss: 4.2357\n",
      "16/16 [==============================] - 0s 861us/step - loss: 4.2357\n",
      "16/16 [==============================] - 0s 845us/step - loss: 4.2357\n",
      "16/16 [==============================] - 0s 861us/step - loss: 4.2357\n",
      "16/16 [==============================] - 0s 883us/step - loss: 4.2357\n",
      "\n",
      "Testing for epoch 40 index 3:\n",
      "65/65 [==============================] - 0s 460us/step\n",
      "16/16 [==============================] - 0s 690us/step - loss: 0.0166\n",
      "16/16 [==============================] - 0s 704us/step - loss: 4.2202\n",
      "16/16 [==============================] - 0s 736us/step - loss: 4.2202\n"
     ]
    },
    {
     "name": "stderr",
     "output_type": "stream",
     "text": [
      "2023-05-13 18:27:21.079214: I tensorflow/core/common_runtime/executor.cc:1197] [/device:CPU:0] (DEBUG INFO) Executor start aborting (this does not indicate an error and you can ignore this message): INVALID_ARGUMENT: You must feed a value for placeholder tensor 'Placeholder/_1' with dtype int64 and shape [1000]\n",
      "\t [[{{node Placeholder/_1}}]]\n"
     ]
    },
    {
     "name": "stdout",
     "output_type": "stream",
     "text": [
      "16/16 [==============================] - 0s 954us/step - loss: 4.2202\n",
      "16/16 [==============================] - 0s 774us/step - loss: 4.2202\n",
      "16/16 [==============================] - 0s 837us/step - loss: 4.2202\n",
      "16/16 [==============================] - 0s 892us/step - loss: 4.2202\n",
      "16/16 [==============================] - 0s 778us/step - loss: 4.2202\n",
      "16/16 [==============================] - 0s 854us/step - loss: 4.2202\n",
      "16/16 [==============================] - 0s 934us/step - loss: 4.2202\n",
      "\n",
      "Testing for epoch 40 index 4:\n",
      "65/65 [==============================] - 0s 468us/step\n",
      "16/16 [==============================] - 0s 859us/step - loss: 0.0165\n",
      "16/16 [==============================] - 0s 827us/step - loss: 4.2379\n",
      " 1/16 [>.............................] - ETA: 0s - loss: 4.2660"
     ]
    },
    {
     "name": "stderr",
     "output_type": "stream",
     "text": [
      "2023-05-13 18:27:21.825925: I tensorflow/core/common_runtime/executor.cc:1197] [/device:CPU:0] (DEBUG INFO) Executor start aborting (this does not indicate an error and you can ignore this message): INVALID_ARGUMENT: You must feed a value for placeholder tensor 'Placeholder/_1' with dtype int64 and shape [1000]\n",
      "\t [[{{node Placeholder/_1}}]]\n"
     ]
    },
    {
     "name": "stdout",
     "output_type": "stream",
     "text": [
      "16/16 [==============================] - 0s 711us/step - loss: 4.2379\n",
      "16/16 [==============================] - 0s 1ms/step - loss: 4.2379\n",
      "16/16 [==============================] - 0s 931us/step - loss: 4.2379\n",
      "16/16 [==============================] - 0s 871us/step - loss: 4.2379\n",
      "16/16 [==============================] - 0s 878us/step - loss: 4.2379\n",
      "16/16 [==============================] - 0s 723us/step - loss: 4.2379\n",
      "16/16 [==============================] - 0s 854us/step - loss: 4.2379\n",
      "16/16 [==============================] - 0s 828us/step - loss: 4.2379\n",
      "Epoch 41 of 60\n",
      "\n",
      "Testing for epoch 41 index 1:\n",
      "65/65 [==============================] - 0s 416us/step\n",
      "16/16 [==============================] - 0s 692us/step - loss: 0.0163\n",
      "16/16 [==============================] - 0s 704us/step - loss: 4.2531\n",
      "16/16 [==============================] - 0s 698us/step - loss: 4.2531\n",
      " 1/16 [>.............................] - ETA: 0s - loss: 4.2670"
     ]
    },
    {
     "name": "stderr",
     "output_type": "stream",
     "text": [
      "2023-05-13 18:27:22.571419: I tensorflow/core/common_runtime/executor.cc:1197] [/device:CPU:0] (DEBUG INFO) Executor start aborting (this does not indicate an error and you can ignore this message): INVALID_ARGUMENT: You must feed a value for placeholder tensor 'Placeholder/_1' with dtype int64 and shape [1000]\n",
      "\t [[{{node Placeholder/_1}}]]\n"
     ]
    },
    {
     "name": "stdout",
     "output_type": "stream",
     "text": [
      "16/16 [==============================] - 0s 683us/step - loss: 4.2531\n",
      "16/16 [==============================] - 0s 776us/step - loss: 4.2531\n",
      "16/16 [==============================] - 0s 681us/step - loss: 4.2531\n",
      "16/16 [==============================] - 0s 679us/step - loss: 4.2531\n",
      "16/16 [==============================] - 0s 764us/step - loss: 4.2531\n",
      "16/16 [==============================] - 0s 720us/step - loss: 4.2531\n",
      "16/16 [==============================] - 0s 731us/step - loss: 4.2531\n",
      "\n",
      "Testing for epoch 41 index 2:\n",
      "65/65 [==============================] - 0s 428us/step\n",
      "16/16 [==============================] - 0s 874us/step - loss: 0.0161\n",
      "16/16 [==============================] - 0s 810us/step - loss: 4.2942\n",
      "16/16 [==============================] - 0s 738us/step - loss: 4.2942\n"
     ]
    },
    {
     "name": "stderr",
     "output_type": "stream",
     "text": [
      "2023-05-13 18:27:23.242381: I tensorflow/core/common_runtime/executor.cc:1197] [/device:CPU:0] (DEBUG INFO) Executor start aborting (this does not indicate an error and you can ignore this message): INVALID_ARGUMENT: You must feed a value for placeholder tensor 'Placeholder/_1' with dtype int64 and shape [1000]\n",
      "\t [[{{node Placeholder/_1}}]]\n"
     ]
    },
    {
     "name": "stdout",
     "output_type": "stream",
     "text": [
      "16/16 [==============================] - 0s 687us/step - loss: 4.2942\n",
      "16/16 [==============================] - 0s 747us/step - loss: 4.2942\n",
      "16/16 [==============================] - 0s 713us/step - loss: 4.2942\n",
      "16/16 [==============================] - 0s 677us/step - loss: 4.2942\n",
      "16/16 [==============================] - 0s 694us/step - loss: 4.2942\n",
      "16/16 [==============================] - 0s 719us/step - loss: 4.2942\n",
      "16/16 [==============================] - 0s 847us/step - loss: 4.2942\n",
      "\n",
      "Testing for epoch 41 index 3:\n",
      "65/65 [==============================] - 0s 485us/step\n",
      "16/16 [==============================] - 0s 882us/step - loss: 0.0160\n",
      "16/16 [==============================] - 0s 868us/step - loss: 4.2695\n",
      "16/16 [==============================] - 0s 763us/step - loss: 4.2695\n"
     ]
    },
    {
     "name": "stderr",
     "output_type": "stream",
     "text": [
      "2023-05-13 18:27:23.943408: I tensorflow/core/common_runtime/executor.cc:1197] [/device:CPU:0] (DEBUG INFO) Executor start aborting (this does not indicate an error and you can ignore this message): INVALID_ARGUMENT: You must feed a value for placeholder tensor 'Placeholder/_1' with dtype int64 and shape [1000]\n",
      "\t [[{{node Placeholder/_1}}]]\n"
     ]
    },
    {
     "name": "stdout",
     "output_type": "stream",
     "text": [
      "16/16 [==============================] - 0s 895us/step - loss: 4.2695\n",
      "16/16 [==============================] - 0s 841us/step - loss: 4.2695\n",
      "16/16 [==============================] - 0s 827us/step - loss: 4.2695\n",
      "16/16 [==============================] - 0s 732us/step - loss: 4.2695\n",
      "16/16 [==============================] - 0s 741us/step - loss: 4.2695\n",
      "16/16 [==============================] - 0s 741us/step - loss: 4.2695\n",
      "16/16 [==============================] - 0s 746us/step - loss: 4.2695\n",
      "\n",
      "Testing for epoch 41 index 4:\n",
      "65/65 [==============================] - 0s 557us/step\n",
      "16/16 [==============================] - 0s 917us/step - loss: 0.0158\n",
      "16/16 [==============================] - 0s 854us/step - loss: 4.3257\n",
      "16/16 [==============================] - 0s 804us/step - loss: 4.3257\n"
     ]
    },
    {
     "name": "stderr",
     "output_type": "stream",
     "text": [
      "2023-05-13 18:27:24.659915: I tensorflow/core/common_runtime/executor.cc:1197] [/device:CPU:0] (DEBUG INFO) Executor start aborting (this does not indicate an error and you can ignore this message): INVALID_ARGUMENT: You must feed a value for placeholder tensor 'Placeholder/_1' with dtype int64 and shape [1000]\n",
      "\t [[{{node Placeholder/_1}}]]\n"
     ]
    },
    {
     "name": "stdout",
     "output_type": "stream",
     "text": [
      "16/16 [==============================] - 0s 686us/step - loss: 4.3257\n",
      "16/16 [==============================] - 0s 655us/step - loss: 4.3257\n",
      "16/16 [==============================] - 0s 677us/step - loss: 4.3257\n",
      "16/16 [==============================] - 0s 722us/step - loss: 4.3257\n",
      "16/16 [==============================] - 0s 722us/step - loss: 4.3257\n",
      "16/16 [==============================] - 0s 736us/step - loss: 4.3257\n",
      "16/16 [==============================] - 0s 735us/step - loss: 4.3257\n",
      "Epoch 42 of 60\n",
      "\n",
      "Testing for epoch 42 index 1:\n",
      "65/65 [==============================] - 0s 510us/step\n",
      "16/16 [==============================] - 0s 782us/step - loss: 0.0158\n",
      "16/16 [==============================] - 0s 815us/step - loss: 4.3144\n",
      "16/16 [==============================] - 0s 838us/step - loss: 4.3144\n"
     ]
    },
    {
     "name": "stderr",
     "output_type": "stream",
     "text": [
      "2023-05-13 18:27:25.359579: I tensorflow/core/common_runtime/executor.cc:1197] [/device:CPU:0] (DEBUG INFO) Executor start aborting (this does not indicate an error and you can ignore this message): INVALID_ARGUMENT: You must feed a value for placeholder tensor 'Placeholder/_1' with dtype int64 and shape [1000]\n",
      "\t [[{{node Placeholder/_1}}]]\n"
     ]
    },
    {
     "name": "stdout",
     "output_type": "stream",
     "text": [
      "16/16 [==============================] - 0s 719us/step - loss: 4.3144\n",
      "16/16 [==============================] - 0s 707us/step - loss: 4.3144\n",
      "16/16 [==============================] - 0s 755us/step - loss: 4.3144\n",
      "16/16 [==============================] - 0s 824us/step - loss: 4.3144\n",
      "16/16 [==============================] - 0s 734us/step - loss: 4.3144\n",
      "16/16 [==============================] - 0s 784us/step - loss: 4.3144\n",
      "16/16 [==============================] - 0s 739us/step - loss: 4.3144\n",
      "\n",
      "Testing for epoch 42 index 2:\n",
      "65/65 [==============================] - 0s 458us/step\n",
      "16/16 [==============================] - 0s 739us/step - loss: 0.0156\n",
      "16/16 [==============================] - 0s 741us/step - loss: 4.3103\n",
      "16/16 [==============================] - 0s 800us/step - loss: 4.3103\n"
     ]
    },
    {
     "name": "stderr",
     "output_type": "stream",
     "text": [
      "2023-05-13 18:27:26.051154: I tensorflow/core/common_runtime/executor.cc:1197] [/device:CPU:0] (DEBUG INFO) Executor start aborting (this does not indicate an error and you can ignore this message): INVALID_ARGUMENT: You must feed a value for placeholder tensor 'Placeholder/_1' with dtype int64 and shape [1000]\n",
      "\t [[{{node Placeholder/_1}}]]\n"
     ]
    },
    {
     "name": "stdout",
     "output_type": "stream",
     "text": [
      "16/16 [==============================] - 0s 768us/step - loss: 4.3103\n",
      "16/16 [==============================] - 0s 744us/step - loss: 4.3103\n",
      "16/16 [==============================] - 0s 761us/step - loss: 4.3103\n",
      "16/16 [==============================] - 0s 770us/step - loss: 4.3103\n",
      "16/16 [==============================] - 0s 836us/step - loss: 4.3103\n",
      "16/16 [==============================] - 0s 766us/step - loss: 4.3103\n",
      "16/16 [==============================] - 0s 752us/step - loss: 4.3103\n",
      "\n",
      "Testing for epoch 42 index 3:\n",
      "65/65 [==============================] - 0s 484us/step\n",
      "16/16 [==============================] - 0s 853us/step - loss: 0.0155\n",
      "16/16 [==============================] - 0s 782us/step - loss: 4.3075\n",
      "16/16 [==============================] - 0s 778us/step - loss: 4.3075\n"
     ]
    },
    {
     "name": "stderr",
     "output_type": "stream",
     "text": [
      "2023-05-13 18:27:26.749919: I tensorflow/core/common_runtime/executor.cc:1197] [/device:CPU:0] (DEBUG INFO) Executor start aborting (this does not indicate an error and you can ignore this message): INVALID_ARGUMENT: You must feed a value for placeholder tensor 'Placeholder/_1' with dtype int64 and shape [1000]\n",
      "\t [[{{node Placeholder/_1}}]]\n"
     ]
    },
    {
     "name": "stdout",
     "output_type": "stream",
     "text": [
      "16/16 [==============================] - 0s 863us/step - loss: 4.3075\n",
      "16/16 [==============================] - 0s 812us/step - loss: 4.3075\n",
      "16/16 [==============================] - 0s 767us/step - loss: 4.3075\n",
      "16/16 [==============================] - 0s 771us/step - loss: 4.3075\n",
      "16/16 [==============================] - 0s 783us/step - loss: 4.3075\n",
      "16/16 [==============================] - 0s 748us/step - loss: 4.3075\n",
      "16/16 [==============================] - 0s 872us/step - loss: 4.3075\n",
      "\n",
      "Testing for epoch 42 index 4:\n",
      "65/65 [==============================] - 0s 481us/step\n",
      "16/16 [==============================] - 0s 785us/step - loss: 0.0154\n",
      "16/16 [==============================] - 0s 833us/step - loss: 4.3048\n",
      "16/16 [==============================] - 0s 763us/step - loss: 4.3048\n"
     ]
    },
    {
     "name": "stderr",
     "output_type": "stream",
     "text": [
      "2023-05-13 18:27:27.475468: I tensorflow/core/common_runtime/executor.cc:1197] [/device:CPU:0] (DEBUG INFO) Executor start aborting (this does not indicate an error and you can ignore this message): INVALID_ARGUMENT: You must feed a value for placeholder tensor 'Placeholder/_1' with dtype int64 and shape [1000]\n",
      "\t [[{{node Placeholder/_1}}]]\n"
     ]
    },
    {
     "name": "stdout",
     "output_type": "stream",
     "text": [
      "16/16 [==============================] - 0s 910us/step - loss: 4.3048\n",
      "16/16 [==============================] - 0s 749us/step - loss: 4.3048\n",
      "16/16 [==============================] - 0s 791us/step - loss: 4.3048\n",
      "16/16 [==============================] - 0s 760us/step - loss: 4.3048\n",
      "16/16 [==============================] - 0s 771us/step - loss: 4.3048\n",
      "16/16 [==============================] - 0s 747us/step - loss: 4.3048\n",
      "16/16 [==============================] - 0s 750us/step - loss: 4.3048\n",
      "Epoch 43 of 60\n",
      "\n",
      "Testing for epoch 43 index 1:\n",
      "65/65 [==============================] - 0s 467us/step\n",
      "16/16 [==============================] - 0s 905us/step - loss: 0.0153\n",
      "16/16 [==============================] - 0s 681us/step - loss: 4.3275\n",
      "16/16 [==============================] - 0s 681us/step - loss: 4.3275\n"
     ]
    },
    {
     "name": "stderr",
     "output_type": "stream",
     "text": [
      "2023-05-13 18:27:28.173535: I tensorflow/core/common_runtime/executor.cc:1197] [/device:CPU:0] (DEBUG INFO) Executor start aborting (this does not indicate an error and you can ignore this message): INVALID_ARGUMENT: You must feed a value for placeholder tensor 'Placeholder/_1' with dtype int64 and shape [1000]\n",
      "\t [[{{node Placeholder/_1}}]]\n"
     ]
    },
    {
     "name": "stdout",
     "output_type": "stream",
     "text": [
      "16/16 [==============================] - 0s 832us/step - loss: 4.3275\n",
      "16/16 [==============================] - 0s 800us/step - loss: 4.3275\n",
      "16/16 [==============================] - 0s 829us/step - loss: 4.3275\n",
      "16/16 [==============================] - 0s 785us/step - loss: 4.3275\n",
      "16/16 [==============================] - 0s 758us/step - loss: 4.3275\n",
      "16/16 [==============================] - 0s 899us/step - loss: 4.3275\n",
      "16/16 [==============================] - 0s 763us/step - loss: 4.3275\n",
      "\n",
      "Testing for epoch 43 index 2:\n",
      "65/65 [==============================] - 0s 460us/step\n",
      "16/16 [==============================] - 0s 789us/step - loss: 0.0151\n",
      "16/16 [==============================] - 0s 802us/step - loss: 4.3481\n",
      "16/16 [==============================] - 0s 737us/step - loss: 4.3481\n"
     ]
    },
    {
     "name": "stderr",
     "output_type": "stream",
     "text": [
      "2023-05-13 18:27:28.897175: I tensorflow/core/common_runtime/executor.cc:1197] [/device:CPU:0] (DEBUG INFO) Executor start aborting (this does not indicate an error and you can ignore this message): INVALID_ARGUMENT: You must feed a value for placeholder tensor 'Placeholder/_1' with dtype int64 and shape [1000]\n",
      "\t [[{{node Placeholder/_1}}]]\n"
     ]
    },
    {
     "name": "stdout",
     "output_type": "stream",
     "text": [
      "16/16 [==============================] - 0s 955us/step - loss: 4.3481\n",
      "16/16 [==============================] - 0s 911us/step - loss: 4.3481\n",
      "16/16 [==============================] - 0s 852us/step - loss: 4.3481\n",
      "16/16 [==============================] - 0s 838us/step - loss: 4.3481\n",
      "16/16 [==============================] - 0s 726us/step - loss: 4.3481\n",
      "16/16 [==============================] - 0s 824us/step - loss: 4.3481\n",
      "16/16 [==============================] - 0s 804us/step - loss: 4.3481\n",
      "\n",
      "Testing for epoch 43 index 3:\n",
      "65/65 [==============================] - 0s 475us/step\n",
      "16/16 [==============================] - 0s 806us/step - loss: 0.0150\n",
      "16/16 [==============================] - 0s 826us/step - loss: 4.3750\n",
      "16/16 [==============================] - 0s 701us/step - loss: 4.3750\n"
     ]
    },
    {
     "name": "stderr",
     "output_type": "stream",
     "text": [
      "2023-05-13 18:27:29.638783: I tensorflow/core/common_runtime/executor.cc:1197] [/device:CPU:0] (DEBUG INFO) Executor start aborting (this does not indicate an error and you can ignore this message): INVALID_ARGUMENT: You must feed a value for placeholder tensor 'Placeholder/_1' with dtype int64 and shape [1000]\n",
      "\t [[{{node Placeholder/_1}}]]\n"
     ]
    },
    {
     "name": "stdout",
     "output_type": "stream",
     "text": [
      "16/16 [==============================] - 0s 818us/step - loss: 4.3750\n",
      "16/16 [==============================] - 0s 813us/step - loss: 4.3750\n",
      "16/16 [==============================] - 0s 756us/step - loss: 4.3750\n",
      "16/16 [==============================] - 0s 789us/step - loss: 4.3750\n",
      "16/16 [==============================] - 0s 982us/step - loss: 4.3750\n",
      "16/16 [==============================] - 0s 840us/step - loss: 4.3750\n",
      "16/16 [==============================] - 0s 834us/step - loss: 4.3750\n",
      "\n",
      "Testing for epoch 43 index 4:\n",
      "65/65 [==============================] - 0s 465us/step\n",
      "16/16 [==============================] - 0s 822us/step - loss: 0.0149\n",
      "16/16 [==============================] - 0s 717us/step - loss: 4.3235\n",
      "16/16 [==============================] - 0s 798us/step - loss: 4.3235\n"
     ]
    },
    {
     "name": "stderr",
     "output_type": "stream",
     "text": [
      "2023-05-13 18:27:30.368108: I tensorflow/core/common_runtime/executor.cc:1197] [/device:CPU:0] (DEBUG INFO) Executor start aborting (this does not indicate an error and you can ignore this message): INVALID_ARGUMENT: You must feed a value for placeholder tensor 'Placeholder/_1' with dtype int64 and shape [1000]\n",
      "\t [[{{node Placeholder/_1}}]]\n"
     ]
    },
    {
     "name": "stdout",
     "output_type": "stream",
     "text": [
      "16/16 [==============================] - 0s 778us/step - loss: 4.3235\n",
      "16/16 [==============================] - 0s 729us/step - loss: 4.3235\n",
      "16/16 [==============================] - 0s 769us/step - loss: 4.3235\n",
      "16/16 [==============================] - 0s 696us/step - loss: 4.3235\n",
      "16/16 [==============================] - 0s 706us/step - loss: 4.3235\n",
      "16/16 [==============================] - 0s 824us/step - loss: 4.3235\n",
      "16/16 [==============================] - 0s 762us/step - loss: 4.3235\n",
      "Epoch 44 of 60\n",
      "\n",
      "Testing for epoch 44 index 1:\n",
      "65/65 [==============================] - 0s 481us/step\n",
      "16/16 [==============================] - 0s 751us/step - loss: 0.0148\n",
      "16/16 [==============================] - 0s 706us/step - loss: 4.3489\n",
      "16/16 [==============================] - 0s 680us/step - loss: 4.3489\n"
     ]
    },
    {
     "name": "stderr",
     "output_type": "stream",
     "text": [
      "2023-05-13 18:27:31.084437: I tensorflow/core/common_runtime/executor.cc:1197] [/device:CPU:0] (DEBUG INFO) Executor start aborting (this does not indicate an error and you can ignore this message): INVALID_ARGUMENT: You must feed a value for placeholder tensor 'Placeholder/_1' with dtype int64 and shape [1000]\n",
      "\t [[{{node Placeholder/_1}}]]\n"
     ]
    },
    {
     "name": "stdout",
     "output_type": "stream",
     "text": [
      "16/16 [==============================] - 0s 1ms/step - loss: 4.3489\n",
      "16/16 [==============================] - 0s 698us/step - loss: 4.3489\n",
      "16/16 [==============================] - 0s 852us/step - loss: 4.3489\n",
      "16/16 [==============================] - 0s 821us/step - loss: 4.3489\n",
      "16/16 [==============================] - 0s 768us/step - loss: 4.3489\n",
      "16/16 [==============================] - 0s 784us/step - loss: 4.3489\n",
      "16/16 [==============================] - 0s 783us/step - loss: 4.3489\n",
      "\n",
      "Testing for epoch 44 index 2:\n",
      "65/65 [==============================] - 0s 458us/step\n",
      "16/16 [==============================] - 0s 798us/step - loss: 0.0147\n",
      "16/16 [==============================] - 0s 689us/step - loss: 4.3652\n",
      "16/16 [==============================] - 0s 707us/step - loss: 4.3652\n",
      " 1/16 [>.............................] - ETA: 0s - loss: 4.5461"
     ]
    },
    {
     "name": "stderr",
     "output_type": "stream",
     "text": [
      "2023-05-13 18:27:31.840180: I tensorflow/core/common_runtime/executor.cc:1197] [/device:CPU:0] (DEBUG INFO) Executor start aborting (this does not indicate an error and you can ignore this message): INVALID_ARGUMENT: You must feed a value for placeholder tensor 'Placeholder/_1' with dtype int64 and shape [1000]\n",
      "\t [[{{node Placeholder/_1}}]]\n"
     ]
    },
    {
     "name": "stdout",
     "output_type": "stream",
     "text": [
      "16/16 [==============================] - 0s 681us/step - loss: 4.3652\n",
      "16/16 [==============================] - 0s 686us/step - loss: 4.3652\n",
      "16/16 [==============================] - 0s 815us/step - loss: 4.3652\n",
      "16/16 [==============================] - 0s 742us/step - loss: 4.3652\n",
      "16/16 [==============================] - 0s 770us/step - loss: 4.3652\n",
      "16/16 [==============================] - 0s 688us/step - loss: 4.3652\n",
      "16/16 [==============================] - 0s 719us/step - loss: 4.3652\n",
      "\n",
      "Testing for epoch 44 index 3:\n",
      "65/65 [==============================] - 0s 439us/step\n",
      "16/16 [==============================] - 0s 683us/step - loss: 0.0146\n",
      "16/16 [==============================] - 0s 767us/step - loss: 4.3816\n",
      "16/16 [==============================] - 0s 789us/step - loss: 4.3816\n"
     ]
    },
    {
     "name": "stderr",
     "output_type": "stream",
     "text": [
      "2023-05-13 18:27:32.505859: I tensorflow/core/common_runtime/executor.cc:1197] [/device:CPU:0] (DEBUG INFO) Executor start aborting (this does not indicate an error and you can ignore this message): INVALID_ARGUMENT: You must feed a value for placeholder tensor 'Placeholder/_1' with dtype int64 and shape [1000]\n",
      "\t [[{{node Placeholder/_1}}]]\n"
     ]
    },
    {
     "name": "stdout",
     "output_type": "stream",
     "text": [
      "16/16 [==============================] - 0s 801us/step - loss: 4.3816\n",
      "16/16 [==============================] - 0s 747us/step - loss: 4.3816\n",
      "16/16 [==============================] - 0s 875us/step - loss: 4.3816\n",
      "16/16 [==============================] - 0s 727us/step - loss: 4.3816\n",
      "16/16 [==============================] - 0s 772us/step - loss: 4.3816\n",
      "16/16 [==============================] - 0s 828us/step - loss: 4.3816\n",
      "16/16 [==============================] - 0s 752us/step - loss: 4.3816\n",
      "\n",
      "Testing for epoch 44 index 4:\n",
      "65/65 [==============================] - 0s 489us/step\n",
      "16/16 [==============================] - 0s 792us/step - loss: 0.0144\n",
      "16/16 [==============================] - 0s 881us/step - loss: 4.4245\n",
      "16/16 [==============================] - 0s 663us/step - loss: 4.4245\n"
     ]
    },
    {
     "name": "stderr",
     "output_type": "stream",
     "text": [
      "2023-05-13 18:27:33.226763: I tensorflow/core/common_runtime/executor.cc:1197] [/device:CPU:0] (DEBUG INFO) Executor start aborting (this does not indicate an error and you can ignore this message): INVALID_ARGUMENT: You must feed a value for placeholder tensor 'Placeholder/_1' with dtype int64 and shape [1000]\n",
      "\t [[{{node Placeholder/_1}}]]\n"
     ]
    },
    {
     "name": "stdout",
     "output_type": "stream",
     "text": [
      "16/16 [==============================] - 0s 825us/step - loss: 4.4245\n",
      "16/16 [==============================] - 0s 689us/step - loss: 4.4245\n",
      "16/16 [==============================] - 0s 939us/step - loss: 4.4245\n",
      "16/16 [==============================] - 0s 692us/step - loss: 4.4245\n",
      "16/16 [==============================] - 0s 675us/step - loss: 4.4245\n",
      "16/16 [==============================] - 0s 792us/step - loss: 4.4245\n",
      "16/16 [==============================] - 0s 824us/step - loss: 4.4245\n",
      "Epoch 45 of 60\n",
      "\n",
      "Testing for epoch 45 index 1:\n",
      "65/65 [==============================] - 0s 449us/step\n",
      "16/16 [==============================] - 0s 776us/step - loss: 0.0143\n",
      "16/16 [==============================] - 0s 787us/step - loss: 4.4145\n",
      "16/16 [==============================] - 0s 803us/step - loss: 4.4145\n"
     ]
    },
    {
     "name": "stderr",
     "output_type": "stream",
     "text": [
      "2023-05-13 18:27:33.954700: I tensorflow/core/common_runtime/executor.cc:1197] [/device:CPU:0] (DEBUG INFO) Executor start aborting (this does not indicate an error and you can ignore this message): INVALID_ARGUMENT: You must feed a value for placeholder tensor 'Placeholder/_1' with dtype int64 and shape [1000]\n",
      "\t [[{{node Placeholder/_1}}]]\n"
     ]
    },
    {
     "name": "stdout",
     "output_type": "stream",
     "text": [
      "16/16 [==============================] - 0s 670us/step - loss: 4.4145\n",
      "16/16 [==============================] - 0s 916us/step - loss: 4.4145\n",
      "16/16 [==============================] - 0s 843us/step - loss: 4.4145\n",
      "16/16 [==============================] - 0s 803us/step - loss: 4.4145\n",
      "16/16 [==============================] - 0s 772us/step - loss: 4.4145\n",
      "16/16 [==============================] - 0s 714us/step - loss: 4.4145\n",
      "16/16 [==============================] - 0s 793us/step - loss: 4.4145\n",
      "\n",
      "Testing for epoch 45 index 2:\n",
      "65/65 [==============================] - 0s 457us/step\n",
      "16/16 [==============================] - 0s 744us/step - loss: 0.0143\n",
      "16/16 [==============================] - 0s 706us/step - loss: 4.3947\n",
      "16/16 [==============================] - 0s 703us/step - loss: 4.3947\n"
     ]
    },
    {
     "name": "stderr",
     "output_type": "stream",
     "text": [
      "2023-05-13 18:27:34.668447: I tensorflow/core/common_runtime/executor.cc:1197] [/device:CPU:0] (DEBUG INFO) Executor start aborting (this does not indicate an error and you can ignore this message): INVALID_ARGUMENT: You must feed a value for placeholder tensor 'Placeholder/_1' with dtype int64 and shape [1000]\n",
      "\t [[{{node Placeholder/_1}}]]\n"
     ]
    },
    {
     "name": "stdout",
     "output_type": "stream",
     "text": [
      "16/16 [==============================] - 0s 728us/step - loss: 4.3947\n",
      "16/16 [==============================] - 0s 765us/step - loss: 4.3947\n",
      "16/16 [==============================] - 0s 779us/step - loss: 4.3947\n",
      "16/16 [==============================] - 0s 746us/step - loss: 4.3947\n",
      "16/16 [==============================] - 0s 798us/step - loss: 4.3947\n",
      "16/16 [==============================] - 0s 757us/step - loss: 4.3947\n",
      "16/16 [==============================] - 0s 748us/step - loss: 4.3947\n",
      "\n",
      "Testing for epoch 45 index 3:\n",
      "65/65 [==============================] - 0s 485us/step\n",
      "16/16 [==============================] - 0s 686us/step - loss: 0.0141\n",
      "16/16 [==============================] - 0s 818us/step - loss: 4.4197\n",
      "16/16 [==============================] - 0s 836us/step - loss: 4.4197\n"
     ]
    },
    {
     "name": "stderr",
     "output_type": "stream",
     "text": [
      "2023-05-13 18:27:35.395937: I tensorflow/core/common_runtime/executor.cc:1197] [/device:CPU:0] (DEBUG INFO) Executor start aborting (this does not indicate an error and you can ignore this message): INVALID_ARGUMENT: You must feed a value for placeholder tensor 'Placeholder/_1' with dtype int64 and shape [1000]\n",
      "\t [[{{node Placeholder/_1}}]]\n"
     ]
    },
    {
     "name": "stdout",
     "output_type": "stream",
     "text": [
      "16/16 [==============================] - 0s 805us/step - loss: 4.4197\n",
      "16/16 [==============================] - 0s 726us/step - loss: 4.4197\n",
      "16/16 [==============================] - 0s 776us/step - loss: 4.4197\n",
      "16/16 [==============================] - 0s 716us/step - loss: 4.4197\n",
      "16/16 [==============================] - 0s 888us/step - loss: 4.4197\n",
      "16/16 [==============================] - 0s 686us/step - loss: 4.4197\n",
      "16/16 [==============================] - 0s 909us/step - loss: 4.4197\n",
      "\n",
      "Testing for epoch 45 index 4:\n",
      "65/65 [==============================] - 0s 470us/step\n",
      "16/16 [==============================] - 0s 712us/step - loss: 0.0140\n",
      "16/16 [==============================] - 0s 658us/step - loss: 4.4254\n",
      "16/16 [==============================] - 0s 694us/step - loss: 4.4254\n"
     ]
    },
    {
     "name": "stderr",
     "output_type": "stream",
     "text": [
      "2023-05-13 18:27:36.113417: I tensorflow/core/common_runtime/executor.cc:1197] [/device:CPU:0] (DEBUG INFO) Executor start aborting (this does not indicate an error and you can ignore this message): INVALID_ARGUMENT: You must feed a value for placeholder tensor 'Placeholder/_1' with dtype int64 and shape [1000]\n",
      "\t [[{{node Placeholder/_1}}]]\n"
     ]
    },
    {
     "name": "stdout",
     "output_type": "stream",
     "text": [
      "16/16 [==============================] - 0s 892us/step - loss: 4.4254\n",
      "16/16 [==============================] - 0s 746us/step - loss: 4.4254\n",
      "16/16 [==============================] - 0s 792us/step - loss: 4.4254\n",
      "16/16 [==============================] - 0s 652us/step - loss: 4.4254\n",
      "16/16 [==============================] - 0s 809us/step - loss: 4.4254\n",
      "16/16 [==============================] - 0s 681us/step - loss: 4.4254\n",
      "16/16 [==============================] - 0s 683us/step - loss: 4.4254\n",
      "Epoch 46 of 60\n",
      "\n",
      "Testing for epoch 46 index 1:\n",
      "65/65 [==============================] - 0s 472us/step\n",
      "16/16 [==============================] - 0s 709us/step - loss: 0.0139\n",
      "16/16 [==============================] - 0s 849us/step - loss: 4.4271\n",
      "16/16 [==============================] - 0s 764us/step - loss: 4.4271\n"
     ]
    },
    {
     "name": "stderr",
     "output_type": "stream",
     "text": [
      "2023-05-13 18:27:36.821019: I tensorflow/core/common_runtime/executor.cc:1197] [/device:CPU:0] (DEBUG INFO) Executor start aborting (this does not indicate an error and you can ignore this message): INVALID_ARGUMENT: You must feed a value for placeholder tensor 'Placeholder/_1' with dtype int64 and shape [1000]\n",
      "\t [[{{node Placeholder/_1}}]]\n"
     ]
    },
    {
     "name": "stdout",
     "output_type": "stream",
     "text": [
      "16/16 [==============================] - 0s 749us/step - loss: 4.4271\n",
      "16/16 [==============================] - 0s 777us/step - loss: 4.4271\n",
      "16/16 [==============================] - 0s 748us/step - loss: 4.4271\n",
      "16/16 [==============================] - 0s 772us/step - loss: 4.4271\n",
      "16/16 [==============================] - 0s 765us/step - loss: 4.4271\n",
      "16/16 [==============================] - 0s 773us/step - loss: 4.4271\n",
      "16/16 [==============================] - 0s 707us/step - loss: 4.4271\n",
      "\n",
      "Testing for epoch 46 index 2:\n",
      "65/65 [==============================] - 0s 468us/step\n",
      "16/16 [==============================] - 0s 796us/step - loss: 0.0138\n",
      "16/16 [==============================] - 0s 736us/step - loss: 4.4596\n",
      "16/16 [==============================] - 0s 853us/step - loss: 4.4596\n"
     ]
    },
    {
     "name": "stderr",
     "output_type": "stream",
     "text": [
      "2023-05-13 18:27:37.521528: I tensorflow/core/common_runtime/executor.cc:1197] [/device:CPU:0] (DEBUG INFO) Executor start aborting (this does not indicate an error and you can ignore this message): INVALID_ARGUMENT: You must feed a value for placeholder tensor 'Placeholder/_1' with dtype int64 and shape [1000]\n",
      "\t [[{{node Placeholder/_1}}]]\n"
     ]
    },
    {
     "name": "stdout",
     "output_type": "stream",
     "text": [
      "16/16 [==============================] - 0s 763us/step - loss: 4.4596\n",
      "16/16 [==============================] - 0s 870us/step - loss: 4.4596\n",
      "16/16 [==============================] - 0s 806us/step - loss: 4.4596\n",
      "16/16 [==============================] - 0s 773us/step - loss: 4.4596\n",
      "16/16 [==============================] - 0s 795us/step - loss: 4.4596\n",
      "16/16 [==============================] - 0s 900us/step - loss: 4.4596\n",
      "16/16 [==============================] - 0s 816us/step - loss: 4.4596\n",
      "\n",
      "Testing for epoch 46 index 3:\n",
      "65/65 [==============================] - 0s 476us/step\n",
      "16/16 [==============================] - 0s 724us/step - loss: 0.0137\n",
      "16/16 [==============================] - 0s 693us/step - loss: 4.4722\n",
      "16/16 [==============================] - 0s 715us/step - loss: 4.4722\n"
     ]
    },
    {
     "name": "stderr",
     "output_type": "stream",
     "text": [
      "2023-05-13 18:27:38.259678: I tensorflow/core/common_runtime/executor.cc:1197] [/device:CPU:0] (DEBUG INFO) Executor start aborting (this does not indicate an error and you can ignore this message): INVALID_ARGUMENT: You must feed a value for placeholder tensor 'Placeholder/_1' with dtype int64 and shape [1000]\n",
      "\t [[{{node Placeholder/_1}}]]\n"
     ]
    },
    {
     "name": "stdout",
     "output_type": "stream",
     "text": [
      "16/16 [==============================] - 0s 833us/step - loss: 4.4722\n",
      "16/16 [==============================] - 0s 682us/step - loss: 4.4722\n",
      "16/16 [==============================] - 0s 888us/step - loss: 4.4722\n",
      "16/16 [==============================] - 0s 789us/step - loss: 4.4722\n",
      "16/16 [==============================] - 0s 755us/step - loss: 4.4722\n",
      "16/16 [==============================] - 0s 750us/step - loss: 4.4722\n",
      "16/16 [==============================] - 0s 764us/step - loss: 4.4722\n",
      "\n",
      "Testing for epoch 46 index 4:\n",
      "65/65 [==============================] - 0s 477us/step\n",
      "16/16 [==============================] - 0s 745us/step - loss: 0.0136\n",
      "16/16 [==============================] - 0s 799us/step - loss: 4.4209\n",
      "16/16 [==============================] - 0s 830us/step - loss: 4.4209\n"
     ]
    },
    {
     "name": "stderr",
     "output_type": "stream",
     "text": [
      "2023-05-13 18:27:39.002450: I tensorflow/core/common_runtime/executor.cc:1197] [/device:CPU:0] (DEBUG INFO) Executor start aborting (this does not indicate an error and you can ignore this message): INVALID_ARGUMENT: You must feed a value for placeholder tensor 'Placeholder/_1' with dtype int64 and shape [1000]\n",
      "\t [[{{node Placeholder/_1}}]]\n"
     ]
    },
    {
     "name": "stdout",
     "output_type": "stream",
     "text": [
      "16/16 [==============================] - 0s 759us/step - loss: 4.4209\n",
      "16/16 [==============================] - 0s 760us/step - loss: 4.4209\n",
      "16/16 [==============================] - 0s 809us/step - loss: 4.4209\n",
      "16/16 [==============================] - 0s 797us/step - loss: 4.4209\n",
      "16/16 [==============================] - 0s 691us/step - loss: 4.4209\n",
      "16/16 [==============================] - 0s 670us/step - loss: 4.4209\n",
      "16/16 [==============================] - 0s 686us/step - loss: 4.4209\n",
      "Epoch 47 of 60\n",
      "\n",
      "Testing for epoch 47 index 1:\n",
      "65/65 [==============================] - 0s 464us/step\n",
      "16/16 [==============================] - 0s 752us/step - loss: 0.0136\n",
      "16/16 [==============================] - 0s 820us/step - loss: 4.4370\n",
      "16/16 [==============================] - 0s 765us/step - loss: 4.4370\n"
     ]
    },
    {
     "name": "stderr",
     "output_type": "stream",
     "text": [
      "2023-05-13 18:27:39.722153: I tensorflow/core/common_runtime/executor.cc:1197] [/device:CPU:0] (DEBUG INFO) Executor start aborting (this does not indicate an error and you can ignore this message): INVALID_ARGUMENT: You must feed a value for placeholder tensor 'Placeholder/_1' with dtype int64 and shape [1000]\n",
      "\t [[{{node Placeholder/_1}}]]\n"
     ]
    },
    {
     "name": "stdout",
     "output_type": "stream",
     "text": [
      "16/16 [==============================] - 0s 846us/step - loss: 4.4370\n",
      "16/16 [==============================] - 0s 813us/step - loss: 4.4370\n",
      "16/16 [==============================] - 0s 851us/step - loss: 4.4370\n",
      "16/16 [==============================] - 0s 732us/step - loss: 4.4370\n",
      "16/16 [==============================] - 0s 746us/step - loss: 4.4370\n",
      "16/16 [==============================] - 0s 755us/step - loss: 4.4370\n",
      "16/16 [==============================] - 0s 693us/step - loss: 4.4370\n",
      "\n",
      "Testing for epoch 47 index 2:\n",
      "65/65 [==============================] - 0s 503us/step\n",
      "16/16 [==============================] - 0s 747us/step - loss: 0.0135\n",
      "16/16 [==============================] - 0s 763us/step - loss: 4.4530\n",
      " 1/16 [>.............................] - ETA: 0s - loss: 4.4276"
     ]
    },
    {
     "name": "stderr",
     "output_type": "stream",
     "text": [
      "2023-05-13 18:27:40.452669: I tensorflow/core/common_runtime/executor.cc:1197] [/device:CPU:0] (DEBUG INFO) Executor start aborting (this does not indicate an error and you can ignore this message): INVALID_ARGUMENT: You must feed a value for placeholder tensor 'Placeholder/_1' with dtype int64 and shape [1000]\n",
      "\t [[{{node Placeholder/_1}}]]\n"
     ]
    },
    {
     "name": "stdout",
     "output_type": "stream",
     "text": [
      "16/16 [==============================] - 0s 799us/step - loss: 4.4529\n",
      "16/16 [==============================] - 0s 797us/step - loss: 4.4529\n",
      "16/16 [==============================] - 0s 786us/step - loss: 4.4529\n",
      "16/16 [==============================] - 0s 793us/step - loss: 4.4529\n",
      "16/16 [==============================] - 0s 837us/step - loss: 4.4529\n",
      "16/16 [==============================] - 0s 788us/step - loss: 4.4529\n",
      "16/16 [==============================] - 0s 806us/step - loss: 4.4529\n",
      "16/16 [==============================] - 0s 715us/step - loss: 4.4529\n",
      "\n",
      "Testing for epoch 47 index 3:\n",
      "65/65 [==============================] - 0s 453us/step\n",
      "16/16 [==============================] - 0s 681us/step - loss: 0.0134\n",
      "16/16 [==============================] - 0s 747us/step - loss: 4.4819\n",
      "16/16 [==============================] - 0s 723us/step - loss: 4.4819\n"
     ]
    },
    {
     "name": "stderr",
     "output_type": "stream",
     "text": [
      "2023-05-13 18:27:41.199309: I tensorflow/core/common_runtime/executor.cc:1197] [/device:CPU:0] (DEBUG INFO) Executor start aborting (this does not indicate an error and you can ignore this message): INVALID_ARGUMENT: You must feed a value for placeholder tensor 'Placeholder/_1' with dtype int64 and shape [1000]\n",
      "\t [[{{node Placeholder/_1}}]]\n"
     ]
    },
    {
     "name": "stdout",
     "output_type": "stream",
     "text": [
      "16/16 [==============================] - 0s 848us/step - loss: 4.4819\n",
      "16/16 [==============================] - 0s 822us/step - loss: 4.4819\n",
      "16/16 [==============================] - 0s 900us/step - loss: 4.4819\n",
      "16/16 [==============================] - 0s 687us/step - loss: 4.4819\n",
      "16/16 [==============================] - 0s 781us/step - loss: 4.4819\n",
      "16/16 [==============================] - 0s 801us/step - loss: 4.4819\n",
      "16/16 [==============================] - 0s 763us/step - loss: 4.4819\n",
      "\n",
      "Testing for epoch 47 index 4:\n",
      "65/65 [==============================] - 0s 452us/step\n",
      "16/16 [==============================] - 0s 731us/step - loss: 0.0132\n",
      "16/16 [==============================] - 0s 727us/step - loss: 4.4931\n",
      "16/16 [==============================] - 0s 720us/step - loss: 4.4931\n"
     ]
    },
    {
     "name": "stderr",
     "output_type": "stream",
     "text": [
      "2023-05-13 18:27:41.932191: I tensorflow/core/common_runtime/executor.cc:1197] [/device:CPU:0] (DEBUG INFO) Executor start aborting (this does not indicate an error and you can ignore this message): INVALID_ARGUMENT: You must feed a value for placeholder tensor 'Placeholder/_1' with dtype int64 and shape [1000]\n",
      "\t [[{{node Placeholder/_1}}]]\n"
     ]
    },
    {
     "name": "stdout",
     "output_type": "stream",
     "text": [
      "16/16 [==============================] - 0s 787us/step - loss: 4.4931\n",
      "16/16 [==============================] - 0s 992us/step - loss: 4.4931\n",
      "16/16 [==============================] - 0s 772us/step - loss: 4.4931\n",
      "16/16 [==============================] - 0s 736us/step - loss: 4.4931\n",
      "16/16 [==============================] - 0s 755us/step - loss: 4.4931\n",
      "16/16 [==============================] - 0s 780us/step - loss: 4.4931\n",
      "16/16 [==============================] - 0s 699us/step - loss: 4.4931\n",
      "Epoch 48 of 60\n",
      "\n",
      "Testing for epoch 48 index 1:\n",
      "65/65 [==============================] - 0s 474us/step\n",
      "16/16 [==============================] - 0s 812us/step - loss: 0.0132\n",
      "16/16 [==============================] - 0s 821us/step - loss: 4.4228\n",
      "16/16 [==============================] - 0s 839us/step - loss: 4.4228\n"
     ]
    },
    {
     "name": "stderr",
     "output_type": "stream",
     "text": [
      "2023-05-13 18:27:42.644994: I tensorflow/core/common_runtime/executor.cc:1197] [/device:CPU:0] (DEBUG INFO) Executor start aborting (this does not indicate an error and you can ignore this message): INVALID_ARGUMENT: You must feed a value for placeholder tensor 'Placeholder/_1' with dtype int64 and shape [1000]\n",
      "\t [[{{node Placeholder/_1}}]]\n"
     ]
    },
    {
     "name": "stdout",
     "output_type": "stream",
     "text": [
      "16/16 [==============================] - 0s 744us/step - loss: 4.4228\n",
      "16/16 [==============================] - 0s 837us/step - loss: 4.4228\n",
      "16/16 [==============================] - 0s 779us/step - loss: 4.4228\n",
      "16/16 [==============================] - 0s 774us/step - loss: 4.4228\n",
      "16/16 [==============================] - 0s 737us/step - loss: 4.4228\n",
      "16/16 [==============================] - 0s 712us/step - loss: 4.4228\n",
      "16/16 [==============================] - 0s 820us/step - loss: 4.4228\n",
      "\n",
      "Testing for epoch 48 index 2:\n",
      "65/65 [==============================] - 0s 480us/step\n",
      "16/16 [==============================] - 0s 814us/step - loss: 0.0130\n",
      "16/16 [==============================] - 0s 754us/step - loss: 4.5115\n",
      "16/16 [==============================] - 0s 720us/step - loss: 4.5114\n"
     ]
    },
    {
     "name": "stderr",
     "output_type": "stream",
     "text": [
      "2023-05-13 18:27:43.376764: I tensorflow/core/common_runtime/executor.cc:1197] [/device:CPU:0] (DEBUG INFO) Executor start aborting (this does not indicate an error and you can ignore this message): INVALID_ARGUMENT: You must feed a value for placeholder tensor 'Placeholder/_1' with dtype int64 and shape [1000]\n",
      "\t [[{{node Placeholder/_1}}]]\n"
     ]
    },
    {
     "name": "stdout",
     "output_type": "stream",
     "text": [
      "16/16 [==============================] - 0s 820us/step - loss: 4.5114\n",
      "16/16 [==============================] - 0s 834us/step - loss: 4.5114\n",
      "16/16 [==============================] - 0s 751us/step - loss: 4.5114\n",
      "16/16 [==============================] - 0s 699us/step - loss: 4.5114\n",
      "16/16 [==============================] - 0s 762us/step - loss: 4.5114\n",
      "16/16 [==============================] - 0s 823us/step - loss: 4.5114\n",
      "16/16 [==============================] - 0s 712us/step - loss: 4.5114\n",
      "\n",
      "Testing for epoch 48 index 3:\n",
      "65/65 [==============================] - 0s 536us/step\n",
      "16/16 [==============================] - 0s 843us/step - loss: 0.0130\n",
      "16/16 [==============================] - 0s 686us/step - loss: 4.4973\n",
      " 1/16 [>.............................] - ETA: 0s - loss: 4.4813"
     ]
    },
    {
     "name": "stderr",
     "output_type": "stream",
     "text": [
      "2023-05-13 18:27:44.110252: I tensorflow/core/common_runtime/executor.cc:1197] [/device:CPU:0] (DEBUG INFO) Executor start aborting (this does not indicate an error and you can ignore this message): INVALID_ARGUMENT: You must feed a value for placeholder tensor 'Placeholder/_1' with dtype int64 and shape [1000]\n",
      "\t [[{{node Placeholder/_1}}]]\n"
     ]
    },
    {
     "name": "stdout",
     "output_type": "stream",
     "text": [
      "16/16 [==============================] - 0s 761us/step - loss: 4.4973\n",
      "16/16 [==============================] - 0s 780us/step - loss: 4.4973\n",
      "16/16 [==============================] - 0s 758us/step - loss: 4.4973\n",
      "16/16 [==============================] - 0s 789us/step - loss: 4.4973\n",
      "16/16 [==============================] - 0s 804us/step - loss: 4.4973\n",
      "16/16 [==============================] - 0s 678us/step - loss: 4.4973\n",
      "16/16 [==============================] - 0s 730us/step - loss: 4.4973\n",
      "16/16 [==============================] - 0s 763us/step - loss: 4.4973\n",
      "\n",
      "Testing for epoch 48 index 4:\n",
      "65/65 [==============================] - 0s 527us/step\n",
      "16/16 [==============================] - 0s 776us/step - loss: 0.0129\n",
      "16/16 [==============================] - 0s 780us/step - loss: 4.4837\n",
      "16/16 [==============================] - 0s 834us/step - loss: 4.4837\n"
     ]
    },
    {
     "name": "stderr",
     "output_type": "stream",
     "text": [
      "2023-05-13 18:27:44.838698: I tensorflow/core/common_runtime/executor.cc:1197] [/device:CPU:0] (DEBUG INFO) Executor start aborting (this does not indicate an error and you can ignore this message): INVALID_ARGUMENT: You must feed a value for placeholder tensor 'Placeholder/_1' with dtype int64 and shape [1000]\n",
      "\t [[{{node Placeholder/_1}}]]\n"
     ]
    },
    {
     "name": "stdout",
     "output_type": "stream",
     "text": [
      "16/16 [==============================] - 0s 845us/step - loss: 4.4837\n",
      "16/16 [==============================] - 0s 855us/step - loss: 4.4837\n",
      "16/16 [==============================] - 0s 789us/step - loss: 4.4837\n",
      "16/16 [==============================] - 0s 851us/step - loss: 4.4837\n",
      "16/16 [==============================] - 0s 661us/step - loss: 4.4837\n",
      "16/16 [==============================] - 0s 795us/step - loss: 4.4837\n",
      "16/16 [==============================] - 0s 716us/step - loss: 4.4837\n",
      "Epoch 49 of 60\n",
      "\n",
      "Testing for epoch 49 index 1:\n",
      "65/65 [==============================] - 0s 494us/step\n",
      "16/16 [==============================] - 0s 852us/step - loss: 0.0127\n",
      "16/16 [==============================] - 0s 776us/step - loss: 4.5167\n",
      "16/16 [==============================] - 0s 700us/step - loss: 4.5167\n"
     ]
    },
    {
     "name": "stderr",
     "output_type": "stream",
     "text": [
      "2023-05-13 18:27:45.612216: I tensorflow/core/common_runtime/executor.cc:1197] [/device:CPU:0] (DEBUG INFO) Executor start aborting (this does not indicate an error and you can ignore this message): INVALID_ARGUMENT: You must feed a value for placeholder tensor 'Placeholder/_1' with dtype int64 and shape [1000]\n",
      "\t [[{{node Placeholder/_1}}]]\n"
     ]
    },
    {
     "name": "stdout",
     "output_type": "stream",
     "text": [
      "16/16 [==============================] - 0s 731us/step - loss: 4.5167\n",
      "16/16 [==============================] - 0s 816us/step - loss: 4.5167\n",
      "16/16 [==============================] - 0s 701us/step - loss: 4.5167\n",
      "16/16 [==============================] - 0s 786us/step - loss: 4.5167\n",
      "16/16 [==============================] - 0s 755us/step - loss: 4.5167\n",
      "16/16 [==============================] - 0s 747us/step - loss: 4.5167\n",
      "16/16 [==============================] - 0s 669us/step - loss: 4.5167\n",
      "\n",
      "Testing for epoch 49 index 2:\n",
      "65/65 [==============================] - 0s 438us/step\n",
      "16/16 [==============================] - 0s 719us/step - loss: 0.0127\n",
      "16/16 [==============================] - 0s 717us/step - loss: 4.5221\n",
      "16/16 [==============================] - 0s 667us/step - loss: 4.5220\n"
     ]
    },
    {
     "name": "stderr",
     "output_type": "stream",
     "text": [
      "2023-05-13 18:27:46.562019: I tensorflow/core/common_runtime/executor.cc:1197] [/device:CPU:0] (DEBUG INFO) Executor start aborting (this does not indicate an error and you can ignore this message): INVALID_ARGUMENT: You must feed a value for placeholder tensor 'Placeholder/_1' with dtype int64 and shape [1000]\n",
      "\t [[{{node Placeholder/_1}}]]\n"
     ]
    },
    {
     "name": "stdout",
     "output_type": "stream",
     "text": [
      "16/16 [==============================] - 0s 705us/step - loss: 4.5220\n",
      "16/16 [==============================] - 0s 716us/step - loss: 4.5220\n",
      "16/16 [==============================] - 0s 805us/step - loss: 4.5220\n",
      "16/16 [==============================] - 0s 735us/step - loss: 4.5220\n",
      "16/16 [==============================] - 0s 854us/step - loss: 4.5220\n",
      "16/16 [==============================] - 0s 851us/step - loss: 4.5220\n",
      "16/16 [==============================] - 0s 819us/step - loss: 4.5220\n",
      "\n",
      "Testing for epoch 49 index 3:\n",
      "65/65 [==============================] - 0s 444us/step\n",
      "16/16 [==============================] - 0s 683us/step - loss: 0.0127\n",
      "16/16 [==============================] - 0s 695us/step - loss: 4.4566\n",
      "16/16 [==============================] - 0s 651us/step - loss: 4.4565\n"
     ]
    },
    {
     "name": "stderr",
     "output_type": "stream",
     "text": [
      "2023-05-13 18:27:47.349442: I tensorflow/core/common_runtime/executor.cc:1197] [/device:CPU:0] (DEBUG INFO) Executor start aborting (this does not indicate an error and you can ignore this message): INVALID_ARGUMENT: You must feed a value for placeholder tensor 'Placeholder/_1' with dtype int64 and shape [1000]\n",
      "\t [[{{node Placeholder/_1}}]]\n"
     ]
    },
    {
     "name": "stdout",
     "output_type": "stream",
     "text": [
      "16/16 [==============================] - 0s 676us/step - loss: 4.4565\n",
      "16/16 [==============================] - 0s 700us/step - loss: 4.4565\n",
      "16/16 [==============================] - 0s 767us/step - loss: 4.4565\n",
      "16/16 [==============================] - 0s 656us/step - loss: 4.4565\n",
      "16/16 [==============================] - 0s 692us/step - loss: 4.4565\n",
      "16/16 [==============================] - 0s 726us/step - loss: 4.4565\n",
      "16/16 [==============================] - 0s 680us/step - loss: 4.4565\n",
      "\n",
      "Testing for epoch 49 index 4:\n",
      "65/65 [==============================] - 0s 431us/step\n",
      "16/16 [==============================] - 0s 721us/step - loss: 0.0126\n",
      "16/16 [==============================] - 0s 707us/step - loss: 4.5070\n",
      "16/16 [==============================] - 0s 674us/step - loss: 4.5070\n"
     ]
    },
    {
     "name": "stderr",
     "output_type": "stream",
     "text": [
      "2023-05-13 18:27:48.124046: I tensorflow/core/common_runtime/executor.cc:1197] [/device:CPU:0] (DEBUG INFO) Executor start aborting (this does not indicate an error and you can ignore this message): INVALID_ARGUMENT: You must feed a value for placeholder tensor 'Placeholder/_1' with dtype int64 and shape [1000]\n",
      "\t [[{{node Placeholder/_1}}]]\n"
     ]
    },
    {
     "name": "stdout",
     "output_type": "stream",
     "text": [
      "16/16 [==============================] - 0s 685us/step - loss: 4.5070\n",
      "16/16 [==============================] - 0s 825us/step - loss: 4.5070\n",
      "16/16 [==============================] - 0s 667us/step - loss: 4.5070\n",
      "16/16 [==============================] - 0s 679us/step - loss: 4.5070\n",
      "16/16 [==============================] - 0s 805us/step - loss: 4.5070\n",
      "16/16 [==============================] - 0s 830us/step - loss: 4.5070\n",
      "16/16 [==============================] - 0s 729us/step - loss: 4.5070\n",
      "Epoch 50 of 60\n",
      "\n",
      "Testing for epoch 50 index 1:\n",
      "65/65 [==============================] - 0s 428us/step\n",
      "16/16 [==============================] - 0s 685us/step - loss: 0.0125\n",
      "16/16 [==============================] - 0s 714us/step - loss: 4.5149\n",
      "16/16 [==============================] - 0s 668us/step - loss: 4.5149\n"
     ]
    },
    {
     "name": "stderr",
     "output_type": "stream",
     "text": [
      "2023-05-13 18:27:48.932211: I tensorflow/core/common_runtime/executor.cc:1197] [/device:CPU:0] (DEBUG INFO) Executor start aborting (this does not indicate an error and you can ignore this message): INVALID_ARGUMENT: You must feed a value for placeholder tensor 'Placeholder/_1' with dtype int64 and shape [1000]\n",
      "\t [[{{node Placeholder/_1}}]]\n"
     ]
    },
    {
     "name": "stdout",
     "output_type": "stream",
     "text": [
      "16/16 [==============================] - 0s 693us/step - loss: 4.5149\n",
      "16/16 [==============================] - 0s 708us/step - loss: 4.5149\n",
      "16/16 [==============================] - 0s 713us/step - loss: 4.5149\n",
      "16/16 [==============================] - 0s 650us/step - loss: 4.5149\n",
      "16/16 [==============================] - 0s 732us/step - loss: 4.5149\n",
      "16/16 [==============================] - 0s 725us/step - loss: 4.5149\n",
      "16/16 [==============================] - 0s 661us/step - loss: 4.5149\n",
      "\n",
      "Testing for epoch 50 index 2:\n",
      "65/65 [==============================] - 0s 490us/step\n",
      "16/16 [==============================] - 0s 701us/step - loss: 0.0123\n",
      "16/16 [==============================] - 0s 734us/step - loss: 4.5833\n",
      "16/16 [==============================] - 0s 721us/step - loss: 4.5833\n"
     ]
    },
    {
     "name": "stderr",
     "output_type": "stream",
     "text": [
      "2023-05-13 18:27:49.706940: I tensorflow/core/common_runtime/executor.cc:1197] [/device:CPU:0] (DEBUG INFO) Executor start aborting (this does not indicate an error and you can ignore this message): INVALID_ARGUMENT: You must feed a value for placeholder tensor 'Placeholder/_1' with dtype int64 and shape [1000]\n",
      "\t [[{{node Placeholder/_1}}]]\n"
     ]
    },
    {
     "name": "stdout",
     "output_type": "stream",
     "text": [
      "16/16 [==============================] - 0s 734us/step - loss: 4.5833\n",
      "16/16 [==============================] - 0s 758us/step - loss: 4.5833\n",
      "16/16 [==============================] - 0s 678us/step - loss: 4.5833\n",
      "16/16 [==============================] - 0s 720us/step - loss: 4.5833\n",
      "16/16 [==============================] - 0s 712us/step - loss: 4.5833\n",
      "16/16 [==============================] - 0s 666us/step - loss: 4.5833\n",
      "16/16 [==============================] - 0s 664us/step - loss: 4.5833\n",
      "\n",
      "Testing for epoch 50 index 3:\n",
      "65/65 [==============================] - 0s 469us/step\n",
      "16/16 [==============================] - 0s 694us/step - loss: 0.0124\n",
      "16/16 [==============================] - 0s 733us/step - loss: 4.5513\n",
      "16/16 [==============================] - 0s 867us/step - loss: 4.5513\n"
     ]
    },
    {
     "name": "stderr",
     "output_type": "stream",
     "text": [
      "2023-05-13 18:27:50.443508: I tensorflow/core/common_runtime/executor.cc:1197] [/device:CPU:0] (DEBUG INFO) Executor start aborting (this does not indicate an error and you can ignore this message): INVALID_ARGUMENT: You must feed a value for placeholder tensor 'Placeholder/_1' with dtype int64 and shape [1000]\n",
      "\t [[{{node Placeholder/_1}}]]\n"
     ]
    },
    {
     "name": "stdout",
     "output_type": "stream",
     "text": [
      "16/16 [==============================] - 0s 701us/step - loss: 4.5513\n",
      "16/16 [==============================] - 0s 770us/step - loss: 4.5513\n",
      "16/16 [==============================] - 0s 807us/step - loss: 4.5513\n",
      "16/16 [==============================] - 0s 658us/step - loss: 4.5513\n",
      "16/16 [==============================] - 0s 711us/step - loss: 4.5513\n",
      "16/16 [==============================] - 0s 702us/step - loss: 4.5513\n",
      "16/16 [==============================] - 0s 729us/step - loss: 4.5513\n",
      "\n",
      "Testing for epoch 50 index 4:\n",
      "65/65 [==============================] - 0s 436us/step\n",
      "16/16 [==============================] - 0s 791us/step - loss: 0.0123\n",
      "16/16 [==============================] - 0s 702us/step - loss: 4.5640\n",
      "16/16 [==============================] - 0s 667us/step - loss: 4.5640\n"
     ]
    },
    {
     "name": "stderr",
     "output_type": "stream",
     "text": [
      "2023-05-13 18:27:51.165251: I tensorflow/core/common_runtime/executor.cc:1197] [/device:CPU:0] (DEBUG INFO) Executor start aborting (this does not indicate an error and you can ignore this message): INVALID_ARGUMENT: You must feed a value for placeholder tensor 'Placeholder/_1' with dtype int64 and shape [1000]\n",
      "\t [[{{node Placeholder/_1}}]]\n"
     ]
    },
    {
     "name": "stdout",
     "output_type": "stream",
     "text": [
      "16/16 [==============================] - 0s 678us/step - loss: 4.5640\n",
      "16/16 [==============================] - 0s 756us/step - loss: 4.5640\n",
      "16/16 [==============================] - 0s 805us/step - loss: 4.5640\n",
      "16/16 [==============================] - 0s 679us/step - loss: 4.5640\n",
      "16/16 [==============================] - 0s 706us/step - loss: 4.5640\n",
      "16/16 [==============================] - 0s 733us/step - loss: 4.5640\n",
      "16/16 [==============================] - 0s 661us/step - loss: 4.5640\n",
      "Epoch 51 of 60\n",
      "\n",
      "Testing for epoch 51 index 1:\n",
      "65/65 [==============================] - 0s 505us/step\n",
      "16/16 [==============================] - 0s 709us/step - loss: 0.0122\n",
      "16/16 [==============================] - 0s 687us/step - loss: 4.5352\n",
      "16/16 [==============================] - 0s 654us/step - loss: 4.5352\n"
     ]
    },
    {
     "name": "stderr",
     "output_type": "stream",
     "text": [
      "2023-05-13 18:27:51.866687: I tensorflow/core/common_runtime/executor.cc:1197] [/device:CPU:0] (DEBUG INFO) Executor start aborting (this does not indicate an error and you can ignore this message): INVALID_ARGUMENT: You must feed a value for placeholder tensor 'Placeholder/_1' with dtype int64 and shape [1000]\n",
      "\t [[{{node Placeholder/_1}}]]\n"
     ]
    },
    {
     "name": "stdout",
     "output_type": "stream",
     "text": [
      "16/16 [==============================] - 0s 727us/step - loss: 4.5352\n",
      "16/16 [==============================] - 0s 688us/step - loss: 4.5352\n",
      "16/16 [==============================] - 0s 640us/step - loss: 4.5352\n",
      "16/16 [==============================] - 0s 669us/step - loss: 4.5352\n",
      "16/16 [==============================] - 0s 638us/step - loss: 4.5352\n",
      "16/16 [==============================] - 0s 686us/step - loss: 4.5352\n",
      "16/16 [==============================] - 0s 677us/step - loss: 4.5352\n",
      "\n",
      "Testing for epoch 51 index 2:\n",
      "65/65 [==============================] - 0s 437us/step\n",
      "16/16 [==============================] - 0s 680us/step - loss: 0.0121\n",
      "16/16 [==============================] - 0s 749us/step - loss: 4.5385\n",
      "16/16 [==============================] - 0s 662us/step - loss: 4.5385\n"
     ]
    },
    {
     "name": "stderr",
     "output_type": "stream",
     "text": [
      "2023-05-13 18:27:52.550156: I tensorflow/core/common_runtime/executor.cc:1197] [/device:CPU:0] (DEBUG INFO) Executor start aborting (this does not indicate an error and you can ignore this message): INVALID_ARGUMENT: You must feed a value for placeholder tensor 'Placeholder/_1' with dtype int64 and shape [1000]\n",
      "\t [[{{node Placeholder/_1}}]]\n"
     ]
    },
    {
     "name": "stdout",
     "output_type": "stream",
     "text": [
      "16/16 [==============================] - 0s 719us/step - loss: 4.5385\n",
      "16/16 [==============================] - 0s 798us/step - loss: 4.5385\n",
      "16/16 [==============================] - 0s 731us/step - loss: 4.5385\n",
      "16/16 [==============================] - 0s 744us/step - loss: 4.5385\n",
      "16/16 [==============================] - 0s 773us/step - loss: 4.5385\n",
      "16/16 [==============================] - 0s 733us/step - loss: 4.5385\n",
      "16/16 [==============================] - 0s 799us/step - loss: 4.5385\n",
      "\n",
      "Testing for epoch 51 index 3:\n",
      "65/65 [==============================] - 0s 425us/step\n",
      "16/16 [==============================] - 0s 702us/step - loss: 0.0120\n",
      "16/16 [==============================] - 0s 686us/step - loss: 4.5539\n",
      "16/16 [==============================] - 0s 663us/step - loss: 4.5539\n"
     ]
    },
    {
     "name": "stderr",
     "output_type": "stream",
     "text": [
      "2023-05-13 18:27:53.240959: I tensorflow/core/common_runtime/executor.cc:1197] [/device:CPU:0] (DEBUG INFO) Executor start aborting (this does not indicate an error and you can ignore this message): INVALID_ARGUMENT: You must feed a value for placeholder tensor 'Placeholder/_1' with dtype int64 and shape [1000]\n",
      "\t [[{{node Placeholder/_1}}]]\n"
     ]
    },
    {
     "name": "stdout",
     "output_type": "stream",
     "text": [
      "16/16 [==============================] - 0s 655us/step - loss: 4.5539\n",
      "16/16 [==============================] - 0s 784us/step - loss: 4.5539\n",
      "16/16 [==============================] - 0s 697us/step - loss: 4.5539\n",
      "16/16 [==============================] - 0s 747us/step - loss: 4.5539\n",
      "16/16 [==============================] - 0s 691us/step - loss: 4.5539\n",
      "16/16 [==============================] - 0s 724us/step - loss: 4.5539\n",
      "16/16 [==============================] - 0s 724us/step - loss: 4.5539\n",
      "\n",
      "Testing for epoch 51 index 4:\n",
      "65/65 [==============================] - 0s 436us/step\n",
      "16/16 [==============================] - 0s 696us/step - loss: 0.0120\n",
      "16/16 [==============================] - 0s 706us/step - loss: 4.5709\n",
      "16/16 [==============================] - 0s 661us/step - loss: 4.5708\n"
     ]
    },
    {
     "name": "stderr",
     "output_type": "stream",
     "text": [
      "2023-05-13 18:27:53.912976: I tensorflow/core/common_runtime/executor.cc:1197] [/device:CPU:0] (DEBUG INFO) Executor start aborting (this does not indicate an error and you can ignore this message): INVALID_ARGUMENT: You must feed a value for placeholder tensor 'Placeholder/_1' with dtype int64 and shape [1000]\n",
      "\t [[{{node Placeholder/_1}}]]\n"
     ]
    },
    {
     "name": "stdout",
     "output_type": "stream",
     "text": [
      "16/16 [==============================] - 0s 675us/step - loss: 4.5708\n",
      "16/16 [==============================] - 0s 723us/step - loss: 4.5708\n",
      "16/16 [==============================] - 0s 732us/step - loss: 4.5708\n",
      "16/16 [==============================] - 0s 671us/step - loss: 4.5708\n",
      "16/16 [==============================] - 0s 717us/step - loss: 4.5708\n",
      "16/16 [==============================] - 0s 727us/step - loss: 4.5708\n",
      "16/16 [==============================] - 0s 714us/step - loss: 4.5708\n",
      "Epoch 52 of 60\n",
      "\n",
      "Testing for epoch 52 index 1:\n",
      "65/65 [==============================] - 0s 449us/step\n",
      "16/16 [==============================] - 0s 720us/step - loss: 0.0119\n",
      "16/16 [==============================] - 0s 735us/step - loss: 4.5776\n",
      "16/16 [==============================] - 0s 803us/step - loss: 4.5776\n"
     ]
    },
    {
     "name": "stderr",
     "output_type": "stream",
     "text": [
      "2023-05-13 18:27:54.590773: I tensorflow/core/common_runtime/executor.cc:1197] [/device:CPU:0] (DEBUG INFO) Executor start aborting (this does not indicate an error and you can ignore this message): INVALID_ARGUMENT: You must feed a value for placeholder tensor 'Placeholder/_1' with dtype int64 and shape [1000]\n",
      "\t [[{{node Placeholder/_1}}]]\n"
     ]
    },
    {
     "name": "stdout",
     "output_type": "stream",
     "text": [
      "16/16 [==============================] - 0s 755us/step - loss: 4.5776\n",
      "16/16 [==============================] - 0s 719us/step - loss: 4.5776\n",
      "16/16 [==============================] - 0s 689us/step - loss: 4.5776\n",
      "16/16 [==============================] - 0s 649us/step - loss: 4.5776\n",
      "16/16 [==============================] - 0s 702us/step - loss: 4.5776\n",
      "16/16 [==============================] - 0s 729us/step - loss: 4.5776\n",
      "16/16 [==============================] - 0s 733us/step - loss: 4.5776\n",
      "\n",
      "Testing for epoch 52 index 2:\n",
      "65/65 [==============================] - 0s 481us/step\n",
      "16/16 [==============================] - 0s 969us/step - loss: 0.0119\n",
      "16/16 [==============================] - 0s 700us/step - loss: 4.5619\n",
      "16/16 [==============================] - 0s 751us/step - loss: 4.5619\n"
     ]
    },
    {
     "name": "stderr",
     "output_type": "stream",
     "text": [
      "2023-05-13 18:27:55.294762: I tensorflow/core/common_runtime/executor.cc:1197] [/device:CPU:0] (DEBUG INFO) Executor start aborting (this does not indicate an error and you can ignore this message): INVALID_ARGUMENT: You must feed a value for placeholder tensor 'Placeholder/_1' with dtype int64 and shape [1000]\n",
      "\t [[{{node Placeholder/_1}}]]\n"
     ]
    },
    {
     "name": "stdout",
     "output_type": "stream",
     "text": [
      "16/16 [==============================] - 0s 811us/step - loss: 4.5619\n",
      "16/16 [==============================] - 0s 832us/step - loss: 4.5619\n",
      "16/16 [==============================] - 0s 734us/step - loss: 4.5619\n",
      "16/16 [==============================] - 0s 721us/step - loss: 4.5619\n",
      "16/16 [==============================] - 0s 684us/step - loss: 4.5619\n",
      "16/16 [==============================] - 0s 716us/step - loss: 4.5619\n",
      "16/16 [==============================] - 0s 871us/step - loss: 4.5619\n",
      "\n",
      "Testing for epoch 52 index 3:\n",
      "65/65 [==============================] - 0s 426us/step\n",
      "16/16 [==============================] - 0s 970us/step - loss: 0.0117\n",
      "16/16 [==============================] - 0s 687us/step - loss: 4.6071\n",
      "16/16 [==============================] - 0s 855us/step - loss: 4.6071\n"
     ]
    },
    {
     "name": "stderr",
     "output_type": "stream",
     "text": [
      "2023-05-13 18:27:56.021596: I tensorflow/core/common_runtime/executor.cc:1197] [/device:CPU:0] (DEBUG INFO) Executor start aborting (this does not indicate an error and you can ignore this message): INVALID_ARGUMENT: You must feed a value for placeholder tensor 'Placeholder/_1' with dtype int64 and shape [1000]\n",
      "\t [[{{node Placeholder/_1}}]]\n"
     ]
    },
    {
     "name": "stdout",
     "output_type": "stream",
     "text": [
      "16/16 [==============================] - 0s 713us/step - loss: 4.6071\n",
      "16/16 [==============================] - 0s 741us/step - loss: 4.6071\n",
      "16/16 [==============================] - 0s 683us/step - loss: 4.6071\n",
      "16/16 [==============================] - 0s 892us/step - loss: 4.6071\n",
      "16/16 [==============================] - 0s 735us/step - loss: 4.6071\n",
      "16/16 [==============================] - 0s 712us/step - loss: 4.6071\n",
      "16/16 [==============================] - 0s 678us/step - loss: 4.6071\n",
      "\n",
      "Testing for epoch 52 index 4:\n",
      "65/65 [==============================] - 0s 423us/step\n",
      "16/16 [==============================] - 0s 715us/step - loss: 0.0117\n",
      "16/16 [==============================] - 0s 662us/step - loss: 4.5936\n",
      "16/16 [==============================] - 0s 675us/step - loss: 4.5936\n"
     ]
    },
    {
     "name": "stderr",
     "output_type": "stream",
     "text": [
      "2023-05-13 18:27:56.718911: I tensorflow/core/common_runtime/executor.cc:1197] [/device:CPU:0] (DEBUG INFO) Executor start aborting (this does not indicate an error and you can ignore this message): INVALID_ARGUMENT: You must feed a value for placeholder tensor 'Placeholder/_1' with dtype int64 and shape [1000]\n",
      "\t [[{{node Placeholder/_1}}]]\n"
     ]
    },
    {
     "name": "stdout",
     "output_type": "stream",
     "text": [
      "16/16 [==============================] - 0s 687us/step - loss: 4.5936\n",
      "16/16 [==============================] - 0s 810us/step - loss: 4.5936\n",
      "16/16 [==============================] - 0s 719us/step - loss: 4.5936\n",
      "16/16 [==============================] - 0s 923us/step - loss: 4.5936\n",
      "16/16 [==============================] - 0s 753us/step - loss: 4.5936\n",
      "16/16 [==============================] - 0s 748us/step - loss: 4.5936\n",
      "16/16 [==============================] - 0s 756us/step - loss: 4.5936\n",
      "Epoch 53 of 60\n",
      "\n",
      "Testing for epoch 53 index 1:\n",
      "65/65 [==============================] - 0s 484us/step\n",
      "16/16 [==============================] - 0s 696us/step - loss: 0.0116\n",
      "16/16 [==============================] - 0s 685us/step - loss: 4.6149\n",
      "16/16 [==============================] - 0s 721us/step - loss: 4.6149\n"
     ]
    },
    {
     "name": "stderr",
     "output_type": "stream",
     "text": [
      "2023-05-13 18:27:57.424476: I tensorflow/core/common_runtime/executor.cc:1197] [/device:CPU:0] (DEBUG INFO) Executor start aborting (this does not indicate an error and you can ignore this message): INVALID_ARGUMENT: You must feed a value for placeholder tensor 'Placeholder/_1' with dtype int64 and shape [1000]\n",
      "\t [[{{node Placeholder/_1}}]]\n"
     ]
    },
    {
     "name": "stdout",
     "output_type": "stream",
     "text": [
      "16/16 [==============================] - 0s 711us/step - loss: 4.6149\n",
      "16/16 [==============================] - 0s 819us/step - loss: 4.6149\n",
      "16/16 [==============================] - 0s 859us/step - loss: 4.6149\n",
      "16/16 [==============================] - 0s 799us/step - loss: 4.6149\n",
      "16/16 [==============================] - 0s 686us/step - loss: 4.6149\n",
      "16/16 [==============================] - 0s 866us/step - loss: 4.6149\n",
      "16/16 [==============================] - 0s 678us/step - loss: 4.6149\n",
      "\n",
      "Testing for epoch 53 index 2:\n",
      "65/65 [==============================] - 0s 484us/step\n",
      "16/16 [==============================] - 0s 681us/step - loss: 0.0116\n",
      "16/16 [==============================] - 0s 685us/step - loss: 4.6406\n",
      "16/16 [==============================] - 0s 765us/step - loss: 4.6406\n"
     ]
    },
    {
     "name": "stderr",
     "output_type": "stream",
     "text": [
      "2023-05-13 18:27:58.133034: I tensorflow/core/common_runtime/executor.cc:1197] [/device:CPU:0] (DEBUG INFO) Executor start aborting (this does not indicate an error and you can ignore this message): INVALID_ARGUMENT: You must feed a value for placeholder tensor 'Placeholder/_1' with dtype int64 and shape [1000]\n",
      "\t [[{{node Placeholder/_1}}]]\n"
     ]
    },
    {
     "name": "stdout",
     "output_type": "stream",
     "text": [
      "16/16 [==============================] - 0s 809us/step - loss: 4.6406\n",
      "16/16 [==============================] - 0s 739us/step - loss: 4.6406\n",
      "16/16 [==============================] - 0s 812us/step - loss: 4.6406\n",
      "16/16 [==============================] - 0s 1ms/step - loss: 4.6406\n",
      "16/16 [==============================] - 0s 865us/step - loss: 4.6406\n",
      "16/16 [==============================] - 0s 927us/step - loss: 4.6406\n",
      "16/16 [==============================] - 0s 1ms/step - loss: 4.6406\n",
      "\n",
      "Testing for epoch 53 index 3:\n",
      "65/65 [==============================] - 0s 464us/step\n",
      "16/16 [==============================] - 0s 771us/step - loss: 0.0116\n",
      "16/16 [==============================] - 0s 710us/step - loss: 4.5850\n",
      "16/16 [==============================] - 0s 775us/step - loss: 4.5850\n"
     ]
    },
    {
     "name": "stderr",
     "output_type": "stream",
     "text": [
      "2023-05-13 18:27:58.904722: I tensorflow/core/common_runtime/executor.cc:1197] [/device:CPU:0] (DEBUG INFO) Executor start aborting (this does not indicate an error and you can ignore this message): INVALID_ARGUMENT: You must feed a value for placeholder tensor 'Placeholder/_1' with dtype int64 and shape [1000]\n",
      "\t [[{{node Placeholder/_1}}]]\n"
     ]
    },
    {
     "name": "stdout",
     "output_type": "stream",
     "text": [
      "16/16 [==============================] - 0s 761us/step - loss: 4.5850\n",
      "16/16 [==============================] - 0s 843us/step - loss: 4.5850\n",
      "16/16 [==============================] - 0s 672us/step - loss: 4.5850\n",
      "16/16 [==============================] - 0s 946us/step - loss: 4.5850\n",
      "16/16 [==============================] - 0s 780us/step - loss: 4.5850\n",
      "16/16 [==============================] - 0s 818us/step - loss: 4.5850\n",
      "16/16 [==============================] - 0s 844us/step - loss: 4.5850\n",
      "\n",
      "Testing for epoch 53 index 4:\n",
      "65/65 [==============================] - 0s 452us/step\n",
      "16/16 [==============================] - 0s 753us/step - loss: 0.0114\n",
      "16/16 [==============================] - 0s 727us/step - loss: 4.6069\n",
      "16/16 [==============================] - 0s 828us/step - loss: 4.6069\n"
     ]
    },
    {
     "name": "stderr",
     "output_type": "stream",
     "text": [
      "2023-05-13 18:27:59.658774: I tensorflow/core/common_runtime/executor.cc:1197] [/device:CPU:0] (DEBUG INFO) Executor start aborting (this does not indicate an error and you can ignore this message): INVALID_ARGUMENT: You must feed a value for placeholder tensor 'Placeholder/_1' with dtype int64 and shape [1000]\n",
      "\t [[{{node Placeholder/_1}}]]\n"
     ]
    },
    {
     "name": "stdout",
     "output_type": "stream",
     "text": [
      "16/16 [==============================] - 0s 765us/step - loss: 4.6069\n",
      "16/16 [==============================] - 0s 711us/step - loss: 4.6069\n",
      "16/16 [==============================] - 0s 803us/step - loss: 4.6069\n",
      "16/16 [==============================] - 0s 811us/step - loss: 4.6069\n",
      "16/16 [==============================] - 0s 733us/step - loss: 4.6069\n",
      "16/16 [==============================] - 0s 694us/step - loss: 4.6069\n",
      "16/16 [==============================] - 0s 661us/step - loss: 4.6069\n",
      "Epoch 54 of 60\n",
      "\n",
      "Testing for epoch 54 index 1:\n",
      "65/65 [==============================] - 0s 435us/step\n",
      "16/16 [==============================] - 0s 674us/step - loss: 0.0113\n",
      "16/16 [==============================] - 0s 693us/step - loss: 4.6379\n",
      "16/16 [==============================] - 0s 697us/step - loss: 4.6378\n"
     ]
    },
    {
     "name": "stderr",
     "output_type": "stream",
     "text": [
      "2023-05-13 18:28:00.355011: I tensorflow/core/common_runtime/executor.cc:1197] [/device:CPU:0] (DEBUG INFO) Executor start aborting (this does not indicate an error and you can ignore this message): INVALID_ARGUMENT: You must feed a value for placeholder tensor 'Placeholder/_1' with dtype int64 and shape [1000]\n",
      "\t [[{{node Placeholder/_1}}]]\n"
     ]
    },
    {
     "name": "stdout",
     "output_type": "stream",
     "text": [
      "16/16 [==============================] - 0s 744us/step - loss: 4.6378\n",
      "16/16 [==============================] - 0s 701us/step - loss: 4.6378\n",
      "16/16 [==============================] - 0s 729us/step - loss: 4.6378\n",
      "16/16 [==============================] - 0s 666us/step - loss: 4.6378\n",
      "16/16 [==============================] - 0s 725us/step - loss: 4.6378\n",
      "16/16 [==============================] - 0s 730us/step - loss: 4.6378\n",
      "16/16 [==============================] - 0s 719us/step - loss: 4.6378\n",
      "\n",
      "Testing for epoch 54 index 2:\n",
      "65/65 [==============================] - 0s 445us/step\n",
      "16/16 [==============================] - 0s 670us/step - loss: 0.0113\n",
      "16/16 [==============================] - 0s 735us/step - loss: 4.6050\n",
      "16/16 [==============================] - 0s 683us/step - loss: 4.6050\n",
      " 1/16 [>.............................] - ETA: 0s - loss: 4.6293"
     ]
    },
    {
     "name": "stderr",
     "output_type": "stream",
     "text": [
      "2023-05-13 18:28:01.034257: I tensorflow/core/common_runtime/executor.cc:1197] [/device:CPU:0] (DEBUG INFO) Executor start aborting (this does not indicate an error and you can ignore this message): INVALID_ARGUMENT: You must feed a value for placeholder tensor 'Placeholder/_1' with dtype int64 and shape [1000]\n",
      "\t [[{{node Placeholder/_1}}]]\n"
     ]
    },
    {
     "name": "stdout",
     "output_type": "stream",
     "text": [
      "16/16 [==============================] - 0s 752us/step - loss: 4.6050\n",
      "16/16 [==============================] - 0s 754us/step - loss: 4.6050\n",
      "16/16 [==============================] - 0s 643us/step - loss: 4.6050\n",
      "16/16 [==============================] - 0s 709us/step - loss: 4.6050\n",
      "16/16 [==============================] - 0s 702us/step - loss: 4.6050\n",
      "16/16 [==============================] - 0s 836us/step - loss: 4.6050\n",
      "16/16 [==============================] - 0s 704us/step - loss: 4.6050\n",
      "\n",
      "Testing for epoch 54 index 3:\n",
      "65/65 [==============================] - 0s 428us/step\n",
      "16/16 [==============================] - 0s 700us/step - loss: 0.0113\n",
      "16/16 [==============================] - 0s 645us/step - loss: 4.6144\n",
      "16/16 [==============================] - 0s 677us/step - loss: 4.6143\n"
     ]
    },
    {
     "name": "stderr",
     "output_type": "stream",
     "text": [
      "2023-05-13 18:28:01.718439: I tensorflow/core/common_runtime/executor.cc:1197] [/device:CPU:0] (DEBUG INFO) Executor start aborting (this does not indicate an error and you can ignore this message): INVALID_ARGUMENT: You must feed a value for placeholder tensor 'Placeholder/_1' with dtype int64 and shape [1000]\n",
      "\t [[{{node Placeholder/_1}}]]\n"
     ]
    },
    {
     "name": "stdout",
     "output_type": "stream",
     "text": [
      "16/16 [==============================] - 0s 730us/step - loss: 4.6143\n",
      "16/16 [==============================] - 0s 704us/step - loss: 4.6143\n",
      "16/16 [==============================] - 0s 731us/step - loss: 4.6143\n",
      "16/16 [==============================] - 0s 748us/step - loss: 4.6143\n",
      "16/16 [==============================] - 0s 731us/step - loss: 4.6143\n",
      "16/16 [==============================] - 0s 769us/step - loss: 4.6143\n",
      "16/16 [==============================] - 0s 801us/step - loss: 4.6143\n",
      "\n",
      "Testing for epoch 54 index 4:\n",
      "65/65 [==============================] - 0s 500us/step\n",
      "16/16 [==============================] - 0s 690us/step - loss: 0.0112\n",
      "16/16 [==============================] - 0s 816us/step - loss: 4.6491\n",
      "16/16 [==============================] - 0s 860us/step - loss: 4.6490\n"
     ]
    },
    {
     "name": "stderr",
     "output_type": "stream",
     "text": [
      "2023-05-13 18:28:02.403708: I tensorflow/core/common_runtime/executor.cc:1197] [/device:CPU:0] (DEBUG INFO) Executor start aborting (this does not indicate an error and you can ignore this message): INVALID_ARGUMENT: You must feed a value for placeholder tensor 'Placeholder/_1' with dtype int64 and shape [1000]\n",
      "\t [[{{node Placeholder/_1}}]]\n"
     ]
    },
    {
     "name": "stdout",
     "output_type": "stream",
     "text": [
      "16/16 [==============================] - 0s 722us/step - loss: 4.6490\n",
      "16/16 [==============================] - 0s 887us/step - loss: 4.6490\n",
      "16/16 [==============================] - 0s 772us/step - loss: 4.6490\n",
      "16/16 [==============================] - 0s 779us/step - loss: 4.6490\n",
      "16/16 [==============================] - 0s 793us/step - loss: 4.6490\n",
      "16/16 [==============================] - 0s 735us/step - loss: 4.6490\n",
      "16/16 [==============================] - 0s 740us/step - loss: 4.6490\n",
      "Epoch 55 of 60\n",
      "\n",
      "Testing for epoch 55 index 1:\n",
      "65/65 [==============================] - 0s 463us/step\n",
      "16/16 [==============================] - 0s 684us/step - loss: 0.0111\n",
      "16/16 [==============================] - 0s 663us/step - loss: 4.6289\n",
      "16/16 [==============================] - 0s 725us/step - loss: 4.6289\n"
     ]
    },
    {
     "name": "stderr",
     "output_type": "stream",
     "text": [
      "2023-05-13 18:28:03.117354: I tensorflow/core/common_runtime/executor.cc:1197] [/device:CPU:0] (DEBUG INFO) Executor start aborting (this does not indicate an error and you can ignore this message): INVALID_ARGUMENT: You must feed a value for placeholder tensor 'Placeholder/_1' with dtype int64 and shape [1000]\n",
      "\t [[{{node Placeholder/_1}}]]\n"
     ]
    },
    {
     "name": "stdout",
     "output_type": "stream",
     "text": [
      "16/16 [==============================] - 0s 836us/step - loss: 4.6289\n",
      "16/16 [==============================] - 0s 740us/step - loss: 4.6289\n",
      "16/16 [==============================] - 0s 729us/step - loss: 4.6289\n",
      "16/16 [==============================] - 0s 788us/step - loss: 4.6289\n",
      "16/16 [==============================] - 0s 879us/step - loss: 4.6289\n",
      "16/16 [==============================] - 0s 991us/step - loss: 4.6289\n",
      "16/16 [==============================] - 0s 802us/step - loss: 4.6289\n",
      "\n",
      "Testing for epoch 55 index 2:\n",
      "65/65 [==============================] - 0s 530us/step\n",
      "16/16 [==============================] - 0s 851us/step - loss: 0.0111\n",
      "16/16 [==============================] - 0s 893us/step - loss: 4.6577\n",
      "16/16 [==============================] - 0s 737us/step - loss: 4.6577\n"
     ]
    },
    {
     "name": "stderr",
     "output_type": "stream",
     "text": [
      "2023-05-13 18:28:03.896563: I tensorflow/core/common_runtime/executor.cc:1197] [/device:CPU:0] (DEBUG INFO) Executor start aborting (this does not indicate an error and you can ignore this message): INVALID_ARGUMENT: You must feed a value for placeholder tensor 'Placeholder/_1' with dtype int64 and shape [1000]\n",
      "\t [[{{node Placeholder/_1}}]]\n"
     ]
    },
    {
     "name": "stdout",
     "output_type": "stream",
     "text": [
      "16/16 [==============================] - 0s 774us/step - loss: 4.6577\n",
      "16/16 [==============================] - 0s 711us/step - loss: 4.6577\n",
      "16/16 [==============================] - 0s 762us/step - loss: 4.6577\n",
      "16/16 [==============================] - 0s 668us/step - loss: 4.6577\n",
      "16/16 [==============================] - 0s 856us/step - loss: 4.6577\n",
      "16/16 [==============================] - 0s 727us/step - loss: 4.6577\n",
      "16/16 [==============================] - 0s 749us/step - loss: 4.6577\n",
      "\n",
      "Testing for epoch 55 index 3:\n",
      "65/65 [==============================] - 0s 443us/step\n",
      "16/16 [==============================] - 0s 774us/step - loss: 0.0110\n",
      "16/16 [==============================] - 0s 704us/step - loss: 4.6223\n",
      "16/16 [==============================] - 0s 712us/step - loss: 4.6223\n"
     ]
    },
    {
     "name": "stderr",
     "output_type": "stream",
     "text": [
      "2023-05-13 18:28:04.604686: I tensorflow/core/common_runtime/executor.cc:1197] [/device:CPU:0] (DEBUG INFO) Executor start aborting (this does not indicate an error and you can ignore this message): INVALID_ARGUMENT: You must feed a value for placeholder tensor 'Placeholder/_1' with dtype int64 and shape [1000]\n",
      "\t [[{{node Placeholder/_1}}]]\n"
     ]
    },
    {
     "name": "stdout",
     "output_type": "stream",
     "text": [
      "16/16 [==============================] - 0s 783us/step - loss: 4.6223\n",
      "16/16 [==============================] - 0s 695us/step - loss: 4.6223\n",
      "16/16 [==============================] - 0s 761us/step - loss: 4.6223\n",
      "16/16 [==============================] - 0s 722us/step - loss: 4.6223\n",
      "16/16 [==============================] - 0s 753us/step - loss: 4.6223\n",
      "16/16 [==============================] - 0s 732us/step - loss: 4.6223\n",
      "16/16 [==============================] - 0s 731us/step - loss: 4.6223\n",
      "\n",
      "Testing for epoch 55 index 4:\n",
      "65/65 [==============================] - 0s 425us/step\n",
      "16/16 [==============================] - 0s 686us/step - loss: 0.0109\n",
      "16/16 [==============================] - 0s 697us/step - loss: 4.6457\n",
      "16/16 [==============================] - 0s 708us/step - loss: 4.6457\n"
     ]
    },
    {
     "name": "stderr",
     "output_type": "stream",
     "text": [
      "2023-05-13 18:28:05.290781: I tensorflow/core/common_runtime/executor.cc:1197] [/device:CPU:0] (DEBUG INFO) Executor start aborting (this does not indicate an error and you can ignore this message): INVALID_ARGUMENT: You must feed a value for placeholder tensor 'Placeholder/_1' with dtype int64 and shape [1000]\n",
      "\t [[{{node Placeholder/_1}}]]\n"
     ]
    },
    {
     "name": "stdout",
     "output_type": "stream",
     "text": [
      "16/16 [==============================] - 0s 746us/step - loss: 4.6457\n",
      "16/16 [==============================] - 0s 684us/step - loss: 4.6457\n",
      "16/16 [==============================] - 0s 708us/step - loss: 4.6457\n",
      "16/16 [==============================] - 0s 702us/step - loss: 4.6457\n",
      "16/16 [==============================] - 0s 715us/step - loss: 4.6457\n",
      "16/16 [==============================] - 0s 936us/step - loss: 4.6457\n",
      "16/16 [==============================] - 0s 746us/step - loss: 4.6457\n",
      "Epoch 56 of 60\n",
      "\n",
      "Testing for epoch 56 index 1:\n",
      "65/65 [==============================] - 0s 434us/step\n",
      "16/16 [==============================] - 0s 678us/step - loss: 0.0109\n",
      "16/16 [==============================] - 0s 721us/step - loss: 4.6507\n",
      "16/16 [==============================] - 0s 751us/step - loss: 4.6506\n"
     ]
    },
    {
     "name": "stderr",
     "output_type": "stream",
     "text": [
      "2023-05-13 18:28:05.985722: I tensorflow/core/common_runtime/executor.cc:1197] [/device:CPU:0] (DEBUG INFO) Executor start aborting (this does not indicate an error and you can ignore this message): INVALID_ARGUMENT: You must feed a value for placeholder tensor 'Placeholder/_1' with dtype int64 and shape [1000]\n",
      "\t [[{{node Placeholder/_1}}]]\n"
     ]
    },
    {
     "name": "stdout",
     "output_type": "stream",
     "text": [
      "16/16 [==============================] - 0s 722us/step - loss: 4.6506\n",
      "16/16 [==============================] - 0s 690us/step - loss: 4.6506\n",
      "16/16 [==============================] - 0s 741us/step - loss: 4.6506\n",
      "16/16 [==============================] - 0s 714us/step - loss: 4.6506\n",
      "16/16 [==============================] - 0s 718us/step - loss: 4.6506\n",
      "16/16 [==============================] - 0s 722us/step - loss: 4.6506\n",
      "16/16 [==============================] - 0s 715us/step - loss: 4.6506\n",
      "\n",
      "Testing for epoch 56 index 2:\n",
      "65/65 [==============================] - 0s 427us/step\n",
      "16/16 [==============================] - 0s 702us/step - loss: 0.0108\n",
      "16/16 [==============================] - 0s 684us/step - loss: 4.6560\n",
      "16/16 [==============================] - 0s 716us/step - loss: 4.6559\n"
     ]
    },
    {
     "name": "stderr",
     "output_type": "stream",
     "text": [
      "2023-05-13 18:28:06.657445: I tensorflow/core/common_runtime/executor.cc:1197] [/device:CPU:0] (DEBUG INFO) Executor start aborting (this does not indicate an error and you can ignore this message): INVALID_ARGUMENT: You must feed a value for placeholder tensor 'Placeholder/_1' with dtype int64 and shape [1000]\n",
      "\t [[{{node Placeholder/_1}}]]\n"
     ]
    },
    {
     "name": "stdout",
     "output_type": "stream",
     "text": [
      "16/16 [==============================] - 0s 739us/step - loss: 4.6559\n",
      "16/16 [==============================] - 0s 720us/step - loss: 4.6559\n",
      "16/16 [==============================] - 0s 733us/step - loss: 4.6559\n",
      "16/16 [==============================] - 0s 793us/step - loss: 4.6559\n",
      "16/16 [==============================] - 0s 722us/step - loss: 4.6559\n",
      "16/16 [==============================] - 0s 734us/step - loss: 4.6559\n",
      "16/16 [==============================] - 0s 747us/step - loss: 4.6559\n",
      "\n",
      "Testing for epoch 56 index 3:\n",
      "65/65 [==============================] - 0s 435us/step\n",
      "16/16 [==============================] - 0s 717us/step - loss: 0.0107\n",
      "16/16 [==============================] - 0s 667us/step - loss: 4.6570\n",
      "16/16 [==============================] - 0s 734us/step - loss: 4.6569\n"
     ]
    },
    {
     "name": "stderr",
     "output_type": "stream",
     "text": [
      "2023-05-13 18:28:07.347814: I tensorflow/core/common_runtime/executor.cc:1197] [/device:CPU:0] (DEBUG INFO) Executor start aborting (this does not indicate an error and you can ignore this message): INVALID_ARGUMENT: You must feed a value for placeholder tensor 'Placeholder/_1' with dtype int64 and shape [1000]\n",
      "\t [[{{node Placeholder/_1}}]]\n"
     ]
    },
    {
     "name": "stdout",
     "output_type": "stream",
     "text": [
      "16/16 [==============================] - 0s 684us/step - loss: 4.6570\n",
      "16/16 [==============================] - 0s 685us/step - loss: 4.6570\n",
      "16/16 [==============================] - 0s 768us/step - loss: 4.6570\n",
      "16/16 [==============================] - 0s 718us/step - loss: 4.6570\n",
      "16/16 [==============================] - 0s 698us/step - loss: 4.6570\n",
      "16/16 [==============================] - 0s 759us/step - loss: 4.6570\n",
      "16/16 [==============================] - 0s 703us/step - loss: 4.6570\n",
      "\n",
      "Testing for epoch 56 index 4:\n",
      "65/65 [==============================] - 0s 467us/step\n",
      "16/16 [==============================] - 0s 737us/step - loss: 0.0107\n",
      "16/16 [==============================] - 0s 764us/step - loss: 4.6667\n",
      " 1/16 [>.............................] - ETA: 0s - loss: 4.5766"
     ]
    },
    {
     "name": "stderr",
     "output_type": "stream",
     "text": [
      "2023-05-13 18:28:08.066766: I tensorflow/core/common_runtime/executor.cc:1197] [/device:CPU:0] (DEBUG INFO) Executor start aborting (this does not indicate an error and you can ignore this message): INVALID_ARGUMENT: You must feed a value for placeholder tensor 'Placeholder/_1' with dtype int64 and shape [1000]\n",
      "\t [[{{node Placeholder/_1}}]]\n"
     ]
    },
    {
     "name": "stdout",
     "output_type": "stream",
     "text": [
      "16/16 [==============================] - 0s 795us/step - loss: 4.6667\n",
      "16/16 [==============================] - 0s 780us/step - loss: 4.6667\n",
      "16/16 [==============================] - 0s 881us/step - loss: 4.6667\n",
      "16/16 [==============================] - 0s 808us/step - loss: 4.6667\n",
      "16/16 [==============================] - 0s 788us/step - loss: 4.6667\n",
      "16/16 [==============================] - 0s 781us/step - loss: 4.6667\n",
      "16/16 [==============================] - 0s 751us/step - loss: 4.6667\n",
      "16/16 [==============================] - 0s 769us/step - loss: 4.6667\n",
      "Epoch 57 of 60\n",
      "\n",
      "Testing for epoch 57 index 1:\n",
      "65/65 [==============================] - 0s 444us/step\n",
      "16/16 [==============================] - 0s 668us/step - loss: 0.0106\n",
      "16/16 [==============================] - 0s 678us/step - loss: 4.6974\n",
      "16/16 [==============================] - 0s 798us/step - loss: 4.6973\n"
     ]
    },
    {
     "name": "stderr",
     "output_type": "stream",
     "text": [
      "2023-05-13 18:28:08.825218: I tensorflow/core/common_runtime/executor.cc:1197] [/device:CPU:0] (DEBUG INFO) Executor start aborting (this does not indicate an error and you can ignore this message): INVALID_ARGUMENT: You must feed a value for placeholder tensor 'Placeholder/_1' with dtype int64 and shape [1000]\n",
      "\t [[{{node Placeholder/_1}}]]\n"
     ]
    },
    {
     "name": "stdout",
     "output_type": "stream",
     "text": [
      "16/16 [==============================] - 0s 725us/step - loss: 4.6973\n",
      "16/16 [==============================] - 0s 710us/step - loss: 4.6973\n",
      "16/16 [==============================] - 0s 665us/step - loss: 4.6973\n",
      "16/16 [==============================] - 0s 767us/step - loss: 4.6973\n",
      "16/16 [==============================] - 0s 760us/step - loss: 4.6973\n",
      "16/16 [==============================] - 0s 719us/step - loss: 4.6973\n",
      "16/16 [==============================] - 0s 726us/step - loss: 4.6973\n",
      "\n",
      "Testing for epoch 57 index 2:\n",
      "65/65 [==============================] - 0s 428us/step\n",
      "16/16 [==============================] - 0s 669us/step - loss: 0.0106\n",
      "16/16 [==============================] - 0s 659us/step - loss: 4.6501\n",
      "16/16 [==============================] - 0s 757us/step - loss: 4.6501\n"
     ]
    },
    {
     "name": "stderr",
     "output_type": "stream",
     "text": [
      "2023-05-13 18:28:09.512590: I tensorflow/core/common_runtime/executor.cc:1197] [/device:CPU:0] (DEBUG INFO) Executor start aborting (this does not indicate an error and you can ignore this message): INVALID_ARGUMENT: You must feed a value for placeholder tensor 'Placeholder/_1' with dtype int64 and shape [1000]\n",
      "\t [[{{node Placeholder/_1}}]]\n"
     ]
    },
    {
     "name": "stdout",
     "output_type": "stream",
     "text": [
      "16/16 [==============================] - 0s 741us/step - loss: 4.6501\n",
      "16/16 [==============================] - 0s 721us/step - loss: 4.6501\n",
      "16/16 [==============================] - 0s 737us/step - loss: 4.6501\n",
      "16/16 [==============================] - 0s 706us/step - loss: 4.6501\n",
      "16/16 [==============================] - 0s 733us/step - loss: 4.6501\n",
      "16/16 [==============================] - 0s 706us/step - loss: 4.6501\n",
      "16/16 [==============================] - 0s 679us/step - loss: 4.6501\n",
      "\n",
      "Testing for epoch 57 index 3:\n",
      "65/65 [==============================] - 0s 426us/step\n",
      "16/16 [==============================] - 0s 718us/step - loss: 0.0105\n",
      "16/16 [==============================] - 0s 694us/step - loss: 4.7350\n",
      "16/16 [==============================] - 0s 696us/step - loss: 4.7350\n"
     ]
    },
    {
     "name": "stderr",
     "output_type": "stream",
     "text": [
      "2023-05-13 18:28:10.195943: I tensorflow/core/common_runtime/executor.cc:1197] [/device:CPU:0] (DEBUG INFO) Executor start aborting (this does not indicate an error and you can ignore this message): INVALID_ARGUMENT: You must feed a value for placeholder tensor 'Placeholder/_1' with dtype int64 and shape [1000]\n",
      "\t [[{{node Placeholder/_1}}]]\n"
     ]
    },
    {
     "name": "stdout",
     "output_type": "stream",
     "text": [
      "16/16 [==============================] - 0s 715us/step - loss: 4.7350\n",
      "16/16 [==============================] - 0s 742us/step - loss: 4.7350\n",
      "16/16 [==============================] - 0s 703us/step - loss: 4.7350\n",
      "16/16 [==============================] - 0s 700us/step - loss: 4.7350\n",
      "16/16 [==============================] - 0s 729us/step - loss: 4.7350\n",
      "16/16 [==============================] - 0s 739us/step - loss: 4.7350\n",
      "16/16 [==============================] - 0s 672us/step - loss: 4.7350\n",
      "\n",
      "Testing for epoch 57 index 4:\n",
      "65/65 [==============================] - 0s 441us/step\n",
      "16/16 [==============================] - 0s 700us/step - loss: 0.0106\n",
      "16/16 [==============================] - 0s 747us/step - loss: 4.6939\n",
      "16/16 [==============================] - 0s 708us/step - loss: 4.6939\n"
     ]
    },
    {
     "name": "stderr",
     "output_type": "stream",
     "text": [
      "2023-05-13 18:28:10.892457: I tensorflow/core/common_runtime/executor.cc:1197] [/device:CPU:0] (DEBUG INFO) Executor start aborting (this does not indicate an error and you can ignore this message): INVALID_ARGUMENT: You must feed a value for placeholder tensor 'Placeholder/_1' with dtype int64 and shape [1000]\n",
      "\t [[{{node Placeholder/_1}}]]\n"
     ]
    },
    {
     "name": "stdout",
     "output_type": "stream",
     "text": [
      "16/16 [==============================] - 0s 752us/step - loss: 4.6939\n",
      "16/16 [==============================] - 0s 729us/step - loss: 4.6939\n",
      "16/16 [==============================] - 0s 724us/step - loss: 4.6939\n",
      "16/16 [==============================] - 0s 700us/step - loss: 4.6939\n",
      "16/16 [==============================] - 0s 719us/step - loss: 4.6939\n",
      "16/16 [==============================] - 0s 712us/step - loss: 4.6939\n",
      "16/16 [==============================] - 0s 683us/step - loss: 4.6939\n",
      "Epoch 58 of 60\n",
      "\n",
      "Testing for epoch 58 index 1:\n",
      "65/65 [==============================] - 0s 465us/step\n",
      "16/16 [==============================] - 0s 737us/step - loss: 0.0104\n",
      "16/16 [==============================] - 0s 807us/step - loss: 4.7004\n",
      "16/16 [==============================] - 0s 759us/step - loss: 4.7004\n"
     ]
    },
    {
     "name": "stderr",
     "output_type": "stream",
     "text": [
      "2023-05-13 18:28:11.590829: I tensorflow/core/common_runtime/executor.cc:1197] [/device:CPU:0] (DEBUG INFO) Executor start aborting (this does not indicate an error and you can ignore this message): INVALID_ARGUMENT: You must feed a value for placeholder tensor 'Placeholder/_1' with dtype int64 and shape [1000]\n",
      "\t [[{{node Placeholder/_1}}]]\n"
     ]
    },
    {
     "name": "stdout",
     "output_type": "stream",
     "text": [
      "16/16 [==============================] - 0s 787us/step - loss: 4.7004\n",
      "16/16 [==============================] - 0s 820us/step - loss: 4.7004\n",
      "16/16 [==============================] - 0s 657us/step - loss: 4.7004\n",
      "16/16 [==============================] - 0s 719us/step - loss: 4.7004\n",
      "16/16 [==============================] - 0s 849us/step - loss: 4.7004\n",
      "16/16 [==============================] - 0s 779us/step - loss: 4.7004\n",
      "16/16 [==============================] - 0s 822us/step - loss: 4.7004\n",
      "\n",
      "Testing for epoch 58 index 2:\n",
      "65/65 [==============================] - 0s 460us/step\n",
      "16/16 [==============================] - 0s 753us/step - loss: 0.0104\n",
      "16/16 [==============================] - 0s 736us/step - loss: 4.6821\n",
      "16/16 [==============================] - 0s 666us/step - loss: 4.6820\n"
     ]
    },
    {
     "name": "stderr",
     "output_type": "stream",
     "text": [
      "2023-05-13 18:28:12.315262: I tensorflow/core/common_runtime/executor.cc:1197] [/device:CPU:0] (DEBUG INFO) Executor start aborting (this does not indicate an error and you can ignore this message): INVALID_ARGUMENT: You must feed a value for placeholder tensor 'Placeholder/_1' with dtype int64 and shape [1000]\n",
      "\t [[{{node Placeholder/_1}}]]\n"
     ]
    },
    {
     "name": "stdout",
     "output_type": "stream",
     "text": [
      "16/16 [==============================] - 0s 783us/step - loss: 4.6820\n",
      "16/16 [==============================] - 0s 750us/step - loss: 4.6820\n",
      "16/16 [==============================] - 0s 848us/step - loss: 4.6820\n",
      "16/16 [==============================] - 0s 745us/step - loss: 4.6820\n",
      "16/16 [==============================] - 0s 791us/step - loss: 4.6820\n",
      "16/16 [==============================] - 0s 752us/step - loss: 4.6820\n",
      "16/16 [==============================] - 0s 816us/step - loss: 4.6820\n",
      "\n",
      "Testing for epoch 58 index 3:\n",
      "65/65 [==============================] - 0s 465us/step\n",
      "16/16 [==============================] - 0s 762us/step - loss: 0.0103\n",
      "16/16 [==============================] - 0s 831us/step - loss: 4.7274\n",
      "16/16 [==============================] - 0s 787us/step - loss: 4.7274\n"
     ]
    },
    {
     "name": "stderr",
     "output_type": "stream",
     "text": [
      "2023-05-13 18:28:13.026992: I tensorflow/core/common_runtime/executor.cc:1197] [/device:CPU:0] (DEBUG INFO) Executor start aborting (this does not indicate an error and you can ignore this message): INVALID_ARGUMENT: You must feed a value for placeholder tensor 'Placeholder/_1' with dtype int64 and shape [1000]\n",
      "\t [[{{node Placeholder/_1}}]]\n"
     ]
    },
    {
     "name": "stdout",
     "output_type": "stream",
     "text": [
      "16/16 [==============================] - 0s 799us/step - loss: 4.7274\n",
      "16/16 [==============================] - 0s 761us/step - loss: 4.7274\n",
      "16/16 [==============================] - 0s 785us/step - loss: 4.7274\n",
      "16/16 [==============================] - 0s 870us/step - loss: 4.7274\n",
      "16/16 [==============================] - 0s 792us/step - loss: 4.7274\n",
      "16/16 [==============================] - 0s 805us/step - loss: 4.7274\n",
      "16/16 [==============================] - 0s 751us/step - loss: 4.7274\n",
      "\n",
      "Testing for epoch 58 index 4:\n",
      "65/65 [==============================] - 0s 501us/step\n",
      "16/16 [==============================] - 0s 718us/step - loss: 0.0103\n",
      "16/16 [==============================] - 0s 719us/step - loss: 4.7126\n",
      "16/16 [==============================] - 0s 714us/step - loss: 4.7126\n"
     ]
    },
    {
     "name": "stderr",
     "output_type": "stream",
     "text": [
      "2023-05-13 18:28:13.778279: I tensorflow/core/common_runtime/executor.cc:1197] [/device:CPU:0] (DEBUG INFO) Executor start aborting (this does not indicate an error and you can ignore this message): INVALID_ARGUMENT: You must feed a value for placeholder tensor 'Placeholder/_1' with dtype int64 and shape [1000]\n",
      "\t [[{{node Placeholder/_1}}]]\n"
     ]
    },
    {
     "name": "stdout",
     "output_type": "stream",
     "text": [
      "16/16 [==============================] - 0s 821us/step - loss: 4.7126\n",
      "16/16 [==============================] - 0s 765us/step - loss: 4.7126\n",
      "16/16 [==============================] - 0s 740us/step - loss: 4.7126\n",
      "16/16 [==============================] - 0s 800us/step - loss: 4.7126\n",
      "16/16 [==============================] - 0s 783us/step - loss: 4.7126\n",
      "16/16 [==============================] - 0s 730us/step - loss: 4.7126\n",
      "16/16 [==============================] - 0s 744us/step - loss: 4.7126\n",
      "Epoch 59 of 60\n",
      "\n",
      "Testing for epoch 59 index 1:\n",
      "65/65 [==============================] - 0s 443us/step\n",
      "16/16 [==============================] - 0s 751us/step - loss: 0.0102\n",
      "16/16 [==============================] - 0s 888us/step - loss: 4.7402\n",
      "16/16 [==============================] - 0s 863us/step - loss: 4.7401\n"
     ]
    },
    {
     "name": "stderr",
     "output_type": "stream",
     "text": [
      "2023-05-13 18:28:14.499383: I tensorflow/core/common_runtime/executor.cc:1197] [/device:CPU:0] (DEBUG INFO) Executor start aborting (this does not indicate an error and you can ignore this message): INVALID_ARGUMENT: You must feed a value for placeholder tensor 'Placeholder/_1' with dtype int64 and shape [1000]\n",
      "\t [[{{node Placeholder/_1}}]]\n"
     ]
    },
    {
     "name": "stdout",
     "output_type": "stream",
     "text": [
      "16/16 [==============================] - 0s 908us/step - loss: 4.7401\n",
      "16/16 [==============================] - 0s 770us/step - loss: 4.7401\n",
      "16/16 [==============================] - 0s 706us/step - loss: 4.7401\n",
      "16/16 [==============================] - 0s 691us/step - loss: 4.7401\n",
      "16/16 [==============================] - 0s 716us/step - loss: 4.7401\n",
      "16/16 [==============================] - 0s 810us/step - loss: 4.7401\n",
      "16/16 [==============================] - 0s 751us/step - loss: 4.7401\n",
      "\n",
      "Testing for epoch 59 index 2:\n",
      "65/65 [==============================] - 0s 454us/step\n",
      "16/16 [==============================] - 0s 760us/step - loss: 0.0102\n",
      "16/16 [==============================] - 0s 763us/step - loss: 4.7232\n",
      "16/16 [==============================] - 0s 846us/step - loss: 4.7232\n"
     ]
    },
    {
     "name": "stderr",
     "output_type": "stream",
     "text": [
      "2023-05-13 18:28:15.227813: I tensorflow/core/common_runtime/executor.cc:1197] [/device:CPU:0] (DEBUG INFO) Executor start aborting (this does not indicate an error and you can ignore this message): INVALID_ARGUMENT: You must feed a value for placeholder tensor 'Placeholder/_1' with dtype int64 and shape [1000]\n",
      "\t [[{{node Placeholder/_1}}]]\n"
     ]
    },
    {
     "name": "stdout",
     "output_type": "stream",
     "text": [
      "16/16 [==============================] - 0s 759us/step - loss: 4.7232\n",
      "16/16 [==============================] - 0s 761us/step - loss: 4.7232\n",
      "16/16 [==============================] - 0s 803us/step - loss: 4.7232\n",
      "16/16 [==============================] - 0s 824us/step - loss: 4.7232\n",
      "16/16 [==============================] - 0s 720us/step - loss: 4.7232\n",
      "16/16 [==============================] - 0s 668us/step - loss: 4.7232\n",
      "16/16 [==============================] - 0s 711us/step - loss: 4.7232\n",
      "\n",
      "Testing for epoch 59 index 3:\n",
      "65/65 [==============================] - 0s 477us/step\n",
      "16/16 [==============================] - 0s 875us/step - loss: 0.0101\n",
      "16/16 [==============================] - 0s 784us/step - loss: 4.7510\n",
      "16/16 [==============================] - 0s 778us/step - loss: 4.7510\n"
     ]
    },
    {
     "name": "stderr",
     "output_type": "stream",
     "text": [
      "2023-05-13 18:28:15.960717: I tensorflow/core/common_runtime/executor.cc:1197] [/device:CPU:0] (DEBUG INFO) Executor start aborting (this does not indicate an error and you can ignore this message): INVALID_ARGUMENT: You must feed a value for placeholder tensor 'Placeholder/_1' with dtype int64 and shape [1000]\n",
      "\t [[{{node Placeholder/_1}}]]\n"
     ]
    },
    {
     "name": "stdout",
     "output_type": "stream",
     "text": [
      "16/16 [==============================] - 0s 800us/step - loss: 4.7510\n",
      "16/16 [==============================] - 0s 810us/step - loss: 4.7510\n",
      "16/16 [==============================] - 0s 682us/step - loss: 4.7510\n",
      "16/16 [==============================] - 0s 700us/step - loss: 4.7510\n",
      "16/16 [==============================] - 0s 712us/step - loss: 4.7510\n",
      "16/16 [==============================] - 0s 719us/step - loss: 4.7510\n",
      "16/16 [==============================] - 0s 775us/step - loss: 4.7510\n",
      "\n",
      "Testing for epoch 59 index 4:\n",
      "65/65 [==============================] - 0s 475us/step\n",
      "16/16 [==============================] - 0s 748us/step - loss: 0.0101\n",
      "16/16 [==============================] - 0s 789us/step - loss: 4.7278\n",
      "16/16 [==============================] - 0s 832us/step - loss: 4.7278\n"
     ]
    },
    {
     "name": "stderr",
     "output_type": "stream",
     "text": [
      "2023-05-13 18:28:16.672422: I tensorflow/core/common_runtime/executor.cc:1197] [/device:CPU:0] (DEBUG INFO) Executor start aborting (this does not indicate an error and you can ignore this message): INVALID_ARGUMENT: You must feed a value for placeholder tensor 'Placeholder/_1' with dtype int64 and shape [1000]\n",
      "\t [[{{node Placeholder/_1}}]]\n"
     ]
    },
    {
     "name": "stdout",
     "output_type": "stream",
     "text": [
      "16/16 [==============================] - 0s 873us/step - loss: 4.7278\n",
      "16/16 [==============================] - 0s 815us/step - loss: 4.7278\n",
      "16/16 [==============================] - 0s 711us/step - loss: 4.7278\n",
      "16/16 [==============================] - 0s 885us/step - loss: 4.7278\n",
      "16/16 [==============================] - 0s 870us/step - loss: 4.7278\n",
      "16/16 [==============================] - 0s 746us/step - loss: 4.7278\n",
      "16/16 [==============================] - 0s 784us/step - loss: 4.7278\n",
      "Epoch 60 of 60\n",
      "\n",
      "Testing for epoch 60 index 1:\n",
      "65/65 [==============================] - 0s 467us/step\n",
      "16/16 [==============================] - 0s 765us/step - loss: 0.0101\n",
      "16/16 [==============================] - 0s 819us/step - loss: 4.7679\n",
      "16/16 [==============================] - 0s 698us/step - loss: 4.7679\n"
     ]
    },
    {
     "name": "stderr",
     "output_type": "stream",
     "text": [
      "2023-05-13 18:28:17.406868: I tensorflow/core/common_runtime/executor.cc:1197] [/device:CPU:0] (DEBUG INFO) Executor start aborting (this does not indicate an error and you can ignore this message): INVALID_ARGUMENT: You must feed a value for placeholder tensor 'Placeholder/_1' with dtype int64 and shape [1000]\n",
      "\t [[{{node Placeholder/_1}}]]\n"
     ]
    },
    {
     "name": "stdout",
     "output_type": "stream",
     "text": [
      "16/16 [==============================] - 0s 962us/step - loss: 4.7679\n",
      "16/16 [==============================] - 0s 755us/step - loss: 4.7679\n",
      "16/16 [==============================] - 0s 701us/step - loss: 4.7679\n",
      "16/16 [==============================] - 0s 700us/step - loss: 4.7679\n",
      "16/16 [==============================] - 0s 732us/step - loss: 4.7679\n",
      "16/16 [==============================] - 0s 779us/step - loss: 4.7679\n",
      "16/16 [==============================] - 0s 759us/step - loss: 4.7679\n",
      "\n",
      "Testing for epoch 60 index 2:\n",
      "65/65 [==============================] - 0s 448us/step\n",
      "16/16 [==============================] - 0s 760us/step - loss: 0.0100\n",
      "16/16 [==============================] - 0s 788us/step - loss: 4.7479\n",
      "16/16 [==============================] - 0s 773us/step - loss: 4.7478\n"
     ]
    },
    {
     "name": "stderr",
     "output_type": "stream",
     "text": [
      "2023-05-13 18:28:18.122867: I tensorflow/core/common_runtime/executor.cc:1197] [/device:CPU:0] (DEBUG INFO) Executor start aborting (this does not indicate an error and you can ignore this message): INVALID_ARGUMENT: You must feed a value for placeholder tensor 'Placeholder/_1' with dtype int64 and shape [1000]\n",
      "\t [[{{node Placeholder/_1}}]]\n"
     ]
    },
    {
     "name": "stdout",
     "output_type": "stream",
     "text": [
      "16/16 [==============================] - 0s 783us/step - loss: 4.7479\n",
      "16/16 [==============================] - 0s 761us/step - loss: 4.7479\n",
      "16/16 [==============================] - 0s 710us/step - loss: 4.7479\n",
      "16/16 [==============================] - 0s 727us/step - loss: 4.7479\n",
      "16/16 [==============================] - 0s 831us/step - loss: 4.7479\n",
      "16/16 [==============================] - 0s 805us/step - loss: 4.7479\n",
      "16/16 [==============================] - 0s 807us/step - loss: 4.7479\n",
      "\n",
      "Testing for epoch 60 index 3:\n",
      "65/65 [==============================] - 0s 461us/step\n",
      "16/16 [==============================] - 0s 764us/step - loss: 0.0100\n",
      "16/16 [==============================] - 0s 715us/step - loss: 4.7457\n",
      "16/16 [==============================] - 0s 790us/step - loss: 4.7456\n"
     ]
    },
    {
     "name": "stderr",
     "output_type": "stream",
     "text": [
      "2023-05-13 18:28:18.826946: I tensorflow/core/common_runtime/executor.cc:1197] [/device:CPU:0] (DEBUG INFO) Executor start aborting (this does not indicate an error and you can ignore this message): INVALID_ARGUMENT: You must feed a value for placeholder tensor 'Placeholder/_1' with dtype int64 and shape [1000]\n",
      "\t [[{{node Placeholder/_1}}]]\n"
     ]
    },
    {
     "name": "stdout",
     "output_type": "stream",
     "text": [
      "16/16 [==============================] - 0s 803us/step - loss: 4.7456\n",
      "16/16 [==============================] - 0s 805us/step - loss: 4.7456\n",
      "16/16 [==============================] - 0s 748us/step - loss: 4.7456\n",
      "16/16 [==============================] - 0s 799us/step - loss: 4.7456\n",
      "16/16 [==============================] - 0s 769us/step - loss: 4.7456\n",
      "16/16 [==============================] - 0s 732us/step - loss: 4.7456\n",
      "16/16 [==============================] - 0s 846us/step - loss: 4.7456\n",
      "\n",
      "Testing for epoch 60 index 4:\n",
      "65/65 [==============================] - 0s 445us/step\n",
      "16/16 [==============================] - 0s 694us/step - loss: 0.0099\n",
      "16/16 [==============================] - 0s 771us/step - loss: 4.7521\n",
      "16/16 [==============================] - 0s 768us/step - loss: 4.7521\n"
     ]
    },
    {
     "name": "stderr",
     "output_type": "stream",
     "text": [
      "2023-05-13 18:28:19.547551: I tensorflow/core/common_runtime/executor.cc:1197] [/device:CPU:0] (DEBUG INFO) Executor start aborting (this does not indicate an error and you can ignore this message): INVALID_ARGUMENT: You must feed a value for placeholder tensor 'Placeholder/_1' with dtype int64 and shape [1000]\n",
      "\t [[{{node Placeholder/_1}}]]\n"
     ]
    },
    {
     "name": "stdout",
     "output_type": "stream",
     "text": [
      "16/16 [==============================] - 0s 790us/step - loss: 4.7521\n",
      "16/16 [==============================] - 0s 776us/step - loss: 4.7521\n",
      "16/16 [==============================] - 0s 740us/step - loss: 4.7521\n",
      "16/16 [==============================] - 0s 706us/step - loss: 4.7521\n",
      "16/16 [==============================] - 0s 777us/step - loss: 4.7521\n",
      "16/16 [==============================] - 0s 794us/step - loss: 4.7521\n",
      "16/16 [==============================] - 0s 798us/step - loss: 4.7521\n",
      "65/65 [==============================] - 0s 462us/step\n"
     ]
    },
    {
     "data": {
      "text/plain": [
       "MO_GAAL(contamination=0.1, k=10, lr_d=0.01, lr_g=0.0001, momentum=0.9,\n",
       "    stop_epochs=20)"
      ]
     },
     "execution_count": 62,
     "metadata": {},
     "output_type": "execute_result"
    }
   ],
   "source": [
    "mogaal_model = MO_GAAL()\n",
    "mogaal_model.fit(train_set)"
   ]
  },
  {
   "cell_type": "code",
   "execution_count": 67,
   "metadata": {},
   "outputs": [
    {
     "name": "stdout",
     "output_type": "stream",
     "text": [
      "22/22 [==============================] - 0s 437us/step\n",
      "688\n",
      "Accuracy with MO_GAAL: 0.9563953488372093\n"
     ]
    }
   ],
   "source": [
    "test_mogaal_pred = mogaal_model.predict(test_set)\n",
    "correct = 0\n",
    "wrong = 0\n",
    "idx = 0\n",
    "for i in test_set.indices:\n",
    "    if dataset.data_numpy[i][-1] != test_mogaal_pred[idx]:\n",
    "        correct += 1\n",
    "    else: \n",
    "        wrong += 1\n",
    "    idx += 1\n",
    "\n",
    "print(len(test_set))\n",
    "print(\"Accuracy with MO_GAAL: \" + str(correct/len(test_set)))"
   ]
  },
  {
   "cell_type": "code",
   "execution_count": 68,
   "id": "f8ef8cbb",
   "metadata": {},
   "outputs": [
    {
     "data": {
      "text/plain": [
       "AnoGAN(D_layers=[20, 10, 5], G_layers=[20, 10, 3, 10, 20],\n",
       "    activation_hidden='tanh', batch_size=32, contamination=0.1,\n",
       "    dropout_rate=0.2, epochs=500, epochs_query=20,\n",
       "    index_D_layer_for_recon_error=1, latent_dim_G=2, learning_rate=0.001,\n",
       "    learning_rate_query=0.01, output_activation=None, preprocessing=False,\n",
       "    verbose=0)"
      ]
     },
     "execution_count": 68,
     "metadata": {},
     "output_type": "execute_result"
    }
   ],
   "source": [
    "anogan_model = AnoGAN()\n",
    "anogan_model.fit(train_set)"
   ]
  },
  {
   "cell_type": "code",
   "execution_count": 69,
   "id": "264558c2",
   "metadata": {},
   "outputs": [
    {
     "name": "stdout",
     "output_type": "stream",
     "text": [
      "688\n",
      "Accuracy with AnoGAN: 0.8662790697674418\n"
     ]
    }
   ],
   "source": [
    "test_anogan_pred = anogan_model.predict(test_set)\n",
    "correct = 0\n",
    "wrong = 0\n",
    "idx = 0\n",
    "for i in test_set.indices:\n",
    "    if dataset.data_numpy[i][-1] != test_anogan_pred[idx]:\n",
    "        correct += 1\n",
    "    else: \n",
    "        wrong += 1\n",
    "    idx += 1\n",
    "\n",
    "print(len(test_set))\n",
    "print(\"Accuracy with AnoGAN: \" + str(correct/len(test_set)))"
   ]
  },
  {
   "cell_type": "code",
   "execution_count": null,
   "id": "2f5859f3",
   "metadata": {},
   "outputs": [],
   "source": []
  }
 ],
 "metadata": {
  "kernelspec": {
   "display_name": "Python 3 (ipykernel)",
   "language": "python",
   "name": "python3"
  },
  "language_info": {
   "codemirror_mode": {
    "name": "ipython",
    "version": 3
   },
   "file_extension": ".py",
   "mimetype": "text/x-python",
   "name": "python",
   "nbconvert_exporter": "python",
   "pygments_lexer": "ipython3",
   "version": "3.9.16"
  }
 },
 "nbformat": 4,
 "nbformat_minor": 5
}

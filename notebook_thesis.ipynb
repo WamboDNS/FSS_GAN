{
 "cells": [
  {
   "cell_type": "code",
   "execution_count": null,
   "id": "dd3c328a",
   "metadata": {},
   "outputs": [],
   "source": [
    "import warnings #suppress warnings\n",
    "import torch\n",
    "import random\n",
    "import pandas as pd\n",
    "from torch.utils.data import Dataset, DataLoader\n",
    "from scipy.io import arff\n",
    "from pyod.models.anogan import AnoGAN\n",
    "from pyod.models.mo_gaal import MO_GAAL\n",
    "from pyod.models.lof import LOF\n",
    "from pyod.models.gmm import GMM\n",
    "from pyod.models.knn import KNN\n",
    "from pyod.models.so_gaal import SO_GAAL\n",
    "import sklearn.metrics as sk\n",
    "\n",
    "warnings.simplefilter(\"ignore\")"
   ]
  },
  {
   "cell_type": "code",
   "execution_count": null,
   "id": "67edf4ab",
   "metadata": {},
   "outputs": [],
   "source": [
    "class CustomDataset(Dataset):\n",
    "    def __init__(self, path):\n",
    "        # start preprocessing \n",
    "        arff_data = arff.loadarff(path)\n",
    "        df = pd.DataFrame(arff_data[0])\n",
    "        # 1 is outlier, 0 is normal data\n",
    "        df[\"outlier\"] = pd.factorize(df[\"outlier\"], sort=True)[0]\n",
    "        \n",
    "        self.data_tensor = torch.tensor(df.to_numpy()).float()\n",
    "        self.data_numpy = df.to_numpy()\n",
    "        #end preprocessing\n",
    "\n",
    "        \n",
    "    def __len__(self):\n",
    "        return len(self.data_tensor)\n",
    "    \n",
    "    def __getitem__(self, i):\n",
    "        return self.data_tensor[i]"
   ]
  },
  {
   "cell_type": "code",
   "execution_count": null,
   "id": "a6f7d4f3",
   "metadata": {
    "scrolled": true
   },
   "outputs": [],
   "source": [
    "internet_ads_path = \"./Resources/Datasets/InternetAds_withoutdupl_norm_02_v01.arff\" #invert outlier-normal-labels\n",
    "arrythmia_path = \"./Resources/Datasets/Arrhythmia_withoutdupl_norm_02_v01.arff\"\n",
    "wave_path = \"./Resources/Datasets/Waveform_withoutdupl_norm_v01.arff\"\n",
    "\n",
    "#seed = 777\n",
    "#torch.manual_seed(seed)\n",
    "#random.seed(seed)\n",
    "\n",
    "#num_workers = 2\n",
    "#batch_size = 128\n",
    "#number of used GPUs\n",
    "#gpu = 0 \n",
    "#usedDevice = torch.device(\"cpu\" if gpu == 0 else \"cuda\")\n",
    "\n",
    "dataset = CustomDataset(arrythmia_path)\n",
    "\n",
    "data_no_label = dataset.data_numpy[:,:-2]\n",
    "data_label = dataset.data_numpy[:, -1]\n",
    "\n",
    "#train_set, eval_set, test_set = torch.utils.data.random_split(dataset.data_numpy[:,:-1], [0.6,0.2,0.2]) #PFUSCH WEGEN NUMPY?\n",
    "#maybe data loader for each category?\n",
    "#dataloader = DataLoader(dataset=dataset.data_tensor, batch_size = batch_size, shuffle=True, num_workers=num_workers)"
   ]
  },
  {
   "cell_type": "code",
   "execution_count": null,
   "id": "731ccfc6",
   "metadata": {},
   "outputs": [],
   "source": [
    "def check_accuracy(decision_values, labels):\n",
    "    # positive: anomaly\n",
    "    tp = 0\n",
    "    tn = 0\n",
    "    fp = 0\n",
    "    fn = 0\n",
    "    \n",
    "    for i in range(len(data_no_label)):\n",
    "        if data_label[i] == labels[i]: # correct label\n",
    "            if labels[i] == 1:\n",
    "                tp += 1\n",
    "            else:\n",
    "                tn += 1\n",
    "        else:\n",
    "            if labels[i] == 1: # wrong label\n",
    "                fp += 1\n",
    "            else: \n",
    "                fn += 1\n",
    "                \n",
    "    print(\"------------------------------------------------------------\")\n",
    "    print(\"TP: \" + str(tp))\n",
    "    print(\"FP: \" + str(fp))\n",
    "    print(\"TN: \" + str(tn))\n",
    "    print(\"FN: \" + str(fn))\n",
    "    print(\"------------------------------------------------------------\")\n",
    "    print(\"Precision: \" + str(tp/(tp+fp))) # When we declare a positive, how certain are we?\n",
    "    print(\"Recall: \" + str(tp/(tp+fn))) # How good are we at detecting the positives?\n",
    "    print(\"Accuracy: \" + str((tp+tn)/(tp+tn+fp+fn)))\n",
    "    print(\"AUC: \" + str(sk.roc_auc_score(data_label, decision_values)))"
   ]
  },
  {
   "cell_type": "code",
   "execution_count": null,
   "id": "2f5859f3",
   "metadata": {},
   "outputs": [],
   "source": [
    "lof_model = LOF()\n",
    "lof_model.fit(data_no_label)"
   ]
  },
  {
   "cell_type": "code",
   "execution_count": null,
   "id": "6d9b4641",
   "metadata": {},
   "outputs": [],
   "source": [
    "decision_values = lof_model.decision_function(data_no_label)\n",
    "check_accuracy(decision_values, lof_model.labels_)"
   ]
  },
  {
   "cell_type": "code",
   "execution_count": null,
   "id": "45ba458d",
   "metadata": {},
   "outputs": [],
   "source": [
    "#mogaal_model = MO_GAAL(lr_d = 0.01, momentum = 0.3)\n",
    "#mogaal_model.fit(data_no_label)"
   ]
  },
  {
   "cell_type": "code",
   "execution_count": null,
   "id": "950cdadc",
   "metadata": {
    "scrolled": true
   },
   "outputs": [],
   "source": [
    "#decision_values = mogaal_model.decision_function(data_no_label)\n",
    "#check_accuracy(decision_values, mogaal_model.labels_)"
   ]
  },
  {
   "cell_type": "code",
   "execution_count": null,
   "id": "f8ef8cbb",
   "metadata": {},
   "outputs": [],
   "source": [
    "anogan_model = AnoGAN()\n",
    "anogan_model.fit(data_no_label)"
   ]
  },
  {
   "cell_type": "code",
   "execution_count": null,
   "id": "264558c2",
   "metadata": {},
   "outputs": [],
   "source": [
    "#decision_values = anogan_model.decision_function(data_no_label)\n",
    "check_accuracy(anogan_model.decision_scores_, anogan_model.labels_)"
   ]
  },
  {
   "cell_type": "code",
   "execution_count": null,
   "id": "e6b74df4",
   "metadata": {},
   "outputs": [],
   "source": [
    "knn_model = KNN()\n",
    "knn_model.fit(data_no_label)"
   ]
  },
  {
   "cell_type": "code",
   "execution_count": null,
   "id": "31c0e257",
   "metadata": {},
   "outputs": [],
   "source": [
    "decision_values = knn_model.decision_function(data_no_label)\n",
    "check_accuracy(decision_values, knn_model.labels_)"
   ]
  },
  {
   "cell_type": "code",
   "execution_count": null,
   "id": "282238de",
   "metadata": {},
   "outputs": [],
   "source": [
    "sogaal_model = SO_GAAL()\n",
    "sogaal_model.fit(data_no_label)"
   ]
  },
  {
   "cell_type": "code",
   "execution_count": null,
   "id": "b1ef8405",
   "metadata": {},
   "outputs": [],
   "source": [
    "decision_values = sogaal_model.decision_function(data_no_label)\n",
    "check_accuracy(decision_values, sogaal_model.labels_)"
   ]
  },
  {
   "cell_type": "code",
   "execution_count": null,
   "id": "5bb84c12",
   "metadata": {},
   "outputs": [],
   "source": []
  }
 ],
 "metadata": {
  "kernelspec": {
   "display_name": "Python 3 (ipykernel)",
   "language": "python",
   "name": "python3"
  },
  "language_info": {
   "codemirror_mode": {
    "name": "ipython",
    "version": 3
   },
   "file_extension": ".py",
   "mimetype": "text/x-python",
   "name": "python",
   "nbconvert_exporter": "python",
   "pygments_lexer": "ipython3",
   "version": "3.9.5"
  }
 },
 "nbformat": 4,
 "nbformat_minor": 5
}

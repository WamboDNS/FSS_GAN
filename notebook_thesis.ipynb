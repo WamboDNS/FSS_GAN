{
 "cells": [
  {
   "cell_type": "code",
   "execution_count": 1,
   "id": "dd3c328a",
   "metadata": {},
   "outputs": [
    {
     "name": "stderr",
     "output_type": "stream",
     "text": [
      "2023-05-14 09:59:26.660063: I tensorflow/core/platform/cpu_feature_guard.cc:182] This TensorFlow binary is optimized to use available CPU instructions in performance-critical operations.\n",
      "To enable the following instructions: AVX2 FMA, in other operations, rebuild TensorFlow with the appropriate compiler flags.\n",
      "2023-05-14 09:59:27.122964: W tensorflow/compiler/tf2tensorrt/utils/py_utils.cc:38] TF-TRT Warning: Could not find TensorRT\n"
     ]
    }
   ],
   "source": [
    "import warnings #suppress warnings\n",
    "import torch\n",
    "import random\n",
    "import pandas as pd\n",
    "from torch.utils.data import Dataset, DataLoader\n",
    "from scipy.io import arff\n",
    "from pyod.models.anogan import AnoGAN\n",
    "from pyod.models.mo_gaal import MO_GAAL\n",
    "from pyod.models.lof import LOF\n",
    "from pyod.models.gmm import GMM\n",
    "\n",
    "warnings.simplefilter(\"ignore\")"
   ]
  },
  {
   "cell_type": "code",
   "execution_count": 2,
   "id": "67edf4ab",
   "metadata": {},
   "outputs": [],
   "source": [
    "class CustomDataset(Dataset):\n",
    "    def __init__(self, path):\n",
    "        # start preprocessing \n",
    "        self.arff_data = arff.loadarff(path)\n",
    "        self.df = pd.DataFrame(self.arff_data[0])\n",
    "        #0 is outlier, 1 is normal data\n",
    "        self.df[\"outlier\"] = pd.factorize(self.df[\"outlier\"])[0]\n",
    "        #end preprocessing\n",
    "        \n",
    "        self.data_tensor = torch.tensor(self.df.to_numpy()).float()\n",
    "        self.data_numpy = self.df.to_numpy()\n",
    "        self.n = self.df.shape[0]\n",
    "        \n",
    "    def __len__(self):\n",
    "        return len(self.data_tensor)\n",
    "    \n",
    "    def __getitem__(self, i):\n",
    "        return self.data_tensor[i]"
   ]
  },
  {
   "cell_type": "code",
   "execution_count": 3,
   "id": "a6f7d4f3",
   "metadata": {
    "scrolled": true
   },
   "outputs": [],
   "source": [
    "path = \"/home/denis/Documents/Resources_Thesis/Waveform_withoutdupl_norm_v01.arff\"\n",
    "seed = 777\n",
    "torch.manual_seed(seed)\n",
    "random.seed(seed)\n",
    "num_workers = 2\n",
    "batch_size = 128\n",
    "#number of used GPUs\n",
    "gpu = 0 \n",
    "\n",
    "usedDevice = torch.device(\"cpu\" if gpu == 0 else \"cuda\")\n",
    "dataset = CustomDataset(path)\n",
    "train_set, eval_set, test_set = torch.utils.data.random_split(dataset.data_numpy[:,:-1], [0.6,0.2,0.2]) #PFUSCH WEGEN NUMPY?\n",
    "#maybe data loader for each category?\n",
    "dataloader = DataLoader(dataset=dataset.data_tensor, batch_size = batch_size, shuffle=True, num_workers=num_workers)"
   ]
  },
  {
   "cell_type": "code",
   "execution_count": 4,
   "id": "731ccfc6",
   "metadata": {},
   "outputs": [],
   "source": [
    "def check_accuracy(prediction):\n",
    "    correct = 0\n",
    "    wrong = 0\n",
    "    idx = 0\n",
    "    for i in test_set.indices:\n",
    "        if dataset.data_numpy[i][-1] != prediction[idx]:\n",
    "            correct += 1\n",
    "        else: \n",
    "            wrong += 1\n",
    "        idx += 1\n",
    "\n",
    "    print(len(test_set))\n",
    "    print(\"Accuracy: \" + str(correct/len(test_set)))"
   ]
  },
  {
   "cell_type": "code",
   "execution_count": 6,
   "id": "c119f09c",
   "metadata": {},
   "outputs": [
    {
     "name": "stderr",
     "output_type": "stream",
     "text": [
      "2023-05-14 09:59:45.141298: I tensorflow/compiler/xla/stream_executor/cuda/cuda_gpu_executor.cc:996] successful NUMA node read from SysFS had negative value (-1), but there must be at least one NUMA node, so returning NUMA node zero. See more at https://github.com/torvalds/linux/blob/v6.0/Documentation/ABI/testing/sysfs-bus-pci#L344-L355\n",
      "2023-05-14 09:59:45.155614: I tensorflow/compiler/xla/stream_executor/cuda/cuda_gpu_executor.cc:996] successful NUMA node read from SysFS had negative value (-1), but there must be at least one NUMA node, so returning NUMA node zero. See more at https://github.com/torvalds/linux/blob/v6.0/Documentation/ABI/testing/sysfs-bus-pci#L344-L355\n",
      "2023-05-14 09:59:45.155756: I tensorflow/compiler/xla/stream_executor/cuda/cuda_gpu_executor.cc:996] successful NUMA node read from SysFS had negative value (-1), but there must be at least one NUMA node, so returning NUMA node zero. See more at https://github.com/torvalds/linux/blob/v6.0/Documentation/ABI/testing/sysfs-bus-pci#L344-L355\n",
      "2023-05-14 09:59:45.156386: I tensorflow/compiler/xla/stream_executor/cuda/cuda_gpu_executor.cc:996] successful NUMA node read from SysFS had negative value (-1), but there must be at least one NUMA node, so returning NUMA node zero. See more at https://github.com/torvalds/linux/blob/v6.0/Documentation/ABI/testing/sysfs-bus-pci#L344-L355\n",
      "2023-05-14 09:59:45.156494: I tensorflow/compiler/xla/stream_executor/cuda/cuda_gpu_executor.cc:996] successful NUMA node read from SysFS had negative value (-1), but there must be at least one NUMA node, so returning NUMA node zero. See more at https://github.com/torvalds/linux/blob/v6.0/Documentation/ABI/testing/sysfs-bus-pci#L344-L355\n",
      "2023-05-14 09:59:45.156586: I tensorflow/compiler/xla/stream_executor/cuda/cuda_gpu_executor.cc:996] successful NUMA node read from SysFS had negative value (-1), but there must be at least one NUMA node, so returning NUMA node zero. See more at https://github.com/torvalds/linux/blob/v6.0/Documentation/ABI/testing/sysfs-bus-pci#L344-L355\n",
      "2023-05-14 09:59:45.492229: I tensorflow/compiler/xla/stream_executor/cuda/cuda_gpu_executor.cc:996] successful NUMA node read from SysFS had negative value (-1), but there must be at least one NUMA node, so returning NUMA node zero. See more at https://github.com/torvalds/linux/blob/v6.0/Documentation/ABI/testing/sysfs-bus-pci#L344-L355\n",
      "2023-05-14 09:59:45.492362: I tensorflow/compiler/xla/stream_executor/cuda/cuda_gpu_executor.cc:996] successful NUMA node read from SysFS had negative value (-1), but there must be at least one NUMA node, so returning NUMA node zero. See more at https://github.com/torvalds/linux/blob/v6.0/Documentation/ABI/testing/sysfs-bus-pci#L344-L355\n",
      "2023-05-14 09:59:45.492485: I tensorflow/compiler/xla/stream_executor/cuda/cuda_gpu_executor.cc:996] successful NUMA node read from SysFS had negative value (-1), but there must be at least one NUMA node, so returning NUMA node zero. See more at https://github.com/torvalds/linux/blob/v6.0/Documentation/ABI/testing/sysfs-bus-pci#L344-L355\n",
      "2023-05-14 09:59:45.492571: I tensorflow/core/common_runtime/gpu/gpu_device.cc:1635] Created device /job:localhost/replica:0/task:0/device:GPU:0 with 9186 MB memory:  -> device: 0, name: NVIDIA GeForce RTX 3080, pci bus id: 0000:08:00.0, compute capability: 8.6\n"
     ]
    },
    {
     "name": "stdout",
     "output_type": "stream",
     "text": [
      "Epoch 1 of 60\n",
      "\n",
      "Testing for epoch 1 index 1:\n",
      "WARNING:tensorflow:5 out of the last 12 calls to <function Model.make_predict_function.<locals>.predict_function at 0x7f18a8f73310> triggered tf.function retracing. Tracing is expensive and the excessive number of tracings could be due to (1) creating @tf.function repeatedly in a loop, (2) passing tensors with different shapes, (3) passing Python objects instead of tensors. For (1), please define your @tf.function outside of the loop. For (2), @tf.function has reduce_retracing=True option that can avoid unnecessary retracing. For (3), please refer to https://www.tensorflow.org/guide/function#controlling_retracing and https://www.tensorflow.org/api_docs/python/tf/function for  more details.\n"
     ]
    },
    {
     "name": "stderr",
     "output_type": "stream",
     "text": [
      "2023-05-14 09:59:46.499450: I tensorflow/compiler/xla/stream_executor/cuda/cuda_blas.cc:637] TensorFloat-32 will be used for the matrix multiplication. This will only be logged once.\n"
     ]
    },
    {
     "name": "stdout",
     "output_type": "stream",
     "text": [
      "WARNING:tensorflow:5 out of the last 11 calls to <function Model.make_predict_function.<locals>.predict_function at 0x7f18a8f0d1f0> triggered tf.function retracing. Tracing is expensive and the excessive number of tracings could be due to (1) creating @tf.function repeatedly in a loop, (2) passing tensors with different shapes, (3) passing Python objects instead of tensors. For (1), please define your @tf.function outside of the loop. For (2), @tf.function has reduce_retracing=True option that can avoid unnecessary retracing. For (3), please refer to https://www.tensorflow.org/guide/function#controlling_retracing and https://www.tensorflow.org/api_docs/python/tf/function for  more details.\n",
      " 1/65 [..............................] - ETA: 1s"
     ]
    },
    {
     "name": "stderr",
     "output_type": "stream",
     "text": [
      "2023-05-14 09:59:46.871358: I tensorflow/core/common_runtime/executor.cc:1197] [/device:CPU:0] (DEBUG INFO) Executor start aborting (this does not indicate an error and you can ignore this message): INVALID_ARGUMENT: You must feed a value for placeholder tensor 'Placeholder/_1' with dtype int64 and shape [1000]\n",
      "\t [[{{node Placeholder/_1}}]]\n"
     ]
    },
    {
     "name": "stdout",
     "output_type": "stream",
     "text": [
      "65/65 [==============================] - 0s 488us/step\n"
     ]
    },
    {
     "name": "stderr",
     "output_type": "stream",
     "text": [
      "2023-05-14 09:59:47.096930: I tensorflow/core/common_runtime/executor.cc:1197] [/device:CPU:0] (DEBUG INFO) Executor start aborting (this does not indicate an error and you can ignore this message): INVALID_ARGUMENT: You must feed a value for placeholder tensor 'Placeholder/_1' with dtype float and shape [500]\n",
      "\t [[{{node Placeholder/_1}}]]\n",
      "2023-05-14 09:59:47.227853: I tensorflow/core/common_runtime/executor.cc:1197] [/device:CPU:0] (DEBUG INFO) Executor start aborting (this does not indicate an error and you can ignore this message): INVALID_ARGUMENT: You must feed a value for placeholder tensor 'Placeholder/_1' with dtype float and shape [500]\n",
      "\t [[{{node Placeholder/_1}}]]\n",
      "2023-05-14 09:59:47.357201: I tensorflow/core/common_runtime/executor.cc:1197] [/device:CPU:0] (DEBUG INFO) Executor start aborting (this does not indicate an error and you can ignore this message): INVALID_ARGUMENT: You must feed a value for placeholder tensor 'Placeholder/_1' with dtype float and shape [500]\n",
      "\t [[{{node Placeholder/_1}}]]\n",
      "2023-05-14 09:59:47.485108: I tensorflow/core/common_runtime/executor.cc:1197] [/device:CPU:0] (DEBUG INFO) Executor start aborting (this does not indicate an error and you can ignore this message): INVALID_ARGUMENT: You must feed a value for placeholder tensor 'Placeholder/_1' with dtype float and shape [500]\n",
      "\t [[{{node Placeholder/_1}}]]\n"
     ]
    },
    {
     "name": "stdout",
     "output_type": "stream",
     "text": [
      "WARNING:tensorflow:5 out of the last 5 calls to <function Model.make_train_function.<locals>.train_function at 0x7f188ffc5280> triggered tf.function retracing. Tracing is expensive and the excessive number of tracings could be due to (1) creating @tf.function repeatedly in a loop, (2) passing tensors with different shapes, (3) passing Python objects instead of tensors. For (1), please define your @tf.function outside of the loop. For (2), @tf.function has reduce_retracing=True option that can avoid unnecessary retracing. For (3), please refer to https://www.tensorflow.org/guide/function#controlling_retracing and https://www.tensorflow.org/api_docs/python/tf/function for  more details.\n",
      "WARNING:tensorflow:6 out of the last 6 calls to <function Model.make_train_function.<locals>.train_function at 0x7f188c1ca8b0> triggered tf.function retracing. Tracing is expensive and the excessive number of tracings could be due to (1) creating @tf.function repeatedly in a loop, (2) passing tensors with different shapes, (3) passing Python objects instead of tensors. For (1), please define your @tf.function outside of the loop. For (2), @tf.function has reduce_retracing=True option that can avoid unnecessary retracing. For (3), please refer to https://www.tensorflow.org/guide/function#controlling_retracing and https://www.tensorflow.org/api_docs/python/tf/function for  more details.\n"
     ]
    },
    {
     "name": "stderr",
     "output_type": "stream",
     "text": [
      "2023-05-14 09:59:47.612585: I tensorflow/core/common_runtime/executor.cc:1197] [/device:CPU:0] (DEBUG INFO) Executor start aborting (this does not indicate an error and you can ignore this message): INVALID_ARGUMENT: You must feed a value for placeholder tensor 'Placeholder/_1' with dtype float and shape [500]\n",
      "\t [[{{node Placeholder/_1}}]]\n",
      "2023-05-14 09:59:47.739027: I tensorflow/core/common_runtime/executor.cc:1197] [/device:CPU:0] (DEBUG INFO) Executor start aborting (this does not indicate an error and you can ignore this message): INVALID_ARGUMENT: You must feed a value for placeholder tensor 'Placeholder/_1' with dtype float and shape [500]\n",
      "\t [[{{node Placeholder/_1}}]]\n",
      "2023-05-14 09:59:47.866637: I tensorflow/core/common_runtime/executor.cc:1197] [/device:CPU:0] (DEBUG INFO) Executor start aborting (this does not indicate an error and you can ignore this message): INVALID_ARGUMENT: You must feed a value for placeholder tensor 'Placeholder/_1' with dtype float and shape [500]\n",
      "\t [[{{node Placeholder/_1}}]]\n",
      "2023-05-14 09:59:47.997219: I tensorflow/core/common_runtime/executor.cc:1197] [/device:CPU:0] (DEBUG INFO) Executor start aborting (this does not indicate an error and you can ignore this message): INVALID_ARGUMENT: You must feed a value for placeholder tensor 'Placeholder/_1' with dtype float and shape [500]\n",
      "\t [[{{node Placeholder/_1}}]]\n",
      "2023-05-14 09:59:48.123445: I tensorflow/core/common_runtime/executor.cc:1197] [/device:CPU:0] (DEBUG INFO) Executor start aborting (this does not indicate an error and you can ignore this message): INVALID_ARGUMENT: You must feed a value for placeholder tensor 'Placeholder/_1' with dtype float and shape [500]\n",
      "\t [[{{node Placeholder/_1}}]]\n",
      "2023-05-14 09:59:48.250083: I tensorflow/core/common_runtime/executor.cc:1197] [/device:CPU:0] (DEBUG INFO) Executor start aborting (this does not indicate an error and you can ignore this message): INVALID_ARGUMENT: You must feed a value for placeholder tensor 'Placeholder/_1' with dtype float and shape [500]\n",
      "\t [[{{node Placeholder/_1}}]]\n"
     ]
    },
    {
     "name": "stdout",
     "output_type": "stream",
     "text": [
      "\n",
      "Testing for epoch 1 index 2:\n",
      "65/65 [==============================] - 0s 468us/step\n"
     ]
    },
    {
     "name": "stderr",
     "output_type": "stream",
     "text": [
      "2023-05-14 09:59:48.611581: I tensorflow/core/common_runtime/executor.cc:1197] [/device:CPU:0] (DEBUG INFO) Executor start aborting (this does not indicate an error and you can ignore this message): INVALID_ARGUMENT: You must feed a value for placeholder tensor 'Placeholder/_1' with dtype int64 and shape [1000]\n",
      "\t [[{{node Placeholder/_1}}]]\n",
      "2023-05-14 09:59:48.681756: I tensorflow/core/common_runtime/executor.cc:1197] [/device:CPU:0] (DEBUG INFO) Executor start aborting (this does not indicate an error and you can ignore this message): INVALID_ARGUMENT: You must feed a value for placeholder tensor 'Placeholder/_1' with dtype float and shape [500]\n",
      "\t [[{{node Placeholder/_1}}]]\n",
      "2023-05-14 09:59:48.686224: I tensorflow/core/common_runtime/executor.cc:1197] [/device:CPU:0] (DEBUG INFO) Executor start aborting (this does not indicate an error and you can ignore this message): INVALID_ARGUMENT: You must feed a value for placeholder tensor 'Placeholder/_1' with dtype float and shape [500]\n",
      "\t [[{{node Placeholder/_1}}]]\n",
      "2023-05-14 09:59:48.689542: I tensorflow/core/common_runtime/executor.cc:1197] [/device:CPU:0] (DEBUG INFO) Executor start aborting (this does not indicate an error and you can ignore this message): INVALID_ARGUMENT: You must feed a value for placeholder tensor 'Placeholder/_1' with dtype float and shape [500]\n",
      "\t [[{{node Placeholder/_1}}]]\n",
      "2023-05-14 09:59:48.693105: I tensorflow/core/common_runtime/executor.cc:1197] [/device:CPU:0] (DEBUG INFO) Executor start aborting (this does not indicate an error and you can ignore this message): INVALID_ARGUMENT: You must feed a value for placeholder tensor 'Placeholder/_1' with dtype float and shape [500]\n",
      "\t [[{{node Placeholder/_1}}]]\n",
      "2023-05-14 09:59:48.696461: I tensorflow/core/common_runtime/executor.cc:1197] [/device:CPU:0] (DEBUG INFO) Executor start aborting (this does not indicate an error and you can ignore this message): INVALID_ARGUMENT: You must feed a value for placeholder tensor 'Placeholder/_1' with dtype float and shape [500]\n",
      "\t [[{{node Placeholder/_1}}]]\n",
      "2023-05-14 09:59:48.699987: I tensorflow/core/common_runtime/executor.cc:1197] [/device:CPU:0] (DEBUG INFO) Executor start aborting (this does not indicate an error and you can ignore this message): INVALID_ARGUMENT: You must feed a value for placeholder tensor 'Placeholder/_1' with dtype float and shape [500]\n",
      "\t [[{{node Placeholder/_1}}]]\n",
      "2023-05-14 09:59:48.703247: I tensorflow/core/common_runtime/executor.cc:1197] [/device:CPU:0] (DEBUG INFO) Executor start aborting (this does not indicate an error and you can ignore this message): INVALID_ARGUMENT: You must feed a value for placeholder tensor 'Placeholder/_1' with dtype float and shape [500]\n",
      "\t [[{{node Placeholder/_1}}]]\n",
      "2023-05-14 09:59:48.707004: I tensorflow/core/common_runtime/executor.cc:1197] [/device:CPU:0] (DEBUG INFO) Executor start aborting (this does not indicate an error and you can ignore this message): INVALID_ARGUMENT: You must feed a value for placeholder tensor 'Placeholder/_1' with dtype float and shape [500]\n",
      "\t [[{{node Placeholder/_1}}]]\n",
      "2023-05-14 09:59:48.710292: I tensorflow/core/common_runtime/executor.cc:1197] [/device:CPU:0] (DEBUG INFO) Executor start aborting (this does not indicate an error and you can ignore this message): INVALID_ARGUMENT: You must feed a value for placeholder tensor 'Placeholder/_1' with dtype float and shape [500]\n",
      "\t [[{{node Placeholder/_1}}]]\n",
      "2023-05-14 09:59:48.713956: I tensorflow/core/common_runtime/executor.cc:1197] [/device:CPU:0] (DEBUG INFO) Executor start aborting (this does not indicate an error and you can ignore this message): INVALID_ARGUMENT: You must feed a value for placeholder tensor 'Placeholder/_1' with dtype float and shape [500]\n",
      "\t [[{{node Placeholder/_1}}]]\n"
     ]
    },
    {
     "name": "stdout",
     "output_type": "stream",
     "text": [
      "\n",
      "Testing for epoch 1 index 3:\n",
      "65/65 [==============================] - 0s 502us/step\n"
     ]
    },
    {
     "name": "stderr",
     "output_type": "stream",
     "text": [
      "2023-05-14 09:59:48.977409: I tensorflow/core/common_runtime/executor.cc:1197] [/device:CPU:0] (DEBUG INFO) Executor start aborting (this does not indicate an error and you can ignore this message): INVALID_ARGUMENT: You must feed a value for placeholder tensor 'Placeholder/_1' with dtype int64 and shape [1000]\n",
      "\t [[{{node Placeholder/_1}}]]\n",
      "2023-05-14 09:59:49.051615: I tensorflow/core/common_runtime/executor.cc:1197] [/device:CPU:0] (DEBUG INFO) Executor start aborting (this does not indicate an error and you can ignore this message): INVALID_ARGUMENT: You must feed a value for placeholder tensor 'Placeholder/_1' with dtype float and shape [500]\n",
      "\t [[{{node Placeholder/_1}}]]\n",
      "2023-05-14 09:59:49.055340: I tensorflow/core/common_runtime/executor.cc:1197] [/device:CPU:0] (DEBUG INFO) Executor start aborting (this does not indicate an error and you can ignore this message): INVALID_ARGUMENT: You must feed a value for placeholder tensor 'Placeholder/_1' with dtype float and shape [500]\n",
      "\t [[{{node Placeholder/_1}}]]\n",
      "2023-05-14 09:59:49.058785: I tensorflow/core/common_runtime/executor.cc:1197] [/device:CPU:0] (DEBUG INFO) Executor start aborting (this does not indicate an error and you can ignore this message): INVALID_ARGUMENT: You must feed a value for placeholder tensor 'Placeholder/_1' with dtype float and shape [500]\n",
      "\t [[{{node Placeholder/_1}}]]\n",
      "2023-05-14 09:59:49.062563: I tensorflow/core/common_runtime/executor.cc:1197] [/device:CPU:0] (DEBUG INFO) Executor start aborting (this does not indicate an error and you can ignore this message): INVALID_ARGUMENT: You must feed a value for placeholder tensor 'Placeholder/_1' with dtype float and shape [500]\n",
      "\t [[{{node Placeholder/_1}}]]\n",
      "2023-05-14 09:59:49.065560: I tensorflow/core/common_runtime/executor.cc:1197] [/device:CPU:0] (DEBUG INFO) Executor start aborting (this does not indicate an error and you can ignore this message): INVALID_ARGUMENT: You must feed a value for placeholder tensor 'Placeholder/_1' with dtype float and shape [500]\n",
      "\t [[{{node Placeholder/_1}}]]\n",
      "2023-05-14 09:59:49.069160: I tensorflow/core/common_runtime/executor.cc:1197] [/device:CPU:0] (DEBUG INFO) Executor start aborting (this does not indicate an error and you can ignore this message): INVALID_ARGUMENT: You must feed a value for placeholder tensor 'Placeholder/_1' with dtype float and shape [500]\n",
      "\t [[{{node Placeholder/_1}}]]\n",
      "2023-05-14 09:59:49.072467: I tensorflow/core/common_runtime/executor.cc:1197] [/device:CPU:0] (DEBUG INFO) Executor start aborting (this does not indicate an error and you can ignore this message): INVALID_ARGUMENT: You must feed a value for placeholder tensor 'Placeholder/_1' with dtype float and shape [500]\n",
      "\t [[{{node Placeholder/_1}}]]\n",
      "2023-05-14 09:59:49.075830: I tensorflow/core/common_runtime/executor.cc:1197] [/device:CPU:0] (DEBUG INFO) Executor start aborting (this does not indicate an error and you can ignore this message): INVALID_ARGUMENT: You must feed a value for placeholder tensor 'Placeholder/_1' with dtype float and shape [500]\n",
      "\t [[{{node Placeholder/_1}}]]\n",
      "2023-05-14 09:59:49.079092: I tensorflow/core/common_runtime/executor.cc:1197] [/device:CPU:0] (DEBUG INFO) Executor start aborting (this does not indicate an error and you can ignore this message): INVALID_ARGUMENT: You must feed a value for placeholder tensor 'Placeholder/_1' with dtype float and shape [500]\n",
      "\t [[{{node Placeholder/_1}}]]\n",
      "2023-05-14 09:59:49.082723: I tensorflow/core/common_runtime/executor.cc:1197] [/device:CPU:0] (DEBUG INFO) Executor start aborting (this does not indicate an error and you can ignore this message): INVALID_ARGUMENT: You must feed a value for placeholder tensor 'Placeholder/_1' with dtype float and shape [500]\n",
      "\t [[{{node Placeholder/_1}}]]\n"
     ]
    },
    {
     "name": "stdout",
     "output_type": "stream",
     "text": [
      "\n",
      "Testing for epoch 1 index 4:\n",
      "65/65 [==============================] - 0s 490us/step\n"
     ]
    },
    {
     "name": "stderr",
     "output_type": "stream",
     "text": [
      "2023-05-14 09:59:49.332634: I tensorflow/core/common_runtime/executor.cc:1197] [/device:CPU:0] (DEBUG INFO) Executor start aborting (this does not indicate an error and you can ignore this message): INVALID_ARGUMENT: You must feed a value for placeholder tensor 'Placeholder/_1' with dtype int64 and shape [1000]\n",
      "\t [[{{node Placeholder/_1}}]]\n",
      "2023-05-14 09:59:49.405054: I tensorflow/core/common_runtime/executor.cc:1197] [/device:CPU:0] (DEBUG INFO) Executor start aborting (this does not indicate an error and you can ignore this message): INVALID_ARGUMENT: You must feed a value for placeholder tensor 'Placeholder/_1' with dtype float and shape [500]\n",
      "\t [[{{node Placeholder/_1}}]]\n",
      "2023-05-14 09:59:49.408872: I tensorflow/core/common_runtime/executor.cc:1197] [/device:CPU:0] (DEBUG INFO) Executor start aborting (this does not indicate an error and you can ignore this message): INVALID_ARGUMENT: You must feed a value for placeholder tensor 'Placeholder/_1' with dtype float and shape [500]\n",
      "\t [[{{node Placeholder/_1}}]]\n",
      "2023-05-14 09:59:49.411998: I tensorflow/core/common_runtime/executor.cc:1197] [/device:CPU:0] (DEBUG INFO) Executor start aborting (this does not indicate an error and you can ignore this message): INVALID_ARGUMENT: You must feed a value for placeholder tensor 'Placeholder/_1' with dtype float and shape [500]\n",
      "\t [[{{node Placeholder/_1}}]]\n",
      "2023-05-14 09:59:49.415519: I tensorflow/core/common_runtime/executor.cc:1197] [/device:CPU:0] (DEBUG INFO) Executor start aborting (this does not indicate an error and you can ignore this message): INVALID_ARGUMENT: You must feed a value for placeholder tensor 'Placeholder/_1' with dtype float and shape [500]\n",
      "\t [[{{node Placeholder/_1}}]]\n",
      "2023-05-14 09:59:49.418971: I tensorflow/core/common_runtime/executor.cc:1197] [/device:CPU:0] (DEBUG INFO) Executor start aborting (this does not indicate an error and you can ignore this message): INVALID_ARGUMENT: You must feed a value for placeholder tensor 'Placeholder/_1' with dtype float and shape [500]\n",
      "\t [[{{node Placeholder/_1}}]]\n",
      "2023-05-14 09:59:49.422078: I tensorflow/core/common_runtime/executor.cc:1197] [/device:CPU:0] (DEBUG INFO) Executor start aborting (this does not indicate an error and you can ignore this message): INVALID_ARGUMENT: You must feed a value for placeholder tensor 'Placeholder/_1' with dtype float and shape [500]\n",
      "\t [[{{node Placeholder/_1}}]]\n",
      "2023-05-14 09:59:49.425448: I tensorflow/core/common_runtime/executor.cc:1197] [/device:CPU:0] (DEBUG INFO) Executor start aborting (this does not indicate an error and you can ignore this message): INVALID_ARGUMENT: You must feed a value for placeholder tensor 'Placeholder/_1' with dtype float and shape [500]\n",
      "\t [[{{node Placeholder/_1}}]]\n",
      "2023-05-14 09:59:49.429439: I tensorflow/core/common_runtime/executor.cc:1197] [/device:CPU:0] (DEBUG INFO) Executor start aborting (this does not indicate an error and you can ignore this message): INVALID_ARGUMENT: You must feed a value for placeholder tensor 'Placeholder/_1' with dtype float and shape [500]\n",
      "\t [[{{node Placeholder/_1}}]]\n",
      "2023-05-14 09:59:49.433191: I tensorflow/core/common_runtime/executor.cc:1197] [/device:CPU:0] (DEBUG INFO) Executor start aborting (this does not indicate an error and you can ignore this message): INVALID_ARGUMENT: You must feed a value for placeholder tensor 'Placeholder/_1' with dtype float and shape [500]\n",
      "\t [[{{node Placeholder/_1}}]]\n",
      "2023-05-14 09:59:49.436796: I tensorflow/core/common_runtime/executor.cc:1197] [/device:CPU:0] (DEBUG INFO) Executor start aborting (this does not indicate an error and you can ignore this message): INVALID_ARGUMENT: You must feed a value for placeholder tensor 'Placeholder/_1' with dtype float and shape [500]\n",
      "\t [[{{node Placeholder/_1}}]]\n"
     ]
    },
    {
     "name": "stdout",
     "output_type": "stream",
     "text": [
      "Epoch 2 of 60\n",
      "\n",
      "Testing for epoch 2 index 1:\n",
      "65/65 [==============================] - 0s 507us/step\n"
     ]
    },
    {
     "name": "stderr",
     "output_type": "stream",
     "text": [
      "2023-05-14 09:59:49.685040: I tensorflow/core/common_runtime/executor.cc:1197] [/device:CPU:0] (DEBUG INFO) Executor start aborting (this does not indicate an error and you can ignore this message): INVALID_ARGUMENT: You must feed a value for placeholder tensor 'Placeholder/_1' with dtype int64 and shape [1000]\n",
      "\t [[{{node Placeholder/_1}}]]\n",
      "2023-05-14 09:59:49.758219: I tensorflow/core/common_runtime/executor.cc:1197] [/device:CPU:0] (DEBUG INFO) Executor start aborting (this does not indicate an error and you can ignore this message): INVALID_ARGUMENT: You must feed a value for placeholder tensor 'Placeholder/_1' with dtype float and shape [500]\n",
      "\t [[{{node Placeholder/_1}}]]\n",
      "2023-05-14 09:59:49.762108: I tensorflow/core/common_runtime/executor.cc:1197] [/device:CPU:0] (DEBUG INFO) Executor start aborting (this does not indicate an error and you can ignore this message): INVALID_ARGUMENT: You must feed a value for placeholder tensor 'Placeholder/_1' with dtype float and shape [500]\n",
      "\t [[{{node Placeholder/_1}}]]\n",
      "2023-05-14 09:59:49.765371: I tensorflow/core/common_runtime/executor.cc:1197] [/device:CPU:0] (DEBUG INFO) Executor start aborting (this does not indicate an error and you can ignore this message): INVALID_ARGUMENT: You must feed a value for placeholder tensor 'Placeholder/_1' with dtype float and shape [500]\n",
      "\t [[{{node Placeholder/_1}}]]\n",
      "2023-05-14 09:59:49.768992: I tensorflow/core/common_runtime/executor.cc:1197] [/device:CPU:0] (DEBUG INFO) Executor start aborting (this does not indicate an error and you can ignore this message): INVALID_ARGUMENT: You must feed a value for placeholder tensor 'Placeholder/_1' with dtype float and shape [500]\n",
      "\t [[{{node Placeholder/_1}}]]\n",
      "2023-05-14 09:59:49.772377: I tensorflow/core/common_runtime/executor.cc:1197] [/device:CPU:0] (DEBUG INFO) Executor start aborting (this does not indicate an error and you can ignore this message): INVALID_ARGUMENT: You must feed a value for placeholder tensor 'Placeholder/_1' with dtype float and shape [500]\n",
      "\t [[{{node Placeholder/_1}}]]\n",
      "2023-05-14 09:59:49.775926: I tensorflow/core/common_runtime/executor.cc:1197] [/device:CPU:0] (DEBUG INFO) Executor start aborting (this does not indicate an error and you can ignore this message): INVALID_ARGUMENT: You must feed a value for placeholder tensor 'Placeholder/_1' with dtype float and shape [500]\n",
      "\t [[{{node Placeholder/_1}}]]\n",
      "2023-05-14 09:59:49.779171: I tensorflow/core/common_runtime/executor.cc:1197] [/device:CPU:0] (DEBUG INFO) Executor start aborting (this does not indicate an error and you can ignore this message): INVALID_ARGUMENT: You must feed a value for placeholder tensor 'Placeholder/_1' with dtype float and shape [500]\n",
      "\t [[{{node Placeholder/_1}}]]\n",
      "2023-05-14 09:59:49.782746: I tensorflow/core/common_runtime/executor.cc:1197] [/device:CPU:0] (DEBUG INFO) Executor start aborting (this does not indicate an error and you can ignore this message): INVALID_ARGUMENT: You must feed a value for placeholder tensor 'Placeholder/_1' with dtype float and shape [500]\n",
      "\t [[{{node Placeholder/_1}}]]\n",
      "2023-05-14 09:59:49.786161: I tensorflow/core/common_runtime/executor.cc:1197] [/device:CPU:0] (DEBUG INFO) Executor start aborting (this does not indicate an error and you can ignore this message): INVALID_ARGUMENT: You must feed a value for placeholder tensor 'Placeholder/_1' with dtype float and shape [500]\n",
      "\t [[{{node Placeholder/_1}}]]\n",
      "2023-05-14 09:59:49.789840: I tensorflow/core/common_runtime/executor.cc:1197] [/device:CPU:0] (DEBUG INFO) Executor start aborting (this does not indicate an error and you can ignore this message): INVALID_ARGUMENT: You must feed a value for placeholder tensor 'Placeholder/_1' with dtype float and shape [500]\n",
      "\t [[{{node Placeholder/_1}}]]\n"
     ]
    },
    {
     "name": "stdout",
     "output_type": "stream",
     "text": [
      "\n",
      "Testing for epoch 2 index 2:\n",
      "65/65 [==============================] - 0s 492us/step\n"
     ]
    },
    {
     "name": "stderr",
     "output_type": "stream",
     "text": [
      "2023-05-14 09:59:50.041684: I tensorflow/core/common_runtime/executor.cc:1197] [/device:CPU:0] (DEBUG INFO) Executor start aborting (this does not indicate an error and you can ignore this message): INVALID_ARGUMENT: You must feed a value for placeholder tensor 'Placeholder/_1' with dtype int64 and shape [1000]\n",
      "\t [[{{node Placeholder/_1}}]]\n",
      "2023-05-14 09:59:50.113322: I tensorflow/core/common_runtime/executor.cc:1197] [/device:CPU:0] (DEBUG INFO) Executor start aborting (this does not indicate an error and you can ignore this message): INVALID_ARGUMENT: You must feed a value for placeholder tensor 'Placeholder/_1' with dtype float and shape [500]\n",
      "\t [[{{node Placeholder/_1}}]]\n",
      "2023-05-14 09:59:50.117237: I tensorflow/core/common_runtime/executor.cc:1197] [/device:CPU:0] (DEBUG INFO) Executor start aborting (this does not indicate an error and you can ignore this message): INVALID_ARGUMENT: You must feed a value for placeholder tensor 'Placeholder/_1' with dtype float and shape [500]\n",
      "\t [[{{node Placeholder/_1}}]]\n",
      "2023-05-14 09:59:50.120297: I tensorflow/core/common_runtime/executor.cc:1197] [/device:CPU:0] (DEBUG INFO) Executor start aborting (this does not indicate an error and you can ignore this message): INVALID_ARGUMENT: You must feed a value for placeholder tensor 'Placeholder/_1' with dtype float and shape [500]\n",
      "\t [[{{node Placeholder/_1}}]]\n",
      "2023-05-14 09:59:50.123504: I tensorflow/core/common_runtime/executor.cc:1197] [/device:CPU:0] (DEBUG INFO) Executor start aborting (this does not indicate an error and you can ignore this message): INVALID_ARGUMENT: You must feed a value for placeholder tensor 'Placeholder/_1' with dtype float and shape [500]\n",
      "\t [[{{node Placeholder/_1}}]]\n",
      "2023-05-14 09:59:50.126589: I tensorflow/core/common_runtime/executor.cc:1197] [/device:CPU:0] (DEBUG INFO) Executor start aborting (this does not indicate an error and you can ignore this message): INVALID_ARGUMENT: You must feed a value for placeholder tensor 'Placeholder/_1' with dtype float and shape [500]\n",
      "\t [[{{node Placeholder/_1}}]]\n",
      "2023-05-14 09:59:50.130065: I tensorflow/core/common_runtime/executor.cc:1197] [/device:CPU:0] (DEBUG INFO) Executor start aborting (this does not indicate an error and you can ignore this message): INVALID_ARGUMENT: You must feed a value for placeholder tensor 'Placeholder/_1' with dtype float and shape [500]\n",
      "\t [[{{node Placeholder/_1}}]]\n",
      "2023-05-14 09:59:50.133887: I tensorflow/core/common_runtime/executor.cc:1197] [/device:CPU:0] (DEBUG INFO) Executor start aborting (this does not indicate an error and you can ignore this message): INVALID_ARGUMENT: You must feed a value for placeholder tensor 'Placeholder/_1' with dtype float and shape [500]\n",
      "\t [[{{node Placeholder/_1}}]]\n",
      "2023-05-14 09:59:50.137638: I tensorflow/core/common_runtime/executor.cc:1197] [/device:CPU:0] (DEBUG INFO) Executor start aborting (this does not indicate an error and you can ignore this message): INVALID_ARGUMENT: You must feed a value for placeholder tensor 'Placeholder/_1' with dtype float and shape [500]\n",
      "\t [[{{node Placeholder/_1}}]]\n",
      "2023-05-14 09:59:50.140819: I tensorflow/core/common_runtime/executor.cc:1197] [/device:CPU:0] (DEBUG INFO) Executor start aborting (this does not indicate an error and you can ignore this message): INVALID_ARGUMENT: You must feed a value for placeholder tensor 'Placeholder/_1' with dtype float and shape [500]\n",
      "\t [[{{node Placeholder/_1}}]]\n",
      "2023-05-14 09:59:50.144617: I tensorflow/core/common_runtime/executor.cc:1197] [/device:CPU:0] (DEBUG INFO) Executor start aborting (this does not indicate an error and you can ignore this message): INVALID_ARGUMENT: You must feed a value for placeholder tensor 'Placeholder/_1' with dtype float and shape [500]\n",
      "\t [[{{node Placeholder/_1}}]]\n"
     ]
    },
    {
     "name": "stdout",
     "output_type": "stream",
     "text": [
      "\n",
      "Testing for epoch 2 index 3:\n",
      "65/65 [==============================] - 0s 472us/step\n"
     ]
    },
    {
     "name": "stderr",
     "output_type": "stream",
     "text": [
      "2023-05-14 09:59:50.387939: I tensorflow/core/common_runtime/executor.cc:1197] [/device:CPU:0] (DEBUG INFO) Executor start aborting (this does not indicate an error and you can ignore this message): INVALID_ARGUMENT: You must feed a value for placeholder tensor 'Placeholder/_1' with dtype int64 and shape [1000]\n",
      "\t [[{{node Placeholder/_1}}]]\n",
      "2023-05-14 09:59:50.459809: I tensorflow/core/common_runtime/executor.cc:1197] [/device:CPU:0] (DEBUG INFO) Executor start aborting (this does not indicate an error and you can ignore this message): INVALID_ARGUMENT: You must feed a value for placeholder tensor 'Placeholder/_1' with dtype float and shape [500]\n",
      "\t [[{{node Placeholder/_1}}]]\n",
      "2023-05-14 09:59:50.463725: I tensorflow/core/common_runtime/executor.cc:1197] [/device:CPU:0] (DEBUG INFO) Executor start aborting (this does not indicate an error and you can ignore this message): INVALID_ARGUMENT: You must feed a value for placeholder tensor 'Placeholder/_1' with dtype float and shape [500]\n",
      "\t [[{{node Placeholder/_1}}]]\n",
      "2023-05-14 09:59:50.466864: I tensorflow/core/common_runtime/executor.cc:1197] [/device:CPU:0] (DEBUG INFO) Executor start aborting (this does not indicate an error and you can ignore this message): INVALID_ARGUMENT: You must feed a value for placeholder tensor 'Placeholder/_1' with dtype float and shape [500]\n",
      "\t [[{{node Placeholder/_1}}]]\n",
      "2023-05-14 09:59:50.470375: I tensorflow/core/common_runtime/executor.cc:1197] [/device:CPU:0] (DEBUG INFO) Executor start aborting (this does not indicate an error and you can ignore this message): INVALID_ARGUMENT: You must feed a value for placeholder tensor 'Placeholder/_1' with dtype float and shape [500]\n",
      "\t [[{{node Placeholder/_1}}]]\n",
      "2023-05-14 09:59:50.473394: I tensorflow/core/common_runtime/executor.cc:1197] [/device:CPU:0] (DEBUG INFO) Executor start aborting (this does not indicate an error and you can ignore this message): INVALID_ARGUMENT: You must feed a value for placeholder tensor 'Placeholder/_1' with dtype float and shape [500]\n",
      "\t [[{{node Placeholder/_1}}]]\n",
      "2023-05-14 09:59:50.476255: I tensorflow/core/common_runtime/executor.cc:1197] [/device:CPU:0] (DEBUG INFO) Executor start aborting (this does not indicate an error and you can ignore this message): INVALID_ARGUMENT: You must feed a value for placeholder tensor 'Placeholder/_1' with dtype float and shape [500]\n",
      "\t [[{{node Placeholder/_1}}]]\n",
      "2023-05-14 09:59:50.479461: I tensorflow/core/common_runtime/executor.cc:1197] [/device:CPU:0] (DEBUG INFO) Executor start aborting (this does not indicate an error and you can ignore this message): INVALID_ARGUMENT: You must feed a value for placeholder tensor 'Placeholder/_1' with dtype float and shape [500]\n",
      "\t [[{{node Placeholder/_1}}]]\n",
      "2023-05-14 09:59:50.482364: I tensorflow/core/common_runtime/executor.cc:1197] [/device:CPU:0] (DEBUG INFO) Executor start aborting (this does not indicate an error and you can ignore this message): INVALID_ARGUMENT: You must feed a value for placeholder tensor 'Placeholder/_1' with dtype float and shape [500]\n",
      "\t [[{{node Placeholder/_1}}]]\n",
      "2023-05-14 09:59:50.485516: I tensorflow/core/common_runtime/executor.cc:1197] [/device:CPU:0] (DEBUG INFO) Executor start aborting (this does not indicate an error and you can ignore this message): INVALID_ARGUMENT: You must feed a value for placeholder tensor 'Placeholder/_1' with dtype float and shape [500]\n",
      "\t [[{{node Placeholder/_1}}]]\n",
      "2023-05-14 09:59:50.488764: I tensorflow/core/common_runtime/executor.cc:1197] [/device:CPU:0] (DEBUG INFO) Executor start aborting (this does not indicate an error and you can ignore this message): INVALID_ARGUMENT: You must feed a value for placeholder tensor 'Placeholder/_1' with dtype float and shape [500]\n",
      "\t [[{{node Placeholder/_1}}]]\n"
     ]
    },
    {
     "name": "stdout",
     "output_type": "stream",
     "text": [
      "\n",
      "Testing for epoch 2 index 4:\n",
      "65/65 [==============================] - 0s 472us/step\n"
     ]
    },
    {
     "name": "stderr",
     "output_type": "stream",
     "text": [
      "2023-05-14 09:59:50.730088: I tensorflow/core/common_runtime/executor.cc:1197] [/device:CPU:0] (DEBUG INFO) Executor start aborting (this does not indicate an error and you can ignore this message): INVALID_ARGUMENT: You must feed a value for placeholder tensor 'Placeholder/_1' with dtype int64 and shape [1000]\n",
      "\t [[{{node Placeholder/_1}}]]\n",
      "2023-05-14 09:59:50.800190: I tensorflow/core/common_runtime/executor.cc:1197] [/device:CPU:0] (DEBUG INFO) Executor start aborting (this does not indicate an error and you can ignore this message): INVALID_ARGUMENT: You must feed a value for placeholder tensor 'Placeholder/_1' with dtype float and shape [500]\n",
      "\t [[{{node Placeholder/_1}}]]\n",
      "2023-05-14 09:59:50.804498: I tensorflow/core/common_runtime/executor.cc:1197] [/device:CPU:0] (DEBUG INFO) Executor start aborting (this does not indicate an error and you can ignore this message): INVALID_ARGUMENT: You must feed a value for placeholder tensor 'Placeholder/_1' with dtype float and shape [500]\n",
      "\t [[{{node Placeholder/_1}}]]\n",
      "2023-05-14 09:59:50.807470: I tensorflow/core/common_runtime/executor.cc:1197] [/device:CPU:0] (DEBUG INFO) Executor start aborting (this does not indicate an error and you can ignore this message): INVALID_ARGUMENT: You must feed a value for placeholder tensor 'Placeholder/_1' with dtype float and shape [500]\n",
      "\t [[{{node Placeholder/_1}}]]\n",
      "2023-05-14 09:59:50.811286: I tensorflow/core/common_runtime/executor.cc:1197] [/device:CPU:0] (DEBUG INFO) Executor start aborting (this does not indicate an error and you can ignore this message): INVALID_ARGUMENT: You must feed a value for placeholder tensor 'Placeholder/_1' with dtype float and shape [500]\n",
      "\t [[{{node Placeholder/_1}}]]\n",
      "2023-05-14 09:59:50.814262: I tensorflow/core/common_runtime/executor.cc:1197] [/device:CPU:0] (DEBUG INFO) Executor start aborting (this does not indicate an error and you can ignore this message): INVALID_ARGUMENT: You must feed a value for placeholder tensor 'Placeholder/_1' with dtype float and shape [500]\n",
      "\t [[{{node Placeholder/_1}}]]\n",
      "2023-05-14 09:59:50.817828: I tensorflow/core/common_runtime/executor.cc:1197] [/device:CPU:0] (DEBUG INFO) Executor start aborting (this does not indicate an error and you can ignore this message): INVALID_ARGUMENT: You must feed a value for placeholder tensor 'Placeholder/_1' with dtype float and shape [500]\n",
      "\t [[{{node Placeholder/_1}}]]\n",
      "2023-05-14 09:59:50.820897: I tensorflow/core/common_runtime/executor.cc:1197] [/device:CPU:0] (DEBUG INFO) Executor start aborting (this does not indicate an error and you can ignore this message): INVALID_ARGUMENT: You must feed a value for placeholder tensor 'Placeholder/_1' with dtype float and shape [500]\n",
      "\t [[{{node Placeholder/_1}}]]\n",
      "2023-05-14 09:59:50.824644: I tensorflow/core/common_runtime/executor.cc:1197] [/device:CPU:0] (DEBUG INFO) Executor start aborting (this does not indicate an error and you can ignore this message): INVALID_ARGUMENT: You must feed a value for placeholder tensor 'Placeholder/_1' with dtype float and shape [500]\n",
      "\t [[{{node Placeholder/_1}}]]\n",
      "2023-05-14 09:59:50.827793: I tensorflow/core/common_runtime/executor.cc:1197] [/device:CPU:0] (DEBUG INFO) Executor start aborting (this does not indicate an error and you can ignore this message): INVALID_ARGUMENT: You must feed a value for placeholder tensor 'Placeholder/_1' with dtype float and shape [500]\n",
      "\t [[{{node Placeholder/_1}}]]\n",
      "2023-05-14 09:59:50.831354: I tensorflow/core/common_runtime/executor.cc:1197] [/device:CPU:0] (DEBUG INFO) Executor start aborting (this does not indicate an error and you can ignore this message): INVALID_ARGUMENT: You must feed a value for placeholder tensor 'Placeholder/_1' with dtype float and shape [500]\n",
      "\t [[{{node Placeholder/_1}}]]\n"
     ]
    },
    {
     "name": "stdout",
     "output_type": "stream",
     "text": [
      "Epoch 3 of 60\n",
      "\n",
      "Testing for epoch 3 index 1:\n",
      "65/65 [==============================] - 0s 467us/step\n"
     ]
    },
    {
     "name": "stderr",
     "output_type": "stream",
     "text": [
      "2023-05-14 09:59:51.077169: I tensorflow/core/common_runtime/executor.cc:1197] [/device:CPU:0] (DEBUG INFO) Executor start aborting (this does not indicate an error and you can ignore this message): INVALID_ARGUMENT: You must feed a value for placeholder tensor 'Placeholder/_1' with dtype int64 and shape [1000]\n",
      "\t [[{{node Placeholder/_1}}]]\n",
      "2023-05-14 09:59:51.146757: I tensorflow/core/common_runtime/executor.cc:1197] [/device:CPU:0] (DEBUG INFO) Executor start aborting (this does not indicate an error and you can ignore this message): INVALID_ARGUMENT: You must feed a value for placeholder tensor 'Placeholder/_1' with dtype float and shape [500]\n",
      "\t [[{{node Placeholder/_1}}]]\n",
      "2023-05-14 09:59:51.150022: I tensorflow/core/common_runtime/executor.cc:1197] [/device:CPU:0] (DEBUG INFO) Executor start aborting (this does not indicate an error and you can ignore this message): INVALID_ARGUMENT: You must feed a value for placeholder tensor 'Placeholder/_1' with dtype float and shape [500]\n",
      "\t [[{{node Placeholder/_1}}]]\n",
      "2023-05-14 09:59:51.153070: I tensorflow/core/common_runtime/executor.cc:1197] [/device:CPU:0] (DEBUG INFO) Executor start aborting (this does not indicate an error and you can ignore this message): INVALID_ARGUMENT: You must feed a value for placeholder tensor 'Placeholder/_1' with dtype float and shape [500]\n",
      "\t [[{{node Placeholder/_1}}]]\n",
      "2023-05-14 09:59:51.155962: I tensorflow/core/common_runtime/executor.cc:1197] [/device:CPU:0] (DEBUG INFO) Executor start aborting (this does not indicate an error and you can ignore this message): INVALID_ARGUMENT: You must feed a value for placeholder tensor 'Placeholder/_1' with dtype float and shape [500]\n",
      "\t [[{{node Placeholder/_1}}]]\n",
      "2023-05-14 09:59:51.158967: I tensorflow/core/common_runtime/executor.cc:1197] [/device:CPU:0] (DEBUG INFO) Executor start aborting (this does not indicate an error and you can ignore this message): INVALID_ARGUMENT: You must feed a value for placeholder tensor 'Placeholder/_1' with dtype float and shape [500]\n",
      "\t [[{{node Placeholder/_1}}]]\n",
      "2023-05-14 09:59:51.161796: I tensorflow/core/common_runtime/executor.cc:1197] [/device:CPU:0] (DEBUG INFO) Executor start aborting (this does not indicate an error and you can ignore this message): INVALID_ARGUMENT: You must feed a value for placeholder tensor 'Placeholder/_1' with dtype float and shape [500]\n",
      "\t [[{{node Placeholder/_1}}]]\n",
      "2023-05-14 09:59:51.165153: I tensorflow/core/common_runtime/executor.cc:1197] [/device:CPU:0] (DEBUG INFO) Executor start aborting (this does not indicate an error and you can ignore this message): INVALID_ARGUMENT: You must feed a value for placeholder tensor 'Placeholder/_1' with dtype float and shape [500]\n",
      "\t [[{{node Placeholder/_1}}]]\n",
      "2023-05-14 09:59:51.168012: I tensorflow/core/common_runtime/executor.cc:1197] [/device:CPU:0] (DEBUG INFO) Executor start aborting (this does not indicate an error and you can ignore this message): INVALID_ARGUMENT: You must feed a value for placeholder tensor 'Placeholder/_1' with dtype float and shape [500]\n",
      "\t [[{{node Placeholder/_1}}]]\n",
      "2023-05-14 09:59:51.170875: I tensorflow/core/common_runtime/executor.cc:1197] [/device:CPU:0] (DEBUG INFO) Executor start aborting (this does not indicate an error and you can ignore this message): INVALID_ARGUMENT: You must feed a value for placeholder tensor 'Placeholder/_1' with dtype float and shape [500]\n",
      "\t [[{{node Placeholder/_1}}]]\n",
      "2023-05-14 09:59:51.173876: I tensorflow/core/common_runtime/executor.cc:1197] [/device:CPU:0] (DEBUG INFO) Executor start aborting (this does not indicate an error and you can ignore this message): INVALID_ARGUMENT: You must feed a value for placeholder tensor 'Placeholder/_1' with dtype float and shape [500]\n",
      "\t [[{{node Placeholder/_1}}]]\n"
     ]
    },
    {
     "name": "stdout",
     "output_type": "stream",
     "text": [
      "\n",
      "Testing for epoch 3 index 2:\n",
      "65/65 [==============================] - 0s 491us/step\n"
     ]
    },
    {
     "name": "stderr",
     "output_type": "stream",
     "text": [
      "2023-05-14 09:59:51.423023: I tensorflow/core/common_runtime/executor.cc:1197] [/device:CPU:0] (DEBUG INFO) Executor start aborting (this does not indicate an error and you can ignore this message): INVALID_ARGUMENT: You must feed a value for placeholder tensor 'Placeholder/_1' with dtype int64 and shape [1000]\n",
      "\t [[{{node Placeholder/_1}}]]\n",
      "2023-05-14 09:59:51.493671: I tensorflow/core/common_runtime/executor.cc:1197] [/device:CPU:0] (DEBUG INFO) Executor start aborting (this does not indicate an error and you can ignore this message): INVALID_ARGUMENT: You must feed a value for placeholder tensor 'Placeholder/_1' with dtype float and shape [500]\n",
      "\t [[{{node Placeholder/_1}}]]\n",
      "2023-05-14 09:59:51.497420: I tensorflow/core/common_runtime/executor.cc:1197] [/device:CPU:0] (DEBUG INFO) Executor start aborting (this does not indicate an error and you can ignore this message): INVALID_ARGUMENT: You must feed a value for placeholder tensor 'Placeholder/_1' with dtype float and shape [500]\n",
      "\t [[{{node Placeholder/_1}}]]\n",
      "2023-05-14 09:59:51.500597: I tensorflow/core/common_runtime/executor.cc:1197] [/device:CPU:0] (DEBUG INFO) Executor start aborting (this does not indicate an error and you can ignore this message): INVALID_ARGUMENT: You must feed a value for placeholder tensor 'Placeholder/_1' with dtype float and shape [500]\n",
      "\t [[{{node Placeholder/_1}}]]\n",
      "2023-05-14 09:59:51.503868: I tensorflow/core/common_runtime/executor.cc:1197] [/device:CPU:0] (DEBUG INFO) Executor start aborting (this does not indicate an error and you can ignore this message): INVALID_ARGUMENT: You must feed a value for placeholder tensor 'Placeholder/_1' with dtype float and shape [500]\n",
      "\t [[{{node Placeholder/_1}}]]\n",
      "2023-05-14 09:59:51.506994: I tensorflow/core/common_runtime/executor.cc:1197] [/device:CPU:0] (DEBUG INFO) Executor start aborting (this does not indicate an error and you can ignore this message): INVALID_ARGUMENT: You must feed a value for placeholder tensor 'Placeholder/_1' with dtype float and shape [500]\n",
      "\t [[{{node Placeholder/_1}}]]\n",
      "2023-05-14 09:59:51.510390: I tensorflow/core/common_runtime/executor.cc:1197] [/device:CPU:0] (DEBUG INFO) Executor start aborting (this does not indicate an error and you can ignore this message): INVALID_ARGUMENT: You must feed a value for placeholder tensor 'Placeholder/_1' with dtype float and shape [500]\n",
      "\t [[{{node Placeholder/_1}}]]\n",
      "2023-05-14 09:59:51.513414: I tensorflow/core/common_runtime/executor.cc:1197] [/device:CPU:0] (DEBUG INFO) Executor start aborting (this does not indicate an error and you can ignore this message): INVALID_ARGUMENT: You must feed a value for placeholder tensor 'Placeholder/_1' with dtype float and shape [500]\n",
      "\t [[{{node Placeholder/_1}}]]\n",
      "2023-05-14 09:59:51.517014: I tensorflow/core/common_runtime/executor.cc:1197] [/device:CPU:0] (DEBUG INFO) Executor start aborting (this does not indicate an error and you can ignore this message): INVALID_ARGUMENT: You must feed a value for placeholder tensor 'Placeholder/_1' with dtype float and shape [500]\n",
      "\t [[{{node Placeholder/_1}}]]\n",
      "2023-05-14 09:59:51.519977: I tensorflow/core/common_runtime/executor.cc:1197] [/device:CPU:0] (DEBUG INFO) Executor start aborting (this does not indicate an error and you can ignore this message): INVALID_ARGUMENT: You must feed a value for placeholder tensor 'Placeholder/_1' with dtype float and shape [500]\n",
      "\t [[{{node Placeholder/_1}}]]\n",
      "2023-05-14 09:59:51.523023: I tensorflow/core/common_runtime/executor.cc:1197] [/device:CPU:0] (DEBUG INFO) Executor start aborting (this does not indicate an error and you can ignore this message): INVALID_ARGUMENT: You must feed a value for placeholder tensor 'Placeholder/_1' with dtype float and shape [500]\n",
      "\t [[{{node Placeholder/_1}}]]\n"
     ]
    },
    {
     "name": "stdout",
     "output_type": "stream",
     "text": [
      "\n",
      "Testing for epoch 3 index 3:\n",
      "65/65 [==============================] - 0s 519us/step\n"
     ]
    },
    {
     "name": "stderr",
     "output_type": "stream",
     "text": [
      "2023-05-14 09:59:51.777359: I tensorflow/core/common_runtime/executor.cc:1197] [/device:CPU:0] (DEBUG INFO) Executor start aborting (this does not indicate an error and you can ignore this message): INVALID_ARGUMENT: You must feed a value for placeholder tensor 'Placeholder/_1' with dtype int64 and shape [1000]\n",
      "\t [[{{node Placeholder/_1}}]]\n",
      "2023-05-14 09:59:51.851226: I tensorflow/core/common_runtime/executor.cc:1197] [/device:CPU:0] (DEBUG INFO) Executor start aborting (this does not indicate an error and you can ignore this message): INVALID_ARGUMENT: You must feed a value for placeholder tensor 'Placeholder/_1' with dtype float and shape [500]\n",
      "\t [[{{node Placeholder/_1}}]]\n",
      "2023-05-14 09:59:51.855277: I tensorflow/core/common_runtime/executor.cc:1197] [/device:CPU:0] (DEBUG INFO) Executor start aborting (this does not indicate an error and you can ignore this message): INVALID_ARGUMENT: You must feed a value for placeholder tensor 'Placeholder/_1' with dtype float and shape [500]\n",
      "\t [[{{node Placeholder/_1}}]]\n",
      "2023-05-14 09:59:51.858403: I tensorflow/core/common_runtime/executor.cc:1197] [/device:CPU:0] (DEBUG INFO) Executor start aborting (this does not indicate an error and you can ignore this message): INVALID_ARGUMENT: You must feed a value for placeholder tensor 'Placeholder/_1' with dtype float and shape [500]\n",
      "\t [[{{node Placeholder/_1}}]]\n",
      "2023-05-14 09:59:51.862217: I tensorflow/core/common_runtime/executor.cc:1197] [/device:CPU:0] (DEBUG INFO) Executor start aborting (this does not indicate an error and you can ignore this message): INVALID_ARGUMENT: You must feed a value for placeholder tensor 'Placeholder/_1' with dtype float and shape [500]\n",
      "\t [[{{node Placeholder/_1}}]]\n",
      "2023-05-14 09:59:51.865205: I tensorflow/core/common_runtime/executor.cc:1197] [/device:CPU:0] (DEBUG INFO) Executor start aborting (this does not indicate an error and you can ignore this message): INVALID_ARGUMENT: You must feed a value for placeholder tensor 'Placeholder/_1' with dtype float and shape [500]\n",
      "\t [[{{node Placeholder/_1}}]]\n",
      "2023-05-14 09:59:51.868912: I tensorflow/core/common_runtime/executor.cc:1197] [/device:CPU:0] (DEBUG INFO) Executor start aborting (this does not indicate an error and you can ignore this message): INVALID_ARGUMENT: You must feed a value for placeholder tensor 'Placeholder/_1' with dtype float and shape [500]\n",
      "\t [[{{node Placeholder/_1}}]]\n",
      "2023-05-14 09:59:51.872112: I tensorflow/core/common_runtime/executor.cc:1197] [/device:CPU:0] (DEBUG INFO) Executor start aborting (this does not indicate an error and you can ignore this message): INVALID_ARGUMENT: You must feed a value for placeholder tensor 'Placeholder/_1' with dtype float and shape [500]\n",
      "\t [[{{node Placeholder/_1}}]]\n",
      "2023-05-14 09:59:51.875774: I tensorflow/core/common_runtime/executor.cc:1197] [/device:CPU:0] (DEBUG INFO) Executor start aborting (this does not indicate an error and you can ignore this message): INVALID_ARGUMENT: You must feed a value for placeholder tensor 'Placeholder/_1' with dtype float and shape [500]\n",
      "\t [[{{node Placeholder/_1}}]]\n",
      "2023-05-14 09:59:51.879077: I tensorflow/core/common_runtime/executor.cc:1197] [/device:CPU:0] (DEBUG INFO) Executor start aborting (this does not indicate an error and you can ignore this message): INVALID_ARGUMENT: You must feed a value for placeholder tensor 'Placeholder/_1' with dtype float and shape [500]\n",
      "\t [[{{node Placeholder/_1}}]]\n",
      "2023-05-14 09:59:51.882982: I tensorflow/core/common_runtime/executor.cc:1197] [/device:CPU:0] (DEBUG INFO) Executor start aborting (this does not indicate an error and you can ignore this message): INVALID_ARGUMENT: You must feed a value for placeholder tensor 'Placeholder/_1' with dtype float and shape [500]\n",
      "\t [[{{node Placeholder/_1}}]]\n"
     ]
    },
    {
     "name": "stdout",
     "output_type": "stream",
     "text": [
      "\n",
      "Testing for epoch 3 index 4:\n",
      "65/65 [==============================] - 0s 667us/step\n"
     ]
    },
    {
     "name": "stderr",
     "output_type": "stream",
     "text": [
      "2023-05-14 09:59:52.135302: I tensorflow/core/common_runtime/executor.cc:1197] [/device:CPU:0] (DEBUG INFO) Executor start aborting (this does not indicate an error and you can ignore this message): INVALID_ARGUMENT: You must feed a value for placeholder tensor 'Placeholder/_1' with dtype int64 and shape [1000]\n",
      "\t [[{{node Placeholder/_1}}]]\n",
      "2023-05-14 09:59:52.220329: I tensorflow/core/common_runtime/executor.cc:1197] [/device:CPU:0] (DEBUG INFO) Executor start aborting (this does not indicate an error and you can ignore this message): INVALID_ARGUMENT: You must feed a value for placeholder tensor 'Placeholder/_1' with dtype float and shape [500]\n",
      "\t [[{{node Placeholder/_1}}]]\n",
      "2023-05-14 09:59:52.224267: I tensorflow/core/common_runtime/executor.cc:1197] [/device:CPU:0] (DEBUG INFO) Executor start aborting (this does not indicate an error and you can ignore this message): INVALID_ARGUMENT: You must feed a value for placeholder tensor 'Placeholder/_1' with dtype float and shape [500]\n",
      "\t [[{{node Placeholder/_1}}]]\n",
      "2023-05-14 09:59:52.228866: I tensorflow/core/common_runtime/executor.cc:1197] [/device:CPU:0] (DEBUG INFO) Executor start aborting (this does not indicate an error and you can ignore this message): INVALID_ARGUMENT: You must feed a value for placeholder tensor 'Placeholder/_1' with dtype float and shape [500]\n",
      "\t [[{{node Placeholder/_1}}]]\n",
      "2023-05-14 09:59:52.232210: I tensorflow/core/common_runtime/executor.cc:1197] [/device:CPU:0] (DEBUG INFO) Executor start aborting (this does not indicate an error and you can ignore this message): INVALID_ARGUMENT: You must feed a value for placeholder tensor 'Placeholder/_1' with dtype float and shape [500]\n",
      "\t [[{{node Placeholder/_1}}]]\n",
      "2023-05-14 09:59:52.237317: I tensorflow/core/common_runtime/executor.cc:1197] [/device:CPU:0] (DEBUG INFO) Executor start aborting (this does not indicate an error and you can ignore this message): INVALID_ARGUMENT: You must feed a value for placeholder tensor 'Placeholder/_1' with dtype float and shape [500]\n",
      "\t [[{{node Placeholder/_1}}]]\n",
      "2023-05-14 09:59:52.240346: I tensorflow/core/common_runtime/executor.cc:1197] [/device:CPU:0] (DEBUG INFO) Executor start aborting (this does not indicate an error and you can ignore this message): INVALID_ARGUMENT: You must feed a value for placeholder tensor 'Placeholder/_1' with dtype float and shape [500]\n",
      "\t [[{{node Placeholder/_1}}]]\n",
      "2023-05-14 09:59:52.243511: I tensorflow/core/common_runtime/executor.cc:1197] [/device:CPU:0] (DEBUG INFO) Executor start aborting (this does not indicate an error and you can ignore this message): INVALID_ARGUMENT: You must feed a value for placeholder tensor 'Placeholder/_1' with dtype float and shape [500]\n",
      "\t [[{{node Placeholder/_1}}]]\n",
      "2023-05-14 09:59:52.246404: I tensorflow/core/common_runtime/executor.cc:1197] [/device:CPU:0] (DEBUG INFO) Executor start aborting (this does not indicate an error and you can ignore this message): INVALID_ARGUMENT: You must feed a value for placeholder tensor 'Placeholder/_1' with dtype float and shape [500]\n",
      "\t [[{{node Placeholder/_1}}]]\n",
      "2023-05-14 09:59:52.249481: I tensorflow/core/common_runtime/executor.cc:1197] [/device:CPU:0] (DEBUG INFO) Executor start aborting (this does not indicate an error and you can ignore this message): INVALID_ARGUMENT: You must feed a value for placeholder tensor 'Placeholder/_1' with dtype float and shape [500]\n",
      "\t [[{{node Placeholder/_1}}]]\n",
      "2023-05-14 09:59:52.252532: I tensorflow/core/common_runtime/executor.cc:1197] [/device:CPU:0] (DEBUG INFO) Executor start aborting (this does not indicate an error and you can ignore this message): INVALID_ARGUMENT: You must feed a value for placeholder tensor 'Placeholder/_1' with dtype float and shape [500]\n",
      "\t [[{{node Placeholder/_1}}]]\n"
     ]
    },
    {
     "name": "stdout",
     "output_type": "stream",
     "text": [
      "Epoch 4 of 60\n",
      "\n",
      "Testing for epoch 4 index 1:\n",
      "65/65 [==============================] - 0s 520us/step\n"
     ]
    },
    {
     "name": "stderr",
     "output_type": "stream",
     "text": [
      "2023-05-14 09:59:52.500748: I tensorflow/core/common_runtime/executor.cc:1197] [/device:CPU:0] (DEBUG INFO) Executor start aborting (this does not indicate an error and you can ignore this message): INVALID_ARGUMENT: You must feed a value for placeholder tensor 'Placeholder/_1' with dtype int64 and shape [1000]\n",
      "\t [[{{node Placeholder/_1}}]]\n",
      "2023-05-14 09:59:52.575980: I tensorflow/core/common_runtime/executor.cc:1197] [/device:CPU:0] (DEBUG INFO) Executor start aborting (this does not indicate an error and you can ignore this message): INVALID_ARGUMENT: You must feed a value for placeholder tensor 'Placeholder/_1' with dtype float and shape [500]\n",
      "\t [[{{node Placeholder/_1}}]]\n",
      "2023-05-14 09:59:52.579626: I tensorflow/core/common_runtime/executor.cc:1197] [/device:CPU:0] (DEBUG INFO) Executor start aborting (this does not indicate an error and you can ignore this message): INVALID_ARGUMENT: You must feed a value for placeholder tensor 'Placeholder/_1' with dtype float and shape [500]\n",
      "\t [[{{node Placeholder/_1}}]]\n",
      "2023-05-14 09:59:52.583730: I tensorflow/core/common_runtime/executor.cc:1197] [/device:CPU:0] (DEBUG INFO) Executor start aborting (this does not indicate an error and you can ignore this message): INVALID_ARGUMENT: You must feed a value for placeholder tensor 'Placeholder/_1' with dtype float and shape [500]\n",
      "\t [[{{node Placeholder/_1}}]]\n",
      "2023-05-14 09:59:52.586777: I tensorflow/core/common_runtime/executor.cc:1197] [/device:CPU:0] (DEBUG INFO) Executor start aborting (this does not indicate an error and you can ignore this message): INVALID_ARGUMENT: You must feed a value for placeholder tensor 'Placeholder/_1' with dtype float and shape [500]\n",
      "\t [[{{node Placeholder/_1}}]]\n",
      "2023-05-14 09:59:52.590391: I tensorflow/core/common_runtime/executor.cc:1197] [/device:CPU:0] (DEBUG INFO) Executor start aborting (this does not indicate an error and you can ignore this message): INVALID_ARGUMENT: You must feed a value for placeholder tensor 'Placeholder/_1' with dtype float and shape [500]\n",
      "\t [[{{node Placeholder/_1}}]]\n",
      "2023-05-14 09:59:52.593703: I tensorflow/core/common_runtime/executor.cc:1197] [/device:CPU:0] (DEBUG INFO) Executor start aborting (this does not indicate an error and you can ignore this message): INVALID_ARGUMENT: You must feed a value for placeholder tensor 'Placeholder/_1' with dtype float and shape [500]\n",
      "\t [[{{node Placeholder/_1}}]]\n",
      "2023-05-14 09:59:52.596917: I tensorflow/core/common_runtime/executor.cc:1197] [/device:CPU:0] (DEBUG INFO) Executor start aborting (this does not indicate an error and you can ignore this message): INVALID_ARGUMENT: You must feed a value for placeholder tensor 'Placeholder/_1' with dtype float and shape [500]\n",
      "\t [[{{node Placeholder/_1}}]]\n",
      "2023-05-14 09:59:52.600111: I tensorflow/core/common_runtime/executor.cc:1197] [/device:CPU:0] (DEBUG INFO) Executor start aborting (this does not indicate an error and you can ignore this message): INVALID_ARGUMENT: You must feed a value for placeholder tensor 'Placeholder/_1' with dtype float and shape [500]\n",
      "\t [[{{node Placeholder/_1}}]]\n",
      "2023-05-14 09:59:52.603660: I tensorflow/core/common_runtime/executor.cc:1197] [/device:CPU:0] (DEBUG INFO) Executor start aborting (this does not indicate an error and you can ignore this message): INVALID_ARGUMENT: You must feed a value for placeholder tensor 'Placeholder/_1' with dtype float and shape [500]\n",
      "\t [[{{node Placeholder/_1}}]]\n",
      "2023-05-14 09:59:52.606664: I tensorflow/core/common_runtime/executor.cc:1197] [/device:CPU:0] (DEBUG INFO) Executor start aborting (this does not indicate an error and you can ignore this message): INVALID_ARGUMENT: You must feed a value for placeholder tensor 'Placeholder/_1' with dtype float and shape [500]\n",
      "\t [[{{node Placeholder/_1}}]]\n"
     ]
    },
    {
     "name": "stdout",
     "output_type": "stream",
     "text": [
      "\n",
      "Testing for epoch 4 index 2:\n",
      "65/65 [==============================] - 0s 504us/step\n"
     ]
    },
    {
     "name": "stderr",
     "output_type": "stream",
     "text": [
      "2023-05-14 09:59:52.861387: I tensorflow/core/common_runtime/executor.cc:1197] [/device:CPU:0] (DEBUG INFO) Executor start aborting (this does not indicate an error and you can ignore this message): INVALID_ARGUMENT: You must feed a value for placeholder tensor 'Placeholder/_1' with dtype int64 and shape [1000]\n",
      "\t [[{{node Placeholder/_1}}]]\n",
      "2023-05-14 09:59:52.934880: I tensorflow/core/common_runtime/executor.cc:1197] [/device:CPU:0] (DEBUG INFO) Executor start aborting (this does not indicate an error and you can ignore this message): INVALID_ARGUMENT: You must feed a value for placeholder tensor 'Placeholder/_1' with dtype float and shape [500]\n",
      "\t [[{{node Placeholder/_1}}]]\n",
      "2023-05-14 09:59:52.938838: I tensorflow/core/common_runtime/executor.cc:1197] [/device:CPU:0] (DEBUG INFO) Executor start aborting (this does not indicate an error and you can ignore this message): INVALID_ARGUMENT: You must feed a value for placeholder tensor 'Placeholder/_1' with dtype float and shape [500]\n",
      "\t [[{{node Placeholder/_1}}]]\n",
      "2023-05-14 09:59:52.942381: I tensorflow/core/common_runtime/executor.cc:1197] [/device:CPU:0] (DEBUG INFO) Executor start aborting (this does not indicate an error and you can ignore this message): INVALID_ARGUMENT: You must feed a value for placeholder tensor 'Placeholder/_1' with dtype float and shape [500]\n",
      "\t [[{{node Placeholder/_1}}]]\n",
      "2023-05-14 09:59:52.946208: I tensorflow/core/common_runtime/executor.cc:1197] [/device:CPU:0] (DEBUG INFO) Executor start aborting (this does not indicate an error and you can ignore this message): INVALID_ARGUMENT: You must feed a value for placeholder tensor 'Placeholder/_1' with dtype float and shape [500]\n",
      "\t [[{{node Placeholder/_1}}]]\n",
      "2023-05-14 09:59:52.950298: I tensorflow/core/common_runtime/executor.cc:1197] [/device:CPU:0] (DEBUG INFO) Executor start aborting (this does not indicate an error and you can ignore this message): INVALID_ARGUMENT: You must feed a value for placeholder tensor 'Placeholder/_1' with dtype float and shape [500]\n",
      "\t [[{{node Placeholder/_1}}]]\n",
      "2023-05-14 09:59:52.953697: I tensorflow/core/common_runtime/executor.cc:1197] [/device:CPU:0] (DEBUG INFO) Executor start aborting (this does not indicate an error and you can ignore this message): INVALID_ARGUMENT: You must feed a value for placeholder tensor 'Placeholder/_1' with dtype float and shape [500]\n",
      "\t [[{{node Placeholder/_1}}]]\n",
      "2023-05-14 09:59:52.957800: I tensorflow/core/common_runtime/executor.cc:1197] [/device:CPU:0] (DEBUG INFO) Executor start aborting (this does not indicate an error and you can ignore this message): INVALID_ARGUMENT: You must feed a value for placeholder tensor 'Placeholder/_1' with dtype float and shape [500]\n",
      "\t [[{{node Placeholder/_1}}]]\n",
      "2023-05-14 09:59:52.960926: I tensorflow/core/common_runtime/executor.cc:1197] [/device:CPU:0] (DEBUG INFO) Executor start aborting (this does not indicate an error and you can ignore this message): INVALID_ARGUMENT: You must feed a value for placeholder tensor 'Placeholder/_1' with dtype float and shape [500]\n",
      "\t [[{{node Placeholder/_1}}]]\n",
      "2023-05-14 09:59:52.964842: I tensorflow/core/common_runtime/executor.cc:1197] [/device:CPU:0] (DEBUG INFO) Executor start aborting (this does not indicate an error and you can ignore this message): INVALID_ARGUMENT: You must feed a value for placeholder tensor 'Placeholder/_1' with dtype float and shape [500]\n",
      "\t [[{{node Placeholder/_1}}]]\n",
      "2023-05-14 09:59:52.968067: I tensorflow/core/common_runtime/executor.cc:1197] [/device:CPU:0] (DEBUG INFO) Executor start aborting (this does not indicate an error and you can ignore this message): INVALID_ARGUMENT: You must feed a value for placeholder tensor 'Placeholder/_1' with dtype float and shape [500]\n",
      "\t [[{{node Placeholder/_1}}]]\n"
     ]
    },
    {
     "name": "stdout",
     "output_type": "stream",
     "text": [
      "\n",
      "Testing for epoch 4 index 3:\n",
      "65/65 [==============================] - 0s 472us/step\n"
     ]
    },
    {
     "name": "stderr",
     "output_type": "stream",
     "text": [
      "2023-05-14 09:59:53.218969: I tensorflow/core/common_runtime/executor.cc:1197] [/device:CPU:0] (DEBUG INFO) Executor start aborting (this does not indicate an error and you can ignore this message): INVALID_ARGUMENT: You must feed a value for placeholder tensor 'Placeholder/_1' with dtype int64 and shape [1000]\n",
      "\t [[{{node Placeholder/_1}}]]\n",
      "2023-05-14 09:59:53.288797: I tensorflow/core/common_runtime/executor.cc:1197] [/device:CPU:0] (DEBUG INFO) Executor start aborting (this does not indicate an error and you can ignore this message): INVALID_ARGUMENT: You must feed a value for placeholder tensor 'Placeholder/_1' with dtype float and shape [500]\n",
      "\t [[{{node Placeholder/_1}}]]\n",
      "2023-05-14 09:59:53.292472: I tensorflow/core/common_runtime/executor.cc:1197] [/device:CPU:0] (DEBUG INFO) Executor start aborting (this does not indicate an error and you can ignore this message): INVALID_ARGUMENT: You must feed a value for placeholder tensor 'Placeholder/_1' with dtype float and shape [500]\n",
      "\t [[{{node Placeholder/_1}}]]\n",
      "2023-05-14 09:59:53.295450: I tensorflow/core/common_runtime/executor.cc:1197] [/device:CPU:0] (DEBUG INFO) Executor start aborting (this does not indicate an error and you can ignore this message): INVALID_ARGUMENT: You must feed a value for placeholder tensor 'Placeholder/_1' with dtype float and shape [500]\n",
      "\t [[{{node Placeholder/_1}}]]\n",
      "2023-05-14 09:59:53.298538: I tensorflow/core/common_runtime/executor.cc:1197] [/device:CPU:0] (DEBUG INFO) Executor start aborting (this does not indicate an error and you can ignore this message): INVALID_ARGUMENT: You must feed a value for placeholder tensor 'Placeholder/_1' with dtype float and shape [500]\n",
      "\t [[{{node Placeholder/_1}}]]\n",
      "2023-05-14 09:59:53.301358: I tensorflow/core/common_runtime/executor.cc:1197] [/device:CPU:0] (DEBUG INFO) Executor start aborting (this does not indicate an error and you can ignore this message): INVALID_ARGUMENT: You must feed a value for placeholder tensor 'Placeholder/_1' with dtype float and shape [500]\n",
      "\t [[{{node Placeholder/_1}}]]\n",
      "2023-05-14 09:59:53.304674: I tensorflow/core/common_runtime/executor.cc:1197] [/device:CPU:0] (DEBUG INFO) Executor start aborting (this does not indicate an error and you can ignore this message): INVALID_ARGUMENT: You must feed a value for placeholder tensor 'Placeholder/_1' with dtype float and shape [500]\n",
      "\t [[{{node Placeholder/_1}}]]\n",
      "2023-05-14 09:59:53.307887: I tensorflow/core/common_runtime/executor.cc:1197] [/device:CPU:0] (DEBUG INFO) Executor start aborting (this does not indicate an error and you can ignore this message): INVALID_ARGUMENT: You must feed a value for placeholder tensor 'Placeholder/_1' with dtype float and shape [500]\n",
      "\t [[{{node Placeholder/_1}}]]\n",
      "2023-05-14 09:59:53.311695: I tensorflow/core/common_runtime/executor.cc:1197] [/device:CPU:0] (DEBUG INFO) Executor start aborting (this does not indicate an error and you can ignore this message): INVALID_ARGUMENT: You must feed a value for placeholder tensor 'Placeholder/_1' with dtype float and shape [500]\n",
      "\t [[{{node Placeholder/_1}}]]\n",
      "2023-05-14 09:59:53.314786: I tensorflow/core/common_runtime/executor.cc:1197] [/device:CPU:0] (DEBUG INFO) Executor start aborting (this does not indicate an error and you can ignore this message): INVALID_ARGUMENT: You must feed a value for placeholder tensor 'Placeholder/_1' with dtype float and shape [500]\n",
      "\t [[{{node Placeholder/_1}}]]\n",
      "2023-05-14 09:59:53.318053: I tensorflow/core/common_runtime/executor.cc:1197] [/device:CPU:0] (DEBUG INFO) Executor start aborting (this does not indicate an error and you can ignore this message): INVALID_ARGUMENT: You must feed a value for placeholder tensor 'Placeholder/_1' with dtype float and shape [500]\n",
      "\t [[{{node Placeholder/_1}}]]\n"
     ]
    },
    {
     "name": "stdout",
     "output_type": "stream",
     "text": [
      "\n",
      "Testing for epoch 4 index 4:\n",
      "65/65 [==============================] - 0s 521us/step\n"
     ]
    },
    {
     "name": "stderr",
     "output_type": "stream",
     "text": [
      "2023-05-14 09:59:53.579806: I tensorflow/core/common_runtime/executor.cc:1197] [/device:CPU:0] (DEBUG INFO) Executor start aborting (this does not indicate an error and you can ignore this message): INVALID_ARGUMENT: You must feed a value for placeholder tensor 'Placeholder/_1' with dtype int64 and shape [1000]\n",
      "\t [[{{node Placeholder/_1}}]]\n",
      "2023-05-14 09:59:53.655901: I tensorflow/core/common_runtime/executor.cc:1197] [/device:CPU:0] (DEBUG INFO) Executor start aborting (this does not indicate an error and you can ignore this message): INVALID_ARGUMENT: You must feed a value for placeholder tensor 'Placeholder/_1' with dtype float and shape [500]\n",
      "\t [[{{node Placeholder/_1}}]]\n",
      "2023-05-14 09:59:53.659531: I tensorflow/core/common_runtime/executor.cc:1197] [/device:CPU:0] (DEBUG INFO) Executor start aborting (this does not indicate an error and you can ignore this message): INVALID_ARGUMENT: You must feed a value for placeholder tensor 'Placeholder/_1' with dtype float and shape [500]\n",
      "\t [[{{node Placeholder/_1}}]]\n",
      "2023-05-14 09:59:53.662696: I tensorflow/core/common_runtime/executor.cc:1197] [/device:CPU:0] (DEBUG INFO) Executor start aborting (this does not indicate an error and you can ignore this message): INVALID_ARGUMENT: You must feed a value for placeholder tensor 'Placeholder/_1' with dtype float and shape [500]\n",
      "\t [[{{node Placeholder/_1}}]]\n",
      "2023-05-14 09:59:53.666007: I tensorflow/core/common_runtime/executor.cc:1197] [/device:CPU:0] (DEBUG INFO) Executor start aborting (this does not indicate an error and you can ignore this message): INVALID_ARGUMENT: You must feed a value for placeholder tensor 'Placeholder/_1' with dtype float and shape [500]\n",
      "\t [[{{node Placeholder/_1}}]]\n",
      "2023-05-14 09:59:53.669480: I tensorflow/core/common_runtime/executor.cc:1197] [/device:CPU:0] (DEBUG INFO) Executor start aborting (this does not indicate an error and you can ignore this message): INVALID_ARGUMENT: You must feed a value for placeholder tensor 'Placeholder/_1' with dtype float and shape [500]\n",
      "\t [[{{node Placeholder/_1}}]]\n",
      "2023-05-14 09:59:53.673342: I tensorflow/core/common_runtime/executor.cc:1197] [/device:CPU:0] (DEBUG INFO) Executor start aborting (this does not indicate an error and you can ignore this message): INVALID_ARGUMENT: You must feed a value for placeholder tensor 'Placeholder/_1' with dtype float and shape [500]\n",
      "\t [[{{node Placeholder/_1}}]]\n",
      "2023-05-14 09:59:53.676334: I tensorflow/core/common_runtime/executor.cc:1197] [/device:CPU:0] (DEBUG INFO) Executor start aborting (this does not indicate an error and you can ignore this message): INVALID_ARGUMENT: You must feed a value for placeholder tensor 'Placeholder/_1' with dtype float and shape [500]\n",
      "\t [[{{node Placeholder/_1}}]]\n",
      "2023-05-14 09:59:53.679971: I tensorflow/core/common_runtime/executor.cc:1197] [/device:CPU:0] (DEBUG INFO) Executor start aborting (this does not indicate an error and you can ignore this message): INVALID_ARGUMENT: You must feed a value for placeholder tensor 'Placeholder/_1' with dtype float and shape [500]\n",
      "\t [[{{node Placeholder/_1}}]]\n",
      "2023-05-14 09:59:53.682898: I tensorflow/core/common_runtime/executor.cc:1197] [/device:CPU:0] (DEBUG INFO) Executor start aborting (this does not indicate an error and you can ignore this message): INVALID_ARGUMENT: You must feed a value for placeholder tensor 'Placeholder/_1' with dtype float and shape [500]\n",
      "\t [[{{node Placeholder/_1}}]]\n",
      "2023-05-14 09:59:53.686030: I tensorflow/core/common_runtime/executor.cc:1197] [/device:CPU:0] (DEBUG INFO) Executor start aborting (this does not indicate an error and you can ignore this message): INVALID_ARGUMENT: You must feed a value for placeholder tensor 'Placeholder/_1' with dtype float and shape [500]\n",
      "\t [[{{node Placeholder/_1}}]]\n"
     ]
    },
    {
     "name": "stdout",
     "output_type": "stream",
     "text": [
      "Epoch 5 of 60\n",
      "\n",
      "Testing for epoch 5 index 1:\n",
      "65/65 [==============================] - 0s 489us/step\n"
     ]
    },
    {
     "name": "stderr",
     "output_type": "stream",
     "text": [
      "2023-05-14 09:59:53.936130: I tensorflow/core/common_runtime/executor.cc:1197] [/device:CPU:0] (DEBUG INFO) Executor start aborting (this does not indicate an error and you can ignore this message): INVALID_ARGUMENT: You must feed a value for placeholder tensor 'Placeholder/_1' with dtype int64 and shape [1000]\n",
      "\t [[{{node Placeholder/_1}}]]\n",
      "2023-05-14 09:59:54.009879: I tensorflow/core/common_runtime/executor.cc:1197] [/device:CPU:0] (DEBUG INFO) Executor start aborting (this does not indicate an error and you can ignore this message): INVALID_ARGUMENT: You must feed a value for placeholder tensor 'Placeholder/_1' with dtype float and shape [500]\n",
      "\t [[{{node Placeholder/_1}}]]\n",
      "2023-05-14 09:59:54.013825: I tensorflow/core/common_runtime/executor.cc:1197] [/device:CPU:0] (DEBUG INFO) Executor start aborting (this does not indicate an error and you can ignore this message): INVALID_ARGUMENT: You must feed a value for placeholder tensor 'Placeholder/_1' with dtype float and shape [500]\n",
      "\t [[{{node Placeholder/_1}}]]\n",
      "2023-05-14 09:59:54.017254: I tensorflow/core/common_runtime/executor.cc:1197] [/device:CPU:0] (DEBUG INFO) Executor start aborting (this does not indicate an error and you can ignore this message): INVALID_ARGUMENT: You must feed a value for placeholder tensor 'Placeholder/_1' with dtype float and shape [500]\n",
      "\t [[{{node Placeholder/_1}}]]\n",
      "2023-05-14 09:59:54.020920: I tensorflow/core/common_runtime/executor.cc:1197] [/device:CPU:0] (DEBUG INFO) Executor start aborting (this does not indicate an error and you can ignore this message): INVALID_ARGUMENT: You must feed a value for placeholder tensor 'Placeholder/_1' with dtype float and shape [500]\n",
      "\t [[{{node Placeholder/_1}}]]\n",
      "2023-05-14 09:59:54.024045: I tensorflow/core/common_runtime/executor.cc:1197] [/device:CPU:0] (DEBUG INFO) Executor start aborting (this does not indicate an error and you can ignore this message): INVALID_ARGUMENT: You must feed a value for placeholder tensor 'Placeholder/_1' with dtype float and shape [500]\n",
      "\t [[{{node Placeholder/_1}}]]\n",
      "2023-05-14 09:59:54.027700: I tensorflow/core/common_runtime/executor.cc:1197] [/device:CPU:0] (DEBUG INFO) Executor start aborting (this does not indicate an error and you can ignore this message): INVALID_ARGUMENT: You must feed a value for placeholder tensor 'Placeholder/_1' with dtype float and shape [500]\n",
      "\t [[{{node Placeholder/_1}}]]\n",
      "2023-05-14 09:59:54.030934: I tensorflow/core/common_runtime/executor.cc:1197] [/device:CPU:0] (DEBUG INFO) Executor start aborting (this does not indicate an error and you can ignore this message): INVALID_ARGUMENT: You must feed a value for placeholder tensor 'Placeholder/_1' with dtype float and shape [500]\n",
      "\t [[{{node Placeholder/_1}}]]\n",
      "2023-05-14 09:59:54.034111: I tensorflow/core/common_runtime/executor.cc:1197] [/device:CPU:0] (DEBUG INFO) Executor start aborting (this does not indicate an error and you can ignore this message): INVALID_ARGUMENT: You must feed a value for placeholder tensor 'Placeholder/_1' with dtype float and shape [500]\n",
      "\t [[{{node Placeholder/_1}}]]\n",
      "2023-05-14 09:59:54.037064: I tensorflow/core/common_runtime/executor.cc:1197] [/device:CPU:0] (DEBUG INFO) Executor start aborting (this does not indicate an error and you can ignore this message): INVALID_ARGUMENT: You must feed a value for placeholder tensor 'Placeholder/_1' with dtype float and shape [500]\n",
      "\t [[{{node Placeholder/_1}}]]\n",
      "2023-05-14 09:59:54.040226: I tensorflow/core/common_runtime/executor.cc:1197] [/device:CPU:0] (DEBUG INFO) Executor start aborting (this does not indicate an error and you can ignore this message): INVALID_ARGUMENT: You must feed a value for placeholder tensor 'Placeholder/_1' with dtype float and shape [500]\n",
      "\t [[{{node Placeholder/_1}}]]\n"
     ]
    },
    {
     "name": "stdout",
     "output_type": "stream",
     "text": [
      "\n",
      "Testing for epoch 5 index 2:\n",
      "65/65 [==============================] - 0s 554us/step\n"
     ]
    },
    {
     "name": "stderr",
     "output_type": "stream",
     "text": [
      "2023-05-14 09:59:54.305682: I tensorflow/core/common_runtime/executor.cc:1197] [/device:CPU:0] (DEBUG INFO) Executor start aborting (this does not indicate an error and you can ignore this message): INVALID_ARGUMENT: You must feed a value for placeholder tensor 'Placeholder/_1' with dtype int64 and shape [1000]\n",
      "\t [[{{node Placeholder/_1}}]]\n",
      "2023-05-14 09:59:54.386288: I tensorflow/core/common_runtime/executor.cc:1197] [/device:CPU:0] (DEBUG INFO) Executor start aborting (this does not indicate an error and you can ignore this message): INVALID_ARGUMENT: You must feed a value for placeholder tensor 'Placeholder/_1' with dtype float and shape [500]\n",
      "\t [[{{node Placeholder/_1}}]]\n",
      "2023-05-14 09:59:54.391120: I tensorflow/core/common_runtime/executor.cc:1197] [/device:CPU:0] (DEBUG INFO) Executor start aborting (this does not indicate an error and you can ignore this message): INVALID_ARGUMENT: You must feed a value for placeholder tensor 'Placeholder/_1' with dtype float and shape [500]\n",
      "\t [[{{node Placeholder/_1}}]]\n",
      "2023-05-14 09:59:54.396066: I tensorflow/core/common_runtime/executor.cc:1197] [/device:CPU:0] (DEBUG INFO) Executor start aborting (this does not indicate an error and you can ignore this message): INVALID_ARGUMENT: You must feed a value for placeholder tensor 'Placeholder/_1' with dtype float and shape [500]\n",
      "\t [[{{node Placeholder/_1}}]]\n",
      "2023-05-14 09:59:54.401900: I tensorflow/core/common_runtime/executor.cc:1197] [/device:CPU:0] (DEBUG INFO) Executor start aborting (this does not indicate an error and you can ignore this message): INVALID_ARGUMENT: You must feed a value for placeholder tensor 'Placeholder/_1' with dtype float and shape [500]\n",
      "\t [[{{node Placeholder/_1}}]]\n",
      "2023-05-14 09:59:54.406002: I tensorflow/core/common_runtime/executor.cc:1197] [/device:CPU:0] (DEBUG INFO) Executor start aborting (this does not indicate an error and you can ignore this message): INVALID_ARGUMENT: You must feed a value for placeholder tensor 'Placeholder/_1' with dtype float and shape [500]\n",
      "\t [[{{node Placeholder/_1}}]]\n",
      "2023-05-14 09:59:54.411379: I tensorflow/core/common_runtime/executor.cc:1197] [/device:CPU:0] (DEBUG INFO) Executor start aborting (this does not indicate an error and you can ignore this message): INVALID_ARGUMENT: You must feed a value for placeholder tensor 'Placeholder/_1' with dtype float and shape [500]\n",
      "\t [[{{node Placeholder/_1}}]]\n",
      "2023-05-14 09:59:54.416689: I tensorflow/core/common_runtime/executor.cc:1197] [/device:CPU:0] (DEBUG INFO) Executor start aborting (this does not indicate an error and you can ignore this message): INVALID_ARGUMENT: You must feed a value for placeholder tensor 'Placeholder/_1' with dtype float and shape [500]\n",
      "\t [[{{node Placeholder/_1}}]]\n",
      "2023-05-14 09:59:54.420562: I tensorflow/core/common_runtime/executor.cc:1197] [/device:CPU:0] (DEBUG INFO) Executor start aborting (this does not indicate an error and you can ignore this message): INVALID_ARGUMENT: You must feed a value for placeholder tensor 'Placeholder/_1' with dtype float and shape [500]\n",
      "\t [[{{node Placeholder/_1}}]]\n",
      "2023-05-14 09:59:54.425258: I tensorflow/core/common_runtime/executor.cc:1197] [/device:CPU:0] (DEBUG INFO) Executor start aborting (this does not indicate an error and you can ignore this message): INVALID_ARGUMENT: You must feed a value for placeholder tensor 'Placeholder/_1' with dtype float and shape [500]\n",
      "\t [[{{node Placeholder/_1}}]]\n",
      "2023-05-14 09:59:54.429851: I tensorflow/core/common_runtime/executor.cc:1197] [/device:CPU:0] (DEBUG INFO) Executor start aborting (this does not indicate an error and you can ignore this message): INVALID_ARGUMENT: You must feed a value for placeholder tensor 'Placeholder/_1' with dtype float and shape [500]\n",
      "\t [[{{node Placeholder/_1}}]]\n"
     ]
    },
    {
     "name": "stdout",
     "output_type": "stream",
     "text": [
      "\n",
      "Testing for epoch 5 index 3:\n",
      "65/65 [==============================] - 0s 457us/step\n"
     ]
    },
    {
     "name": "stderr",
     "output_type": "stream",
     "text": [
      "2023-05-14 09:59:54.696786: I tensorflow/core/common_runtime/executor.cc:1197] [/device:CPU:0] (DEBUG INFO) Executor start aborting (this does not indicate an error and you can ignore this message): INVALID_ARGUMENT: You must feed a value for placeholder tensor 'Placeholder/_1' with dtype int64 and shape [1000]\n",
      "\t [[{{node Placeholder/_1}}]]\n",
      "2023-05-14 09:59:54.765450: I tensorflow/core/common_runtime/executor.cc:1197] [/device:CPU:0] (DEBUG INFO) Executor start aborting (this does not indicate an error and you can ignore this message): INVALID_ARGUMENT: You must feed a value for placeholder tensor 'Placeholder/_1' with dtype float and shape [500]\n",
      "\t [[{{node Placeholder/_1}}]]\n",
      "2023-05-14 09:59:54.769304: I tensorflow/core/common_runtime/executor.cc:1197] [/device:CPU:0] (DEBUG INFO) Executor start aborting (this does not indicate an error and you can ignore this message): INVALID_ARGUMENT: You must feed a value for placeholder tensor 'Placeholder/_1' with dtype float and shape [500]\n",
      "\t [[{{node Placeholder/_1}}]]\n",
      "2023-05-14 09:59:54.772230: I tensorflow/core/common_runtime/executor.cc:1197] [/device:CPU:0] (DEBUG INFO) Executor start aborting (this does not indicate an error and you can ignore this message): INVALID_ARGUMENT: You must feed a value for placeholder tensor 'Placeholder/_1' with dtype float and shape [500]\n",
      "\t [[{{node Placeholder/_1}}]]\n",
      "2023-05-14 09:59:54.775150: I tensorflow/core/common_runtime/executor.cc:1197] [/device:CPU:0] (DEBUG INFO) Executor start aborting (this does not indicate an error and you can ignore this message): INVALID_ARGUMENT: You must feed a value for placeholder tensor 'Placeholder/_1' with dtype float and shape [500]\n",
      "\t [[{{node Placeholder/_1}}]]\n",
      "2023-05-14 09:59:54.778271: I tensorflow/core/common_runtime/executor.cc:1197] [/device:CPU:0] (DEBUG INFO) Executor start aborting (this does not indicate an error and you can ignore this message): INVALID_ARGUMENT: You must feed a value for placeholder tensor 'Placeholder/_1' with dtype float and shape [500]\n",
      "\t [[{{node Placeholder/_1}}]]\n",
      "2023-05-14 09:59:54.781109: I tensorflow/core/common_runtime/executor.cc:1197] [/device:CPU:0] (DEBUG INFO) Executor start aborting (this does not indicate an error and you can ignore this message): INVALID_ARGUMENT: You must feed a value for placeholder tensor 'Placeholder/_1' with dtype float and shape [500]\n",
      "\t [[{{node Placeholder/_1}}]]\n",
      "2023-05-14 09:59:54.784009: I tensorflow/core/common_runtime/executor.cc:1197] [/device:CPU:0] (DEBUG INFO) Executor start aborting (this does not indicate an error and you can ignore this message): INVALID_ARGUMENT: You must feed a value for placeholder tensor 'Placeholder/_1' with dtype float and shape [500]\n",
      "\t [[{{node Placeholder/_1}}]]\n",
      "2023-05-14 09:59:54.786841: I tensorflow/core/common_runtime/executor.cc:1197] [/device:CPU:0] (DEBUG INFO) Executor start aborting (this does not indicate an error and you can ignore this message): INVALID_ARGUMENT: You must feed a value for placeholder tensor 'Placeholder/_1' with dtype float and shape [500]\n",
      "\t [[{{node Placeholder/_1}}]]\n",
      "2023-05-14 09:59:54.790019: I tensorflow/core/common_runtime/executor.cc:1197] [/device:CPU:0] (DEBUG INFO) Executor start aborting (this does not indicate an error and you can ignore this message): INVALID_ARGUMENT: You must feed a value for placeholder tensor 'Placeholder/_1' with dtype float and shape [500]\n",
      "\t [[{{node Placeholder/_1}}]]\n",
      "2023-05-14 09:59:54.793000: I tensorflow/core/common_runtime/executor.cc:1197] [/device:CPU:0] (DEBUG INFO) Executor start aborting (this does not indicate an error and you can ignore this message): INVALID_ARGUMENT: You must feed a value for placeholder tensor 'Placeholder/_1' with dtype float and shape [500]\n",
      "\t [[{{node Placeholder/_1}}]]\n"
     ]
    },
    {
     "name": "stdout",
     "output_type": "stream",
     "text": [
      "\n",
      "Testing for epoch 5 index 4:\n",
      "65/65 [==============================] - 0s 474us/step\n"
     ]
    },
    {
     "name": "stderr",
     "output_type": "stream",
     "text": [
      "2023-05-14 09:59:55.040878: I tensorflow/core/common_runtime/executor.cc:1197] [/device:CPU:0] (DEBUG INFO) Executor start aborting (this does not indicate an error and you can ignore this message): INVALID_ARGUMENT: You must feed a value for placeholder tensor 'Placeholder/_1' with dtype int64 and shape [1000]\n",
      "\t [[{{node Placeholder/_1}}]]\n",
      "2023-05-14 09:59:55.113362: I tensorflow/core/common_runtime/executor.cc:1197] [/device:CPU:0] (DEBUG INFO) Executor start aborting (this does not indicate an error and you can ignore this message): INVALID_ARGUMENT: You must feed a value for placeholder tensor 'Placeholder/_1' with dtype float and shape [500]\n",
      "\t [[{{node Placeholder/_1}}]]\n",
      "2023-05-14 09:59:55.118045: I tensorflow/core/common_runtime/executor.cc:1197] [/device:CPU:0] (DEBUG INFO) Executor start aborting (this does not indicate an error and you can ignore this message): INVALID_ARGUMENT: You must feed a value for placeholder tensor 'Placeholder/_1' with dtype float and shape [500]\n",
      "\t [[{{node Placeholder/_1}}]]\n",
      "2023-05-14 09:59:55.121499: I tensorflow/core/common_runtime/executor.cc:1197] [/device:CPU:0] (DEBUG INFO) Executor start aborting (this does not indicate an error and you can ignore this message): INVALID_ARGUMENT: You must feed a value for placeholder tensor 'Placeholder/_1' with dtype float and shape [500]\n",
      "\t [[{{node Placeholder/_1}}]]\n",
      "2023-05-14 09:59:55.124731: I tensorflow/core/common_runtime/executor.cc:1197] [/device:CPU:0] (DEBUG INFO) Executor start aborting (this does not indicate an error and you can ignore this message): INVALID_ARGUMENT: You must feed a value for placeholder tensor 'Placeholder/_1' with dtype float and shape [500]\n",
      "\t [[{{node Placeholder/_1}}]]\n",
      "2023-05-14 09:59:55.127840: I tensorflow/core/common_runtime/executor.cc:1197] [/device:CPU:0] (DEBUG INFO) Executor start aborting (this does not indicate an error and you can ignore this message): INVALID_ARGUMENT: You must feed a value for placeholder tensor 'Placeholder/_1' with dtype float and shape [500]\n",
      "\t [[{{node Placeholder/_1}}]]\n",
      "2023-05-14 09:59:55.131069: I tensorflow/core/common_runtime/executor.cc:1197] [/device:CPU:0] (DEBUG INFO) Executor start aborting (this does not indicate an error and you can ignore this message): INVALID_ARGUMENT: You must feed a value for placeholder tensor 'Placeholder/_1' with dtype float and shape [500]\n",
      "\t [[{{node Placeholder/_1}}]]\n",
      "2023-05-14 09:59:55.134402: I tensorflow/core/common_runtime/executor.cc:1197] [/device:CPU:0] (DEBUG INFO) Executor start aborting (this does not indicate an error and you can ignore this message): INVALID_ARGUMENT: You must feed a value for placeholder tensor 'Placeholder/_1' with dtype float and shape [500]\n",
      "\t [[{{node Placeholder/_1}}]]\n",
      "2023-05-14 09:59:55.138172: I tensorflow/core/common_runtime/executor.cc:1197] [/device:CPU:0] (DEBUG INFO) Executor start aborting (this does not indicate an error and you can ignore this message): INVALID_ARGUMENT: You must feed a value for placeholder tensor 'Placeholder/_1' with dtype float and shape [500]\n",
      "\t [[{{node Placeholder/_1}}]]\n",
      "2023-05-14 09:59:55.141660: I tensorflow/core/common_runtime/executor.cc:1197] [/device:CPU:0] (DEBUG INFO) Executor start aborting (this does not indicate an error and you can ignore this message): INVALID_ARGUMENT: You must feed a value for placeholder tensor 'Placeholder/_1' with dtype float and shape [500]\n",
      "\t [[{{node Placeholder/_1}}]]\n",
      "2023-05-14 09:59:55.145308: I tensorflow/core/common_runtime/executor.cc:1197] [/device:CPU:0] (DEBUG INFO) Executor start aborting (this does not indicate an error and you can ignore this message): INVALID_ARGUMENT: You must feed a value for placeholder tensor 'Placeholder/_1' with dtype float and shape [500]\n",
      "\t [[{{node Placeholder/_1}}]]\n"
     ]
    },
    {
     "name": "stdout",
     "output_type": "stream",
     "text": [
      "Epoch 6 of 60\n",
      "\n",
      "Testing for epoch 6 index 1:\n",
      "65/65 [==============================] - 0s 512us/step\n"
     ]
    },
    {
     "name": "stderr",
     "output_type": "stream",
     "text": [
      "2023-05-14 09:59:55.421869: I tensorflow/core/common_runtime/executor.cc:1197] [/device:CPU:0] (DEBUG INFO) Executor start aborting (this does not indicate an error and you can ignore this message): INVALID_ARGUMENT: You must feed a value for placeholder tensor 'Placeholder/_1' with dtype int64 and shape [1000]\n",
      "\t [[{{node Placeholder/_1}}]]\n",
      "2023-05-14 09:59:55.500052: I tensorflow/core/common_runtime/executor.cc:1197] [/device:CPU:0] (DEBUG INFO) Executor start aborting (this does not indicate an error and you can ignore this message): INVALID_ARGUMENT: You must feed a value for placeholder tensor 'Placeholder/_1' with dtype float and shape [500]\n",
      "\t [[{{node Placeholder/_1}}]]\n",
      "2023-05-14 09:59:55.503590: I tensorflow/core/common_runtime/executor.cc:1197] [/device:CPU:0] (DEBUG INFO) Executor start aborting (this does not indicate an error and you can ignore this message): INVALID_ARGUMENT: You must feed a value for placeholder tensor 'Placeholder/_1' with dtype float and shape [500]\n",
      "\t [[{{node Placeholder/_1}}]]\n",
      "2023-05-14 09:59:55.507360: I tensorflow/core/common_runtime/executor.cc:1197] [/device:CPU:0] (DEBUG INFO) Executor start aborting (this does not indicate an error and you can ignore this message): INVALID_ARGUMENT: You must feed a value for placeholder tensor 'Placeholder/_1' with dtype float and shape [500]\n",
      "\t [[{{node Placeholder/_1}}]]\n",
      "2023-05-14 09:59:55.510636: I tensorflow/core/common_runtime/executor.cc:1197] [/device:CPU:0] (DEBUG INFO) Executor start aborting (this does not indicate an error and you can ignore this message): INVALID_ARGUMENT: You must feed a value for placeholder tensor 'Placeholder/_1' with dtype float and shape [500]\n",
      "\t [[{{node Placeholder/_1}}]]\n",
      "2023-05-14 09:59:55.514122: I tensorflow/core/common_runtime/executor.cc:1197] [/device:CPU:0] (DEBUG INFO) Executor start aborting (this does not indicate an error and you can ignore this message): INVALID_ARGUMENT: You must feed a value for placeholder tensor 'Placeholder/_1' with dtype float and shape [500]\n",
      "\t [[{{node Placeholder/_1}}]]\n",
      "2023-05-14 09:59:55.517294: I tensorflow/core/common_runtime/executor.cc:1197] [/device:CPU:0] (DEBUG INFO) Executor start aborting (this does not indicate an error and you can ignore this message): INVALID_ARGUMENT: You must feed a value for placeholder tensor 'Placeholder/_1' with dtype float and shape [500]\n",
      "\t [[{{node Placeholder/_1}}]]\n",
      "2023-05-14 09:59:55.521060: I tensorflow/core/common_runtime/executor.cc:1197] [/device:CPU:0] (DEBUG INFO) Executor start aborting (this does not indicate an error and you can ignore this message): INVALID_ARGUMENT: You must feed a value for placeholder tensor 'Placeholder/_1' with dtype float and shape [500]\n",
      "\t [[{{node Placeholder/_1}}]]\n",
      "2023-05-14 09:59:55.524284: I tensorflow/core/common_runtime/executor.cc:1197] [/device:CPU:0] (DEBUG INFO) Executor start aborting (this does not indicate an error and you can ignore this message): INVALID_ARGUMENT: You must feed a value for placeholder tensor 'Placeholder/_1' with dtype float and shape [500]\n",
      "\t [[{{node Placeholder/_1}}]]\n",
      "2023-05-14 09:59:55.527914: I tensorflow/core/common_runtime/executor.cc:1197] [/device:CPU:0] (DEBUG INFO) Executor start aborting (this does not indicate an error and you can ignore this message): INVALID_ARGUMENT: You must feed a value for placeholder tensor 'Placeholder/_1' with dtype float and shape [500]\n",
      "\t [[{{node Placeholder/_1}}]]\n",
      "2023-05-14 09:59:55.531111: I tensorflow/core/common_runtime/executor.cc:1197] [/device:CPU:0] (DEBUG INFO) Executor start aborting (this does not indicate an error and you can ignore this message): INVALID_ARGUMENT: You must feed a value for placeholder tensor 'Placeholder/_1' with dtype float and shape [500]\n",
      "\t [[{{node Placeholder/_1}}]]\n"
     ]
    },
    {
     "name": "stdout",
     "output_type": "stream",
     "text": [
      "\n",
      "Testing for epoch 6 index 2:\n",
      "65/65 [==============================] - 0s 473us/step\n"
     ]
    },
    {
     "name": "stderr",
     "output_type": "stream",
     "text": [
      "2023-05-14 09:59:55.800322: I tensorflow/core/common_runtime/executor.cc:1197] [/device:CPU:0] (DEBUG INFO) Executor start aborting (this does not indicate an error and you can ignore this message): INVALID_ARGUMENT: You must feed a value for placeholder tensor 'Placeholder/_1' with dtype int64 and shape [1000]\n",
      "\t [[{{node Placeholder/_1}}]]\n",
      "2023-05-14 09:59:55.874360: I tensorflow/core/common_runtime/executor.cc:1197] [/device:CPU:0] (DEBUG INFO) Executor start aborting (this does not indicate an error and you can ignore this message): INVALID_ARGUMENT: You must feed a value for placeholder tensor 'Placeholder/_1' with dtype float and shape [500]\n",
      "\t [[{{node Placeholder/_1}}]]\n",
      "2023-05-14 09:59:55.879392: I tensorflow/core/common_runtime/executor.cc:1197] [/device:CPU:0] (DEBUG INFO) Executor start aborting (this does not indicate an error and you can ignore this message): INVALID_ARGUMENT: You must feed a value for placeholder tensor 'Placeholder/_1' with dtype float and shape [500]\n",
      "\t [[{{node Placeholder/_1}}]]\n",
      "2023-05-14 09:59:55.884634: I tensorflow/core/common_runtime/executor.cc:1197] [/device:CPU:0] (DEBUG INFO) Executor start aborting (this does not indicate an error and you can ignore this message): INVALID_ARGUMENT: You must feed a value for placeholder tensor 'Placeholder/_1' with dtype float and shape [500]\n",
      "\t [[{{node Placeholder/_1}}]]\n",
      "2023-05-14 09:59:55.889012: I tensorflow/core/common_runtime/executor.cc:1197] [/device:CPU:0] (DEBUG INFO) Executor start aborting (this does not indicate an error and you can ignore this message): INVALID_ARGUMENT: You must feed a value for placeholder tensor 'Placeholder/_1' with dtype float and shape [500]\n",
      "\t [[{{node Placeholder/_1}}]]\n",
      "2023-05-14 09:59:55.893239: I tensorflow/core/common_runtime/executor.cc:1197] [/device:CPU:0] (DEBUG INFO) Executor start aborting (this does not indicate an error and you can ignore this message): INVALID_ARGUMENT: You must feed a value for placeholder tensor 'Placeholder/_1' with dtype float and shape [500]\n",
      "\t [[{{node Placeholder/_1}}]]\n",
      "2023-05-14 09:59:55.896925: I tensorflow/core/common_runtime/executor.cc:1197] [/device:CPU:0] (DEBUG INFO) Executor start aborting (this does not indicate an error and you can ignore this message): INVALID_ARGUMENT: You must feed a value for placeholder tensor 'Placeholder/_1' with dtype float and shape [500]\n",
      "\t [[{{node Placeholder/_1}}]]\n",
      "2023-05-14 09:59:55.900046: I tensorflow/core/common_runtime/executor.cc:1197] [/device:CPU:0] (DEBUG INFO) Executor start aborting (this does not indicate an error and you can ignore this message): INVALID_ARGUMENT: You must feed a value for placeholder tensor 'Placeholder/_1' with dtype float and shape [500]\n",
      "\t [[{{node Placeholder/_1}}]]\n",
      "2023-05-14 09:59:55.903306: I tensorflow/core/common_runtime/executor.cc:1197] [/device:CPU:0] (DEBUG INFO) Executor start aborting (this does not indicate an error and you can ignore this message): INVALID_ARGUMENT: You must feed a value for placeholder tensor 'Placeholder/_1' with dtype float and shape [500]\n",
      "\t [[{{node Placeholder/_1}}]]\n",
      "2023-05-14 09:59:55.906465: I tensorflow/core/common_runtime/executor.cc:1197] [/device:CPU:0] (DEBUG INFO) Executor start aborting (this does not indicate an error and you can ignore this message): INVALID_ARGUMENT: You must feed a value for placeholder tensor 'Placeholder/_1' with dtype float and shape [500]\n",
      "\t [[{{node Placeholder/_1}}]]\n",
      "2023-05-14 09:59:55.909612: I tensorflow/core/common_runtime/executor.cc:1197] [/device:CPU:0] (DEBUG INFO) Executor start aborting (this does not indicate an error and you can ignore this message): INVALID_ARGUMENT: You must feed a value for placeholder tensor 'Placeholder/_1' with dtype float and shape [500]\n",
      "\t [[{{node Placeholder/_1}}]]\n"
     ]
    },
    {
     "name": "stdout",
     "output_type": "stream",
     "text": [
      "\n",
      "Testing for epoch 6 index 3:\n",
      "65/65 [==============================] - 0s 604us/step\n"
     ]
    },
    {
     "name": "stderr",
     "output_type": "stream",
     "text": [
      "2023-05-14 09:59:56.182698: I tensorflow/core/common_runtime/executor.cc:1197] [/device:CPU:0] (DEBUG INFO) Executor start aborting (this does not indicate an error and you can ignore this message): INVALID_ARGUMENT: You must feed a value for placeholder tensor 'Placeholder/_1' with dtype int64 and shape [1000]\n",
      "\t [[{{node Placeholder/_1}}]]\n",
      "2023-05-14 09:59:56.268352: I tensorflow/core/common_runtime/executor.cc:1197] [/device:CPU:0] (DEBUG INFO) Executor start aborting (this does not indicate an error and you can ignore this message): INVALID_ARGUMENT: You must feed a value for placeholder tensor 'Placeholder/_1' with dtype float and shape [500]\n",
      "\t [[{{node Placeholder/_1}}]]\n",
      "2023-05-14 09:59:56.272921: I tensorflow/core/common_runtime/executor.cc:1197] [/device:CPU:0] (DEBUG INFO) Executor start aborting (this does not indicate an error and you can ignore this message): INVALID_ARGUMENT: You must feed a value for placeholder tensor 'Placeholder/_1' with dtype float and shape [500]\n",
      "\t [[{{node Placeholder/_1}}]]\n",
      "2023-05-14 09:59:56.277862: I tensorflow/core/common_runtime/executor.cc:1197] [/device:CPU:0] (DEBUG INFO) Executor start aborting (this does not indicate an error and you can ignore this message): INVALID_ARGUMENT: You must feed a value for placeholder tensor 'Placeholder/_1' with dtype float and shape [500]\n",
      "\t [[{{node Placeholder/_1}}]]\n",
      "2023-05-14 09:59:56.282147: I tensorflow/core/common_runtime/executor.cc:1197] [/device:CPU:0] (DEBUG INFO) Executor start aborting (this does not indicate an error and you can ignore this message): INVALID_ARGUMENT: You must feed a value for placeholder tensor 'Placeholder/_1' with dtype float and shape [500]\n",
      "\t [[{{node Placeholder/_1}}]]\n",
      "2023-05-14 09:59:56.287115: I tensorflow/core/common_runtime/executor.cc:1197] [/device:CPU:0] (DEBUG INFO) Executor start aborting (this does not indicate an error and you can ignore this message): INVALID_ARGUMENT: You must feed a value for placeholder tensor 'Placeholder/_1' with dtype float and shape [500]\n",
      "\t [[{{node Placeholder/_1}}]]\n",
      "2023-05-14 09:59:56.291450: I tensorflow/core/common_runtime/executor.cc:1197] [/device:CPU:0] (DEBUG INFO) Executor start aborting (this does not indicate an error and you can ignore this message): INVALID_ARGUMENT: You must feed a value for placeholder tensor 'Placeholder/_1' with dtype float and shape [500]\n",
      "\t [[{{node Placeholder/_1}}]]\n",
      "2023-05-14 09:59:56.297965: I tensorflow/core/common_runtime/executor.cc:1197] [/device:CPU:0] (DEBUG INFO) Executor start aborting (this does not indicate an error and you can ignore this message): INVALID_ARGUMENT: You must feed a value for placeholder tensor 'Placeholder/_1' with dtype float and shape [500]\n",
      "\t [[{{node Placeholder/_1}}]]\n",
      "2023-05-14 09:59:56.302148: I tensorflow/core/common_runtime/executor.cc:1197] [/device:CPU:0] (DEBUG INFO) Executor start aborting (this does not indicate an error and you can ignore this message): INVALID_ARGUMENT: You must feed a value for placeholder tensor 'Placeholder/_1' with dtype float and shape [500]\n",
      "\t [[{{node Placeholder/_1}}]]\n",
      "2023-05-14 09:59:56.306776: I tensorflow/core/common_runtime/executor.cc:1197] [/device:CPU:0] (DEBUG INFO) Executor start aborting (this does not indicate an error and you can ignore this message): INVALID_ARGUMENT: You must feed a value for placeholder tensor 'Placeholder/_1' with dtype float and shape [500]\n",
      "\t [[{{node Placeholder/_1}}]]\n",
      "2023-05-14 09:59:56.313031: I tensorflow/core/common_runtime/executor.cc:1197] [/device:CPU:0] (DEBUG INFO) Executor start aborting (this does not indicate an error and you can ignore this message): INVALID_ARGUMENT: You must feed a value for placeholder tensor 'Placeholder/_1' with dtype float and shape [500]\n",
      "\t [[{{node Placeholder/_1}}]]\n"
     ]
    },
    {
     "name": "stdout",
     "output_type": "stream",
     "text": [
      "\n",
      "Testing for epoch 6 index 4:\n",
      "65/65 [==============================] - 0s 573us/step\n"
     ]
    },
    {
     "name": "stderr",
     "output_type": "stream",
     "text": [
      "2023-05-14 09:59:56.619020: I tensorflow/core/common_runtime/executor.cc:1197] [/device:CPU:0] (DEBUG INFO) Executor start aborting (this does not indicate an error and you can ignore this message): INVALID_ARGUMENT: You must feed a value for placeholder tensor 'Placeholder/_1' with dtype int64 and shape [1000]\n",
      "\t [[{{node Placeholder/_1}}]]\n",
      "2023-05-14 09:59:56.703348: I tensorflow/core/common_runtime/executor.cc:1197] [/device:CPU:0] (DEBUG INFO) Executor start aborting (this does not indicate an error and you can ignore this message): INVALID_ARGUMENT: You must feed a value for placeholder tensor 'Placeholder/_1' with dtype float and shape [500]\n",
      "\t [[{{node Placeholder/_1}}]]\n",
      "2023-05-14 09:59:56.708324: I tensorflow/core/common_runtime/executor.cc:1197] [/device:CPU:0] (DEBUG INFO) Executor start aborting (this does not indicate an error and you can ignore this message): INVALID_ARGUMENT: You must feed a value for placeholder tensor 'Placeholder/_1' with dtype float and shape [500]\n",
      "\t [[{{node Placeholder/_1}}]]\n",
      "2023-05-14 09:59:56.711862: I tensorflow/core/common_runtime/executor.cc:1197] [/device:CPU:0] (DEBUG INFO) Executor start aborting (this does not indicate an error and you can ignore this message): INVALID_ARGUMENT: You must feed a value for placeholder tensor 'Placeholder/_1' with dtype float and shape [500]\n",
      "\t [[{{node Placeholder/_1}}]]\n",
      "2023-05-14 09:59:56.715807: I tensorflow/core/common_runtime/executor.cc:1197] [/device:CPU:0] (DEBUG INFO) Executor start aborting (this does not indicate an error and you can ignore this message): INVALID_ARGUMENT: You must feed a value for placeholder tensor 'Placeholder/_1' with dtype float and shape [500]\n",
      "\t [[{{node Placeholder/_1}}]]\n",
      "2023-05-14 09:59:56.719261: I tensorflow/core/common_runtime/executor.cc:1197] [/device:CPU:0] (DEBUG INFO) Executor start aborting (this does not indicate an error and you can ignore this message): INVALID_ARGUMENT: You must feed a value for placeholder tensor 'Placeholder/_1' with dtype float and shape [500]\n",
      "\t [[{{node Placeholder/_1}}]]\n",
      "2023-05-14 09:59:56.723189: I tensorflow/core/common_runtime/executor.cc:1197] [/device:CPU:0] (DEBUG INFO) Executor start aborting (this does not indicate an error and you can ignore this message): INVALID_ARGUMENT: You must feed a value for placeholder tensor 'Placeholder/_1' with dtype float and shape [500]\n",
      "\t [[{{node Placeholder/_1}}]]\n",
      "2023-05-14 09:59:56.727749: I tensorflow/core/common_runtime/executor.cc:1197] [/device:CPU:0] (DEBUG INFO) Executor start aborting (this does not indicate an error and you can ignore this message): INVALID_ARGUMENT: You must feed a value for placeholder tensor 'Placeholder/_1' with dtype float and shape [500]\n",
      "\t [[{{node Placeholder/_1}}]]\n",
      "2023-05-14 09:59:56.732198: I tensorflow/core/common_runtime/executor.cc:1197] [/device:CPU:0] (DEBUG INFO) Executor start aborting (this does not indicate an error and you can ignore this message): INVALID_ARGUMENT: You must feed a value for placeholder tensor 'Placeholder/_1' with dtype float and shape [500]\n",
      "\t [[{{node Placeholder/_1}}]]\n",
      "2023-05-14 09:59:56.736711: I tensorflow/core/common_runtime/executor.cc:1197] [/device:CPU:0] (DEBUG INFO) Executor start aborting (this does not indicate an error and you can ignore this message): INVALID_ARGUMENT: You must feed a value for placeholder tensor 'Placeholder/_1' with dtype float and shape [500]\n",
      "\t [[{{node Placeholder/_1}}]]\n",
      "2023-05-14 09:59:56.740186: I tensorflow/core/common_runtime/executor.cc:1197] [/device:CPU:0] (DEBUG INFO) Executor start aborting (this does not indicate an error and you can ignore this message): INVALID_ARGUMENT: You must feed a value for placeholder tensor 'Placeholder/_1' with dtype float and shape [500]\n",
      "\t [[{{node Placeholder/_1}}]]\n"
     ]
    },
    {
     "name": "stdout",
     "output_type": "stream",
     "text": [
      "Epoch 7 of 60\n",
      "\n",
      "Testing for epoch 7 index 1:\n",
      "65/65 [==============================] - 0s 550us/step\n"
     ]
    },
    {
     "name": "stderr",
     "output_type": "stream",
     "text": [
      "2023-05-14 09:59:57.031030: I tensorflow/core/common_runtime/executor.cc:1197] [/device:CPU:0] (DEBUG INFO) Executor start aborting (this does not indicate an error and you can ignore this message): INVALID_ARGUMENT: You must feed a value for placeholder tensor 'Placeholder/_1' with dtype int64 and shape [1000]\n",
      "\t [[{{node Placeholder/_1}}]]\n",
      "2023-05-14 09:59:57.119626: I tensorflow/core/common_runtime/executor.cc:1197] [/device:CPU:0] (DEBUG INFO) Executor start aborting (this does not indicate an error and you can ignore this message): INVALID_ARGUMENT: You must feed a value for placeholder tensor 'Placeholder/_1' with dtype float and shape [500]\n",
      "\t [[{{node Placeholder/_1}}]]\n",
      "2023-05-14 09:59:57.125262: I tensorflow/core/common_runtime/executor.cc:1197] [/device:CPU:0] (DEBUG INFO) Executor start aborting (this does not indicate an error and you can ignore this message): INVALID_ARGUMENT: You must feed a value for placeholder tensor 'Placeholder/_1' with dtype float and shape [500]\n",
      "\t [[{{node Placeholder/_1}}]]\n",
      "2023-05-14 09:59:57.129045: I tensorflow/core/common_runtime/executor.cc:1197] [/device:CPU:0] (DEBUG INFO) Executor start aborting (this does not indicate an error and you can ignore this message): INVALID_ARGUMENT: You must feed a value for placeholder tensor 'Placeholder/_1' with dtype float and shape [500]\n",
      "\t [[{{node Placeholder/_1}}]]\n",
      "2023-05-14 09:59:57.132805: I tensorflow/core/common_runtime/executor.cc:1197] [/device:CPU:0] (DEBUG INFO) Executor start aborting (this does not indicate an error and you can ignore this message): INVALID_ARGUMENT: You must feed a value for placeholder tensor 'Placeholder/_1' with dtype float and shape [500]\n",
      "\t [[{{node Placeholder/_1}}]]\n",
      "2023-05-14 09:59:57.137819: I tensorflow/core/common_runtime/executor.cc:1197] [/device:CPU:0] (DEBUG INFO) Executor start aborting (this does not indicate an error and you can ignore this message): INVALID_ARGUMENT: You must feed a value for placeholder tensor 'Placeholder/_1' with dtype float and shape [500]\n",
      "\t [[{{node Placeholder/_1}}]]\n",
      "2023-05-14 09:59:57.141908: I tensorflow/core/common_runtime/executor.cc:1197] [/device:CPU:0] (DEBUG INFO) Executor start aborting (this does not indicate an error and you can ignore this message): INVALID_ARGUMENT: You must feed a value for placeholder tensor 'Placeholder/_1' with dtype float and shape [500]\n",
      "\t [[{{node Placeholder/_1}}]]\n",
      "2023-05-14 09:59:57.146870: I tensorflow/core/common_runtime/executor.cc:1197] [/device:CPU:0] (DEBUG INFO) Executor start aborting (this does not indicate an error and you can ignore this message): INVALID_ARGUMENT: You must feed a value for placeholder tensor 'Placeholder/_1' with dtype float and shape [500]\n",
      "\t [[{{node Placeholder/_1}}]]\n",
      "2023-05-14 09:59:57.152972: I tensorflow/core/common_runtime/executor.cc:1197] [/device:CPU:0] (DEBUG INFO) Executor start aborting (this does not indicate an error and you can ignore this message): INVALID_ARGUMENT: You must feed a value for placeholder tensor 'Placeholder/_1' with dtype float and shape [500]\n",
      "\t [[{{node Placeholder/_1}}]]\n",
      "2023-05-14 09:59:57.156810: I tensorflow/core/common_runtime/executor.cc:1197] [/device:CPU:0] (DEBUG INFO) Executor start aborting (this does not indicate an error and you can ignore this message): INVALID_ARGUMENT: You must feed a value for placeholder tensor 'Placeholder/_1' with dtype float and shape [500]\n",
      "\t [[{{node Placeholder/_1}}]]\n",
      "2023-05-14 09:59:57.160835: I tensorflow/core/common_runtime/executor.cc:1197] [/device:CPU:0] (DEBUG INFO) Executor start aborting (this does not indicate an error and you can ignore this message): INVALID_ARGUMENT: You must feed a value for placeholder tensor 'Placeholder/_1' with dtype float and shape [500]\n",
      "\t [[{{node Placeholder/_1}}]]\n"
     ]
    },
    {
     "name": "stdout",
     "output_type": "stream",
     "text": [
      "\n",
      "Testing for epoch 7 index 2:\n",
      "65/65 [==============================] - 0s 554us/step\n"
     ]
    },
    {
     "name": "stderr",
     "output_type": "stream",
     "text": [
      "2023-05-14 09:59:57.427859: I tensorflow/core/common_runtime/executor.cc:1197] [/device:CPU:0] (DEBUG INFO) Executor start aborting (this does not indicate an error and you can ignore this message): INVALID_ARGUMENT: You must feed a value for placeholder tensor 'Placeholder/_1' with dtype int64 and shape [1000]\n",
      "\t [[{{node Placeholder/_1}}]]\n",
      "2023-05-14 09:59:57.506614: I tensorflow/core/common_runtime/executor.cc:1197] [/device:CPU:0] (DEBUG INFO) Executor start aborting (this does not indicate an error and you can ignore this message): INVALID_ARGUMENT: You must feed a value for placeholder tensor 'Placeholder/_1' with dtype float and shape [500]\n",
      "\t [[{{node Placeholder/_1}}]]\n",
      "2023-05-14 09:59:57.510449: I tensorflow/core/common_runtime/executor.cc:1197] [/device:CPU:0] (DEBUG INFO) Executor start aborting (this does not indicate an error and you can ignore this message): INVALID_ARGUMENT: You must feed a value for placeholder tensor 'Placeholder/_1' with dtype float and shape [500]\n",
      "\t [[{{node Placeholder/_1}}]]\n",
      "2023-05-14 09:59:57.514560: I tensorflow/core/common_runtime/executor.cc:1197] [/device:CPU:0] (DEBUG INFO) Executor start aborting (this does not indicate an error and you can ignore this message): INVALID_ARGUMENT: You must feed a value for placeholder tensor 'Placeholder/_1' with dtype float and shape [500]\n",
      "\t [[{{node Placeholder/_1}}]]\n",
      "2023-05-14 09:59:57.518077: I tensorflow/core/common_runtime/executor.cc:1197] [/device:CPU:0] (DEBUG INFO) Executor start aborting (this does not indicate an error and you can ignore this message): INVALID_ARGUMENT: You must feed a value for placeholder tensor 'Placeholder/_1' with dtype float and shape [500]\n",
      "\t [[{{node Placeholder/_1}}]]\n",
      "2023-05-14 09:59:57.522604: I tensorflow/core/common_runtime/executor.cc:1197] [/device:CPU:0] (DEBUG INFO) Executor start aborting (this does not indicate an error and you can ignore this message): INVALID_ARGUMENT: You must feed a value for placeholder tensor 'Placeholder/_1' with dtype float and shape [500]\n",
      "\t [[{{node Placeholder/_1}}]]\n",
      "2023-05-14 09:59:57.527693: I tensorflow/core/common_runtime/executor.cc:1197] [/device:CPU:0] (DEBUG INFO) Executor start aborting (this does not indicate an error and you can ignore this message): INVALID_ARGUMENT: You must feed a value for placeholder tensor 'Placeholder/_1' with dtype float and shape [500]\n",
      "\t [[{{node Placeholder/_1}}]]\n",
      "2023-05-14 09:59:57.531054: I tensorflow/core/common_runtime/executor.cc:1197] [/device:CPU:0] (DEBUG INFO) Executor start aborting (this does not indicate an error and you can ignore this message): INVALID_ARGUMENT: You must feed a value for placeholder tensor 'Placeholder/_1' with dtype float and shape [500]\n",
      "\t [[{{node Placeholder/_1}}]]\n",
      "2023-05-14 09:59:57.535308: I tensorflow/core/common_runtime/executor.cc:1197] [/device:CPU:0] (DEBUG INFO) Executor start aborting (this does not indicate an error and you can ignore this message): INVALID_ARGUMENT: You must feed a value for placeholder tensor 'Placeholder/_1' with dtype float and shape [500]\n",
      "\t [[{{node Placeholder/_1}}]]\n",
      "2023-05-14 09:59:57.538756: I tensorflow/core/common_runtime/executor.cc:1197] [/device:CPU:0] (DEBUG INFO) Executor start aborting (this does not indicate an error and you can ignore this message): INVALID_ARGUMENT: You must feed a value for placeholder tensor 'Placeholder/_1' with dtype float and shape [500]\n",
      "\t [[{{node Placeholder/_1}}]]\n",
      "2023-05-14 09:59:57.542301: I tensorflow/core/common_runtime/executor.cc:1197] [/device:CPU:0] (DEBUG INFO) Executor start aborting (this does not indicate an error and you can ignore this message): INVALID_ARGUMENT: You must feed a value for placeholder tensor 'Placeholder/_1' with dtype float and shape [500]\n",
      "\t [[{{node Placeholder/_1}}]]\n"
     ]
    },
    {
     "name": "stdout",
     "output_type": "stream",
     "text": [
      "\n",
      "Testing for epoch 7 index 3:\n",
      "65/65 [==============================] - 0s 525us/step\n"
     ]
    },
    {
     "name": "stderr",
     "output_type": "stream",
     "text": [
      "2023-05-14 09:59:57.822715: I tensorflow/core/common_runtime/executor.cc:1197] [/device:CPU:0] (DEBUG INFO) Executor start aborting (this does not indicate an error and you can ignore this message): INVALID_ARGUMENT: You must feed a value for placeholder tensor 'Placeholder/_1' with dtype int64 and shape [1000]\n",
      "\t [[{{node Placeholder/_1}}]]\n",
      "2023-05-14 09:59:57.897546: I tensorflow/core/common_runtime/executor.cc:1197] [/device:CPU:0] (DEBUG INFO) Executor start aborting (this does not indicate an error and you can ignore this message): INVALID_ARGUMENT: You must feed a value for placeholder tensor 'Placeholder/_1' with dtype float and shape [500]\n",
      "\t [[{{node Placeholder/_1}}]]\n",
      "2023-05-14 09:59:57.902370: I tensorflow/core/common_runtime/executor.cc:1197] [/device:CPU:0] (DEBUG INFO) Executor start aborting (this does not indicate an error and you can ignore this message): INVALID_ARGUMENT: You must feed a value for placeholder tensor 'Placeholder/_1' with dtype float and shape [500]\n",
      "\t [[{{node Placeholder/_1}}]]\n",
      "2023-05-14 09:59:57.905838: I tensorflow/core/common_runtime/executor.cc:1197] [/device:CPU:0] (DEBUG INFO) Executor start aborting (this does not indicate an error and you can ignore this message): INVALID_ARGUMENT: You must feed a value for placeholder tensor 'Placeholder/_1' with dtype float and shape [500]\n",
      "\t [[{{node Placeholder/_1}}]]\n",
      "2023-05-14 09:59:57.909715: I tensorflow/core/common_runtime/executor.cc:1197] [/device:CPU:0] (DEBUG INFO) Executor start aborting (this does not indicate an error and you can ignore this message): INVALID_ARGUMENT: You must feed a value for placeholder tensor 'Placeholder/_1' with dtype float and shape [500]\n",
      "\t [[{{node Placeholder/_1}}]]\n",
      "2023-05-14 09:59:57.912908: I tensorflow/core/common_runtime/executor.cc:1197] [/device:CPU:0] (DEBUG INFO) Executor start aborting (this does not indicate an error and you can ignore this message): INVALID_ARGUMENT: You must feed a value for placeholder tensor 'Placeholder/_1' with dtype float and shape [500]\n",
      "\t [[{{node Placeholder/_1}}]]\n",
      "2023-05-14 09:59:57.916837: I tensorflow/core/common_runtime/executor.cc:1197] [/device:CPU:0] (DEBUG INFO) Executor start aborting (this does not indicate an error and you can ignore this message): INVALID_ARGUMENT: You must feed a value for placeholder tensor 'Placeholder/_1' with dtype float and shape [500]\n",
      "\t [[{{node Placeholder/_1}}]]\n",
      "2023-05-14 09:59:57.920118: I tensorflow/core/common_runtime/executor.cc:1197] [/device:CPU:0] (DEBUG INFO) Executor start aborting (this does not indicate an error and you can ignore this message): INVALID_ARGUMENT: You must feed a value for placeholder tensor 'Placeholder/_1' with dtype float and shape [500]\n",
      "\t [[{{node Placeholder/_1}}]]\n",
      "2023-05-14 09:59:57.923706: I tensorflow/core/common_runtime/executor.cc:1197] [/device:CPU:0] (DEBUG INFO) Executor start aborting (this does not indicate an error and you can ignore this message): INVALID_ARGUMENT: You must feed a value for placeholder tensor 'Placeholder/_1' with dtype float and shape [500]\n",
      "\t [[{{node Placeholder/_1}}]]\n",
      "2023-05-14 09:59:57.926978: I tensorflow/core/common_runtime/executor.cc:1197] [/device:CPU:0] (DEBUG INFO) Executor start aborting (this does not indicate an error and you can ignore this message): INVALID_ARGUMENT: You must feed a value for placeholder tensor 'Placeholder/_1' with dtype float and shape [500]\n",
      "\t [[{{node Placeholder/_1}}]]\n",
      "2023-05-14 09:59:57.930175: I tensorflow/core/common_runtime/executor.cc:1197] [/device:CPU:0] (DEBUG INFO) Executor start aborting (this does not indicate an error and you can ignore this message): INVALID_ARGUMENT: You must feed a value for placeholder tensor 'Placeholder/_1' with dtype float and shape [500]\n",
      "\t [[{{node Placeholder/_1}}]]\n"
     ]
    },
    {
     "name": "stdout",
     "output_type": "stream",
     "text": [
      "\n",
      "Testing for epoch 7 index 4:\n",
      "65/65 [==============================] - 0s 578us/step\n"
     ]
    },
    {
     "name": "stderr",
     "output_type": "stream",
     "text": [
      "2023-05-14 09:59:58.195738: I tensorflow/core/common_runtime/executor.cc:1197] [/device:CPU:0] (DEBUG INFO) Executor start aborting (this does not indicate an error and you can ignore this message): INVALID_ARGUMENT: You must feed a value for placeholder tensor 'Placeholder/_1' with dtype int64 and shape [1000]\n",
      "\t [[{{node Placeholder/_1}}]]\n",
      "2023-05-14 09:59:58.275627: I tensorflow/core/common_runtime/executor.cc:1197] [/device:CPU:0] (DEBUG INFO) Executor start aborting (this does not indicate an error and you can ignore this message): INVALID_ARGUMENT: You must feed a value for placeholder tensor 'Placeholder/_1' with dtype float and shape [500]\n",
      "\t [[{{node Placeholder/_1}}]]\n",
      "2023-05-14 09:59:58.279671: I tensorflow/core/common_runtime/executor.cc:1197] [/device:CPU:0] (DEBUG INFO) Executor start aborting (this does not indicate an error and you can ignore this message): INVALID_ARGUMENT: You must feed a value for placeholder tensor 'Placeholder/_1' with dtype float and shape [500]\n",
      "\t [[{{node Placeholder/_1}}]]\n",
      "2023-05-14 09:59:58.284154: I tensorflow/core/common_runtime/executor.cc:1197] [/device:CPU:0] (DEBUG INFO) Executor start aborting (this does not indicate an error and you can ignore this message): INVALID_ARGUMENT: You must feed a value for placeholder tensor 'Placeholder/_1' with dtype float and shape [500]\n",
      "\t [[{{node Placeholder/_1}}]]\n",
      "2023-05-14 09:59:58.287378: I tensorflow/core/common_runtime/executor.cc:1197] [/device:CPU:0] (DEBUG INFO) Executor start aborting (this does not indicate an error and you can ignore this message): INVALID_ARGUMENT: You must feed a value for placeholder tensor 'Placeholder/_1' with dtype float and shape [500]\n",
      "\t [[{{node Placeholder/_1}}]]\n",
      "2023-05-14 09:59:58.291317: I tensorflow/core/common_runtime/executor.cc:1197] [/device:CPU:0] (DEBUG INFO) Executor start aborting (this does not indicate an error and you can ignore this message): INVALID_ARGUMENT: You must feed a value for placeholder tensor 'Placeholder/_1' with dtype float and shape [500]\n",
      "\t [[{{node Placeholder/_1}}]]\n",
      "2023-05-14 09:59:58.294544: I tensorflow/core/common_runtime/executor.cc:1197] [/device:CPU:0] (DEBUG INFO) Executor start aborting (this does not indicate an error and you can ignore this message): INVALID_ARGUMENT: You must feed a value for placeholder tensor 'Placeholder/_1' with dtype float and shape [500]\n",
      "\t [[{{node Placeholder/_1}}]]\n",
      "2023-05-14 09:59:58.298357: I tensorflow/core/common_runtime/executor.cc:1197] [/device:CPU:0] (DEBUG INFO) Executor start aborting (this does not indicate an error and you can ignore this message): INVALID_ARGUMENT: You must feed a value for placeholder tensor 'Placeholder/_1' with dtype float and shape [500]\n",
      "\t [[{{node Placeholder/_1}}]]\n",
      "2023-05-14 09:59:58.301552: I tensorflow/core/common_runtime/executor.cc:1197] [/device:CPU:0] (DEBUG INFO) Executor start aborting (this does not indicate an error and you can ignore this message): INVALID_ARGUMENT: You must feed a value for placeholder tensor 'Placeholder/_1' with dtype float and shape [500]\n",
      "\t [[{{node Placeholder/_1}}]]\n",
      "2023-05-14 09:59:58.305401: I tensorflow/core/common_runtime/executor.cc:1197] [/device:CPU:0] (DEBUG INFO) Executor start aborting (this does not indicate an error and you can ignore this message): INVALID_ARGUMENT: You must feed a value for placeholder tensor 'Placeholder/_1' with dtype float and shape [500]\n",
      "\t [[{{node Placeholder/_1}}]]\n",
      "2023-05-14 09:59:58.308548: I tensorflow/core/common_runtime/executor.cc:1197] [/device:CPU:0] (DEBUG INFO) Executor start aborting (this does not indicate an error and you can ignore this message): INVALID_ARGUMENT: You must feed a value for placeholder tensor 'Placeholder/_1' with dtype float and shape [500]\n",
      "\t [[{{node Placeholder/_1}}]]\n"
     ]
    },
    {
     "name": "stdout",
     "output_type": "stream",
     "text": [
      "Epoch 8 of 60\n",
      "\n",
      "Testing for epoch 8 index 1:\n",
      "65/65 [==============================] - 0s 505us/step\n"
     ]
    },
    {
     "name": "stderr",
     "output_type": "stream",
     "text": [
      "2023-05-14 09:59:58.578390: I tensorflow/core/common_runtime/executor.cc:1197] [/device:CPU:0] (DEBUG INFO) Executor start aborting (this does not indicate an error and you can ignore this message): INVALID_ARGUMENT: You must feed a value for placeholder tensor 'Placeholder/_1' with dtype int64 and shape [1000]\n",
      "\t [[{{node Placeholder/_1}}]]\n",
      "2023-05-14 09:59:58.652878: I tensorflow/core/common_runtime/executor.cc:1197] [/device:CPU:0] (DEBUG INFO) Executor start aborting (this does not indicate an error and you can ignore this message): INVALID_ARGUMENT: You must feed a value for placeholder tensor 'Placeholder/_1' with dtype float and shape [500]\n",
      "\t [[{{node Placeholder/_1}}]]\n",
      "2023-05-14 09:59:58.656663: I tensorflow/core/common_runtime/executor.cc:1197] [/device:CPU:0] (DEBUG INFO) Executor start aborting (this does not indicate an error and you can ignore this message): INVALID_ARGUMENT: You must feed a value for placeholder tensor 'Placeholder/_1' with dtype float and shape [500]\n",
      "\t [[{{node Placeholder/_1}}]]\n",
      "2023-05-14 09:59:58.660354: I tensorflow/core/common_runtime/executor.cc:1197] [/device:CPU:0] (DEBUG INFO) Executor start aborting (this does not indicate an error and you can ignore this message): INVALID_ARGUMENT: You must feed a value for placeholder tensor 'Placeholder/_1' with dtype float and shape [500]\n",
      "\t [[{{node Placeholder/_1}}]]\n",
      "2023-05-14 09:59:58.663761: I tensorflow/core/common_runtime/executor.cc:1197] [/device:CPU:0] (DEBUG INFO) Executor start aborting (this does not indicate an error and you can ignore this message): INVALID_ARGUMENT: You must feed a value for placeholder tensor 'Placeholder/_1' with dtype float and shape [500]\n",
      "\t [[{{node Placeholder/_1}}]]\n",
      "2023-05-14 09:59:58.667135: I tensorflow/core/common_runtime/executor.cc:1197] [/device:CPU:0] (DEBUG INFO) Executor start aborting (this does not indicate an error and you can ignore this message): INVALID_ARGUMENT: You must feed a value for placeholder tensor 'Placeholder/_1' with dtype float and shape [500]\n",
      "\t [[{{node Placeholder/_1}}]]\n",
      "2023-05-14 09:59:58.670442: I tensorflow/core/common_runtime/executor.cc:1197] [/device:CPU:0] (DEBUG INFO) Executor start aborting (this does not indicate an error and you can ignore this message): INVALID_ARGUMENT: You must feed a value for placeholder tensor 'Placeholder/_1' with dtype float and shape [500]\n",
      "\t [[{{node Placeholder/_1}}]]\n",
      "2023-05-14 09:59:58.673826: I tensorflow/core/common_runtime/executor.cc:1197] [/device:CPU:0] (DEBUG INFO) Executor start aborting (this does not indicate an error and you can ignore this message): INVALID_ARGUMENT: You must feed a value for placeholder tensor 'Placeholder/_1' with dtype float and shape [500]\n",
      "\t [[{{node Placeholder/_1}}]]\n",
      "2023-05-14 09:59:58.677004: I tensorflow/core/common_runtime/executor.cc:1197] [/device:CPU:0] (DEBUG INFO) Executor start aborting (this does not indicate an error and you can ignore this message): INVALID_ARGUMENT: You must feed a value for placeholder tensor 'Placeholder/_1' with dtype float and shape [500]\n",
      "\t [[{{node Placeholder/_1}}]]\n",
      "2023-05-14 09:59:58.680507: I tensorflow/core/common_runtime/executor.cc:1197] [/device:CPU:0] (DEBUG INFO) Executor start aborting (this does not indicate an error and you can ignore this message): INVALID_ARGUMENT: You must feed a value for placeholder tensor 'Placeholder/_1' with dtype float and shape [500]\n",
      "\t [[{{node Placeholder/_1}}]]\n",
      "2023-05-14 09:59:58.683678: I tensorflow/core/common_runtime/executor.cc:1197] [/device:CPU:0] (DEBUG INFO) Executor start aborting (this does not indicate an error and you can ignore this message): INVALID_ARGUMENT: You must feed a value for placeholder tensor 'Placeholder/_1' with dtype float and shape [500]\n",
      "\t [[{{node Placeholder/_1}}]]\n"
     ]
    },
    {
     "name": "stdout",
     "output_type": "stream",
     "text": [
      "\n",
      "Testing for epoch 8 index 2:\n",
      "65/65 [==============================] - 0s 527us/step\n"
     ]
    },
    {
     "name": "stderr",
     "output_type": "stream",
     "text": [
      "2023-05-14 09:59:58.953723: I tensorflow/core/common_runtime/executor.cc:1197] [/device:CPU:0] (DEBUG INFO) Executor start aborting (this does not indicate an error and you can ignore this message): INVALID_ARGUMENT: You must feed a value for placeholder tensor 'Placeholder/_1' with dtype int64 and shape [1000]\n",
      "\t [[{{node Placeholder/_1}}]]\n",
      "2023-05-14 09:59:59.030401: I tensorflow/core/common_runtime/executor.cc:1197] [/device:CPU:0] (DEBUG INFO) Executor start aborting (this does not indicate an error and you can ignore this message): INVALID_ARGUMENT: You must feed a value for placeholder tensor 'Placeholder/_1' with dtype float and shape [500]\n",
      "\t [[{{node Placeholder/_1}}]]\n",
      "2023-05-14 09:59:59.035311: I tensorflow/core/common_runtime/executor.cc:1197] [/device:CPU:0] (DEBUG INFO) Executor start aborting (this does not indicate an error and you can ignore this message): INVALID_ARGUMENT: You must feed a value for placeholder tensor 'Placeholder/_1' with dtype float and shape [500]\n",
      "\t [[{{node Placeholder/_1}}]]\n",
      "2023-05-14 09:59:59.038660: I tensorflow/core/common_runtime/executor.cc:1197] [/device:CPU:0] (DEBUG INFO) Executor start aborting (this does not indicate an error and you can ignore this message): INVALID_ARGUMENT: You must feed a value for placeholder tensor 'Placeholder/_1' with dtype float and shape [500]\n",
      "\t [[{{node Placeholder/_1}}]]\n",
      "2023-05-14 09:59:59.042326: I tensorflow/core/common_runtime/executor.cc:1197] [/device:CPU:0] (DEBUG INFO) Executor start aborting (this does not indicate an error and you can ignore this message): INVALID_ARGUMENT: You must feed a value for placeholder tensor 'Placeholder/_1' with dtype float and shape [500]\n",
      "\t [[{{node Placeholder/_1}}]]\n",
      "2023-05-14 09:59:59.045723: I tensorflow/core/common_runtime/executor.cc:1197] [/device:CPU:0] (DEBUG INFO) Executor start aborting (this does not indicate an error and you can ignore this message): INVALID_ARGUMENT: You must feed a value for placeholder tensor 'Placeholder/_1' with dtype float and shape [500]\n",
      "\t [[{{node Placeholder/_1}}]]\n",
      "2023-05-14 09:59:59.048954: I tensorflow/core/common_runtime/executor.cc:1197] [/device:CPU:0] (DEBUG INFO) Executor start aborting (this does not indicate an error and you can ignore this message): INVALID_ARGUMENT: You must feed a value for placeholder tensor 'Placeholder/_1' with dtype float and shape [500]\n",
      "\t [[{{node Placeholder/_1}}]]\n",
      "2023-05-14 09:59:59.052155: I tensorflow/core/common_runtime/executor.cc:1197] [/device:CPU:0] (DEBUG INFO) Executor start aborting (this does not indicate an error and you can ignore this message): INVALID_ARGUMENT: You must feed a value for placeholder tensor 'Placeholder/_1' with dtype float and shape [500]\n",
      "\t [[{{node Placeholder/_1}}]]\n",
      "2023-05-14 09:59:59.055736: I tensorflow/core/common_runtime/executor.cc:1197] [/device:CPU:0] (DEBUG INFO) Executor start aborting (this does not indicate an error and you can ignore this message): INVALID_ARGUMENT: You must feed a value for placeholder tensor 'Placeholder/_1' with dtype float and shape [500]\n",
      "\t [[{{node Placeholder/_1}}]]\n",
      "2023-05-14 09:59:59.058899: I tensorflow/core/common_runtime/executor.cc:1197] [/device:CPU:0] (DEBUG INFO) Executor start aborting (this does not indicate an error and you can ignore this message): INVALID_ARGUMENT: You must feed a value for placeholder tensor 'Placeholder/_1' with dtype float and shape [500]\n",
      "\t [[{{node Placeholder/_1}}]]\n",
      "2023-05-14 09:59:59.062646: I tensorflow/core/common_runtime/executor.cc:1197] [/device:CPU:0] (DEBUG INFO) Executor start aborting (this does not indicate an error and you can ignore this message): INVALID_ARGUMENT: You must feed a value for placeholder tensor 'Placeholder/_1' with dtype float and shape [500]\n",
      "\t [[{{node Placeholder/_1}}]]\n"
     ]
    },
    {
     "name": "stdout",
     "output_type": "stream",
     "text": [
      "\n",
      "Testing for epoch 8 index 3:\n",
      "65/65 [==============================] - 0s 505us/step\n"
     ]
    },
    {
     "name": "stderr",
     "output_type": "stream",
     "text": [
      "2023-05-14 09:59:59.327768: I tensorflow/core/common_runtime/executor.cc:1197] [/device:CPU:0] (DEBUG INFO) Executor start aborting (this does not indicate an error and you can ignore this message): INVALID_ARGUMENT: You must feed a value for placeholder tensor 'Placeholder/_1' with dtype int64 and shape [1000]\n",
      "\t [[{{node Placeholder/_1}}]]\n",
      "2023-05-14 09:59:59.402438: I tensorflow/core/common_runtime/executor.cc:1197] [/device:CPU:0] (DEBUG INFO) Executor start aborting (this does not indicate an error and you can ignore this message): INVALID_ARGUMENT: You must feed a value for placeholder tensor 'Placeholder/_1' with dtype float and shape [500]\n",
      "\t [[{{node Placeholder/_1}}]]\n",
      "2023-05-14 09:59:59.406162: I tensorflow/core/common_runtime/executor.cc:1197] [/device:CPU:0] (DEBUG INFO) Executor start aborting (this does not indicate an error and you can ignore this message): INVALID_ARGUMENT: You must feed a value for placeholder tensor 'Placeholder/_1' with dtype float and shape [500]\n",
      "\t [[{{node Placeholder/_1}}]]\n",
      "2023-05-14 09:59:59.410080: I tensorflow/core/common_runtime/executor.cc:1197] [/device:CPU:0] (DEBUG INFO) Executor start aborting (this does not indicate an error and you can ignore this message): INVALID_ARGUMENT: You must feed a value for placeholder tensor 'Placeholder/_1' with dtype float and shape [500]\n",
      "\t [[{{node Placeholder/_1}}]]\n",
      "2023-05-14 09:59:59.413271: I tensorflow/core/common_runtime/executor.cc:1197] [/device:CPU:0] (DEBUG INFO) Executor start aborting (this does not indicate an error and you can ignore this message): INVALID_ARGUMENT: You must feed a value for placeholder tensor 'Placeholder/_1' with dtype float and shape [500]\n",
      "\t [[{{node Placeholder/_1}}]]\n",
      "2023-05-14 09:59:59.416781: I tensorflow/core/common_runtime/executor.cc:1197] [/device:CPU:0] (DEBUG INFO) Executor start aborting (this does not indicate an error and you can ignore this message): INVALID_ARGUMENT: You must feed a value for placeholder tensor 'Placeholder/_1' with dtype float and shape [500]\n",
      "\t [[{{node Placeholder/_1}}]]\n",
      "2023-05-14 09:59:59.419911: I tensorflow/core/common_runtime/executor.cc:1197] [/device:CPU:0] (DEBUG INFO) Executor start aborting (this does not indicate an error and you can ignore this message): INVALID_ARGUMENT: You must feed a value for placeholder tensor 'Placeholder/_1' with dtype float and shape [500]\n",
      "\t [[{{node Placeholder/_1}}]]\n",
      "2023-05-14 09:59:59.423665: I tensorflow/core/common_runtime/executor.cc:1197] [/device:CPU:0] (DEBUG INFO) Executor start aborting (this does not indicate an error and you can ignore this message): INVALID_ARGUMENT: You must feed a value for placeholder tensor 'Placeholder/_1' with dtype float and shape [500]\n",
      "\t [[{{node Placeholder/_1}}]]\n",
      "2023-05-14 09:59:59.426816: I tensorflow/core/common_runtime/executor.cc:1197] [/device:CPU:0] (DEBUG INFO) Executor start aborting (this does not indicate an error and you can ignore this message): INVALID_ARGUMENT: You must feed a value for placeholder tensor 'Placeholder/_1' with dtype float and shape [500]\n",
      "\t [[{{node Placeholder/_1}}]]\n",
      "2023-05-14 09:59:59.430175: I tensorflow/core/common_runtime/executor.cc:1197] [/device:CPU:0] (DEBUG INFO) Executor start aborting (this does not indicate an error and you can ignore this message): INVALID_ARGUMENT: You must feed a value for placeholder tensor 'Placeholder/_1' with dtype float and shape [500]\n",
      "\t [[{{node Placeholder/_1}}]]\n",
      "2023-05-14 09:59:59.433287: I tensorflow/core/common_runtime/executor.cc:1197] [/device:CPU:0] (DEBUG INFO) Executor start aborting (this does not indicate an error and you can ignore this message): INVALID_ARGUMENT: You must feed a value for placeholder tensor 'Placeholder/_1' with dtype float and shape [500]\n",
      "\t [[{{node Placeholder/_1}}]]\n"
     ]
    },
    {
     "name": "stdout",
     "output_type": "stream",
     "text": [
      "\n",
      "Testing for epoch 8 index 4:\n",
      "65/65 [==============================] - 0s 503us/step\n"
     ]
    },
    {
     "name": "stderr",
     "output_type": "stream",
     "text": [
      "2023-05-14 09:59:59.695996: I tensorflow/core/common_runtime/executor.cc:1197] [/device:CPU:0] (DEBUG INFO) Executor start aborting (this does not indicate an error and you can ignore this message): INVALID_ARGUMENT: You must feed a value for placeholder tensor 'Placeholder/_1' with dtype int64 and shape [1000]\n",
      "\t [[{{node Placeholder/_1}}]]\n",
      "2023-05-14 09:59:59.770151: I tensorflow/core/common_runtime/executor.cc:1197] [/device:CPU:0] (DEBUG INFO) Executor start aborting (this does not indicate an error and you can ignore this message): INVALID_ARGUMENT: You must feed a value for placeholder tensor 'Placeholder/_1' with dtype float and shape [500]\n",
      "\t [[{{node Placeholder/_1}}]]\n",
      "2023-05-14 09:59:59.773843: I tensorflow/core/common_runtime/executor.cc:1197] [/device:CPU:0] (DEBUG INFO) Executor start aborting (this does not indicate an error and you can ignore this message): INVALID_ARGUMENT: You must feed a value for placeholder tensor 'Placeholder/_1' with dtype float and shape [500]\n",
      "\t [[{{node Placeholder/_1}}]]\n",
      "2023-05-14 09:59:59.778081: I tensorflow/core/common_runtime/executor.cc:1197] [/device:CPU:0] (DEBUG INFO) Executor start aborting (this does not indicate an error and you can ignore this message): INVALID_ARGUMENT: You must feed a value for placeholder tensor 'Placeholder/_1' with dtype float and shape [500]\n",
      "\t [[{{node Placeholder/_1}}]]\n",
      "2023-05-14 09:59:59.781391: I tensorflow/core/common_runtime/executor.cc:1197] [/device:CPU:0] (DEBUG INFO) Executor start aborting (this does not indicate an error and you can ignore this message): INVALID_ARGUMENT: You must feed a value for placeholder tensor 'Placeholder/_1' with dtype float and shape [500]\n",
      "\t [[{{node Placeholder/_1}}]]\n",
      "2023-05-14 09:59:59.784913: I tensorflow/core/common_runtime/executor.cc:1197] [/device:CPU:0] (DEBUG INFO) Executor start aborting (this does not indicate an error and you can ignore this message): INVALID_ARGUMENT: You must feed a value for placeholder tensor 'Placeholder/_1' with dtype float and shape [500]\n",
      "\t [[{{node Placeholder/_1}}]]\n",
      "2023-05-14 09:59:59.788080: I tensorflow/core/common_runtime/executor.cc:1197] [/device:CPU:0] (DEBUG INFO) Executor start aborting (this does not indicate an error and you can ignore this message): INVALID_ARGUMENT: You must feed a value for placeholder tensor 'Placeholder/_1' with dtype float and shape [500]\n",
      "\t [[{{node Placeholder/_1}}]]\n",
      "2023-05-14 09:59:59.791789: I tensorflow/core/common_runtime/executor.cc:1197] [/device:CPU:0] (DEBUG INFO) Executor start aborting (this does not indicate an error and you can ignore this message): INVALID_ARGUMENT: You must feed a value for placeholder tensor 'Placeholder/_1' with dtype float and shape [500]\n",
      "\t [[{{node Placeholder/_1}}]]\n",
      "2023-05-14 09:59:59.794962: I tensorflow/core/common_runtime/executor.cc:1197] [/device:CPU:0] (DEBUG INFO) Executor start aborting (this does not indicate an error and you can ignore this message): INVALID_ARGUMENT: You must feed a value for placeholder tensor 'Placeholder/_1' with dtype float and shape [500]\n",
      "\t [[{{node Placeholder/_1}}]]\n",
      "2023-05-14 09:59:59.798628: I tensorflow/core/common_runtime/executor.cc:1197] [/device:CPU:0] (DEBUG INFO) Executor start aborting (this does not indicate an error and you can ignore this message): INVALID_ARGUMENT: You must feed a value for placeholder tensor 'Placeholder/_1' with dtype float and shape [500]\n",
      "\t [[{{node Placeholder/_1}}]]\n",
      "2023-05-14 09:59:59.801723: I tensorflow/core/common_runtime/executor.cc:1197] [/device:CPU:0] (DEBUG INFO) Executor start aborting (this does not indicate an error and you can ignore this message): INVALID_ARGUMENT: You must feed a value for placeholder tensor 'Placeholder/_1' with dtype float and shape [500]\n",
      "\t [[{{node Placeholder/_1}}]]\n"
     ]
    },
    {
     "name": "stdout",
     "output_type": "stream",
     "text": [
      "Epoch 9 of 60\n",
      "\n",
      "Testing for epoch 9 index 1:\n",
      "65/65 [==============================] - 0s 520us/step\n"
     ]
    },
    {
     "name": "stderr",
     "output_type": "stream",
     "text": [
      "2023-05-14 10:00:00.062053: I tensorflow/core/common_runtime/executor.cc:1197] [/device:CPU:0] (DEBUG INFO) Executor start aborting (this does not indicate an error and you can ignore this message): INVALID_ARGUMENT: You must feed a value for placeholder tensor 'Placeholder/_1' with dtype int64 and shape [1000]\n",
      "\t [[{{node Placeholder/_1}}]]\n",
      "2023-05-14 10:00:00.135947: I tensorflow/core/common_runtime/executor.cc:1197] [/device:CPU:0] (DEBUG INFO) Executor start aborting (this does not indicate an error and you can ignore this message): INVALID_ARGUMENT: You must feed a value for placeholder tensor 'Placeholder/_1' with dtype float and shape [500]\n",
      "\t [[{{node Placeholder/_1}}]]\n",
      "2023-05-14 10:00:00.139821: I tensorflow/core/common_runtime/executor.cc:1197] [/device:CPU:0] (DEBUG INFO) Executor start aborting (this does not indicate an error and you can ignore this message): INVALID_ARGUMENT: You must feed a value for placeholder tensor 'Placeholder/_1' with dtype float and shape [500]\n",
      "\t [[{{node Placeholder/_1}}]]\n",
      "2023-05-14 10:00:00.143076: I tensorflow/core/common_runtime/executor.cc:1197] [/device:CPU:0] (DEBUG INFO) Executor start aborting (this does not indicate an error and you can ignore this message): INVALID_ARGUMENT: You must feed a value for placeholder tensor 'Placeholder/_1' with dtype float and shape [500]\n",
      "\t [[{{node Placeholder/_1}}]]\n",
      "2023-05-14 10:00:00.146481: I tensorflow/core/common_runtime/executor.cc:1197] [/device:CPU:0] (DEBUG INFO) Executor start aborting (this does not indicate an error and you can ignore this message): INVALID_ARGUMENT: You must feed a value for placeholder tensor 'Placeholder/_1' with dtype float and shape [500]\n",
      "\t [[{{node Placeholder/_1}}]]\n",
      "2023-05-14 10:00:00.149628: I tensorflow/core/common_runtime/executor.cc:1197] [/device:CPU:0] (DEBUG INFO) Executor start aborting (this does not indicate an error and you can ignore this message): INVALID_ARGUMENT: You must feed a value for placeholder tensor 'Placeholder/_1' with dtype float and shape [500]\n",
      "\t [[{{node Placeholder/_1}}]]\n",
      "2023-05-14 10:00:00.152968: I tensorflow/core/common_runtime/executor.cc:1197] [/device:CPU:0] (DEBUG INFO) Executor start aborting (this does not indicate an error and you can ignore this message): INVALID_ARGUMENT: You must feed a value for placeholder tensor 'Placeholder/_1' with dtype float and shape [500]\n",
      "\t [[{{node Placeholder/_1}}]]\n",
      "2023-05-14 10:00:00.156166: I tensorflow/core/common_runtime/executor.cc:1197] [/device:CPU:0] (DEBUG INFO) Executor start aborting (this does not indicate an error and you can ignore this message): INVALID_ARGUMENT: You must feed a value for placeholder tensor 'Placeholder/_1' with dtype float and shape [500]\n",
      "\t [[{{node Placeholder/_1}}]]\n",
      "2023-05-14 10:00:00.159862: I tensorflow/core/common_runtime/executor.cc:1197] [/device:CPU:0] (DEBUG INFO) Executor start aborting (this does not indicate an error and you can ignore this message): INVALID_ARGUMENT: You must feed a value for placeholder tensor 'Placeholder/_1' with dtype float and shape [500]\n",
      "\t [[{{node Placeholder/_1}}]]\n",
      "2023-05-14 10:00:00.162963: I tensorflow/core/common_runtime/executor.cc:1197] [/device:CPU:0] (DEBUG INFO) Executor start aborting (this does not indicate an error and you can ignore this message): INVALID_ARGUMENT: You must feed a value for placeholder tensor 'Placeholder/_1' with dtype float and shape [500]\n",
      "\t [[{{node Placeholder/_1}}]]\n",
      "2023-05-14 10:00:00.166203: I tensorflow/core/common_runtime/executor.cc:1197] [/device:CPU:0] (DEBUG INFO) Executor start aborting (this does not indicate an error and you can ignore this message): INVALID_ARGUMENT: You must feed a value for placeholder tensor 'Placeholder/_1' with dtype float and shape [500]\n",
      "\t [[{{node Placeholder/_1}}]]\n"
     ]
    },
    {
     "name": "stdout",
     "output_type": "stream",
     "text": [
      "\n",
      "Testing for epoch 9 index 2:\n",
      "65/65 [==============================] - 0s 490us/step\n"
     ]
    },
    {
     "name": "stderr",
     "output_type": "stream",
     "text": [
      "2023-05-14 10:00:00.437238: I tensorflow/core/common_runtime/executor.cc:1197] [/device:CPU:0] (DEBUG INFO) Executor start aborting (this does not indicate an error and you can ignore this message): INVALID_ARGUMENT: You must feed a value for placeholder tensor 'Placeholder/_1' with dtype int64 and shape [1000]\n",
      "\t [[{{node Placeholder/_1}}]]\n",
      "2023-05-14 10:00:00.513708: I tensorflow/core/common_runtime/executor.cc:1197] [/device:CPU:0] (DEBUG INFO) Executor start aborting (this does not indicate an error and you can ignore this message): INVALID_ARGUMENT: You must feed a value for placeholder tensor 'Placeholder/_1' with dtype float and shape [500]\n",
      "\t [[{{node Placeholder/_1}}]]\n",
      "2023-05-14 10:00:00.520583: I tensorflow/core/common_runtime/executor.cc:1197] [/device:CPU:0] (DEBUG INFO) Executor start aborting (this does not indicate an error and you can ignore this message): INVALID_ARGUMENT: You must feed a value for placeholder tensor 'Placeholder/_1' with dtype float and shape [500]\n",
      "\t [[{{node Placeholder/_1}}]]\n",
      "2023-05-14 10:00:00.527525: I tensorflow/core/common_runtime/executor.cc:1197] [/device:CPU:0] (DEBUG INFO) Executor start aborting (this does not indicate an error and you can ignore this message): INVALID_ARGUMENT: You must feed a value for placeholder tensor 'Placeholder/_1' with dtype float and shape [500]\n",
      "\t [[{{node Placeholder/_1}}]]\n",
      "2023-05-14 10:00:00.531984: I tensorflow/core/common_runtime/executor.cc:1197] [/device:CPU:0] (DEBUG INFO) Executor start aborting (this does not indicate an error and you can ignore this message): INVALID_ARGUMENT: You must feed a value for placeholder tensor 'Placeholder/_1' with dtype float and shape [500]\n",
      "\t [[{{node Placeholder/_1}}]]\n",
      "2023-05-14 10:00:00.536463: I tensorflow/core/common_runtime/executor.cc:1197] [/device:CPU:0] (DEBUG INFO) Executor start aborting (this does not indicate an error and you can ignore this message): INVALID_ARGUMENT: You must feed a value for placeholder tensor 'Placeholder/_1' with dtype float and shape [500]\n",
      "\t [[{{node Placeholder/_1}}]]\n",
      "2023-05-14 10:00:00.541269: I tensorflow/core/common_runtime/executor.cc:1197] [/device:CPU:0] (DEBUG INFO) Executor start aborting (this does not indicate an error and you can ignore this message): INVALID_ARGUMENT: You must feed a value for placeholder tensor 'Placeholder/_1' with dtype float and shape [500]\n",
      "\t [[{{node Placeholder/_1}}]]\n",
      "2023-05-14 10:00:00.544521: I tensorflow/core/common_runtime/executor.cc:1197] [/device:CPU:0] (DEBUG INFO) Executor start aborting (this does not indicate an error and you can ignore this message): INVALID_ARGUMENT: You must feed a value for placeholder tensor 'Placeholder/_1' with dtype float and shape [500]\n",
      "\t [[{{node Placeholder/_1}}]]\n",
      "2023-05-14 10:00:00.548632: I tensorflow/core/common_runtime/executor.cc:1197] [/device:CPU:0] (DEBUG INFO) Executor start aborting (this does not indicate an error and you can ignore this message): INVALID_ARGUMENT: You must feed a value for placeholder tensor 'Placeholder/_1' with dtype float and shape [500]\n",
      "\t [[{{node Placeholder/_1}}]]\n",
      "2023-05-14 10:00:00.551787: I tensorflow/core/common_runtime/executor.cc:1197] [/device:CPU:0] (DEBUG INFO) Executor start aborting (this does not indicate an error and you can ignore this message): INVALID_ARGUMENT: You must feed a value for placeholder tensor 'Placeholder/_1' with dtype float and shape [500]\n",
      "\t [[{{node Placeholder/_1}}]]\n",
      "2023-05-14 10:00:00.555921: I tensorflow/core/common_runtime/executor.cc:1197] [/device:CPU:0] (DEBUG INFO) Executor start aborting (this does not indicate an error and you can ignore this message): INVALID_ARGUMENT: You must feed a value for placeholder tensor 'Placeholder/_1' with dtype float and shape [500]\n",
      "\t [[{{node Placeholder/_1}}]]\n"
     ]
    },
    {
     "name": "stdout",
     "output_type": "stream",
     "text": [
      "\n",
      "Testing for epoch 9 index 3:\n",
      "65/65 [==============================] - 0s 560us/step\n"
     ]
    },
    {
     "name": "stderr",
     "output_type": "stream",
     "text": [
      "2023-05-14 10:00:00.830780: I tensorflow/core/common_runtime/executor.cc:1197] [/device:CPU:0] (DEBUG INFO) Executor start aborting (this does not indicate an error and you can ignore this message): INVALID_ARGUMENT: You must feed a value for placeholder tensor 'Placeholder/_1' with dtype int64 and shape [1000]\n",
      "\t [[{{node Placeholder/_1}}]]\n",
      "2023-05-14 10:00:00.912157: I tensorflow/core/common_runtime/executor.cc:1197] [/device:CPU:0] (DEBUG INFO) Executor start aborting (this does not indicate an error and you can ignore this message): INVALID_ARGUMENT: You must feed a value for placeholder tensor 'Placeholder/_1' with dtype float and shape [500]\n",
      "\t [[{{node Placeholder/_1}}]]\n",
      "2023-05-14 10:00:00.917125: I tensorflow/core/common_runtime/executor.cc:1197] [/device:CPU:0] (DEBUG INFO) Executor start aborting (this does not indicate an error and you can ignore this message): INVALID_ARGUMENT: You must feed a value for placeholder tensor 'Placeholder/_1' with dtype float and shape [500]\n",
      "\t [[{{node Placeholder/_1}}]]\n",
      "2023-05-14 10:00:00.920613: I tensorflow/core/common_runtime/executor.cc:1197] [/device:CPU:0] (DEBUG INFO) Executor start aborting (this does not indicate an error and you can ignore this message): INVALID_ARGUMENT: You must feed a value for placeholder tensor 'Placeholder/_1' with dtype float and shape [500]\n",
      "\t [[{{node Placeholder/_1}}]]\n",
      "2023-05-14 10:00:00.923895: I tensorflow/core/common_runtime/executor.cc:1197] [/device:CPU:0] (DEBUG INFO) Executor start aborting (this does not indicate an error and you can ignore this message): INVALID_ARGUMENT: You must feed a value for placeholder tensor 'Placeholder/_1' with dtype float and shape [500]\n",
      "\t [[{{node Placeholder/_1}}]]\n",
      "2023-05-14 10:00:00.927076: I tensorflow/core/common_runtime/executor.cc:1197] [/device:CPU:0] (DEBUG INFO) Executor start aborting (this does not indicate an error and you can ignore this message): INVALID_ARGUMENT: You must feed a value for placeholder tensor 'Placeholder/_1' with dtype float and shape [500]\n",
      "\t [[{{node Placeholder/_1}}]]\n",
      "2023-05-14 10:00:00.930450: I tensorflow/core/common_runtime/executor.cc:1197] [/device:CPU:0] (DEBUG INFO) Executor start aborting (this does not indicate an error and you can ignore this message): INVALID_ARGUMENT: You must feed a value for placeholder tensor 'Placeholder/_1' with dtype float and shape [500]\n",
      "\t [[{{node Placeholder/_1}}]]\n",
      "2023-05-14 10:00:00.933656: I tensorflow/core/common_runtime/executor.cc:1197] [/device:CPU:0] (DEBUG INFO) Executor start aborting (this does not indicate an error and you can ignore this message): INVALID_ARGUMENT: You must feed a value for placeholder tensor 'Placeholder/_1' with dtype float and shape [500]\n",
      "\t [[{{node Placeholder/_1}}]]\n",
      "2023-05-14 10:00:00.937561: I tensorflow/core/common_runtime/executor.cc:1197] [/device:CPU:0] (DEBUG INFO) Executor start aborting (this does not indicate an error and you can ignore this message): INVALID_ARGUMENT: You must feed a value for placeholder tensor 'Placeholder/_1' with dtype float and shape [500]\n",
      "\t [[{{node Placeholder/_1}}]]\n",
      "2023-05-14 10:00:00.941313: I tensorflow/core/common_runtime/executor.cc:1197] [/device:CPU:0] (DEBUG INFO) Executor start aborting (this does not indicate an error and you can ignore this message): INVALID_ARGUMENT: You must feed a value for placeholder tensor 'Placeholder/_1' with dtype float and shape [500]\n",
      "\t [[{{node Placeholder/_1}}]]\n",
      "2023-05-14 10:00:00.944924: I tensorflow/core/common_runtime/executor.cc:1197] [/device:CPU:0] (DEBUG INFO) Executor start aborting (this does not indicate an error and you can ignore this message): INVALID_ARGUMENT: You must feed a value for placeholder tensor 'Placeholder/_1' with dtype float and shape [500]\n",
      "\t [[{{node Placeholder/_1}}]]\n"
     ]
    },
    {
     "name": "stdout",
     "output_type": "stream",
     "text": [
      "\n",
      "Testing for epoch 9 index 4:\n",
      "65/65 [==============================] - 0s 492us/step\n"
     ]
    },
    {
     "name": "stderr",
     "output_type": "stream",
     "text": [
      "2023-05-14 10:00:01.216435: I tensorflow/core/common_runtime/executor.cc:1197] [/device:CPU:0] (DEBUG INFO) Executor start aborting (this does not indicate an error and you can ignore this message): INVALID_ARGUMENT: You must feed a value for placeholder tensor 'Placeholder/_1' with dtype int64 and shape [1000]\n",
      "\t [[{{node Placeholder/_1}}]]\n",
      "2023-05-14 10:00:01.291110: I tensorflow/core/common_runtime/executor.cc:1197] [/device:CPU:0] (DEBUG INFO) Executor start aborting (this does not indicate an error and you can ignore this message): INVALID_ARGUMENT: You must feed a value for placeholder tensor 'Placeholder/_1' with dtype float and shape [500]\n",
      "\t [[{{node Placeholder/_1}}]]\n",
      "2023-05-14 10:00:01.294771: I tensorflow/core/common_runtime/executor.cc:1197] [/device:CPU:0] (DEBUG INFO) Executor start aborting (this does not indicate an error and you can ignore this message): INVALID_ARGUMENT: You must feed a value for placeholder tensor 'Placeholder/_1' with dtype float and shape [500]\n",
      "\t [[{{node Placeholder/_1}}]]\n",
      "2023-05-14 10:00:01.298785: I tensorflow/core/common_runtime/executor.cc:1197] [/device:CPU:0] (DEBUG INFO) Executor start aborting (this does not indicate an error and you can ignore this message): INVALID_ARGUMENT: You must feed a value for placeholder tensor 'Placeholder/_1' with dtype float and shape [500]\n",
      "\t [[{{node Placeholder/_1}}]]\n",
      "2023-05-14 10:00:01.301992: I tensorflow/core/common_runtime/executor.cc:1197] [/device:CPU:0] (DEBUG INFO) Executor start aborting (this does not indicate an error and you can ignore this message): INVALID_ARGUMENT: You must feed a value for placeholder tensor 'Placeholder/_1' with dtype float and shape [500]\n",
      "\t [[{{node Placeholder/_1}}]]\n",
      "2023-05-14 10:00:01.305356: I tensorflow/core/common_runtime/executor.cc:1197] [/device:CPU:0] (DEBUG INFO) Executor start aborting (this does not indicate an error and you can ignore this message): INVALID_ARGUMENT: You must feed a value for placeholder tensor 'Placeholder/_1' with dtype float and shape [500]\n",
      "\t [[{{node Placeholder/_1}}]]\n",
      "2023-05-14 10:00:01.308660: I tensorflow/core/common_runtime/executor.cc:1197] [/device:CPU:0] (DEBUG INFO) Executor start aborting (this does not indicate an error and you can ignore this message): INVALID_ARGUMENT: You must feed a value for placeholder tensor 'Placeholder/_1' with dtype float and shape [500]\n",
      "\t [[{{node Placeholder/_1}}]]\n",
      "2023-05-14 10:00:01.312141: I tensorflow/core/common_runtime/executor.cc:1197] [/device:CPU:0] (DEBUG INFO) Executor start aborting (this does not indicate an error and you can ignore this message): INVALID_ARGUMENT: You must feed a value for placeholder tensor 'Placeholder/_1' with dtype float and shape [500]\n",
      "\t [[{{node Placeholder/_1}}]]\n",
      "2023-05-14 10:00:01.315523: I tensorflow/core/common_runtime/executor.cc:1197] [/device:CPU:0] (DEBUG INFO) Executor start aborting (this does not indicate an error and you can ignore this message): INVALID_ARGUMENT: You must feed a value for placeholder tensor 'Placeholder/_1' with dtype float and shape [500]\n",
      "\t [[{{node Placeholder/_1}}]]\n",
      "2023-05-14 10:00:01.319739: I tensorflow/core/common_runtime/executor.cc:1197] [/device:CPU:0] (DEBUG INFO) Executor start aborting (this does not indicate an error and you can ignore this message): INVALID_ARGUMENT: You must feed a value for placeholder tensor 'Placeholder/_1' with dtype float and shape [500]\n",
      "\t [[{{node Placeholder/_1}}]]\n",
      "2023-05-14 10:00:01.323241: I tensorflow/core/common_runtime/executor.cc:1197] [/device:CPU:0] (DEBUG INFO) Executor start aborting (this does not indicate an error and you can ignore this message): INVALID_ARGUMENT: You must feed a value for placeholder tensor 'Placeholder/_1' with dtype float and shape [500]\n",
      "\t [[{{node Placeholder/_1}}]]\n"
     ]
    },
    {
     "name": "stdout",
     "output_type": "stream",
     "text": [
      "Epoch 10 of 60\n",
      "\n",
      "Testing for epoch 10 index 1:\n",
      "65/65 [==============================] - 0s 498us/step\n"
     ]
    },
    {
     "name": "stderr",
     "output_type": "stream",
     "text": [
      "2023-05-14 10:00:01.605174: I tensorflow/core/common_runtime/executor.cc:1197] [/device:CPU:0] (DEBUG INFO) Executor start aborting (this does not indicate an error and you can ignore this message): INVALID_ARGUMENT: You must feed a value for placeholder tensor 'Placeholder/_1' with dtype int64 and shape [1000]\n",
      "\t [[{{node Placeholder/_1}}]]\n",
      "2023-05-14 10:00:01.680600: I tensorflow/core/common_runtime/executor.cc:1197] [/device:CPU:0] (DEBUG INFO) Executor start aborting (this does not indicate an error and you can ignore this message): INVALID_ARGUMENT: You must feed a value for placeholder tensor 'Placeholder/_1' with dtype float and shape [500]\n",
      "\t [[{{node Placeholder/_1}}]]\n",
      "2023-05-14 10:00:01.684335: I tensorflow/core/common_runtime/executor.cc:1197] [/device:CPU:0] (DEBUG INFO) Executor start aborting (this does not indicate an error and you can ignore this message): INVALID_ARGUMENT: You must feed a value for placeholder tensor 'Placeholder/_1' with dtype float and shape [500]\n",
      "\t [[{{node Placeholder/_1}}]]\n",
      "2023-05-14 10:00:01.687785: I tensorflow/core/common_runtime/executor.cc:1197] [/device:CPU:0] (DEBUG INFO) Executor start aborting (this does not indicate an error and you can ignore this message): INVALID_ARGUMENT: You must feed a value for placeholder tensor 'Placeholder/_1' with dtype float and shape [500]\n",
      "\t [[{{node Placeholder/_1}}]]\n",
      "2023-05-14 10:00:01.691056: I tensorflow/core/common_runtime/executor.cc:1197] [/device:CPU:0] (DEBUG INFO) Executor start aborting (this does not indicate an error and you can ignore this message): INVALID_ARGUMENT: You must feed a value for placeholder tensor 'Placeholder/_1' with dtype float and shape [500]\n",
      "\t [[{{node Placeholder/_1}}]]\n",
      "2023-05-14 10:00:01.695159: I tensorflow/core/common_runtime/executor.cc:1197] [/device:CPU:0] (DEBUG INFO) Executor start aborting (this does not indicate an error and you can ignore this message): INVALID_ARGUMENT: You must feed a value for placeholder tensor 'Placeholder/_1' with dtype float and shape [500]\n",
      "\t [[{{node Placeholder/_1}}]]\n",
      "2023-05-14 10:00:01.698383: I tensorflow/core/common_runtime/executor.cc:1197] [/device:CPU:0] (DEBUG INFO) Executor start aborting (this does not indicate an error and you can ignore this message): INVALID_ARGUMENT: You must feed a value for placeholder tensor 'Placeholder/_1' with dtype float and shape [500]\n",
      "\t [[{{node Placeholder/_1}}]]\n",
      "2023-05-14 10:00:01.701706: I tensorflow/core/common_runtime/executor.cc:1197] [/device:CPU:0] (DEBUG INFO) Executor start aborting (this does not indicate an error and you can ignore this message): INVALID_ARGUMENT: You must feed a value for placeholder tensor 'Placeholder/_1' with dtype float and shape [500]\n",
      "\t [[{{node Placeholder/_1}}]]\n",
      "2023-05-14 10:00:01.704923: I tensorflow/core/common_runtime/executor.cc:1197] [/device:CPU:0] (DEBUG INFO) Executor start aborting (this does not indicate an error and you can ignore this message): INVALID_ARGUMENT: You must feed a value for placeholder tensor 'Placeholder/_1' with dtype float and shape [500]\n",
      "\t [[{{node Placeholder/_1}}]]\n",
      "2023-05-14 10:00:01.708610: I tensorflow/core/common_runtime/executor.cc:1197] [/device:CPU:0] (DEBUG INFO) Executor start aborting (this does not indicate an error and you can ignore this message): INVALID_ARGUMENT: You must feed a value for placeholder tensor 'Placeholder/_1' with dtype float and shape [500]\n",
      "\t [[{{node Placeholder/_1}}]]\n",
      "2023-05-14 10:00:01.711966: I tensorflow/core/common_runtime/executor.cc:1197] [/device:CPU:0] (DEBUG INFO) Executor start aborting (this does not indicate an error and you can ignore this message): INVALID_ARGUMENT: You must feed a value for placeholder tensor 'Placeholder/_1' with dtype float and shape [500]\n",
      "\t [[{{node Placeholder/_1}}]]\n"
     ]
    },
    {
     "name": "stdout",
     "output_type": "stream",
     "text": [
      "\n",
      "Testing for epoch 10 index 2:\n",
      "65/65 [==============================] - 0s 631us/step\n"
     ]
    },
    {
     "name": "stderr",
     "output_type": "stream",
     "text": [
      "2023-05-14 10:00:02.001300: I tensorflow/core/common_runtime/executor.cc:1197] [/device:CPU:0] (DEBUG INFO) Executor start aborting (this does not indicate an error and you can ignore this message): INVALID_ARGUMENT: You must feed a value for placeholder tensor 'Placeholder/_1' with dtype int64 and shape [1000]\n",
      "\t [[{{node Placeholder/_1}}]]\n",
      "2023-05-14 10:00:02.087753: I tensorflow/core/common_runtime/executor.cc:1197] [/device:CPU:0] (DEBUG INFO) Executor start aborting (this does not indicate an error and you can ignore this message): INVALID_ARGUMENT: You must feed a value for placeholder tensor 'Placeholder/_1' with dtype float and shape [500]\n",
      "\t [[{{node Placeholder/_1}}]]\n",
      "2023-05-14 10:00:02.092381: I tensorflow/core/common_runtime/executor.cc:1197] [/device:CPU:0] (DEBUG INFO) Executor start aborting (this does not indicate an error and you can ignore this message): INVALID_ARGUMENT: You must feed a value for placeholder tensor 'Placeholder/_1' with dtype float and shape [500]\n",
      "\t [[{{node Placeholder/_1}}]]\n",
      "2023-05-14 10:00:02.097175: I tensorflow/core/common_runtime/executor.cc:1197] [/device:CPU:0] (DEBUG INFO) Executor start aborting (this does not indicate an error and you can ignore this message): INVALID_ARGUMENT: You must feed a value for placeholder tensor 'Placeholder/_1' with dtype float and shape [500]\n",
      "\t [[{{node Placeholder/_1}}]]\n",
      "2023-05-14 10:00:02.100912: I tensorflow/core/common_runtime/executor.cc:1197] [/device:CPU:0] (DEBUG INFO) Executor start aborting (this does not indicate an error and you can ignore this message): INVALID_ARGUMENT: You must feed a value for placeholder tensor 'Placeholder/_1' with dtype float and shape [500]\n",
      "\t [[{{node Placeholder/_1}}]]\n",
      "2023-05-14 10:00:02.104560: I tensorflow/core/common_runtime/executor.cc:1197] [/device:CPU:0] (DEBUG INFO) Executor start aborting (this does not indicate an error and you can ignore this message): INVALID_ARGUMENT: You must feed a value for placeholder tensor 'Placeholder/_1' with dtype float and shape [500]\n",
      "\t [[{{node Placeholder/_1}}]]\n",
      "2023-05-14 10:00:02.108142: I tensorflow/core/common_runtime/executor.cc:1197] [/device:CPU:0] (DEBUG INFO) Executor start aborting (this does not indicate an error and you can ignore this message): INVALID_ARGUMENT: You must feed a value for placeholder tensor 'Placeholder/_1' with dtype float and shape [500]\n",
      "\t [[{{node Placeholder/_1}}]]\n",
      "2023-05-14 10:00:02.111882: I tensorflow/core/common_runtime/executor.cc:1197] [/device:CPU:0] (DEBUG INFO) Executor start aborting (this does not indicate an error and you can ignore this message): INVALID_ARGUMENT: You must feed a value for placeholder tensor 'Placeholder/_1' with dtype float and shape [500]\n",
      "\t [[{{node Placeholder/_1}}]]\n",
      "2023-05-14 10:00:02.116139: I tensorflow/core/common_runtime/executor.cc:1197] [/device:CPU:0] (DEBUG INFO) Executor start aborting (this does not indicate an error and you can ignore this message): INVALID_ARGUMENT: You must feed a value for placeholder tensor 'Placeholder/_1' with dtype float and shape [500]\n",
      "\t [[{{node Placeholder/_1}}]]\n",
      "2023-05-14 10:00:02.119685: I tensorflow/core/common_runtime/executor.cc:1197] [/device:CPU:0] (DEBUG INFO) Executor start aborting (this does not indicate an error and you can ignore this message): INVALID_ARGUMENT: You must feed a value for placeholder tensor 'Placeholder/_1' with dtype float and shape [500]\n",
      "\t [[{{node Placeholder/_1}}]]\n",
      "2023-05-14 10:00:02.124152: I tensorflow/core/common_runtime/executor.cc:1197] [/device:CPU:0] (DEBUG INFO) Executor start aborting (this does not indicate an error and you can ignore this message): INVALID_ARGUMENT: You must feed a value for placeholder tensor 'Placeholder/_1' with dtype float and shape [500]\n",
      "\t [[{{node Placeholder/_1}}]]\n"
     ]
    },
    {
     "name": "stdout",
     "output_type": "stream",
     "text": [
      "\n",
      "Testing for epoch 10 index 3:\n",
      "65/65 [==============================] - 0s 528us/step\n"
     ]
    },
    {
     "name": "stderr",
     "output_type": "stream",
     "text": [
      "2023-05-14 10:00:02.401154: I tensorflow/core/common_runtime/executor.cc:1197] [/device:CPU:0] (DEBUG INFO) Executor start aborting (this does not indicate an error and you can ignore this message): INVALID_ARGUMENT: You must feed a value for placeholder tensor 'Placeholder/_1' with dtype int64 and shape [1000]\n",
      "\t [[{{node Placeholder/_1}}]]\n",
      "2023-05-14 10:00:02.478037: I tensorflow/core/common_runtime/executor.cc:1197] [/device:CPU:0] (DEBUG INFO) Executor start aborting (this does not indicate an error and you can ignore this message): INVALID_ARGUMENT: You must feed a value for placeholder tensor 'Placeholder/_1' with dtype float and shape [500]\n",
      "\t [[{{node Placeholder/_1}}]]\n",
      "2023-05-14 10:00:02.482153: I tensorflow/core/common_runtime/executor.cc:1197] [/device:CPU:0] (DEBUG INFO) Executor start aborting (this does not indicate an error and you can ignore this message): INVALID_ARGUMENT: You must feed a value for placeholder tensor 'Placeholder/_1' with dtype float and shape [500]\n",
      "\t [[{{node Placeholder/_1}}]]\n",
      "2023-05-14 10:00:02.486266: I tensorflow/core/common_runtime/executor.cc:1197] [/device:CPU:0] (DEBUG INFO) Executor start aborting (this does not indicate an error and you can ignore this message): INVALID_ARGUMENT: You must feed a value for placeholder tensor 'Placeholder/_1' with dtype float and shape [500]\n",
      "\t [[{{node Placeholder/_1}}]]\n",
      "2023-05-14 10:00:02.489532: I tensorflow/core/common_runtime/executor.cc:1197] [/device:CPU:0] (DEBUG INFO) Executor start aborting (this does not indicate an error and you can ignore this message): INVALID_ARGUMENT: You must feed a value for placeholder tensor 'Placeholder/_1' with dtype float and shape [500]\n",
      "\t [[{{node Placeholder/_1}}]]\n",
      "2023-05-14 10:00:02.493018: I tensorflow/core/common_runtime/executor.cc:1197] [/device:CPU:0] (DEBUG INFO) Executor start aborting (this does not indicate an error and you can ignore this message): INVALID_ARGUMENT: You must feed a value for placeholder tensor 'Placeholder/_1' with dtype float and shape [500]\n",
      "\t [[{{node Placeholder/_1}}]]\n",
      "2023-05-14 10:00:02.496242: I tensorflow/core/common_runtime/executor.cc:1197] [/device:CPU:0] (DEBUG INFO) Executor start aborting (this does not indicate an error and you can ignore this message): INVALID_ARGUMENT: You must feed a value for placeholder tensor 'Placeholder/_1' with dtype float and shape [500]\n",
      "\t [[{{node Placeholder/_1}}]]\n",
      "2023-05-14 10:00:02.499985: I tensorflow/core/common_runtime/executor.cc:1197] [/device:CPU:0] (DEBUG INFO) Executor start aborting (this does not indicate an error and you can ignore this message): INVALID_ARGUMENT: You must feed a value for placeholder tensor 'Placeholder/_1' with dtype float and shape [500]\n",
      "\t [[{{node Placeholder/_1}}]]\n",
      "2023-05-14 10:00:02.503106: I tensorflow/core/common_runtime/executor.cc:1197] [/device:CPU:0] (DEBUG INFO) Executor start aborting (this does not indicate an error and you can ignore this message): INVALID_ARGUMENT: You must feed a value for placeholder tensor 'Placeholder/_1' with dtype float and shape [500]\n",
      "\t [[{{node Placeholder/_1}}]]\n",
      "2023-05-14 10:00:02.506566: I tensorflow/core/common_runtime/executor.cc:1197] [/device:CPU:0] (DEBUG INFO) Executor start aborting (this does not indicate an error and you can ignore this message): INVALID_ARGUMENT: You must feed a value for placeholder tensor 'Placeholder/_1' with dtype float and shape [500]\n",
      "\t [[{{node Placeholder/_1}}]]\n",
      "2023-05-14 10:00:02.509845: I tensorflow/core/common_runtime/executor.cc:1197] [/device:CPU:0] (DEBUG INFO) Executor start aborting (this does not indicate an error and you can ignore this message): INVALID_ARGUMENT: You must feed a value for placeholder tensor 'Placeholder/_1' with dtype float and shape [500]\n",
      "\t [[{{node Placeholder/_1}}]]\n"
     ]
    },
    {
     "name": "stdout",
     "output_type": "stream",
     "text": [
      "\n",
      "Testing for epoch 10 index 4:\n",
      "65/65 [==============================] - 0s 543us/step\n"
     ]
    },
    {
     "name": "stderr",
     "output_type": "stream",
     "text": [
      "2023-05-14 10:00:02.785429: I tensorflow/core/common_runtime/executor.cc:1197] [/device:CPU:0] (DEBUG INFO) Executor start aborting (this does not indicate an error and you can ignore this message): INVALID_ARGUMENT: You must feed a value for placeholder tensor 'Placeholder/_1' with dtype int64 and shape [1000]\n",
      "\t [[{{node Placeholder/_1}}]]\n",
      "2023-05-14 10:00:02.869263: I tensorflow/core/common_runtime/executor.cc:1197] [/device:CPU:0] (DEBUG INFO) Executor start aborting (this does not indicate an error and you can ignore this message): INVALID_ARGUMENT: You must feed a value for placeholder tensor 'Placeholder/_1' with dtype float and shape [500]\n",
      "\t [[{{node Placeholder/_1}}]]\n",
      "2023-05-14 10:00:02.875043: I tensorflow/core/common_runtime/executor.cc:1197] [/device:CPU:0] (DEBUG INFO) Executor start aborting (this does not indicate an error and you can ignore this message): INVALID_ARGUMENT: You must feed a value for placeholder tensor 'Placeholder/_1' with dtype float and shape [500]\n",
      "\t [[{{node Placeholder/_1}}]]\n",
      "2023-05-14 10:00:02.879774: I tensorflow/core/common_runtime/executor.cc:1197] [/device:CPU:0] (DEBUG INFO) Executor start aborting (this does not indicate an error and you can ignore this message): INVALID_ARGUMENT: You must feed a value for placeholder tensor 'Placeholder/_1' with dtype float and shape [500]\n",
      "\t [[{{node Placeholder/_1}}]]\n",
      "2023-05-14 10:00:02.884103: I tensorflow/core/common_runtime/executor.cc:1197] [/device:CPU:0] (DEBUG INFO) Executor start aborting (this does not indicate an error and you can ignore this message): INVALID_ARGUMENT: You must feed a value for placeholder tensor 'Placeholder/_1' with dtype float and shape [500]\n",
      "\t [[{{node Placeholder/_1}}]]\n",
      "2023-05-14 10:00:02.888544: I tensorflow/core/common_runtime/executor.cc:1197] [/device:CPU:0] (DEBUG INFO) Executor start aborting (this does not indicate an error and you can ignore this message): INVALID_ARGUMENT: You must feed a value for placeholder tensor 'Placeholder/_1' with dtype float and shape [500]\n",
      "\t [[{{node Placeholder/_1}}]]\n",
      "2023-05-14 10:00:02.892368: I tensorflow/core/common_runtime/executor.cc:1197] [/device:CPU:0] (DEBUG INFO) Executor start aborting (this does not indicate an error and you can ignore this message): INVALID_ARGUMENT: You must feed a value for placeholder tensor 'Placeholder/_1' with dtype float and shape [500]\n",
      "\t [[{{node Placeholder/_1}}]]\n",
      "2023-05-14 10:00:02.897463: I tensorflow/core/common_runtime/executor.cc:1197] [/device:CPU:0] (DEBUG INFO) Executor start aborting (this does not indicate an error and you can ignore this message): INVALID_ARGUMENT: You must feed a value for placeholder tensor 'Placeholder/_1' with dtype float and shape [500]\n",
      "\t [[{{node Placeholder/_1}}]]\n",
      "2023-05-14 10:00:02.902845: I tensorflow/core/common_runtime/executor.cc:1197] [/device:CPU:0] (DEBUG INFO) Executor start aborting (this does not indicate an error and you can ignore this message): INVALID_ARGUMENT: You must feed a value for placeholder tensor 'Placeholder/_1' with dtype float and shape [500]\n",
      "\t [[{{node Placeholder/_1}}]]\n",
      "2023-05-14 10:00:02.907509: I tensorflow/core/common_runtime/executor.cc:1197] [/device:CPU:0] (DEBUG INFO) Executor start aborting (this does not indicate an error and you can ignore this message): INVALID_ARGUMENT: You must feed a value for placeholder tensor 'Placeholder/_1' with dtype float and shape [500]\n",
      "\t [[{{node Placeholder/_1}}]]\n",
      "2023-05-14 10:00:02.911957: I tensorflow/core/common_runtime/executor.cc:1197] [/device:CPU:0] (DEBUG INFO) Executor start aborting (this does not indicate an error and you can ignore this message): INVALID_ARGUMENT: You must feed a value for placeholder tensor 'Placeholder/_1' with dtype float and shape [500]\n",
      "\t [[{{node Placeholder/_1}}]]\n"
     ]
    },
    {
     "name": "stdout",
     "output_type": "stream",
     "text": [
      "Epoch 11 of 60\n",
      "\n",
      "Testing for epoch 11 index 1:\n",
      "65/65 [==============================] - 0s 544us/step\n"
     ]
    },
    {
     "name": "stderr",
     "output_type": "stream",
     "text": [
      "2023-05-14 10:00:03.198625: I tensorflow/core/common_runtime/executor.cc:1197] [/device:CPU:0] (DEBUG INFO) Executor start aborting (this does not indicate an error and you can ignore this message): INVALID_ARGUMENT: You must feed a value for placeholder tensor 'Placeholder/_1' with dtype int64 and shape [1000]\n",
      "\t [[{{node Placeholder/_1}}]]\n",
      "2023-05-14 10:00:03.277535: I tensorflow/core/common_runtime/executor.cc:1197] [/device:CPU:0] (DEBUG INFO) Executor start aborting (this does not indicate an error and you can ignore this message): INVALID_ARGUMENT: You must feed a value for placeholder tensor 'Placeholder/_1' with dtype float and shape [500]\n",
      "\t [[{{node Placeholder/_1}}]]\n",
      "2023-05-14 10:00:03.281396: I tensorflow/core/common_runtime/executor.cc:1197] [/device:CPU:0] (DEBUG INFO) Executor start aborting (this does not indicate an error and you can ignore this message): INVALID_ARGUMENT: You must feed a value for placeholder tensor 'Placeholder/_1' with dtype float and shape [500]\n",
      "\t [[{{node Placeholder/_1}}]]\n",
      "2023-05-14 10:00:03.285688: I tensorflow/core/common_runtime/executor.cc:1197] [/device:CPU:0] (DEBUG INFO) Executor start aborting (this does not indicate an error and you can ignore this message): INVALID_ARGUMENT: You must feed a value for placeholder tensor 'Placeholder/_1' with dtype float and shape [500]\n",
      "\t [[{{node Placeholder/_1}}]]\n",
      "2023-05-14 10:00:03.291039: I tensorflow/core/common_runtime/executor.cc:1197] [/device:CPU:0] (DEBUG INFO) Executor start aborting (this does not indicate an error and you can ignore this message): INVALID_ARGUMENT: You must feed a value for placeholder tensor 'Placeholder/_1' with dtype float and shape [500]\n",
      "\t [[{{node Placeholder/_1}}]]\n",
      "2023-05-14 10:00:03.294865: I tensorflow/core/common_runtime/executor.cc:1197] [/device:CPU:0] (DEBUG INFO) Executor start aborting (this does not indicate an error and you can ignore this message): INVALID_ARGUMENT: You must feed a value for placeholder tensor 'Placeholder/_1' with dtype float and shape [500]\n",
      "\t [[{{node Placeholder/_1}}]]\n",
      "2023-05-14 10:00:03.298723: I tensorflow/core/common_runtime/executor.cc:1197] [/device:CPU:0] (DEBUG INFO) Executor start aborting (this does not indicate an error and you can ignore this message): INVALID_ARGUMENT: You must feed a value for placeholder tensor 'Placeholder/_1' with dtype float and shape [500]\n",
      "\t [[{{node Placeholder/_1}}]]\n",
      "2023-05-14 10:00:03.302346: I tensorflow/core/common_runtime/executor.cc:1197] [/device:CPU:0] (DEBUG INFO) Executor start aborting (this does not indicate an error and you can ignore this message): INVALID_ARGUMENT: You must feed a value for placeholder tensor 'Placeholder/_1' with dtype float and shape [500]\n",
      "\t [[{{node Placeholder/_1}}]]\n",
      "2023-05-14 10:00:03.306534: I tensorflow/core/common_runtime/executor.cc:1197] [/device:CPU:0] (DEBUG INFO) Executor start aborting (this does not indicate an error and you can ignore this message): INVALID_ARGUMENT: You must feed a value for placeholder tensor 'Placeholder/_1' with dtype float and shape [500]\n",
      "\t [[{{node Placeholder/_1}}]]\n",
      "2023-05-14 10:00:03.310156: I tensorflow/core/common_runtime/executor.cc:1197] [/device:CPU:0] (DEBUG INFO) Executor start aborting (this does not indicate an error and you can ignore this message): INVALID_ARGUMENT: You must feed a value for placeholder tensor 'Placeholder/_1' with dtype float and shape [500]\n",
      "\t [[{{node Placeholder/_1}}]]\n",
      "2023-05-14 10:00:03.313541: I tensorflow/core/common_runtime/executor.cc:1197] [/device:CPU:0] (DEBUG INFO) Executor start aborting (this does not indicate an error and you can ignore this message): INVALID_ARGUMENT: You must feed a value for placeholder tensor 'Placeholder/_1' with dtype float and shape [500]\n",
      "\t [[{{node Placeholder/_1}}]]\n"
     ]
    },
    {
     "name": "stdout",
     "output_type": "stream",
     "text": [
      "\n",
      "Testing for epoch 11 index 2:\n",
      "65/65 [==============================] - 0s 437us/step\n"
     ]
    },
    {
     "name": "stderr",
     "output_type": "stream",
     "text": [
      "2023-05-14 10:00:03.766485: I tensorflow/core/common_runtime/executor.cc:1197] [/device:CPU:0] (DEBUG INFO) Executor start aborting (this does not indicate an error and you can ignore this message): INVALID_ARGUMENT: You must feed a value for placeholder tensor 'Placeholder/_1' with dtype int64 and shape [1000]\n",
      "\t [[{{node Placeholder/_1}}]]\n",
      "2023-05-14 10:00:03.838081: I tensorflow/core/common_runtime/executor.cc:1197] [/device:CPU:0] (DEBUG INFO) Executor start aborting (this does not indicate an error and you can ignore this message): INVALID_ARGUMENT: You must feed a value for placeholder tensor 'Placeholder/_1' with dtype float and shape [500]\n",
      "\t [[{{node Placeholder/_1}}]]\n",
      "2023-05-14 10:00:03.842095: I tensorflow/core/common_runtime/executor.cc:1197] [/device:CPU:0] (DEBUG INFO) Executor start aborting (this does not indicate an error and you can ignore this message): INVALID_ARGUMENT: You must feed a value for placeholder tensor 'Placeholder/_1' with dtype float and shape [500]\n",
      "\t [[{{node Placeholder/_1}}]]\n",
      "2023-05-14 10:00:03.845861: I tensorflow/core/common_runtime/executor.cc:1197] [/device:CPU:0] (DEBUG INFO) Executor start aborting (this does not indicate an error and you can ignore this message): INVALID_ARGUMENT: You must feed a value for placeholder tensor 'Placeholder/_1' with dtype float and shape [500]\n",
      "\t [[{{node Placeholder/_1}}]]\n",
      "2023-05-14 10:00:03.849297: I tensorflow/core/common_runtime/executor.cc:1197] [/device:CPU:0] (DEBUG INFO) Executor start aborting (this does not indicate an error and you can ignore this message): INVALID_ARGUMENT: You must feed a value for placeholder tensor 'Placeholder/_1' with dtype float and shape [500]\n",
      "\t [[{{node Placeholder/_1}}]]\n",
      "2023-05-14 10:00:03.852782: I tensorflow/core/common_runtime/executor.cc:1197] [/device:CPU:0] (DEBUG INFO) Executor start aborting (this does not indicate an error and you can ignore this message): INVALID_ARGUMENT: You must feed a value for placeholder tensor 'Placeholder/_1' with dtype float and shape [500]\n",
      "\t [[{{node Placeholder/_1}}]]\n",
      "2023-05-14 10:00:03.855949: I tensorflow/core/common_runtime/executor.cc:1197] [/device:CPU:0] (DEBUG INFO) Executor start aborting (this does not indicate an error and you can ignore this message): INVALID_ARGUMENT: You must feed a value for placeholder tensor 'Placeholder/_1' with dtype float and shape [500]\n",
      "\t [[{{node Placeholder/_1}}]]\n",
      "2023-05-14 10:00:03.859549: I tensorflow/core/common_runtime/executor.cc:1197] [/device:CPU:0] (DEBUG INFO) Executor start aborting (this does not indicate an error and you can ignore this message): INVALID_ARGUMENT: You must feed a value for placeholder tensor 'Placeholder/_1' with dtype float and shape [500]\n",
      "\t [[{{node Placeholder/_1}}]]\n",
      "2023-05-14 10:00:03.862849: I tensorflow/core/common_runtime/executor.cc:1197] [/device:CPU:0] (DEBUG INFO) Executor start aborting (this does not indicate an error and you can ignore this message): INVALID_ARGUMENT: You must feed a value for placeholder tensor 'Placeholder/_1' with dtype float and shape [500]\n",
      "\t [[{{node Placeholder/_1}}]]\n",
      "2023-05-14 10:00:03.866625: I tensorflow/core/common_runtime/executor.cc:1197] [/device:CPU:0] (DEBUG INFO) Executor start aborting (this does not indicate an error and you can ignore this message): INVALID_ARGUMENT: You must feed a value for placeholder tensor 'Placeholder/_1' with dtype float and shape [500]\n",
      "\t [[{{node Placeholder/_1}}]]\n",
      "2023-05-14 10:00:03.870098: I tensorflow/core/common_runtime/executor.cc:1197] [/device:CPU:0] (DEBUG INFO) Executor start aborting (this does not indicate an error and you can ignore this message): INVALID_ARGUMENT: You must feed a value for placeholder tensor 'Placeholder/_1' with dtype float and shape [500]\n",
      "\t [[{{node Placeholder/_1}}]]\n"
     ]
    },
    {
     "name": "stdout",
     "output_type": "stream",
     "text": [
      "\n",
      "Testing for epoch 11 index 3:\n",
      "65/65 [==============================] - 0s 512us/step\n"
     ]
    },
    {
     "name": "stderr",
     "output_type": "stream",
     "text": [
      "2023-05-14 10:00:04.149004: I tensorflow/core/common_runtime/executor.cc:1197] [/device:CPU:0] (DEBUG INFO) Executor start aborting (this does not indicate an error and you can ignore this message): INVALID_ARGUMENT: You must feed a value for placeholder tensor 'Placeholder/_1' with dtype int64 and shape [1000]\n",
      "\t [[{{node Placeholder/_1}}]]\n",
      "2023-05-14 10:00:04.232091: I tensorflow/core/common_runtime/executor.cc:1197] [/device:CPU:0] (DEBUG INFO) Executor start aborting (this does not indicate an error and you can ignore this message): INVALID_ARGUMENT: You must feed a value for placeholder tensor 'Placeholder/_1' with dtype float and shape [500]\n",
      "\t [[{{node Placeholder/_1}}]]\n",
      "2023-05-14 10:00:04.236007: I tensorflow/core/common_runtime/executor.cc:1197] [/device:CPU:0] (DEBUG INFO) Executor start aborting (this does not indicate an error and you can ignore this message): INVALID_ARGUMENT: You must feed a value for placeholder tensor 'Placeholder/_1' with dtype float and shape [500]\n",
      "\t [[{{node Placeholder/_1}}]]\n",
      "2023-05-14 10:00:04.239661: I tensorflow/core/common_runtime/executor.cc:1197] [/device:CPU:0] (DEBUG INFO) Executor start aborting (this does not indicate an error and you can ignore this message): INVALID_ARGUMENT: You must feed a value for placeholder tensor 'Placeholder/_1' with dtype float and shape [500]\n",
      "\t [[{{node Placeholder/_1}}]]\n",
      "2023-05-14 10:00:04.243716: I tensorflow/core/common_runtime/executor.cc:1197] [/device:CPU:0] (DEBUG INFO) Executor start aborting (this does not indicate an error and you can ignore this message): INVALID_ARGUMENT: You must feed a value for placeholder tensor 'Placeholder/_1' with dtype float and shape [500]\n",
      "\t [[{{node Placeholder/_1}}]]\n",
      "2023-05-14 10:00:04.247164: I tensorflow/core/common_runtime/executor.cc:1197] [/device:CPU:0] (DEBUG INFO) Executor start aborting (this does not indicate an error and you can ignore this message): INVALID_ARGUMENT: You must feed a value for placeholder tensor 'Placeholder/_1' with dtype float and shape [500]\n",
      "\t [[{{node Placeholder/_1}}]]\n",
      "2023-05-14 10:00:04.250634: I tensorflow/core/common_runtime/executor.cc:1197] [/device:CPU:0] (DEBUG INFO) Executor start aborting (this does not indicate an error and you can ignore this message): INVALID_ARGUMENT: You must feed a value for placeholder tensor 'Placeholder/_1' with dtype float and shape [500]\n",
      "\t [[{{node Placeholder/_1}}]]\n",
      "2023-05-14 10:00:04.253928: I tensorflow/core/common_runtime/executor.cc:1197] [/device:CPU:0] (DEBUG INFO) Executor start aborting (this does not indicate an error and you can ignore this message): INVALID_ARGUMENT: You must feed a value for placeholder tensor 'Placeholder/_1' with dtype float and shape [500]\n",
      "\t [[{{node Placeholder/_1}}]]\n",
      "2023-05-14 10:00:04.257347: I tensorflow/core/common_runtime/executor.cc:1197] [/device:CPU:0] (DEBUG INFO) Executor start aborting (this does not indicate an error and you can ignore this message): INVALID_ARGUMENT: You must feed a value for placeholder tensor 'Placeholder/_1' with dtype float and shape [500]\n",
      "\t [[{{node Placeholder/_1}}]]\n",
      "2023-05-14 10:00:04.260665: I tensorflow/core/common_runtime/executor.cc:1197] [/device:CPU:0] (DEBUG INFO) Executor start aborting (this does not indicate an error and you can ignore this message): INVALID_ARGUMENT: You must feed a value for placeholder tensor 'Placeholder/_1' with dtype float and shape [500]\n",
      "\t [[{{node Placeholder/_1}}]]\n",
      "2023-05-14 10:00:04.264553: I tensorflow/core/common_runtime/executor.cc:1197] [/device:CPU:0] (DEBUG INFO) Executor start aborting (this does not indicate an error and you can ignore this message): INVALID_ARGUMENT: You must feed a value for placeholder tensor 'Placeholder/_1' with dtype float and shape [500]\n",
      "\t [[{{node Placeholder/_1}}]]\n"
     ]
    },
    {
     "name": "stdout",
     "output_type": "stream",
     "text": [
      "\n",
      "Testing for epoch 11 index 4:\n",
      "65/65 [==============================] - 0s 530us/step\n"
     ]
    },
    {
     "name": "stderr",
     "output_type": "stream",
     "text": [
      "2023-05-14 10:00:04.549086: I tensorflow/core/common_runtime/executor.cc:1197] [/device:CPU:0] (DEBUG INFO) Executor start aborting (this does not indicate an error and you can ignore this message): INVALID_ARGUMENT: You must feed a value for placeholder tensor 'Placeholder/_1' with dtype int64 and shape [1000]\n",
      "\t [[{{node Placeholder/_1}}]]\n",
      "2023-05-14 10:00:04.627408: I tensorflow/core/common_runtime/executor.cc:1197] [/device:CPU:0] (DEBUG INFO) Executor start aborting (this does not indicate an error and you can ignore this message): INVALID_ARGUMENT: You must feed a value for placeholder tensor 'Placeholder/_1' with dtype float and shape [500]\n",
      "\t [[{{node Placeholder/_1}}]]\n",
      "2023-05-14 10:00:04.632086: I tensorflow/core/common_runtime/executor.cc:1197] [/device:CPU:0] (DEBUG INFO) Executor start aborting (this does not indicate an error and you can ignore this message): INVALID_ARGUMENT: You must feed a value for placeholder tensor 'Placeholder/_1' with dtype float and shape [500]\n",
      "\t [[{{node Placeholder/_1}}]]\n",
      "2023-05-14 10:00:04.635744: I tensorflow/core/common_runtime/executor.cc:1197] [/device:CPU:0] (DEBUG INFO) Executor start aborting (this does not indicate an error and you can ignore this message): INVALID_ARGUMENT: You must feed a value for placeholder tensor 'Placeholder/_1' with dtype float and shape [500]\n",
      "\t [[{{node Placeholder/_1}}]]\n",
      "2023-05-14 10:00:04.639677: I tensorflow/core/common_runtime/executor.cc:1197] [/device:CPU:0] (DEBUG INFO) Executor start aborting (this does not indicate an error and you can ignore this message): INVALID_ARGUMENT: You must feed a value for placeholder tensor 'Placeholder/_1' with dtype float and shape [500]\n",
      "\t [[{{node Placeholder/_1}}]]\n",
      "2023-05-14 10:00:04.643119: I tensorflow/core/common_runtime/executor.cc:1197] [/device:CPU:0] (DEBUG INFO) Executor start aborting (this does not indicate an error and you can ignore this message): INVALID_ARGUMENT: You must feed a value for placeholder tensor 'Placeholder/_1' with dtype float and shape [500]\n",
      "\t [[{{node Placeholder/_1}}]]\n",
      "2023-05-14 10:00:04.647084: I tensorflow/core/common_runtime/executor.cc:1197] [/device:CPU:0] (DEBUG INFO) Executor start aborting (this does not indicate an error and you can ignore this message): INVALID_ARGUMENT: You must feed a value for placeholder tensor 'Placeholder/_1' with dtype float and shape [500]\n",
      "\t [[{{node Placeholder/_1}}]]\n",
      "2023-05-14 10:00:04.651812: I tensorflow/core/common_runtime/executor.cc:1197] [/device:CPU:0] (DEBUG INFO) Executor start aborting (this does not indicate an error and you can ignore this message): INVALID_ARGUMENT: You must feed a value for placeholder tensor 'Placeholder/_1' with dtype float and shape [500]\n",
      "\t [[{{node Placeholder/_1}}]]\n",
      "2023-05-14 10:00:04.655797: I tensorflow/core/common_runtime/executor.cc:1197] [/device:CPU:0] (DEBUG INFO) Executor start aborting (this does not indicate an error and you can ignore this message): INVALID_ARGUMENT: You must feed a value for placeholder tensor 'Placeholder/_1' with dtype float and shape [500]\n",
      "\t [[{{node Placeholder/_1}}]]\n",
      "2023-05-14 10:00:04.660184: I tensorflow/core/common_runtime/executor.cc:1197] [/device:CPU:0] (DEBUG INFO) Executor start aborting (this does not indicate an error and you can ignore this message): INVALID_ARGUMENT: You must feed a value for placeholder tensor 'Placeholder/_1' with dtype float and shape [500]\n",
      "\t [[{{node Placeholder/_1}}]]\n",
      "2023-05-14 10:00:04.663842: I tensorflow/core/common_runtime/executor.cc:1197] [/device:CPU:0] (DEBUG INFO) Executor start aborting (this does not indicate an error and you can ignore this message): INVALID_ARGUMENT: You must feed a value for placeholder tensor 'Placeholder/_1' with dtype float and shape [500]\n",
      "\t [[{{node Placeholder/_1}}]]\n"
     ]
    },
    {
     "name": "stdout",
     "output_type": "stream",
     "text": [
      "Epoch 12 of 60\n",
      "\n",
      "Testing for epoch 12 index 1:\n",
      "65/65 [==============================] - 0s 458us/step\n"
     ]
    },
    {
     "name": "stderr",
     "output_type": "stream",
     "text": [
      "2023-05-14 10:00:04.946997: I tensorflow/core/common_runtime/executor.cc:1197] [/device:CPU:0] (DEBUG INFO) Executor start aborting (this does not indicate an error and you can ignore this message): INVALID_ARGUMENT: You must feed a value for placeholder tensor 'Placeholder/_1' with dtype int64 and shape [1000]\n",
      "\t [[{{node Placeholder/_1}}]]\n",
      "2023-05-14 10:00:05.018422: I tensorflow/core/common_runtime/executor.cc:1197] [/device:CPU:0] (DEBUG INFO) Executor start aborting (this does not indicate an error and you can ignore this message): INVALID_ARGUMENT: You must feed a value for placeholder tensor 'Placeholder/_1' with dtype float and shape [500]\n",
      "\t [[{{node Placeholder/_1}}]]\n",
      "2023-05-14 10:00:05.022450: I tensorflow/core/common_runtime/executor.cc:1197] [/device:CPU:0] (DEBUG INFO) Executor start aborting (this does not indicate an error and you can ignore this message): INVALID_ARGUMENT: You must feed a value for placeholder tensor 'Placeholder/_1' with dtype float and shape [500]\n",
      "\t [[{{node Placeholder/_1}}]]\n",
      "2023-05-14 10:00:05.026433: I tensorflow/core/common_runtime/executor.cc:1197] [/device:CPU:0] (DEBUG INFO) Executor start aborting (this does not indicate an error and you can ignore this message): INVALID_ARGUMENT: You must feed a value for placeholder tensor 'Placeholder/_1' with dtype float and shape [500]\n",
      "\t [[{{node Placeholder/_1}}]]\n",
      "2023-05-14 10:00:05.029757: I tensorflow/core/common_runtime/executor.cc:1197] [/device:CPU:0] (DEBUG INFO) Executor start aborting (this does not indicate an error and you can ignore this message): INVALID_ARGUMENT: You must feed a value for placeholder tensor 'Placeholder/_1' with dtype float and shape [500]\n",
      "\t [[{{node Placeholder/_1}}]]\n",
      "2023-05-14 10:00:05.033074: I tensorflow/core/common_runtime/executor.cc:1197] [/device:CPU:0] (DEBUG INFO) Executor start aborting (this does not indicate an error and you can ignore this message): INVALID_ARGUMENT: You must feed a value for placeholder tensor 'Placeholder/_1' with dtype float and shape [500]\n",
      "\t [[{{node Placeholder/_1}}]]\n",
      "2023-05-14 10:00:05.036065: I tensorflow/core/common_runtime/executor.cc:1197] [/device:CPU:0] (DEBUG INFO) Executor start aborting (this does not indicate an error and you can ignore this message): INVALID_ARGUMENT: You must feed a value for placeholder tensor 'Placeholder/_1' with dtype float and shape [500]\n",
      "\t [[{{node Placeholder/_1}}]]\n",
      "2023-05-14 10:00:05.039020: I tensorflow/core/common_runtime/executor.cc:1197] [/device:CPU:0] (DEBUG INFO) Executor start aborting (this does not indicate an error and you can ignore this message): INVALID_ARGUMENT: You must feed a value for placeholder tensor 'Placeholder/_1' with dtype float and shape [500]\n",
      "\t [[{{node Placeholder/_1}}]]\n",
      "2023-05-14 10:00:05.042439: I tensorflow/core/common_runtime/executor.cc:1197] [/device:CPU:0] (DEBUG INFO) Executor start aborting (this does not indicate an error and you can ignore this message): INVALID_ARGUMENT: You must feed a value for placeholder tensor 'Placeholder/_1' with dtype float and shape [500]\n",
      "\t [[{{node Placeholder/_1}}]]\n",
      "2023-05-14 10:00:05.045767: I tensorflow/core/common_runtime/executor.cc:1197] [/device:CPU:0] (DEBUG INFO) Executor start aborting (this does not indicate an error and you can ignore this message): INVALID_ARGUMENT: You must feed a value for placeholder tensor 'Placeholder/_1' with dtype float and shape [500]\n",
      "\t [[{{node Placeholder/_1}}]]\n",
      "2023-05-14 10:00:05.049068: I tensorflow/core/common_runtime/executor.cc:1197] [/device:CPU:0] (DEBUG INFO) Executor start aborting (this does not indicate an error and you can ignore this message): INVALID_ARGUMENT: You must feed a value for placeholder tensor 'Placeholder/_1' with dtype float and shape [500]\n",
      "\t [[{{node Placeholder/_1}}]]\n"
     ]
    },
    {
     "name": "stdout",
     "output_type": "stream",
     "text": [
      "\n",
      "Testing for epoch 12 index 2:\n",
      "65/65 [==============================] - 0s 572us/step\n"
     ]
    },
    {
     "name": "stderr",
     "output_type": "stream",
     "text": [
      "2023-05-14 10:00:05.312817: I tensorflow/core/common_runtime/executor.cc:1197] [/device:CPU:0] (DEBUG INFO) Executor start aborting (this does not indicate an error and you can ignore this message): INVALID_ARGUMENT: You must feed a value for placeholder tensor 'Placeholder/_1' with dtype int64 and shape [1000]\n",
      "\t [[{{node Placeholder/_1}}]]\n",
      "2023-05-14 10:00:05.392126: I tensorflow/core/common_runtime/executor.cc:1197] [/device:CPU:0] (DEBUG INFO) Executor start aborting (this does not indicate an error and you can ignore this message): INVALID_ARGUMENT: You must feed a value for placeholder tensor 'Placeholder/_1' with dtype float and shape [500]\n",
      "\t [[{{node Placeholder/_1}}]]\n",
      "2023-05-14 10:00:05.396713: I tensorflow/core/common_runtime/executor.cc:1197] [/device:CPU:0] (DEBUG INFO) Executor start aborting (this does not indicate an error and you can ignore this message): INVALID_ARGUMENT: You must feed a value for placeholder tensor 'Placeholder/_1' with dtype float and shape [500]\n",
      "\t [[{{node Placeholder/_1}}]]\n",
      "2023-05-14 10:00:05.400419: I tensorflow/core/common_runtime/executor.cc:1197] [/device:CPU:0] (DEBUG INFO) Executor start aborting (this does not indicate an error and you can ignore this message): INVALID_ARGUMENT: You must feed a value for placeholder tensor 'Placeholder/_1' with dtype float and shape [500]\n",
      "\t [[{{node Placeholder/_1}}]]\n",
      "2023-05-14 10:00:05.404216: I tensorflow/core/common_runtime/executor.cc:1197] [/device:CPU:0] (DEBUG INFO) Executor start aborting (this does not indicate an error and you can ignore this message): INVALID_ARGUMENT: You must feed a value for placeholder tensor 'Placeholder/_1' with dtype float and shape [500]\n",
      "\t [[{{node Placeholder/_1}}]]\n",
      "2023-05-14 10:00:05.410047: I tensorflow/core/common_runtime/executor.cc:1197] [/device:CPU:0] (DEBUG INFO) Executor start aborting (this does not indicate an error and you can ignore this message): INVALID_ARGUMENT: You must feed a value for placeholder tensor 'Placeholder/_1' with dtype float and shape [500]\n",
      "\t [[{{node Placeholder/_1}}]]\n",
      "2023-05-14 10:00:05.413986: I tensorflow/core/common_runtime/executor.cc:1197] [/device:CPU:0] (DEBUG INFO) Executor start aborting (this does not indicate an error and you can ignore this message): INVALID_ARGUMENT: You must feed a value for placeholder tensor 'Placeholder/_1' with dtype float and shape [500]\n",
      "\t [[{{node Placeholder/_1}}]]\n",
      "2023-05-14 10:00:05.417926: I tensorflow/core/common_runtime/executor.cc:1197] [/device:CPU:0] (DEBUG INFO) Executor start aborting (this does not indicate an error and you can ignore this message): INVALID_ARGUMENT: You must feed a value for placeholder tensor 'Placeholder/_1' with dtype float and shape [500]\n",
      "\t [[{{node Placeholder/_1}}]]\n",
      "2023-05-14 10:00:05.423353: I tensorflow/core/common_runtime/executor.cc:1197] [/device:CPU:0] (DEBUG INFO) Executor start aborting (this does not indicate an error and you can ignore this message): INVALID_ARGUMENT: You must feed a value for placeholder tensor 'Placeholder/_1' with dtype float and shape [500]\n",
      "\t [[{{node Placeholder/_1}}]]\n",
      "2023-05-14 10:00:05.427148: I tensorflow/core/common_runtime/executor.cc:1197] [/device:CPU:0] (DEBUG INFO) Executor start aborting (this does not indicate an error and you can ignore this message): INVALID_ARGUMENT: You must feed a value for placeholder tensor 'Placeholder/_1' with dtype float and shape [500]\n",
      "\t [[{{node Placeholder/_1}}]]\n",
      "2023-05-14 10:00:05.431141: I tensorflow/core/common_runtime/executor.cc:1197] [/device:CPU:0] (DEBUG INFO) Executor start aborting (this does not indicate an error and you can ignore this message): INVALID_ARGUMENT: You must feed a value for placeholder tensor 'Placeholder/_1' with dtype float and shape [500]\n",
      "\t [[{{node Placeholder/_1}}]]\n"
     ]
    },
    {
     "name": "stdout",
     "output_type": "stream",
     "text": [
      "\n",
      "Testing for epoch 12 index 3:\n",
      "65/65 [==============================] - 0s 464us/step\n"
     ]
    },
    {
     "name": "stderr",
     "output_type": "stream",
     "text": [
      "2023-05-14 10:00:05.695722: I tensorflow/core/common_runtime/executor.cc:1197] [/device:CPU:0] (DEBUG INFO) Executor start aborting (this does not indicate an error and you can ignore this message): INVALID_ARGUMENT: You must feed a value for placeholder tensor 'Placeholder/_1' with dtype int64 and shape [1000]\n",
      "\t [[{{node Placeholder/_1}}]]\n",
      "2023-05-14 10:00:05.765558: I tensorflow/core/common_runtime/executor.cc:1197] [/device:CPU:0] (DEBUG INFO) Executor start aborting (this does not indicate an error and you can ignore this message): INVALID_ARGUMENT: You must feed a value for placeholder tensor 'Placeholder/_1' with dtype float and shape [500]\n",
      "\t [[{{node Placeholder/_1}}]]\n",
      "2023-05-14 10:00:05.769432: I tensorflow/core/common_runtime/executor.cc:1197] [/device:CPU:0] (DEBUG INFO) Executor start aborting (this does not indicate an error and you can ignore this message): INVALID_ARGUMENT: You must feed a value for placeholder tensor 'Placeholder/_1' with dtype float and shape [500]\n",
      "\t [[{{node Placeholder/_1}}]]\n",
      "2023-05-14 10:00:05.772481: I tensorflow/core/common_runtime/executor.cc:1197] [/device:CPU:0] (DEBUG INFO) Executor start aborting (this does not indicate an error and you can ignore this message): INVALID_ARGUMENT: You must feed a value for placeholder tensor 'Placeholder/_1' with dtype float and shape [500]\n",
      "\t [[{{node Placeholder/_1}}]]\n",
      "2023-05-14 10:00:05.776040: I tensorflow/core/common_runtime/executor.cc:1197] [/device:CPU:0] (DEBUG INFO) Executor start aborting (this does not indicate an error and you can ignore this message): INVALID_ARGUMENT: You must feed a value for placeholder tensor 'Placeholder/_1' with dtype float and shape [500]\n",
      "\t [[{{node Placeholder/_1}}]]\n",
      "2023-05-14 10:00:05.778985: I tensorflow/core/common_runtime/executor.cc:1197] [/device:CPU:0] (DEBUG INFO) Executor start aborting (this does not indicate an error and you can ignore this message): INVALID_ARGUMENT: You must feed a value for placeholder tensor 'Placeholder/_1' with dtype float and shape [500]\n",
      "\t [[{{node Placeholder/_1}}]]\n",
      "2023-05-14 10:00:05.782468: I tensorflow/core/common_runtime/executor.cc:1197] [/device:CPU:0] (DEBUG INFO) Executor start aborting (this does not indicate an error and you can ignore this message): INVALID_ARGUMENT: You must feed a value for placeholder tensor 'Placeholder/_1' with dtype float and shape [500]\n",
      "\t [[{{node Placeholder/_1}}]]\n",
      "2023-05-14 10:00:05.785380: I tensorflow/core/common_runtime/executor.cc:1197] [/device:CPU:0] (DEBUG INFO) Executor start aborting (this does not indicate an error and you can ignore this message): INVALID_ARGUMENT: You must feed a value for placeholder tensor 'Placeholder/_1' with dtype float and shape [500]\n",
      "\t [[{{node Placeholder/_1}}]]\n",
      "2023-05-14 10:00:05.788305: I tensorflow/core/common_runtime/executor.cc:1197] [/device:CPU:0] (DEBUG INFO) Executor start aborting (this does not indicate an error and you can ignore this message): INVALID_ARGUMENT: You must feed a value for placeholder tensor 'Placeholder/_1' with dtype float and shape [500]\n",
      "\t [[{{node Placeholder/_1}}]]\n",
      "2023-05-14 10:00:05.791271: I tensorflow/core/common_runtime/executor.cc:1197] [/device:CPU:0] (DEBUG INFO) Executor start aborting (this does not indicate an error and you can ignore this message): INVALID_ARGUMENT: You must feed a value for placeholder tensor 'Placeholder/_1' with dtype float and shape [500]\n",
      "\t [[{{node Placeholder/_1}}]]\n",
      "2023-05-14 10:00:05.794066: I tensorflow/core/common_runtime/executor.cc:1197] [/device:CPU:0] (DEBUG INFO) Executor start aborting (this does not indicate an error and you can ignore this message): INVALID_ARGUMENT: You must feed a value for placeholder tensor 'Placeholder/_1' with dtype float and shape [500]\n",
      "\t [[{{node Placeholder/_1}}]]\n"
     ]
    },
    {
     "name": "stdout",
     "output_type": "stream",
     "text": [
      "\n",
      "Testing for epoch 12 index 4:\n",
      "65/65 [==============================] - 0s 556us/step\n"
     ]
    },
    {
     "name": "stderr",
     "output_type": "stream",
     "text": [
      "2023-05-14 10:00:06.063210: I tensorflow/core/common_runtime/executor.cc:1197] [/device:CPU:0] (DEBUG INFO) Executor start aborting (this does not indicate an error and you can ignore this message): INVALID_ARGUMENT: You must feed a value for placeholder tensor 'Placeholder/_1' with dtype int64 and shape [1000]\n",
      "\t [[{{node Placeholder/_1}}]]\n",
      "2023-05-14 10:00:06.145449: I tensorflow/core/common_runtime/executor.cc:1197] [/device:CPU:0] (DEBUG INFO) Executor start aborting (this does not indicate an error and you can ignore this message): INVALID_ARGUMENT: You must feed a value for placeholder tensor 'Placeholder/_1' with dtype float and shape [500]\n",
      "\t [[{{node Placeholder/_1}}]]\n",
      "2023-05-14 10:00:06.149312: I tensorflow/core/common_runtime/executor.cc:1197] [/device:CPU:0] (DEBUG INFO) Executor start aborting (this does not indicate an error and you can ignore this message): INVALID_ARGUMENT: You must feed a value for placeholder tensor 'Placeholder/_1' with dtype float and shape [500]\n",
      "\t [[{{node Placeholder/_1}}]]\n",
      "2023-05-14 10:00:06.153138: I tensorflow/core/common_runtime/executor.cc:1197] [/device:CPU:0] (DEBUG INFO) Executor start aborting (this does not indicate an error and you can ignore this message): INVALID_ARGUMENT: You must feed a value for placeholder tensor 'Placeholder/_1' with dtype float and shape [500]\n",
      "\t [[{{node Placeholder/_1}}]]\n",
      "2023-05-14 10:00:06.156817: I tensorflow/core/common_runtime/executor.cc:1197] [/device:CPU:0] (DEBUG INFO) Executor start aborting (this does not indicate an error and you can ignore this message): INVALID_ARGUMENT: You must feed a value for placeholder tensor 'Placeholder/_1' with dtype float and shape [500]\n",
      "\t [[{{node Placeholder/_1}}]]\n",
      "2023-05-14 10:00:06.160834: I tensorflow/core/common_runtime/executor.cc:1197] [/device:CPU:0] (DEBUG INFO) Executor start aborting (this does not indicate an error and you can ignore this message): INVALID_ARGUMENT: You must feed a value for placeholder tensor 'Placeholder/_1' with dtype float and shape [500]\n",
      "\t [[{{node Placeholder/_1}}]]\n",
      "2023-05-14 10:00:06.165521: I tensorflow/core/common_runtime/executor.cc:1197] [/device:CPU:0] (DEBUG INFO) Executor start aborting (this does not indicate an error and you can ignore this message): INVALID_ARGUMENT: You must feed a value for placeholder tensor 'Placeholder/_1' with dtype float and shape [500]\n",
      "\t [[{{node Placeholder/_1}}]]\n",
      "2023-05-14 10:00:06.169175: I tensorflow/core/common_runtime/executor.cc:1197] [/device:CPU:0] (DEBUG INFO) Executor start aborting (this does not indicate an error and you can ignore this message): INVALID_ARGUMENT: You must feed a value for placeholder tensor 'Placeholder/_1' with dtype float and shape [500]\n",
      "\t [[{{node Placeholder/_1}}]]\n",
      "2023-05-14 10:00:06.173740: I tensorflow/core/common_runtime/executor.cc:1197] [/device:CPU:0] (DEBUG INFO) Executor start aborting (this does not indicate an error and you can ignore this message): INVALID_ARGUMENT: You must feed a value for placeholder tensor 'Placeholder/_1' with dtype float and shape [500]\n",
      "\t [[{{node Placeholder/_1}}]]\n",
      "2023-05-14 10:00:06.177235: I tensorflow/core/common_runtime/executor.cc:1197] [/device:CPU:0] (DEBUG INFO) Executor start aborting (this does not indicate an error and you can ignore this message): INVALID_ARGUMENT: You must feed a value for placeholder tensor 'Placeholder/_1' with dtype float and shape [500]\n",
      "\t [[{{node Placeholder/_1}}]]\n",
      "2023-05-14 10:00:06.180896: I tensorflow/core/common_runtime/executor.cc:1197] [/device:CPU:0] (DEBUG INFO) Executor start aborting (this does not indicate an error and you can ignore this message): INVALID_ARGUMENT: You must feed a value for placeholder tensor 'Placeholder/_1' with dtype float and shape [500]\n",
      "\t [[{{node Placeholder/_1}}]]\n"
     ]
    },
    {
     "name": "stdout",
     "output_type": "stream",
     "text": [
      "Epoch 13 of 60\n",
      "\n",
      "Testing for epoch 13 index 1:\n",
      "65/65 [==============================] - 0s 509us/step\n"
     ]
    },
    {
     "name": "stderr",
     "output_type": "stream",
     "text": [
      "2023-05-14 10:00:06.454481: I tensorflow/core/common_runtime/executor.cc:1197] [/device:CPU:0] (DEBUG INFO) Executor start aborting (this does not indicate an error and you can ignore this message): INVALID_ARGUMENT: You must feed a value for placeholder tensor 'Placeholder/_1' with dtype int64 and shape [1000]\n",
      "\t [[{{node Placeholder/_1}}]]\n",
      "2023-05-14 10:00:06.529544: I tensorflow/core/common_runtime/executor.cc:1197] [/device:CPU:0] (DEBUG INFO) Executor start aborting (this does not indicate an error and you can ignore this message): INVALID_ARGUMENT: You must feed a value for placeholder tensor 'Placeholder/_1' with dtype float and shape [500]\n",
      "\t [[{{node Placeholder/_1}}]]\n",
      "2023-05-14 10:00:06.534147: I tensorflow/core/common_runtime/executor.cc:1197] [/device:CPU:0] (DEBUG INFO) Executor start aborting (this does not indicate an error and you can ignore this message): INVALID_ARGUMENT: You must feed a value for placeholder tensor 'Placeholder/_1' with dtype float and shape [500]\n",
      "\t [[{{node Placeholder/_1}}]]\n",
      "2023-05-14 10:00:06.537590: I tensorflow/core/common_runtime/executor.cc:1197] [/device:CPU:0] (DEBUG INFO) Executor start aborting (this does not indicate an error and you can ignore this message): INVALID_ARGUMENT: You must feed a value for placeholder tensor 'Placeholder/_1' with dtype float and shape [500]\n",
      "\t [[{{node Placeholder/_1}}]]\n",
      "2023-05-14 10:00:06.541085: I tensorflow/core/common_runtime/executor.cc:1197] [/device:CPU:0] (DEBUG INFO) Executor start aborting (this does not indicate an error and you can ignore this message): INVALID_ARGUMENT: You must feed a value for placeholder tensor 'Placeholder/_1' with dtype float and shape [500]\n",
      "\t [[{{node Placeholder/_1}}]]\n",
      "2023-05-14 10:00:06.544333: I tensorflow/core/common_runtime/executor.cc:1197] [/device:CPU:0] (DEBUG INFO) Executor start aborting (this does not indicate an error and you can ignore this message): INVALID_ARGUMENT: You must feed a value for placeholder tensor 'Placeholder/_1' with dtype float and shape [500]\n",
      "\t [[{{node Placeholder/_1}}]]\n",
      "2023-05-14 10:00:06.548822: I tensorflow/core/common_runtime/executor.cc:1197] [/device:CPU:0] (DEBUG INFO) Executor start aborting (this does not indicate an error and you can ignore this message): INVALID_ARGUMENT: You must feed a value for placeholder tensor 'Placeholder/_1' with dtype float and shape [500]\n",
      "\t [[{{node Placeholder/_1}}]]\n",
      "2023-05-14 10:00:06.552193: I tensorflow/core/common_runtime/executor.cc:1197] [/device:CPU:0] (DEBUG INFO) Executor start aborting (this does not indicate an error and you can ignore this message): INVALID_ARGUMENT: You must feed a value for placeholder tensor 'Placeholder/_1' with dtype float and shape [500]\n",
      "\t [[{{node Placeholder/_1}}]]\n",
      "2023-05-14 10:00:06.555944: I tensorflow/core/common_runtime/executor.cc:1197] [/device:CPU:0] (DEBUG INFO) Executor start aborting (this does not indicate an error and you can ignore this message): INVALID_ARGUMENT: You must feed a value for placeholder tensor 'Placeholder/_1' with dtype float and shape [500]\n",
      "\t [[{{node Placeholder/_1}}]]\n",
      "2023-05-14 10:00:06.559102: I tensorflow/core/common_runtime/executor.cc:1197] [/device:CPU:0] (DEBUG INFO) Executor start aborting (this does not indicate an error and you can ignore this message): INVALID_ARGUMENT: You must feed a value for placeholder tensor 'Placeholder/_1' with dtype float and shape [500]\n",
      "\t [[{{node Placeholder/_1}}]]\n",
      "2023-05-14 10:00:06.562583: I tensorflow/core/common_runtime/executor.cc:1197] [/device:CPU:0] (DEBUG INFO) Executor start aborting (this does not indicate an error and you can ignore this message): INVALID_ARGUMENT: You must feed a value for placeholder tensor 'Placeholder/_1' with dtype float and shape [500]\n",
      "\t [[{{node Placeholder/_1}}]]\n"
     ]
    },
    {
     "name": "stdout",
     "output_type": "stream",
     "text": [
      "\n",
      "Testing for epoch 13 index 2:\n",
      "65/65 [==============================] - 0s 569us/step\n"
     ]
    },
    {
     "name": "stderr",
     "output_type": "stream",
     "text": [
      "2023-05-14 10:00:06.826445: I tensorflow/core/common_runtime/executor.cc:1197] [/device:CPU:0] (DEBUG INFO) Executor start aborting (this does not indicate an error and you can ignore this message): INVALID_ARGUMENT: You must feed a value for placeholder tensor 'Placeholder/_1' with dtype int64 and shape [1000]\n",
      "\t [[{{node Placeholder/_1}}]]\n",
      "2023-05-14 10:00:06.906435: I tensorflow/core/common_runtime/executor.cc:1197] [/device:CPU:0] (DEBUG INFO) Executor start aborting (this does not indicate an error and you can ignore this message): INVALID_ARGUMENT: You must feed a value for placeholder tensor 'Placeholder/_1' with dtype float and shape [500]\n",
      "\t [[{{node Placeholder/_1}}]]\n",
      "2023-05-14 10:00:06.911068: I tensorflow/core/common_runtime/executor.cc:1197] [/device:CPU:0] (DEBUG INFO) Executor start aborting (this does not indicate an error and you can ignore this message): INVALID_ARGUMENT: You must feed a value for placeholder tensor 'Placeholder/_1' with dtype float and shape [500]\n",
      "\t [[{{node Placeholder/_1}}]]\n",
      "2023-05-14 10:00:06.915956: I tensorflow/core/common_runtime/executor.cc:1197] [/device:CPU:0] (DEBUG INFO) Executor start aborting (this does not indicate an error and you can ignore this message): INVALID_ARGUMENT: You must feed a value for placeholder tensor 'Placeholder/_1' with dtype float and shape [500]\n",
      "\t [[{{node Placeholder/_1}}]]\n",
      "2023-05-14 10:00:06.919647: I tensorflow/core/common_runtime/executor.cc:1197] [/device:CPU:0] (DEBUG INFO) Executor start aborting (this does not indicate an error and you can ignore this message): INVALID_ARGUMENT: You must feed a value for placeholder tensor 'Placeholder/_1' with dtype float and shape [500]\n",
      "\t [[{{node Placeholder/_1}}]]\n",
      "2023-05-14 10:00:06.923508: I tensorflow/core/common_runtime/executor.cc:1197] [/device:CPU:0] (DEBUG INFO) Executor start aborting (this does not indicate an error and you can ignore this message): INVALID_ARGUMENT: You must feed a value for placeholder tensor 'Placeholder/_1' with dtype float and shape [500]\n",
      "\t [[{{node Placeholder/_1}}]]\n",
      "2023-05-14 10:00:06.926859: I tensorflow/core/common_runtime/executor.cc:1197] [/device:CPU:0] (DEBUG INFO) Executor start aborting (this does not indicate an error and you can ignore this message): INVALID_ARGUMENT: You must feed a value for placeholder tensor 'Placeholder/_1' with dtype float and shape [500]\n",
      "\t [[{{node Placeholder/_1}}]]\n",
      "2023-05-14 10:00:06.930629: I tensorflow/core/common_runtime/executor.cc:1197] [/device:CPU:0] (DEBUG INFO) Executor start aborting (this does not indicate an error and you can ignore this message): INVALID_ARGUMENT: You must feed a value for placeholder tensor 'Placeholder/_1' with dtype float and shape [500]\n",
      "\t [[{{node Placeholder/_1}}]]\n",
      "2023-05-14 10:00:06.933913: I tensorflow/core/common_runtime/executor.cc:1197] [/device:CPU:0] (DEBUG INFO) Executor start aborting (this does not indicate an error and you can ignore this message): INVALID_ARGUMENT: You must feed a value for placeholder tensor 'Placeholder/_1' with dtype float and shape [500]\n",
      "\t [[{{node Placeholder/_1}}]]\n",
      "2023-05-14 10:00:06.937523: I tensorflow/core/common_runtime/executor.cc:1197] [/device:CPU:0] (DEBUG INFO) Executor start aborting (this does not indicate an error and you can ignore this message): INVALID_ARGUMENT: You must feed a value for placeholder tensor 'Placeholder/_1' with dtype float and shape [500]\n",
      "\t [[{{node Placeholder/_1}}]]\n",
      "2023-05-14 10:00:06.940631: I tensorflow/core/common_runtime/executor.cc:1197] [/device:CPU:0] (DEBUG INFO) Executor start aborting (this does not indicate an error and you can ignore this message): INVALID_ARGUMENT: You must feed a value for placeholder tensor 'Placeholder/_1' with dtype float and shape [500]\n",
      "\t [[{{node Placeholder/_1}}]]\n"
     ]
    },
    {
     "name": "stdout",
     "output_type": "stream",
     "text": [
      "\n",
      "Testing for epoch 13 index 3:\n",
      "65/65 [==============================] - 0s 529us/step\n"
     ]
    },
    {
     "name": "stderr",
     "output_type": "stream",
     "text": [
      "2023-05-14 10:00:07.208994: I tensorflow/core/common_runtime/executor.cc:1197] [/device:CPU:0] (DEBUG INFO) Executor start aborting (this does not indicate an error and you can ignore this message): INVALID_ARGUMENT: You must feed a value for placeholder tensor 'Placeholder/_1' with dtype int64 and shape [1000]\n",
      "\t [[{{node Placeholder/_1}}]]\n",
      "2023-05-14 10:00:07.287550: I tensorflow/core/common_runtime/executor.cc:1197] [/device:CPU:0] (DEBUG INFO) Executor start aborting (this does not indicate an error and you can ignore this message): INVALID_ARGUMENT: You must feed a value for placeholder tensor 'Placeholder/_1' with dtype float and shape [500]\n",
      "\t [[{{node Placeholder/_1}}]]\n",
      "2023-05-14 10:00:07.292610: I tensorflow/core/common_runtime/executor.cc:1197] [/device:CPU:0] (DEBUG INFO) Executor start aborting (this does not indicate an error and you can ignore this message): INVALID_ARGUMENT: You must feed a value for placeholder tensor 'Placeholder/_1' with dtype float and shape [500]\n",
      "\t [[{{node Placeholder/_1}}]]\n",
      "2023-05-14 10:00:07.295843: I tensorflow/core/common_runtime/executor.cc:1197] [/device:CPU:0] (DEBUG INFO) Executor start aborting (this does not indicate an error and you can ignore this message): INVALID_ARGUMENT: You must feed a value for placeholder tensor 'Placeholder/_1' with dtype float and shape [500]\n",
      "\t [[{{node Placeholder/_1}}]]\n",
      "2023-05-14 10:00:07.299369: I tensorflow/core/common_runtime/executor.cc:1197] [/device:CPU:0] (DEBUG INFO) Executor start aborting (this does not indicate an error and you can ignore this message): INVALID_ARGUMENT: You must feed a value for placeholder tensor 'Placeholder/_1' with dtype float and shape [500]\n",
      "\t [[{{node Placeholder/_1}}]]\n",
      "2023-05-14 10:00:07.302479: I tensorflow/core/common_runtime/executor.cc:1197] [/device:CPU:0] (DEBUG INFO) Executor start aborting (this does not indicate an error and you can ignore this message): INVALID_ARGUMENT: You must feed a value for placeholder tensor 'Placeholder/_1' with dtype float and shape [500]\n",
      "\t [[{{node Placeholder/_1}}]]\n",
      "2023-05-14 10:00:07.306103: I tensorflow/core/common_runtime/executor.cc:1197] [/device:CPU:0] (DEBUG INFO) Executor start aborting (this does not indicate an error and you can ignore this message): INVALID_ARGUMENT: You must feed a value for placeholder tensor 'Placeholder/_1' with dtype float and shape [500]\n",
      "\t [[{{node Placeholder/_1}}]]\n",
      "2023-05-14 10:00:07.309296: I tensorflow/core/common_runtime/executor.cc:1197] [/device:CPU:0] (DEBUG INFO) Executor start aborting (this does not indicate an error and you can ignore this message): INVALID_ARGUMENT: You must feed a value for placeholder tensor 'Placeholder/_1' with dtype float and shape [500]\n",
      "\t [[{{node Placeholder/_1}}]]\n",
      "2023-05-14 10:00:07.313197: I tensorflow/core/common_runtime/executor.cc:1197] [/device:CPU:0] (DEBUG INFO) Executor start aborting (this does not indicate an error and you can ignore this message): INVALID_ARGUMENT: You must feed a value for placeholder tensor 'Placeholder/_1' with dtype float and shape [500]\n",
      "\t [[{{node Placeholder/_1}}]]\n",
      "2023-05-14 10:00:07.316346: I tensorflow/core/common_runtime/executor.cc:1197] [/device:CPU:0] (DEBUG INFO) Executor start aborting (this does not indicate an error and you can ignore this message): INVALID_ARGUMENT: You must feed a value for placeholder tensor 'Placeholder/_1' with dtype float and shape [500]\n",
      "\t [[{{node Placeholder/_1}}]]\n",
      "2023-05-14 10:00:07.320081: I tensorflow/core/common_runtime/executor.cc:1197] [/device:CPU:0] (DEBUG INFO) Executor start aborting (this does not indicate an error and you can ignore this message): INVALID_ARGUMENT: You must feed a value for placeholder tensor 'Placeholder/_1' with dtype float and shape [500]\n",
      "\t [[{{node Placeholder/_1}}]]\n"
     ]
    },
    {
     "name": "stdout",
     "output_type": "stream",
     "text": [
      "\n",
      "Testing for epoch 13 index 4:\n",
      "65/65 [==============================] - 0s 525us/step\n"
     ]
    },
    {
     "name": "stderr",
     "output_type": "stream",
     "text": [
      "2023-05-14 10:00:07.583599: I tensorflow/core/common_runtime/executor.cc:1197] [/device:CPU:0] (DEBUG INFO) Executor start aborting (this does not indicate an error and you can ignore this message): INVALID_ARGUMENT: You must feed a value for placeholder tensor 'Placeholder/_1' with dtype int64 and shape [1000]\n",
      "\t [[{{node Placeholder/_1}}]]\n",
      "2023-05-14 10:00:07.661665: I tensorflow/core/common_runtime/executor.cc:1197] [/device:CPU:0] (DEBUG INFO) Executor start aborting (this does not indicate an error and you can ignore this message): INVALID_ARGUMENT: You must feed a value for placeholder tensor 'Placeholder/_1' with dtype float and shape [500]\n",
      "\t [[{{node Placeholder/_1}}]]\n",
      "2023-05-14 10:00:07.666329: I tensorflow/core/common_runtime/executor.cc:1197] [/device:CPU:0] (DEBUG INFO) Executor start aborting (this does not indicate an error and you can ignore this message): INVALID_ARGUMENT: You must feed a value for placeholder tensor 'Placeholder/_1' with dtype float and shape [500]\n",
      "\t [[{{node Placeholder/_1}}]]\n",
      "2023-05-14 10:00:07.670136: I tensorflow/core/common_runtime/executor.cc:1197] [/device:CPU:0] (DEBUG INFO) Executor start aborting (this does not indicate an error and you can ignore this message): INVALID_ARGUMENT: You must feed a value for placeholder tensor 'Placeholder/_1' with dtype float and shape [500]\n",
      "\t [[{{node Placeholder/_1}}]]\n",
      "2023-05-14 10:00:07.674237: I tensorflow/core/common_runtime/executor.cc:1197] [/device:CPU:0] (DEBUG INFO) Executor start aborting (this does not indicate an error and you can ignore this message): INVALID_ARGUMENT: You must feed a value for placeholder tensor 'Placeholder/_1' with dtype float and shape [500]\n",
      "\t [[{{node Placeholder/_1}}]]\n",
      "2023-05-14 10:00:07.677425: I tensorflow/core/common_runtime/executor.cc:1197] [/device:CPU:0] (DEBUG INFO) Executor start aborting (this does not indicate an error and you can ignore this message): INVALID_ARGUMENT: You must feed a value for placeholder tensor 'Placeholder/_1' with dtype float and shape [500]\n",
      "\t [[{{node Placeholder/_1}}]]\n",
      "2023-05-14 10:00:07.680782: I tensorflow/core/common_runtime/executor.cc:1197] [/device:CPU:0] (DEBUG INFO) Executor start aborting (this does not indicate an error and you can ignore this message): INVALID_ARGUMENT: You must feed a value for placeholder tensor 'Placeholder/_1' with dtype float and shape [500]\n",
      "\t [[{{node Placeholder/_1}}]]\n",
      "2023-05-14 10:00:07.683910: I tensorflow/core/common_runtime/executor.cc:1197] [/device:CPU:0] (DEBUG INFO) Executor start aborting (this does not indicate an error and you can ignore this message): INVALID_ARGUMENT: You must feed a value for placeholder tensor 'Placeholder/_1' with dtype float and shape [500]\n",
      "\t [[{{node Placeholder/_1}}]]\n",
      "2023-05-14 10:00:07.687394: I tensorflow/core/common_runtime/executor.cc:1197] [/device:CPU:0] (DEBUG INFO) Executor start aborting (this does not indicate an error and you can ignore this message): INVALID_ARGUMENT: You must feed a value for placeholder tensor 'Placeholder/_1' with dtype float and shape [500]\n",
      "\t [[{{node Placeholder/_1}}]]\n",
      "2023-05-14 10:00:07.690499: I tensorflow/core/common_runtime/executor.cc:1197] [/device:CPU:0] (DEBUG INFO) Executor start aborting (this does not indicate an error and you can ignore this message): INVALID_ARGUMENT: You must feed a value for placeholder tensor 'Placeholder/_1' with dtype float and shape [500]\n",
      "\t [[{{node Placeholder/_1}}]]\n",
      "2023-05-14 10:00:07.694136: I tensorflow/core/common_runtime/executor.cc:1197] [/device:CPU:0] (DEBUG INFO) Executor start aborting (this does not indicate an error and you can ignore this message): INVALID_ARGUMENT: You must feed a value for placeholder tensor 'Placeholder/_1' with dtype float and shape [500]\n",
      "\t [[{{node Placeholder/_1}}]]\n"
     ]
    },
    {
     "name": "stdout",
     "output_type": "stream",
     "text": [
      "Epoch 14 of 60\n",
      "\n",
      "Testing for epoch 14 index 1:\n",
      "65/65 [==============================] - 0s 509us/step\n"
     ]
    },
    {
     "name": "stderr",
     "output_type": "stream",
     "text": [
      "2023-05-14 10:00:07.964748: I tensorflow/core/common_runtime/executor.cc:1197] [/device:CPU:0] (DEBUG INFO) Executor start aborting (this does not indicate an error and you can ignore this message): INVALID_ARGUMENT: You must feed a value for placeholder tensor 'Placeholder/_1' with dtype int64 and shape [1000]\n",
      "\t [[{{node Placeholder/_1}}]]\n",
      "2023-05-14 10:00:08.041800: I tensorflow/core/common_runtime/executor.cc:1197] [/device:CPU:0] (DEBUG INFO) Executor start aborting (this does not indicate an error and you can ignore this message): INVALID_ARGUMENT: You must feed a value for placeholder tensor 'Placeholder/_1' with dtype float and shape [500]\n",
      "\t [[{{node Placeholder/_1}}]]\n",
      "2023-05-14 10:00:08.045490: I tensorflow/core/common_runtime/executor.cc:1197] [/device:CPU:0] (DEBUG INFO) Executor start aborting (this does not indicate an error and you can ignore this message): INVALID_ARGUMENT: You must feed a value for placeholder tensor 'Placeholder/_1' with dtype float and shape [500]\n",
      "\t [[{{node Placeholder/_1}}]]\n",
      "2023-05-14 10:00:08.048961: I tensorflow/core/common_runtime/executor.cc:1197] [/device:CPU:0] (DEBUG INFO) Executor start aborting (this does not indicate an error and you can ignore this message): INVALID_ARGUMENT: You must feed a value for placeholder tensor 'Placeholder/_1' with dtype float and shape [500]\n",
      "\t [[{{node Placeholder/_1}}]]\n",
      "2023-05-14 10:00:08.052128: I tensorflow/core/common_runtime/executor.cc:1197] [/device:CPU:0] (DEBUG INFO) Executor start aborting (this does not indicate an error and you can ignore this message): INVALID_ARGUMENT: You must feed a value for placeholder tensor 'Placeholder/_1' with dtype float and shape [500]\n",
      "\t [[{{node Placeholder/_1}}]]\n",
      "2023-05-14 10:00:08.055670: I tensorflow/core/common_runtime/executor.cc:1197] [/device:CPU:0] (DEBUG INFO) Executor start aborting (this does not indicate an error and you can ignore this message): INVALID_ARGUMENT: You must feed a value for placeholder tensor 'Placeholder/_1' with dtype float and shape [500]\n",
      "\t [[{{node Placeholder/_1}}]]\n",
      "2023-05-14 10:00:08.058794: I tensorflow/core/common_runtime/executor.cc:1197] [/device:CPU:0] (DEBUG INFO) Executor start aborting (this does not indicate an error and you can ignore this message): INVALID_ARGUMENT: You must feed a value for placeholder tensor 'Placeholder/_1' with dtype float and shape [500]\n",
      "\t [[{{node Placeholder/_1}}]]\n",
      "2023-05-14 10:00:08.062816: I tensorflow/core/common_runtime/executor.cc:1197] [/device:CPU:0] (DEBUG INFO) Executor start aborting (this does not indicate an error and you can ignore this message): INVALID_ARGUMENT: You must feed a value for placeholder tensor 'Placeholder/_1' with dtype float and shape [500]\n",
      "\t [[{{node Placeholder/_1}}]]\n",
      "2023-05-14 10:00:08.065883: I tensorflow/core/common_runtime/executor.cc:1197] [/device:CPU:0] (DEBUG INFO) Executor start aborting (this does not indicate an error and you can ignore this message): INVALID_ARGUMENT: You must feed a value for placeholder tensor 'Placeholder/_1' with dtype float and shape [500]\n",
      "\t [[{{node Placeholder/_1}}]]\n",
      "2023-05-14 10:00:08.069498: I tensorflow/core/common_runtime/executor.cc:1197] [/device:CPU:0] (DEBUG INFO) Executor start aborting (this does not indicate an error and you can ignore this message): INVALID_ARGUMENT: You must feed a value for placeholder tensor 'Placeholder/_1' with dtype float and shape [500]\n",
      "\t [[{{node Placeholder/_1}}]]\n",
      "2023-05-14 10:00:08.072769: I tensorflow/core/common_runtime/executor.cc:1197] [/device:CPU:0] (DEBUG INFO) Executor start aborting (this does not indicate an error and you can ignore this message): INVALID_ARGUMENT: You must feed a value for placeholder tensor 'Placeholder/_1' with dtype float and shape [500]\n",
      "\t [[{{node Placeholder/_1}}]]\n"
     ]
    },
    {
     "name": "stdout",
     "output_type": "stream",
     "text": [
      "\n",
      "Testing for epoch 14 index 2:\n",
      "65/65 [==============================] - 0s 500us/step\n"
     ]
    },
    {
     "name": "stderr",
     "output_type": "stream",
     "text": [
      "2023-05-14 10:00:08.342057: I tensorflow/core/common_runtime/executor.cc:1197] [/device:CPU:0] (DEBUG INFO) Executor start aborting (this does not indicate an error and you can ignore this message): INVALID_ARGUMENT: You must feed a value for placeholder tensor 'Placeholder/_1' with dtype int64 and shape [1000]\n",
      "\t [[{{node Placeholder/_1}}]]\n",
      "2023-05-14 10:00:08.415798: I tensorflow/core/common_runtime/executor.cc:1197] [/device:CPU:0] (DEBUG INFO) Executor start aborting (this does not indicate an error and you can ignore this message): INVALID_ARGUMENT: You must feed a value for placeholder tensor 'Placeholder/_1' with dtype float and shape [500]\n",
      "\t [[{{node Placeholder/_1}}]]\n",
      "2023-05-14 10:00:08.419755: I tensorflow/core/common_runtime/executor.cc:1197] [/device:CPU:0] (DEBUG INFO) Executor start aborting (this does not indicate an error and you can ignore this message): INVALID_ARGUMENT: You must feed a value for placeholder tensor 'Placeholder/_1' with dtype float and shape [500]\n",
      "\t [[{{node Placeholder/_1}}]]\n",
      "2023-05-14 10:00:08.423460: I tensorflow/core/common_runtime/executor.cc:1197] [/device:CPU:0] (DEBUG INFO) Executor start aborting (this does not indicate an error and you can ignore this message): INVALID_ARGUMENT: You must feed a value for placeholder tensor 'Placeholder/_1' with dtype float and shape [500]\n",
      "\t [[{{node Placeholder/_1}}]]\n",
      "2023-05-14 10:00:08.426901: I tensorflow/core/common_runtime/executor.cc:1197] [/device:CPU:0] (DEBUG INFO) Executor start aborting (this does not indicate an error and you can ignore this message): INVALID_ARGUMENT: You must feed a value for placeholder tensor 'Placeholder/_1' with dtype float and shape [500]\n",
      "\t [[{{node Placeholder/_1}}]]\n",
      "2023-05-14 10:00:08.430295: I tensorflow/core/common_runtime/executor.cc:1197] [/device:CPU:0] (DEBUG INFO) Executor start aborting (this does not indicate an error and you can ignore this message): INVALID_ARGUMENT: You must feed a value for placeholder tensor 'Placeholder/_1' with dtype float and shape [500]\n",
      "\t [[{{node Placeholder/_1}}]]\n",
      "2023-05-14 10:00:08.433590: I tensorflow/core/common_runtime/executor.cc:1197] [/device:CPU:0] (DEBUG INFO) Executor start aborting (this does not indicate an error and you can ignore this message): INVALID_ARGUMENT: You must feed a value for placeholder tensor 'Placeholder/_1' with dtype float and shape [500]\n",
      "\t [[{{node Placeholder/_1}}]]\n",
      "2023-05-14 10:00:08.437246: I tensorflow/core/common_runtime/executor.cc:1197] [/device:CPU:0] (DEBUG INFO) Executor start aborting (this does not indicate an error and you can ignore this message): INVALID_ARGUMENT: You must feed a value for placeholder tensor 'Placeholder/_1' with dtype float and shape [500]\n",
      "\t [[{{node Placeholder/_1}}]]\n",
      "2023-05-14 10:00:08.440311: I tensorflow/core/common_runtime/executor.cc:1197] [/device:CPU:0] (DEBUG INFO) Executor start aborting (this does not indicate an error and you can ignore this message): INVALID_ARGUMENT: You must feed a value for placeholder tensor 'Placeholder/_1' with dtype float and shape [500]\n",
      "\t [[{{node Placeholder/_1}}]]\n",
      "2023-05-14 10:00:08.444073: I tensorflow/core/common_runtime/executor.cc:1197] [/device:CPU:0] (DEBUG INFO) Executor start aborting (this does not indicate an error and you can ignore this message): INVALID_ARGUMENT: You must feed a value for placeholder tensor 'Placeholder/_1' with dtype float and shape [500]\n",
      "\t [[{{node Placeholder/_1}}]]\n",
      "2023-05-14 10:00:08.447264: I tensorflow/core/common_runtime/executor.cc:1197] [/device:CPU:0] (DEBUG INFO) Executor start aborting (this does not indicate an error and you can ignore this message): INVALID_ARGUMENT: You must feed a value for placeholder tensor 'Placeholder/_1' with dtype float and shape [500]\n",
      "\t [[{{node Placeholder/_1}}]]\n"
     ]
    },
    {
     "name": "stdout",
     "output_type": "stream",
     "text": [
      "\n",
      "Testing for epoch 14 index 3:\n",
      "65/65 [==============================] - 0s 553us/step\n"
     ]
    },
    {
     "name": "stderr",
     "output_type": "stream",
     "text": [
      "2023-05-14 10:00:08.721747: I tensorflow/core/common_runtime/executor.cc:1197] [/device:CPU:0] (DEBUG INFO) Executor start aborting (this does not indicate an error and you can ignore this message): INVALID_ARGUMENT: You must feed a value for placeholder tensor 'Placeholder/_1' with dtype int64 and shape [1000]\n",
      "\t [[{{node Placeholder/_1}}]]\n",
      "2023-05-14 10:00:08.805762: I tensorflow/core/common_runtime/executor.cc:1197] [/device:CPU:0] (DEBUG INFO) Executor start aborting (this does not indicate an error and you can ignore this message): INVALID_ARGUMENT: You must feed a value for placeholder tensor 'Placeholder/_1' with dtype float and shape [500]\n",
      "\t [[{{node Placeholder/_1}}]]\n",
      "2023-05-14 10:00:08.810164: I tensorflow/core/common_runtime/executor.cc:1197] [/device:CPU:0] (DEBUG INFO) Executor start aborting (this does not indicate an error and you can ignore this message): INVALID_ARGUMENT: You must feed a value for placeholder tensor 'Placeholder/_1' with dtype float and shape [500]\n",
      "\t [[{{node Placeholder/_1}}]]\n",
      "2023-05-14 10:00:08.814258: I tensorflow/core/common_runtime/executor.cc:1197] [/device:CPU:0] (DEBUG INFO) Executor start aborting (this does not indicate an error and you can ignore this message): INVALID_ARGUMENT: You must feed a value for placeholder tensor 'Placeholder/_1' with dtype float and shape [500]\n",
      "\t [[{{node Placeholder/_1}}]]\n",
      "2023-05-14 10:00:08.818712: I tensorflow/core/common_runtime/executor.cc:1197] [/device:CPU:0] (DEBUG INFO) Executor start aborting (this does not indicate an error and you can ignore this message): INVALID_ARGUMENT: You must feed a value for placeholder tensor 'Placeholder/_1' with dtype float and shape [500]\n",
      "\t [[{{node Placeholder/_1}}]]\n",
      "2023-05-14 10:00:08.822281: I tensorflow/core/common_runtime/executor.cc:1197] [/device:CPU:0] (DEBUG INFO) Executor start aborting (this does not indicate an error and you can ignore this message): INVALID_ARGUMENT: You must feed a value for placeholder tensor 'Placeholder/_1' with dtype float and shape [500]\n",
      "\t [[{{node Placeholder/_1}}]]\n",
      "2023-05-14 10:00:08.826465: I tensorflow/core/common_runtime/executor.cc:1197] [/device:CPU:0] (DEBUG INFO) Executor start aborting (this does not indicate an error and you can ignore this message): INVALID_ARGUMENT: You must feed a value for placeholder tensor 'Placeholder/_1' with dtype float and shape [500]\n",
      "\t [[{{node Placeholder/_1}}]]\n",
      "2023-05-14 10:00:08.829887: I tensorflow/core/common_runtime/executor.cc:1197] [/device:CPU:0] (DEBUG INFO) Executor start aborting (this does not indicate an error and you can ignore this message): INVALID_ARGUMENT: You must feed a value for placeholder tensor 'Placeholder/_1' with dtype float and shape [500]\n",
      "\t [[{{node Placeholder/_1}}]]\n",
      "2023-05-14 10:00:08.833648: I tensorflow/core/common_runtime/executor.cc:1197] [/device:CPU:0] (DEBUG INFO) Executor start aborting (this does not indicate an error and you can ignore this message): INVALID_ARGUMENT: You must feed a value for placeholder tensor 'Placeholder/_1' with dtype float and shape [500]\n",
      "\t [[{{node Placeholder/_1}}]]\n",
      "2023-05-14 10:00:08.837007: I tensorflow/core/common_runtime/executor.cc:1197] [/device:CPU:0] (DEBUG INFO) Executor start aborting (this does not indicate an error and you can ignore this message): INVALID_ARGUMENT: You must feed a value for placeholder tensor 'Placeholder/_1' with dtype float and shape [500]\n",
      "\t [[{{node Placeholder/_1}}]]\n",
      "2023-05-14 10:00:08.840650: I tensorflow/core/common_runtime/executor.cc:1197] [/device:CPU:0] (DEBUG INFO) Executor start aborting (this does not indicate an error and you can ignore this message): INVALID_ARGUMENT: You must feed a value for placeholder tensor 'Placeholder/_1' with dtype float and shape [500]\n",
      "\t [[{{node Placeholder/_1}}]]\n"
     ]
    },
    {
     "name": "stdout",
     "output_type": "stream",
     "text": [
      "\n",
      "Testing for epoch 14 index 4:\n",
      "65/65 [==============================] - 0s 582us/step\n"
     ]
    },
    {
     "name": "stderr",
     "output_type": "stream",
     "text": [
      "2023-05-14 10:00:09.118041: I tensorflow/core/common_runtime/executor.cc:1197] [/device:CPU:0] (DEBUG INFO) Executor start aborting (this does not indicate an error and you can ignore this message): INVALID_ARGUMENT: You must feed a value for placeholder tensor 'Placeholder/_1' with dtype int64 and shape [1000]\n",
      "\t [[{{node Placeholder/_1}}]]\n",
      "2023-05-14 10:00:09.203603: I tensorflow/core/common_runtime/executor.cc:1197] [/device:CPU:0] (DEBUG INFO) Executor start aborting (this does not indicate an error and you can ignore this message): INVALID_ARGUMENT: You must feed a value for placeholder tensor 'Placeholder/_1' with dtype float and shape [500]\n",
      "\t [[{{node Placeholder/_1}}]]\n",
      "2023-05-14 10:00:09.208732: I tensorflow/core/common_runtime/executor.cc:1197] [/device:CPU:0] (DEBUG INFO) Executor start aborting (this does not indicate an error and you can ignore this message): INVALID_ARGUMENT: You must feed a value for placeholder tensor 'Placeholder/_1' with dtype float and shape [500]\n",
      "\t [[{{node Placeholder/_1}}]]\n",
      "2023-05-14 10:00:09.212298: I tensorflow/core/common_runtime/executor.cc:1197] [/device:CPU:0] (DEBUG INFO) Executor start aborting (this does not indicate an error and you can ignore this message): INVALID_ARGUMENT: You must feed a value for placeholder tensor 'Placeholder/_1' with dtype float and shape [500]\n",
      "\t [[{{node Placeholder/_1}}]]\n",
      "2023-05-14 10:00:09.216006: I tensorflow/core/common_runtime/executor.cc:1197] [/device:CPU:0] (DEBUG INFO) Executor start aborting (this does not indicate an error and you can ignore this message): INVALID_ARGUMENT: You must feed a value for placeholder tensor 'Placeholder/_1' with dtype float and shape [500]\n",
      "\t [[{{node Placeholder/_1}}]]\n",
      "2023-05-14 10:00:09.219200: I tensorflow/core/common_runtime/executor.cc:1197] [/device:CPU:0] (DEBUG INFO) Executor start aborting (this does not indicate an error and you can ignore this message): INVALID_ARGUMENT: You must feed a value for placeholder tensor 'Placeholder/_1' with dtype float and shape [500]\n",
      "\t [[{{node Placeholder/_1}}]]\n",
      "2023-05-14 10:00:09.222907: I tensorflow/core/common_runtime/executor.cc:1197] [/device:CPU:0] (DEBUG INFO) Executor start aborting (this does not indicate an error and you can ignore this message): INVALID_ARGUMENT: You must feed a value for placeholder tensor 'Placeholder/_1' with dtype float and shape [500]\n",
      "\t [[{{node Placeholder/_1}}]]\n",
      "2023-05-14 10:00:09.225976: I tensorflow/core/common_runtime/executor.cc:1197] [/device:CPU:0] (DEBUG INFO) Executor start aborting (this does not indicate an error and you can ignore this message): INVALID_ARGUMENT: You must feed a value for placeholder tensor 'Placeholder/_1' with dtype float and shape [500]\n",
      "\t [[{{node Placeholder/_1}}]]\n",
      "2023-05-14 10:00:09.229648: I tensorflow/core/common_runtime/executor.cc:1197] [/device:CPU:0] (DEBUG INFO) Executor start aborting (this does not indicate an error and you can ignore this message): INVALID_ARGUMENT: You must feed a value for placeholder tensor 'Placeholder/_1' with dtype float and shape [500]\n",
      "\t [[{{node Placeholder/_1}}]]\n",
      "2023-05-14 10:00:09.232768: I tensorflow/core/common_runtime/executor.cc:1197] [/device:CPU:0] (DEBUG INFO) Executor start aborting (this does not indicate an error and you can ignore this message): INVALID_ARGUMENT: You must feed a value for placeholder tensor 'Placeholder/_1' with dtype float and shape [500]\n",
      "\t [[{{node Placeholder/_1}}]]\n",
      "2023-05-14 10:00:09.236578: I tensorflow/core/common_runtime/executor.cc:1197] [/device:CPU:0] (DEBUG INFO) Executor start aborting (this does not indicate an error and you can ignore this message): INVALID_ARGUMENT: You must feed a value for placeholder tensor 'Placeholder/_1' with dtype float and shape [500]\n",
      "\t [[{{node Placeholder/_1}}]]\n"
     ]
    },
    {
     "name": "stdout",
     "output_type": "stream",
     "text": [
      "Epoch 15 of 60\n",
      "\n",
      "Testing for epoch 15 index 1:\n",
      "65/65 [==============================] - 0s 500us/step\n"
     ]
    },
    {
     "name": "stderr",
     "output_type": "stream",
     "text": [
      "2023-05-14 10:00:09.507951: I tensorflow/core/common_runtime/executor.cc:1197] [/device:CPU:0] (DEBUG INFO) Executor start aborting (this does not indicate an error and you can ignore this message): INVALID_ARGUMENT: You must feed a value for placeholder tensor 'Placeholder/_1' with dtype int64 and shape [1000]\n",
      "\t [[{{node Placeholder/_1}}]]\n",
      "2023-05-14 10:00:09.583927: I tensorflow/core/common_runtime/executor.cc:1197] [/device:CPU:0] (DEBUG INFO) Executor start aborting (this does not indicate an error and you can ignore this message): INVALID_ARGUMENT: You must feed a value for placeholder tensor 'Placeholder/_1' with dtype float and shape [500]\n",
      "\t [[{{node Placeholder/_1}}]]\n",
      "2023-05-14 10:00:09.587844: I tensorflow/core/common_runtime/executor.cc:1197] [/device:CPU:0] (DEBUG INFO) Executor start aborting (this does not indicate an error and you can ignore this message): INVALID_ARGUMENT: You must feed a value for placeholder tensor 'Placeholder/_1' with dtype float and shape [500]\n",
      "\t [[{{node Placeholder/_1}}]]\n",
      "2023-05-14 10:00:09.591481: I tensorflow/core/common_runtime/executor.cc:1197] [/device:CPU:0] (DEBUG INFO) Executor start aborting (this does not indicate an error and you can ignore this message): INVALID_ARGUMENT: You must feed a value for placeholder tensor 'Placeholder/_1' with dtype float and shape [500]\n",
      "\t [[{{node Placeholder/_1}}]]\n",
      "2023-05-14 10:00:09.595582: I tensorflow/core/common_runtime/executor.cc:1197] [/device:CPU:0] (DEBUG INFO) Executor start aborting (this does not indicate an error and you can ignore this message): INVALID_ARGUMENT: You must feed a value for placeholder tensor 'Placeholder/_1' with dtype float and shape [500]\n",
      "\t [[{{node Placeholder/_1}}]]\n",
      "2023-05-14 10:00:09.598918: I tensorflow/core/common_runtime/executor.cc:1197] [/device:CPU:0] (DEBUG INFO) Executor start aborting (this does not indicate an error and you can ignore this message): INVALID_ARGUMENT: You must feed a value for placeholder tensor 'Placeholder/_1' with dtype float and shape [500]\n",
      "\t [[{{node Placeholder/_1}}]]\n",
      "2023-05-14 10:00:09.602951: I tensorflow/core/common_runtime/executor.cc:1197] [/device:CPU:0] (DEBUG INFO) Executor start aborting (this does not indicate an error and you can ignore this message): INVALID_ARGUMENT: You must feed a value for placeholder tensor 'Placeholder/_1' with dtype float and shape [500]\n",
      "\t [[{{node Placeholder/_1}}]]\n",
      "2023-05-14 10:00:09.606195: I tensorflow/core/common_runtime/executor.cc:1197] [/device:CPU:0] (DEBUG INFO) Executor start aborting (this does not indicate an error and you can ignore this message): INVALID_ARGUMENT: You must feed a value for placeholder tensor 'Placeholder/_1' with dtype float and shape [500]\n",
      "\t [[{{node Placeholder/_1}}]]\n",
      "2023-05-14 10:00:09.609972: I tensorflow/core/common_runtime/executor.cc:1197] [/device:CPU:0] (DEBUG INFO) Executor start aborting (this does not indicate an error and you can ignore this message): INVALID_ARGUMENT: You must feed a value for placeholder tensor 'Placeholder/_1' with dtype float and shape [500]\n",
      "\t [[{{node Placeholder/_1}}]]\n",
      "2023-05-14 10:00:09.613104: I tensorflow/core/common_runtime/executor.cc:1197] [/device:CPU:0] (DEBUG INFO) Executor start aborting (this does not indicate an error and you can ignore this message): INVALID_ARGUMENT: You must feed a value for placeholder tensor 'Placeholder/_1' with dtype float and shape [500]\n",
      "\t [[{{node Placeholder/_1}}]]\n",
      "2023-05-14 10:00:09.616982: I tensorflow/core/common_runtime/executor.cc:1197] [/device:CPU:0] (DEBUG INFO) Executor start aborting (this does not indicate an error and you can ignore this message): INVALID_ARGUMENT: You must feed a value for placeholder tensor 'Placeholder/_1' with dtype float and shape [500]\n",
      "\t [[{{node Placeholder/_1}}]]\n"
     ]
    },
    {
     "name": "stdout",
     "output_type": "stream",
     "text": [
      "\n",
      "Testing for epoch 15 index 2:\n",
      "65/65 [==============================] - 0s 563us/step\n"
     ]
    },
    {
     "name": "stderr",
     "output_type": "stream",
     "text": [
      "2023-05-14 10:00:09.883225: I tensorflow/core/common_runtime/executor.cc:1197] [/device:CPU:0] (DEBUG INFO) Executor start aborting (this does not indicate an error and you can ignore this message): INVALID_ARGUMENT: You must feed a value for placeholder tensor 'Placeholder/_1' with dtype int64 and shape [1000]\n",
      "\t [[{{node Placeholder/_1}}]]\n",
      "2023-05-14 10:00:09.962062: I tensorflow/core/common_runtime/executor.cc:1197] [/device:CPU:0] (DEBUG INFO) Executor start aborting (this does not indicate an error and you can ignore this message): INVALID_ARGUMENT: You must feed a value for placeholder tensor 'Placeholder/_1' with dtype float and shape [500]\n",
      "\t [[{{node Placeholder/_1}}]]\n",
      "2023-05-14 10:00:09.966571: I tensorflow/core/common_runtime/executor.cc:1197] [/device:CPU:0] (DEBUG INFO) Executor start aborting (this does not indicate an error and you can ignore this message): INVALID_ARGUMENT: You must feed a value for placeholder tensor 'Placeholder/_1' with dtype float and shape [500]\n",
      "\t [[{{node Placeholder/_1}}]]\n",
      "2023-05-14 10:00:09.970869: I tensorflow/core/common_runtime/executor.cc:1197] [/device:CPU:0] (DEBUG INFO) Executor start aborting (this does not indicate an error and you can ignore this message): INVALID_ARGUMENT: You must feed a value for placeholder tensor 'Placeholder/_1' with dtype float and shape [500]\n",
      "\t [[{{node Placeholder/_1}}]]\n",
      "2023-05-14 10:00:09.974228: I tensorflow/core/common_runtime/executor.cc:1197] [/device:CPU:0] (DEBUG INFO) Executor start aborting (this does not indicate an error and you can ignore this message): INVALID_ARGUMENT: You must feed a value for placeholder tensor 'Placeholder/_1' with dtype float and shape [500]\n",
      "\t [[{{node Placeholder/_1}}]]\n",
      "2023-05-14 10:00:09.977915: I tensorflow/core/common_runtime/executor.cc:1197] [/device:CPU:0] (DEBUG INFO) Executor start aborting (this does not indicate an error and you can ignore this message): INVALID_ARGUMENT: You must feed a value for placeholder tensor 'Placeholder/_1' with dtype float and shape [500]\n",
      "\t [[{{node Placeholder/_1}}]]\n",
      "2023-05-14 10:00:09.981348: I tensorflow/core/common_runtime/executor.cc:1197] [/device:CPU:0] (DEBUG INFO) Executor start aborting (this does not indicate an error and you can ignore this message): INVALID_ARGUMENT: You must feed a value for placeholder tensor 'Placeholder/_1' with dtype float and shape [500]\n",
      "\t [[{{node Placeholder/_1}}]]\n",
      "2023-05-14 10:00:09.985385: I tensorflow/core/common_runtime/executor.cc:1197] [/device:CPU:0] (DEBUG INFO) Executor start aborting (this does not indicate an error and you can ignore this message): INVALID_ARGUMENT: You must feed a value for placeholder tensor 'Placeholder/_1' with dtype float and shape [500]\n",
      "\t [[{{node Placeholder/_1}}]]\n",
      "2023-05-14 10:00:09.989433: I tensorflow/core/common_runtime/executor.cc:1197] [/device:CPU:0] (DEBUG INFO) Executor start aborting (this does not indicate an error and you can ignore this message): INVALID_ARGUMENT: You must feed a value for placeholder tensor 'Placeholder/_1' with dtype float and shape [500]\n",
      "\t [[{{node Placeholder/_1}}]]\n",
      "2023-05-14 10:00:09.993381: I tensorflow/core/common_runtime/executor.cc:1197] [/device:CPU:0] (DEBUG INFO) Executor start aborting (this does not indicate an error and you can ignore this message): INVALID_ARGUMENT: You must feed a value for placeholder tensor 'Placeholder/_1' with dtype float and shape [500]\n",
      "\t [[{{node Placeholder/_1}}]]\n",
      "2023-05-14 10:00:09.996730: I tensorflow/core/common_runtime/executor.cc:1197] [/device:CPU:0] (DEBUG INFO) Executor start aborting (this does not indicate an error and you can ignore this message): INVALID_ARGUMENT: You must feed a value for placeholder tensor 'Placeholder/_1' with dtype float and shape [500]\n",
      "\t [[{{node Placeholder/_1}}]]\n"
     ]
    },
    {
     "name": "stdout",
     "output_type": "stream",
     "text": [
      "\n",
      "Testing for epoch 15 index 3:\n",
      "65/65 [==============================] - 0s 495us/step\n"
     ]
    },
    {
     "name": "stderr",
     "output_type": "stream",
     "text": [
      "2023-05-14 10:00:10.262669: I tensorflow/core/common_runtime/executor.cc:1197] [/device:CPU:0] (DEBUG INFO) Executor start aborting (this does not indicate an error and you can ignore this message): INVALID_ARGUMENT: You must feed a value for placeholder tensor 'Placeholder/_1' with dtype int64 and shape [1000]\n",
      "\t [[{{node Placeholder/_1}}]]\n",
      "2023-05-14 10:00:10.335107: I tensorflow/core/common_runtime/executor.cc:1197] [/device:CPU:0] (DEBUG INFO) Executor start aborting (this does not indicate an error and you can ignore this message): INVALID_ARGUMENT: You must feed a value for placeholder tensor 'Placeholder/_1' with dtype float and shape [500]\n",
      "\t [[{{node Placeholder/_1}}]]\n",
      "2023-05-14 10:00:10.338817: I tensorflow/core/common_runtime/executor.cc:1197] [/device:CPU:0] (DEBUG INFO) Executor start aborting (this does not indicate an error and you can ignore this message): INVALID_ARGUMENT: You must feed a value for placeholder tensor 'Placeholder/_1' with dtype float and shape [500]\n",
      "\t [[{{node Placeholder/_1}}]]\n",
      "2023-05-14 10:00:10.342526: I tensorflow/core/common_runtime/executor.cc:1197] [/device:CPU:0] (DEBUG INFO) Executor start aborting (this does not indicate an error and you can ignore this message): INVALID_ARGUMENT: You must feed a value for placeholder tensor 'Placeholder/_1' with dtype float and shape [500]\n",
      "\t [[{{node Placeholder/_1}}]]\n",
      "2023-05-14 10:00:10.346582: I tensorflow/core/common_runtime/executor.cc:1197] [/device:CPU:0] (DEBUG INFO) Executor start aborting (this does not indicate an error and you can ignore this message): INVALID_ARGUMENT: You must feed a value for placeholder tensor 'Placeholder/_1' with dtype float and shape [500]\n",
      "\t [[{{node Placeholder/_1}}]]\n",
      "2023-05-14 10:00:10.349680: I tensorflow/core/common_runtime/executor.cc:1197] [/device:CPU:0] (DEBUG INFO) Executor start aborting (this does not indicate an error and you can ignore this message): INVALID_ARGUMENT: You must feed a value for placeholder tensor 'Placeholder/_1' with dtype float and shape [500]\n",
      "\t [[{{node Placeholder/_1}}]]\n",
      "2023-05-14 10:00:10.353261: I tensorflow/core/common_runtime/executor.cc:1197] [/device:CPU:0] (DEBUG INFO) Executor start aborting (this does not indicate an error and you can ignore this message): INVALID_ARGUMENT: You must feed a value for placeholder tensor 'Placeholder/_1' with dtype float and shape [500]\n",
      "\t [[{{node Placeholder/_1}}]]\n",
      "2023-05-14 10:00:10.356188: I tensorflow/core/common_runtime/executor.cc:1197] [/device:CPU:0] (DEBUG INFO) Executor start aborting (this does not indicate an error and you can ignore this message): INVALID_ARGUMENT: You must feed a value for placeholder tensor 'Placeholder/_1' with dtype float and shape [500]\n",
      "\t [[{{node Placeholder/_1}}]]\n",
      "2023-05-14 10:00:10.359411: I tensorflow/core/common_runtime/executor.cc:1197] [/device:CPU:0] (DEBUG INFO) Executor start aborting (this does not indicate an error and you can ignore this message): INVALID_ARGUMENT: You must feed a value for placeholder tensor 'Placeholder/_1' with dtype float and shape [500]\n",
      "\t [[{{node Placeholder/_1}}]]\n",
      "2023-05-14 10:00:10.362399: I tensorflow/core/common_runtime/executor.cc:1197] [/device:CPU:0] (DEBUG INFO) Executor start aborting (this does not indicate an error and you can ignore this message): INVALID_ARGUMENT: You must feed a value for placeholder tensor 'Placeholder/_1' with dtype float and shape [500]\n",
      "\t [[{{node Placeholder/_1}}]]\n",
      "2023-05-14 10:00:10.365356: I tensorflow/core/common_runtime/executor.cc:1197] [/device:CPU:0] (DEBUG INFO) Executor start aborting (this does not indicate an error and you can ignore this message): INVALID_ARGUMENT: You must feed a value for placeholder tensor 'Placeholder/_1' with dtype float and shape [500]\n",
      "\t [[{{node Placeholder/_1}}]]\n"
     ]
    },
    {
     "name": "stdout",
     "output_type": "stream",
     "text": [
      "\n",
      "Testing for epoch 15 index 4:\n",
      "65/65 [==============================] - 0s 455us/step\n"
     ]
    },
    {
     "name": "stderr",
     "output_type": "stream",
     "text": [
      "2023-05-14 10:00:10.614398: I tensorflow/core/common_runtime/executor.cc:1197] [/device:CPU:0] (DEBUG INFO) Executor start aborting (this does not indicate an error and you can ignore this message): INVALID_ARGUMENT: You must feed a value for placeholder tensor 'Placeholder/_1' with dtype int64 and shape [1000]\n",
      "\t [[{{node Placeholder/_1}}]]\n",
      "2023-05-14 10:00:10.683626: I tensorflow/core/common_runtime/executor.cc:1197] [/device:CPU:0] (DEBUG INFO) Executor start aborting (this does not indicate an error and you can ignore this message): INVALID_ARGUMENT: You must feed a value for placeholder tensor 'Placeholder/_1' with dtype float and shape [500]\n",
      "\t [[{{node Placeholder/_1}}]]\n",
      "2023-05-14 10:00:10.687199: I tensorflow/core/common_runtime/executor.cc:1197] [/device:CPU:0] (DEBUG INFO) Executor start aborting (this does not indicate an error and you can ignore this message): INVALID_ARGUMENT: You must feed a value for placeholder tensor 'Placeholder/_1' with dtype float and shape [500]\n",
      "\t [[{{node Placeholder/_1}}]]\n",
      "2023-05-14 10:00:10.690281: I tensorflow/core/common_runtime/executor.cc:1197] [/device:CPU:0] (DEBUG INFO) Executor start aborting (this does not indicate an error and you can ignore this message): INVALID_ARGUMENT: You must feed a value for placeholder tensor 'Placeholder/_1' with dtype float and shape [500]\n",
      "\t [[{{node Placeholder/_1}}]]\n",
      "2023-05-14 10:00:10.693508: I tensorflow/core/common_runtime/executor.cc:1197] [/device:CPU:0] (DEBUG INFO) Executor start aborting (this does not indicate an error and you can ignore this message): INVALID_ARGUMENT: You must feed a value for placeholder tensor 'Placeholder/_1' with dtype float and shape [500]\n",
      "\t [[{{node Placeholder/_1}}]]\n",
      "2023-05-14 10:00:10.696472: I tensorflow/core/common_runtime/executor.cc:1197] [/device:CPU:0] (DEBUG INFO) Executor start aborting (this does not indicate an error and you can ignore this message): INVALID_ARGUMENT: You must feed a value for placeholder tensor 'Placeholder/_1' with dtype float and shape [500]\n",
      "\t [[{{node Placeholder/_1}}]]\n",
      "2023-05-14 10:00:10.699704: I tensorflow/core/common_runtime/executor.cc:1197] [/device:CPU:0] (DEBUG INFO) Executor start aborting (this does not indicate an error and you can ignore this message): INVALID_ARGUMENT: You must feed a value for placeholder tensor 'Placeholder/_1' with dtype float and shape [500]\n",
      "\t [[{{node Placeholder/_1}}]]\n",
      "2023-05-14 10:00:10.702787: I tensorflow/core/common_runtime/executor.cc:1197] [/device:CPU:0] (DEBUG INFO) Executor start aborting (this does not indicate an error and you can ignore this message): INVALID_ARGUMENT: You must feed a value for placeholder tensor 'Placeholder/_1' with dtype float and shape [500]\n",
      "\t [[{{node Placeholder/_1}}]]\n",
      "2023-05-14 10:00:10.706101: I tensorflow/core/common_runtime/executor.cc:1197] [/device:CPU:0] (DEBUG INFO) Executor start aborting (this does not indicate an error and you can ignore this message): INVALID_ARGUMENT: You must feed a value for placeholder tensor 'Placeholder/_1' with dtype float and shape [500]\n",
      "\t [[{{node Placeholder/_1}}]]\n",
      "2023-05-14 10:00:10.709183: I tensorflow/core/common_runtime/executor.cc:1197] [/device:CPU:0] (DEBUG INFO) Executor start aborting (this does not indicate an error and you can ignore this message): INVALID_ARGUMENT: You must feed a value for placeholder tensor 'Placeholder/_1' with dtype float and shape [500]\n",
      "\t [[{{node Placeholder/_1}}]]\n",
      "2023-05-14 10:00:10.712134: I tensorflow/core/common_runtime/executor.cc:1197] [/device:CPU:0] (DEBUG INFO) Executor start aborting (this does not indicate an error and you can ignore this message): INVALID_ARGUMENT: You must feed a value for placeholder tensor 'Placeholder/_1' with dtype float and shape [500]\n",
      "\t [[{{node Placeholder/_1}}]]\n"
     ]
    },
    {
     "name": "stdout",
     "output_type": "stream",
     "text": [
      "Epoch 16 of 60\n",
      "\n",
      "Testing for epoch 16 index 1:\n",
      "65/65 [==============================] - 0s 512us/step\n"
     ]
    },
    {
     "name": "stderr",
     "output_type": "stream",
     "text": [
      "2023-05-14 10:00:10.973343: I tensorflow/core/common_runtime/executor.cc:1197] [/device:CPU:0] (DEBUG INFO) Executor start aborting (this does not indicate an error and you can ignore this message): INVALID_ARGUMENT: You must feed a value for placeholder tensor 'Placeholder/_1' with dtype int64 and shape [1000]\n",
      "\t [[{{node Placeholder/_1}}]]\n",
      "2023-05-14 10:00:11.050847: I tensorflow/core/common_runtime/executor.cc:1197] [/device:CPU:0] (DEBUG INFO) Executor start aborting (this does not indicate an error and you can ignore this message): INVALID_ARGUMENT: You must feed a value for placeholder tensor 'Placeholder/_1' with dtype float and shape [500]\n",
      "\t [[{{node Placeholder/_1}}]]\n",
      "2023-05-14 10:00:11.055616: I tensorflow/core/common_runtime/executor.cc:1197] [/device:CPU:0] (DEBUG INFO) Executor start aborting (this does not indicate an error and you can ignore this message): INVALID_ARGUMENT: You must feed a value for placeholder tensor 'Placeholder/_1' with dtype float and shape [500]\n",
      "\t [[{{node Placeholder/_1}}]]\n",
      "2023-05-14 10:00:11.058916: I tensorflow/core/common_runtime/executor.cc:1197] [/device:CPU:0] (DEBUG INFO) Executor start aborting (this does not indicate an error and you can ignore this message): INVALID_ARGUMENT: You must feed a value for placeholder tensor 'Placeholder/_1' with dtype float and shape [500]\n",
      "\t [[{{node Placeholder/_1}}]]\n",
      "2023-05-14 10:00:11.062812: I tensorflow/core/common_runtime/executor.cc:1197] [/device:CPU:0] (DEBUG INFO) Executor start aborting (this does not indicate an error and you can ignore this message): INVALID_ARGUMENT: You must feed a value for placeholder tensor 'Placeholder/_1' with dtype float and shape [500]\n",
      "\t [[{{node Placeholder/_1}}]]\n",
      "2023-05-14 10:00:11.065972: I tensorflow/core/common_runtime/executor.cc:1197] [/device:CPU:0] (DEBUG INFO) Executor start aborting (this does not indicate an error and you can ignore this message): INVALID_ARGUMENT: You must feed a value for placeholder tensor 'Placeholder/_1' with dtype float and shape [500]\n",
      "\t [[{{node Placeholder/_1}}]]\n",
      "2023-05-14 10:00:11.069780: I tensorflow/core/common_runtime/executor.cc:1197] [/device:CPU:0] (DEBUG INFO) Executor start aborting (this does not indicate an error and you can ignore this message): INVALID_ARGUMENT: You must feed a value for placeholder tensor 'Placeholder/_1' with dtype float and shape [500]\n",
      "\t [[{{node Placeholder/_1}}]]\n",
      "2023-05-14 10:00:11.073025: I tensorflow/core/common_runtime/executor.cc:1197] [/device:CPU:0] (DEBUG INFO) Executor start aborting (this does not indicate an error and you can ignore this message): INVALID_ARGUMENT: You must feed a value for placeholder tensor 'Placeholder/_1' with dtype float and shape [500]\n",
      "\t [[{{node Placeholder/_1}}]]\n",
      "2023-05-14 10:00:11.076545: I tensorflow/core/common_runtime/executor.cc:1197] [/device:CPU:0] (DEBUG INFO) Executor start aborting (this does not indicate an error and you can ignore this message): INVALID_ARGUMENT: You must feed a value for placeholder tensor 'Placeholder/_1' with dtype float and shape [500]\n",
      "\t [[{{node Placeholder/_1}}]]\n",
      "2023-05-14 10:00:11.079663: I tensorflow/core/common_runtime/executor.cc:1197] [/device:CPU:0] (DEBUG INFO) Executor start aborting (this does not indicate an error and you can ignore this message): INVALID_ARGUMENT: You must feed a value for placeholder tensor 'Placeholder/_1' with dtype float and shape [500]\n",
      "\t [[{{node Placeholder/_1}}]]\n",
      "2023-05-14 10:00:11.083313: I tensorflow/core/common_runtime/executor.cc:1197] [/device:CPU:0] (DEBUG INFO) Executor start aborting (this does not indicate an error and you can ignore this message): INVALID_ARGUMENT: You must feed a value for placeholder tensor 'Placeholder/_1' with dtype float and shape [500]\n",
      "\t [[{{node Placeholder/_1}}]]\n"
     ]
    },
    {
     "name": "stdout",
     "output_type": "stream",
     "text": [
      "\n",
      "Testing for epoch 16 index 2:\n",
      "65/65 [==============================] - 0s 515us/step\n"
     ]
    },
    {
     "name": "stderr",
     "output_type": "stream",
     "text": [
      "2023-05-14 10:00:11.337947: I tensorflow/core/common_runtime/executor.cc:1197] [/device:CPU:0] (DEBUG INFO) Executor start aborting (this does not indicate an error and you can ignore this message): INVALID_ARGUMENT: You must feed a value for placeholder tensor 'Placeholder/_1' with dtype int64 and shape [1000]\n",
      "\t [[{{node Placeholder/_1}}]]\n",
      "2023-05-14 10:00:11.412606: I tensorflow/core/common_runtime/executor.cc:1197] [/device:CPU:0] (DEBUG INFO) Executor start aborting (this does not indicate an error and you can ignore this message): INVALID_ARGUMENT: You must feed a value for placeholder tensor 'Placeholder/_1' with dtype float and shape [500]\n",
      "\t [[{{node Placeholder/_1}}]]\n",
      "2023-05-14 10:00:11.416964: I tensorflow/core/common_runtime/executor.cc:1197] [/device:CPU:0] (DEBUG INFO) Executor start aborting (this does not indicate an error and you can ignore this message): INVALID_ARGUMENT: You must feed a value for placeholder tensor 'Placeholder/_1' with dtype float and shape [500]\n",
      "\t [[{{node Placeholder/_1}}]]\n",
      "2023-05-14 10:00:11.420242: I tensorflow/core/common_runtime/executor.cc:1197] [/device:CPU:0] (DEBUG INFO) Executor start aborting (this does not indicate an error and you can ignore this message): INVALID_ARGUMENT: You must feed a value for placeholder tensor 'Placeholder/_1' with dtype float and shape [500]\n",
      "\t [[{{node Placeholder/_1}}]]\n",
      "2023-05-14 10:00:11.423801: I tensorflow/core/common_runtime/executor.cc:1197] [/device:CPU:0] (DEBUG INFO) Executor start aborting (this does not indicate an error and you can ignore this message): INVALID_ARGUMENT: You must feed a value for placeholder tensor 'Placeholder/_1' with dtype float and shape [500]\n",
      "\t [[{{node Placeholder/_1}}]]\n",
      "2023-05-14 10:00:11.427040: I tensorflow/core/common_runtime/executor.cc:1197] [/device:CPU:0] (DEBUG INFO) Executor start aborting (this does not indicate an error and you can ignore this message): INVALID_ARGUMENT: You must feed a value for placeholder tensor 'Placeholder/_1' with dtype float and shape [500]\n",
      "\t [[{{node Placeholder/_1}}]]\n",
      "2023-05-14 10:00:11.430746: I tensorflow/core/common_runtime/executor.cc:1197] [/device:CPU:0] (DEBUG INFO) Executor start aborting (this does not indicate an error and you can ignore this message): INVALID_ARGUMENT: You must feed a value for placeholder tensor 'Placeholder/_1' with dtype float and shape [500]\n",
      "\t [[{{node Placeholder/_1}}]]\n",
      "2023-05-14 10:00:11.434049: I tensorflow/core/common_runtime/executor.cc:1197] [/device:CPU:0] (DEBUG INFO) Executor start aborting (this does not indicate an error and you can ignore this message): INVALID_ARGUMENT: You must feed a value for placeholder tensor 'Placeholder/_1' with dtype float and shape [500]\n",
      "\t [[{{node Placeholder/_1}}]]\n",
      "2023-05-14 10:00:11.437339: I tensorflow/core/common_runtime/executor.cc:1197] [/device:CPU:0] (DEBUG INFO) Executor start aborting (this does not indicate an error and you can ignore this message): INVALID_ARGUMENT: You must feed a value for placeholder tensor 'Placeholder/_1' with dtype float and shape [500]\n",
      "\t [[{{node Placeholder/_1}}]]\n",
      "2023-05-14 10:00:11.440474: I tensorflow/core/common_runtime/executor.cc:1197] [/device:CPU:0] (DEBUG INFO) Executor start aborting (this does not indicate an error and you can ignore this message): INVALID_ARGUMENT: You must feed a value for placeholder tensor 'Placeholder/_1' with dtype float and shape [500]\n",
      "\t [[{{node Placeholder/_1}}]]\n",
      "2023-05-14 10:00:11.443772: I tensorflow/core/common_runtime/executor.cc:1197] [/device:CPU:0] (DEBUG INFO) Executor start aborting (this does not indicate an error and you can ignore this message): INVALID_ARGUMENT: You must feed a value for placeholder tensor 'Placeholder/_1' with dtype float and shape [500]\n",
      "\t [[{{node Placeholder/_1}}]]\n"
     ]
    },
    {
     "name": "stdout",
     "output_type": "stream",
     "text": [
      "\n",
      "Testing for epoch 16 index 3:\n",
      "65/65 [==============================] - 0s 459us/step\n"
     ]
    },
    {
     "name": "stderr",
     "output_type": "stream",
     "text": [
      "2023-05-14 10:00:11.714825: I tensorflow/core/common_runtime/executor.cc:1197] [/device:CPU:0] (DEBUG INFO) Executor start aborting (this does not indicate an error and you can ignore this message): INVALID_ARGUMENT: You must feed a value for placeholder tensor 'Placeholder/_1' with dtype int64 and shape [1000]\n",
      "\t [[{{node Placeholder/_1}}]]\n",
      "2023-05-14 10:00:11.785198: I tensorflow/core/common_runtime/executor.cc:1197] [/device:CPU:0] (DEBUG INFO) Executor start aborting (this does not indicate an error and you can ignore this message): INVALID_ARGUMENT: You must feed a value for placeholder tensor 'Placeholder/_1' with dtype float and shape [500]\n",
      "\t [[{{node Placeholder/_1}}]]\n",
      "2023-05-14 10:00:11.788759: I tensorflow/core/common_runtime/executor.cc:1197] [/device:CPU:0] (DEBUG INFO) Executor start aborting (this does not indicate an error and you can ignore this message): INVALID_ARGUMENT: You must feed a value for placeholder tensor 'Placeholder/_1' with dtype float and shape [500]\n",
      "\t [[{{node Placeholder/_1}}]]\n",
      "2023-05-14 10:00:11.792147: I tensorflow/core/common_runtime/executor.cc:1197] [/device:CPU:0] (DEBUG INFO) Executor start aborting (this does not indicate an error and you can ignore this message): INVALID_ARGUMENT: You must feed a value for placeholder tensor 'Placeholder/_1' with dtype float and shape [500]\n",
      "\t [[{{node Placeholder/_1}}]]\n",
      "2023-05-14 10:00:11.795693: I tensorflow/core/common_runtime/executor.cc:1197] [/device:CPU:0] (DEBUG INFO) Executor start aborting (this does not indicate an error and you can ignore this message): INVALID_ARGUMENT: You must feed a value for placeholder tensor 'Placeholder/_1' with dtype float and shape [500]\n",
      "\t [[{{node Placeholder/_1}}]]\n",
      "2023-05-14 10:00:11.799609: I tensorflow/core/common_runtime/executor.cc:1197] [/device:CPU:0] (DEBUG INFO) Executor start aborting (this does not indicate an error and you can ignore this message): INVALID_ARGUMENT: You must feed a value for placeholder tensor 'Placeholder/_1' with dtype float and shape [500]\n",
      "\t [[{{node Placeholder/_1}}]]\n",
      "2023-05-14 10:00:11.802866: I tensorflow/core/common_runtime/executor.cc:1197] [/device:CPU:0] (DEBUG INFO) Executor start aborting (this does not indicate an error and you can ignore this message): INVALID_ARGUMENT: You must feed a value for placeholder tensor 'Placeholder/_1' with dtype float and shape [500]\n",
      "\t [[{{node Placeholder/_1}}]]\n",
      "2023-05-14 10:00:11.806768: I tensorflow/core/common_runtime/executor.cc:1197] [/device:CPU:0] (DEBUG INFO) Executor start aborting (this does not indicate an error and you can ignore this message): INVALID_ARGUMENT: You must feed a value for placeholder tensor 'Placeholder/_1' with dtype float and shape [500]\n",
      "\t [[{{node Placeholder/_1}}]]\n",
      "2023-05-14 10:00:11.810666: I tensorflow/core/common_runtime/executor.cc:1197] [/device:CPU:0] (DEBUG INFO) Executor start aborting (this does not indicate an error and you can ignore this message): INVALID_ARGUMENT: You must feed a value for placeholder tensor 'Placeholder/_1' with dtype float and shape [500]\n",
      "\t [[{{node Placeholder/_1}}]]\n",
      "2023-05-14 10:00:11.813778: I tensorflow/core/common_runtime/executor.cc:1197] [/device:CPU:0] (DEBUG INFO) Executor start aborting (this does not indicate an error and you can ignore this message): INVALID_ARGUMENT: You must feed a value for placeholder tensor 'Placeholder/_1' with dtype float and shape [500]\n",
      "\t [[{{node Placeholder/_1}}]]\n",
      "2023-05-14 10:00:11.817313: I tensorflow/core/common_runtime/executor.cc:1197] [/device:CPU:0] (DEBUG INFO) Executor start aborting (this does not indicate an error and you can ignore this message): INVALID_ARGUMENT: You must feed a value for placeholder tensor 'Placeholder/_1' with dtype float and shape [500]\n",
      "\t [[{{node Placeholder/_1}}]]\n"
     ]
    },
    {
     "name": "stdout",
     "output_type": "stream",
     "text": [
      "\n",
      "Testing for epoch 16 index 4:\n",
      "65/65 [==============================] - 0s 501us/step\n"
     ]
    },
    {
     "name": "stderr",
     "output_type": "stream",
     "text": [
      "2023-05-14 10:00:12.110824: I tensorflow/core/common_runtime/executor.cc:1197] [/device:CPU:0] (DEBUG INFO) Executor start aborting (this does not indicate an error and you can ignore this message): INVALID_ARGUMENT: You must feed a value for placeholder tensor 'Placeholder/_1' with dtype int64 and shape [1000]\n",
      "\t [[{{node Placeholder/_1}}]]\n",
      "2023-05-14 10:00:12.184954: I tensorflow/core/common_runtime/executor.cc:1197] [/device:CPU:0] (DEBUG INFO) Executor start aborting (this does not indicate an error and you can ignore this message): INVALID_ARGUMENT: You must feed a value for placeholder tensor 'Placeholder/_1' with dtype float and shape [500]\n",
      "\t [[{{node Placeholder/_1}}]]\n",
      "2023-05-14 10:00:12.189373: I tensorflow/core/common_runtime/executor.cc:1197] [/device:CPU:0] (DEBUG INFO) Executor start aborting (this does not indicate an error and you can ignore this message): INVALID_ARGUMENT: You must feed a value for placeholder tensor 'Placeholder/_1' with dtype float and shape [500]\n",
      "\t [[{{node Placeholder/_1}}]]\n",
      "2023-05-14 10:00:12.193026: I tensorflow/core/common_runtime/executor.cc:1197] [/device:CPU:0] (DEBUG INFO) Executor start aborting (this does not indicate an error and you can ignore this message): INVALID_ARGUMENT: You must feed a value for placeholder tensor 'Placeholder/_1' with dtype float and shape [500]\n",
      "\t [[{{node Placeholder/_1}}]]\n",
      "2023-05-14 10:00:12.196240: I tensorflow/core/common_runtime/executor.cc:1197] [/device:CPU:0] (DEBUG INFO) Executor start aborting (this does not indicate an error and you can ignore this message): INVALID_ARGUMENT: You must feed a value for placeholder tensor 'Placeholder/_1' with dtype float and shape [500]\n",
      "\t [[{{node Placeholder/_1}}]]\n",
      "2023-05-14 10:00:12.199779: I tensorflow/core/common_runtime/executor.cc:1197] [/device:CPU:0] (DEBUG INFO) Executor start aborting (this does not indicate an error and you can ignore this message): INVALID_ARGUMENT: You must feed a value for placeholder tensor 'Placeholder/_1' with dtype float and shape [500]\n",
      "\t [[{{node Placeholder/_1}}]]\n",
      "2023-05-14 10:00:12.202925: I tensorflow/core/common_runtime/executor.cc:1197] [/device:CPU:0] (DEBUG INFO) Executor start aborting (this does not indicate an error and you can ignore this message): INVALID_ARGUMENT: You must feed a value for placeholder tensor 'Placeholder/_1' with dtype float and shape [500]\n",
      "\t [[{{node Placeholder/_1}}]]\n",
      "2023-05-14 10:00:12.206505: I tensorflow/core/common_runtime/executor.cc:1197] [/device:CPU:0] (DEBUG INFO) Executor start aborting (this does not indicate an error and you can ignore this message): INVALID_ARGUMENT: You must feed a value for placeholder tensor 'Placeholder/_1' with dtype float and shape [500]\n",
      "\t [[{{node Placeholder/_1}}]]\n",
      "2023-05-14 10:00:12.209820: I tensorflow/core/common_runtime/executor.cc:1197] [/device:CPU:0] (DEBUG INFO) Executor start aborting (this does not indicate an error and you can ignore this message): INVALID_ARGUMENT: You must feed a value for placeholder tensor 'Placeholder/_1' with dtype float and shape [500]\n",
      "\t [[{{node Placeholder/_1}}]]\n",
      "2023-05-14 10:00:12.213786: I tensorflow/core/common_runtime/executor.cc:1197] [/device:CPU:0] (DEBUG INFO) Executor start aborting (this does not indicate an error and you can ignore this message): INVALID_ARGUMENT: You must feed a value for placeholder tensor 'Placeholder/_1' with dtype float and shape [500]\n",
      "\t [[{{node Placeholder/_1}}]]\n",
      "2023-05-14 10:00:12.217285: I tensorflow/core/common_runtime/executor.cc:1197] [/device:CPU:0] (DEBUG INFO) Executor start aborting (this does not indicate an error and you can ignore this message): INVALID_ARGUMENT: You must feed a value for placeholder tensor 'Placeholder/_1' with dtype float and shape [500]\n",
      "\t [[{{node Placeholder/_1}}]]\n"
     ]
    },
    {
     "name": "stdout",
     "output_type": "stream",
     "text": [
      "Epoch 17 of 60\n",
      "\n",
      "Testing for epoch 17 index 1:\n",
      "65/65 [==============================] - 0s 456us/step\n"
     ]
    },
    {
     "name": "stderr",
     "output_type": "stream",
     "text": [
      "2023-05-14 10:00:12.486547: I tensorflow/core/common_runtime/executor.cc:1197] [/device:CPU:0] (DEBUG INFO) Executor start aborting (this does not indicate an error and you can ignore this message): INVALID_ARGUMENT: You must feed a value for placeholder tensor 'Placeholder/_1' with dtype int64 and shape [1000]\n",
      "\t [[{{node Placeholder/_1}}]]\n",
      "2023-05-14 10:00:12.557173: I tensorflow/core/common_runtime/executor.cc:1197] [/device:CPU:0] (DEBUG INFO) Executor start aborting (this does not indicate an error and you can ignore this message): INVALID_ARGUMENT: You must feed a value for placeholder tensor 'Placeholder/_1' with dtype float and shape [500]\n",
      "\t [[{{node Placeholder/_1}}]]\n",
      "2023-05-14 10:00:12.561005: I tensorflow/core/common_runtime/executor.cc:1197] [/device:CPU:0] (DEBUG INFO) Executor start aborting (this does not indicate an error and you can ignore this message): INVALID_ARGUMENT: You must feed a value for placeholder tensor 'Placeholder/_1' with dtype float and shape [500]\n",
      "\t [[{{node Placeholder/_1}}]]\n",
      "2023-05-14 10:00:12.564506: I tensorflow/core/common_runtime/executor.cc:1197] [/device:CPU:0] (DEBUG INFO) Executor start aborting (this does not indicate an error and you can ignore this message): INVALID_ARGUMENT: You must feed a value for placeholder tensor 'Placeholder/_1' with dtype float and shape [500]\n",
      "\t [[{{node Placeholder/_1}}]]\n",
      "2023-05-14 10:00:12.568104: I tensorflow/core/common_runtime/executor.cc:1197] [/device:CPU:0] (DEBUG INFO) Executor start aborting (this does not indicate an error and you can ignore this message): INVALID_ARGUMENT: You must feed a value for placeholder tensor 'Placeholder/_1' with dtype float and shape [500]\n",
      "\t [[{{node Placeholder/_1}}]]\n",
      "2023-05-14 10:00:12.571434: I tensorflow/core/common_runtime/executor.cc:1197] [/device:CPU:0] (DEBUG INFO) Executor start aborting (this does not indicate an error and you can ignore this message): INVALID_ARGUMENT: You must feed a value for placeholder tensor 'Placeholder/_1' with dtype float and shape [500]\n",
      "\t [[{{node Placeholder/_1}}]]\n",
      "2023-05-14 10:00:12.574774: I tensorflow/core/common_runtime/executor.cc:1197] [/device:CPU:0] (DEBUG INFO) Executor start aborting (this does not indicate an error and you can ignore this message): INVALID_ARGUMENT: You must feed a value for placeholder tensor 'Placeholder/_1' with dtype float and shape [500]\n",
      "\t [[{{node Placeholder/_1}}]]\n",
      "2023-05-14 10:00:12.577882: I tensorflow/core/common_runtime/executor.cc:1197] [/device:CPU:0] (DEBUG INFO) Executor start aborting (this does not indicate an error and you can ignore this message): INVALID_ARGUMENT: You must feed a value for placeholder tensor 'Placeholder/_1' with dtype float and shape [500]\n",
      "\t [[{{node Placeholder/_1}}]]\n",
      "2023-05-14 10:00:12.581403: I tensorflow/core/common_runtime/executor.cc:1197] [/device:CPU:0] (DEBUG INFO) Executor start aborting (this does not indicate an error and you can ignore this message): INVALID_ARGUMENT: You must feed a value for placeholder tensor 'Placeholder/_1' with dtype float and shape [500]\n",
      "\t [[{{node Placeholder/_1}}]]\n",
      "2023-05-14 10:00:12.584526: I tensorflow/core/common_runtime/executor.cc:1197] [/device:CPU:0] (DEBUG INFO) Executor start aborting (this does not indicate an error and you can ignore this message): INVALID_ARGUMENT: You must feed a value for placeholder tensor 'Placeholder/_1' with dtype float and shape [500]\n",
      "\t [[{{node Placeholder/_1}}]]\n",
      "2023-05-14 10:00:12.587956: I tensorflow/core/common_runtime/executor.cc:1197] [/device:CPU:0] (DEBUG INFO) Executor start aborting (this does not indicate an error and you can ignore this message): INVALID_ARGUMENT: You must feed a value for placeholder tensor 'Placeholder/_1' with dtype float and shape [500]\n",
      "\t [[{{node Placeholder/_1}}]]\n"
     ]
    },
    {
     "name": "stdout",
     "output_type": "stream",
     "text": [
      "\n",
      "Testing for epoch 17 index 2:\n",
      "65/65 [==============================] - 0s 465us/step\n"
     ]
    },
    {
     "name": "stderr",
     "output_type": "stream",
     "text": [
      "2023-05-14 10:00:12.843343: I tensorflow/core/common_runtime/executor.cc:1197] [/device:CPU:0] (DEBUG INFO) Executor start aborting (this does not indicate an error and you can ignore this message): INVALID_ARGUMENT: You must feed a value for placeholder tensor 'Placeholder/_1' with dtype int64 and shape [1000]\n",
      "\t [[{{node Placeholder/_1}}]]\n",
      "2023-05-14 10:00:12.914168: I tensorflow/core/common_runtime/executor.cc:1197] [/device:CPU:0] (DEBUG INFO) Executor start aborting (this does not indicate an error and you can ignore this message): INVALID_ARGUMENT: You must feed a value for placeholder tensor 'Placeholder/_1' with dtype float and shape [500]\n",
      "\t [[{{node Placeholder/_1}}]]\n",
      "2023-05-14 10:00:12.917850: I tensorflow/core/common_runtime/executor.cc:1197] [/device:CPU:0] (DEBUG INFO) Executor start aborting (this does not indicate an error and you can ignore this message): INVALID_ARGUMENT: You must feed a value for placeholder tensor 'Placeholder/_1' with dtype float and shape [500]\n",
      "\t [[{{node Placeholder/_1}}]]\n",
      "2023-05-14 10:00:12.921007: I tensorflow/core/common_runtime/executor.cc:1197] [/device:CPU:0] (DEBUG INFO) Executor start aborting (this does not indicate an error and you can ignore this message): INVALID_ARGUMENT: You must feed a value for placeholder tensor 'Placeholder/_1' with dtype float and shape [500]\n",
      "\t [[{{node Placeholder/_1}}]]\n",
      "2023-05-14 10:00:12.924122: I tensorflow/core/common_runtime/executor.cc:1197] [/device:CPU:0] (DEBUG INFO) Executor start aborting (this does not indicate an error and you can ignore this message): INVALID_ARGUMENT: You must feed a value for placeholder tensor 'Placeholder/_1' with dtype float and shape [500]\n",
      "\t [[{{node Placeholder/_1}}]]\n",
      "2023-05-14 10:00:12.927184: I tensorflow/core/common_runtime/executor.cc:1197] [/device:CPU:0] (DEBUG INFO) Executor start aborting (this does not indicate an error and you can ignore this message): INVALID_ARGUMENT: You must feed a value for placeholder tensor 'Placeholder/_1' with dtype float and shape [500]\n",
      "\t [[{{node Placeholder/_1}}]]\n",
      "2023-05-14 10:00:12.930505: I tensorflow/core/common_runtime/executor.cc:1197] [/device:CPU:0] (DEBUG INFO) Executor start aborting (this does not indicate an error and you can ignore this message): INVALID_ARGUMENT: You must feed a value for placeholder tensor 'Placeholder/_1' with dtype float and shape [500]\n",
      "\t [[{{node Placeholder/_1}}]]\n",
      "2023-05-14 10:00:12.933448: I tensorflow/core/common_runtime/executor.cc:1197] [/device:CPU:0] (DEBUG INFO) Executor start aborting (this does not indicate an error and you can ignore this message): INVALID_ARGUMENT: You must feed a value for placeholder tensor 'Placeholder/_1' with dtype float and shape [500]\n",
      "\t [[{{node Placeholder/_1}}]]\n",
      "2023-05-14 10:00:12.936522: I tensorflow/core/common_runtime/executor.cc:1197] [/device:CPU:0] (DEBUG INFO) Executor start aborting (this does not indicate an error and you can ignore this message): INVALID_ARGUMENT: You must feed a value for placeholder tensor 'Placeholder/_1' with dtype float and shape [500]\n",
      "\t [[{{node Placeholder/_1}}]]\n",
      "2023-05-14 10:00:12.939852: I tensorflow/core/common_runtime/executor.cc:1197] [/device:CPU:0] (DEBUG INFO) Executor start aborting (this does not indicate an error and you can ignore this message): INVALID_ARGUMENT: You must feed a value for placeholder tensor 'Placeholder/_1' with dtype float and shape [500]\n",
      "\t [[{{node Placeholder/_1}}]]\n",
      "2023-05-14 10:00:12.943268: I tensorflow/core/common_runtime/executor.cc:1197] [/device:CPU:0] (DEBUG INFO) Executor start aborting (this does not indicate an error and you can ignore this message): INVALID_ARGUMENT: You must feed a value for placeholder tensor 'Placeholder/_1' with dtype float and shape [500]\n",
      "\t [[{{node Placeholder/_1}}]]\n"
     ]
    },
    {
     "name": "stdout",
     "output_type": "stream",
     "text": [
      "\n",
      "Testing for epoch 17 index 3:\n",
      "65/65 [==============================] - 0s 452us/step\n"
     ]
    },
    {
     "name": "stderr",
     "output_type": "stream",
     "text": [
      "2023-05-14 10:00:13.187095: I tensorflow/core/common_runtime/executor.cc:1197] [/device:CPU:0] (DEBUG INFO) Executor start aborting (this does not indicate an error and you can ignore this message): INVALID_ARGUMENT: You must feed a value for placeholder tensor 'Placeholder/_1' with dtype int64 and shape [1000]\n",
      "\t [[{{node Placeholder/_1}}]]\n",
      "2023-05-14 10:00:13.256555: I tensorflow/core/common_runtime/executor.cc:1197] [/device:CPU:0] (DEBUG INFO) Executor start aborting (this does not indicate an error and you can ignore this message): INVALID_ARGUMENT: You must feed a value for placeholder tensor 'Placeholder/_1' with dtype float and shape [500]\n",
      "\t [[{{node Placeholder/_1}}]]\n",
      "2023-05-14 10:00:13.259862: I tensorflow/core/common_runtime/executor.cc:1197] [/device:CPU:0] (DEBUG INFO) Executor start aborting (this does not indicate an error and you can ignore this message): INVALID_ARGUMENT: You must feed a value for placeholder tensor 'Placeholder/_1' with dtype float and shape [500]\n",
      "\t [[{{node Placeholder/_1}}]]\n",
      "2023-05-14 10:00:13.262999: I tensorflow/core/common_runtime/executor.cc:1197] [/device:CPU:0] (DEBUG INFO) Executor start aborting (this does not indicate an error and you can ignore this message): INVALID_ARGUMENT: You must feed a value for placeholder tensor 'Placeholder/_1' with dtype float and shape [500]\n",
      "\t [[{{node Placeholder/_1}}]]\n",
      "2023-05-14 10:00:13.265862: I tensorflow/core/common_runtime/executor.cc:1197] [/device:CPU:0] (DEBUG INFO) Executor start aborting (this does not indicate an error and you can ignore this message): INVALID_ARGUMENT: You must feed a value for placeholder tensor 'Placeholder/_1' with dtype float and shape [500]\n",
      "\t [[{{node Placeholder/_1}}]]\n",
      "2023-05-14 10:00:13.269101: I tensorflow/core/common_runtime/executor.cc:1197] [/device:CPU:0] (DEBUG INFO) Executor start aborting (this does not indicate an error and you can ignore this message): INVALID_ARGUMENT: You must feed a value for placeholder tensor 'Placeholder/_1' with dtype float and shape [500]\n",
      "\t [[{{node Placeholder/_1}}]]\n",
      "2023-05-14 10:00:13.272001: I tensorflow/core/common_runtime/executor.cc:1197] [/device:CPU:0] (DEBUG INFO) Executor start aborting (this does not indicate an error and you can ignore this message): INVALID_ARGUMENT: You must feed a value for placeholder tensor 'Placeholder/_1' with dtype float and shape [500]\n",
      "\t [[{{node Placeholder/_1}}]]\n",
      "2023-05-14 10:00:13.274842: I tensorflow/core/common_runtime/executor.cc:1197] [/device:CPU:0] (DEBUG INFO) Executor start aborting (this does not indicate an error and you can ignore this message): INVALID_ARGUMENT: You must feed a value for placeholder tensor 'Placeholder/_1' with dtype float and shape [500]\n",
      "\t [[{{node Placeholder/_1}}]]\n",
      "2023-05-14 10:00:13.277728: I tensorflow/core/common_runtime/executor.cc:1197] [/device:CPU:0] (DEBUG INFO) Executor start aborting (this does not indicate an error and you can ignore this message): INVALID_ARGUMENT: You must feed a value for placeholder tensor 'Placeholder/_1' with dtype float and shape [500]\n",
      "\t [[{{node Placeholder/_1}}]]\n",
      "2023-05-14 10:00:13.280589: I tensorflow/core/common_runtime/executor.cc:1197] [/device:CPU:0] (DEBUG INFO) Executor start aborting (this does not indicate an error and you can ignore this message): INVALID_ARGUMENT: You must feed a value for placeholder tensor 'Placeholder/_1' with dtype float and shape [500]\n",
      "\t [[{{node Placeholder/_1}}]]\n",
      "2023-05-14 10:00:13.283718: I tensorflow/core/common_runtime/executor.cc:1197] [/device:CPU:0] (DEBUG INFO) Executor start aborting (this does not indicate an error and you can ignore this message): INVALID_ARGUMENT: You must feed a value for placeholder tensor 'Placeholder/_1' with dtype float and shape [500]\n",
      "\t [[{{node Placeholder/_1}}]]\n"
     ]
    },
    {
     "name": "stdout",
     "output_type": "stream",
     "text": [
      "\n",
      "Testing for epoch 17 index 4:\n",
      "65/65 [==============================] - 0s 427us/step\n"
     ]
    },
    {
     "name": "stderr",
     "output_type": "stream",
     "text": [
      "2023-05-14 10:00:13.526390: I tensorflow/core/common_runtime/executor.cc:1197] [/device:CPU:0] (DEBUG INFO) Executor start aborting (this does not indicate an error and you can ignore this message): INVALID_ARGUMENT: You must feed a value for placeholder tensor 'Placeholder/_1' with dtype int64 and shape [1000]\n",
      "\t [[{{node Placeholder/_1}}]]\n",
      "2023-05-14 10:00:13.592463: I tensorflow/core/common_runtime/executor.cc:1197] [/device:CPU:0] (DEBUG INFO) Executor start aborting (this does not indicate an error and you can ignore this message): INVALID_ARGUMENT: You must feed a value for placeholder tensor 'Placeholder/_1' with dtype float and shape [500]\n",
      "\t [[{{node Placeholder/_1}}]]\n",
      "2023-05-14 10:00:13.596093: I tensorflow/core/common_runtime/executor.cc:1197] [/device:CPU:0] (DEBUG INFO) Executor start aborting (this does not indicate an error and you can ignore this message): INVALID_ARGUMENT: You must feed a value for placeholder tensor 'Placeholder/_1' with dtype float and shape [500]\n",
      "\t [[{{node Placeholder/_1}}]]\n",
      "2023-05-14 10:00:13.599080: I tensorflow/core/common_runtime/executor.cc:1197] [/device:CPU:0] (DEBUG INFO) Executor start aborting (this does not indicate an error and you can ignore this message): INVALID_ARGUMENT: You must feed a value for placeholder tensor 'Placeholder/_1' with dtype float and shape [500]\n",
      "\t [[{{node Placeholder/_1}}]]\n",
      "2023-05-14 10:00:13.602594: I tensorflow/core/common_runtime/executor.cc:1197] [/device:CPU:0] (DEBUG INFO) Executor start aborting (this does not indicate an error and you can ignore this message): INVALID_ARGUMENT: You must feed a value for placeholder tensor 'Placeholder/_1' with dtype float and shape [500]\n",
      "\t [[{{node Placeholder/_1}}]]\n",
      "2023-05-14 10:00:13.605439: I tensorflow/core/common_runtime/executor.cc:1197] [/device:CPU:0] (DEBUG INFO) Executor start aborting (this does not indicate an error and you can ignore this message): INVALID_ARGUMENT: You must feed a value for placeholder tensor 'Placeholder/_1' with dtype float and shape [500]\n",
      "\t [[{{node Placeholder/_1}}]]\n",
      "2023-05-14 10:00:13.608324: I tensorflow/core/common_runtime/executor.cc:1197] [/device:CPU:0] (DEBUG INFO) Executor start aborting (this does not indicate an error and you can ignore this message): INVALID_ARGUMENT: You must feed a value for placeholder tensor 'Placeholder/_1' with dtype float and shape [500]\n",
      "\t [[{{node Placeholder/_1}}]]\n",
      "2023-05-14 10:00:13.611397: I tensorflow/core/common_runtime/executor.cc:1197] [/device:CPU:0] (DEBUG INFO) Executor start aborting (this does not indicate an error and you can ignore this message): INVALID_ARGUMENT: You must feed a value for placeholder tensor 'Placeholder/_1' with dtype float and shape [500]\n",
      "\t [[{{node Placeholder/_1}}]]\n",
      "2023-05-14 10:00:13.614229: I tensorflow/core/common_runtime/executor.cc:1197] [/device:CPU:0] (DEBUG INFO) Executor start aborting (this does not indicate an error and you can ignore this message): INVALID_ARGUMENT: You must feed a value for placeholder tensor 'Placeholder/_1' with dtype float and shape [500]\n",
      "\t [[{{node Placeholder/_1}}]]\n",
      "2023-05-14 10:00:13.617421: I tensorflow/core/common_runtime/executor.cc:1197] [/device:CPU:0] (DEBUG INFO) Executor start aborting (this does not indicate an error and you can ignore this message): INVALID_ARGUMENT: You must feed a value for placeholder tensor 'Placeholder/_1' with dtype float and shape [500]\n",
      "\t [[{{node Placeholder/_1}}]]\n",
      "2023-05-14 10:00:13.620313: I tensorflow/core/common_runtime/executor.cc:1197] [/device:CPU:0] (DEBUG INFO) Executor start aborting (this does not indicate an error and you can ignore this message): INVALID_ARGUMENT: You must feed a value for placeholder tensor 'Placeholder/_1' with dtype float and shape [500]\n",
      "\t [[{{node Placeholder/_1}}]]\n"
     ]
    },
    {
     "name": "stdout",
     "output_type": "stream",
     "text": [
      "Epoch 18 of 60\n",
      "\n",
      "Testing for epoch 18 index 1:\n",
      "65/65 [==============================] - 0s 435us/step\n"
     ]
    },
    {
     "name": "stderr",
     "output_type": "stream",
     "text": [
      "2023-05-14 10:00:13.863464: I tensorflow/core/common_runtime/executor.cc:1197] [/device:CPU:0] (DEBUG INFO) Executor start aborting (this does not indicate an error and you can ignore this message): INVALID_ARGUMENT: You must feed a value for placeholder tensor 'Placeholder/_1' with dtype int64 and shape [1000]\n",
      "\t [[{{node Placeholder/_1}}]]\n",
      "2023-05-14 10:00:13.930920: I tensorflow/core/common_runtime/executor.cc:1197] [/device:CPU:0] (DEBUG INFO) Executor start aborting (this does not indicate an error and you can ignore this message): INVALID_ARGUMENT: You must feed a value for placeholder tensor 'Placeholder/_1' with dtype float and shape [500]\n",
      "\t [[{{node Placeholder/_1}}]]\n",
      "2023-05-14 10:00:13.934277: I tensorflow/core/common_runtime/executor.cc:1197] [/device:CPU:0] (DEBUG INFO) Executor start aborting (this does not indicate an error and you can ignore this message): INVALID_ARGUMENT: You must feed a value for placeholder tensor 'Placeholder/_1' with dtype float and shape [500]\n",
      "\t [[{{node Placeholder/_1}}]]\n",
      "2023-05-14 10:00:13.937301: I tensorflow/core/common_runtime/executor.cc:1197] [/device:CPU:0] (DEBUG INFO) Executor start aborting (this does not indicate an error and you can ignore this message): INVALID_ARGUMENT: You must feed a value for placeholder tensor 'Placeholder/_1' with dtype float and shape [500]\n",
      "\t [[{{node Placeholder/_1}}]]\n",
      "2023-05-14 10:00:13.940214: I tensorflow/core/common_runtime/executor.cc:1197] [/device:CPU:0] (DEBUG INFO) Executor start aborting (this does not indicate an error and you can ignore this message): INVALID_ARGUMENT: You must feed a value for placeholder tensor 'Placeholder/_1' with dtype float and shape [500]\n",
      "\t [[{{node Placeholder/_1}}]]\n",
      "2023-05-14 10:00:13.943476: I tensorflow/core/common_runtime/executor.cc:1197] [/device:CPU:0] (DEBUG INFO) Executor start aborting (this does not indicate an error and you can ignore this message): INVALID_ARGUMENT: You must feed a value for placeholder tensor 'Placeholder/_1' with dtype float and shape [500]\n",
      "\t [[{{node Placeholder/_1}}]]\n",
      "2023-05-14 10:00:13.946359: I tensorflow/core/common_runtime/executor.cc:1197] [/device:CPU:0] (DEBUG INFO) Executor start aborting (this does not indicate an error and you can ignore this message): INVALID_ARGUMENT: You must feed a value for placeholder tensor 'Placeholder/_1' with dtype float and shape [500]\n",
      "\t [[{{node Placeholder/_1}}]]\n",
      "2023-05-14 10:00:13.949690: I tensorflow/core/common_runtime/executor.cc:1197] [/device:CPU:0] (DEBUG INFO) Executor start aborting (this does not indicate an error and you can ignore this message): INVALID_ARGUMENT: You must feed a value for placeholder tensor 'Placeholder/_1' with dtype float and shape [500]\n",
      "\t [[{{node Placeholder/_1}}]]\n",
      "2023-05-14 10:00:13.952635: I tensorflow/core/common_runtime/executor.cc:1197] [/device:CPU:0] (DEBUG INFO) Executor start aborting (this does not indicate an error and you can ignore this message): INVALID_ARGUMENT: You must feed a value for placeholder tensor 'Placeholder/_1' with dtype float and shape [500]\n",
      "\t [[{{node Placeholder/_1}}]]\n",
      "2023-05-14 10:00:13.956454: I tensorflow/core/common_runtime/executor.cc:1197] [/device:CPU:0] (DEBUG INFO) Executor start aborting (this does not indicate an error and you can ignore this message): INVALID_ARGUMENT: You must feed a value for placeholder tensor 'Placeholder/_1' with dtype float and shape [500]\n",
      "\t [[{{node Placeholder/_1}}]]\n",
      "2023-05-14 10:00:13.959740: I tensorflow/core/common_runtime/executor.cc:1197] [/device:CPU:0] (DEBUG INFO) Executor start aborting (this does not indicate an error and you can ignore this message): INVALID_ARGUMENT: You must feed a value for placeholder tensor 'Placeholder/_1' with dtype float and shape [500]\n",
      "\t [[{{node Placeholder/_1}}]]\n"
     ]
    },
    {
     "name": "stdout",
     "output_type": "stream",
     "text": [
      "\n",
      "Testing for epoch 18 index 2:\n",
      "65/65 [==============================] - 0s 450us/step\n"
     ]
    },
    {
     "name": "stderr",
     "output_type": "stream",
     "text": [
      "2023-05-14 10:00:14.203068: I tensorflow/core/common_runtime/executor.cc:1197] [/device:CPU:0] (DEBUG INFO) Executor start aborting (this does not indicate an error and you can ignore this message): INVALID_ARGUMENT: You must feed a value for placeholder tensor 'Placeholder/_1' with dtype int64 and shape [1000]\n",
      "\t [[{{node Placeholder/_1}}]]\n",
      "2023-05-14 10:00:14.274583: I tensorflow/core/common_runtime/executor.cc:1197] [/device:CPU:0] (DEBUG INFO) Executor start aborting (this does not indicate an error and you can ignore this message): INVALID_ARGUMENT: You must feed a value for placeholder tensor 'Placeholder/_1' with dtype float and shape [500]\n",
      "\t [[{{node Placeholder/_1}}]]\n",
      "2023-05-14 10:00:14.278220: I tensorflow/core/common_runtime/executor.cc:1197] [/device:CPU:0] (DEBUG INFO) Executor start aborting (this does not indicate an error and you can ignore this message): INVALID_ARGUMENT: You must feed a value for placeholder tensor 'Placeholder/_1' with dtype float and shape [500]\n",
      "\t [[{{node Placeholder/_1}}]]\n",
      "2023-05-14 10:00:14.281305: I tensorflow/core/common_runtime/executor.cc:1197] [/device:CPU:0] (DEBUG INFO) Executor start aborting (this does not indicate an error and you can ignore this message): INVALID_ARGUMENT: You must feed a value for placeholder tensor 'Placeholder/_1' with dtype float and shape [500]\n",
      "\t [[{{node Placeholder/_1}}]]\n",
      "2023-05-14 10:00:14.284492: I tensorflow/core/common_runtime/executor.cc:1197] [/device:CPU:0] (DEBUG INFO) Executor start aborting (this does not indicate an error and you can ignore this message): INVALID_ARGUMENT: You must feed a value for placeholder tensor 'Placeholder/_1' with dtype float and shape [500]\n",
      "\t [[{{node Placeholder/_1}}]]\n",
      "2023-05-14 10:00:14.287424: I tensorflow/core/common_runtime/executor.cc:1197] [/device:CPU:0] (DEBUG INFO) Executor start aborting (this does not indicate an error and you can ignore this message): INVALID_ARGUMENT: You must feed a value for placeholder tensor 'Placeholder/_1' with dtype float and shape [500]\n",
      "\t [[{{node Placeholder/_1}}]]\n",
      "2023-05-14 10:00:14.290677: I tensorflow/core/common_runtime/executor.cc:1197] [/device:CPU:0] (DEBUG INFO) Executor start aborting (this does not indicate an error and you can ignore this message): INVALID_ARGUMENT: You must feed a value for placeholder tensor 'Placeholder/_1' with dtype float and shape [500]\n",
      "\t [[{{node Placeholder/_1}}]]\n",
      "2023-05-14 10:00:14.293573: I tensorflow/core/common_runtime/executor.cc:1197] [/device:CPU:0] (DEBUG INFO) Executor start aborting (this does not indicate an error and you can ignore this message): INVALID_ARGUMENT: You must feed a value for placeholder tensor 'Placeholder/_1' with dtype float and shape [500]\n",
      "\t [[{{node Placeholder/_1}}]]\n",
      "2023-05-14 10:00:14.296845: I tensorflow/core/common_runtime/executor.cc:1197] [/device:CPU:0] (DEBUG INFO) Executor start aborting (this does not indicate an error and you can ignore this message): INVALID_ARGUMENT: You must feed a value for placeholder tensor 'Placeholder/_1' with dtype float and shape [500]\n",
      "\t [[{{node Placeholder/_1}}]]\n",
      "2023-05-14 10:00:14.299844: I tensorflow/core/common_runtime/executor.cc:1197] [/device:CPU:0] (DEBUG INFO) Executor start aborting (this does not indicate an error and you can ignore this message): INVALID_ARGUMENT: You must feed a value for placeholder tensor 'Placeholder/_1' with dtype float and shape [500]\n",
      "\t [[{{node Placeholder/_1}}]]\n",
      "2023-05-14 10:00:14.302718: I tensorflow/core/common_runtime/executor.cc:1197] [/device:CPU:0] (DEBUG INFO) Executor start aborting (this does not indicate an error and you can ignore this message): INVALID_ARGUMENT: You must feed a value for placeholder tensor 'Placeholder/_1' with dtype float and shape [500]\n",
      "\t [[{{node Placeholder/_1}}]]\n"
     ]
    },
    {
     "name": "stdout",
     "output_type": "stream",
     "text": [
      "\n",
      "Testing for epoch 18 index 3:\n",
      "65/65 [==============================] - 0s 425us/step\n"
     ]
    },
    {
     "name": "stderr",
     "output_type": "stream",
     "text": [
      "2023-05-14 10:00:14.554290: I tensorflow/core/common_runtime/executor.cc:1197] [/device:CPU:0] (DEBUG INFO) Executor start aborting (this does not indicate an error and you can ignore this message): INVALID_ARGUMENT: You must feed a value for placeholder tensor 'Placeholder/_1' with dtype int64 and shape [1000]\n",
      "\t [[{{node Placeholder/_1}}]]\n",
      "2023-05-14 10:00:14.620265: I tensorflow/core/common_runtime/executor.cc:1197] [/device:CPU:0] (DEBUG INFO) Executor start aborting (this does not indicate an error and you can ignore this message): INVALID_ARGUMENT: You must feed a value for placeholder tensor 'Placeholder/_1' with dtype float and shape [500]\n",
      "\t [[{{node Placeholder/_1}}]]\n",
      "2023-05-14 10:00:14.624141: I tensorflow/core/common_runtime/executor.cc:1197] [/device:CPU:0] (DEBUG INFO) Executor start aborting (this does not indicate an error and you can ignore this message): INVALID_ARGUMENT: You must feed a value for placeholder tensor 'Placeholder/_1' with dtype float and shape [500]\n",
      "\t [[{{node Placeholder/_1}}]]\n",
      "2023-05-14 10:00:14.627181: I tensorflow/core/common_runtime/executor.cc:1197] [/device:CPU:0] (DEBUG INFO) Executor start aborting (this does not indicate an error and you can ignore this message): INVALID_ARGUMENT: You must feed a value for placeholder tensor 'Placeholder/_1' with dtype float and shape [500]\n",
      "\t [[{{node Placeholder/_1}}]]\n",
      "2023-05-14 10:00:14.630626: I tensorflow/core/common_runtime/executor.cc:1197] [/device:CPU:0] (DEBUG INFO) Executor start aborting (this does not indicate an error and you can ignore this message): INVALID_ARGUMENT: You must feed a value for placeholder tensor 'Placeholder/_1' with dtype float and shape [500]\n",
      "\t [[{{node Placeholder/_1}}]]\n",
      "2023-05-14 10:00:14.633544: I tensorflow/core/common_runtime/executor.cc:1197] [/device:CPU:0] (DEBUG INFO) Executor start aborting (this does not indicate an error and you can ignore this message): INVALID_ARGUMENT: You must feed a value for placeholder tensor 'Placeholder/_1' with dtype float and shape [500]\n",
      "\t [[{{node Placeholder/_1}}]]\n",
      "2023-05-14 10:00:14.636990: I tensorflow/core/common_runtime/executor.cc:1197] [/device:CPU:0] (DEBUG INFO) Executor start aborting (this does not indicate an error and you can ignore this message): INVALID_ARGUMENT: You must feed a value for placeholder tensor 'Placeholder/_1' with dtype float and shape [500]\n",
      "\t [[{{node Placeholder/_1}}]]\n",
      "2023-05-14 10:00:14.639863: I tensorflow/core/common_runtime/executor.cc:1197] [/device:CPU:0] (DEBUG INFO) Executor start aborting (this does not indicate an error and you can ignore this message): INVALID_ARGUMENT: You must feed a value for placeholder tensor 'Placeholder/_1' with dtype float and shape [500]\n",
      "\t [[{{node Placeholder/_1}}]]\n",
      "2023-05-14 10:00:14.642675: I tensorflow/core/common_runtime/executor.cc:1197] [/device:CPU:0] (DEBUG INFO) Executor start aborting (this does not indicate an error and you can ignore this message): INVALID_ARGUMENT: You must feed a value for placeholder tensor 'Placeholder/_1' with dtype float and shape [500]\n",
      "\t [[{{node Placeholder/_1}}]]\n",
      "2023-05-14 10:00:14.645602: I tensorflow/core/common_runtime/executor.cc:1197] [/device:CPU:0] (DEBUG INFO) Executor start aborting (this does not indicate an error and you can ignore this message): INVALID_ARGUMENT: You must feed a value for placeholder tensor 'Placeholder/_1' with dtype float and shape [500]\n",
      "\t [[{{node Placeholder/_1}}]]\n",
      "2023-05-14 10:00:14.648481: I tensorflow/core/common_runtime/executor.cc:1197] [/device:CPU:0] (DEBUG INFO) Executor start aborting (this does not indicate an error and you can ignore this message): INVALID_ARGUMENT: You must feed a value for placeholder tensor 'Placeholder/_1' with dtype float and shape [500]\n",
      "\t [[{{node Placeholder/_1}}]]\n"
     ]
    },
    {
     "name": "stdout",
     "output_type": "stream",
     "text": [
      "\n",
      "Testing for epoch 18 index 4:\n",
      "65/65 [==============================] - 0s 425us/step\n"
     ]
    },
    {
     "name": "stderr",
     "output_type": "stream",
     "text": [
      "2023-05-14 10:00:14.891487: I tensorflow/core/common_runtime/executor.cc:1197] [/device:CPU:0] (DEBUG INFO) Executor start aborting (this does not indicate an error and you can ignore this message): INVALID_ARGUMENT: You must feed a value for placeholder tensor 'Placeholder/_1' with dtype int64 and shape [1000]\n",
      "\t [[{{node Placeholder/_1}}]]\n",
      "2023-05-14 10:00:14.958803: I tensorflow/core/common_runtime/executor.cc:1197] [/device:CPU:0] (DEBUG INFO) Executor start aborting (this does not indicate an error and you can ignore this message): INVALID_ARGUMENT: You must feed a value for placeholder tensor 'Placeholder/_1' with dtype float and shape [500]\n",
      "\t [[{{node Placeholder/_1}}]]\n",
      "2023-05-14 10:00:14.962054: I tensorflow/core/common_runtime/executor.cc:1197] [/device:CPU:0] (DEBUG INFO) Executor start aborting (this does not indicate an error and you can ignore this message): INVALID_ARGUMENT: You must feed a value for placeholder tensor 'Placeholder/_1' with dtype float and shape [500]\n",
      "\t [[{{node Placeholder/_1}}]]\n",
      "2023-05-14 10:00:14.965024: I tensorflow/core/common_runtime/executor.cc:1197] [/device:CPU:0] (DEBUG INFO) Executor start aborting (this does not indicate an error and you can ignore this message): INVALID_ARGUMENT: You must feed a value for placeholder tensor 'Placeholder/_1' with dtype float and shape [500]\n",
      "\t [[{{node Placeholder/_1}}]]\n",
      "2023-05-14 10:00:14.968062: I tensorflow/core/common_runtime/executor.cc:1197] [/device:CPU:0] (DEBUG INFO) Executor start aborting (this does not indicate an error and you can ignore this message): INVALID_ARGUMENT: You must feed a value for placeholder tensor 'Placeholder/_1' with dtype float and shape [500]\n",
      "\t [[{{node Placeholder/_1}}]]\n",
      "2023-05-14 10:00:14.971218: I tensorflow/core/common_runtime/executor.cc:1197] [/device:CPU:0] (DEBUG INFO) Executor start aborting (this does not indicate an error and you can ignore this message): INVALID_ARGUMENT: You must feed a value for placeholder tensor 'Placeholder/_1' with dtype float and shape [500]\n",
      "\t [[{{node Placeholder/_1}}]]\n",
      "2023-05-14 10:00:14.974045: I tensorflow/core/common_runtime/executor.cc:1197] [/device:CPU:0] (DEBUG INFO) Executor start aborting (this does not indicate an error and you can ignore this message): INVALID_ARGUMENT: You must feed a value for placeholder tensor 'Placeholder/_1' with dtype float and shape [500]\n",
      "\t [[{{node Placeholder/_1}}]]\n",
      "2023-05-14 10:00:14.977436: I tensorflow/core/common_runtime/executor.cc:1197] [/device:CPU:0] (DEBUG INFO) Executor start aborting (this does not indicate an error and you can ignore this message): INVALID_ARGUMENT: You must feed a value for placeholder tensor 'Placeholder/_1' with dtype float and shape [500]\n",
      "\t [[{{node Placeholder/_1}}]]\n",
      "2023-05-14 10:00:14.980404: I tensorflow/core/common_runtime/executor.cc:1197] [/device:CPU:0] (DEBUG INFO) Executor start aborting (this does not indicate an error and you can ignore this message): INVALID_ARGUMENT: You must feed a value for placeholder tensor 'Placeholder/_1' with dtype float and shape [500]\n",
      "\t [[{{node Placeholder/_1}}]]\n",
      "2023-05-14 10:00:14.983359: I tensorflow/core/common_runtime/executor.cc:1197] [/device:CPU:0] (DEBUG INFO) Executor start aborting (this does not indicate an error and you can ignore this message): INVALID_ARGUMENT: You must feed a value for placeholder tensor 'Placeholder/_1' with dtype float and shape [500]\n",
      "\t [[{{node Placeholder/_1}}]]\n",
      "2023-05-14 10:00:14.986260: I tensorflow/core/common_runtime/executor.cc:1197] [/device:CPU:0] (DEBUG INFO) Executor start aborting (this does not indicate an error and you can ignore this message): INVALID_ARGUMENT: You must feed a value for placeholder tensor 'Placeholder/_1' with dtype float and shape [500]\n",
      "\t [[{{node Placeholder/_1}}]]\n"
     ]
    },
    {
     "name": "stdout",
     "output_type": "stream",
     "text": [
      "Epoch 19 of 60\n",
      "\n",
      "Testing for epoch 19 index 1:\n",
      "65/65 [==============================] - 0s 445us/step\n"
     ]
    },
    {
     "name": "stderr",
     "output_type": "stream",
     "text": [
      "2023-05-14 10:00:15.230384: I tensorflow/core/common_runtime/executor.cc:1197] [/device:CPU:0] (DEBUG INFO) Executor start aborting (this does not indicate an error and you can ignore this message): INVALID_ARGUMENT: You must feed a value for placeholder tensor 'Placeholder/_1' with dtype int64 and shape [1000]\n",
      "\t [[{{node Placeholder/_1}}]]\n",
      "2023-05-14 10:00:15.298266: I tensorflow/core/common_runtime/executor.cc:1197] [/device:CPU:0] (DEBUG INFO) Executor start aborting (this does not indicate an error and you can ignore this message): INVALID_ARGUMENT: You must feed a value for placeholder tensor 'Placeholder/_1' with dtype float and shape [500]\n",
      "\t [[{{node Placeholder/_1}}]]\n",
      "2023-05-14 10:00:15.301602: I tensorflow/core/common_runtime/executor.cc:1197] [/device:CPU:0] (DEBUG INFO) Executor start aborting (this does not indicate an error and you can ignore this message): INVALID_ARGUMENT: You must feed a value for placeholder tensor 'Placeholder/_1' with dtype float and shape [500]\n",
      "\t [[{{node Placeholder/_1}}]]\n",
      "2023-05-14 10:00:15.304537: I tensorflow/core/common_runtime/executor.cc:1197] [/device:CPU:0] (DEBUG INFO) Executor start aborting (this does not indicate an error and you can ignore this message): INVALID_ARGUMENT: You must feed a value for placeholder tensor 'Placeholder/_1' with dtype float and shape [500]\n",
      "\t [[{{node Placeholder/_1}}]]\n",
      "2023-05-14 10:00:15.307392: I tensorflow/core/common_runtime/executor.cc:1197] [/device:CPU:0] (DEBUG INFO) Executor start aborting (this does not indicate an error and you can ignore this message): INVALID_ARGUMENT: You must feed a value for placeholder tensor 'Placeholder/_1' with dtype float and shape [500]\n",
      "\t [[{{node Placeholder/_1}}]]\n",
      "2023-05-14 10:00:15.310781: I tensorflow/core/common_runtime/executor.cc:1197] [/device:CPU:0] (DEBUG INFO) Executor start aborting (this does not indicate an error and you can ignore this message): INVALID_ARGUMENT: You must feed a value for placeholder tensor 'Placeholder/_1' with dtype float and shape [500]\n",
      "\t [[{{node Placeholder/_1}}]]\n",
      "2023-05-14 10:00:15.313835: I tensorflow/core/common_runtime/executor.cc:1197] [/device:CPU:0] (DEBUG INFO) Executor start aborting (this does not indicate an error and you can ignore this message): INVALID_ARGUMENT: You must feed a value for placeholder tensor 'Placeholder/_1' with dtype float and shape [500]\n",
      "\t [[{{node Placeholder/_1}}]]\n",
      "2023-05-14 10:00:15.317137: I tensorflow/core/common_runtime/executor.cc:1197] [/device:CPU:0] (DEBUG INFO) Executor start aborting (this does not indicate an error and you can ignore this message): INVALID_ARGUMENT: You must feed a value for placeholder tensor 'Placeholder/_1' with dtype float and shape [500]\n",
      "\t [[{{node Placeholder/_1}}]]\n",
      "2023-05-14 10:00:15.320120: I tensorflow/core/common_runtime/executor.cc:1197] [/device:CPU:0] (DEBUG INFO) Executor start aborting (this does not indicate an error and you can ignore this message): INVALID_ARGUMENT: You must feed a value for placeholder tensor 'Placeholder/_1' with dtype float and shape [500]\n",
      "\t [[{{node Placeholder/_1}}]]\n",
      "2023-05-14 10:00:15.322945: I tensorflow/core/common_runtime/executor.cc:1197] [/device:CPU:0] (DEBUG INFO) Executor start aborting (this does not indicate an error and you can ignore this message): INVALID_ARGUMENT: You must feed a value for placeholder tensor 'Placeholder/_1' with dtype float and shape [500]\n",
      "\t [[{{node Placeholder/_1}}]]\n",
      "2023-05-14 10:00:15.325842: I tensorflow/core/common_runtime/executor.cc:1197] [/device:CPU:0] (DEBUG INFO) Executor start aborting (this does not indicate an error and you can ignore this message): INVALID_ARGUMENT: You must feed a value for placeholder tensor 'Placeholder/_1' with dtype float and shape [500]\n",
      "\t [[{{node Placeholder/_1}}]]\n"
     ]
    },
    {
     "name": "stdout",
     "output_type": "stream",
     "text": [
      "\n",
      "Testing for epoch 19 index 2:\n",
      "65/65 [==============================] - 0s 426us/step\n"
     ]
    },
    {
     "name": "stderr",
     "output_type": "stream",
     "text": [
      "2023-05-14 10:00:15.565471: I tensorflow/core/common_runtime/executor.cc:1197] [/device:CPU:0] (DEBUG INFO) Executor start aborting (this does not indicate an error and you can ignore this message): INVALID_ARGUMENT: You must feed a value for placeholder tensor 'Placeholder/_1' with dtype int64 and shape [1000]\n",
      "\t [[{{node Placeholder/_1}}]]\n",
      "2023-05-14 10:00:15.631515: I tensorflow/core/common_runtime/executor.cc:1197] [/device:CPU:0] (DEBUG INFO) Executor start aborting (this does not indicate an error and you can ignore this message): INVALID_ARGUMENT: You must feed a value for placeholder tensor 'Placeholder/_1' with dtype float and shape [500]\n",
      "\t [[{{node Placeholder/_1}}]]\n",
      "2023-05-14 10:00:15.634808: I tensorflow/core/common_runtime/executor.cc:1197] [/device:CPU:0] (DEBUG INFO) Executor start aborting (this does not indicate an error and you can ignore this message): INVALID_ARGUMENT: You must feed a value for placeholder tensor 'Placeholder/_1' with dtype float and shape [500]\n",
      "\t [[{{node Placeholder/_1}}]]\n",
      "2023-05-14 10:00:15.637917: I tensorflow/core/common_runtime/executor.cc:1197] [/device:CPU:0] (DEBUG INFO) Executor start aborting (this does not indicate an error and you can ignore this message): INVALID_ARGUMENT: You must feed a value for placeholder tensor 'Placeholder/_1' with dtype float and shape [500]\n",
      "\t [[{{node Placeholder/_1}}]]\n",
      "2023-05-14 10:00:15.640958: I tensorflow/core/common_runtime/executor.cc:1197] [/device:CPU:0] (DEBUG INFO) Executor start aborting (this does not indicate an error and you can ignore this message): INVALID_ARGUMENT: You must feed a value for placeholder tensor 'Placeholder/_1' with dtype float and shape [500]\n",
      "\t [[{{node Placeholder/_1}}]]\n",
      "2023-05-14 10:00:15.644149: I tensorflow/core/common_runtime/executor.cc:1197] [/device:CPU:0] (DEBUG INFO) Executor start aborting (this does not indicate an error and you can ignore this message): INVALID_ARGUMENT: You must feed a value for placeholder tensor 'Placeholder/_1' with dtype float and shape [500]\n",
      "\t [[{{node Placeholder/_1}}]]\n",
      "2023-05-14 10:00:15.647162: I tensorflow/core/common_runtime/executor.cc:1197] [/device:CPU:0] (DEBUG INFO) Executor start aborting (this does not indicate an error and you can ignore this message): INVALID_ARGUMENT: You must feed a value for placeholder tensor 'Placeholder/_1' with dtype float and shape [500]\n",
      "\t [[{{node Placeholder/_1}}]]\n",
      "2023-05-14 10:00:15.650487: I tensorflow/core/common_runtime/executor.cc:1197] [/device:CPU:0] (DEBUG INFO) Executor start aborting (this does not indicate an error and you can ignore this message): INVALID_ARGUMENT: You must feed a value for placeholder tensor 'Placeholder/_1' with dtype float and shape [500]\n",
      "\t [[{{node Placeholder/_1}}]]\n",
      "2023-05-14 10:00:15.653526: I tensorflow/core/common_runtime/executor.cc:1197] [/device:CPU:0] (DEBUG INFO) Executor start aborting (this does not indicate an error and you can ignore this message): INVALID_ARGUMENT: You must feed a value for placeholder tensor 'Placeholder/_1' with dtype float and shape [500]\n",
      "\t [[{{node Placeholder/_1}}]]\n",
      "2023-05-14 10:00:15.656416: I tensorflow/core/common_runtime/executor.cc:1197] [/device:CPU:0] (DEBUG INFO) Executor start aborting (this does not indicate an error and you can ignore this message): INVALID_ARGUMENT: You must feed a value for placeholder tensor 'Placeholder/_1' with dtype float and shape [500]\n",
      "\t [[{{node Placeholder/_1}}]]\n",
      "2023-05-14 10:00:15.659607: I tensorflow/core/common_runtime/executor.cc:1197] [/device:CPU:0] (DEBUG INFO) Executor start aborting (this does not indicate an error and you can ignore this message): INVALID_ARGUMENT: You must feed a value for placeholder tensor 'Placeholder/_1' with dtype float and shape [500]\n",
      "\t [[{{node Placeholder/_1}}]]\n"
     ]
    },
    {
     "name": "stdout",
     "output_type": "stream",
     "text": [
      "\n",
      "Testing for epoch 19 index 3:\n",
      "65/65 [==============================] - 0s 448us/step\n"
     ]
    },
    {
     "name": "stderr",
     "output_type": "stream",
     "text": [
      "2023-05-14 10:00:15.905981: I tensorflow/core/common_runtime/executor.cc:1197] [/device:CPU:0] (DEBUG INFO) Executor start aborting (this does not indicate an error and you can ignore this message): INVALID_ARGUMENT: You must feed a value for placeholder tensor 'Placeholder/_1' with dtype int64 and shape [1000]\n",
      "\t [[{{node Placeholder/_1}}]]\n",
      "2023-05-14 10:00:15.974005: I tensorflow/core/common_runtime/executor.cc:1197] [/device:CPU:0] (DEBUG INFO) Executor start aborting (this does not indicate an error and you can ignore this message): INVALID_ARGUMENT: You must feed a value for placeholder tensor 'Placeholder/_1' with dtype float and shape [500]\n",
      "\t [[{{node Placeholder/_1}}]]\n",
      "2023-05-14 10:00:15.977877: I tensorflow/core/common_runtime/executor.cc:1197] [/device:CPU:0] (DEBUG INFO) Executor start aborting (this does not indicate an error and you can ignore this message): INVALID_ARGUMENT: You must feed a value for placeholder tensor 'Placeholder/_1' with dtype float and shape [500]\n",
      "\t [[{{node Placeholder/_1}}]]\n",
      "2023-05-14 10:00:15.980933: I tensorflow/core/common_runtime/executor.cc:1197] [/device:CPU:0] (DEBUG INFO) Executor start aborting (this does not indicate an error and you can ignore this message): INVALID_ARGUMENT: You must feed a value for placeholder tensor 'Placeholder/_1' with dtype float and shape [500]\n",
      "\t [[{{node Placeholder/_1}}]]\n",
      "2023-05-14 10:00:15.984448: I tensorflow/core/common_runtime/executor.cc:1197] [/device:CPU:0] (DEBUG INFO) Executor start aborting (this does not indicate an error and you can ignore this message): INVALID_ARGUMENT: You must feed a value for placeholder tensor 'Placeholder/_1' with dtype float and shape [500]\n",
      "\t [[{{node Placeholder/_1}}]]\n",
      "2023-05-14 10:00:15.987328: I tensorflow/core/common_runtime/executor.cc:1197] [/device:CPU:0] (DEBUG INFO) Executor start aborting (this does not indicate an error and you can ignore this message): INVALID_ARGUMENT: You must feed a value for placeholder tensor 'Placeholder/_1' with dtype float and shape [500]\n",
      "\t [[{{node Placeholder/_1}}]]\n",
      "2023-05-14 10:00:15.990165: I tensorflow/core/common_runtime/executor.cc:1197] [/device:CPU:0] (DEBUG INFO) Executor start aborting (this does not indicate an error and you can ignore this message): INVALID_ARGUMENT: You must feed a value for placeholder tensor 'Placeholder/_1' with dtype float and shape [500]\n",
      "\t [[{{node Placeholder/_1}}]]\n",
      "2023-05-14 10:00:15.993577: I tensorflow/core/common_runtime/executor.cc:1197] [/device:CPU:0] (DEBUG INFO) Executor start aborting (this does not indicate an error and you can ignore this message): INVALID_ARGUMENT: You must feed a value for placeholder tensor 'Placeholder/_1' with dtype float and shape [500]\n",
      "\t [[{{node Placeholder/_1}}]]\n",
      "2023-05-14 10:00:15.996476: I tensorflow/core/common_runtime/executor.cc:1197] [/device:CPU:0] (DEBUG INFO) Executor start aborting (this does not indicate an error and you can ignore this message): INVALID_ARGUMENT: You must feed a value for placeholder tensor 'Placeholder/_1' with dtype float and shape [500]\n",
      "\t [[{{node Placeholder/_1}}]]\n",
      "2023-05-14 10:00:15.999319: I tensorflow/core/common_runtime/executor.cc:1197] [/device:CPU:0] (DEBUG INFO) Executor start aborting (this does not indicate an error and you can ignore this message): INVALID_ARGUMENT: You must feed a value for placeholder tensor 'Placeholder/_1' with dtype float and shape [500]\n",
      "\t [[{{node Placeholder/_1}}]]\n",
      "2023-05-14 10:00:16.002542: I tensorflow/core/common_runtime/executor.cc:1197] [/device:CPU:0] (DEBUG INFO) Executor start aborting (this does not indicate an error and you can ignore this message): INVALID_ARGUMENT: You must feed a value for placeholder tensor 'Placeholder/_1' with dtype float and shape [500]\n",
      "\t [[{{node Placeholder/_1}}]]\n"
     ]
    },
    {
     "name": "stdout",
     "output_type": "stream",
     "text": [
      "\n",
      "Testing for epoch 19 index 4:\n",
      "65/65 [==============================] - 0s 456us/step\n"
     ]
    },
    {
     "name": "stderr",
     "output_type": "stream",
     "text": [
      "2023-05-14 10:00:16.252818: I tensorflow/core/common_runtime/executor.cc:1197] [/device:CPU:0] (DEBUG INFO) Executor start aborting (this does not indicate an error and you can ignore this message): INVALID_ARGUMENT: You must feed a value for placeholder tensor 'Placeholder/_1' with dtype int64 and shape [1000]\n",
      "\t [[{{node Placeholder/_1}}]]\n",
      "2023-05-14 10:00:16.321645: I tensorflow/core/common_runtime/executor.cc:1197] [/device:CPU:0] (DEBUG INFO) Executor start aborting (this does not indicate an error and you can ignore this message): INVALID_ARGUMENT: You must feed a value for placeholder tensor 'Placeholder/_1' with dtype float and shape [500]\n",
      "\t [[{{node Placeholder/_1}}]]\n",
      "2023-05-14 10:00:16.325622: I tensorflow/core/common_runtime/executor.cc:1197] [/device:CPU:0] (DEBUG INFO) Executor start aborting (this does not indicate an error and you can ignore this message): INVALID_ARGUMENT: You must feed a value for placeholder tensor 'Placeholder/_1' with dtype float and shape [500]\n",
      "\t [[{{node Placeholder/_1}}]]\n",
      "2023-05-14 10:00:16.328676: I tensorflow/core/common_runtime/executor.cc:1197] [/device:CPU:0] (DEBUG INFO) Executor start aborting (this does not indicate an error and you can ignore this message): INVALID_ARGUMENT: You must feed a value for placeholder tensor 'Placeholder/_1' with dtype float and shape [500]\n",
      "\t [[{{node Placeholder/_1}}]]\n",
      "2023-05-14 10:00:16.332041: I tensorflow/core/common_runtime/executor.cc:1197] [/device:CPU:0] (DEBUG INFO) Executor start aborting (this does not indicate an error and you can ignore this message): INVALID_ARGUMENT: You must feed a value for placeholder tensor 'Placeholder/_1' with dtype float and shape [500]\n",
      "\t [[{{node Placeholder/_1}}]]\n",
      "2023-05-14 10:00:16.335213: I tensorflow/core/common_runtime/executor.cc:1197] [/device:CPU:0] (DEBUG INFO) Executor start aborting (this does not indicate an error and you can ignore this message): INVALID_ARGUMENT: You must feed a value for placeholder tensor 'Placeholder/_1' with dtype float and shape [500]\n",
      "\t [[{{node Placeholder/_1}}]]\n",
      "2023-05-14 10:00:16.338494: I tensorflow/core/common_runtime/executor.cc:1197] [/device:CPU:0] (DEBUG INFO) Executor start aborting (this does not indicate an error and you can ignore this message): INVALID_ARGUMENT: You must feed a value for placeholder tensor 'Placeholder/_1' with dtype float and shape [500]\n",
      "\t [[{{node Placeholder/_1}}]]\n",
      "2023-05-14 10:00:16.341541: I tensorflow/core/common_runtime/executor.cc:1197] [/device:CPU:0] (DEBUG INFO) Executor start aborting (this does not indicate an error and you can ignore this message): INVALID_ARGUMENT: You must feed a value for placeholder tensor 'Placeholder/_1' with dtype float and shape [500]\n",
      "\t [[{{node Placeholder/_1}}]]\n",
      "2023-05-14 10:00:16.344463: I tensorflow/core/common_runtime/executor.cc:1197] [/device:CPU:0] (DEBUG INFO) Executor start aborting (this does not indicate an error and you can ignore this message): INVALID_ARGUMENT: You must feed a value for placeholder tensor 'Placeholder/_1' with dtype float and shape [500]\n",
      "\t [[{{node Placeholder/_1}}]]\n",
      "2023-05-14 10:00:16.347405: I tensorflow/core/common_runtime/executor.cc:1197] [/device:CPU:0] (DEBUG INFO) Executor start aborting (this does not indicate an error and you can ignore this message): INVALID_ARGUMENT: You must feed a value for placeholder tensor 'Placeholder/_1' with dtype float and shape [500]\n",
      "\t [[{{node Placeholder/_1}}]]\n",
      "2023-05-14 10:00:16.350340: I tensorflow/core/common_runtime/executor.cc:1197] [/device:CPU:0] (DEBUG INFO) Executor start aborting (this does not indicate an error and you can ignore this message): INVALID_ARGUMENT: You must feed a value for placeholder tensor 'Placeholder/_1' with dtype float and shape [500]\n",
      "\t [[{{node Placeholder/_1}}]]\n"
     ]
    },
    {
     "name": "stdout",
     "output_type": "stream",
     "text": [
      "Epoch 20 of 60\n",
      "\n",
      "Testing for epoch 20 index 1:\n",
      "65/65 [==============================] - 0s 440us/step\n"
     ]
    },
    {
     "name": "stderr",
     "output_type": "stream",
     "text": [
      "2023-05-14 10:00:16.594229: I tensorflow/core/common_runtime/executor.cc:1197] [/device:CPU:0] (DEBUG INFO) Executor start aborting (this does not indicate an error and you can ignore this message): INVALID_ARGUMENT: You must feed a value for placeholder tensor 'Placeholder/_1' with dtype int64 and shape [1000]\n",
      "\t [[{{node Placeholder/_1}}]]\n",
      "2023-05-14 10:00:16.661322: I tensorflow/core/common_runtime/executor.cc:1197] [/device:CPU:0] (DEBUG INFO) Executor start aborting (this does not indicate an error and you can ignore this message): INVALID_ARGUMENT: You must feed a value for placeholder tensor 'Placeholder/_1' with dtype float and shape [500]\n",
      "\t [[{{node Placeholder/_1}}]]\n",
      "2023-05-14 10:00:16.665136: I tensorflow/core/common_runtime/executor.cc:1197] [/device:CPU:0] (DEBUG INFO) Executor start aborting (this does not indicate an error and you can ignore this message): INVALID_ARGUMENT: You must feed a value for placeholder tensor 'Placeholder/_1' with dtype float and shape [500]\n",
      "\t [[{{node Placeholder/_1}}]]\n",
      "2023-05-14 10:00:16.668119: I tensorflow/core/common_runtime/executor.cc:1197] [/device:CPU:0] (DEBUG INFO) Executor start aborting (this does not indicate an error and you can ignore this message): INVALID_ARGUMENT: You must feed a value for placeholder tensor 'Placeholder/_1' with dtype float and shape [500]\n",
      "\t [[{{node Placeholder/_1}}]]\n",
      "2023-05-14 10:00:16.671475: I tensorflow/core/common_runtime/executor.cc:1197] [/device:CPU:0] (DEBUG INFO) Executor start aborting (this does not indicate an error and you can ignore this message): INVALID_ARGUMENT: You must feed a value for placeholder tensor 'Placeholder/_1' with dtype float and shape [500]\n",
      "\t [[{{node Placeholder/_1}}]]\n",
      "2023-05-14 10:00:16.674397: I tensorflow/core/common_runtime/executor.cc:1197] [/device:CPU:0] (DEBUG INFO) Executor start aborting (this does not indicate an error and you can ignore this message): INVALID_ARGUMENT: You must feed a value for placeholder tensor 'Placeholder/_1' with dtype float and shape [500]\n",
      "\t [[{{node Placeholder/_1}}]]\n",
      "2023-05-14 10:00:16.677210: I tensorflow/core/common_runtime/executor.cc:1197] [/device:CPU:0] (DEBUG INFO) Executor start aborting (this does not indicate an error and you can ignore this message): INVALID_ARGUMENT: You must feed a value for placeholder tensor 'Placeholder/_1' with dtype float and shape [500]\n",
      "\t [[{{node Placeholder/_1}}]]\n",
      "2023-05-14 10:00:16.680312: I tensorflow/core/common_runtime/executor.cc:1197] [/device:CPU:0] (DEBUG INFO) Executor start aborting (this does not indicate an error and you can ignore this message): INVALID_ARGUMENT: You must feed a value for placeholder tensor 'Placeholder/_1' with dtype float and shape [500]\n",
      "\t [[{{node Placeholder/_1}}]]\n",
      "2023-05-14 10:00:16.683183: I tensorflow/core/common_runtime/executor.cc:1197] [/device:CPU:0] (DEBUG INFO) Executor start aborting (this does not indicate an error and you can ignore this message): INVALID_ARGUMENT: You must feed a value for placeholder tensor 'Placeholder/_1' with dtype float and shape [500]\n",
      "\t [[{{node Placeholder/_1}}]]\n",
      "2023-05-14 10:00:16.686306: I tensorflow/core/common_runtime/executor.cc:1197] [/device:CPU:0] (DEBUG INFO) Executor start aborting (this does not indicate an error and you can ignore this message): INVALID_ARGUMENT: You must feed a value for placeholder tensor 'Placeholder/_1' with dtype float and shape [500]\n",
      "\t [[{{node Placeholder/_1}}]]\n",
      "2023-05-14 10:00:16.689171: I tensorflow/core/common_runtime/executor.cc:1197] [/device:CPU:0] (DEBUG INFO) Executor start aborting (this does not indicate an error and you can ignore this message): INVALID_ARGUMENT: You must feed a value for placeholder tensor 'Placeholder/_1' with dtype float and shape [500]\n",
      "\t [[{{node Placeholder/_1}}]]\n"
     ]
    },
    {
     "name": "stdout",
     "output_type": "stream",
     "text": [
      "\n",
      "Testing for epoch 20 index 2:\n",
      "65/65 [==============================] - 0s 441us/step\n"
     ]
    },
    {
     "name": "stderr",
     "output_type": "stream",
     "text": [
      "2023-05-14 10:00:16.938533: I tensorflow/core/common_runtime/executor.cc:1197] [/device:CPU:0] (DEBUG INFO) Executor start aborting (this does not indicate an error and you can ignore this message): INVALID_ARGUMENT: You must feed a value for placeholder tensor 'Placeholder/_1' with dtype int64 and shape [1000]\n",
      "\t [[{{node Placeholder/_1}}]]\n",
      "2023-05-14 10:00:17.006292: I tensorflow/core/common_runtime/executor.cc:1197] [/device:CPU:0] (DEBUG INFO) Executor start aborting (this does not indicate an error and you can ignore this message): INVALID_ARGUMENT: You must feed a value for placeholder tensor 'Placeholder/_1' with dtype float and shape [500]\n",
      "\t [[{{node Placeholder/_1}}]]\n",
      "2023-05-14 10:00:17.009958: I tensorflow/core/common_runtime/executor.cc:1197] [/device:CPU:0] (DEBUG INFO) Executor start aborting (this does not indicate an error and you can ignore this message): INVALID_ARGUMENT: You must feed a value for placeholder tensor 'Placeholder/_1' with dtype float and shape [500]\n",
      "\t [[{{node Placeholder/_1}}]]\n",
      "2023-05-14 10:00:17.013172: I tensorflow/core/common_runtime/executor.cc:1197] [/device:CPU:0] (DEBUG INFO) Executor start aborting (this does not indicate an error and you can ignore this message): INVALID_ARGUMENT: You must feed a value for placeholder tensor 'Placeholder/_1' with dtype float and shape [500]\n",
      "\t [[{{node Placeholder/_1}}]]\n",
      "2023-05-14 10:00:17.016132: I tensorflow/core/common_runtime/executor.cc:1197] [/device:CPU:0] (DEBUG INFO) Executor start aborting (this does not indicate an error and you can ignore this message): INVALID_ARGUMENT: You must feed a value for placeholder tensor 'Placeholder/_1' with dtype float and shape [500]\n",
      "\t [[{{node Placeholder/_1}}]]\n",
      "2023-05-14 10:00:17.019438: I tensorflow/core/common_runtime/executor.cc:1197] [/device:CPU:0] (DEBUG INFO) Executor start aborting (this does not indicate an error and you can ignore this message): INVALID_ARGUMENT: You must feed a value for placeholder tensor 'Placeholder/_1' with dtype float and shape [500]\n",
      "\t [[{{node Placeholder/_1}}]]\n",
      "2023-05-14 10:00:17.022462: I tensorflow/core/common_runtime/executor.cc:1197] [/device:CPU:0] (DEBUG INFO) Executor start aborting (this does not indicate an error and you can ignore this message): INVALID_ARGUMENT: You must feed a value for placeholder tensor 'Placeholder/_1' with dtype float and shape [500]\n",
      "\t [[{{node Placeholder/_1}}]]\n",
      "2023-05-14 10:00:17.025734: I tensorflow/core/common_runtime/executor.cc:1197] [/device:CPU:0] (DEBUG INFO) Executor start aborting (this does not indicate an error and you can ignore this message): INVALID_ARGUMENT: You must feed a value for placeholder tensor 'Placeholder/_1' with dtype float and shape [500]\n",
      "\t [[{{node Placeholder/_1}}]]\n",
      "2023-05-14 10:00:17.028692: I tensorflow/core/common_runtime/executor.cc:1197] [/device:CPU:0] (DEBUG INFO) Executor start aborting (this does not indicate an error and you can ignore this message): INVALID_ARGUMENT: You must feed a value for placeholder tensor 'Placeholder/_1' with dtype float and shape [500]\n",
      "\t [[{{node Placeholder/_1}}]]\n",
      "2023-05-14 10:00:17.031683: I tensorflow/core/common_runtime/executor.cc:1197] [/device:CPU:0] (DEBUG INFO) Executor start aborting (this does not indicate an error and you can ignore this message): INVALID_ARGUMENT: You must feed a value for placeholder tensor 'Placeholder/_1' with dtype float and shape [500]\n",
      "\t [[{{node Placeholder/_1}}]]\n",
      "2023-05-14 10:00:17.034738: I tensorflow/core/common_runtime/executor.cc:1197] [/device:CPU:0] (DEBUG INFO) Executor start aborting (this does not indicate an error and you can ignore this message): INVALID_ARGUMENT: You must feed a value for placeholder tensor 'Placeholder/_1' with dtype float and shape [500]\n",
      "\t [[{{node Placeholder/_1}}]]\n"
     ]
    },
    {
     "name": "stdout",
     "output_type": "stream",
     "text": [
      "\n",
      "Testing for epoch 20 index 3:\n",
      "65/65 [==============================] - 0s 436us/step\n"
     ]
    },
    {
     "name": "stderr",
     "output_type": "stream",
     "text": [
      "2023-05-14 10:00:17.291141: I tensorflow/core/common_runtime/executor.cc:1197] [/device:CPU:0] (DEBUG INFO) Executor start aborting (this does not indicate an error and you can ignore this message): INVALID_ARGUMENT: You must feed a value for placeholder tensor 'Placeholder/_1' with dtype int64 and shape [1000]\n",
      "\t [[{{node Placeholder/_1}}]]\n",
      "2023-05-14 10:00:17.362179: I tensorflow/core/common_runtime/executor.cc:1197] [/device:CPU:0] (DEBUG INFO) Executor start aborting (this does not indicate an error and you can ignore this message): INVALID_ARGUMENT: You must feed a value for placeholder tensor 'Placeholder/_1' with dtype float and shape [500]\n",
      "\t [[{{node Placeholder/_1}}]]\n",
      "2023-05-14 10:00:17.366428: I tensorflow/core/common_runtime/executor.cc:1197] [/device:CPU:0] (DEBUG INFO) Executor start aborting (this does not indicate an error and you can ignore this message): INVALID_ARGUMENT: You must feed a value for placeholder tensor 'Placeholder/_1' with dtype float and shape [500]\n",
      "\t [[{{node Placeholder/_1}}]]\n",
      "2023-05-14 10:00:17.370112: I tensorflow/core/common_runtime/executor.cc:1197] [/device:CPU:0] (DEBUG INFO) Executor start aborting (this does not indicate an error and you can ignore this message): INVALID_ARGUMENT: You must feed a value for placeholder tensor 'Placeholder/_1' with dtype float and shape [500]\n",
      "\t [[{{node Placeholder/_1}}]]\n",
      "2023-05-14 10:00:17.374036: I tensorflow/core/common_runtime/executor.cc:1197] [/device:CPU:0] (DEBUG INFO) Executor start aborting (this does not indicate an error and you can ignore this message): INVALID_ARGUMENT: You must feed a value for placeholder tensor 'Placeholder/_1' with dtype float and shape [500]\n",
      "\t [[{{node Placeholder/_1}}]]\n",
      "2023-05-14 10:00:17.377535: I tensorflow/core/common_runtime/executor.cc:1197] [/device:CPU:0] (DEBUG INFO) Executor start aborting (this does not indicate an error and you can ignore this message): INVALID_ARGUMENT: You must feed a value for placeholder tensor 'Placeholder/_1' with dtype float and shape [500]\n",
      "\t [[{{node Placeholder/_1}}]]\n",
      "2023-05-14 10:00:17.381153: I tensorflow/core/common_runtime/executor.cc:1197] [/device:CPU:0] (DEBUG INFO) Executor start aborting (this does not indicate an error and you can ignore this message): INVALID_ARGUMENT: You must feed a value for placeholder tensor 'Placeholder/_1' with dtype float and shape [500]\n",
      "\t [[{{node Placeholder/_1}}]]\n",
      "2023-05-14 10:00:17.384710: I tensorflow/core/common_runtime/executor.cc:1197] [/device:CPU:0] (DEBUG INFO) Executor start aborting (this does not indicate an error and you can ignore this message): INVALID_ARGUMENT: You must feed a value for placeholder tensor 'Placeholder/_1' with dtype float and shape [500]\n",
      "\t [[{{node Placeholder/_1}}]]\n",
      "2023-05-14 10:00:17.390492: I tensorflow/core/common_runtime/executor.cc:1197] [/device:CPU:0] (DEBUG INFO) Executor start aborting (this does not indicate an error and you can ignore this message): INVALID_ARGUMENT: You must feed a value for placeholder tensor 'Placeholder/_1' with dtype float and shape [500]\n",
      "\t [[{{node Placeholder/_1}}]]\n",
      "2023-05-14 10:00:17.396024: I tensorflow/core/common_runtime/executor.cc:1197] [/device:CPU:0] (DEBUG INFO) Executor start aborting (this does not indicate an error and you can ignore this message): INVALID_ARGUMENT: You must feed a value for placeholder tensor 'Placeholder/_1' with dtype float and shape [500]\n",
      "\t [[{{node Placeholder/_1}}]]\n",
      "2023-05-14 10:00:17.400771: I tensorflow/core/common_runtime/executor.cc:1197] [/device:CPU:0] (DEBUG INFO) Executor start aborting (this does not indicate an error and you can ignore this message): INVALID_ARGUMENT: You must feed a value for placeholder tensor 'Placeholder/_1' with dtype float and shape [500]\n",
      "\t [[{{node Placeholder/_1}}]]\n"
     ]
    },
    {
     "name": "stdout",
     "output_type": "stream",
     "text": [
      "\n",
      "Testing for epoch 20 index 4:\n",
      "65/65 [==============================] - 0s 469us/step\n"
     ]
    },
    {
     "name": "stderr",
     "output_type": "stream",
     "text": [
      "2023-05-14 10:00:17.675767: I tensorflow/core/common_runtime/executor.cc:1197] [/device:CPU:0] (DEBUG INFO) Executor start aborting (this does not indicate an error and you can ignore this message): INVALID_ARGUMENT: You must feed a value for placeholder tensor 'Placeholder/_1' with dtype int64 and shape [1000]\n",
      "\t [[{{node Placeholder/_1}}]]\n",
      "2023-05-14 10:00:17.747961: I tensorflow/core/common_runtime/executor.cc:1197] [/device:CPU:0] (DEBUG INFO) Executor start aborting (this does not indicate an error and you can ignore this message): INVALID_ARGUMENT: You must feed a value for placeholder tensor 'Placeholder/_1' with dtype float and shape [500]\n",
      "\t [[{{node Placeholder/_1}}]]\n",
      "2023-05-14 10:00:17.752153: I tensorflow/core/common_runtime/executor.cc:1197] [/device:CPU:0] (DEBUG INFO) Executor start aborting (this does not indicate an error and you can ignore this message): INVALID_ARGUMENT: You must feed a value for placeholder tensor 'Placeholder/_1' with dtype float and shape [500]\n",
      "\t [[{{node Placeholder/_1}}]]\n",
      "2023-05-14 10:00:17.757249: I tensorflow/core/common_runtime/executor.cc:1197] [/device:CPU:0] (DEBUG INFO) Executor start aborting (this does not indicate an error and you can ignore this message): INVALID_ARGUMENT: You must feed a value for placeholder tensor 'Placeholder/_1' with dtype float and shape [500]\n",
      "\t [[{{node Placeholder/_1}}]]\n",
      "2023-05-14 10:00:17.766392: I tensorflow/core/common_runtime/executor.cc:1197] [/device:CPU:0] (DEBUG INFO) Executor start aborting (this does not indicate an error and you can ignore this message): INVALID_ARGUMENT: You must feed a value for placeholder tensor 'Placeholder/_1' with dtype float and shape [500]\n",
      "\t [[{{node Placeholder/_1}}]]\n",
      "2023-05-14 10:00:17.771938: I tensorflow/core/common_runtime/executor.cc:1197] [/device:CPU:0] (DEBUG INFO) Executor start aborting (this does not indicate an error and you can ignore this message): INVALID_ARGUMENT: You must feed a value for placeholder tensor 'Placeholder/_1' with dtype float and shape [500]\n",
      "\t [[{{node Placeholder/_1}}]]\n",
      "2023-05-14 10:00:17.776384: I tensorflow/core/common_runtime/executor.cc:1197] [/device:CPU:0] (DEBUG INFO) Executor start aborting (this does not indicate an error and you can ignore this message): INVALID_ARGUMENT: You must feed a value for placeholder tensor 'Placeholder/_1' with dtype float and shape [500]\n",
      "\t [[{{node Placeholder/_1}}]]\n",
      "2023-05-14 10:00:17.779864: I tensorflow/core/common_runtime/executor.cc:1197] [/device:CPU:0] (DEBUG INFO) Executor start aborting (this does not indicate an error and you can ignore this message): INVALID_ARGUMENT: You must feed a value for placeholder tensor 'Placeholder/_1' with dtype float and shape [500]\n",
      "\t [[{{node Placeholder/_1}}]]\n",
      "2023-05-14 10:00:17.782970: I tensorflow/core/common_runtime/executor.cc:1197] [/device:CPU:0] (DEBUG INFO) Executor start aborting (this does not indicate an error and you can ignore this message): INVALID_ARGUMENT: You must feed a value for placeholder tensor 'Placeholder/_1' with dtype float and shape [500]\n",
      "\t [[{{node Placeholder/_1}}]]\n",
      "2023-05-14 10:00:17.785921: I tensorflow/core/common_runtime/executor.cc:1197] [/device:CPU:0] (DEBUG INFO) Executor start aborting (this does not indicate an error and you can ignore this message): INVALID_ARGUMENT: You must feed a value for placeholder tensor 'Placeholder/_1' with dtype float and shape [500]\n",
      "\t [[{{node Placeholder/_1}}]]\n",
      "2023-05-14 10:00:17.789274: I tensorflow/core/common_runtime/executor.cc:1197] [/device:CPU:0] (DEBUG INFO) Executor start aborting (this does not indicate an error and you can ignore this message): INVALID_ARGUMENT: You must feed a value for placeholder tensor 'Placeholder/_1' with dtype float and shape [500]\n",
      "\t [[{{node Placeholder/_1}}]]\n"
     ]
    },
    {
     "name": "stdout",
     "output_type": "stream",
     "text": [
      "Epoch 21 of 60\n",
      "\n",
      "Testing for epoch 21 index 1:\n",
      "65/65 [==============================] - 0s 444us/step\n"
     ]
    },
    {
     "name": "stderr",
     "output_type": "stream",
     "text": [
      "2023-05-14 10:00:18.035976: I tensorflow/core/common_runtime/executor.cc:1197] [/device:CPU:0] (DEBUG INFO) Executor start aborting (this does not indicate an error and you can ignore this message): INVALID_ARGUMENT: You must feed a value for placeholder tensor 'Placeholder/_1' with dtype int64 and shape [1000]\n",
      "\t [[{{node Placeholder/_1}}]]\n",
      "2023-05-14 10:00:18.104228: I tensorflow/core/common_runtime/executor.cc:1197] [/device:CPU:0] (DEBUG INFO) Executor start aborting (this does not indicate an error and you can ignore this message): INVALID_ARGUMENT: You must feed a value for placeholder tensor 'Placeholder/_1' with dtype float and shape [500]\n",
      "\t [[{{node Placeholder/_1}}]]\n",
      "2023-05-14 10:00:18.107912: I tensorflow/core/common_runtime/executor.cc:1197] [/device:CPU:0] (DEBUG INFO) Executor start aborting (this does not indicate an error and you can ignore this message): INVALID_ARGUMENT: You must feed a value for placeholder tensor 'Placeholder/_1' with dtype float and shape [500]\n",
      "\t [[{{node Placeholder/_1}}]]\n",
      "2023-05-14 10:00:18.111236: I tensorflow/core/common_runtime/executor.cc:1197] [/device:CPU:0] (DEBUG INFO) Executor start aborting (this does not indicate an error and you can ignore this message): INVALID_ARGUMENT: You must feed a value for placeholder tensor 'Placeholder/_1' with dtype float and shape [500]\n",
      "\t [[{{node Placeholder/_1}}]]\n",
      "2023-05-14 10:00:18.114084: I tensorflow/core/common_runtime/executor.cc:1197] [/device:CPU:0] (DEBUG INFO) Executor start aborting (this does not indicate an error and you can ignore this message): INVALID_ARGUMENT: You must feed a value for placeholder tensor 'Placeholder/_1' with dtype float and shape [500]\n",
      "\t [[{{node Placeholder/_1}}]]\n",
      "2023-05-14 10:00:18.117429: I tensorflow/core/common_runtime/executor.cc:1197] [/device:CPU:0] (DEBUG INFO) Executor start aborting (this does not indicate an error and you can ignore this message): INVALID_ARGUMENT: You must feed a value for placeholder tensor 'Placeholder/_1' with dtype float and shape [500]\n",
      "\t [[{{node Placeholder/_1}}]]\n",
      "2023-05-14 10:00:18.120349: I tensorflow/core/common_runtime/executor.cc:1197] [/device:CPU:0] (DEBUG INFO) Executor start aborting (this does not indicate an error and you can ignore this message): INVALID_ARGUMENT: You must feed a value for placeholder tensor 'Placeholder/_1' with dtype float and shape [500]\n",
      "\t [[{{node Placeholder/_1}}]]\n",
      "2023-05-14 10:00:18.123836: I tensorflow/core/common_runtime/executor.cc:1197] [/device:CPU:0] (DEBUG INFO) Executor start aborting (this does not indicate an error and you can ignore this message): INVALID_ARGUMENT: You must feed a value for placeholder tensor 'Placeholder/_1' with dtype float and shape [500]\n",
      "\t [[{{node Placeholder/_1}}]]\n",
      "2023-05-14 10:00:18.126996: I tensorflow/core/common_runtime/executor.cc:1197] [/device:CPU:0] (DEBUG INFO) Executor start aborting (this does not indicate an error and you can ignore this message): INVALID_ARGUMENT: You must feed a value for placeholder tensor 'Placeholder/_1' with dtype float and shape [500]\n",
      "\t [[{{node Placeholder/_1}}]]\n",
      "2023-05-14 10:00:18.130336: I tensorflow/core/common_runtime/executor.cc:1197] [/device:CPU:0] (DEBUG INFO) Executor start aborting (this does not indicate an error and you can ignore this message): INVALID_ARGUMENT: You must feed a value for placeholder tensor 'Placeholder/_1' with dtype float and shape [500]\n",
      "\t [[{{node Placeholder/_1}}]]\n",
      "2023-05-14 10:00:18.133395: I tensorflow/core/common_runtime/executor.cc:1197] [/device:CPU:0] (DEBUG INFO) Executor start aborting (this does not indicate an error and you can ignore this message): INVALID_ARGUMENT: You must feed a value for placeholder tensor 'Placeholder/_1' with dtype float and shape [500]\n",
      "\t [[{{node Placeholder/_1}}]]\n"
     ]
    },
    {
     "name": "stdout",
     "output_type": "stream",
     "text": [
      "\n",
      "Testing for epoch 21 index 2:\n",
      "65/65 [==============================] - 0s 519us/step\n",
      "16/16 [==============================] - 0s 1ms/step - loss: 0.0494\n"
     ]
    },
    {
     "name": "stderr",
     "output_type": "stream",
     "text": [
      "2023-05-14 10:00:18.381889: I tensorflow/core/common_runtime/executor.cc:1197] [/device:CPU:0] (DEBUG INFO) Executor start aborting (this does not indicate an error and you can ignore this message): INVALID_ARGUMENT: You must feed a value for placeholder tensor 'Placeholder/_1' with dtype int64 and shape [1000]\n",
      "\t [[{{node Placeholder/_1}}]]\n"
     ]
    },
    {
     "name": "stdout",
     "output_type": "stream",
     "text": [
      "16/16 [==============================] - 0s 892us/step - loss: 3.1636\n",
      "16/16 [==============================] - 0s 912us/step - loss: 3.1636\n",
      "16/16 [==============================] - 0s 785us/step - loss: 3.1636\n",
      "16/16 [==============================] - 0s 827us/step - loss: 3.1636\n",
      "16/16 [==============================] - 0s 915us/step - loss: 3.1636\n",
      "16/16 [==============================] - 0s 875us/step - loss: 3.1636\n",
      "16/16 [==============================] - 0s 964us/step - loss: 3.1636\n",
      "16/16 [==============================] - 0s 910us/step - loss: 3.1636\n",
      "16/16 [==============================] - 0s 848us/step - loss: 3.1636\n",
      "\n",
      "Testing for epoch 21 index 3:\n",
      "65/65 [==============================] - 0s 472us/step\n",
      "16/16 [==============================] - 0s 712us/step - loss: 0.0484\n",
      "16/16 [==============================] - 0s 767us/step - loss: 3.1823\n",
      "16/16 [==============================] - 0s 717us/step - loss: 3.1823\n"
     ]
    },
    {
     "name": "stderr",
     "output_type": "stream",
     "text": [
      "2023-05-14 10:00:19.604123: I tensorflow/core/common_runtime/executor.cc:1197] [/device:CPU:0] (DEBUG INFO) Executor start aborting (this does not indicate an error and you can ignore this message): INVALID_ARGUMENT: You must feed a value for placeholder tensor 'Placeholder/_1' with dtype int64 and shape [1000]\n",
      "\t [[{{node Placeholder/_1}}]]\n"
     ]
    },
    {
     "name": "stdout",
     "output_type": "stream",
     "text": [
      "16/16 [==============================] - 0s 776us/step - loss: 3.1823\n",
      "16/16 [==============================] - 0s 715us/step - loss: 3.1823\n",
      "16/16 [==============================] - 0s 754us/step - loss: 3.1823\n",
      "16/16 [==============================] - 0s 705us/step - loss: 3.1823\n",
      "16/16 [==============================] - 0s 720us/step - loss: 3.1823\n",
      "16/16 [==============================] - 0s 765us/step - loss: 3.1823\n",
      "16/16 [==============================] - 0s 876us/step - loss: 3.1823\n",
      "\n",
      "Testing for epoch 21 index 4:\n",
      "65/65 [==============================] - 0s 567us/step\n",
      "16/16 [==============================] - 0s 811us/step - loss: 0.0473\n",
      "16/16 [==============================] - 0s 926us/step - loss: 3.2250\n",
      " 1/16 [>.............................] - ETA: 0s - loss: 3.1572"
     ]
    },
    {
     "name": "stderr",
     "output_type": "stream",
     "text": [
      "2023-05-14 10:00:20.355133: I tensorflow/core/common_runtime/executor.cc:1197] [/device:CPU:0] (DEBUG INFO) Executor start aborting (this does not indicate an error and you can ignore this message): INVALID_ARGUMENT: You must feed a value for placeholder tensor 'Placeholder/_1' with dtype int64 and shape [1000]\n",
      "\t [[{{node Placeholder/_1}}]]\n"
     ]
    },
    {
     "name": "stdout",
     "output_type": "stream",
     "text": [
      "16/16 [==============================] - 0s 910us/step - loss: 3.2250\n",
      "16/16 [==============================] - 0s 785us/step - loss: 3.2250\n",
      "16/16 [==============================] - 0s 883us/step - loss: 3.2250\n",
      "16/16 [==============================] - 0s 961us/step - loss: 3.2250\n",
      "16/16 [==============================] - 0s 877us/step - loss: 3.2250\n",
      "16/16 [==============================] - 0s 841us/step - loss: 3.2250\n",
      "16/16 [==============================] - 0s 882us/step - loss: 3.2250\n",
      "16/16 [==============================] - 0s 914us/step - loss: 3.2250\n",
      "Epoch 22 of 60\n",
      "\n",
      "Testing for epoch 22 index 1:\n",
      "65/65 [==============================] - 0s 527us/step\n",
      "16/16 [==============================] - 0s 881us/step - loss: 0.0464\n",
      "16/16 [==============================] - 0s 947us/step - loss: 3.2284\n",
      " 1/16 [>.............................] - ETA: 0s - loss: 3.2119"
     ]
    },
    {
     "name": "stderr",
     "output_type": "stream",
     "text": [
      "2023-05-14 10:00:21.134131: I tensorflow/core/common_runtime/executor.cc:1197] [/device:CPU:0] (DEBUG INFO) Executor start aborting (this does not indicate an error and you can ignore this message): INVALID_ARGUMENT: You must feed a value for placeholder tensor 'Placeholder/_1' with dtype int64 and shape [1000]\n",
      "\t [[{{node Placeholder/_1}}]]\n"
     ]
    },
    {
     "name": "stdout",
     "output_type": "stream",
     "text": [
      "16/16 [==============================] - 0s 908us/step - loss: 3.2284\n",
      "16/16 [==============================] - 0s 863us/step - loss: 3.2284\n",
      "16/16 [==============================] - 0s 854us/step - loss: 3.2284\n",
      "16/16 [==============================] - 0s 822us/step - loss: 3.2284\n",
      "16/16 [==============================] - 0s 870us/step - loss: 3.2284\n",
      "16/16 [==============================] - 0s 818us/step - loss: 3.2284\n",
      "16/16 [==============================] - 0s 899us/step - loss: 3.2284\n",
      "16/16 [==============================] - 0s 895us/step - loss: 3.2284\n",
      "\n",
      "Testing for epoch 22 index 2:\n",
      "65/65 [==============================] - 0s 542us/step\n",
      "16/16 [==============================] - 0s 913us/step - loss: 0.0451\n",
      "16/16 [==============================] - 0s 869us/step - loss: 3.2917\n",
      "16/16 [==============================] - 0s 904us/step - loss: 3.2917\n"
     ]
    },
    {
     "name": "stderr",
     "output_type": "stream",
     "text": [
      "2023-05-14 10:00:21.919707: I tensorflow/core/common_runtime/executor.cc:1197] [/device:CPU:0] (DEBUG INFO) Executor start aborting (this does not indicate an error and you can ignore this message): INVALID_ARGUMENT: You must feed a value for placeholder tensor 'Placeholder/_1' with dtype int64 and shape [1000]\n",
      "\t [[{{node Placeholder/_1}}]]\n"
     ]
    },
    {
     "name": "stdout",
     "output_type": "stream",
     "text": [
      "16/16 [==============================] - 0s 886us/step - loss: 3.2917\n",
      "16/16 [==============================] - 0s 827us/step - loss: 3.2917\n",
      "16/16 [==============================] - 0s 894us/step - loss: 3.2917\n",
      "16/16 [==============================] - 0s 890us/step - loss: 3.2917\n",
      "16/16 [==============================] - 0s 886us/step - loss: 3.2917\n",
      "16/16 [==============================] - 0s 937us/step - loss: 3.2917\n",
      "16/16 [==============================] - 0s 936us/step - loss: 3.2917\n",
      "\n",
      "Testing for epoch 22 index 3:\n",
      "65/65 [==============================] - 0s 518us/step\n",
      "16/16 [==============================] - 0s 864us/step - loss: 0.0443\n",
      "16/16 [==============================] - 0s 777us/step - loss: 3.2846\n",
      " 1/16 [>.............................] - ETA: 0s - loss: 3.1724"
     ]
    },
    {
     "name": "stderr",
     "output_type": "stream",
     "text": [
      "2023-05-14 10:00:22.713439: I tensorflow/core/common_runtime/executor.cc:1197] [/device:CPU:0] (DEBUG INFO) Executor start aborting (this does not indicate an error and you can ignore this message): INVALID_ARGUMENT: You must feed a value for placeholder tensor 'Placeholder/_1' with dtype int64 and shape [1000]\n",
      "\t [[{{node Placeholder/_1}}]]\n"
     ]
    },
    {
     "name": "stdout",
     "output_type": "stream",
     "text": [
      "16/16 [==============================] - 0s 871us/step - loss: 3.2845\n",
      "16/16 [==============================] - 0s 828us/step - loss: 3.2845\n",
      "16/16 [==============================] - 0s 896us/step - loss: 3.2845\n",
      "16/16 [==============================] - 0s 878us/step - loss: 3.2845\n",
      "16/16 [==============================] - 0s 882us/step - loss: 3.2845\n",
      "16/16 [==============================] - 0s 887us/step - loss: 3.2845\n",
      "16/16 [==============================] - 0s 868us/step - loss: 3.2845\n",
      "16/16 [==============================] - 0s 907us/step - loss: 3.2845\n",
      "\n",
      "Testing for epoch 22 index 4:\n",
      "65/65 [==============================] - 0s 516us/step\n",
      "16/16 [==============================] - 0s 907us/step - loss: 0.0434\n",
      "16/16 [==============================] - 0s 884us/step - loss: 3.3451\n",
      " 1/16 [>.............................] - ETA: 0s - loss: 3.4252"
     ]
    },
    {
     "name": "stderr",
     "output_type": "stream",
     "text": [
      "2023-05-14 10:00:23.492026: I tensorflow/core/common_runtime/executor.cc:1197] [/device:CPU:0] (DEBUG INFO) Executor start aborting (this does not indicate an error and you can ignore this message): INVALID_ARGUMENT: You must feed a value for placeholder tensor 'Placeholder/_1' with dtype int64 and shape [1000]\n",
      "\t [[{{node Placeholder/_1}}]]\n"
     ]
    },
    {
     "name": "stdout",
     "output_type": "stream",
     "text": [
      "16/16 [==============================] - 0s 842us/step - loss: 3.3451\n",
      "16/16 [==============================] - 0s 930us/step - loss: 3.3451\n",
      "16/16 [==============================] - 0s 896us/step - loss: 3.3451\n",
      "16/16 [==============================] - 0s 830us/step - loss: 3.3451\n",
      "16/16 [==============================] - 0s 973us/step - loss: 3.3451\n",
      "16/16 [==============================] - 0s 791us/step - loss: 3.3451\n",
      "16/16 [==============================] - 0s 783us/step - loss: 3.3451\n",
      "16/16 [==============================] - 0s 899us/step - loss: 3.3451\n",
      "Epoch 23 of 60\n",
      "\n",
      "Testing for epoch 23 index 1:\n",
      "65/65 [==============================] - 0s 529us/step\n",
      "16/16 [==============================] - 0s 831us/step - loss: 0.0424\n",
      "16/16 [==============================] - 0s 807us/step - loss: 3.3757\n",
      "16/16 [==============================] - 0s 795us/step - loss: 3.3757\n"
     ]
    },
    {
     "name": "stderr",
     "output_type": "stream",
     "text": [
      "2023-05-14 10:00:24.296023: I tensorflow/core/common_runtime/executor.cc:1197] [/device:CPU:0] (DEBUG INFO) Executor start aborting (this does not indicate an error and you can ignore this message): INVALID_ARGUMENT: You must feed a value for placeholder tensor 'Placeholder/_1' with dtype int64 and shape [1000]\n",
      "\t [[{{node Placeholder/_1}}]]\n"
     ]
    },
    {
     "name": "stdout",
     "output_type": "stream",
     "text": [
      "16/16 [==============================] - 0s 876us/step - loss: 3.3757\n",
      "16/16 [==============================] - 0s 1ms/step - loss: 3.3757\n",
      "16/16 [==============================] - 0s 995us/step - loss: 3.3757\n",
      "16/16 [==============================] - 0s 1ms/step - loss: 3.3757\n",
      "16/16 [==============================] - 0s 1ms/step - loss: 3.3757\n",
      "16/16 [==============================] - 0s 871us/step - loss: 3.3757\n",
      "16/16 [==============================] - 0s 996us/step - loss: 3.3757\n",
      "\n",
      "Testing for epoch 23 index 2:\n",
      "65/65 [==============================] - 0s 569us/step\n",
      "16/16 [==============================] - 0s 888us/step - loss: 0.0417\n",
      "16/16 [==============================] - 0s 884us/step - loss: 3.3584\n",
      " 1/16 [>.............................] - ETA: 0s - loss: 3.2303"
     ]
    },
    {
     "name": "stderr",
     "output_type": "stream",
     "text": [
      "2023-05-14 10:00:25.105775: I tensorflow/core/common_runtime/executor.cc:1197] [/device:CPU:0] (DEBUG INFO) Executor start aborting (this does not indicate an error and you can ignore this message): INVALID_ARGUMENT: You must feed a value for placeholder tensor 'Placeholder/_1' with dtype int64 and shape [1000]\n",
      "\t [[{{node Placeholder/_1}}]]\n"
     ]
    },
    {
     "name": "stdout",
     "output_type": "stream",
     "text": [
      "16/16 [==============================] - 0s 882us/step - loss: 3.3584\n",
      "16/16 [==============================] - 0s 1ms/step - loss: 3.3584\n",
      "16/16 [==============================] - 0s 869us/step - loss: 3.3584\n",
      "16/16 [==============================] - 0s 896us/step - loss: 3.3584\n",
      "16/16 [==============================] - 0s 909us/step - loss: 3.3584\n",
      "16/16 [==============================] - 0s 801us/step - loss: 3.3584\n",
      "16/16 [==============================] - 0s 781us/step - loss: 3.3584\n",
      "16/16 [==============================] - 0s 892us/step - loss: 3.3584\n",
      "\n",
      "Testing for epoch 23 index 3:\n",
      "65/65 [==============================] - 0s 553us/step\n",
      "16/16 [==============================] - 0s 830us/step - loss: 0.0408\n",
      "16/16 [==============================] - 0s 759us/step - loss: 3.3925\n",
      " 1/16 [>.............................] - ETA: 0s - loss: 3.3912"
     ]
    },
    {
     "name": "stderr",
     "output_type": "stream",
     "text": [
      "2023-05-14 10:00:25.896643: I tensorflow/core/common_runtime/executor.cc:1197] [/device:CPU:0] (DEBUG INFO) Executor start aborting (this does not indicate an error and you can ignore this message): INVALID_ARGUMENT: You must feed a value for placeholder tensor 'Placeholder/_1' with dtype int64 and shape [1000]\n",
      "\t [[{{node Placeholder/_1}}]]\n"
     ]
    },
    {
     "name": "stdout",
     "output_type": "stream",
     "text": [
      "16/16 [==============================] - 0s 900us/step - loss: 3.3925\n",
      "16/16 [==============================] - 0s 933us/step - loss: 3.3925\n",
      "16/16 [==============================] - 0s 859us/step - loss: 3.3925\n",
      "16/16 [==============================] - 0s 900us/step - loss: 3.3925\n",
      "16/16 [==============================] - 0s 908us/step - loss: 3.3925\n",
      "16/16 [==============================] - 0s 892us/step - loss: 3.3925\n",
      "16/16 [==============================] - 0s 941us/step - loss: 3.3925\n",
      "16/16 [==============================] - 0s 918us/step - loss: 3.3925\n",
      "\n",
      "Testing for epoch 23 index 4:\n",
      "65/65 [==============================] - 0s 526us/step\n",
      "16/16 [==============================] - 0s 794us/step - loss: 0.0398\n",
      "16/16 [==============================] - 0s 859us/step - loss: 3.3974\n",
      " 1/16 [>.............................] - ETA: 0s - loss: 3.4408"
     ]
    },
    {
     "name": "stderr",
     "output_type": "stream",
     "text": [
      "2023-05-14 10:00:26.689196: I tensorflow/core/common_runtime/executor.cc:1197] [/device:CPU:0] (DEBUG INFO) Executor start aborting (this does not indicate an error and you can ignore this message): INVALID_ARGUMENT: You must feed a value for placeholder tensor 'Placeholder/_1' with dtype int64 and shape [1000]\n",
      "\t [[{{node Placeholder/_1}}]]\n"
     ]
    },
    {
     "name": "stdout",
     "output_type": "stream",
     "text": [
      "16/16 [==============================] - 0s 859us/step - loss: 3.3973\n",
      "16/16 [==============================] - 0s 903us/step - loss: 3.3973\n",
      "16/16 [==============================] - 0s 791us/step - loss: 3.3973\n",
      "16/16 [==============================] - 0s 902us/step - loss: 3.3973\n",
      "16/16 [==============================] - 0s 863us/step - loss: 3.3973\n",
      "16/16 [==============================] - 0s 889us/step - loss: 3.3973\n",
      "16/16 [==============================] - 0s 895us/step - loss: 3.3973\n",
      "16/16 [==============================] - 0s 900us/step - loss: 3.3973\n",
      "Epoch 24 of 60\n",
      "\n",
      "Testing for epoch 24 index 1:\n",
      "65/65 [==============================] - 0s 549us/step\n",
      "16/16 [==============================] - 0s 877us/step - loss: 0.0392\n",
      "16/16 [==============================] - 0s 886us/step - loss: 3.3954\n",
      " 1/16 [>.............................] - ETA: 0s - loss: 3.5161"
     ]
    },
    {
     "name": "stderr",
     "output_type": "stream",
     "text": [
      "2023-05-14 10:00:27.487529: I tensorflow/core/common_runtime/executor.cc:1197] [/device:CPU:0] (DEBUG INFO) Executor start aborting (this does not indicate an error and you can ignore this message): INVALID_ARGUMENT: You must feed a value for placeholder tensor 'Placeholder/_1' with dtype int64 and shape [1000]\n",
      "\t [[{{node Placeholder/_1}}]]\n"
     ]
    },
    {
     "name": "stdout",
     "output_type": "stream",
     "text": [
      "16/16 [==============================] - 0s 907us/step - loss: 3.3954\n",
      "16/16 [==============================] - 0s 904us/step - loss: 3.3954\n",
      "16/16 [==============================] - 0s 898us/step - loss: 3.3954\n",
      "16/16 [==============================] - 0s 863us/step - loss: 3.3954\n",
      "16/16 [==============================] - 0s 822us/step - loss: 3.3954\n",
      "16/16 [==============================] - 0s 837us/step - loss: 3.3954\n",
      "16/16 [==============================] - 0s 890us/step - loss: 3.3954\n",
      "16/16 [==============================] - 0s 910us/step - loss: 3.3954\n",
      "\n",
      "Testing for epoch 24 index 2:\n",
      "65/65 [==============================] - 0s 516us/step\n",
      "16/16 [==============================] - 0s 861us/step - loss: 0.0383\n",
      "16/16 [==============================] - 0s 841us/step - loss: 3.4619\n",
      " 1/16 [>.............................] - ETA: 0s - loss: 3.4166"
     ]
    },
    {
     "name": "stderr",
     "output_type": "stream",
     "text": [
      "2023-05-14 10:00:28.263313: I tensorflow/core/common_runtime/executor.cc:1197] [/device:CPU:0] (DEBUG INFO) Executor start aborting (this does not indicate an error and you can ignore this message): INVALID_ARGUMENT: You must feed a value for placeholder tensor 'Placeholder/_1' with dtype int64 and shape [1000]\n",
      "\t [[{{node Placeholder/_1}}]]\n"
     ]
    },
    {
     "name": "stdout",
     "output_type": "stream",
     "text": [
      "16/16 [==============================] - 0s 892us/step - loss: 3.4619\n",
      "16/16 [==============================] - 0s 816us/step - loss: 3.4619\n",
      "16/16 [==============================] - 0s 860us/step - loss: 3.4619\n",
      "16/16 [==============================] - 0s 879us/step - loss: 3.4619\n",
      "16/16 [==============================] - 0s 859us/step - loss: 3.4619\n",
      "16/16 [==============================] - 0s 871us/step - loss: 3.4619\n",
      "16/16 [==============================] - 0s 853us/step - loss: 3.4619\n",
      "16/16 [==============================] - 0s 879us/step - loss: 3.4619\n",
      "\n",
      "Testing for epoch 24 index 3:\n",
      "65/65 [==============================] - 0s 565us/step\n",
      "16/16 [==============================] - 0s 905us/step - loss: 0.0377\n",
      "16/16 [==============================] - 0s 776us/step - loss: 3.4454\n",
      " 1/16 [>.............................] - ETA: 0s - loss: 3.5917"
     ]
    },
    {
     "name": "stderr",
     "output_type": "stream",
     "text": [
      "2023-05-14 10:00:29.089541: I tensorflow/core/common_runtime/executor.cc:1197] [/device:CPU:0] (DEBUG INFO) Executor start aborting (this does not indicate an error and you can ignore this message): INVALID_ARGUMENT: You must feed a value for placeholder tensor 'Placeholder/_1' with dtype int64 and shape [1000]\n",
      "\t [[{{node Placeholder/_1}}]]\n"
     ]
    },
    {
     "name": "stdout",
     "output_type": "stream",
     "text": [
      "16/16 [==============================] - 0s 874us/step - loss: 3.4454\n",
      "16/16 [==============================] - 0s 918us/step - loss: 3.4454\n",
      "16/16 [==============================] - 0s 894us/step - loss: 3.4454\n",
      "16/16 [==============================] - 0s 783us/step - loss: 3.4454\n",
      "16/16 [==============================] - 0s 870us/step - loss: 3.4454\n",
      "16/16 [==============================] - 0s 895us/step - loss: 3.4454\n",
      "16/16 [==============================] - 0s 874us/step - loss: 3.4454\n",
      "16/16 [==============================] - 0s 799us/step - loss: 3.4454\n",
      "\n",
      "Testing for epoch 24 index 4:\n",
      "65/65 [==============================] - 0s 512us/step\n",
      "16/16 [==============================] - 0s 773us/step - loss: 0.0369\n",
      "16/16 [==============================] - 0s 835us/step - loss: 3.4693\n",
      " 1/16 [>.............................] - ETA: 0s - loss: 3.3893"
     ]
    },
    {
     "name": "stderr",
     "output_type": "stream",
     "text": [
      "2023-05-14 10:00:29.879205: I tensorflow/core/common_runtime/executor.cc:1197] [/device:CPU:0] (DEBUG INFO) Executor start aborting (this does not indicate an error and you can ignore this message): INVALID_ARGUMENT: You must feed a value for placeholder tensor 'Placeholder/_1' with dtype int64 and shape [1000]\n",
      "\t [[{{node Placeholder/_1}}]]\n"
     ]
    },
    {
     "name": "stdout",
     "output_type": "stream",
     "text": [
      "16/16 [==============================] - 0s 782us/step - loss: 3.4693\n",
      "16/16 [==============================] - 0s 973us/step - loss: 3.4693\n",
      "16/16 [==============================] - 0s 944us/step - loss: 3.4693\n",
      "16/16 [==============================] - 0s 1ms/step - loss: 3.4693\n",
      "16/16 [==============================] - 0s 930us/step - loss: 3.4693\n",
      "16/16 [==============================] - 0s 924us/step - loss: 3.4693\n",
      "16/16 [==============================] - 0s 901us/step - loss: 3.4693\n",
      "16/16 [==============================] - 0s 960us/step - loss: 3.4693\n",
      "Epoch 25 of 60\n",
      "\n",
      "Testing for epoch 25 index 1:\n",
      "65/65 [==============================] - 0s 453us/step\n",
      "16/16 [==============================] - 0s 699us/step - loss: 0.0363\n",
      "16/16 [==============================] - 0s 731us/step - loss: 3.4443\n",
      "16/16 [==============================] - 0s 711us/step - loss: 3.4443\n"
     ]
    },
    {
     "name": "stderr",
     "output_type": "stream",
     "text": [
      "2023-05-14 10:00:30.683032: I tensorflow/core/common_runtime/executor.cc:1197] [/device:CPU:0] (DEBUG INFO) Executor start aborting (this does not indicate an error and you can ignore this message): INVALID_ARGUMENT: You must feed a value for placeholder tensor 'Placeholder/_1' with dtype int64 and shape [1000]\n",
      "\t [[{{node Placeholder/_1}}]]\n"
     ]
    },
    {
     "name": "stdout",
     "output_type": "stream",
     "text": [
      "16/16 [==============================] - 0s 757us/step - loss: 3.4443\n",
      "16/16 [==============================] - 0s 706us/step - loss: 3.4443\n",
      "16/16 [==============================] - 0s 795us/step - loss: 3.4443\n",
      "16/16 [==============================] - 0s 727us/step - loss: 3.4443\n",
      "16/16 [==============================] - 0s 866us/step - loss: 3.4443\n",
      "16/16 [==============================] - 0s 911us/step - loss: 3.4443\n",
      "16/16 [==============================] - 0s 913us/step - loss: 3.4443\n",
      "\n",
      "Testing for epoch 25 index 2:\n",
      "65/65 [==============================] - 0s 599us/step\n",
      "16/16 [==============================] - 0s 871us/step - loss: 0.0353\n",
      "16/16 [==============================] - 0s 893us/step - loss: 3.5221\n"
     ]
    },
    {
     "name": "stderr",
     "output_type": "stream",
     "text": [
      "2023-05-14 10:00:31.442796: I tensorflow/core/common_runtime/executor.cc:1197] [/device:CPU:0] (DEBUG INFO) Executor start aborting (this does not indicate an error and you can ignore this message): INVALID_ARGUMENT: You must feed a value for placeholder tensor 'Placeholder/_1' with dtype int64 and shape [1000]\n",
      "\t [[{{node Placeholder/_1}}]]\n"
     ]
    },
    {
     "name": "stdout",
     "output_type": "stream",
     "text": [
      "16/16 [==============================] - 0s 1ms/step - loss: 3.5221\n",
      "16/16 [==============================] - 0s 812us/step - loss: 3.5221\n",
      "16/16 [==============================] - 0s 679us/step - loss: 3.5221\n",
      "16/16 [==============================] - 0s 752us/step - loss: 3.5221\n",
      "16/16 [==============================] - 0s 707us/step - loss: 3.5221\n",
      "16/16 [==============================] - 0s 728us/step - loss: 3.5221\n",
      "16/16 [==============================] - 0s 756us/step - loss: 3.5221\n",
      "16/16 [==============================] - 0s 798us/step - loss: 3.5221\n",
      "\n",
      "Testing for epoch 25 index 3:\n",
      "65/65 [==============================] - 0s 534us/step\n",
      "16/16 [==============================] - 0s 909us/step - loss: 0.0348\n",
      "16/16 [==============================] - 0s 885us/step - loss: 3.5455\n",
      " 1/16 [>.............................] - ETA: 0s - loss: 3.4500"
     ]
    },
    {
     "name": "stderr",
     "output_type": "stream",
     "text": [
      "2023-05-14 10:00:32.240199: I tensorflow/core/common_runtime/executor.cc:1197] [/device:CPU:0] (DEBUG INFO) Executor start aborting (this does not indicate an error and you can ignore this message): INVALID_ARGUMENT: You must feed a value for placeholder tensor 'Placeholder/_1' with dtype int64 and shape [1000]\n",
      "\t [[{{node Placeholder/_1}}]]\n"
     ]
    },
    {
     "name": "stdout",
     "output_type": "stream",
     "text": [
      "16/16 [==============================] - 0s 850us/step - loss: 3.5455\n",
      "16/16 [==============================] - 0s 897us/step - loss: 3.5455\n",
      "16/16 [==============================] - 0s 998us/step - loss: 3.5455\n",
      "16/16 [==============================] - 0s 867us/step - loss: 3.5455\n",
      "16/16 [==============================] - 0s 1ms/step - loss: 3.5455\n",
      "16/16 [==============================] - 0s 985us/step - loss: 3.5455\n",
      "16/16 [==============================] - 0s 889us/step - loss: 3.5455\n",
      "16/16 [==============================] - 0s 939us/step - loss: 3.5455\n",
      "\n",
      "Testing for epoch 25 index 4:\n",
      "65/65 [==============================] - 0s 508us/step\n",
      "16/16 [==============================] - 0s 855us/step - loss: 0.0343\n",
      "16/16 [==============================] - 0s 973us/step - loss: 3.5587\n",
      " 1/16 [>.............................] - ETA: 0s - loss: 3.6068"
     ]
    },
    {
     "name": "stderr",
     "output_type": "stream",
     "text": [
      "2023-05-14 10:00:33.064745: I tensorflow/core/common_runtime/executor.cc:1197] [/device:CPU:0] (DEBUG INFO) Executor start aborting (this does not indicate an error and you can ignore this message): INVALID_ARGUMENT: You must feed a value for placeholder tensor 'Placeholder/_1' with dtype int64 and shape [1000]\n",
      "\t [[{{node Placeholder/_1}}]]\n"
     ]
    },
    {
     "name": "stdout",
     "output_type": "stream",
     "text": [
      "16/16 [==============================] - 0s 908us/step - loss: 3.5587\n",
      "16/16 [==============================] - 0s 979us/step - loss: 3.5587\n",
      "16/16 [==============================] - 0s 952us/step - loss: 3.5587\n",
      "16/16 [==============================] - 0s 966us/step - loss: 3.5587\n",
      "16/16 [==============================] - 0s 903us/step - loss: 3.5587\n",
      "16/16 [==============================] - 0s 854us/step - loss: 3.5587\n",
      "16/16 [==============================] - 0s 954us/step - loss: 3.5587\n",
      "16/16 [==============================] - 0s 893us/step - loss: 3.5587\n",
      "Epoch 26 of 60\n",
      "\n",
      "Testing for epoch 26 index 1:\n",
      "65/65 [==============================] - 0s 564us/step\n",
      "16/16 [==============================] - 0s 873us/step - loss: 0.0337\n",
      "16/16 [==============================] - 0s 877us/step - loss: 3.5502\n",
      " 1/16 [>.............................] - ETA: 0s - loss: 3.5733"
     ]
    },
    {
     "name": "stderr",
     "output_type": "stream",
     "text": [
      "2023-05-14 10:00:33.888433: I tensorflow/core/common_runtime/executor.cc:1197] [/device:CPU:0] (DEBUG INFO) Executor start aborting (this does not indicate an error and you can ignore this message): INVALID_ARGUMENT: You must feed a value for placeholder tensor 'Placeholder/_1' with dtype int64 and shape [1000]\n",
      "\t [[{{node Placeholder/_1}}]]\n"
     ]
    },
    {
     "name": "stdout",
     "output_type": "stream",
     "text": [
      "16/16 [==============================] - 0s 855us/step - loss: 3.5502\n",
      "16/16 [==============================] - 0s 865us/step - loss: 3.5502\n",
      "16/16 [==============================] - 0s 791us/step - loss: 3.5502\n",
      "16/16 [==============================] - 0s 889us/step - loss: 3.5502\n",
      "16/16 [==============================] - 0s 862us/step - loss: 3.5502\n",
      "16/16 [==============================] - 0s 929us/step - loss: 3.5502\n",
      "16/16 [==============================] - 0s 930us/step - loss: 3.5502\n",
      "16/16 [==============================] - 0s 846us/step - loss: 3.5502\n",
      "\n",
      "Testing for epoch 26 index 2:\n",
      "65/65 [==============================] - 0s 478us/step\n",
      "16/16 [==============================] - 0s 713us/step - loss: 0.0329\n",
      "16/16 [==============================] - 0s 921us/step - loss: 3.5828\n",
      "16/16 [==============================] - 0s 788us/step - loss: 3.5828\n"
     ]
    },
    {
     "name": "stderr",
     "output_type": "stream",
     "text": [
      "2023-05-14 10:00:34.672228: I tensorflow/core/common_runtime/executor.cc:1197] [/device:CPU:0] (DEBUG INFO) Executor start aborting (this does not indicate an error and you can ignore this message): INVALID_ARGUMENT: You must feed a value for placeholder tensor 'Placeholder/_1' with dtype int64 and shape [1000]\n",
      "\t [[{{node Placeholder/_1}}]]\n"
     ]
    },
    {
     "name": "stdout",
     "output_type": "stream",
     "text": [
      "16/16 [==============================] - 0s 1ms/step - loss: 3.5828\n",
      "16/16 [==============================] - 0s 820us/step - loss: 3.5828\n",
      "16/16 [==============================] - 0s 878us/step - loss: 3.5828\n",
      "16/16 [==============================] - 0s 889us/step - loss: 3.5828\n",
      "16/16 [==============================] - 0s 874us/step - loss: 3.5828\n",
      "16/16 [==============================] - 0s 920us/step - loss: 3.5828\n",
      "16/16 [==============================] - 0s 892us/step - loss: 3.5828\n",
      "\n",
      "Testing for epoch 26 index 3:\n",
      "65/65 [==============================] - 0s 527us/step\n",
      "16/16 [==============================] - 0s 960us/step - loss: 0.0325\n",
      "16/16 [==============================] - 0s 928us/step - loss: 3.5940\n",
      " 1/16 [>.............................] - ETA: 0s - loss: 3.5041"
     ]
    },
    {
     "name": "stderr",
     "output_type": "stream",
     "text": [
      "2023-05-14 10:00:35.466187: I tensorflow/core/common_runtime/executor.cc:1197] [/device:CPU:0] (DEBUG INFO) Executor start aborting (this does not indicate an error and you can ignore this message): INVALID_ARGUMENT: You must feed a value for placeholder tensor 'Placeholder/_1' with dtype int64 and shape [1000]\n",
      "\t [[{{node Placeholder/_1}}]]\n"
     ]
    },
    {
     "name": "stdout",
     "output_type": "stream",
     "text": [
      "16/16 [==============================] - 0s 934us/step - loss: 3.5940\n",
      "16/16 [==============================] - 0s 847us/step - loss: 3.5940\n",
      "16/16 [==============================] - 0s 983us/step - loss: 3.5940\n",
      "16/16 [==============================] - 0s 790us/step - loss: 3.5940\n",
      "16/16 [==============================] - 0s 899us/step - loss: 3.5940\n",
      "16/16 [==============================] - 0s 895us/step - loss: 3.5940\n",
      "16/16 [==============================] - 0s 899us/step - loss: 3.5940\n",
      "16/16 [==============================] - 0s 1ms/step - loss: 3.5940\n",
      "\n",
      "Testing for epoch 26 index 4:\n",
      "65/65 [==============================] - 0s 529us/step\n",
      "16/16 [==============================] - 0s 888us/step - loss: 0.0321\n",
      "16/16 [==============================] - 0s 874us/step - loss: 3.6401\n",
      " 1/16 [>.............................] - ETA: 0s - loss: 3.5345"
     ]
    },
    {
     "name": "stderr",
     "output_type": "stream",
     "text": [
      "2023-05-14 10:00:36.288362: I tensorflow/core/common_runtime/executor.cc:1197] [/device:CPU:0] (DEBUG INFO) Executor start aborting (this does not indicate an error and you can ignore this message): INVALID_ARGUMENT: You must feed a value for placeholder tensor 'Placeholder/_1' with dtype int64 and shape [1000]\n",
      "\t [[{{node Placeholder/_1}}]]\n"
     ]
    },
    {
     "name": "stdout",
     "output_type": "stream",
     "text": [
      "16/16 [==============================] - 0s 922us/step - loss: 3.6401\n",
      "16/16 [==============================] - 0s 911us/step - loss: 3.6401\n",
      "16/16 [==============================] - 0s 942us/step - loss: 3.6401\n",
      "16/16 [==============================] - 0s 944us/step - loss: 3.6401\n",
      "16/16 [==============================] - 0s 992us/step - loss: 3.6401\n",
      "16/16 [==============================] - 0s 980us/step - loss: 3.6401\n",
      "16/16 [==============================] - 0s 843us/step - loss: 3.6401\n",
      "16/16 [==============================] - 0s 786us/step - loss: 3.6401\n",
      "Epoch 27 of 60\n",
      "\n",
      "Testing for epoch 27 index 1:\n",
      "65/65 [==============================] - 0s 469us/step\n",
      "16/16 [==============================] - 0s 934us/step - loss: 0.0315\n",
      "16/16 [==============================] - 0s 742us/step - loss: 3.6376\n",
      " 1/16 [>.............................] - ETA: 0s - loss: 3.5693"
     ]
    },
    {
     "name": "stderr",
     "output_type": "stream",
     "text": [
      "2023-05-14 10:00:37.090110: I tensorflow/core/common_runtime/executor.cc:1197] [/device:CPU:0] (DEBUG INFO) Executor start aborting (this does not indicate an error and you can ignore this message): INVALID_ARGUMENT: You must feed a value for placeholder tensor 'Placeholder/_1' with dtype int64 and shape [1000]\n",
      "\t [[{{node Placeholder/_1}}]]\n"
     ]
    },
    {
     "name": "stdout",
     "output_type": "stream",
     "text": [
      "16/16 [==============================] - 0s 871us/step - loss: 3.6376\n",
      "16/16 [==============================] - 0s 865us/step - loss: 3.6376\n",
      "16/16 [==============================] - 0s 908us/step - loss: 3.6376\n",
      "16/16 [==============================] - 0s 1ms/step - loss: 3.6376\n",
      "16/16 [==============================] - 0s 853us/step - loss: 3.6376\n",
      "16/16 [==============================] - 0s 866us/step - loss: 3.6376\n",
      "16/16 [==============================] - 0s 781us/step - loss: 3.6376\n",
      "16/16 [==============================] - 0s 933us/step - loss: 3.6376\n",
      "\n",
      "Testing for epoch 27 index 2:\n",
      "65/65 [==============================] - 0s 530us/step\n",
      "16/16 [==============================] - 0s 708us/step - loss: 0.0308\n",
      "16/16 [==============================] - 0s 723us/step - loss: 3.6618\n",
      "16/16 [==============================] - 0s 704us/step - loss: 3.6618\n"
     ]
    },
    {
     "name": "stderr",
     "output_type": "stream",
     "text": [
      "2023-05-14 10:00:37.914197: I tensorflow/core/common_runtime/executor.cc:1197] [/device:CPU:0] (DEBUG INFO) Executor start aborting (this does not indicate an error and you can ignore this message): INVALID_ARGUMENT: You must feed a value for placeholder tensor 'Placeholder/_1' with dtype int64 and shape [1000]\n",
      "\t [[{{node Placeholder/_1}}]]\n"
     ]
    },
    {
     "name": "stdout",
     "output_type": "stream",
     "text": [
      "16/16 [==============================] - 0s 762us/step - loss: 3.6618\n",
      "16/16 [==============================] - 0s 737us/step - loss: 3.6618\n",
      "16/16 [==============================] - 0s 870us/step - loss: 3.6618\n",
      "16/16 [==============================] - 0s 896us/step - loss: 3.6618\n",
      "16/16 [==============================] - 0s 898us/step - loss: 3.6618\n",
      "16/16 [==============================] - 0s 903us/step - loss: 3.6618\n",
      "16/16 [==============================] - 0s 809us/step - loss: 3.6618\n",
      "\n",
      "Testing for epoch 27 index 3:\n",
      "65/65 [==============================] - 0s 560us/step\n",
      "16/16 [==============================] - 0s 889us/step - loss: 0.0304\n",
      "16/16 [==============================] - 0s 1ms/step - loss: 3.6739\n"
     ]
    },
    {
     "name": "stderr",
     "output_type": "stream",
     "text": [
      "2023-05-14 10:00:38.705208: I tensorflow/core/common_runtime/executor.cc:1197] [/device:CPU:0] (DEBUG INFO) Executor start aborting (this does not indicate an error and you can ignore this message): INVALID_ARGUMENT: You must feed a value for placeholder tensor 'Placeholder/_1' with dtype int64 and shape [1000]\n",
      "\t [[{{node Placeholder/_1}}]]\n"
     ]
    },
    {
     "name": "stdout",
     "output_type": "stream",
     "text": [
      "16/16 [==============================] - 0s 932us/step - loss: 3.6739\n",
      "16/16 [==============================] - 0s 842us/step - loss: 3.6739\n",
      "16/16 [==============================] - 0s 750us/step - loss: 3.6739\n",
      "16/16 [==============================] - 0s 743us/step - loss: 3.6739\n",
      "16/16 [==============================] - 0s 739us/step - loss: 3.6739\n",
      "16/16 [==============================] - 0s 789us/step - loss: 3.6739\n",
      "16/16 [==============================] - 0s 909us/step - loss: 3.6739\n",
      "16/16 [==============================] - 0s 859us/step - loss: 3.6739\n",
      "\n",
      "Testing for epoch 27 index 4:\n",
      "65/65 [==============================] - 0s 550us/step\n",
      "16/16 [==============================] - 0s 861us/step - loss: 0.0299\n",
      "16/16 [==============================] - 0s 858us/step - loss: 3.6610\n"
     ]
    },
    {
     "name": "stderr",
     "output_type": "stream",
     "text": [
      "2023-05-14 10:00:39.840821: I tensorflow/core/common_runtime/executor.cc:1197] [/device:CPU:0] (DEBUG INFO) Executor start aborting (this does not indicate an error and you can ignore this message): INVALID_ARGUMENT: You must feed a value for placeholder tensor 'Placeholder/_1' with dtype int64 and shape [1000]\n",
      "\t [[{{node Placeholder/_1}}]]\n"
     ]
    },
    {
     "name": "stdout",
     "output_type": "stream",
     "text": [
      "16/16 [==============================] - 0s 1ms/step - loss: 3.6610\n",
      "16/16 [==============================] - 0s 924us/step - loss: 3.6610\n",
      "16/16 [==============================] - 0s 930us/step - loss: 3.6610\n",
      "16/16 [==============================] - 0s 822us/step - loss: 3.6610\n",
      "16/16 [==============================] - 0s 853us/step - loss: 3.6610\n",
      "16/16 [==============================] - 0s 889us/step - loss: 3.6610\n",
      "16/16 [==============================] - 0s 830us/step - loss: 3.6610\n",
      "16/16 [==============================] - 0s 949us/step - loss: 3.6610\n",
      "Epoch 28 of 60\n",
      "\n",
      "Testing for epoch 28 index 1:\n",
      "65/65 [==============================] - 0s 551us/step\n",
      "16/16 [==============================] - 0s 778us/step - loss: 0.0295\n",
      "16/16 [==============================] - 0s 1ms/step - loss: 3.6858\n"
     ]
    },
    {
     "name": "stderr",
     "output_type": "stream",
     "text": [
      "2023-05-14 10:00:40.743687: I tensorflow/core/common_runtime/executor.cc:1197] [/device:CPU:0] (DEBUG INFO) Executor start aborting (this does not indicate an error and you can ignore this message): INVALID_ARGUMENT: You must feed a value for placeholder tensor 'Placeholder/_1' with dtype int64 and shape [1000]\n",
      "\t [[{{node Placeholder/_1}}]]\n"
     ]
    },
    {
     "name": "stdout",
     "output_type": "stream",
     "text": [
      "16/16 [==============================] - 0s 1ms/step - loss: 3.6858\n",
      "16/16 [==============================] - 0s 819us/step - loss: 3.6858\n",
      "16/16 [==============================] - 0s 799us/step - loss: 3.6858\n",
      "16/16 [==============================] - 0s 940us/step - loss: 3.6858\n",
      "16/16 [==============================] - 0s 889us/step - loss: 3.6858\n",
      "16/16 [==============================] - 0s 758us/step - loss: 3.6858\n",
      "16/16 [==============================] - 0s 739us/step - loss: 3.6858\n",
      "16/16 [==============================] - 0s 725us/step - loss: 3.6858\n",
      "\n",
      "Testing for epoch 28 index 2:\n",
      "65/65 [==============================] - 0s 547us/step\n",
      "16/16 [==============================] - 0s 920us/step - loss: 0.0291\n",
      "16/16 [==============================] - 0s 973us/step - loss: 3.6878\n"
     ]
    },
    {
     "name": "stderr",
     "output_type": "stream",
     "text": [
      "2023-05-14 10:00:41.662647: I tensorflow/core/common_runtime/executor.cc:1197] [/device:CPU:0] (DEBUG INFO) Executor start aborting (this does not indicate an error and you can ignore this message): INVALID_ARGUMENT: You must feed a value for placeholder tensor 'Placeholder/_1' with dtype int64 and shape [1000]\n",
      "\t [[{{node Placeholder/_1}}]]\n"
     ]
    },
    {
     "name": "stdout",
     "output_type": "stream",
     "text": [
      "16/16 [==============================] - 0s 1ms/step - loss: 3.6878\n",
      "16/16 [==============================] - 0s 975us/step - loss: 3.6878\n",
      "16/16 [==============================] - 0s 855us/step - loss: 3.6878\n",
      "16/16 [==============================] - 0s 948us/step - loss: 3.6878\n",
      "16/16 [==============================] - 0s 721us/step - loss: 3.6878\n",
      "16/16 [==============================] - 0s 793us/step - loss: 3.6878\n",
      "16/16 [==============================] - 0s 711us/step - loss: 3.6878\n",
      "16/16 [==============================] - 0s 802us/step - loss: 3.6878\n",
      "\n",
      "Testing for epoch 28 index 3:\n",
      "65/65 [==============================] - 0s 551us/step\n",
      "16/16 [==============================] - 0s 902us/step - loss: 0.0286\n",
      "16/16 [==============================] - 0s 827us/step - loss: 3.6946\n"
     ]
    },
    {
     "name": "stderr",
     "output_type": "stream",
     "text": [
      "2023-05-14 10:00:42.559402: I tensorflow/core/common_runtime/executor.cc:1197] [/device:CPU:0] (DEBUG INFO) Executor start aborting (this does not indicate an error and you can ignore this message): INVALID_ARGUMENT: You must feed a value for placeholder tensor 'Placeholder/_1' with dtype int64 and shape [1000]\n",
      "\t [[{{node Placeholder/_1}}]]\n"
     ]
    },
    {
     "name": "stdout",
     "output_type": "stream",
     "text": [
      "16/16 [==============================] - 0s 946us/step - loss: 3.6946\n",
      "16/16 [==============================] - 0s 934us/step - loss: 3.6946\n",
      "16/16 [==============================] - 0s 946us/step - loss: 3.6946\n",
      "16/16 [==============================] - 0s 837us/step - loss: 3.6946\n",
      "16/16 [==============================] - 0s 889us/step - loss: 3.6946\n",
      "16/16 [==============================] - 0s 722us/step - loss: 3.6946\n",
      "16/16 [==============================] - 0s 888us/step - loss: 3.6946\n",
      "16/16 [==============================] - 0s 949us/step - loss: 3.6946\n",
      "\n",
      "Testing for epoch 28 index 4:\n",
      "65/65 [==============================] - 0s 552us/step\n",
      "16/16 [==============================] - 0s 810us/step - loss: 0.0281\n",
      "16/16 [==============================] - 0s 874us/step - loss: 3.7651\n"
     ]
    },
    {
     "name": "stderr",
     "output_type": "stream",
     "text": [
      "2023-05-14 10:00:43.437000: I tensorflow/core/common_runtime/executor.cc:1197] [/device:CPU:0] (DEBUG INFO) Executor start aborting (this does not indicate an error and you can ignore this message): INVALID_ARGUMENT: You must feed a value for placeholder tensor 'Placeholder/_1' with dtype int64 and shape [1000]\n",
      "\t [[{{node Placeholder/_1}}]]\n"
     ]
    },
    {
     "name": "stdout",
     "output_type": "stream",
     "text": [
      "16/16 [==============================] - 0s 957us/step - loss: 3.7651\n",
      "16/16 [==============================] - 0s 867us/step - loss: 3.7651\n",
      "16/16 [==============================] - 0s 893us/step - loss: 3.7651\n",
      "16/16 [==============================] - 0s 994us/step - loss: 3.7651\n",
      "16/16 [==============================] - 0s 937us/step - loss: 3.7651\n",
      "16/16 [==============================] - 0s 933us/step - loss: 3.7651\n",
      "16/16 [==============================] - 0s 1ms/step - loss: 3.7651\n",
      "16/16 [==============================] - 0s 1ms/step - loss: 3.7651\n",
      "Epoch 29 of 60\n",
      "\n",
      "Testing for epoch 29 index 1:\n",
      "65/65 [==============================] - 0s 542us/step\n",
      "16/16 [==============================] - 0s 879us/step - loss: 0.0277\n",
      "16/16 [==============================] - 0s 725us/step - loss: 3.7128\n",
      " 1/16 [>.............................] - ETA: 0s - loss: 3.6247"
     ]
    },
    {
     "name": "stderr",
     "output_type": "stream",
     "text": [
      "2023-05-14 10:00:44.292570: I tensorflow/core/common_runtime/executor.cc:1197] [/device:CPU:0] (DEBUG INFO) Executor start aborting (this does not indicate an error and you can ignore this message): INVALID_ARGUMENT: You must feed a value for placeholder tensor 'Placeholder/_1' with dtype int64 and shape [1000]\n",
      "\t [[{{node Placeholder/_1}}]]\n"
     ]
    },
    {
     "name": "stdout",
     "output_type": "stream",
     "text": [
      "16/16 [==============================] - 0s 706us/step - loss: 3.7128\n",
      "16/16 [==============================] - 0s 790us/step - loss: 3.7128\n",
      "16/16 [==============================] - 0s 820us/step - loss: 3.7128\n",
      "16/16 [==============================] - 0s 798us/step - loss: 3.7128\n",
      "16/16 [==============================] - 0s 876us/step - loss: 3.7128\n",
      "16/16 [==============================] - 0s 687us/step - loss: 3.7128\n",
      "16/16 [==============================] - 0s 798us/step - loss: 3.7128\n",
      "16/16 [==============================] - 0s 805us/step - loss: 3.7128\n",
      "\n",
      "Testing for epoch 29 index 2:\n",
      "65/65 [==============================] - 0s 534us/step\n",
      "16/16 [==============================] - 0s 756us/step - loss: 0.0274\n",
      "16/16 [==============================] - 0s 717us/step - loss: 3.7436\n",
      "16/16 [==============================] - 0s 798us/step - loss: 3.7436\n"
     ]
    },
    {
     "name": "stderr",
     "output_type": "stream",
     "text": [
      "2023-05-14 10:00:45.046818: I tensorflow/core/common_runtime/executor.cc:1197] [/device:CPU:0] (DEBUG INFO) Executor start aborting (this does not indicate an error and you can ignore this message): INVALID_ARGUMENT: You must feed a value for placeholder tensor 'Placeholder/_1' with dtype int64 and shape [1000]\n",
      "\t [[{{node Placeholder/_1}}]]\n"
     ]
    },
    {
     "name": "stdout",
     "output_type": "stream",
     "text": [
      "16/16 [==============================] - 0s 741us/step - loss: 3.7436\n",
      "16/16 [==============================] - 0s 977us/step - loss: 3.7436\n",
      "16/16 [==============================] - 0s 712us/step - loss: 3.7436\n",
      "16/16 [==============================] - 0s 819us/step - loss: 3.7436\n",
      "16/16 [==============================] - 0s 778us/step - loss: 3.7436\n",
      "16/16 [==============================] - 0s 743us/step - loss: 3.7436\n",
      "16/16 [==============================] - 0s 749us/step - loss: 3.7436\n",
      "\n",
      "Testing for epoch 29 index 3:\n",
      "65/65 [==============================] - 0s 494us/step\n",
      "16/16 [==============================] - 0s 774us/step - loss: 0.0270\n",
      "16/16 [==============================] - 0s 714us/step - loss: 3.7537\n",
      "16/16 [==============================] - 0s 747us/step - loss: 3.7537\n"
     ]
    },
    {
     "name": "stderr",
     "output_type": "stream",
     "text": [
      "2023-05-14 10:00:45.801987: I tensorflow/core/common_runtime/executor.cc:1197] [/device:CPU:0] (DEBUG INFO) Executor start aborting (this does not indicate an error and you can ignore this message): INVALID_ARGUMENT: You must feed a value for placeholder tensor 'Placeholder/_1' with dtype int64 and shape [1000]\n",
      "\t [[{{node Placeholder/_1}}]]\n"
     ]
    },
    {
     "name": "stdout",
     "output_type": "stream",
     "text": [
      "16/16 [==============================] - 0s 835us/step - loss: 3.7537\n",
      "16/16 [==============================] - 0s 968us/step - loss: 3.7537\n",
      "16/16 [==============================] - 0s 731us/step - loss: 3.7537\n",
      "16/16 [==============================] - 0s 785us/step - loss: 3.7537\n",
      "16/16 [==============================] - 0s 817us/step - loss: 3.7537\n",
      "16/16 [==============================] - 0s 836us/step - loss: 3.7537\n",
      "16/16 [==============================] - 0s 770us/step - loss: 3.7537\n",
      "\n",
      "Testing for epoch 29 index 4:\n",
      "65/65 [==============================] - 0s 483us/step\n",
      "16/16 [==============================] - 0s 711us/step - loss: 0.0266\n",
      "16/16 [==============================] - 0s 831us/step - loss: 3.7579\n",
      "16/16 [==============================] - 0s 692us/step - loss: 3.7579\n"
     ]
    },
    {
     "name": "stderr",
     "output_type": "stream",
     "text": [
      "2023-05-14 10:00:46.548715: I tensorflow/core/common_runtime/executor.cc:1197] [/device:CPU:0] (DEBUG INFO) Executor start aborting (this does not indicate an error and you can ignore this message): INVALID_ARGUMENT: You must feed a value for placeholder tensor 'Placeholder/_1' with dtype int64 and shape [1000]\n",
      "\t [[{{node Placeholder/_1}}]]\n"
     ]
    },
    {
     "name": "stdout",
     "output_type": "stream",
     "text": [
      "16/16 [==============================] - 0s 827us/step - loss: 3.7579\n",
      "16/16 [==============================] - 0s 704us/step - loss: 3.7579\n",
      "16/16 [==============================] - 0s 741us/step - loss: 3.7579\n",
      "16/16 [==============================] - 0s 750us/step - loss: 3.7579\n",
      "16/16 [==============================] - 0s 811us/step - loss: 3.7579\n",
      "16/16 [==============================] - 0s 797us/step - loss: 3.7579\n",
      "16/16 [==============================] - 0s 734us/step - loss: 3.7579\n",
      "Epoch 30 of 60\n",
      "\n",
      "Testing for epoch 30 index 1:\n",
      "65/65 [==============================] - 0s 512us/step\n",
      "16/16 [==============================] - 0s 717us/step - loss: 0.0262\n",
      "16/16 [==============================] - 0s 820us/step - loss: 3.7888\n",
      "16/16 [==============================] - 0s 756us/step - loss: 3.7888\n"
     ]
    },
    {
     "name": "stderr",
     "output_type": "stream",
     "text": [
      "2023-05-14 10:00:47.293029: I tensorflow/core/common_runtime/executor.cc:1197] [/device:CPU:0] (DEBUG INFO) Executor start aborting (this does not indicate an error and you can ignore this message): INVALID_ARGUMENT: You must feed a value for placeholder tensor 'Placeholder/_1' with dtype int64 and shape [1000]\n",
      "\t [[{{node Placeholder/_1}}]]\n"
     ]
    },
    {
     "name": "stdout",
     "output_type": "stream",
     "text": [
      "16/16 [==============================] - 0s 905us/step - loss: 3.7888\n",
      "16/16 [==============================] - 0s 823us/step - loss: 3.7888\n",
      "16/16 [==============================] - 0s 736us/step - loss: 3.7888\n",
      "16/16 [==============================] - 0s 816us/step - loss: 3.7888\n",
      "16/16 [==============================] - 0s 842us/step - loss: 3.7888\n",
      "16/16 [==============================] - 0s 799us/step - loss: 3.7888\n",
      "16/16 [==============================] - 0s 729us/step - loss: 3.7888\n",
      "\n",
      "Testing for epoch 30 index 2:\n",
      "65/65 [==============================] - 0s 519us/step\n",
      "16/16 [==============================] - 0s 868us/step - loss: 0.0259\n",
      "16/16 [==============================] - 0s 905us/step - loss: 3.8155\n",
      " 1/16 [>.............................] - ETA: 0s - loss: 3.8008"
     ]
    },
    {
     "name": "stderr",
     "output_type": "stream",
     "text": [
      "2023-05-14 10:00:48.032776: I tensorflow/core/common_runtime/executor.cc:1197] [/device:CPU:0] (DEBUG INFO) Executor start aborting (this does not indicate an error and you can ignore this message): INVALID_ARGUMENT: You must feed a value for placeholder tensor 'Placeholder/_1' with dtype int64 and shape [1000]\n",
      "\t [[{{node Placeholder/_1}}]]\n"
     ]
    },
    {
     "name": "stdout",
     "output_type": "stream",
     "text": [
      "16/16 [==============================] - 0s 897us/step - loss: 3.8155\n",
      "16/16 [==============================] - 0s 882us/step - loss: 3.8155\n",
      "16/16 [==============================] - 0s 782us/step - loss: 3.8155\n",
      "16/16 [==============================] - 0s 779us/step - loss: 3.8155\n",
      "16/16 [==============================] - 0s 804us/step - loss: 3.8155\n",
      "16/16 [==============================] - 0s 808us/step - loss: 3.8155\n",
      "16/16 [==============================] - 0s 802us/step - loss: 3.8155\n",
      "16/16 [==============================] - 0s 820us/step - loss: 3.8155\n",
      "\n",
      "Testing for epoch 30 index 3:\n",
      "65/65 [==============================] - 0s 548us/step\n",
      "16/16 [==============================] - 0s 736us/step - loss: 0.0254\n",
      "16/16 [==============================] - 0s 735us/step - loss: 3.8257\n",
      "16/16 [==============================] - 0s 795us/step - loss: 3.8257\n"
     ]
    },
    {
     "name": "stderr",
     "output_type": "stream",
     "text": [
      "2023-05-14 10:00:48.779999: I tensorflow/core/common_runtime/executor.cc:1197] [/device:CPU:0] (DEBUG INFO) Executor start aborting (this does not indicate an error and you can ignore this message): INVALID_ARGUMENT: You must feed a value for placeholder tensor 'Placeholder/_1' with dtype int64 and shape [1000]\n",
      "\t [[{{node Placeholder/_1}}]]\n"
     ]
    },
    {
     "name": "stdout",
     "output_type": "stream",
     "text": [
      "16/16 [==============================] - 0s 830us/step - loss: 3.8257\n",
      "16/16 [==============================] - 0s 745us/step - loss: 3.8257\n",
      "16/16 [==============================] - 0s 730us/step - loss: 3.8257\n",
      "16/16 [==============================] - 0s 813us/step - loss: 3.8257\n",
      "16/16 [==============================] - 0s 742us/step - loss: 3.8257\n",
      "16/16 [==============================] - 0s 755us/step - loss: 3.8257\n",
      "16/16 [==============================] - 0s 791us/step - loss: 3.8257\n",
      "\n",
      "Testing for epoch 30 index 4:\n",
      "65/65 [==============================] - 0s 494us/step\n",
      "16/16 [==============================] - 0s 858us/step - loss: 0.0251\n",
      "16/16 [==============================] - 0s 733us/step - loss: 3.8202\n",
      "16/16 [==============================] - 0s 819us/step - loss: 3.8202\n"
     ]
    },
    {
     "name": "stderr",
     "output_type": "stream",
     "text": [
      "2023-05-14 10:00:49.512516: I tensorflow/core/common_runtime/executor.cc:1197] [/device:CPU:0] (DEBUG INFO) Executor start aborting (this does not indicate an error and you can ignore this message): INVALID_ARGUMENT: You must feed a value for placeholder tensor 'Placeholder/_1' with dtype int64 and shape [1000]\n",
      "\t [[{{node Placeholder/_1}}]]\n"
     ]
    },
    {
     "name": "stdout",
     "output_type": "stream",
     "text": [
      "16/16 [==============================] - 0s 955us/step - loss: 3.8202\n",
      "16/16 [==============================] - 0s 827us/step - loss: 3.8202\n",
      "16/16 [==============================] - 0s 709us/step - loss: 3.8202\n",
      "16/16 [==============================] - 0s 705us/step - loss: 3.8202\n",
      "16/16 [==============================] - 0s 770us/step - loss: 3.8202\n",
      "16/16 [==============================] - 0s 863us/step - loss: 3.8202\n",
      "16/16 [==============================] - 0s 812us/step - loss: 3.8202\n",
      "Epoch 31 of 60\n",
      "\n",
      "Testing for epoch 31 index 1:\n",
      "65/65 [==============================] - 0s 505us/step\n",
      "16/16 [==============================] - 0s 756us/step - loss: 0.0247\n",
      "16/16 [==============================] - 0s 782us/step - loss: 3.8531\n",
      "16/16 [==============================] - 0s 844us/step - loss: 3.8531\n"
     ]
    },
    {
     "name": "stderr",
     "output_type": "stream",
     "text": [
      "2023-05-14 10:00:50.272528: I tensorflow/core/common_runtime/executor.cc:1197] [/device:CPU:0] (DEBUG INFO) Executor start aborting (this does not indicate an error and you can ignore this message): INVALID_ARGUMENT: You must feed a value for placeholder tensor 'Placeholder/_1' with dtype int64 and shape [1000]\n",
      "\t [[{{node Placeholder/_1}}]]\n"
     ]
    },
    {
     "name": "stdout",
     "output_type": "stream",
     "text": [
      "16/16 [==============================] - 0s 769us/step - loss: 3.8531\n",
      "16/16 [==============================] - 0s 775us/step - loss: 3.8531\n",
      "16/16 [==============================] - 0s 732us/step - loss: 3.8531\n",
      "16/16 [==============================] - 0s 838us/step - loss: 3.8531\n",
      "16/16 [==============================] - 0s 742us/step - loss: 3.8531\n",
      "16/16 [==============================] - 0s 751us/step - loss: 3.8531\n",
      "16/16 [==============================] - 0s 823us/step - loss: 3.8531\n",
      "\n",
      "Testing for epoch 31 index 2:\n",
      "65/65 [==============================] - 0s 475us/step\n",
      "16/16 [==============================] - 0s 849us/step - loss: 0.0245\n",
      "16/16 [==============================] - 0s 751us/step - loss: 3.8445\n",
      "16/16 [==============================] - 0s 762us/step - loss: 3.8445\n"
     ]
    },
    {
     "name": "stderr",
     "output_type": "stream",
     "text": [
      "2023-05-14 10:00:51.000835: I tensorflow/core/common_runtime/executor.cc:1197] [/device:CPU:0] (DEBUG INFO) Executor start aborting (this does not indicate an error and you can ignore this message): INVALID_ARGUMENT: You must feed a value for placeholder tensor 'Placeholder/_1' with dtype int64 and shape [1000]\n",
      "\t [[{{node Placeholder/_1}}]]\n"
     ]
    },
    {
     "name": "stdout",
     "output_type": "stream",
     "text": [
      "16/16 [==============================] - 0s 831us/step - loss: 3.8445\n",
      "16/16 [==============================] - 0s 777us/step - loss: 3.8445\n",
      "16/16 [==============================] - 0s 863us/step - loss: 3.8445\n",
      "16/16 [==============================] - 0s 866us/step - loss: 3.8445\n",
      "16/16 [==============================] - 0s 806us/step - loss: 3.8445\n",
      "16/16 [==============================] - 0s 877us/step - loss: 3.8445\n",
      "16/16 [==============================] - 0s 841us/step - loss: 3.8445\n",
      "\n",
      "Testing for epoch 31 index 3:\n",
      "65/65 [==============================] - 0s 513us/step\n",
      "16/16 [==============================] - 0s 770us/step - loss: 0.0241\n",
      "16/16 [==============================] - 0s 866us/step - loss: 3.8564\n",
      "16/16 [==============================] - 0s 836us/step - loss: 3.8564\n"
     ]
    },
    {
     "name": "stderr",
     "output_type": "stream",
     "text": [
      "2023-05-14 10:00:51.745555: I tensorflow/core/common_runtime/executor.cc:1197] [/device:CPU:0] (DEBUG INFO) Executor start aborting (this does not indicate an error and you can ignore this message): INVALID_ARGUMENT: You must feed a value for placeholder tensor 'Placeholder/_1' with dtype int64 and shape [1000]\n",
      "\t [[{{node Placeholder/_1}}]]\n"
     ]
    },
    {
     "name": "stdout",
     "output_type": "stream",
     "text": [
      "16/16 [==============================] - 0s 900us/step - loss: 3.8564\n",
      "16/16 [==============================] - 0s 870us/step - loss: 3.8564\n",
      "16/16 [==============================] - 0s 900us/step - loss: 3.8564\n",
      "16/16 [==============================] - 0s 886us/step - loss: 3.8564\n",
      "16/16 [==============================] - 0s 867us/step - loss: 3.8564\n",
      "16/16 [==============================] - 0s 863us/step - loss: 3.8564\n",
      "16/16 [==============================] - 0s 862us/step - loss: 3.8564\n",
      "\n",
      "Testing for epoch 31 index 4:\n",
      "65/65 [==============================] - 0s 463us/step\n",
      "16/16 [==============================] - 0s 719us/step - loss: 0.0238\n",
      "16/16 [==============================] - 0s 701us/step - loss: 3.9013\n",
      "16/16 [==============================] - 0s 765us/step - loss: 3.9013\n"
     ]
    },
    {
     "name": "stderr",
     "output_type": "stream",
     "text": [
      "2023-05-14 10:00:52.493222: I tensorflow/core/common_runtime/executor.cc:1197] [/device:CPU:0] (DEBUG INFO) Executor start aborting (this does not indicate an error and you can ignore this message): INVALID_ARGUMENT: You must feed a value for placeholder tensor 'Placeholder/_1' with dtype int64 and shape [1000]\n",
      "\t [[{{node Placeholder/_1}}]]\n"
     ]
    },
    {
     "name": "stdout",
     "output_type": "stream",
     "text": [
      "16/16 [==============================] - 0s 688us/step - loss: 3.9013\n",
      "16/16 [==============================] - 0s 742us/step - loss: 3.9013\n",
      "16/16 [==============================] - 0s 887us/step - loss: 3.9013\n",
      "16/16 [==============================] - 0s 856us/step - loss: 3.9013\n",
      "16/16 [==============================] - 0s 895us/step - loss: 3.9013\n",
      "16/16 [==============================] - 0s 853us/step - loss: 3.9013\n",
      "16/16 [==============================] - 0s 857us/step - loss: 3.9013\n",
      "Epoch 32 of 60\n",
      "\n",
      "Testing for epoch 32 index 1:\n",
      "65/65 [==============================] - 0s 533us/step\n",
      "16/16 [==============================] - 0s 868us/step - loss: 0.0234\n",
      "16/16 [==============================] - 0s 892us/step - loss: 3.9285\n",
      " 1/16 [>.............................] - ETA: 0s - loss: 3.8128"
     ]
    },
    {
     "name": "stderr",
     "output_type": "stream",
     "text": [
      "2023-05-14 10:00:53.222964: I tensorflow/core/common_runtime/executor.cc:1197] [/device:CPU:0] (DEBUG INFO) Executor start aborting (this does not indicate an error and you can ignore this message): INVALID_ARGUMENT: You must feed a value for placeholder tensor 'Placeholder/_1' with dtype int64 and shape [1000]\n",
      "\t [[{{node Placeholder/_1}}]]\n"
     ]
    },
    {
     "name": "stdout",
     "output_type": "stream",
     "text": [
      "16/16 [==============================] - 0s 999us/step - loss: 3.9285\n",
      "16/16 [==============================] - 0s 931us/step - loss: 3.9285\n",
      "16/16 [==============================] - 0s 892us/step - loss: 3.9285\n",
      "16/16 [==============================] - 0s 905us/step - loss: 3.9285\n",
      "16/16 [==============================] - 0s 901us/step - loss: 3.9285\n",
      "16/16 [==============================] - 0s 845us/step - loss: 3.9285\n",
      "16/16 [==============================] - 0s 752us/step - loss: 3.9285\n",
      "16/16 [==============================] - 0s 865us/step - loss: 3.9285\n",
      "\n",
      "Testing for epoch 32 index 2:\n",
      "65/65 [==============================] - 0s 537us/step\n",
      "16/16 [==============================] - 0s 927us/step - loss: 0.0232\n",
      "16/16 [==============================] - 0s 856us/step - loss: 3.9373\n",
      " 1/16 [>.............................] - ETA: 0s - loss: 3.8675"
     ]
    },
    {
     "name": "stderr",
     "output_type": "stream",
     "text": [
      "2023-05-14 10:00:53.988206: I tensorflow/core/common_runtime/executor.cc:1197] [/device:CPU:0] (DEBUG INFO) Executor start aborting (this does not indicate an error and you can ignore this message): INVALID_ARGUMENT: You must feed a value for placeholder tensor 'Placeholder/_1' with dtype int64 and shape [1000]\n",
      "\t [[{{node Placeholder/_1}}]]\n"
     ]
    },
    {
     "name": "stdout",
     "output_type": "stream",
     "text": [
      "16/16 [==============================] - 0s 894us/step - loss: 3.9372\n",
      "16/16 [==============================] - 0s 907us/step - loss: 3.9372\n",
      "16/16 [==============================] - 0s 787us/step - loss: 3.9372\n",
      "16/16 [==============================] - 0s 781us/step - loss: 3.9372\n",
      "16/16 [==============================] - 0s 736us/step - loss: 3.9372\n",
      "16/16 [==============================] - 0s 794us/step - loss: 3.9372\n",
      "16/16 [==============================] - 0s 1ms/step - loss: 3.9372\n",
      "16/16 [==============================] - 0s 769us/step - loss: 3.9372\n",
      "\n",
      "Testing for epoch 32 index 3:\n",
      "65/65 [==============================] - 0s 525us/step\n",
      "16/16 [==============================] - 0s 772us/step - loss: 0.0230\n",
      "16/16 [==============================] - 0s 842us/step - loss: 3.9480\n",
      "16/16 [==============================] - 0s 774us/step - loss: 3.9480\n"
     ]
    },
    {
     "name": "stderr",
     "output_type": "stream",
     "text": [
      "2023-05-14 10:00:54.753285: I tensorflow/core/common_runtime/executor.cc:1197] [/device:CPU:0] (DEBUG INFO) Executor start aborting (this does not indicate an error and you can ignore this message): INVALID_ARGUMENT: You must feed a value for placeholder tensor 'Placeholder/_1' with dtype int64 and shape [1000]\n",
      "\t [[{{node Placeholder/_1}}]]\n"
     ]
    },
    {
     "name": "stdout",
     "output_type": "stream",
     "text": [
      "16/16 [==============================] - 0s 775us/step - loss: 3.9480\n",
      "16/16 [==============================] - 0s 782us/step - loss: 3.9480\n",
      "16/16 [==============================] - 0s 799us/step - loss: 3.9480\n",
      "16/16 [==============================] - 0s 872us/step - loss: 3.9480\n",
      "16/16 [==============================] - 0s 825us/step - loss: 3.9480\n",
      "16/16 [==============================] - 0s 723us/step - loss: 3.9480\n",
      "16/16 [==============================] - 0s 886us/step - loss: 3.9480\n",
      "\n",
      "Testing for epoch 32 index 4:\n",
      "65/65 [==============================] - 0s 641us/step\n",
      "16/16 [==============================] - 0s 990us/step - loss: 0.0227\n",
      "16/16 [==============================] - 0s 956us/step - loss: 3.9247\n"
     ]
    },
    {
     "name": "stderr",
     "output_type": "stream",
     "text": [
      "2023-05-14 10:00:55.493732: I tensorflow/core/common_runtime/executor.cc:1197] [/device:CPU:0] (DEBUG INFO) Executor start aborting (this does not indicate an error and you can ignore this message): INVALID_ARGUMENT: You must feed a value for placeholder tensor 'Placeholder/_1' with dtype int64 and shape [1000]\n",
      "\t [[{{node Placeholder/_1}}]]\n"
     ]
    },
    {
     "name": "stdout",
     "output_type": "stream",
     "text": [
      "16/16 [==============================] - 0s 1ms/step - loss: 3.9247\n",
      "16/16 [==============================] - 0s 758us/step - loss: 3.9247\n",
      "16/16 [==============================] - 0s 769us/step - loss: 3.9247\n",
      "16/16 [==============================] - 0s 881us/step - loss: 3.9247\n",
      "16/16 [==============================] - 0s 922us/step - loss: 3.9247\n",
      "16/16 [==============================] - 0s 929us/step - loss: 3.9247\n",
      "16/16 [==============================] - 0s 814us/step - loss: 3.9247\n",
      "16/16 [==============================] - 0s 780us/step - loss: 3.9247\n",
      "Epoch 33 of 60\n",
      "\n",
      "Testing for epoch 33 index 1:\n",
      "65/65 [==============================] - 0s 439us/step\n",
      "16/16 [==============================] - 0s 784us/step - loss: 0.0224\n",
      "16/16 [==============================] - 0s 707us/step - loss: 3.9284\n",
      "16/16 [==============================] - 0s 724us/step - loss: 3.9284\n"
     ]
    },
    {
     "name": "stderr",
     "output_type": "stream",
     "text": [
      "2023-05-14 10:00:56.256662: I tensorflow/core/common_runtime/executor.cc:1197] [/device:CPU:0] (DEBUG INFO) Executor start aborting (this does not indicate an error and you can ignore this message): INVALID_ARGUMENT: You must feed a value for placeholder tensor 'Placeholder/_1' with dtype int64 and shape [1000]\n",
      "\t [[{{node Placeholder/_1}}]]\n"
     ]
    },
    {
     "name": "stdout",
     "output_type": "stream",
     "text": [
      "16/16 [==============================] - 0s 724us/step - loss: 3.9284\n",
      "16/16 [==============================] - 0s 726us/step - loss: 3.9284\n",
      "16/16 [==============================] - 0s 677us/step - loss: 3.9284\n",
      "16/16 [==============================] - 0s 727us/step - loss: 3.9284\n",
      "16/16 [==============================] - 0s 711us/step - loss: 3.9284\n",
      "16/16 [==============================] - 0s 700us/step - loss: 3.9284\n",
      "16/16 [==============================] - 0s 812us/step - loss: 3.9284\n",
      "\n",
      "Testing for epoch 33 index 2:\n",
      "65/65 [==============================] - 0s 551us/step\n",
      "16/16 [==============================] - 0s 863us/step - loss: 0.0222\n",
      "16/16 [==============================] - 0s 740us/step - loss: 3.9795\n",
      "16/16 [==============================] - 0s 713us/step - loss: 3.9795\n"
     ]
    },
    {
     "name": "stderr",
     "output_type": "stream",
     "text": [
      "2023-05-14 10:00:56.957817: I tensorflow/core/common_runtime/executor.cc:1197] [/device:CPU:0] (DEBUG INFO) Executor start aborting (this does not indicate an error and you can ignore this message): INVALID_ARGUMENT: You must feed a value for placeholder tensor 'Placeholder/_1' with dtype int64 and shape [1000]\n",
      "\t [[{{node Placeholder/_1}}]]\n"
     ]
    },
    {
     "name": "stdout",
     "output_type": "stream",
     "text": [
      "16/16 [==============================] - 0s 920us/step - loss: 3.9795\n",
      "16/16 [==============================] - 0s 750us/step - loss: 3.9795\n",
      "16/16 [==============================] - 0s 705us/step - loss: 3.9795\n",
      "16/16 [==============================] - 0s 738us/step - loss: 3.9795\n",
      "16/16 [==============================] - 0s 706us/step - loss: 3.9795\n",
      "16/16 [==============================] - 0s 704us/step - loss: 3.9795\n",
      "16/16 [==============================] - 0s 678us/step - loss: 3.9795\n",
      "\n",
      "Testing for epoch 33 index 3:\n",
      "65/65 [==============================] - 0s 463us/step\n",
      "16/16 [==============================] - 0s 686us/step - loss: 0.0220\n",
      "16/16 [==============================] - 0s 797us/step - loss: 3.9319\n",
      "16/16 [==============================] - 0s 697us/step - loss: 3.9319\n"
     ]
    },
    {
     "name": "stderr",
     "output_type": "stream",
     "text": [
      "2023-05-14 10:00:57.673838: I tensorflow/core/common_runtime/executor.cc:1197] [/device:CPU:0] (DEBUG INFO) Executor start aborting (this does not indicate an error and you can ignore this message): INVALID_ARGUMENT: You must feed a value for placeholder tensor 'Placeholder/_1' with dtype int64 and shape [1000]\n",
      "\t [[{{node Placeholder/_1}}]]\n"
     ]
    },
    {
     "name": "stdout",
     "output_type": "stream",
     "text": [
      "16/16 [==============================] - 0s 715us/step - loss: 3.9319\n",
      "16/16 [==============================] - 0s 782us/step - loss: 3.9319\n",
      "16/16 [==============================] - 0s 707us/step - loss: 3.9319\n",
      "16/16 [==============================] - 0s 790us/step - loss: 3.9319\n",
      "16/16 [==============================] - 0s 783us/step - loss: 3.9319\n",
      "16/16 [==============================] - 0s 724us/step - loss: 3.9319\n",
      "16/16 [==============================] - 0s 718us/step - loss: 3.9319\n",
      "\n",
      "Testing for epoch 33 index 4:\n",
      "65/65 [==============================] - 0s 457us/step\n",
      "16/16 [==============================] - 0s 740us/step - loss: 0.0217\n",
      "16/16 [==============================] - 0s 705us/step - loss: 3.9650\n",
      "16/16 [==============================] - 0s 669us/step - loss: 3.9650\n"
     ]
    },
    {
     "name": "stderr",
     "output_type": "stream",
     "text": [
      "2023-05-14 10:00:58.367360: I tensorflow/core/common_runtime/executor.cc:1197] [/device:CPU:0] (DEBUG INFO) Executor start aborting (this does not indicate an error and you can ignore this message): INVALID_ARGUMENT: You must feed a value for placeholder tensor 'Placeholder/_1' with dtype int64 and shape [1000]\n",
      "\t [[{{node Placeholder/_1}}]]\n"
     ]
    },
    {
     "name": "stdout",
     "output_type": "stream",
     "text": [
      "16/16 [==============================] - 0s 683us/step - loss: 3.9650\n",
      "16/16 [==============================] - 0s 797us/step - loss: 3.9650\n",
      "16/16 [==============================] - 0s 732us/step - loss: 3.9650\n",
      "16/16 [==============================] - 0s 750us/step - loss: 3.9650\n",
      "16/16 [==============================] - 0s 703us/step - loss: 3.9650\n",
      "16/16 [==============================] - 0s 708us/step - loss: 3.9650\n",
      "16/16 [==============================] - 0s 832us/step - loss: 3.9650\n",
      "Epoch 34 of 60\n",
      "\n",
      "Testing for epoch 34 index 1:\n",
      "65/65 [==============================] - 0s 445us/step\n",
      "16/16 [==============================] - 0s 700us/step - loss: 0.0214\n",
      "16/16 [==============================] - 0s 695us/step - loss: 3.9856\n",
      "16/16 [==============================] - 0s 767us/step - loss: 3.9856\n"
     ]
    },
    {
     "name": "stderr",
     "output_type": "stream",
     "text": [
      "2023-05-14 10:00:59.058673: I tensorflow/core/common_runtime/executor.cc:1197] [/device:CPU:0] (DEBUG INFO) Executor start aborting (this does not indicate an error and you can ignore this message): INVALID_ARGUMENT: You must feed a value for placeholder tensor 'Placeholder/_1' with dtype int64 and shape [1000]\n",
      "\t [[{{node Placeholder/_1}}]]\n"
     ]
    },
    {
     "name": "stdout",
     "output_type": "stream",
     "text": [
      "16/16 [==============================] - 0s 811us/step - loss: 3.9856\n",
      "16/16 [==============================] - 0s 722us/step - loss: 3.9856\n",
      "16/16 [==============================] - 0s 694us/step - loss: 3.9856\n",
      "16/16 [==============================] - 0s 715us/step - loss: 3.9856\n",
      "16/16 [==============================] - 0s 714us/step - loss: 3.9856\n",
      "16/16 [==============================] - 0s 727us/step - loss: 3.9856\n",
      "16/16 [==============================] - 0s 711us/step - loss: 3.9856\n",
      "\n",
      "Testing for epoch 34 index 2:\n",
      "65/65 [==============================] - 0s 448us/step\n",
      "16/16 [==============================] - 0s 683us/step - loss: 0.0211\n",
      "16/16 [==============================] - 0s 717us/step - loss: 4.0021\n",
      "16/16 [==============================] - 0s 687us/step - loss: 4.0021\n"
     ]
    },
    {
     "name": "stderr",
     "output_type": "stream",
     "text": [
      "2023-05-14 10:00:59.751581: I tensorflow/core/common_runtime/executor.cc:1197] [/device:CPU:0] (DEBUG INFO) Executor start aborting (this does not indicate an error and you can ignore this message): INVALID_ARGUMENT: You must feed a value for placeholder tensor 'Placeholder/_1' with dtype int64 and shape [1000]\n",
      "\t [[{{node Placeholder/_1}}]]\n"
     ]
    },
    {
     "name": "stdout",
     "output_type": "stream",
     "text": [
      "16/16 [==============================] - 0s 719us/step - loss: 4.0021\n",
      "16/16 [==============================] - 0s 711us/step - loss: 4.0021\n",
      "16/16 [==============================] - 0s 667us/step - loss: 4.0021\n",
      "16/16 [==============================] - 0s 677us/step - loss: 4.0021\n",
      "16/16 [==============================] - 0s 671us/step - loss: 4.0021\n",
      "16/16 [==============================] - 0s 697us/step - loss: 4.0021\n",
      "16/16 [==============================] - 0s 773us/step - loss: 4.0021\n",
      "\n",
      "Testing for epoch 34 index 3:\n",
      "65/65 [==============================] - 0s 505us/step\n",
      "16/16 [==============================] - 0s 709us/step - loss: 0.0209\n",
      "16/16 [==============================] - 0s 693us/step - loss: 4.0047\n",
      "16/16 [==============================] - 0s 789us/step - loss: 4.0047\n"
     ]
    },
    {
     "name": "stderr",
     "output_type": "stream",
     "text": [
      "2023-05-14 10:01:00.438963: I tensorflow/core/common_runtime/executor.cc:1197] [/device:CPU:0] (DEBUG INFO) Executor start aborting (this does not indicate an error and you can ignore this message): INVALID_ARGUMENT: You must feed a value for placeholder tensor 'Placeholder/_1' with dtype int64 and shape [1000]\n",
      "\t [[{{node Placeholder/_1}}]]\n"
     ]
    },
    {
     "name": "stdout",
     "output_type": "stream",
     "text": [
      "16/16 [==============================] - 0s 949us/step - loss: 4.0047\n",
      "16/16 [==============================] - 0s 890us/step - loss: 4.0047\n",
      "16/16 [==============================] - 0s 851us/step - loss: 4.0047\n",
      "16/16 [==============================] - 0s 1ms/step - loss: 4.0047\n",
      "16/16 [==============================] - 0s 876us/step - loss: 4.0047\n",
      "16/16 [==============================] - 0s 777us/step - loss: 4.0047\n",
      "16/16 [==============================] - 0s 729us/step - loss: 4.0047\n",
      "\n",
      "Testing for epoch 34 index 4:\n",
      "65/65 [==============================] - 0s 448us/step\n",
      "16/16 [==============================] - 0s 710us/step - loss: 0.0207\n",
      "16/16 [==============================] - 0s 708us/step - loss: 4.0561\n",
      "16/16 [==============================] - 0s 718us/step - loss: 4.0561\n"
     ]
    },
    {
     "name": "stderr",
     "output_type": "stream",
     "text": [
      "2023-05-14 10:01:01.183511: I tensorflow/core/common_runtime/executor.cc:1197] [/device:CPU:0] (DEBUG INFO) Executor start aborting (this does not indicate an error and you can ignore this message): INVALID_ARGUMENT: You must feed a value for placeholder tensor 'Placeholder/_1' with dtype int64 and shape [1000]\n",
      "\t [[{{node Placeholder/_1}}]]\n"
     ]
    },
    {
     "name": "stdout",
     "output_type": "stream",
     "text": [
      "16/16 [==============================] - 0s 717us/step - loss: 4.0561\n",
      "16/16 [==============================] - 0s 773us/step - loss: 4.0561\n",
      "16/16 [==============================] - 0s 679us/step - loss: 4.0561\n",
      "16/16 [==============================] - 0s 748us/step - loss: 4.0561\n",
      "16/16 [==============================] - 0s 719us/step - loss: 4.0561\n",
      "16/16 [==============================] - 0s 743us/step - loss: 4.0561\n",
      "16/16 [==============================] - 0s 708us/step - loss: 4.0561\n",
      "Epoch 35 of 60\n",
      "\n",
      "Testing for epoch 35 index 1:\n",
      "65/65 [==============================] - 0s 467us/step\n",
      "16/16 [==============================] - 0s 672us/step - loss: 0.0205\n",
      "16/16 [==============================] - 0s 672us/step - loss: 4.0466\n",
      "16/16 [==============================] - 0s 689us/step - loss: 4.0466\n"
     ]
    },
    {
     "name": "stderr",
     "output_type": "stream",
     "text": [
      "2023-05-14 10:01:01.874819: I tensorflow/core/common_runtime/executor.cc:1197] [/device:CPU:0] (DEBUG INFO) Executor start aborting (this does not indicate an error and you can ignore this message): INVALID_ARGUMENT: You must feed a value for placeholder tensor 'Placeholder/_1' with dtype int64 and shape [1000]\n",
      "\t [[{{node Placeholder/_1}}]]\n"
     ]
    },
    {
     "name": "stdout",
     "output_type": "stream",
     "text": [
      "16/16 [==============================] - 0s 821us/step - loss: 4.0466\n",
      "16/16 [==============================] - 0s 673us/step - loss: 4.0466\n",
      "16/16 [==============================] - 0s 733us/step - loss: 4.0466\n",
      "16/16 [==============================] - 0s 693us/step - loss: 4.0466\n",
      "16/16 [==============================] - 0s 662us/step - loss: 4.0466\n",
      "16/16 [==============================] - 0s 698us/step - loss: 4.0466\n",
      "16/16 [==============================] - 0s 680us/step - loss: 4.0466\n",
      "\n",
      "Testing for epoch 35 index 2:\n",
      "65/65 [==============================] - 0s 443us/step\n",
      "16/16 [==============================] - 0s 710us/step - loss: 0.0203\n",
      "16/16 [==============================] - 0s 691us/step - loss: 4.0135\n",
      "16/16 [==============================] - 0s 755us/step - loss: 4.0135\n"
     ]
    },
    {
     "name": "stderr",
     "output_type": "stream",
     "text": [
      "2023-05-14 10:01:02.568866: I tensorflow/core/common_runtime/executor.cc:1197] [/device:CPU:0] (DEBUG INFO) Executor start aborting (this does not indicate an error and you can ignore this message): INVALID_ARGUMENT: You must feed a value for placeholder tensor 'Placeholder/_1' with dtype int64 and shape [1000]\n",
      "\t [[{{node Placeholder/_1}}]]\n"
     ]
    },
    {
     "name": "stdout",
     "output_type": "stream",
     "text": [
      "16/16 [==============================] - 0s 704us/step - loss: 4.0135\n",
      "16/16 [==============================] - 0s 697us/step - loss: 4.0135\n",
      "16/16 [==============================] - 0s 705us/step - loss: 4.0135\n",
      "16/16 [==============================] - 0s 699us/step - loss: 4.0135\n",
      "16/16 [==============================] - 0s 682us/step - loss: 4.0135\n",
      "16/16 [==============================] - 0s 674us/step - loss: 4.0135\n",
      "16/16 [==============================] - 0s 726us/step - loss: 4.0135\n",
      "\n",
      "Testing for epoch 35 index 3:\n",
      "65/65 [==============================] - 0s 446us/step\n",
      "16/16 [==============================] - 0s 688us/step - loss: 0.0201\n",
      "16/16 [==============================] - 0s 780us/step - loss: 4.0633\n",
      "16/16 [==============================] - 0s 815us/step - loss: 4.0633\n"
     ]
    },
    {
     "name": "stderr",
     "output_type": "stream",
     "text": [
      "2023-05-14 10:01:03.256559: I tensorflow/core/common_runtime/executor.cc:1197] [/device:CPU:0] (DEBUG INFO) Executor start aborting (this does not indicate an error and you can ignore this message): INVALID_ARGUMENT: You must feed a value for placeholder tensor 'Placeholder/_1' with dtype int64 and shape [1000]\n",
      "\t [[{{node Placeholder/_1}}]]\n"
     ]
    },
    {
     "name": "stdout",
     "output_type": "stream",
     "text": [
      "16/16 [==============================] - 0s 728us/step - loss: 4.0633\n",
      "16/16 [==============================] - 0s 706us/step - loss: 4.0633\n",
      "16/16 [==============================] - 0s 705us/step - loss: 4.0633\n",
      "16/16 [==============================] - 0s 750us/step - loss: 4.0633\n",
      "16/16 [==============================] - 0s 734us/step - loss: 4.0633\n",
      "16/16 [==============================] - 0s 700us/step - loss: 4.0633\n",
      "16/16 [==============================] - 0s 777us/step - loss: 4.0633\n",
      "\n",
      "Testing for epoch 35 index 4:\n",
      "65/65 [==============================] - 0s 462us/step\n",
      "16/16 [==============================] - 0s 696us/step - loss: 0.0199\n",
      "16/16 [==============================] - 0s 700us/step - loss: 4.0822\n",
      "16/16 [==============================] - 0s 685us/step - loss: 4.0822\n"
     ]
    },
    {
     "name": "stderr",
     "output_type": "stream",
     "text": [
      "2023-05-14 10:01:03.952107: I tensorflow/core/common_runtime/executor.cc:1197] [/device:CPU:0] (DEBUG INFO) Executor start aborting (this does not indicate an error and you can ignore this message): INVALID_ARGUMENT: You must feed a value for placeholder tensor 'Placeholder/_1' with dtype int64 and shape [1000]\n",
      "\t [[{{node Placeholder/_1}}]]\n"
     ]
    },
    {
     "name": "stdout",
     "output_type": "stream",
     "text": [
      "16/16 [==============================] - 0s 789us/step - loss: 4.0822\n",
      "16/16 [==============================] - 0s 707us/step - loss: 4.0822\n",
      "16/16 [==============================] - 0s 727us/step - loss: 4.0822\n",
      "16/16 [==============================] - 0s 670us/step - loss: 4.0822\n",
      "16/16 [==============================] - 0s 701us/step - loss: 4.0822\n",
      "16/16 [==============================] - 0s 713us/step - loss: 4.0822\n",
      "16/16 [==============================] - 0s 677us/step - loss: 4.0822\n",
      "Epoch 36 of 60\n",
      "\n",
      "Testing for epoch 36 index 1:\n",
      "65/65 [==============================] - 0s 458us/step\n",
      "16/16 [==============================] - 0s 698us/step - loss: 0.0196\n",
      "16/16 [==============================] - 0s 720us/step - loss: 4.0500\n",
      "16/16 [==============================] - 0s 915us/step - loss: 4.0500\n"
     ]
    },
    {
     "name": "stderr",
     "output_type": "stream",
     "text": [
      "2023-05-14 10:01:04.644191: I tensorflow/core/common_runtime/executor.cc:1197] [/device:CPU:0] (DEBUG INFO) Executor start aborting (this does not indicate an error and you can ignore this message): INVALID_ARGUMENT: You must feed a value for placeholder tensor 'Placeholder/_1' with dtype int64 and shape [1000]\n",
      "\t [[{{node Placeholder/_1}}]]\n"
     ]
    },
    {
     "name": "stdout",
     "output_type": "stream",
     "text": [
      "16/16 [==============================] - 0s 691us/step - loss: 4.0500\n",
      "16/16 [==============================] - 0s 730us/step - loss: 4.0500\n",
      "16/16 [==============================] - 0s 730us/step - loss: 4.0500\n",
      "16/16 [==============================] - 0s 747us/step - loss: 4.0500\n",
      "16/16 [==============================] - 0s 708us/step - loss: 4.0500\n",
      "16/16 [==============================] - 0s 740us/step - loss: 4.0500\n",
      "16/16 [==============================] - 0s 708us/step - loss: 4.0500\n",
      "\n",
      "Testing for epoch 36 index 2:\n",
      "65/65 [==============================] - 0s 412us/step\n",
      "16/16 [==============================] - 0s 687us/step - loss: 0.0193\n",
      "16/16 [==============================] - 0s 704us/step - loss: 4.0501\n",
      "16/16 [==============================] - 0s 719us/step - loss: 4.0501\n",
      " 1/16 [>.............................] - ETA: 0s - loss: 4.0775"
     ]
    },
    {
     "name": "stderr",
     "output_type": "stream",
     "text": [
      "2023-05-14 10:01:05.334389: I tensorflow/core/common_runtime/executor.cc:1197] [/device:CPU:0] (DEBUG INFO) Executor start aborting (this does not indicate an error and you can ignore this message): INVALID_ARGUMENT: You must feed a value for placeholder tensor 'Placeholder/_1' with dtype int64 and shape [1000]\n",
      "\t [[{{node Placeholder/_1}}]]\n"
     ]
    },
    {
     "name": "stdout",
     "output_type": "stream",
     "text": [
      "16/16 [==============================] - 0s 687us/step - loss: 4.0501\n",
      "16/16 [==============================] - 0s 845us/step - loss: 4.0501\n",
      "16/16 [==============================] - 0s 845us/step - loss: 4.0501\n",
      "16/16 [==============================] - 0s 905us/step - loss: 4.0501\n",
      "16/16 [==============================] - 0s 707us/step - loss: 4.0501\n",
      "16/16 [==============================] - 0s 722us/step - loss: 4.0501\n",
      "16/16 [==============================] - 0s 710us/step - loss: 4.0501\n",
      "\n",
      "Testing for epoch 36 index 3:\n",
      "65/65 [==============================] - 0s 537us/step\n",
      "16/16 [==============================] - 0s 894us/step - loss: 0.0192\n",
      "16/16 [==============================] - 0s 860us/step - loss: 4.1247\n",
      " 1/16 [>.............................] - ETA: 0s - loss: 4.0490"
     ]
    },
    {
     "name": "stderr",
     "output_type": "stream",
     "text": [
      "2023-05-14 10:01:06.034452: I tensorflow/core/common_runtime/executor.cc:1197] [/device:CPU:0] (DEBUG INFO) Executor start aborting (this does not indicate an error and you can ignore this message): INVALID_ARGUMENT: You must feed a value for placeholder tensor 'Placeholder/_1' with dtype int64 and shape [1000]\n",
      "\t [[{{node Placeholder/_1}}]]\n"
     ]
    },
    {
     "name": "stdout",
     "output_type": "stream",
     "text": [
      "16/16 [==============================] - 0s 799us/step - loss: 4.1247\n",
      "16/16 [==============================] - 0s 778us/step - loss: 4.1247\n",
      "16/16 [==============================] - 0s 708us/step - loss: 4.1247\n",
      "16/16 [==============================] - 0s 672us/step - loss: 4.1247\n",
      "16/16 [==============================] - 0s 701us/step - loss: 4.1247\n",
      "16/16 [==============================] - 0s 717us/step - loss: 4.1247\n",
      "16/16 [==============================] - 0s 749us/step - loss: 4.1247\n",
      "16/16 [==============================] - 0s 728us/step - loss: 4.1247\n",
      "\n",
      "Testing for epoch 36 index 4:\n",
      "65/65 [==============================] - 0s 439us/step\n",
      "16/16 [==============================] - 0s 723us/step - loss: 0.0191\n",
      "16/16 [==============================] - 0s 718us/step - loss: 4.1169\n",
      "16/16 [==============================] - 0s 703us/step - loss: 4.1169\n"
     ]
    },
    {
     "name": "stderr",
     "output_type": "stream",
     "text": [
      "2023-05-14 10:01:06.743847: I tensorflow/core/common_runtime/executor.cc:1197] [/device:CPU:0] (DEBUG INFO) Executor start aborting (this does not indicate an error and you can ignore this message): INVALID_ARGUMENT: You must feed a value for placeholder tensor 'Placeholder/_1' with dtype int64 and shape [1000]\n",
      "\t [[{{node Placeholder/_1}}]]\n"
     ]
    },
    {
     "name": "stdout",
     "output_type": "stream",
     "text": [
      "16/16 [==============================] - 0s 819us/step - loss: 4.1169\n",
      "16/16 [==============================] - 0s 706us/step - loss: 4.1169\n",
      "16/16 [==============================] - 0s 735us/step - loss: 4.1169\n",
      "16/16 [==============================] - 0s 709us/step - loss: 4.1169\n",
      "16/16 [==============================] - 0s 695us/step - loss: 4.1169\n",
      "16/16 [==============================] - 0s 701us/step - loss: 4.1169\n",
      "16/16 [==============================] - 0s 744us/step - loss: 4.1169\n",
      "Epoch 37 of 60\n",
      "\n",
      "Testing for epoch 37 index 1:\n",
      "65/65 [==============================] - 0s 456us/step\n",
      "16/16 [==============================] - 0s 682us/step - loss: 0.0189\n",
      "16/16 [==============================] - 0s 724us/step - loss: 4.0367\n",
      "16/16 [==============================] - 0s 742us/step - loss: 4.0367\n"
     ]
    },
    {
     "name": "stderr",
     "output_type": "stream",
     "text": [
      "2023-05-14 10:01:07.424826: I tensorflow/core/common_runtime/executor.cc:1197] [/device:CPU:0] (DEBUG INFO) Executor start aborting (this does not indicate an error and you can ignore this message): INVALID_ARGUMENT: You must feed a value for placeholder tensor 'Placeholder/_1' with dtype int64 and shape [1000]\n",
      "\t [[{{node Placeholder/_1}}]]\n"
     ]
    },
    {
     "name": "stdout",
     "output_type": "stream",
     "text": [
      "16/16 [==============================] - 0s 684us/step - loss: 4.0367\n",
      "16/16 [==============================] - 0s 710us/step - loss: 4.0367\n",
      "16/16 [==============================] - 0s 688us/step - loss: 4.0367\n",
      "16/16 [==============================] - 0s 696us/step - loss: 4.0367\n",
      "16/16 [==============================] - 0s 703us/step - loss: 4.0367\n",
      "16/16 [==============================] - 0s 710us/step - loss: 4.0367\n",
      "16/16 [==============================] - 0s 708us/step - loss: 4.0367\n",
      "\n",
      "Testing for epoch 37 index 2:\n",
      "65/65 [==============================] - 0s 438us/step\n",
      "16/16 [==============================] - 0s 705us/step - loss: 0.0186\n",
      "16/16 [==============================] - 0s 712us/step - loss: 4.1435\n",
      "16/16 [==============================] - 0s 683us/step - loss: 4.1434\n"
     ]
    },
    {
     "name": "stderr",
     "output_type": "stream",
     "text": [
      "2023-05-14 10:01:08.104184: I tensorflow/core/common_runtime/executor.cc:1197] [/device:CPU:0] (DEBUG INFO) Executor start aborting (this does not indicate an error and you can ignore this message): INVALID_ARGUMENT: You must feed a value for placeholder tensor 'Placeholder/_1' with dtype int64 and shape [1000]\n",
      "\t [[{{node Placeholder/_1}}]]\n"
     ]
    },
    {
     "name": "stdout",
     "output_type": "stream",
     "text": [
      "16/16 [==============================] - 0s 706us/step - loss: 4.1434\n",
      "16/16 [==============================] - 0s 689us/step - loss: 4.1434\n",
      "16/16 [==============================] - 0s 709us/step - loss: 4.1434\n",
      "16/16 [==============================] - 0s 726us/step - loss: 4.1434\n",
      "16/16 [==============================] - 0s 716us/step - loss: 4.1434\n",
      "16/16 [==============================] - 0s 729us/step - loss: 4.1434\n",
      "16/16 [==============================] - 0s 718us/step - loss: 4.1434\n",
      "\n",
      "Testing for epoch 37 index 3:\n",
      "65/65 [==============================] - 0s 450us/step\n",
      "16/16 [==============================] - 0s 673us/step - loss: 0.0186\n",
      "16/16 [==============================] - 0s 676us/step - loss: 4.1058\n",
      "16/16 [==============================] - 0s 852us/step - loss: 4.1058\n"
     ]
    },
    {
     "name": "stderr",
     "output_type": "stream",
     "text": [
      "2023-05-14 10:01:08.788089: I tensorflow/core/common_runtime/executor.cc:1197] [/device:CPU:0] (DEBUG INFO) Executor start aborting (this does not indicate an error and you can ignore this message): INVALID_ARGUMENT: You must feed a value for placeholder tensor 'Placeholder/_1' with dtype int64 and shape [1000]\n",
      "\t [[{{node Placeholder/_1}}]]\n"
     ]
    },
    {
     "name": "stdout",
     "output_type": "stream",
     "text": [
      "16/16 [==============================] - 0s 769us/step - loss: 4.1058\n",
      "16/16 [==============================] - 0s 700us/step - loss: 4.1058\n",
      "16/16 [==============================] - 0s 731us/step - loss: 4.1058\n",
      "16/16 [==============================] - 0s 750us/step - loss: 4.1058\n",
      "16/16 [==============================] - 0s 718us/step - loss: 4.1058\n",
      "16/16 [==============================] - 0s 721us/step - loss: 4.1058\n",
      "16/16 [==============================] - 0s 746us/step - loss: 4.1058\n",
      "\n",
      "Testing for epoch 37 index 4:\n",
      "65/65 [==============================] - 0s 540us/step\n",
      "16/16 [==============================] - 0s 780us/step - loss: 0.0184\n",
      "16/16 [==============================] - 0s 921us/step - loss: 4.1580\n",
      "16/16 [==============================] - 0s 779us/step - loss: 4.1580\n"
     ]
    },
    {
     "name": "stderr",
     "output_type": "stream",
     "text": [
      "2023-05-14 10:01:09.496432: I tensorflow/core/common_runtime/executor.cc:1197] [/device:CPU:0] (DEBUG INFO) Executor start aborting (this does not indicate an error and you can ignore this message): INVALID_ARGUMENT: You must feed a value for placeholder tensor 'Placeholder/_1' with dtype int64 and shape [1000]\n",
      "\t [[{{node Placeholder/_1}}]]\n"
     ]
    },
    {
     "name": "stdout",
     "output_type": "stream",
     "text": [
      "16/16 [==============================] - 0s 809us/step - loss: 4.1580\n",
      "16/16 [==============================] - 0s 770us/step - loss: 4.1580\n",
      "16/16 [==============================] - 0s 662us/step - loss: 4.1580\n",
      "16/16 [==============================] - 0s 703us/step - loss: 4.1580\n",
      "16/16 [==============================] - 0s 722us/step - loss: 4.1580\n",
      "16/16 [==============================] - 0s 715us/step - loss: 4.1580\n",
      "16/16 [==============================] - 0s 806us/step - loss: 4.1580\n",
      "Epoch 38 of 60\n",
      "\n",
      "Testing for epoch 38 index 1:\n",
      "65/65 [==============================] - 0s 454us/step\n",
      "16/16 [==============================] - 0s 674us/step - loss: 0.0180\n",
      "16/16 [==============================] - 0s 695us/step - loss: 4.1612\n",
      "16/16 [==============================] - 0s 685us/step - loss: 4.1612\n"
     ]
    },
    {
     "name": "stderr",
     "output_type": "stream",
     "text": [
      "2023-05-14 10:01:10.217300: I tensorflow/core/common_runtime/executor.cc:1197] [/device:CPU:0] (DEBUG INFO) Executor start aborting (this does not indicate an error and you can ignore this message): INVALID_ARGUMENT: You must feed a value for placeholder tensor 'Placeholder/_1' with dtype int64 and shape [1000]\n",
      "\t [[{{node Placeholder/_1}}]]\n"
     ]
    },
    {
     "name": "stdout",
     "output_type": "stream",
     "text": [
      "16/16 [==============================] - 0s 778us/step - loss: 4.1612\n",
      "16/16 [==============================] - 0s 691us/step - loss: 4.1612\n",
      "16/16 [==============================] - 0s 710us/step - loss: 4.1612\n",
      "16/16 [==============================] - 0s 719us/step - loss: 4.1612\n",
      "16/16 [==============================] - 0s 714us/step - loss: 4.1612\n",
      "16/16 [==============================] - 0s 707us/step - loss: 4.1612\n",
      "16/16 [==============================] - 0s 726us/step - loss: 4.1612\n",
      "\n",
      "Testing for epoch 38 index 2:\n",
      "65/65 [==============================] - 0s 468us/step\n",
      "16/16 [==============================] - 0s 705us/step - loss: 0.0179\n",
      "16/16 [==============================] - 0s 719us/step - loss: 4.1709\n",
      "16/16 [==============================] - 0s 685us/step - loss: 4.1709\n"
     ]
    },
    {
     "name": "stderr",
     "output_type": "stream",
     "text": [
      "2023-05-14 10:01:10.926936: I tensorflow/core/common_runtime/executor.cc:1197] [/device:CPU:0] (DEBUG INFO) Executor start aborting (this does not indicate an error and you can ignore this message): INVALID_ARGUMENT: You must feed a value for placeholder tensor 'Placeholder/_1' with dtype int64 and shape [1000]\n",
      "\t [[{{node Placeholder/_1}}]]\n"
     ]
    },
    {
     "name": "stdout",
     "output_type": "stream",
     "text": [
      "16/16 [==============================] - 0s 686us/step - loss: 4.1709\n",
      "16/16 [==============================] - 0s 700us/step - loss: 4.1709\n",
      "16/16 [==============================] - 0s 701us/step - loss: 4.1709\n",
      "16/16 [==============================] - 0s 671us/step - loss: 4.1709\n",
      "16/16 [==============================] - 0s 932us/step - loss: 4.1709\n",
      "16/16 [==============================] - 0s 990us/step - loss: 4.1709\n",
      "16/16 [==============================] - 0s 1ms/step - loss: 4.1709\n",
      "\n",
      "Testing for epoch 38 index 3:\n",
      "65/65 [==============================] - 0s 451us/step\n",
      "16/16 [==============================] - 0s 717us/step - loss: 0.0178\n",
      "16/16 [==============================] - 0s 693us/step - loss: 4.1446\n",
      "16/16 [==============================] - 0s 751us/step - loss: 4.1446\n"
     ]
    },
    {
     "name": "stderr",
     "output_type": "stream",
     "text": [
      "2023-05-14 10:01:11.639501: I tensorflow/core/common_runtime/executor.cc:1197] [/device:CPU:0] (DEBUG INFO) Executor start aborting (this does not indicate an error and you can ignore this message): INVALID_ARGUMENT: You must feed a value for placeholder tensor 'Placeholder/_1' with dtype int64 and shape [1000]\n",
      "\t [[{{node Placeholder/_1}}]]\n"
     ]
    },
    {
     "name": "stdout",
     "output_type": "stream",
     "text": [
      "16/16 [==============================] - 0s 833us/step - loss: 4.1446\n",
      "16/16 [==============================] - 0s 700us/step - loss: 4.1446\n",
      "16/16 [==============================] - 0s 718us/step - loss: 4.1446\n",
      "16/16 [==============================] - 0s 674us/step - loss: 4.1446\n",
      "16/16 [==============================] - 0s 719us/step - loss: 4.1446\n",
      "16/16 [==============================] - 0s 704us/step - loss: 4.1446\n",
      "16/16 [==============================] - 0s 711us/step - loss: 4.1446\n",
      "\n",
      "Testing for epoch 38 index 4:\n",
      "65/65 [==============================] - 0s 522us/step\n",
      "16/16 [==============================] - 0s 717us/step - loss: 0.0176\n",
      "16/16 [==============================] - 0s 840us/step - loss: 4.1780\n",
      " 1/16 [>.............................] - ETA: 0s - loss: 4.2436"
     ]
    },
    {
     "name": "stderr",
     "output_type": "stream",
     "text": [
      "2023-05-14 10:01:12.327545: I tensorflow/core/common_runtime/executor.cc:1197] [/device:CPU:0] (DEBUG INFO) Executor start aborting (this does not indicate an error and you can ignore this message): INVALID_ARGUMENT: You must feed a value for placeholder tensor 'Placeholder/_1' with dtype int64 and shape [1000]\n",
      "\t [[{{node Placeholder/_1}}]]\n"
     ]
    },
    {
     "name": "stdout",
     "output_type": "stream",
     "text": [
      "16/16 [==============================] - 0s 1ms/step - loss: 4.1780\n",
      "16/16 [==============================] - 0s 944us/step - loss: 4.1780\n",
      "16/16 [==============================] - 0s 800us/step - loss: 4.1780\n",
      "16/16 [==============================] - 0s 849us/step - loss: 4.1780\n",
      "16/16 [==============================] - 0s 796us/step - loss: 4.1780\n",
      "16/16 [==============================] - 0s 824us/step - loss: 4.1780\n",
      "16/16 [==============================] - 0s 838us/step - loss: 4.1780\n",
      "16/16 [==============================] - 0s 825us/step - loss: 4.1780\n",
      "Epoch 39 of 60\n",
      "\n",
      "Testing for epoch 39 index 1:\n",
      "65/65 [==============================] - 0s 571us/step\n",
      "16/16 [==============================] - 0s 868us/step - loss: 0.0175\n",
      "16/16 [==============================] - 0s 953us/step - loss: 4.1739\n",
      " 1/16 [>.............................] - ETA: 0s - loss: 4.2019"
     ]
    },
    {
     "name": "stderr",
     "output_type": "stream",
     "text": [
      "2023-05-14 10:01:13.112078: I tensorflow/core/common_runtime/executor.cc:1197] [/device:CPU:0] (DEBUG INFO) Executor start aborting (this does not indicate an error and you can ignore this message): INVALID_ARGUMENT: You must feed a value for placeholder tensor 'Placeholder/_1' with dtype int64 and shape [1000]\n",
      "\t [[{{node Placeholder/_1}}]]\n"
     ]
    },
    {
     "name": "stdout",
     "output_type": "stream",
     "text": [
      "16/16 [==============================] - 0s 832us/step - loss: 4.1739\n",
      "16/16 [==============================] - 0s 865us/step - loss: 4.1739\n",
      "16/16 [==============================] - 0s 917us/step - loss: 4.1739\n",
      "16/16 [==============================] - 0s 850us/step - loss: 4.1739\n",
      "16/16 [==============================] - 0s 877us/step - loss: 4.1739\n",
      "16/16 [==============================] - 0s 942us/step - loss: 4.1739\n",
      "16/16 [==============================] - 0s 868us/step - loss: 4.1739\n",
      "16/16 [==============================] - 0s 894us/step - loss: 4.1739\n",
      "\n",
      "Testing for epoch 39 index 2:\n",
      "65/65 [==============================] - 0s 508us/step\n",
      "16/16 [==============================] - 0s 898us/step - loss: 0.0173\n",
      "16/16 [==============================] - 0s 871us/step - loss: 4.1831\n",
      "16/16 [==============================] - 0s 887us/step - loss: 4.1831\n"
     ]
    },
    {
     "name": "stderr",
     "output_type": "stream",
     "text": [
      "2023-05-14 10:01:13.907933: I tensorflow/core/common_runtime/executor.cc:1197] [/device:CPU:0] (DEBUG INFO) Executor start aborting (this does not indicate an error and you can ignore this message): INVALID_ARGUMENT: You must feed a value for placeholder tensor 'Placeholder/_1' with dtype int64 and shape [1000]\n",
      "\t [[{{node Placeholder/_1}}]]\n"
     ]
    },
    {
     "name": "stdout",
     "output_type": "stream",
     "text": [
      "16/16 [==============================] - 0s 902us/step - loss: 4.1831\n",
      "16/16 [==============================] - 0s 833us/step - loss: 4.1831\n",
      "16/16 [==============================] - 0s 752us/step - loss: 4.1831\n",
      "16/16 [==============================] - 0s 852us/step - loss: 4.1831\n",
      "16/16 [==============================] - 0s 874us/step - loss: 4.1831\n",
      "16/16 [==============================] - 0s 710us/step - loss: 4.1831\n",
      "16/16 [==============================] - 0s 810us/step - loss: 4.1831\n",
      "\n",
      "Testing for epoch 39 index 3:\n",
      "65/65 [==============================] - 0s 542us/step\n",
      "16/16 [==============================] - 0s 767us/step - loss: 0.0171\n",
      "16/16 [==============================] - 0s 747us/step - loss: 4.2004\n",
      "16/16 [==============================] - 0s 748us/step - loss: 4.2004\n"
     ]
    },
    {
     "name": "stderr",
     "output_type": "stream",
     "text": [
      "2023-05-14 10:01:14.640753: I tensorflow/core/common_runtime/executor.cc:1197] [/device:CPU:0] (DEBUG INFO) Executor start aborting (this does not indicate an error and you can ignore this message): INVALID_ARGUMENT: You must feed a value for placeholder tensor 'Placeholder/_1' with dtype int64 and shape [1000]\n",
      "\t [[{{node Placeholder/_1}}]]\n"
     ]
    },
    {
     "name": "stdout",
     "output_type": "stream",
     "text": [
      "16/16 [==============================] - 0s 1ms/step - loss: 4.2004\n",
      "16/16 [==============================] - 0s 741us/step - loss: 4.2004\n",
      "16/16 [==============================] - 0s 704us/step - loss: 4.2004\n",
      "16/16 [==============================] - 0s 846us/step - loss: 4.2004\n",
      "16/16 [==============================] - 0s 904us/step - loss: 4.2004\n",
      "16/16 [==============================] - 0s 813us/step - loss: 4.2004\n",
      "16/16 [==============================] - 0s 883us/step - loss: 4.2004\n",
      "\n",
      "Testing for epoch 39 index 4:\n",
      "65/65 [==============================] - 0s 503us/step\n",
      "16/16 [==============================] - 0s 704us/step - loss: 0.0169\n",
      "16/16 [==============================] - 0s 730us/step - loss: 4.2276\n",
      "16/16 [==============================] - 0s 770us/step - loss: 4.2276\n"
     ]
    },
    {
     "name": "stderr",
     "output_type": "stream",
     "text": [
      "2023-05-14 10:01:15.398658: I tensorflow/core/common_runtime/executor.cc:1197] [/device:CPU:0] (DEBUG INFO) Executor start aborting (this does not indicate an error and you can ignore this message): INVALID_ARGUMENT: You must feed a value for placeholder tensor 'Placeholder/_1' with dtype int64 and shape [1000]\n",
      "\t [[{{node Placeholder/_1}}]]\n"
     ]
    },
    {
     "name": "stdout",
     "output_type": "stream",
     "text": [
      "16/16 [==============================] - 0s 803us/step - loss: 4.2276\n",
      "16/16 [==============================] - 0s 681us/step - loss: 4.2276\n",
      "16/16 [==============================] - 0s 689us/step - loss: 4.2276\n",
      "16/16 [==============================] - 0s 719us/step - loss: 4.2276\n",
      "16/16 [==============================] - 0s 760us/step - loss: 4.2276\n",
      "16/16 [==============================] - 0s 708us/step - loss: 4.2276\n",
      "16/16 [==============================] - 0s 756us/step - loss: 4.2276\n",
      "Epoch 40 of 60\n",
      "\n",
      "Testing for epoch 40 index 1:\n",
      "65/65 [==============================] - 0s 485us/step\n",
      "16/16 [==============================] - 0s 716us/step - loss: 0.0168\n",
      "16/16 [==============================] - 0s 751us/step - loss: 4.2412\n",
      "16/16 [==============================] - 0s 724us/step - loss: 4.2412\n"
     ]
    },
    {
     "name": "stderr",
     "output_type": "stream",
     "text": [
      "2023-05-14 10:01:16.120206: I tensorflow/core/common_runtime/executor.cc:1197] [/device:CPU:0] (DEBUG INFO) Executor start aborting (this does not indicate an error and you can ignore this message): INVALID_ARGUMENT: You must feed a value for placeholder tensor 'Placeholder/_1' with dtype int64 and shape [1000]\n",
      "\t [[{{node Placeholder/_1}}]]\n"
     ]
    },
    {
     "name": "stdout",
     "output_type": "stream",
     "text": [
      "16/16 [==============================] - 0s 855us/step - loss: 4.2412\n",
      "16/16 [==============================] - 0s 759us/step - loss: 4.2412\n",
      "16/16 [==============================] - 0s 720us/step - loss: 4.2412\n",
      "16/16 [==============================] - 0s 792us/step - loss: 4.2412\n",
      "16/16 [==============================] - 0s 1ms/step - loss: 4.2412\n",
      "16/16 [==============================] - 0s 804us/step - loss: 4.2412\n",
      "16/16 [==============================] - 0s 809us/step - loss: 4.2412\n",
      "\n",
      "Testing for epoch 40 index 2:\n",
      "65/65 [==============================] - 0s 493us/step\n",
      "16/16 [==============================] - 0s 852us/step - loss: 0.0166\n",
      "16/16 [==============================] - 0s 817us/step - loss: 4.2342\n"
     ]
    },
    {
     "name": "stderr",
     "output_type": "stream",
     "text": [
      "2023-05-14 10:01:17.097366: I tensorflow/core/common_runtime/executor.cc:1197] [/device:CPU:0] (DEBUG INFO) Executor start aborting (this does not indicate an error and you can ignore this message): INVALID_ARGUMENT: You must feed a value for placeholder tensor 'Placeholder/_1' with dtype int64 and shape [1000]\n",
      "\t [[{{node Placeholder/_1}}]]\n"
     ]
    },
    {
     "name": "stdout",
     "output_type": "stream",
     "text": [
      "16/16 [==============================] - 0s 809us/step - loss: 4.2342\n",
      "16/16 [==============================] - 0s 776us/step - loss: 4.2342\n",
      "16/16 [==============================] - 0s 775us/step - loss: 4.2342\n",
      "16/16 [==============================] - 0s 747us/step - loss: 4.2342\n",
      "16/16 [==============================] - 0s 726us/step - loss: 4.2342\n",
      "16/16 [==============================] - 0s 801us/step - loss: 4.2342\n",
      "16/16 [==============================] - 0s 773us/step - loss: 4.2342\n",
      "16/16 [==============================] - 0s 756us/step - loss: 4.2342\n",
      "\n",
      "Testing for epoch 40 index 3:\n",
      "65/65 [==============================] - 0s 483us/step\n",
      "16/16 [==============================] - 0s 777us/step - loss: 0.0165\n",
      "16/16 [==============================] - 0s 743us/step - loss: 4.2431\n",
      " 1/16 [>.............................] - ETA: 0s - loss: 4.2510"
     ]
    },
    {
     "name": "stderr",
     "output_type": "stream",
     "text": [
      "2023-05-14 10:01:17.904244: I tensorflow/core/common_runtime/executor.cc:1197] [/device:CPU:0] (DEBUG INFO) Executor start aborting (this does not indicate an error and you can ignore this message): INVALID_ARGUMENT: You must feed a value for placeholder tensor 'Placeholder/_1' with dtype int64 and shape [1000]\n",
      "\t [[{{node Placeholder/_1}}]]\n"
     ]
    },
    {
     "name": "stdout",
     "output_type": "stream",
     "text": [
      "16/16 [==============================] - 0s 790us/step - loss: 4.2431\n",
      "16/16 [==============================] - 0s 803us/step - loss: 4.2431\n",
      "16/16 [==============================] - 0s 781us/step - loss: 4.2431\n",
      "16/16 [==============================] - 0s 800us/step - loss: 4.2431\n",
      "16/16 [==============================] - 0s 736us/step - loss: 4.2431\n",
      "16/16 [==============================] - 0s 746us/step - loss: 4.2431\n",
      "16/16 [==============================] - 0s 736us/step - loss: 4.2431\n",
      "16/16 [==============================] - 0s 756us/step - loss: 4.2431\n",
      "\n",
      "Testing for epoch 40 index 4:\n",
      "65/65 [==============================] - 0s 484us/step\n",
      "16/16 [==============================] - 0s 715us/step - loss: 0.0163\n",
      "16/16 [==============================] - 0s 896us/step - loss: 4.2593\n",
      " 1/16 [>.............................] - ETA: 0s - loss: 4.2622"
     ]
    },
    {
     "name": "stderr",
     "output_type": "stream",
     "text": [
      "2023-05-14 10:01:18.712837: I tensorflow/core/common_runtime/executor.cc:1197] [/device:CPU:0] (DEBUG INFO) Executor start aborting (this does not indicate an error and you can ignore this message): INVALID_ARGUMENT: You must feed a value for placeholder tensor 'Placeholder/_1' with dtype int64 and shape [1000]\n",
      "\t [[{{node Placeholder/_1}}]]\n"
     ]
    },
    {
     "name": "stdout",
     "output_type": "stream",
     "text": [
      "16/16 [==============================] - 0s 739us/step - loss: 4.2593\n",
      "16/16 [==============================] - 0s 771us/step - loss: 4.2593\n",
      "16/16 [==============================] - 0s 699us/step - loss: 4.2593\n",
      "16/16 [==============================] - 0s 1ms/step - loss: 4.2593\n",
      "16/16 [==============================] - 0s 892us/step - loss: 4.2593\n",
      "16/16 [==============================] - 0s 986us/step - loss: 4.2593\n",
      "16/16 [==============================] - 0s 882us/step - loss: 4.2593\n",
      "16/16 [==============================] - 0s 927us/step - loss: 4.2593\n",
      "Epoch 41 of 60\n",
      "\n",
      "Testing for epoch 41 index 1:\n",
      "65/65 [==============================] - 0s 561us/step\n",
      "16/16 [==============================] - 0s 922us/step - loss: 0.0163\n",
      "16/16 [==============================] - 0s 912us/step - loss: 4.2672\n"
     ]
    },
    {
     "name": "stderr",
     "output_type": "stream",
     "text": [
      "2023-05-14 10:01:19.603955: I tensorflow/core/common_runtime/executor.cc:1197] [/device:CPU:0] (DEBUG INFO) Executor start aborting (this does not indicate an error and you can ignore this message): INVALID_ARGUMENT: You must feed a value for placeholder tensor 'Placeholder/_1' with dtype int64 and shape [1000]\n",
      "\t [[{{node Placeholder/_1}}]]\n"
     ]
    },
    {
     "name": "stdout",
     "output_type": "stream",
     "text": [
      "16/16 [==============================] - 0s 1ms/step - loss: 4.2672\n",
      "16/16 [==============================] - 0s 900us/step - loss: 4.2672\n",
      "16/16 [==============================] - 0s 928us/step - loss: 4.2672\n",
      "16/16 [==============================] - 0s 937us/step - loss: 4.2672\n",
      "16/16 [==============================] - 0s 860us/step - loss: 4.2672\n",
      "16/16 [==============================] - 0s 880us/step - loss: 4.2672\n",
      "16/16 [==============================] - 0s 953us/step - loss: 4.2672\n",
      "16/16 [==============================] - 0s 950us/step - loss: 4.2672\n",
      "\n",
      "Testing for epoch 41 index 2:\n",
      "65/65 [==============================] - 0s 457us/step\n",
      "16/16 [==============================] - 0s 700us/step - loss: 0.0161\n",
      "16/16 [==============================] - 0s 785us/step - loss: 4.2417\n",
      "16/16 [==============================] - 0s 827us/step - loss: 4.2417\n"
     ]
    },
    {
     "name": "stderr",
     "output_type": "stream",
     "text": [
      "2023-05-14 10:01:20.527559: I tensorflow/core/common_runtime/executor.cc:1197] [/device:CPU:0] (DEBUG INFO) Executor start aborting (this does not indicate an error and you can ignore this message): INVALID_ARGUMENT: You must feed a value for placeholder tensor 'Placeholder/_1' with dtype int64 and shape [1000]\n",
      "\t [[{{node Placeholder/_1}}]]\n"
     ]
    },
    {
     "name": "stdout",
     "output_type": "stream",
     "text": [
      "16/16 [==============================] - 0s 891us/step - loss: 4.2417\n",
      "16/16 [==============================] - 0s 716us/step - loss: 4.2417\n",
      "16/16 [==============================] - 0s 728us/step - loss: 4.2417\n",
      "16/16 [==============================] - 0s 748us/step - loss: 4.2417\n",
      "16/16 [==============================] - 0s 704us/step - loss: 4.2417\n",
      "16/16 [==============================] - 0s 730us/step - loss: 4.2417\n",
      "16/16 [==============================] - 0s 905us/step - loss: 4.2417\n",
      "\n",
      "Testing for epoch 41 index 3:\n",
      "65/65 [==============================] - 0s 573us/step\n",
      "16/16 [==============================] - 0s 926us/step - loss: 0.0160\n",
      "16/16 [==============================] - 0s 828us/step - loss: 4.2954\n"
     ]
    },
    {
     "name": "stderr",
     "output_type": "stream",
     "text": [
      "2023-05-14 10:01:21.289074: I tensorflow/core/common_runtime/executor.cc:1197] [/device:CPU:0] (DEBUG INFO) Executor start aborting (this does not indicate an error and you can ignore this message): INVALID_ARGUMENT: You must feed a value for placeholder tensor 'Placeholder/_1' with dtype int64 and shape [1000]\n",
      "\t [[{{node Placeholder/_1}}]]\n"
     ]
    },
    {
     "name": "stdout",
     "output_type": "stream",
     "text": [
      "16/16 [==============================] - 0s 1ms/step - loss: 4.2954\n",
      "16/16 [==============================] - 0s 894us/step - loss: 4.2954\n",
      "16/16 [==============================] - 0s 886us/step - loss: 4.2954\n",
      "16/16 [==============================] - 0s 943us/step - loss: 4.2954\n",
      "16/16 [==============================] - 0s 902us/step - loss: 4.2954\n",
      "16/16 [==============================] - 0s 909us/step - loss: 4.2954\n",
      "16/16 [==============================] - 0s 924us/step - loss: 4.2954\n",
      "16/16 [==============================] - 0s 888us/step - loss: 4.2954\n",
      "\n",
      "Testing for epoch 41 index 4:\n",
      "65/65 [==============================] - 0s 522us/step\n",
      "16/16 [==============================] - 0s 890us/step - loss: 0.0158\n",
      "16/16 [==============================] - 0s 912us/step - loss: 4.2584\n",
      " 1/16 [>.............................] - ETA: 0s - loss: 4.1874"
     ]
    },
    {
     "name": "stderr",
     "output_type": "stream",
     "text": [
      "2023-05-14 10:01:22.120285: I tensorflow/core/common_runtime/executor.cc:1197] [/device:CPU:0] (DEBUG INFO) Executor start aborting (this does not indicate an error and you can ignore this message): INVALID_ARGUMENT: You must feed a value for placeholder tensor 'Placeholder/_1' with dtype int64 and shape [1000]\n",
      "\t [[{{node Placeholder/_1}}]]\n"
     ]
    },
    {
     "name": "stdout",
     "output_type": "stream",
     "text": [
      "16/16 [==============================] - 0s 834us/step - loss: 4.2584\n",
      "16/16 [==============================] - 0s 850us/step - loss: 4.2584\n",
      "16/16 [==============================] - 0s 910us/step - loss: 4.2584\n",
      "16/16 [==============================] - 0s 899us/step - loss: 4.2584\n",
      "16/16 [==============================] - 0s 896us/step - loss: 4.2584\n",
      "16/16 [==============================] - 0s 872us/step - loss: 4.2584\n",
      "16/16 [==============================] - 0s 858us/step - loss: 4.2584\n",
      "16/16 [==============================] - 0s 792us/step - loss: 4.2584\n",
      "Epoch 42 of 60\n",
      "\n",
      "Testing for epoch 42 index 1:\n",
      "65/65 [==============================] - 0s 474us/step\n",
      "16/16 [==============================] - 0s 812us/step - loss: 0.0157\n",
      "16/16 [==============================] - 0s 797us/step - loss: 4.3049\n",
      "16/16 [==============================] - 0s 778us/step - loss: 4.3049\n"
     ]
    },
    {
     "name": "stderr",
     "output_type": "stream",
     "text": [
      "2023-05-14 10:01:22.900276: I tensorflow/core/common_runtime/executor.cc:1197] [/device:CPU:0] (DEBUG INFO) Executor start aborting (this does not indicate an error and you can ignore this message): INVALID_ARGUMENT: You must feed a value for placeholder tensor 'Placeholder/_1' with dtype int64 and shape [1000]\n",
      "\t [[{{node Placeholder/_1}}]]\n"
     ]
    },
    {
     "name": "stdout",
     "output_type": "stream",
     "text": [
      "16/16 [==============================] - 0s 947us/step - loss: 4.3049\n",
      "16/16 [==============================] - 0s 881us/step - loss: 4.3049\n",
      "16/16 [==============================] - 0s 875us/step - loss: 4.3049\n",
      "16/16 [==============================] - 0s 794us/step - loss: 4.3049\n",
      "16/16 [==============================] - 0s 715us/step - loss: 4.3049\n",
      "16/16 [==============================] - 0s 711us/step - loss: 4.3049\n",
      "16/16 [==============================] - 0s 805us/step - loss: 4.3049\n",
      "\n",
      "Testing for epoch 42 index 2:\n",
      "65/65 [==============================] - 0s 490us/step\n",
      "16/16 [==============================] - 0s 845us/step - loss: 0.0155\n",
      "16/16 [==============================] - 0s 724us/step - loss: 4.3171\n",
      "16/16 [==============================] - 0s 860us/step - loss: 4.3171\n"
     ]
    },
    {
     "name": "stderr",
     "output_type": "stream",
     "text": [
      "2023-05-14 10:01:23.625800: I tensorflow/core/common_runtime/executor.cc:1197] [/device:CPU:0] (DEBUG INFO) Executor start aborting (this does not indicate an error and you can ignore this message): INVALID_ARGUMENT: You must feed a value for placeholder tensor 'Placeholder/_1' with dtype int64 and shape [1000]\n",
      "\t [[{{node Placeholder/_1}}]]\n"
     ]
    },
    {
     "name": "stdout",
     "output_type": "stream",
     "text": [
      "16/16 [==============================] - 0s 1ms/step - loss: 4.3171\n",
      "16/16 [==============================] - 0s 886us/step - loss: 4.3171\n",
      "16/16 [==============================] - 0s 963us/step - loss: 4.3171\n",
      "16/16 [==============================] - 0s 922us/step - loss: 4.3171\n",
      "16/16 [==============================] - 0s 932us/step - loss: 4.3171\n",
      "16/16 [==============================] - 0s 973us/step - loss: 4.3171\n",
      "16/16 [==============================] - 0s 770us/step - loss: 4.3171\n",
      "\n",
      "Testing for epoch 42 index 3:\n",
      "65/65 [==============================] - 0s 514us/step\n",
      "16/16 [==============================] - 0s 903us/step - loss: 0.0154\n",
      "16/16 [==============================] - 0s 974us/step - loss: 4.2694\n"
     ]
    },
    {
     "name": "stderr",
     "output_type": "stream",
     "text": [
      "2023-05-14 10:01:24.446992: I tensorflow/core/common_runtime/executor.cc:1197] [/device:CPU:0] (DEBUG INFO) Executor start aborting (this does not indicate an error and you can ignore this message): INVALID_ARGUMENT: You must feed a value for placeholder tensor 'Placeholder/_1' with dtype int64 and shape [1000]\n",
      "\t [[{{node Placeholder/_1}}]]\n"
     ]
    },
    {
     "name": "stdout",
     "output_type": "stream",
     "text": [
      "16/16 [==============================] - 0s 789us/step - loss: 4.2694\n",
      "16/16 [==============================] - 0s 977us/step - loss: 4.2694\n",
      "16/16 [==============================] - 0s 872us/step - loss: 4.2694\n",
      "16/16 [==============================] - 0s 925us/step - loss: 4.2694\n",
      "16/16 [==============================] - 0s 889us/step - loss: 4.2694\n",
      "16/16 [==============================] - 0s 965us/step - loss: 4.2694\n",
      "16/16 [==============================] - 0s 940us/step - loss: 4.2694\n",
      "16/16 [==============================] - 0s 918us/step - loss: 4.2694\n",
      "\n",
      "Testing for epoch 42 index 4:\n",
      "65/65 [==============================] - 0s 536us/step\n",
      "16/16 [==============================] - 0s 795us/step - loss: 0.0153\n",
      "16/16 [==============================] - 0s 862us/step - loss: 4.3562\n",
      " 1/16 [>.............................] - ETA: 0s - loss: 4.3069"
     ]
    },
    {
     "name": "stderr",
     "output_type": "stream",
     "text": [
      "2023-05-14 10:01:25.253997: I tensorflow/core/common_runtime/executor.cc:1197] [/device:CPU:0] (DEBUG INFO) Executor start aborting (this does not indicate an error and you can ignore this message): INVALID_ARGUMENT: You must feed a value for placeholder tensor 'Placeholder/_1' with dtype int64 and shape [1000]\n",
      "\t [[{{node Placeholder/_1}}]]\n"
     ]
    },
    {
     "name": "stdout",
     "output_type": "stream",
     "text": [
      "16/16 [==============================] - 0s 912us/step - loss: 4.3562\n",
      "16/16 [==============================] - 0s 904us/step - loss: 4.3562\n",
      "16/16 [==============================] - 0s 887us/step - loss: 4.3562\n",
      "16/16 [==============================] - 0s 893us/step - loss: 4.3562\n",
      "16/16 [==============================] - 0s 761us/step - loss: 4.3562\n",
      "16/16 [==============================] - 0s 826us/step - loss: 4.3562\n",
      "16/16 [==============================] - 0s 856us/step - loss: 4.3562\n",
      "16/16 [==============================] - 0s 785us/step - loss: 4.3562\n",
      "Epoch 43 of 60\n",
      "\n",
      "Testing for epoch 43 index 1:\n",
      "65/65 [==============================] - 0s 553us/step\n",
      "16/16 [==============================] - 0s 828us/step - loss: 0.0152\n",
      "16/16 [==============================] - 0s 1ms/step - loss: 4.2990\n"
     ]
    },
    {
     "name": "stderr",
     "output_type": "stream",
     "text": [
      "2023-05-14 10:01:26.037558: I tensorflow/core/common_runtime/executor.cc:1197] [/device:CPU:0] (DEBUG INFO) Executor start aborting (this does not indicate an error and you can ignore this message): INVALID_ARGUMENT: You must feed a value for placeholder tensor 'Placeholder/_1' with dtype int64 and shape [1000]\n",
      "\t [[{{node Placeholder/_1}}]]\n"
     ]
    },
    {
     "name": "stdout",
     "output_type": "stream",
     "text": [
      "16/16 [==============================] - 0s 1ms/step - loss: 4.2990\n",
      "16/16 [==============================] - 0s 969us/step - loss: 4.2990\n",
      "16/16 [==============================] - 0s 841us/step - loss: 4.2990\n",
      "16/16 [==============================] - 0s 1ms/step - loss: 4.2990\n",
      "16/16 [==============================] - 0s 720us/step - loss: 4.2990\n",
      "16/16 [==============================] - 0s 895us/step - loss: 4.2990\n",
      "16/16 [==============================] - 0s 807us/step - loss: 4.2990\n",
      "16/16 [==============================] - 0s 901us/step - loss: 4.2990\n",
      "\n",
      "Testing for epoch 43 index 2:\n",
      "65/65 [==============================] - 0s 622us/step\n",
      "16/16 [==============================] - 0s 974us/step - loss: 0.0151\n",
      " 1/16 [>.............................] - ETA: 0s - loss: 4.4893"
     ]
    },
    {
     "name": "stderr",
     "output_type": "stream",
     "text": [
      "2023-05-14 10:01:26.875320: I tensorflow/core/common_runtime/executor.cc:1197] [/device:CPU:0] (DEBUG INFO) Executor start aborting (this does not indicate an error and you can ignore this message): INVALID_ARGUMENT: You must feed a value for placeholder tensor 'Placeholder/_1' with dtype int64 and shape [1000]\n",
      "\t [[{{node Placeholder/_1}}]]\n"
     ]
    },
    {
     "name": "stdout",
     "output_type": "stream",
     "text": [
      "16/16 [==============================] - 0s 1ms/step - loss: 4.3590\n",
      "16/16 [==============================] - 0s 1ms/step - loss: 4.3590\n",
      "16/16 [==============================] - 0s 957us/step - loss: 4.3590\n",
      "16/16 [==============================] - 0s 946us/step - loss: 4.3590\n",
      "16/16 [==============================] - 0s 974us/step - loss: 4.3590\n",
      "16/16 [==============================] - 0s 984us/step - loss: 4.3590\n",
      "16/16 [==============================] - 0s 927us/step - loss: 4.3590\n",
      "16/16 [==============================] - 0s 982us/step - loss: 4.3590\n",
      "16/16 [==============================] - 0s 992us/step - loss: 4.3590\n",
      "\n",
      "Testing for epoch 43 index 3:\n",
      "65/65 [==============================] - 0s 445us/step\n",
      "16/16 [==============================] - 0s 695us/step - loss: 0.0150\n",
      "16/16 [==============================] - 0s 721us/step - loss: 4.3041\n",
      "16/16 [==============================] - 0s 714us/step - loss: 4.3041\n"
     ]
    },
    {
     "name": "stderr",
     "output_type": "stream",
     "text": [
      "2023-05-14 10:01:27.721844: I tensorflow/core/common_runtime/executor.cc:1197] [/device:CPU:0] (DEBUG INFO) Executor start aborting (this does not indicate an error and you can ignore this message): INVALID_ARGUMENT: You must feed a value for placeholder tensor 'Placeholder/_1' with dtype int64 and shape [1000]\n",
      "\t [[{{node Placeholder/_1}}]]\n"
     ]
    },
    {
     "name": "stdout",
     "output_type": "stream",
     "text": [
      "16/16 [==============================] - 0s 699us/step - loss: 4.3041\n",
      "16/16 [==============================] - 0s 715us/step - loss: 4.3041\n",
      "16/16 [==============================] - 0s 700us/step - loss: 4.3041\n",
      "16/16 [==============================] - 0s 720us/step - loss: 4.3041\n",
      "16/16 [==============================] - 0s 733us/step - loss: 4.3041\n",
      "16/16 [==============================] - 0s 710us/step - loss: 4.3041\n",
      "16/16 [==============================] - 0s 764us/step - loss: 4.3041\n",
      "\n",
      "Testing for epoch 43 index 4:\n",
      "65/65 [==============================] - 0s 444us/step\n",
      "16/16 [==============================] - 0s 685us/step - loss: 0.0147\n",
      "16/16 [==============================] - 0s 735us/step - loss: 4.3631\n",
      "16/16 [==============================] - 0s 677us/step - loss: 4.3631\n"
     ]
    },
    {
     "name": "stderr",
     "output_type": "stream",
     "text": [
      "2023-05-14 10:01:28.421059: I tensorflow/core/common_runtime/executor.cc:1197] [/device:CPU:0] (DEBUG INFO) Executor start aborting (this does not indicate an error and you can ignore this message): INVALID_ARGUMENT: You must feed a value for placeholder tensor 'Placeholder/_1' with dtype int64 and shape [1000]\n",
      "\t [[{{node Placeholder/_1}}]]\n"
     ]
    },
    {
     "name": "stdout",
     "output_type": "stream",
     "text": [
      "16/16 [==============================] - 0s 662us/step - loss: 4.3631\n",
      "16/16 [==============================] - 0s 718us/step - loss: 4.3631\n",
      "16/16 [==============================] - 0s 837us/step - loss: 4.3631\n",
      "16/16 [==============================] - 0s 717us/step - loss: 4.3631\n",
      "16/16 [==============================] - 0s 699us/step - loss: 4.3631\n",
      "16/16 [==============================] - 0s 714us/step - loss: 4.3631\n",
      "16/16 [==============================] - 0s 738us/step - loss: 4.3631\n",
      "Epoch 44 of 60\n",
      "\n",
      "Testing for epoch 44 index 1:\n",
      "65/65 [==============================] - 0s 438us/step\n",
      "16/16 [==============================] - 0s 706us/step - loss: 0.0147\n",
      "16/16 [==============================] - 0s 738us/step - loss: 4.3603\n",
      "16/16 [==============================] - 0s 683us/step - loss: 4.3603\n"
     ]
    },
    {
     "name": "stderr",
     "output_type": "stream",
     "text": [
      "2023-05-14 10:01:29.119684: I tensorflow/core/common_runtime/executor.cc:1197] [/device:CPU:0] (DEBUG INFO) Executor start aborting (this does not indicate an error and you can ignore this message): INVALID_ARGUMENT: You must feed a value for placeholder tensor 'Placeholder/_1' with dtype int64 and shape [1000]\n",
      "\t [[{{node Placeholder/_1}}]]\n"
     ]
    },
    {
     "name": "stdout",
     "output_type": "stream",
     "text": [
      "16/16 [==============================] - 0s 751us/step - loss: 4.3603\n",
      "16/16 [==============================] - 0s 782us/step - loss: 4.3603\n",
      "16/16 [==============================] - 0s 696us/step - loss: 4.3603\n",
      "16/16 [==============================] - 0s 702us/step - loss: 4.3603\n",
      "16/16 [==============================] - 0s 739us/step - loss: 4.3603\n",
      "16/16 [==============================] - 0s 690us/step - loss: 4.3603\n",
      "16/16 [==============================] - 0s 856us/step - loss: 4.3603\n",
      "\n",
      "Testing for epoch 44 index 2:\n",
      "65/65 [==============================] - 0s 440us/step\n",
      "16/16 [==============================] - 0s 694us/step - loss: 0.0147\n",
      "16/16 [==============================] - 0s 721us/step - loss: 4.3581\n",
      "16/16 [==============================] - 0s 716us/step - loss: 4.3580\n"
     ]
    },
    {
     "name": "stderr",
     "output_type": "stream",
     "text": [
      "2023-05-14 10:01:29.816539: I tensorflow/core/common_runtime/executor.cc:1197] [/device:CPU:0] (DEBUG INFO) Executor start aborting (this does not indicate an error and you can ignore this message): INVALID_ARGUMENT: You must feed a value for placeholder tensor 'Placeholder/_1' with dtype int64 and shape [1000]\n",
      "\t [[{{node Placeholder/_1}}]]\n"
     ]
    },
    {
     "name": "stdout",
     "output_type": "stream",
     "text": [
      "16/16 [==============================] - 0s 748us/step - loss: 4.3580\n",
      "16/16 [==============================] - 0s 713us/step - loss: 4.3580\n",
      "16/16 [==============================] - 0s 729us/step - loss: 4.3580\n",
      "16/16 [==============================] - 0s 727us/step - loss: 4.3580\n",
      "16/16 [==============================] - 0s 697us/step - loss: 4.3580\n",
      "16/16 [==============================] - 0s 752us/step - loss: 4.3580\n",
      "16/16 [==============================] - 0s 778us/step - loss: 4.3580\n",
      "\n",
      "Testing for epoch 44 index 3:\n",
      "65/65 [==============================] - 0s 468us/step\n",
      "16/16 [==============================] - 0s 741us/step - loss: 0.0145\n",
      "16/16 [==============================] - 0s 717us/step - loss: 4.3789\n",
      "16/16 [==============================] - 0s 675us/step - loss: 4.3788\n"
     ]
    },
    {
     "name": "stderr",
     "output_type": "stream",
     "text": [
      "2023-05-14 10:01:30.517175: I tensorflow/core/common_runtime/executor.cc:1197] [/device:CPU:0] (DEBUG INFO) Executor start aborting (this does not indicate an error and you can ignore this message): INVALID_ARGUMENT: You must feed a value for placeholder tensor 'Placeholder/_1' with dtype int64 and shape [1000]\n",
      "\t [[{{node Placeholder/_1}}]]\n"
     ]
    },
    {
     "name": "stdout",
     "output_type": "stream",
     "text": [
      "16/16 [==============================] - 0s 732us/step - loss: 4.3789\n",
      "16/16 [==============================] - 0s 731us/step - loss: 4.3788\n",
      "16/16 [==============================] - 0s 707us/step - loss: 4.3789\n",
      "16/16 [==============================] - 0s 705us/step - loss: 4.3789\n",
      "16/16 [==============================] - 0s 741us/step - loss: 4.3789\n",
      "16/16 [==============================] - 0s 711us/step - loss: 4.3789\n",
      "16/16 [==============================] - 0s 709us/step - loss: 4.3789\n",
      "\n",
      "Testing for epoch 44 index 4:\n",
      "65/65 [==============================] - 0s 444us/step\n",
      "16/16 [==============================] - 0s 679us/step - loss: 0.0144\n",
      "16/16 [==============================] - 0s 686us/step - loss: 4.3514\n",
      "16/16 [==============================] - 0s 708us/step - loss: 4.3514\n"
     ]
    },
    {
     "name": "stderr",
     "output_type": "stream",
     "text": [
      "2023-05-14 10:01:31.214783: I tensorflow/core/common_runtime/executor.cc:1197] [/device:CPU:0] (DEBUG INFO) Executor start aborting (this does not indicate an error and you can ignore this message): INVALID_ARGUMENT: You must feed a value for placeholder tensor 'Placeholder/_1' with dtype int64 and shape [1000]\n",
      "\t [[{{node Placeholder/_1}}]]\n"
     ]
    },
    {
     "name": "stdout",
     "output_type": "stream",
     "text": [
      "16/16 [==============================] - 0s 695us/step - loss: 4.3514\n",
      "16/16 [==============================] - 0s 762us/step - loss: 4.3514\n",
      "16/16 [==============================] - 0s 688us/step - loss: 4.3514\n",
      "16/16 [==============================] - 0s 677us/step - loss: 4.3514\n",
      "16/16 [==============================] - 0s 709us/step - loss: 4.3514\n",
      "16/16 [==============================] - 0s 668us/step - loss: 4.3514\n",
      "16/16 [==============================] - 0s 954us/step - loss: 4.3514\n",
      "Epoch 45 of 60\n",
      "\n",
      "Testing for epoch 45 index 1:\n",
      "65/65 [==============================] - 0s 447us/step\n",
      "16/16 [==============================] - 0s 736us/step - loss: 0.0143\n",
      "16/16 [==============================] - 0s 700us/step - loss: 4.3723\n",
      "16/16 [==============================] - 0s 813us/step - loss: 4.3723\n"
     ]
    },
    {
     "name": "stderr",
     "output_type": "stream",
     "text": [
      "2023-05-14 10:01:31.910900: I tensorflow/core/common_runtime/executor.cc:1197] [/device:CPU:0] (DEBUG INFO) Executor start aborting (this does not indicate an error and you can ignore this message): INVALID_ARGUMENT: You must feed a value for placeholder tensor 'Placeholder/_1' with dtype int64 and shape [1000]\n",
      "\t [[{{node Placeholder/_1}}]]\n"
     ]
    },
    {
     "name": "stdout",
     "output_type": "stream",
     "text": [
      "16/16 [==============================] - 0s 723us/step - loss: 4.3723\n",
      "16/16 [==============================] - 0s 688us/step - loss: 4.3723\n",
      "16/16 [==============================] - 0s 707us/step - loss: 4.3723\n",
      "16/16 [==============================] - 0s 681us/step - loss: 4.3723\n",
      "16/16 [==============================] - 0s 873us/step - loss: 4.3723\n",
      "16/16 [==============================] - 0s 888us/step - loss: 4.3723\n",
      "16/16 [==============================] - 0s 890us/step - loss: 4.3723\n",
      "\n",
      "Testing for epoch 45 index 2:\n",
      "65/65 [==============================] - 0s 662us/step\n",
      "16/16 [==============================] - 0s 888us/step - loss: 0.0142\n",
      "16/16 [==============================] - 0s 1ms/step - loss: 4.3624\n"
     ]
    },
    {
     "name": "stderr",
     "output_type": "stream",
     "text": [
      "2023-05-14 10:01:32.651138: I tensorflow/core/common_runtime/executor.cc:1197] [/device:CPU:0] (DEBUG INFO) Executor start aborting (this does not indicate an error and you can ignore this message): INVALID_ARGUMENT: You must feed a value for placeholder tensor 'Placeholder/_1' with dtype int64 and shape [1000]\n",
      "\t [[{{node Placeholder/_1}}]]\n"
     ]
    },
    {
     "name": "stdout",
     "output_type": "stream",
     "text": [
      "16/16 [==============================] - 0s 1ms/step - loss: 4.3624\n",
      "16/16 [==============================] - 0s 1ms/step - loss: 4.3624\n",
      "16/16 [==============================] - 0s 1ms/step - loss: 4.3624\n",
      "16/16 [==============================] - 0s 950us/step - loss: 4.3624\n",
      "16/16 [==============================] - 0s 1ms/step - loss: 4.3624\n",
      "16/16 [==============================] - 0s 1ms/step - loss: 4.3624\n",
      "16/16 [==============================] - 0s 961us/step - loss: 4.3624\n",
      "16/16 [==============================] - 0s 1ms/step - loss: 4.3624\n",
      "\n",
      "Testing for epoch 45 index 3:\n",
      "65/65 [==============================] - 0s 610us/step\n",
      "16/16 [==============================] - 0s 870us/step - loss: 0.0141\n",
      "16/16 [==============================] - 0s 900us/step - loss: 4.4202\n",
      " 1/16 [>.............................] - ETA: 0s - loss: 4.3978"
     ]
    },
    {
     "name": "stderr",
     "output_type": "stream",
     "text": [
      "2023-05-14 10:01:33.520724: I tensorflow/core/common_runtime/executor.cc:1197] [/device:CPU:0] (DEBUG INFO) Executor start aborting (this does not indicate an error and you can ignore this message): INVALID_ARGUMENT: You must feed a value for placeholder tensor 'Placeholder/_1' with dtype int64 and shape [1000]\n",
      "\t [[{{node Placeholder/_1}}]]\n"
     ]
    },
    {
     "name": "stdout",
     "output_type": "stream",
     "text": [
      "16/16 [==============================] - 0s 819us/step - loss: 4.4202\n",
      "16/16 [==============================] - 0s 1ms/step - loss: 4.4202\n",
      "16/16 [==============================] - 0s 759us/step - loss: 4.4202\n",
      "16/16 [==============================] - 0s 931us/step - loss: 4.4202\n",
      "16/16 [==============================] - 0s 954us/step - loss: 4.4202\n",
      "16/16 [==============================] - 0s 1ms/step - loss: 4.4202\n",
      "16/16 [==============================] - 0s 951us/step - loss: 4.4202\n",
      "16/16 [==============================] - 0s 1ms/step - loss: 4.4202\n",
      "\n",
      "Testing for epoch 45 index 4:\n",
      "65/65 [==============================] - 0s 523us/step\n",
      "16/16 [==============================] - 0s 757us/step - loss: 0.0140\n",
      "16/16 [==============================] - 0s 780us/step - loss: 4.4168\n",
      "16/16 [==============================] - 0s 817us/step - loss: 4.4168\n"
     ]
    },
    {
     "name": "stderr",
     "output_type": "stream",
     "text": [
      "2023-05-14 10:01:34.336544: I tensorflow/core/common_runtime/executor.cc:1197] [/device:CPU:0] (DEBUG INFO) Executor start aborting (this does not indicate an error and you can ignore this message): INVALID_ARGUMENT: You must feed a value for placeholder tensor 'Placeholder/_1' with dtype int64 and shape [1000]\n",
      "\t [[{{node Placeholder/_1}}]]\n"
     ]
    },
    {
     "name": "stdout",
     "output_type": "stream",
     "text": [
      "16/16 [==============================] - 0s 812us/step - loss: 4.4168\n",
      "16/16 [==============================] - 0s 845us/step - loss: 4.4168\n",
      "16/16 [==============================] - 0s 793us/step - loss: 4.4168\n",
      "16/16 [==============================] - 0s 821us/step - loss: 4.4168\n",
      "16/16 [==============================] - 0s 832us/step - loss: 4.4168\n",
      "16/16 [==============================] - 0s 734us/step - loss: 4.4168\n",
      "16/16 [==============================] - 0s 799us/step - loss: 4.4168\n",
      "Epoch 46 of 60\n",
      "\n",
      "Testing for epoch 46 index 1:\n",
      "65/65 [==============================] - 0s 552us/step\n",
      "16/16 [==============================] - 0s 812us/step - loss: 0.0139\n",
      "16/16 [==============================] - 0s 777us/step - loss: 4.4068\n",
      "16/16 [==============================] - 0s 763us/step - loss: 4.4068\n"
     ]
    },
    {
     "name": "stderr",
     "output_type": "stream",
     "text": [
      "2023-05-14 10:01:35.085834: I tensorflow/core/common_runtime/executor.cc:1197] [/device:CPU:0] (DEBUG INFO) Executor start aborting (this does not indicate an error and you can ignore this message): INVALID_ARGUMENT: You must feed a value for placeholder tensor 'Placeholder/_1' with dtype int64 and shape [1000]\n",
      "\t [[{{node Placeholder/_1}}]]\n"
     ]
    },
    {
     "name": "stdout",
     "output_type": "stream",
     "text": [
      "16/16 [==============================] - 0s 880us/step - loss: 4.4068\n",
      "16/16 [==============================] - 0s 875us/step - loss: 4.4068\n",
      "16/16 [==============================] - 0s 808us/step - loss: 4.4068\n",
      "16/16 [==============================] - 0s 852us/step - loss: 4.4068\n",
      "16/16 [==============================] - 0s 817us/step - loss: 4.4068\n",
      "16/16 [==============================] - 0s 814us/step - loss: 4.4068\n",
      "16/16 [==============================] - 0s 858us/step - loss: 4.4068\n",
      "\n",
      "Testing for epoch 46 index 2:\n",
      "65/65 [==============================] - 0s 498us/step\n",
      "16/16 [==============================] - 0s 752us/step - loss: 0.0137\n",
      "16/16 [==============================] - 0s 846us/step - loss: 4.4070\n",
      "16/16 [==============================] - 0s 823us/step - loss: 4.4070\n"
     ]
    },
    {
     "name": "stderr",
     "output_type": "stream",
     "text": [
      "2023-05-14 10:01:35.848657: I tensorflow/core/common_runtime/executor.cc:1197] [/device:CPU:0] (DEBUG INFO) Executor start aborting (this does not indicate an error and you can ignore this message): INVALID_ARGUMENT: You must feed a value for placeholder tensor 'Placeholder/_1' with dtype int64 and shape [1000]\n",
      "\t [[{{node Placeholder/_1}}]]\n"
     ]
    },
    {
     "name": "stdout",
     "output_type": "stream",
     "text": [
      "16/16 [==============================] - 0s 931us/step - loss: 4.4070\n",
      "16/16 [==============================] - 0s 878us/step - loss: 4.4070\n",
      "16/16 [==============================] - 0s 728us/step - loss: 4.4070\n",
      "16/16 [==============================] - 0s 786us/step - loss: 4.4070\n",
      "16/16 [==============================] - 0s 795us/step - loss: 4.4070\n",
      "16/16 [==============================] - 0s 782us/step - loss: 4.4070\n",
      "16/16 [==============================] - 0s 786us/step - loss: 4.4070\n",
      "\n",
      "Testing for epoch 46 index 3:\n",
      "65/65 [==============================] - 0s 516us/step\n",
      "16/16 [==============================] - 0s 868us/step - loss: 0.0137\n",
      "16/16 [==============================] - 0s 793us/step - loss: 4.4175\n",
      "16/16 [==============================] - 0s 906us/step - loss: 4.4175\n"
     ]
    },
    {
     "name": "stderr",
     "output_type": "stream",
     "text": [
      "2023-05-14 10:01:36.606342: I tensorflow/core/common_runtime/executor.cc:1197] [/device:CPU:0] (DEBUG INFO) Executor start aborting (this does not indicate an error and you can ignore this message): INVALID_ARGUMENT: You must feed a value for placeholder tensor 'Placeholder/_1' with dtype int64 and shape [1000]\n",
      "\t [[{{node Placeholder/_1}}]]\n"
     ]
    },
    {
     "name": "stdout",
     "output_type": "stream",
     "text": [
      "16/16 [==============================] - 0s 946us/step - loss: 4.4175\n",
      "16/16 [==============================] - 0s 819us/step - loss: 4.4175\n",
      "16/16 [==============================] - 0s 898us/step - loss: 4.4175\n",
      "16/16 [==============================] - 0s 814us/step - loss: 4.4175\n",
      "16/16 [==============================] - 0s 828us/step - loss: 4.4175\n",
      "16/16 [==============================] - 0s 841us/step - loss: 4.4175\n",
      "16/16 [==============================] - 0s 828us/step - loss: 4.4175\n",
      "\n",
      "Testing for epoch 46 index 4:\n",
      "65/65 [==============================] - 0s 518us/step\n",
      "16/16 [==============================] - 0s 854us/step - loss: 0.0136\n",
      "16/16 [==============================] - 0s 793us/step - loss: 4.4515\n",
      "16/16 [==============================] - 0s 843us/step - loss: 4.4515\n"
     ]
    },
    {
     "name": "stderr",
     "output_type": "stream",
     "text": [
      "2023-05-14 10:01:37.373561: I tensorflow/core/common_runtime/executor.cc:1197] [/device:CPU:0] (DEBUG INFO) Executor start aborting (this does not indicate an error and you can ignore this message): INVALID_ARGUMENT: You must feed a value for placeholder tensor 'Placeholder/_1' with dtype int64 and shape [1000]\n",
      "\t [[{{node Placeholder/_1}}]]\n"
     ]
    },
    {
     "name": "stdout",
     "output_type": "stream",
     "text": [
      "16/16 [==============================] - 0s 809us/step - loss: 4.4515\n",
      "16/16 [==============================] - 0s 747us/step - loss: 4.4515\n",
      "16/16 [==============================] - 0s 851us/step - loss: 4.4515\n",
      "16/16 [==============================] - 0s 741us/step - loss: 4.4515\n",
      "16/16 [==============================] - 0s 782us/step - loss: 4.4515\n",
      "16/16 [==============================] - 0s 758us/step - loss: 4.4515\n",
      "16/16 [==============================] - 0s 766us/step - loss: 4.4515\n",
      "Epoch 47 of 60\n",
      "\n",
      "Testing for epoch 47 index 1:\n",
      "65/65 [==============================] - 0s 504us/step\n",
      "16/16 [==============================] - 0s 778us/step - loss: 0.0135\n",
      "16/16 [==============================] - 0s 854us/step - loss: 4.4417\n",
      " 1/16 [>.............................] - ETA: 0s - loss: 4.5640"
     ]
    },
    {
     "name": "stderr",
     "output_type": "stream",
     "text": [
      "2023-05-14 10:01:38.121851: I tensorflow/core/common_runtime/executor.cc:1197] [/device:CPU:0] (DEBUG INFO) Executor start aborting (this does not indicate an error and you can ignore this message): INVALID_ARGUMENT: You must feed a value for placeholder tensor 'Placeholder/_1' with dtype int64 and shape [1000]\n",
      "\t [[{{node Placeholder/_1}}]]\n"
     ]
    },
    {
     "name": "stdout",
     "output_type": "stream",
     "text": [
      "16/16 [==============================] - 0s 801us/step - loss: 4.4417\n",
      "16/16 [==============================] - 0s 873us/step - loss: 4.4417\n",
      "16/16 [==============================] - 0s 841us/step - loss: 4.4417\n",
      "16/16 [==============================] - 0s 900us/step - loss: 4.4417\n",
      "16/16 [==============================] - 0s 857us/step - loss: 4.4417\n",
      "16/16 [==============================] - 0s 1ms/step - loss: 4.4417\n",
      "16/16 [==============================] - 0s 925us/step - loss: 4.4417\n",
      "16/16 [==============================] - 0s 888us/step - loss: 4.4417\n",
      "\n",
      "Testing for epoch 47 index 2:\n",
      "65/65 [==============================] - 0s 651us/step\n",
      "16/16 [==============================] - 0s 1ms/step - loss: 0.0134\n",
      "16/16 [==============================] - 0s 964us/step - loss: 4.5026\n"
     ]
    },
    {
     "name": "stderr",
     "output_type": "stream",
     "text": [
      "2023-05-14 10:01:38.939211: I tensorflow/core/common_runtime/executor.cc:1197] [/device:CPU:0] (DEBUG INFO) Executor start aborting (this does not indicate an error and you can ignore this message): INVALID_ARGUMENT: You must feed a value for placeholder tensor 'Placeholder/_1' with dtype int64 and shape [1000]\n",
      "\t [[{{node Placeholder/_1}}]]\n"
     ]
    },
    {
     "name": "stdout",
     "output_type": "stream",
     "text": [
      "16/16 [==============================] - 0s 996us/step - loss: 4.5026\n",
      "16/16 [==============================] - 0s 855us/step - loss: 4.5026\n",
      "16/16 [==============================] - 0s 1ms/step - loss: 4.5026\n",
      "16/16 [==============================] - 0s 1ms/step - loss: 4.5026\n",
      "16/16 [==============================] - 0s 837us/step - loss: 4.5026\n",
      "16/16 [==============================] - 0s 1ms/step - loss: 4.5026\n",
      "16/16 [==============================] - 0s 1ms/step - loss: 4.5026\n",
      "16/16 [==============================] - 0s 932us/step - loss: 4.5026\n",
      "\n",
      "Testing for epoch 47 index 3:\n",
      "65/65 [==============================] - 0s 574us/step\n",
      "16/16 [==============================] - 0s 1ms/step - loss: 0.0133\n",
      "16/16 [==============================] - 0s 834us/step - loss: 4.3924\n"
     ]
    },
    {
     "name": "stderr",
     "output_type": "stream",
     "text": [
      "2023-05-14 10:01:39.798809: I tensorflow/core/common_runtime/executor.cc:1197] [/device:CPU:0] (DEBUG INFO) Executor start aborting (this does not indicate an error and you can ignore this message): INVALID_ARGUMENT: You must feed a value for placeholder tensor 'Placeholder/_1' with dtype int64 and shape [1000]\n",
      "\t [[{{node Placeholder/_1}}]]\n"
     ]
    },
    {
     "name": "stdout",
     "output_type": "stream",
     "text": [
      "16/16 [==============================] - 0s 984us/step - loss: 4.3924\n",
      "16/16 [==============================] - 0s 977us/step - loss: 4.3924\n",
      "16/16 [==============================] - 0s 964us/step - loss: 4.3924\n",
      "16/16 [==============================] - 0s 1ms/step - loss: 4.3924\n",
      "16/16 [==============================] - 0s 971us/step - loss: 4.3924\n",
      "16/16 [==============================] - 0s 1ms/step - loss: 4.3924\n",
      "16/16 [==============================] - 0s 1ms/step - loss: 4.3924\n",
      "16/16 [==============================] - 0s 966us/step - loss: 4.3924\n",
      "\n",
      "Testing for epoch 47 index 4:\n",
      "65/65 [==============================] - 0s 628us/step\n",
      "16/16 [==============================] - 0s 988us/step - loss: 0.0132\n",
      "16/16 [==============================] - 0s 962us/step - loss: 4.4831\n"
     ]
    },
    {
     "name": "stderr",
     "output_type": "stream",
     "text": [
      "2023-05-14 10:01:40.656356: I tensorflow/core/common_runtime/executor.cc:1197] [/device:CPU:0] (DEBUG INFO) Executor start aborting (this does not indicate an error and you can ignore this message): INVALID_ARGUMENT: You must feed a value for placeholder tensor 'Placeholder/_1' with dtype int64 and shape [1000]\n",
      "\t [[{{node Placeholder/_1}}]]\n"
     ]
    },
    {
     "name": "stdout",
     "output_type": "stream",
     "text": [
      "16/16 [==============================] - 0s 1ms/step - loss: 4.4831\n",
      "16/16 [==============================] - 0s 919us/step - loss: 4.4831\n",
      "16/16 [==============================] - 0s 961us/step - loss: 4.4831\n",
      "16/16 [==============================] - 0s 811us/step - loss: 4.4831\n",
      "16/16 [==============================] - 0s 1ms/step - loss: 4.4831\n",
      "16/16 [==============================] - 0s 1ms/step - loss: 4.4831\n",
      "16/16 [==============================] - 0s 948us/step - loss: 4.4831\n",
      "16/16 [==============================] - 0s 937us/step - loss: 4.4831\n",
      "Epoch 48 of 60\n",
      "\n",
      "Testing for epoch 48 index 1:\n",
      "65/65 [==============================] - 0s 594us/step\n",
      "16/16 [==============================] - 0s 1ms/step - loss: 0.0132\n",
      "16/16 [==============================] - 0s 949us/step - loss: 4.4937\n"
     ]
    },
    {
     "name": "stderr",
     "output_type": "stream",
     "text": [
      "2023-05-14 10:01:41.509075: I tensorflow/core/common_runtime/executor.cc:1197] [/device:CPU:0] (DEBUG INFO) Executor start aborting (this does not indicate an error and you can ignore this message): INVALID_ARGUMENT: You must feed a value for placeholder tensor 'Placeholder/_1' with dtype int64 and shape [1000]\n",
      "\t [[{{node Placeholder/_1}}]]\n"
     ]
    },
    {
     "name": "stdout",
     "output_type": "stream",
     "text": [
      "16/16 [==============================] - 0s 2ms/step - loss: 4.4937\n",
      "16/16 [==============================] - 0s 1ms/step - loss: 4.4937\n",
      "16/16 [==============================] - 0s 1ms/step - loss: 4.4937\n",
      "16/16 [==============================] - 0s 1ms/step - loss: 4.4937\n",
      "16/16 [==============================] - 0s 2ms/step - loss: 4.4937\n",
      "16/16 [==============================] - 0s 1ms/step - loss: 4.4937\n",
      "16/16 [==============================] - 0s 968us/step - loss: 4.4937\n",
      "16/16 [==============================] - 0s 987us/step - loss: 4.4937\n",
      "\n",
      "Testing for epoch 48 index 2:\n",
      "65/65 [==============================] - 0s 623us/step\n",
      "16/16 [==============================] - 0s 926us/step - loss: 0.0131\n",
      "16/16 [==============================] - 0s 967us/step - loss: 4.5038\n"
     ]
    },
    {
     "name": "stderr",
     "output_type": "stream",
     "text": [
      "2023-05-14 10:01:42.417272: I tensorflow/core/common_runtime/executor.cc:1197] [/device:CPU:0] (DEBUG INFO) Executor start aborting (this does not indicate an error and you can ignore this message): INVALID_ARGUMENT: You must feed a value for placeholder tensor 'Placeholder/_1' with dtype int64 and shape [1000]\n",
      "\t [[{{node Placeholder/_1}}]]\n"
     ]
    },
    {
     "name": "stdout",
     "output_type": "stream",
     "text": [
      "16/16 [==============================] - 0s 1ms/step - loss: 4.5038\n",
      "16/16 [==============================] - 0s 1ms/step - loss: 4.5038\n",
      "16/16 [==============================] - 0s 883us/step - loss: 4.5038\n",
      "16/16 [==============================] - 0s 876us/step - loss: 4.5038\n",
      "16/16 [==============================] - 0s 943us/step - loss: 4.5038\n",
      "16/16 [==============================] - 0s 1ms/step - loss: 4.5038\n",
      "16/16 [==============================] - 0s 989us/step - loss: 4.5038\n",
      "16/16 [==============================] - 0s 1ms/step - loss: 4.5038\n",
      "\n",
      "Testing for epoch 48 index 3:\n",
      "65/65 [==============================] - 0s 631us/step\n",
      "16/16 [==============================] - 0s 1ms/step - loss: 0.0130\n",
      "16/16 [==============================] - 0s 1ms/step - loss: 4.4236\n"
     ]
    },
    {
     "name": "stderr",
     "output_type": "stream",
     "text": [
      "2023-05-14 10:01:43.244004: I tensorflow/core/common_runtime/executor.cc:1197] [/device:CPU:0] (DEBUG INFO) Executor start aborting (this does not indicate an error and you can ignore this message): INVALID_ARGUMENT: You must feed a value for placeholder tensor 'Placeholder/_1' with dtype int64 and shape [1000]\n",
      "\t [[{{node Placeholder/_1}}]]\n"
     ]
    },
    {
     "name": "stdout",
     "output_type": "stream",
     "text": [
      "16/16 [==============================] - 0s 1ms/step - loss: 4.4236\n",
      "16/16 [==============================] - 0s 935us/step - loss: 4.4236\n",
      "16/16 [==============================] - 0s 952us/step - loss: 4.4236\n",
      "16/16 [==============================] - 0s 945us/step - loss: 4.4236\n",
      "16/16 [==============================] - 0s 969us/step - loss: 4.4236\n",
      "16/16 [==============================] - 0s 1ms/step - loss: 4.4236\n",
      "16/16 [==============================] - 0s 1ms/step - loss: 4.4236\n",
      "16/16 [==============================] - 0s 935us/step - loss: 4.4236\n",
      "\n",
      "Testing for epoch 48 index 4:\n",
      "65/65 [==============================] - 0s 582us/step\n",
      "16/16 [==============================] - 0s 934us/step - loss: 0.0128\n",
      "16/16 [==============================] - 0s 1ms/step - loss: 4.4570\n",
      " 1/16 [>.............................] - ETA: 0s - loss: 4.3707"
     ]
    },
    {
     "name": "stderr",
     "output_type": "stream",
     "text": [
      "2023-05-14 10:01:44.121806: I tensorflow/core/common_runtime/executor.cc:1197] [/device:CPU:0] (DEBUG INFO) Executor start aborting (this does not indicate an error and you can ignore this message): INVALID_ARGUMENT: You must feed a value for placeholder tensor 'Placeholder/_1' with dtype int64 and shape [1000]\n",
      "\t [[{{node Placeholder/_1}}]]\n"
     ]
    },
    {
     "name": "stdout",
     "output_type": "stream",
     "text": [
      "16/16 [==============================] - 0s 975us/step - loss: 4.4570\n",
      "16/16 [==============================] - 0s 1ms/step - loss: 4.4570\n",
      "16/16 [==============================] - 0s 850us/step - loss: 4.4570\n",
      "16/16 [==============================] - 0s 1ms/step - loss: 4.4570\n",
      "16/16 [==============================] - 0s 1ms/step - loss: 4.4570\n",
      "16/16 [==============================] - 0s 1ms/step - loss: 4.4570\n",
      "16/16 [==============================] - 0s 917us/step - loss: 4.4570\n",
      "16/16 [==============================] - 0s 1ms/step - loss: 4.4570\n",
      "Epoch 49 of 60\n",
      "\n",
      "Testing for epoch 49 index 1:\n",
      "65/65 [==============================] - 0s 2ms/step\n"
     ]
    },
    {
     "name": "stderr",
     "output_type": "stream",
     "text": [
      "2023-05-14 10:01:44.983257: I tensorflow/core/common_runtime/executor.cc:1197] [/device:CPU:0] (DEBUG INFO) Executor start aborting (this does not indicate an error and you can ignore this message): INVALID_ARGUMENT: You must feed a value for placeholder tensor 'Placeholder/_1' with dtype int64 and shape [1000]\n",
      "\t [[{{node Placeholder/_1}}]]\n"
     ]
    },
    {
     "name": "stdout",
     "output_type": "stream",
     "text": [
      "16/16 [==============================] - 0s 1ms/step - loss: 0.0127\n",
      "16/16 [==============================] - 0s 925us/step - loss: 4.4865\n",
      "16/16 [==============================] - 0s 1ms/step - loss: 4.4865\n",
      "16/16 [==============================] - 0s 1ms/step - loss: 4.4865\n",
      "16/16 [==============================] - 0s 1ms/step - loss: 4.4865\n",
      "16/16 [==============================] - 0s 796us/step - loss: 4.4865\n",
      "16/16 [==============================] - 0s 841us/step - loss: 4.4865\n",
      "16/16 [==============================] - 0s 942us/step - loss: 4.4865\n",
      "16/16 [==============================] - 0s 897us/step - loss: 4.4865\n",
      "16/16 [==============================] - 0s 1ms/step - loss: 4.4865\n",
      "\n",
      "Testing for epoch 49 index 2:\n",
      "65/65 [==============================] - 0s 615us/step\n",
      "16/16 [==============================] - 0s 962us/step - loss: 0.0127\n",
      "16/16 [==============================] - 0s 894us/step - loss: 4.5032\n"
     ]
    },
    {
     "name": "stderr",
     "output_type": "stream",
     "text": [
      "2023-05-14 10:01:45.936941: I tensorflow/core/common_runtime/executor.cc:1197] [/device:CPU:0] (DEBUG INFO) Executor start aborting (this does not indicate an error and you can ignore this message): INVALID_ARGUMENT: You must feed a value for placeholder tensor 'Placeholder/_1' with dtype int64 and shape [1000]\n",
      "\t [[{{node Placeholder/_1}}]]\n"
     ]
    },
    {
     "name": "stdout",
     "output_type": "stream",
     "text": [
      "16/16 [==============================] - 0s 825us/step - loss: 4.5032\n",
      "16/16 [==============================] - 0s 983us/step - loss: 4.5032\n",
      "16/16 [==============================] - 0s 878us/step - loss: 4.5032\n",
      "16/16 [==============================] - 0s 905us/step - loss: 4.5032\n",
      "16/16 [==============================] - 0s 1ms/step - loss: 4.5032\n",
      "16/16 [==============================] - 0s 1ms/step - loss: 4.5032\n",
      "16/16 [==============================] - 0s 934us/step - loss: 4.5032\n",
      "16/16 [==============================] - 0s 931us/step - loss: 4.5032\n",
      "\n",
      "Testing for epoch 49 index 3:\n",
      "65/65 [==============================] - 0s 579us/step\n",
      "16/16 [==============================] - 0s 1ms/step - loss: 0.0125\n",
      "16/16 [==============================] - 0s 1ms/step - loss: 4.5065\n"
     ]
    },
    {
     "name": "stderr",
     "output_type": "stream",
     "text": [
      "2023-05-14 10:01:46.774124: I tensorflow/core/common_runtime/executor.cc:1197] [/device:CPU:0] (DEBUG INFO) Executor start aborting (this does not indicate an error and you can ignore this message): INVALID_ARGUMENT: You must feed a value for placeholder tensor 'Placeholder/_1' with dtype int64 and shape [1000]\n",
      "\t [[{{node Placeholder/_1}}]]\n"
     ]
    },
    {
     "name": "stdout",
     "output_type": "stream",
     "text": [
      "16/16 [==============================] - 0s 1ms/step - loss: 4.5065\n",
      "16/16 [==============================] - 0s 1ms/step - loss: 4.5065\n",
      "16/16 [==============================] - 0s 2ms/step - loss: 4.5065\n",
      "16/16 [==============================] - 0s 900us/step - loss: 4.5065\n",
      "16/16 [==============================] - 0s 1ms/step - loss: 4.5065\n",
      "16/16 [==============================] - 0s 983us/step - loss: 4.5065\n",
      "16/16 [==============================] - 0s 848us/step - loss: 4.5065\n",
      "16/16 [==============================] - 0s 954us/step - loss: 4.5065\n",
      "\n",
      "Testing for epoch 49 index 4:\n",
      "65/65 [==============================] - 0s 577us/step\n",
      "16/16 [==============================] - 0s 881us/step - loss: 0.0125\n",
      "16/16 [==============================] - 0s 1ms/step - loss: 4.4935\n"
     ]
    },
    {
     "name": "stderr",
     "output_type": "stream",
     "text": [
      "2023-05-14 10:01:47.667977: I tensorflow/core/common_runtime/executor.cc:1197] [/device:CPU:0] (DEBUG INFO) Executor start aborting (this does not indicate an error and you can ignore this message): INVALID_ARGUMENT: You must feed a value for placeholder tensor 'Placeholder/_1' with dtype int64 and shape [1000]\n",
      "\t [[{{node Placeholder/_1}}]]\n"
     ]
    },
    {
     "name": "stdout",
     "output_type": "stream",
     "text": [
      "16/16 [==============================] - 0s 1ms/step - loss: 4.4935\n",
      "16/16 [==============================] - 0s 875us/step - loss: 4.4935\n",
      "16/16 [==============================] - 0s 911us/step - loss: 4.4935\n",
      "16/16 [==============================] - 0s 1ms/step - loss: 4.4935\n",
      "16/16 [==============================] - 0s 959us/step - loss: 4.4935\n",
      "16/16 [==============================] - 0s 961us/step - loss: 4.4935\n",
      "16/16 [==============================] - 0s 998us/step - loss: 4.4935\n",
      "16/16 [==============================] - 0s 955us/step - loss: 4.4935\n",
      "Epoch 50 of 60\n",
      "\n",
      "Testing for epoch 50 index 1:\n",
      "65/65 [==============================] - 0s 536us/step\n",
      "16/16 [==============================] - 0s 815us/step - loss: 0.0125\n",
      "16/16 [==============================] - 0s 916us/step - loss: 4.4991\n",
      " 1/16 [>.............................] - ETA: 0s - loss: 4.6579"
     ]
    },
    {
     "name": "stderr",
     "output_type": "stream",
     "text": [
      "2023-05-14 10:01:48.481850: I tensorflow/core/common_runtime/executor.cc:1197] [/device:CPU:0] (DEBUG INFO) Executor start aborting (this does not indicate an error and you can ignore this message): INVALID_ARGUMENT: You must feed a value for placeholder tensor 'Placeholder/_1' with dtype int64 and shape [1000]\n",
      "\t [[{{node Placeholder/_1}}]]\n"
     ]
    },
    {
     "name": "stdout",
     "output_type": "stream",
     "text": [
      "16/16 [==============================] - 0s 776us/step - loss: 4.4991\n",
      "16/16 [==============================] - 0s 843us/step - loss: 4.4991\n",
      "16/16 [==============================] - 0s 844us/step - loss: 4.4991\n",
      "16/16 [==============================] - 0s 844us/step - loss: 4.4991\n",
      "16/16 [==============================] - 0s 801us/step - loss: 4.4991\n",
      "16/16 [==============================] - 0s 818us/step - loss: 4.4991\n",
      "16/16 [==============================] - 0s 738us/step - loss: 4.4991\n",
      "16/16 [==============================] - 0s 769us/step - loss: 4.4991\n",
      "\n",
      "Testing for epoch 50 index 2:\n",
      "65/65 [==============================] - 0s 532us/step\n",
      "16/16 [==============================] - 0s 864us/step - loss: 0.0123\n",
      "16/16 [==============================] - 0s 753us/step - loss: 4.5761\n",
      "16/16 [==============================] - 0s 793us/step - loss: 4.5761\n"
     ]
    },
    {
     "name": "stderr",
     "output_type": "stream",
     "text": [
      "2023-05-14 10:01:49.252341: I tensorflow/core/common_runtime/executor.cc:1197] [/device:CPU:0] (DEBUG INFO) Executor start aborting (this does not indicate an error and you can ignore this message): INVALID_ARGUMENT: You must feed a value for placeholder tensor 'Placeholder/_1' with dtype int64 and shape [1000]\n",
      "\t [[{{node Placeholder/_1}}]]\n"
     ]
    },
    {
     "name": "stdout",
     "output_type": "stream",
     "text": [
      "16/16 [==============================] - 0s 891us/step - loss: 4.5761\n",
      "16/16 [==============================] - 0s 897us/step - loss: 4.5761\n",
      "16/16 [==============================] - 0s 837us/step - loss: 4.5761\n",
      "16/16 [==============================] - 0s 845us/step - loss: 4.5761\n",
      "16/16 [==============================] - 0s 829us/step - loss: 4.5761\n",
      "16/16 [==============================] - 0s 897us/step - loss: 4.5761\n",
      "16/16 [==============================] - 0s 962us/step - loss: 4.5761\n",
      "\n",
      "Testing for epoch 50 index 3:\n",
      "65/65 [==============================] - 0s 506us/step\n",
      "16/16 [==============================] - 0s 774us/step - loss: 0.0123\n",
      "16/16 [==============================] - 0s 778us/step - loss: 4.5067\n",
      "16/16 [==============================] - 0s 846us/step - loss: 4.5067\n"
     ]
    },
    {
     "name": "stderr",
     "output_type": "stream",
     "text": [
      "2023-05-14 10:01:50.010208: I tensorflow/core/common_runtime/executor.cc:1197] [/device:CPU:0] (DEBUG INFO) Executor start aborting (this does not indicate an error and you can ignore this message): INVALID_ARGUMENT: You must feed a value for placeholder tensor 'Placeholder/_1' with dtype int64 and shape [1000]\n",
      "\t [[{{node Placeholder/_1}}]]\n"
     ]
    },
    {
     "name": "stdout",
     "output_type": "stream",
     "text": [
      "16/16 [==============================] - 0s 899us/step - loss: 4.5067\n",
      "16/16 [==============================] - 0s 805us/step - loss: 4.5067\n",
      "16/16 [==============================] - 0s 881us/step - loss: 4.5067\n",
      "16/16 [==============================] - 0s 858us/step - loss: 4.5067\n",
      "16/16 [==============================] - 0s 903us/step - loss: 4.5067\n",
      "16/16 [==============================] - 0s 816us/step - loss: 4.5067\n",
      "16/16 [==============================] - 0s 857us/step - loss: 4.5067\n",
      "\n",
      "Testing for epoch 50 index 4:\n",
      "65/65 [==============================] - 0s 528us/step\n",
      "16/16 [==============================] - 0s 874us/step - loss: 0.0122\n",
      "16/16 [==============================] - 0s 780us/step - loss: 4.5482\n",
      " 1/16 [>.............................] - ETA: 0s - loss: 4.4193"
     ]
    },
    {
     "name": "stderr",
     "output_type": "stream",
     "text": [
      "2023-05-14 10:01:50.773293: I tensorflow/core/common_runtime/executor.cc:1197] [/device:CPU:0] (DEBUG INFO) Executor start aborting (this does not indicate an error and you can ignore this message): INVALID_ARGUMENT: You must feed a value for placeholder tensor 'Placeholder/_1' with dtype int64 and shape [1000]\n",
      "\t [[{{node Placeholder/_1}}]]\n"
     ]
    },
    {
     "name": "stdout",
     "output_type": "stream",
     "text": [
      "16/16 [==============================] - 0s 890us/step - loss: 4.5482\n",
      "16/16 [==============================] - 0s 918us/step - loss: 4.5482\n",
      "16/16 [==============================] - 0s 796us/step - loss: 4.5482\n",
      "16/16 [==============================] - 0s 831us/step - loss: 4.5482\n",
      "16/16 [==============================] - 0s 745us/step - loss: 4.5482\n",
      "16/16 [==============================] - 0s 795us/step - loss: 4.5482\n",
      "16/16 [==============================] - 0s 815us/step - loss: 4.5482\n",
      "16/16 [==============================] - 0s 717us/step - loss: 4.5482\n",
      "Epoch 51 of 60\n",
      "\n",
      "Testing for epoch 51 index 1:\n",
      "65/65 [==============================] - 0s 507us/step\n",
      "16/16 [==============================] - 0s 808us/step - loss: 0.0122\n",
      "16/16 [==============================] - 0s 843us/step - loss: 4.5423\n",
      "16/16 [==============================] - 0s 826us/step - loss: 4.5423\n"
     ]
    },
    {
     "name": "stderr",
     "output_type": "stream",
     "text": [
      "2023-05-14 10:01:51.532175: I tensorflow/core/common_runtime/executor.cc:1197] [/device:CPU:0] (DEBUG INFO) Executor start aborting (this does not indicate an error and you can ignore this message): INVALID_ARGUMENT: You must feed a value for placeholder tensor 'Placeholder/_1' with dtype int64 and shape [1000]\n",
      "\t [[{{node Placeholder/_1}}]]\n"
     ]
    },
    {
     "name": "stdout",
     "output_type": "stream",
     "text": [
      "16/16 [==============================] - 0s 1ms/step - loss: 4.5423\n",
      "16/16 [==============================] - 0s 824us/step - loss: 4.5423\n",
      "16/16 [==============================] - 0s 879us/step - loss: 4.5423\n",
      "16/16 [==============================] - 0s 786us/step - loss: 4.5423\n",
      "16/16 [==============================] - 0s 761us/step - loss: 4.5423\n",
      "16/16 [==============================] - 0s 716us/step - loss: 4.5423\n",
      "16/16 [==============================] - 0s 837us/step - loss: 4.5423\n",
      "\n",
      "Testing for epoch 51 index 2:\n",
      "65/65 [==============================] - 0s 504us/step\n",
      "16/16 [==============================] - 0s 868us/step - loss: 0.0120\n",
      "16/16 [==============================] - 0s 792us/step - loss: 4.5396\n",
      " 1/16 [>.............................] - ETA: 0s - loss: 4.3178"
     ]
    },
    {
     "name": "stderr",
     "output_type": "stream",
     "text": [
      "2023-05-14 10:01:52.290459: I tensorflow/core/common_runtime/executor.cc:1197] [/device:CPU:0] (DEBUG INFO) Executor start aborting (this does not indicate an error and you can ignore this message): INVALID_ARGUMENT: You must feed a value for placeholder tensor 'Placeholder/_1' with dtype int64 and shape [1000]\n",
      "\t [[{{node Placeholder/_1}}]]\n"
     ]
    },
    {
     "name": "stdout",
     "output_type": "stream",
     "text": [
      "16/16 [==============================] - 0s 2ms/step - loss: 4.5396\n",
      "16/16 [==============================] - 0s 939us/step - loss: 4.5396\n",
      "16/16 [==============================] - 0s 824us/step - loss: 4.5396\n",
      "16/16 [==============================] - 0s 896us/step - loss: 4.5396\n",
      "16/16 [==============================] - 0s 831us/step - loss: 4.5396\n",
      "16/16 [==============================] - 0s 824us/step - loss: 4.5396\n",
      "16/16 [==============================] - 0s 947us/step - loss: 4.5396\n",
      "16/16 [==============================] - 0s 845us/step - loss: 4.5396\n",
      "\n",
      "Testing for epoch 51 index 3:\n",
      "65/65 [==============================] - 0s 519us/step\n",
      "16/16 [==============================] - 0s 794us/step - loss: 0.0120\n",
      "16/16 [==============================] - 0s 795us/step - loss: 4.5105\n",
      "16/16 [==============================] - 0s 799us/step - loss: 4.5105\n"
     ]
    },
    {
     "name": "stderr",
     "output_type": "stream",
     "text": [
      "2023-05-14 10:01:53.059181: I tensorflow/core/common_runtime/executor.cc:1197] [/device:CPU:0] (DEBUG INFO) Executor start aborting (this does not indicate an error and you can ignore this message): INVALID_ARGUMENT: You must feed a value for placeholder tensor 'Placeholder/_1' with dtype int64 and shape [1000]\n",
      "\t [[{{node Placeholder/_1}}]]\n"
     ]
    },
    {
     "name": "stdout",
     "output_type": "stream",
     "text": [
      "16/16 [==============================] - 0s 894us/step - loss: 4.5105\n",
      "16/16 [==============================] - 0s 797us/step - loss: 4.5105\n",
      "16/16 [==============================] - 0s 830us/step - loss: 4.5105\n",
      "16/16 [==============================] - 0s 862us/step - loss: 4.5105\n",
      "16/16 [==============================] - 0s 744us/step - loss: 4.5105\n",
      "16/16 [==============================] - 0s 868us/step - loss: 4.5105\n",
      "16/16 [==============================] - 0s 842us/step - loss: 4.5105\n",
      "\n",
      "Testing for epoch 51 index 4:\n",
      "65/65 [==============================] - 0s 505us/step\n",
      "16/16 [==============================] - 0s 892us/step - loss: 0.0119\n",
      "16/16 [==============================] - 0s 856us/step - loss: 4.5737\n",
      " 1/16 [>.............................] - ETA: 0s - loss: 4.4632"
     ]
    },
    {
     "name": "stderr",
     "output_type": "stream",
     "text": [
      "2023-05-14 10:01:53.807160: I tensorflow/core/common_runtime/executor.cc:1197] [/device:CPU:0] (DEBUG INFO) Executor start aborting (this does not indicate an error and you can ignore this message): INVALID_ARGUMENT: You must feed a value for placeholder tensor 'Placeholder/_1' with dtype int64 and shape [1000]\n",
      "\t [[{{node Placeholder/_1}}]]\n"
     ]
    },
    {
     "name": "stdout",
     "output_type": "stream",
     "text": [
      "16/16 [==============================] - 0s 910us/step - loss: 4.5737\n",
      "16/16 [==============================] - 0s 824us/step - loss: 4.5737\n",
      "16/16 [==============================] - 0s 790us/step - loss: 4.5737\n",
      "16/16 [==============================] - 0s 806us/step - loss: 4.5737\n",
      "16/16 [==============================] - 0s 749us/step - loss: 4.5737\n",
      "16/16 [==============================] - 0s 838us/step - loss: 4.5737\n",
      "16/16 [==============================] - 0s 828us/step - loss: 4.5737\n",
      "16/16 [==============================] - 0s 738us/step - loss: 4.5737\n",
      "Epoch 52 of 60\n",
      "\n",
      "Testing for epoch 52 index 1:\n",
      "65/65 [==============================] - 0s 529us/step\n",
      "16/16 [==============================] - 0s 795us/step - loss: 0.0118\n",
      "16/16 [==============================] - 0s 807us/step - loss: 4.5576\n",
      "16/16 [==============================] - 0s 773us/step - loss: 4.5576\n"
     ]
    },
    {
     "name": "stderr",
     "output_type": "stream",
     "text": [
      "2023-05-14 10:01:54.574184: I tensorflow/core/common_runtime/executor.cc:1197] [/device:CPU:0] (DEBUG INFO) Executor start aborting (this does not indicate an error and you can ignore this message): INVALID_ARGUMENT: You must feed a value for placeholder tensor 'Placeholder/_1' with dtype int64 and shape [1000]\n",
      "\t [[{{node Placeholder/_1}}]]\n"
     ]
    },
    {
     "name": "stdout",
     "output_type": "stream",
     "text": [
      "16/16 [==============================] - 0s 865us/step - loss: 4.5576\n",
      "16/16 [==============================] - 0s 799us/step - loss: 4.5576\n",
      "16/16 [==============================] - 0s 754us/step - loss: 4.5576\n",
      "16/16 [==============================] - 0s 793us/step - loss: 4.5576\n",
      "16/16 [==============================] - 0s 776us/step - loss: 4.5576\n",
      "16/16 [==============================] - 0s 777us/step - loss: 4.5576\n",
      "16/16 [==============================] - 0s 767us/step - loss: 4.5576\n",
      "\n",
      "Testing for epoch 52 index 2:\n",
      "65/65 [==============================] - 0s 534us/step\n",
      "16/16 [==============================] - 0s 835us/step - loss: 0.0117\n",
      "16/16 [==============================] - 0s 870us/step - loss: 4.5903\n",
      " 1/16 [>.............................] - ETA: 0s - loss: 4.5774"
     ]
    },
    {
     "name": "stderr",
     "output_type": "stream",
     "text": [
      "2023-05-14 10:01:55.334921: I tensorflow/core/common_runtime/executor.cc:1197] [/device:CPU:0] (DEBUG INFO) Executor start aborting (this does not indicate an error and you can ignore this message): INVALID_ARGUMENT: You must feed a value for placeholder tensor 'Placeholder/_1' with dtype int64 and shape [1000]\n",
      "\t [[{{node Placeholder/_1}}]]\n"
     ]
    },
    {
     "name": "stdout",
     "output_type": "stream",
     "text": [
      "16/16 [==============================] - 0s 755us/step - loss: 4.5903\n",
      "16/16 [==============================] - 0s 925us/step - loss: 4.5903\n",
      "16/16 [==============================] - 0s 848us/step - loss: 4.5903\n",
      "16/16 [==============================] - 0s 841us/step - loss: 4.5903\n",
      "16/16 [==============================] - 0s 816us/step - loss: 4.5903\n",
      "16/16 [==============================] - 0s 856us/step - loss: 4.5903\n",
      "16/16 [==============================] - 0s 903us/step - loss: 4.5903\n",
      "16/16 [==============================] - 0s 810us/step - loss: 4.5903\n",
      "\n",
      "Testing for epoch 52 index 3:\n",
      "65/65 [==============================] - 0s 545us/step\n",
      "16/16 [==============================] - 0s 845us/step - loss: 0.0117\n",
      "16/16 [==============================] - 0s 877us/step - loss: 4.5920\n"
     ]
    },
    {
     "name": "stderr",
     "output_type": "stream",
     "text": [
      "2023-05-14 10:01:56.118048: I tensorflow/core/common_runtime/executor.cc:1197] [/device:CPU:0] (DEBUG INFO) Executor start aborting (this does not indicate an error and you can ignore this message): INVALID_ARGUMENT: You must feed a value for placeholder tensor 'Placeholder/_1' with dtype int64 and shape [1000]\n",
      "\t [[{{node Placeholder/_1}}]]\n"
     ]
    },
    {
     "name": "stdout",
     "output_type": "stream",
     "text": [
      "16/16 [==============================] - 0s 826us/step - loss: 4.5920\n",
      "16/16 [==============================] - 0s 894us/step - loss: 4.5920\n",
      "16/16 [==============================] - 0s 817us/step - loss: 4.5920\n",
      "16/16 [==============================] - 0s 868us/step - loss: 4.5920\n",
      "16/16 [==============================] - 0s 928us/step - loss: 4.5920\n",
      "16/16 [==============================] - 0s 848us/step - loss: 4.5920\n",
      "16/16 [==============================] - 0s 818us/step - loss: 4.5920\n",
      "16/16 [==============================] - 0s 865us/step - loss: 4.5920\n",
      "\n",
      "Testing for epoch 52 index 4:\n",
      "65/65 [==============================] - 0s 518us/step\n",
      "16/16 [==============================] - 0s 833us/step - loss: 0.0117\n",
      "16/16 [==============================] - 0s 924us/step - loss: 4.6009\n"
     ]
    },
    {
     "name": "stderr",
     "output_type": "stream",
     "text": [
      "2023-05-14 10:01:57.209199: I tensorflow/core/common_runtime/executor.cc:1197] [/device:CPU:0] (DEBUG INFO) Executor start aborting (this does not indicate an error and you can ignore this message): INVALID_ARGUMENT: You must feed a value for placeholder tensor 'Placeholder/_1' with dtype int64 and shape [1000]\n",
      "\t [[{{node Placeholder/_1}}]]\n"
     ]
    },
    {
     "name": "stdout",
     "output_type": "stream",
     "text": [
      "16/16 [==============================] - 0s 758us/step - loss: 4.6009\n",
      "16/16 [==============================] - 0s 826us/step - loss: 4.6009\n",
      "16/16 [==============================] - 0s 788us/step - loss: 4.6009\n",
      "16/16 [==============================] - 0s 783us/step - loss: 4.6009\n",
      "16/16 [==============================] - 0s 836us/step - loss: 4.6009\n",
      "16/16 [==============================] - 0s 814us/step - loss: 4.6009\n",
      "16/16 [==============================] - 0s 769us/step - loss: 4.6009\n",
      "16/16 [==============================] - 0s 825us/step - loss: 4.6009\n",
      "Epoch 53 of 60\n",
      "\n",
      "Testing for epoch 53 index 1:\n",
      "65/65 [==============================] - 0s 520us/step\n",
      "16/16 [==============================] - 0s 776us/step - loss: 0.0116\n",
      "16/16 [==============================] - 0s 876us/step - loss: 4.6122\n"
     ]
    },
    {
     "name": "stderr",
     "output_type": "stream",
     "text": [
      "2023-05-14 10:01:58.064629: I tensorflow/core/common_runtime/executor.cc:1197] [/device:CPU:0] (DEBUG INFO) Executor start aborting (this does not indicate an error and you can ignore this message): INVALID_ARGUMENT: You must feed a value for placeholder tensor 'Placeholder/_1' with dtype int64 and shape [1000]\n",
      "\t [[{{node Placeholder/_1}}]]\n"
     ]
    },
    {
     "name": "stdout",
     "output_type": "stream",
     "text": [
      "16/16 [==============================] - 0s 742us/step - loss: 4.6122\n",
      "16/16 [==============================] - 0s 788us/step - loss: 4.6122\n",
      "16/16 [==============================] - 0s 913us/step - loss: 4.6122\n",
      "16/16 [==============================] - 0s 757us/step - loss: 4.6122\n",
      "16/16 [==============================] - 0s 769us/step - loss: 4.6122\n",
      "16/16 [==============================] - 0s 861us/step - loss: 4.6122\n",
      "16/16 [==============================] - 0s 747us/step - loss: 4.6122\n",
      "16/16 [==============================] - 0s 784us/step - loss: 4.6122\n",
      "\n",
      "Testing for epoch 53 index 2:\n",
      "65/65 [==============================] - 0s 498us/step\n",
      "16/16 [==============================] - 0s 775us/step - loss: 0.0115\n",
      "16/16 [==============================] - 0s 769us/step - loss: 4.6022\n"
     ]
    },
    {
     "name": "stderr",
     "output_type": "stream",
     "text": [
      "2023-05-14 10:01:58.943500: I tensorflow/core/common_runtime/executor.cc:1197] [/device:CPU:0] (DEBUG INFO) Executor start aborting (this does not indicate an error and you can ignore this message): INVALID_ARGUMENT: You must feed a value for placeholder tensor 'Placeholder/_1' with dtype int64 and shape [1000]\n",
      "\t [[{{node Placeholder/_1}}]]\n"
     ]
    },
    {
     "name": "stdout",
     "output_type": "stream",
     "text": [
      "16/16 [==============================] - 0s 760us/step - loss: 4.6022\n",
      "16/16 [==============================] - 0s 786us/step - loss: 4.6022\n",
      "16/16 [==============================] - 0s 799us/step - loss: 4.6022\n",
      "16/16 [==============================] - 0s 842us/step - loss: 4.6022\n",
      "16/16 [==============================] - 0s 703us/step - loss: 4.6022\n",
      "16/16 [==============================] - 0s 911us/step - loss: 4.6022\n",
      "16/16 [==============================] - 0s 914us/step - loss: 4.6022\n",
      "16/16 [==============================] - 0s 798us/step - loss: 4.6022\n",
      "\n",
      "Testing for epoch 53 index 3:\n",
      "65/65 [==============================] - 0s 506us/step\n",
      "16/16 [==============================] - 0s 820us/step - loss: 0.0115\n",
      "16/16 [==============================] - 0s 897us/step - loss: 4.6065\n"
     ]
    },
    {
     "name": "stderr",
     "output_type": "stream",
     "text": [
      "2023-05-14 10:01:59.786954: I tensorflow/core/common_runtime/executor.cc:1197] [/device:CPU:0] (DEBUG INFO) Executor start aborting (this does not indicate an error and you can ignore this message): INVALID_ARGUMENT: You must feed a value for placeholder tensor 'Placeholder/_1' with dtype int64 and shape [1000]\n",
      "\t [[{{node Placeholder/_1}}]]\n"
     ]
    },
    {
     "name": "stdout",
     "output_type": "stream",
     "text": [
      "16/16 [==============================] - 0s 814us/step - loss: 4.6065\n",
      "16/16 [==============================] - 0s 840us/step - loss: 4.6065\n",
      "16/16 [==============================] - 0s 787us/step - loss: 4.6065\n",
      "16/16 [==============================] - 0s 749us/step - loss: 4.6065\n",
      "16/16 [==============================] - 0s 782us/step - loss: 4.6065\n",
      "16/16 [==============================] - 0s 827us/step - loss: 4.6065\n",
      "16/16 [==============================] - 0s 754us/step - loss: 4.6065\n",
      "16/16 [==============================] - 0s 745us/step - loss: 4.6065\n",
      "\n",
      "Testing for epoch 53 index 4:\n",
      "65/65 [==============================] - 0s 494us/step\n",
      "16/16 [==============================] - 0s 812us/step - loss: 0.0113\n",
      "16/16 [==============================] - 0s 856us/step - loss: 4.6331\n",
      "16/16 [==============================] - 0s 788us/step - loss: 4.6331\n"
     ]
    },
    {
     "name": "stderr",
     "output_type": "stream",
     "text": [
      "2023-05-14 10:02:00.600640: I tensorflow/core/common_runtime/executor.cc:1197] [/device:CPU:0] (DEBUG INFO) Executor start aborting (this does not indicate an error and you can ignore this message): INVALID_ARGUMENT: You must feed a value for placeholder tensor 'Placeholder/_1' with dtype int64 and shape [1000]\n",
      "\t [[{{node Placeholder/_1}}]]\n"
     ]
    },
    {
     "name": "stdout",
     "output_type": "stream",
     "text": [
      "16/16 [==============================] - 0s 832us/step - loss: 4.6331\n",
      "16/16 [==============================] - 0s 750us/step - loss: 4.6331\n",
      "16/16 [==============================] - 0s 694us/step - loss: 4.6331\n",
      "16/16 [==============================] - 0s 798us/step - loss: 4.6331\n",
      "16/16 [==============================] - 0s 829us/step - loss: 4.6331\n",
      "16/16 [==============================] - 0s 749us/step - loss: 4.6331\n",
      "16/16 [==============================] - 0s 730us/step - loss: 4.6331\n",
      "Epoch 54 of 60\n",
      "\n",
      "Testing for epoch 54 index 1:\n",
      "65/65 [==============================] - 0s 517us/step\n",
      "16/16 [==============================] - 0s 813us/step - loss: 0.0113\n",
      "16/16 [==============================] - 0s 839us/step - loss: 4.6369\n",
      "16/16 [==============================] - 0s 878us/step - loss: 4.6369\n"
     ]
    },
    {
     "name": "stderr",
     "output_type": "stream",
     "text": [
      "2023-05-14 10:02:01.380966: I tensorflow/core/common_runtime/executor.cc:1197] [/device:CPU:0] (DEBUG INFO) Executor start aborting (this does not indicate an error and you can ignore this message): INVALID_ARGUMENT: You must feed a value for placeholder tensor 'Placeholder/_1' with dtype int64 and shape [1000]\n",
      "\t [[{{node Placeholder/_1}}]]\n"
     ]
    },
    {
     "name": "stdout",
     "output_type": "stream",
     "text": [
      "16/16 [==============================] - 0s 922us/step - loss: 4.6369\n",
      "16/16 [==============================] - 0s 754us/step - loss: 4.6369\n",
      "16/16 [==============================] - 0s 841us/step - loss: 4.6369\n",
      "16/16 [==============================] - 0s 769us/step - loss: 4.6369\n",
      "16/16 [==============================] - 0s 797us/step - loss: 4.6369\n",
      "16/16 [==============================] - 0s 774us/step - loss: 4.6369\n",
      "16/16 [==============================] - 0s 845us/step - loss: 4.6369\n",
      "\n",
      "Testing for epoch 54 index 2:\n",
      "65/65 [==============================] - 0s 524us/step\n",
      "16/16 [==============================] - 0s 866us/step - loss: 0.0112\n",
      "16/16 [==============================] - 0s 741us/step - loss: 4.6364\n",
      "16/16 [==============================] - 0s 848us/step - loss: 4.6364\n"
     ]
    },
    {
     "name": "stderr",
     "output_type": "stream",
     "text": [
      "2023-05-14 10:02:02.140112: I tensorflow/core/common_runtime/executor.cc:1197] [/device:CPU:0] (DEBUG INFO) Executor start aborting (this does not indicate an error and you can ignore this message): INVALID_ARGUMENT: You must feed a value for placeholder tensor 'Placeholder/_1' with dtype int64 and shape [1000]\n",
      "\t [[{{node Placeholder/_1}}]]\n"
     ]
    },
    {
     "name": "stdout",
     "output_type": "stream",
     "text": [
      "16/16 [==============================] - 0s 853us/step - loss: 4.6364\n",
      "16/16 [==============================] - 0s 813us/step - loss: 4.6364\n",
      "16/16 [==============================] - 0s 802us/step - loss: 4.6364\n",
      "16/16 [==============================] - 0s 807us/step - loss: 4.6364\n",
      "16/16 [==============================] - 0s 749us/step - loss: 4.6364\n",
      "16/16 [==============================] - 0s 850us/step - loss: 4.6364\n",
      "16/16 [==============================] - 0s 814us/step - loss: 4.6364\n",
      "\n",
      "Testing for epoch 54 index 3:\n",
      "65/65 [==============================] - 0s 490us/step\n",
      "16/16 [==============================] - 0s 839us/step - loss: 0.0112\n",
      "16/16 [==============================] - 0s 835us/step - loss: 4.6274\n",
      "16/16 [==============================] - 0s 814us/step - loss: 4.6274\n"
     ]
    },
    {
     "name": "stderr",
     "output_type": "stream",
     "text": [
      "2023-05-14 10:02:02.884808: I tensorflow/core/common_runtime/executor.cc:1197] [/device:CPU:0] (DEBUG INFO) Executor start aborting (this does not indicate an error and you can ignore this message): INVALID_ARGUMENT: You must feed a value for placeholder tensor 'Placeholder/_1' with dtype int64 and shape [1000]\n",
      "\t [[{{node Placeholder/_1}}]]\n"
     ]
    },
    {
     "name": "stdout",
     "output_type": "stream",
     "text": [
      "16/16 [==============================] - 0s 886us/step - loss: 4.6274\n",
      "16/16 [==============================] - 0s 836us/step - loss: 4.6274\n",
      "16/16 [==============================] - 0s 861us/step - loss: 4.6274\n",
      "16/16 [==============================] - 0s 855us/step - loss: 4.6274\n",
      "16/16 [==============================] - 0s 830us/step - loss: 4.6274\n",
      "16/16 [==============================] - 0s 749us/step - loss: 4.6274\n",
      "16/16 [==============================] - 0s 889us/step - loss: 4.6274\n",
      "\n",
      "Testing for epoch 54 index 4:\n",
      "65/65 [==============================] - 0s 535us/step\n",
      "16/16 [==============================] - 0s 819us/step - loss: 0.0111\n",
      "16/16 [==============================] - 0s 875us/step - loss: 4.6533\n",
      "16/16 [==============================] - 0s 755us/step - loss: 4.6533\n"
     ]
    },
    {
     "name": "stderr",
     "output_type": "stream",
     "text": [
      "2023-05-14 10:02:03.647532: I tensorflow/core/common_runtime/executor.cc:1197] [/device:CPU:0] (DEBUG INFO) Executor start aborting (this does not indicate an error and you can ignore this message): INVALID_ARGUMENT: You must feed a value for placeholder tensor 'Placeholder/_1' with dtype int64 and shape [1000]\n",
      "\t [[{{node Placeholder/_1}}]]\n"
     ]
    },
    {
     "name": "stdout",
     "output_type": "stream",
     "text": [
      "16/16 [==============================] - 0s 823us/step - loss: 4.6533\n",
      "16/16 [==============================] - 0s 830us/step - loss: 4.6533\n",
      "16/16 [==============================] - 0s 784us/step - loss: 4.6533\n",
      "16/16 [==============================] - 0s 792us/step - loss: 4.6533\n",
      "16/16 [==============================] - 0s 870us/step - loss: 4.6533\n",
      "16/16 [==============================] - 0s 829us/step - loss: 4.6533\n",
      "16/16 [==============================] - 0s 842us/step - loss: 4.6533\n",
      "Epoch 55 of 60\n",
      "\n",
      "Testing for epoch 55 index 1:\n",
      "65/65 [==============================] - 0s 502us/step\n",
      "16/16 [==============================] - 0s 809us/step - loss: 0.0110\n",
      "16/16 [==============================] - 0s 788us/step - loss: 4.6656\n",
      "16/16 [==============================] - 0s 783us/step - loss: 4.6656\n"
     ]
    },
    {
     "name": "stderr",
     "output_type": "stream",
     "text": [
      "2023-05-14 10:02:04.418432: I tensorflow/core/common_runtime/executor.cc:1197] [/device:CPU:0] (DEBUG INFO) Executor start aborting (this does not indicate an error and you can ignore this message): INVALID_ARGUMENT: You must feed a value for placeholder tensor 'Placeholder/_1' with dtype int64 and shape [1000]\n",
      "\t [[{{node Placeholder/_1}}]]\n"
     ]
    },
    {
     "name": "stdout",
     "output_type": "stream",
     "text": [
      "16/16 [==============================] - 0s 859us/step - loss: 4.6656\n",
      "16/16 [==============================] - 0s 831us/step - loss: 4.6656\n",
      "16/16 [==============================] - 0s 881us/step - loss: 4.6656\n",
      "16/16 [==============================] - 0s 704us/step - loss: 4.6656\n",
      "16/16 [==============================] - 0s 796us/step - loss: 4.6656\n",
      "16/16 [==============================] - 0s 717us/step - loss: 4.6656\n",
      "16/16 [==============================] - 0s 717us/step - loss: 4.6656\n",
      "\n",
      "Testing for epoch 55 index 2:\n",
      "65/65 [==============================] - 0s 556us/step\n",
      "16/16 [==============================] - 0s 857us/step - loss: 0.0110\n",
      "16/16 [==============================] - 0s 735us/step - loss: 4.6290\n",
      "16/16 [==============================] - 0s 769us/step - loss: 4.6290\n"
     ]
    },
    {
     "name": "stderr",
     "output_type": "stream",
     "text": [
      "2023-05-14 10:02:05.167198: I tensorflow/core/common_runtime/executor.cc:1197] [/device:CPU:0] (DEBUG INFO) Executor start aborting (this does not indicate an error and you can ignore this message): INVALID_ARGUMENT: You must feed a value for placeholder tensor 'Placeholder/_1' with dtype int64 and shape [1000]\n",
      "\t [[{{node Placeholder/_1}}]]\n"
     ]
    },
    {
     "name": "stdout",
     "output_type": "stream",
     "text": [
      "16/16 [==============================] - 0s 915us/step - loss: 4.6290\n",
      "16/16 [==============================] - 0s 845us/step - loss: 4.6290\n",
      "16/16 [==============================] - 0s 853us/step - loss: 4.6290\n",
      "16/16 [==============================] - 0s 857us/step - loss: 4.6290\n",
      "16/16 [==============================] - 0s 803us/step - loss: 4.6290\n",
      "16/16 [==============================] - 0s 888us/step - loss: 4.6290\n",
      "16/16 [==============================] - 0s 777us/step - loss: 4.6290\n",
      "\n",
      "Testing for epoch 55 index 3:\n",
      "65/65 [==============================] - 0s 513us/step\n",
      "16/16 [==============================] - 0s 843us/step - loss: 0.0110\n",
      "16/16 [==============================] - 0s 791us/step - loss: 4.6681\n",
      "16/16 [==============================] - 0s 765us/step - loss: 4.6681\n"
     ]
    },
    {
     "name": "stderr",
     "output_type": "stream",
     "text": [
      "2023-05-14 10:02:05.919102: I tensorflow/core/common_runtime/executor.cc:1197] [/device:CPU:0] (DEBUG INFO) Executor start aborting (this does not indicate an error and you can ignore this message): INVALID_ARGUMENT: You must feed a value for placeholder tensor 'Placeholder/_1' with dtype int64 and shape [1000]\n",
      "\t [[{{node Placeholder/_1}}]]\n"
     ]
    },
    {
     "name": "stdout",
     "output_type": "stream",
     "text": [
      "16/16 [==============================] - 0s 949us/step - loss: 4.6681\n",
      "16/16 [==============================] - 0s 861us/step - loss: 4.6681\n",
      "16/16 [==============================] - 0s 829us/step - loss: 4.6681\n",
      "16/16 [==============================] - 0s 898us/step - loss: 4.6681\n",
      "16/16 [==============================] - 0s 884us/step - loss: 4.6681\n",
      "16/16 [==============================] - 0s 807us/step - loss: 4.6681\n",
      "16/16 [==============================] - 0s 919us/step - loss: 4.6681\n",
      "\n",
      "Testing for epoch 55 index 4:\n",
      "65/65 [==============================] - 0s 501us/step\n",
      "16/16 [==============================] - 0s 802us/step - loss: 0.0109\n",
      "16/16 [==============================] - 0s 862us/step - loss: 4.6560\n",
      " 1/16 [>.............................] - ETA: 0s - loss: 4.5707"
     ]
    },
    {
     "name": "stderr",
     "output_type": "stream",
     "text": [
      "2023-05-14 10:02:06.678686: I tensorflow/core/common_runtime/executor.cc:1197] [/device:CPU:0] (DEBUG INFO) Executor start aborting (this does not indicate an error and you can ignore this message): INVALID_ARGUMENT: You must feed a value for placeholder tensor 'Placeholder/_1' with dtype int64 and shape [1000]\n",
      "\t [[{{node Placeholder/_1}}]]\n"
     ]
    },
    {
     "name": "stdout",
     "output_type": "stream",
     "text": [
      "16/16 [==============================] - 0s 826us/step - loss: 4.6560\n",
      "16/16 [==============================] - 0s 932us/step - loss: 4.6560\n",
      "16/16 [==============================] - 0s 850us/step - loss: 4.6560\n",
      "16/16 [==============================] - 0s 881us/step - loss: 4.6560\n",
      "16/16 [==============================] - 0s 825us/step - loss: 4.6560\n",
      "16/16 [==============================] - 0s 803us/step - loss: 4.6560\n",
      "16/16 [==============================] - 0s 1ms/step - loss: 4.6560\n",
      "16/16 [==============================] - 0s 811us/step - loss: 4.6560\n",
      "Epoch 56 of 60\n",
      "\n",
      "Testing for epoch 56 index 1:\n",
      "65/65 [==============================] - 0s 528us/step\n",
      "16/16 [==============================] - 0s 824us/step - loss: 0.0108\n",
      "16/16 [==============================] - 0s 720us/step - loss: 4.7029\n",
      "16/16 [==============================] - 0s 764us/step - loss: 4.7029\n"
     ]
    },
    {
     "name": "stderr",
     "output_type": "stream",
     "text": [
      "2023-05-14 10:02:07.448022: I tensorflow/core/common_runtime/executor.cc:1197] [/device:CPU:0] (DEBUG INFO) Executor start aborting (this does not indicate an error and you can ignore this message): INVALID_ARGUMENT: You must feed a value for placeholder tensor 'Placeholder/_1' with dtype int64 and shape [1000]\n",
      "\t [[{{node Placeholder/_1}}]]\n"
     ]
    },
    {
     "name": "stdout",
     "output_type": "stream",
     "text": [
      "16/16 [==============================] - 0s 976us/step - loss: 4.7029\n",
      "16/16 [==============================] - 0s 805us/step - loss: 4.7029\n",
      "16/16 [==============================] - 0s 811us/step - loss: 4.7029\n",
      "16/16 [==============================] - 0s 743us/step - loss: 4.7029\n",
      "16/16 [==============================] - 0s 697us/step - loss: 4.7029\n",
      "16/16 [==============================] - 0s 788us/step - loss: 4.7029\n",
      "16/16 [==============================] - 0s 781us/step - loss: 4.7029\n",
      "\n",
      "Testing for epoch 56 index 2:\n",
      "65/65 [==============================] - 0s 515us/step\n",
      "16/16 [==============================] - 0s 807us/step - loss: 0.0108\n",
      "16/16 [==============================] - 0s 857us/step - loss: 4.6742\n",
      " 1/16 [>.............................] - ETA: 0s - loss: 4.5499"
     ]
    },
    {
     "name": "stderr",
     "output_type": "stream",
     "text": [
      "2023-05-14 10:02:08.197818: I tensorflow/core/common_runtime/executor.cc:1197] [/device:CPU:0] (DEBUG INFO) Executor start aborting (this does not indicate an error and you can ignore this message): INVALID_ARGUMENT: You must feed a value for placeholder tensor 'Placeholder/_1' with dtype int64 and shape [1000]\n",
      "\t [[{{node Placeholder/_1}}]]\n"
     ]
    },
    {
     "name": "stdout",
     "output_type": "stream",
     "text": [
      "16/16 [==============================] - 0s 805us/step - loss: 4.6742\n",
      "16/16 [==============================] - 0s 837us/step - loss: 4.6742\n",
      "16/16 [==============================] - 0s 824us/step - loss: 4.6742\n",
      "16/16 [==============================] - 0s 759us/step - loss: 4.6742\n",
      "16/16 [==============================] - 0s 756us/step - loss: 4.6742\n",
      "16/16 [==============================] - 0s 720us/step - loss: 4.6742\n",
      "16/16 [==============================] - 0s 773us/step - loss: 4.6742\n",
      "16/16 [==============================] - 0s 726us/step - loss: 4.6742\n",
      "\n",
      "Testing for epoch 56 index 3:\n",
      "65/65 [==============================] - 0s 474us/step\n",
      "16/16 [==============================] - 0s 2ms/step - loss: 0.0107\n",
      "16/16 [==============================] - 0s 811us/step - loss: 4.6962\n",
      " 1/16 [>.............................] - ETA: 0s - loss: 4.7902"
     ]
    },
    {
     "name": "stderr",
     "output_type": "stream",
     "text": [
      "2023-05-14 10:02:08.952622: I tensorflow/core/common_runtime/executor.cc:1197] [/device:CPU:0] (DEBUG INFO) Executor start aborting (this does not indicate an error and you can ignore this message): INVALID_ARGUMENT: You must feed a value for placeholder tensor 'Placeholder/_1' with dtype int64 and shape [1000]\n",
      "\t [[{{node Placeholder/_1}}]]\n"
     ]
    },
    {
     "name": "stdout",
     "output_type": "stream",
     "text": [
      "16/16 [==============================] - 0s 723us/step - loss: 4.6962\n",
      "16/16 [==============================] - 0s 1ms/step - loss: 4.6962\n",
      "16/16 [==============================] - 0s 825us/step - loss: 4.6962\n",
      "16/16 [==============================] - 0s 863us/step - loss: 4.6962\n",
      "16/16 [==============================] - 0s 791us/step - loss: 4.6962\n",
      "16/16 [==============================] - 0s 733us/step - loss: 4.6962\n",
      "16/16 [==============================] - 0s 949us/step - loss: 4.6962\n",
      "16/16 [==============================] - 0s 800us/step - loss: 4.6962\n",
      "\n",
      "Testing for epoch 56 index 4:\n",
      "65/65 [==============================] - 0s 489us/step\n",
      "16/16 [==============================] - 0s 782us/step - loss: 0.0107\n",
      "16/16 [==============================] - 0s 873us/step - loss: 4.6661\n",
      "16/16 [==============================] - 0s 756us/step - loss: 4.6661\n"
     ]
    },
    {
     "name": "stderr",
     "output_type": "stream",
     "text": [
      "2023-05-14 10:02:09.743976: I tensorflow/core/common_runtime/executor.cc:1197] [/device:CPU:0] (DEBUG INFO) Executor start aborting (this does not indicate an error and you can ignore this message): INVALID_ARGUMENT: You must feed a value for placeholder tensor 'Placeholder/_1' with dtype int64 and shape [1000]\n",
      "\t [[{{node Placeholder/_1}}]]\n"
     ]
    },
    {
     "name": "stdout",
     "output_type": "stream",
     "text": [
      "16/16 [==============================] - 0s 850us/step - loss: 4.6661\n",
      "16/16 [==============================] - 0s 808us/step - loss: 4.6661\n",
      "16/16 [==============================] - 0s 822us/step - loss: 4.6661\n",
      "16/16 [==============================] - 0s 802us/step - loss: 4.6661\n",
      "16/16 [==============================] - 0s 820us/step - loss: 4.6661\n",
      "16/16 [==============================] - 0s 720us/step - loss: 4.6661\n",
      "16/16 [==============================] - 0s 797us/step - loss: 4.6661\n",
      "Epoch 57 of 60\n",
      "\n",
      "Testing for epoch 57 index 1:\n",
      "65/65 [==============================] - 0s 498us/step\n",
      "16/16 [==============================] - 0s 864us/step - loss: 0.0106\n",
      "16/16 [==============================] - 0s 742us/step - loss: 4.6941\n",
      "16/16 [==============================] - 0s 721us/step - loss: 4.6941\n"
     ]
    },
    {
     "name": "stderr",
     "output_type": "stream",
     "text": [
      "2023-05-14 10:02:10.506751: I tensorflow/core/common_runtime/executor.cc:1197] [/device:CPU:0] (DEBUG INFO) Executor start aborting (this does not indicate an error and you can ignore this message): INVALID_ARGUMENT: You must feed a value for placeholder tensor 'Placeholder/_1' with dtype int64 and shape [1000]\n",
      "\t [[{{node Placeholder/_1}}]]\n"
     ]
    },
    {
     "name": "stdout",
     "output_type": "stream",
     "text": [
      "16/16 [==============================] - 0s 788us/step - loss: 4.6941\n",
      "16/16 [==============================] - 0s 807us/step - loss: 4.6941\n",
      "16/16 [==============================] - 0s 803us/step - loss: 4.6941\n",
      "16/16 [==============================] - 0s 787us/step - loss: 4.6941\n",
      "16/16 [==============================] - 0s 772us/step - loss: 4.6941\n",
      "16/16 [==============================] - 0s 702us/step - loss: 4.6941\n",
      "16/16 [==============================] - 0s 931us/step - loss: 4.6941\n",
      "\n",
      "Testing for epoch 57 index 2:\n",
      "65/65 [==============================] - 0s 507us/step\n",
      "16/16 [==============================] - 0s 737us/step - loss: 0.0105\n",
      "16/16 [==============================] - 0s 768us/step - loss: 4.7261\n",
      "16/16 [==============================] - 0s 812us/step - loss: 4.7261\n"
     ]
    },
    {
     "name": "stderr",
     "output_type": "stream",
     "text": [
      "2023-05-14 10:02:11.253400: I tensorflow/core/common_runtime/executor.cc:1197] [/device:CPU:0] (DEBUG INFO) Executor start aborting (this does not indicate an error and you can ignore this message): INVALID_ARGUMENT: You must feed a value for placeholder tensor 'Placeholder/_1' with dtype int64 and shape [1000]\n",
      "\t [[{{node Placeholder/_1}}]]\n"
     ]
    },
    {
     "name": "stdout",
     "output_type": "stream",
     "text": [
      "16/16 [==============================] - 0s 1ms/step - loss: 4.7261\n",
      "16/16 [==============================] - 0s 771us/step - loss: 4.7261\n",
      "16/16 [==============================] - 0s 777us/step - loss: 4.7261\n",
      "16/16 [==============================] - 0s 843us/step - loss: 4.7261\n",
      "16/16 [==============================] - 0s 818us/step - loss: 4.7261\n",
      "16/16 [==============================] - 0s 876us/step - loss: 4.7261\n",
      "16/16 [==============================] - 0s 839us/step - loss: 4.7261\n",
      "\n",
      "Testing for epoch 57 index 3:\n",
      "65/65 [==============================] - 0s 469us/step\n",
      "16/16 [==============================] - 0s 878us/step - loss: 0.0105\n",
      "16/16 [==============================] - 0s 760us/step - loss: 4.7081\n",
      "16/16 [==============================] - 0s 804us/step - loss: 4.7081\n"
     ]
    },
    {
     "name": "stderr",
     "output_type": "stream",
     "text": [
      "2023-05-14 10:02:12.012778: I tensorflow/core/common_runtime/executor.cc:1197] [/device:CPU:0] (DEBUG INFO) Executor start aborting (this does not indicate an error and you can ignore this message): INVALID_ARGUMENT: You must feed a value for placeholder tensor 'Placeholder/_1' with dtype int64 and shape [1000]\n",
      "\t [[{{node Placeholder/_1}}]]\n"
     ]
    },
    {
     "name": "stdout",
     "output_type": "stream",
     "text": [
      "16/16 [==============================] - 0s 842us/step - loss: 4.7081\n",
      "16/16 [==============================] - 0s 842us/step - loss: 4.7081\n",
      "16/16 [==============================] - 0s 855us/step - loss: 4.7081\n",
      "16/16 [==============================] - 0s 756us/step - loss: 4.7081\n",
      "16/16 [==============================] - 0s 844us/step - loss: 4.7081\n",
      "16/16 [==============================] - 0s 738us/step - loss: 4.7081\n",
      "16/16 [==============================] - 0s 813us/step - loss: 4.7081\n",
      "\n",
      "Testing for epoch 57 index 4:\n",
      "65/65 [==============================] - 0s 492us/step\n",
      "16/16 [==============================] - 0s 827us/step - loss: 0.0105\n",
      "16/16 [==============================] - 0s 870us/step - loss: 4.6848\n",
      "16/16 [==============================] - 0s 690us/step - loss: 4.6848\n"
     ]
    },
    {
     "name": "stderr",
     "output_type": "stream",
     "text": [
      "2023-05-14 10:02:12.766986: I tensorflow/core/common_runtime/executor.cc:1197] [/device:CPU:0] (DEBUG INFO) Executor start aborting (this does not indicate an error and you can ignore this message): INVALID_ARGUMENT: You must feed a value for placeholder tensor 'Placeholder/_1' with dtype int64 and shape [1000]\n",
      "\t [[{{node Placeholder/_1}}]]\n"
     ]
    },
    {
     "name": "stdout",
     "output_type": "stream",
     "text": [
      "16/16 [==============================] - 0s 891us/step - loss: 4.6848\n",
      "16/16 [==============================] - 0s 818us/step - loss: 4.6848\n",
      "16/16 [==============================] - 0s 750us/step - loss: 4.6848\n",
      "16/16 [==============================] - 0s 886us/step - loss: 4.6848\n",
      "16/16 [==============================] - 0s 819us/step - loss: 4.6848\n",
      "16/16 [==============================] - 0s 893us/step - loss: 4.6848\n",
      "16/16 [==============================] - 0s 1ms/step - loss: 4.6848\n",
      "Epoch 58 of 60\n",
      "\n",
      "Testing for epoch 58 index 1:\n",
      "65/65 [==============================] - 0s 502us/step\n",
      "16/16 [==============================] - 0s 793us/step - loss: 0.0104\n",
      "16/16 [==============================] - 0s 744us/step - loss: 4.6406\n",
      "16/16 [==============================] - 0s 810us/step - loss: 4.6405\n"
     ]
    },
    {
     "name": "stderr",
     "output_type": "stream",
     "text": [
      "2023-05-14 10:02:13.524076: I tensorflow/core/common_runtime/executor.cc:1197] [/device:CPU:0] (DEBUG INFO) Executor start aborting (this does not indicate an error and you can ignore this message): INVALID_ARGUMENT: You must feed a value for placeholder tensor 'Placeholder/_1' with dtype int64 and shape [1000]\n",
      "\t [[{{node Placeholder/_1}}]]\n"
     ]
    },
    {
     "name": "stdout",
     "output_type": "stream",
     "text": [
      "16/16 [==============================] - 0s 789us/step - loss: 4.6405\n",
      "16/16 [==============================] - 0s 803us/step - loss: 4.6405\n",
      "16/16 [==============================] - 0s 740us/step - loss: 4.6405\n",
      "16/16 [==============================] - 0s 838us/step - loss: 4.6405\n",
      "16/16 [==============================] - 0s 788us/step - loss: 4.6405\n",
      "16/16 [==============================] - 0s 758us/step - loss: 4.6405\n",
      "16/16 [==============================] - 0s 821us/step - loss: 4.6405\n",
      "\n",
      "Testing for epoch 58 index 2:\n",
      "65/65 [==============================] - 0s 506us/step\n",
      "16/16 [==============================] - 0s 738us/step - loss: 0.0103\n",
      "16/16 [==============================] - 0s 833us/step - loss: 4.7094\n",
      "16/16 [==============================] - 0s 862us/step - loss: 4.7094\n"
     ]
    },
    {
     "name": "stderr",
     "output_type": "stream",
     "text": [
      "2023-05-14 10:02:14.282432: I tensorflow/core/common_runtime/executor.cc:1197] [/device:CPU:0] (DEBUG INFO) Executor start aborting (this does not indicate an error and you can ignore this message): INVALID_ARGUMENT: You must feed a value for placeholder tensor 'Placeholder/_1' with dtype int64 and shape [1000]\n",
      "\t [[{{node Placeholder/_1}}]]\n"
     ]
    },
    {
     "name": "stdout",
     "output_type": "stream",
     "text": [
      "16/16 [==============================] - 0s 915us/step - loss: 4.7094\n",
      "16/16 [==============================] - 0s 707us/step - loss: 4.7094\n",
      "16/16 [==============================] - 0s 721us/step - loss: 4.7094\n",
      "16/16 [==============================] - 0s 773us/step - loss: 4.7094\n",
      "16/16 [==============================] - 0s 724us/step - loss: 4.7094\n",
      "16/16 [==============================] - 0s 837us/step - loss: 4.7094\n",
      "16/16 [==============================] - 0s 825us/step - loss: 4.7094\n",
      "\n",
      "Testing for epoch 58 index 3:\n",
      "65/65 [==============================] - 0s 517us/step\n",
      "16/16 [==============================] - 0s 928us/step - loss: 0.0103\n",
      "16/16 [==============================] - 0s 847us/step - loss: 4.7220\n",
      " 1/16 [>.............................] - ETA: 0s - loss: 4.6987"
     ]
    },
    {
     "name": "stderr",
     "output_type": "stream",
     "text": [
      "2023-05-14 10:02:15.038667: I tensorflow/core/common_runtime/executor.cc:1197] [/device:CPU:0] (DEBUG INFO) Executor start aborting (this does not indicate an error and you can ignore this message): INVALID_ARGUMENT: You must feed a value for placeholder tensor 'Placeholder/_1' with dtype int64 and shape [1000]\n",
      "\t [[{{node Placeholder/_1}}]]\n"
     ]
    },
    {
     "name": "stdout",
     "output_type": "stream",
     "text": [
      "16/16 [==============================] - 0s 889us/step - loss: 4.7220\n",
      "16/16 [==============================] - 0s 1ms/step - loss: 4.7220\n",
      "16/16 [==============================] - 0s 795us/step - loss: 4.7220\n",
      "16/16 [==============================] - 0s 819us/step - loss: 4.7220\n",
      "16/16 [==============================] - 0s 862us/step - loss: 4.7220\n",
      "16/16 [==============================] - 0s 848us/step - loss: 4.7220\n",
      "16/16 [==============================] - 0s 863us/step - loss: 4.7220\n",
      "16/16 [==============================] - 0s 803us/step - loss: 4.7220\n",
      "\n",
      "Testing for epoch 58 index 4:\n",
      "65/65 [==============================] - 0s 476us/step\n",
      "16/16 [==============================] - 0s 722us/step - loss: 0.0102\n",
      "16/16 [==============================] - 0s 827us/step - loss: 4.7320\n",
      "16/16 [==============================] - 0s 870us/step - loss: 4.7320\n"
     ]
    },
    {
     "name": "stderr",
     "output_type": "stream",
     "text": [
      "2023-05-14 10:02:15.815744: I tensorflow/core/common_runtime/executor.cc:1197] [/device:CPU:0] (DEBUG INFO) Executor start aborting (this does not indicate an error and you can ignore this message): INVALID_ARGUMENT: You must feed a value for placeholder tensor 'Placeholder/_1' with dtype int64 and shape [1000]\n",
      "\t [[{{node Placeholder/_1}}]]\n"
     ]
    },
    {
     "name": "stdout",
     "output_type": "stream",
     "text": [
      "16/16 [==============================] - 0s 806us/step - loss: 4.7320\n",
      "16/16 [==============================] - 0s 808us/step - loss: 4.7320\n",
      "16/16 [==============================] - 0s 735us/step - loss: 4.7320\n",
      "16/16 [==============================] - 0s 716us/step - loss: 4.7320\n",
      "16/16 [==============================] - 0s 813us/step - loss: 4.7320\n",
      "16/16 [==============================] - 0s 798us/step - loss: 4.7320\n",
      "16/16 [==============================] - 0s 1ms/step - loss: 4.7320\n",
      "Epoch 59 of 60\n",
      "\n",
      "Testing for epoch 59 index 1:\n",
      "65/65 [==============================] - 0s 473us/step\n",
      "16/16 [==============================] - 0s 725us/step - loss: 0.0102\n",
      "16/16 [==============================] - 0s 797us/step - loss: 4.7252\n",
      "16/16 [==============================] - 0s 827us/step - loss: 4.7252\n"
     ]
    },
    {
     "name": "stderr",
     "output_type": "stream",
     "text": [
      "2023-05-14 10:02:16.564562: I tensorflow/core/common_runtime/executor.cc:1197] [/device:CPU:0] (DEBUG INFO) Executor start aborting (this does not indicate an error and you can ignore this message): INVALID_ARGUMENT: You must feed a value for placeholder tensor 'Placeholder/_1' with dtype int64 and shape [1000]\n",
      "\t [[{{node Placeholder/_1}}]]\n"
     ]
    },
    {
     "name": "stdout",
     "output_type": "stream",
     "text": [
      "16/16 [==============================] - 0s 915us/step - loss: 4.7252\n",
      "16/16 [==============================] - 0s 839us/step - loss: 4.7252\n",
      "16/16 [==============================] - 0s 809us/step - loss: 4.7252\n",
      "16/16 [==============================] - 0s 807us/step - loss: 4.7252\n",
      "16/16 [==============================] - 0s 798us/step - loss: 4.7252\n",
      "16/16 [==============================] - 0s 852us/step - loss: 4.7252\n",
      "16/16 [==============================] - 0s 838us/step - loss: 4.7252\n",
      "\n",
      "Testing for epoch 59 index 2:\n",
      "65/65 [==============================] - 0s 480us/step\n",
      "16/16 [==============================] - 0s 802us/step - loss: 0.0101\n",
      "16/16 [==============================] - 0s 810us/step - loss: 4.7325\n",
      "16/16 [==============================] - 0s 819us/step - loss: 4.7325\n"
     ]
    },
    {
     "name": "stderr",
     "output_type": "stream",
     "text": [
      "2023-05-14 10:02:17.321522: I tensorflow/core/common_runtime/executor.cc:1197] [/device:CPU:0] (DEBUG INFO) Executor start aborting (this does not indicate an error and you can ignore this message): INVALID_ARGUMENT: You must feed a value for placeholder tensor 'Placeholder/_1' with dtype int64 and shape [1000]\n",
      "\t [[{{node Placeholder/_1}}]]\n"
     ]
    },
    {
     "name": "stdout",
     "output_type": "stream",
     "text": [
      "16/16 [==============================] - 0s 1ms/step - loss: 4.7325\n",
      "16/16 [==============================] - 0s 724us/step - loss: 4.7325\n",
      "16/16 [==============================] - 0s 802us/step - loss: 4.7325\n",
      "16/16 [==============================] - 0s 826us/step - loss: 4.7325\n",
      "16/16 [==============================] - 0s 828us/step - loss: 4.7325\n",
      "16/16 [==============================] - 0s 789us/step - loss: 4.7325\n",
      "16/16 [==============================] - 0s 932us/step - loss: 4.7325\n",
      "\n",
      "Testing for epoch 59 index 3:\n",
      "65/65 [==============================] - 0s 502us/step\n",
      "16/16 [==============================] - 0s 819us/step - loss: 0.0101\n",
      "16/16 [==============================] - 0s 815us/step - loss: 4.7134\n",
      "16/16 [==============================] - 0s 747us/step - loss: 4.7134\n"
     ]
    },
    {
     "name": "stderr",
     "output_type": "stream",
     "text": [
      "2023-05-14 10:02:18.082984: I tensorflow/core/common_runtime/executor.cc:1197] [/device:CPU:0] (DEBUG INFO) Executor start aborting (this does not indicate an error and you can ignore this message): INVALID_ARGUMENT: You must feed a value for placeholder tensor 'Placeholder/_1' with dtype int64 and shape [1000]\n",
      "\t [[{{node Placeholder/_1}}]]\n"
     ]
    },
    {
     "name": "stdout",
     "output_type": "stream",
     "text": [
      "16/16 [==============================] - 0s 863us/step - loss: 4.7134\n",
      "16/16 [==============================] - 0s 983us/step - loss: 4.7134\n",
      "16/16 [==============================] - 0s 702us/step - loss: 4.7134\n",
      "16/16 [==============================] - 0s 792us/step - loss: 4.7134\n",
      "16/16 [==============================] - 0s 727us/step - loss: 4.7134\n",
      "16/16 [==============================] - 0s 844us/step - loss: 4.7134\n",
      "16/16 [==============================] - 0s 804us/step - loss: 4.7134\n",
      "\n",
      "Testing for epoch 59 index 4:\n",
      "65/65 [==============================] - 0s 485us/step\n",
      "16/16 [==============================] - 0s 843us/step - loss: 0.0101\n",
      "16/16 [==============================] - 0s 824us/step - loss: 4.7429\n",
      "16/16 [==============================] - 0s 754us/step - loss: 4.7429\n"
     ]
    },
    {
     "name": "stderr",
     "output_type": "stream",
     "text": [
      "2023-05-14 10:02:18.852868: I tensorflow/core/common_runtime/executor.cc:1197] [/device:CPU:0] (DEBUG INFO) Executor start aborting (this does not indicate an error and you can ignore this message): INVALID_ARGUMENT: You must feed a value for placeholder tensor 'Placeholder/_1' with dtype int64 and shape [1000]\n",
      "\t [[{{node Placeholder/_1}}]]\n"
     ]
    },
    {
     "name": "stdout",
     "output_type": "stream",
     "text": [
      "16/16 [==============================] - 0s 891us/step - loss: 4.7429\n",
      "16/16 [==============================] - 0s 807us/step - loss: 4.7429\n",
      "16/16 [==============================] - 0s 745us/step - loss: 4.7429\n",
      "16/16 [==============================] - 0s 727us/step - loss: 4.7429\n",
      "16/16 [==============================] - 0s 804us/step - loss: 4.7429\n",
      "16/16 [==============================] - 0s 961us/step - loss: 4.7429\n",
      "16/16 [==============================] - 0s 827us/step - loss: 4.7429\n",
      "Epoch 60 of 60\n",
      "\n",
      "Testing for epoch 60 index 1:\n",
      "65/65 [==============================] - 0s 476us/step\n",
      "16/16 [==============================] - 0s 780us/step - loss: 0.0100\n",
      "16/16 [==============================] - 0s 799us/step - loss: 4.7363\n",
      "16/16 [==============================] - 0s 834us/step - loss: 4.7363\n"
     ]
    },
    {
     "name": "stderr",
     "output_type": "stream",
     "text": [
      "2023-05-14 10:02:19.624239: I tensorflow/core/common_runtime/executor.cc:1197] [/device:CPU:0] (DEBUG INFO) Executor start aborting (this does not indicate an error and you can ignore this message): INVALID_ARGUMENT: You must feed a value for placeholder tensor 'Placeholder/_1' with dtype int64 and shape [1000]\n",
      "\t [[{{node Placeholder/_1}}]]\n"
     ]
    },
    {
     "name": "stdout",
     "output_type": "stream",
     "text": [
      "16/16 [==============================] - 0s 816us/step - loss: 4.7363\n",
      "16/16 [==============================] - 0s 801us/step - loss: 4.7363\n",
      "16/16 [==============================] - 0s 728us/step - loss: 4.7363\n",
      "16/16 [==============================] - 0s 685us/step - loss: 4.7363\n",
      "16/16 [==============================] - 0s 821us/step - loss: 4.7363\n",
      "16/16 [==============================] - 0s 820us/step - loss: 4.7363\n",
      "16/16 [==============================] - 0s 859us/step - loss: 4.7363\n",
      "\n",
      "Testing for epoch 60 index 2:\n",
      "65/65 [==============================] - 0s 473us/step\n",
      "16/16 [==============================] - 0s 801us/step - loss: 0.0100\n",
      "16/16 [==============================] - 0s 787us/step - loss: 4.7308\n",
      "16/16 [==============================] - 0s 823us/step - loss: 4.7308\n"
     ]
    },
    {
     "name": "stderr",
     "output_type": "stream",
     "text": [
      "2023-05-14 10:02:20.374432: I tensorflow/core/common_runtime/executor.cc:1197] [/device:CPU:0] (DEBUG INFO) Executor start aborting (this does not indicate an error and you can ignore this message): INVALID_ARGUMENT: You must feed a value for placeholder tensor 'Placeholder/_1' with dtype int64 and shape [1000]\n",
      "\t [[{{node Placeholder/_1}}]]\n"
     ]
    },
    {
     "name": "stdout",
     "output_type": "stream",
     "text": [
      "16/16 [==============================] - 0s 881us/step - loss: 4.7308\n",
      "16/16 [==============================] - 0s 812us/step - loss: 4.7308\n",
      "16/16 [==============================] - 0s 770us/step - loss: 4.7308\n",
      "16/16 [==============================] - 0s 741us/step - loss: 4.7308\n",
      "16/16 [==============================] - 0s 756us/step - loss: 4.7308\n",
      "16/16 [==============================] - 0s 749us/step - loss: 4.7308\n",
      "16/16 [==============================] - 0s 894us/step - loss: 4.7308\n",
      "\n",
      "Testing for epoch 60 index 3:\n",
      "65/65 [==============================] - 0s 475us/step\n",
      "16/16 [==============================] - 0s 782us/step - loss: 0.0099\n",
      "16/16 [==============================] - 0s 704us/step - loss: 4.7545\n",
      "16/16 [==============================] - 0s 918us/step - loss: 4.7545\n"
     ]
    },
    {
     "name": "stderr",
     "output_type": "stream",
     "text": [
      "2023-05-14 10:02:21.124714: I tensorflow/core/common_runtime/executor.cc:1197] [/device:CPU:0] (DEBUG INFO) Executor start aborting (this does not indicate an error and you can ignore this message): INVALID_ARGUMENT: You must feed a value for placeholder tensor 'Placeholder/_1' with dtype int64 and shape [1000]\n",
      "\t [[{{node Placeholder/_1}}]]\n"
     ]
    },
    {
     "name": "stdout",
     "output_type": "stream",
     "text": [
      "16/16 [==============================] - 0s 1ms/step - loss: 4.7545\n",
      "16/16 [==============================] - 0s 770us/step - loss: 4.7545\n",
      "16/16 [==============================] - 0s 748us/step - loss: 4.7545\n",
      "16/16 [==============================] - 0s 761us/step - loss: 4.7545\n",
      "16/16 [==============================] - 0s 852us/step - loss: 4.7545\n",
      "16/16 [==============================] - 0s 745us/step - loss: 4.7545\n",
      "16/16 [==============================] - 0s 851us/step - loss: 4.7545\n",
      "\n",
      "Testing for epoch 60 index 4:\n",
      "65/65 [==============================] - 0s 485us/step\n",
      "16/16 [==============================] - 0s 807us/step - loss: 0.0098\n",
      "16/16 [==============================] - 0s 770us/step - loss: 4.7752\n",
      "16/16 [==============================] - 0s 718us/step - loss: 4.7752\n"
     ]
    },
    {
     "name": "stderr",
     "output_type": "stream",
     "text": [
      "2023-05-14 10:02:21.881594: I tensorflow/core/common_runtime/executor.cc:1197] [/device:CPU:0] (DEBUG INFO) Executor start aborting (this does not indicate an error and you can ignore this message): INVALID_ARGUMENT: You must feed a value for placeholder tensor 'Placeholder/_1' with dtype int64 and shape [1000]\n",
      "\t [[{{node Placeholder/_1}}]]\n"
     ]
    },
    {
     "name": "stdout",
     "output_type": "stream",
     "text": [
      "16/16 [==============================] - 0s 1ms/step - loss: 4.7752\n",
      "16/16 [==============================] - 0s 761us/step - loss: 4.7752\n",
      "16/16 [==============================] - 0s 867us/step - loss: 4.7752\n",
      "16/16 [==============================] - 0s 802us/step - loss: 4.7752\n",
      "16/16 [==============================] - 0s 1ms/step - loss: 4.7752\n",
      "16/16 [==============================] - 0s 869us/step - loss: 4.7752\n",
      "16/16 [==============================] - 0s 870us/step - loss: 4.7752\n",
      "65/65 [==============================] - 0s 487us/step\n"
     ]
    },
    {
     "data": {
      "text/plain": [
       "MO_GAAL(contamination=0.1, k=10, lr_d=0.01, lr_g=0.0001, momentum=0.9,\n",
       "    stop_epochs=20)"
      ]
     },
     "execution_count": 6,
     "metadata": {},
     "output_type": "execute_result"
    }
   ],
   "source": [
    "mogaal_model = MO_GAAL()\n",
    "mogaal_model.fit(train_set)"
   ]
  },
  {
   "cell_type": "code",
   "execution_count": 7,
   "id": "f1b6c5a1",
   "metadata": {},
   "outputs": [
    {
     "name": "stdout",
     "output_type": "stream",
     "text": [
      "22/22 [==============================] - 0s 579us/step\n"
     ]
    }
   ],
   "source": [
    "test_mogaal_pred = mogaal_model.predict(test_set)"
   ]
  },
  {
   "cell_type": "code",
   "execution_count": 8,
   "id": "9136cb51",
   "metadata": {},
   "outputs": [
    {
     "name": "stdout",
     "output_type": "stream",
     "text": [
      "688\n",
      "Accuracy: 0.9563953488372093\n"
     ]
    }
   ],
   "source": [
    "check_accuracy(test_mogaal_pred)"
   ]
  },
  {
   "cell_type": "code",
   "execution_count": 9,
   "id": "f8ef8cbb",
   "metadata": {},
   "outputs": [
    {
     "data": {
      "text/plain": [
       "AnoGAN(D_layers=[20, 10, 5], G_layers=[20, 10, 3, 10, 20],\n",
       "    activation_hidden='tanh', batch_size=32, contamination=0.1,\n",
       "    dropout_rate=0.2, epochs=500, epochs_query=20,\n",
       "    index_D_layer_for_recon_error=1, latent_dim_G=2, learning_rate=0.001,\n",
       "    learning_rate_query=0.01, output_activation=None, preprocessing=False,\n",
       "    verbose=0)"
      ]
     },
     "execution_count": 9,
     "metadata": {},
     "output_type": "execute_result"
    }
   ],
   "source": [
    "anogan_model = AnoGAN()\n",
    "anogan_model.fit(train_set)"
   ]
  },
  {
   "cell_type": "code",
   "execution_count": 10,
   "id": "264558c2",
   "metadata": {},
   "outputs": [],
   "source": [
    "test_anogan_pred = anogan_model.predict(test_set)"
   ]
  },
  {
   "cell_type": "code",
   "execution_count": 11,
   "id": "33eb5f33",
   "metadata": {},
   "outputs": [
    {
     "name": "stdout",
     "output_type": "stream",
     "text": [
      "688\n",
      "Accuracy: 0.8648255813953488\n"
     ]
    }
   ],
   "source": [
    "check_accuracy(test_anogan_pred)"
   ]
  },
  {
   "cell_type": "code",
   "execution_count": 12,
   "id": "2f5859f3",
   "metadata": {},
   "outputs": [
    {
     "data": {
      "text/plain": [
       "LOF(algorithm='auto', contamination=0.1, leaf_size=30, metric='minkowski',\n",
       "  metric_params=None, n_jobs=1, n_neighbors=20, novelty=True, p=2)"
      ]
     },
     "execution_count": 12,
     "metadata": {},
     "output_type": "execute_result"
    }
   ],
   "source": [
    "lof_model = LOF()\n",
    "lof_model.fit(train_set)"
   ]
  },
  {
   "cell_type": "code",
   "execution_count": 13,
   "id": "96297a55",
   "metadata": {},
   "outputs": [],
   "source": [
    "test_lof_pred = lof_model.predict(test_set)"
   ]
  },
  {
   "cell_type": "code",
   "execution_count": 14,
   "id": "6d9b4641",
   "metadata": {},
   "outputs": [
    {
     "name": "stdout",
     "output_type": "stream",
     "text": [
      "688\n",
      "Accuracy: 0.8241279069767442\n"
     ]
    }
   ],
   "source": [
    "check_accuracy(test_lof_pred)"
   ]
  },
  {
   "cell_type": "code",
   "execution_count": 30,
   "id": "e6b74df4",
   "metadata": {},
   "outputs": [
    {
     "data": {
      "text/plain": [
       "GMM(contamination=0.1, covariance_type='full', init_params='kmeans',\n",
       "  max_iter=100, means_init=None, n_components=1, n_init=1,\n",
       "  precisions_init=None, random_state=None, reg_covar=1e-06, tol=0.001,\n",
       "  warm_start=False, weights_init=None)"
      ]
     },
     "execution_count": 30,
     "metadata": {},
     "output_type": "execute_result"
    }
   ],
   "source": [
    "gmm_model = GMM(n_components=1)\n",
    "gmm_model.fit(train_set)"
   ]
  },
  {
   "cell_type": "code",
   "execution_count": 31,
   "id": "31c0e257",
   "metadata": {},
   "outputs": [],
   "source": [
    "test_gmm_pred = gmm_model.predict(test_set)"
   ]
  },
  {
   "cell_type": "code",
   "execution_count": 32,
   "id": "282238de",
   "metadata": {},
   "outputs": [
    {
     "name": "stdout",
     "output_type": "stream",
     "text": [
      "688\n",
      "Accuracy: 0.8561046511627907\n"
     ]
    }
   ],
   "source": [
    "check_accuracy(test_gmm_pred)"
   ]
  },
  {
   "cell_type": "code",
   "execution_count": null,
   "id": "b1ef8405",
   "metadata": {},
   "outputs": [],
   "source": []
  }
 ],
 "metadata": {
  "kernelspec": {
   "display_name": "Python 3 (ipykernel)",
   "language": "python",
   "name": "python3"
  },
  "language_info": {
   "codemirror_mode": {
    "name": "ipython",
    "version": 3
   },
   "file_extension": ".py",
   "mimetype": "text/x-python",
   "name": "python",
   "nbconvert_exporter": "python",
   "pygments_lexer": "ipython3",
   "version": "3.9.16"
  }
 },
 "nbformat": 4,
 "nbformat_minor": 5
}

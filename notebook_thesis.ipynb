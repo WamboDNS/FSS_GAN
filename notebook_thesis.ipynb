{
 "cells": [
  {
   "cell_type": "code",
   "execution_count": 2,
   "id": "dd3c328a",
   "metadata": {},
   "outputs": [
    {
     "name": "stderr",
     "output_type": "stream",
     "text": [
      "2023-05-13 16:36:06.329459: I tensorflow/core/platform/cpu_feature_guard.cc:182] This TensorFlow binary is optimized to use available CPU instructions in performance-critical operations.\n",
      "To enable the following instructions: AVX2 FMA, in other operations, rebuild TensorFlow with the appropriate compiler flags.\n",
      "2023-05-13 16:36:06.741684: W tensorflow/compiler/tf2tensorrt/utils/py_utils.cc:38] TF-TRT Warning: Could not find TensorRT\n"
     ]
    }
   ],
   "source": [
    "import warnings #suppress warnings\n",
    "import torch\n",
    "import random\n",
    "import pandas as pd\n",
    "from torch.utils.data import Dataset, DataLoader\n",
    "from scipy.io import arff\n",
    "#from pyod.models.anogan import AnoGAN\n",
    "from pyod.models.mo_gaal import MO_GAAL\n",
    "\n",
    "warnings.simplefilter(\"ignore\")"
   ]
  },
  {
   "cell_type": "code",
   "execution_count": 3,
   "id": "67edf4ab",
   "metadata": {},
   "outputs": [],
   "source": [
    "class CustomDataset(Dataset):\n",
    "    def __init__(self, path):\n",
    "        # start preprocessing \n",
    "        self.arff_data = arff.loadarff(path)\n",
    "        self.df = pd.DataFrame(self.arff_data[0])\n",
    "        #0 is outlier, 1 is normal data\n",
    "        self.df[\"outlier\"] = pd.factorize(self.df[\"outlier\"])[0]\n",
    "        #end preprocessing\n",
    "        \n",
    "        self.data_tensor = torch.tensor(self.df.to_numpy()).float()\n",
    "        self.data_numpy = self.df.to_numpy()\n",
    "        self.n = self.df.shape[0]\n",
    "        \n",
    "    def __len__(self):\n",
    "        return len(self.data_tensor)\n",
    "    \n",
    "    def __getitem__(self, i):\n",
    "        return self.data_tensor[i]"
   ]
  },
  {
   "cell_type": "code",
   "execution_count": 4,
   "id": "a6f7d4f3",
   "metadata": {
    "scrolled": true
   },
   "outputs": [],
   "source": [
    "path = \"/home/denis/Documents/Resources_Thesis/Waveform_withoutdupl_norm_v01.arff\"\n",
    "seed = 777\n",
    "torch.manual_seed(seed)\n",
    "random.seed(seed)\n",
    "num_workers = 2\n",
    "batch_size = 128\n",
    "#number of used GPUs\n",
    "gpu = 0 \n",
    "\n",
    "usedDevice = torch.device(\"cpu\" if gpu == 0 else \"cuda\")\n",
    "dataset = CustomDataset(path)\n",
    "train_set , eval_set, test_set = torch.utils.data.random_split(dataset.data_numpy, [0.6,0.2,0.2]) #PFUSCH!! NUR ALS TEST FUER MOGAAL\n",
    "#maybe data loader for each category?\n",
    "dataloader = DataLoader(dataset=dataset.data_tensor, batch_size = batch_size, shuffle=True, num_workers=num_workers)"
   ]
  },
  {
   "cell_type": "code",
   "execution_count": null,
   "id": "c119f09c",
   "metadata": {},
   "outputs": [],
   "source": [
    "mogaal = MO_GAAL()\n",
    "mogaal.fit(train_set)\n",
    "\n",
    "test_od_pred = mogaal.predict(test_set)"
   ]
  },
  {
   "cell_type": "code",
   "execution_count": 14,
   "metadata": {},
   "outputs": [
    {
     "name": "stdout",
     "output_type": "stream",
     "text": [
      "0.0\n",
      "0.0\n",
      "0.0\n",
      "0.0\n",
      "0.0\n",
      "0.0\n",
      "0.0\n",
      "0.0\n",
      "0.0\n",
      "0.0\n",
      "0.0\n",
      "0.0\n",
      "0.0\n",
      "0.0\n",
      "0.0\n",
      "0.0\n",
      "0.0\n",
      "0.0\n",
      "0.0\n",
      "0.0\n",
      "0.0\n",
      "0.0\n",
      "0.0\n",
      "0.0\n",
      "0.0\n",
      "0.0\n",
      "0.0\n",
      "0.0\n",
      "0.0\n",
      "0.0\n",
      "Accuracy: 0.9563953488372093\n"
     ]
    }
   ],
   "source": [
    "correct = 0\n",
    "wrong = 0\n",
    "for i in range(len(test_set)):\n",
    "    if test_set[i][-1] != test_od_pred[i]:\n",
    "        correct += 1\n",
    "    else: \n",
    "        wrong += 1\n",
    "        print(test_set[i][-1])\n",
    "\n",
    "print(\"Accuracy with MO_GAAL: \" + str(correct/len(test_set)))"
   ]
  },
  {
   "cell_type": "code",
   "execution_count": null,
   "id": "264558c2",
   "metadata": {},
   "outputs": [],
   "source": []
  }
 ],
 "metadata": {
  "kernelspec": {
   "display_name": "Python 3 (ipykernel)",
   "language": "python",
   "name": "python3"
  },
  "language_info": {
   "codemirror_mode": {
    "name": "ipython",
    "version": 3
   },
   "file_extension": ".py",
   "mimetype": "text/x-python",
   "name": "python",
   "nbconvert_exporter": "python",
   "pygments_lexer": "ipython3",
   "version": "3.9.16"
  }
 },
 "nbformat": 4,
 "nbformat_minor": 5
}

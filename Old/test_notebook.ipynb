{
 "cells": [
  {
   "cell_type": "code",
   "execution_count": null,
   "metadata": {},
   "outputs": [],
   "source": [
    "from pyod.models.mo_gaal import MO_GAAL\n",
    "import sklearn.metrics as sk\n",
    "from scipy.io import arff\n",
    "import pandas as pd"
   ]
  },
  {
   "cell_type": "code",
   "execution_count": null,
   "metadata": {},
   "outputs": [],
   "source": [
    "class CustomDataset():\n",
    "    def __init__(self, path):\n",
    "        # start preprocessing \n",
    "        arff_data = arff.loadarff(path)\n",
    "        df = pd.DataFrame(arff_data[0])\n",
    "        # 1 is outlier, 0 is normal data\n",
    "        df[\"outlier\"] = pd.factorize(df[\"outlier\"], sort=True)[0]\n",
    "        \n",
    "        #self.data_tensor = torch.tensor(df.to_numpy()).float()\n",
    "        self.data_numpy = df#df.to_numpy()\n",
    "        #end preprocessing\n",
    "\n",
    "        \n",
    "    def __len__(self):\n",
    "        return len(self.data_tensor)\n",
    "    \n",
    "    def __getitem__(self, i):\n",
    "        return self.data_tensor[i]\n",
    "    \n",
    "    \n",
    "arrythmia_path = \"./Resources/Datasets/Arrhythmia_withoutdupl_norm_10_v01.arff\"\n",
    "dataset = CustomDataset(arrythmia_path)\n",
    "\n",
    "data_no_label = dataset.data_numpy.iloc[:,:-2]\n",
    "data_label = dataset.data_numpy.iloc[:, -1]"
   ]
  },
  {
   "cell_type": "code",
   "execution_count": null,
   "metadata": {},
   "outputs": [],
   "source": [
    "model = MO_GAAL(lr_g=0.01, stop_epochs=50)\n",
    "model.fit(data_no_label)"
   ]
  },
  {
   "cell_type": "code",
   "execution_count": null,
   "metadata": {},
   "outputs": [],
   "source": [
    "decision_values = model.decision_function(data_no_label)\n",
    "print(\"AUC: \" + str(sk.roc_auc_score(data_label, decision_values)))"
   ]
  },
  {
   "cell_type": "code",
   "execution_count": null,
   "metadata": {},
   "outputs": [],
   "source": []
  }
 ],
 "metadata": {
  "kernelspec": {
   "display_name": "Python 3",
   "language": "python",
   "name": "python3"
  },
  "language_info": {
   "codemirror_mode": {
    "name": "ipython",
    "version": 3
   },
   "file_extension": ".py",
   "mimetype": "text/x-python",
   "name": "python",
   "nbconvert_exporter": "python",
   "pygments_lexer": "ipython3",
   "version": "3.9.5"
  },
  "orig_nbformat": 4
 },
 "nbformat": 4,
 "nbformat_minor": 2
}

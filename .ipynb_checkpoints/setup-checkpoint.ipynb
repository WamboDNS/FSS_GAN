{
 "cells": [
  {
   "cell_type": "code",
   "execution_count": 3,
   "id": "dd3c328a",
   "metadata": {},
   "outputs": [],
   "source": [
    "import torch\n",
    "import pandas as pd\n",
    "from torch.utils.data import Dataset\n",
    "from scipy.io import arff"
   ]
  },
  {
   "cell_type": "code",
   "execution_count": 54,
   "id": "67edf4ab",
   "metadata": {},
   "outputs": [],
   "source": [
    "#class used to load the waveform dataset in .arff format\n",
    "class WaveData(Dataset):\n",
    "    def __init__(self, path):\n",
    "        #use raw path\n",
    "        self.arff_data = arff.loadarff(path)\n",
    "        self.df = pd.DataFrame(self.arff_data[0])\n",
    "        #0 is outlier, 1 is normal data\n",
    "        self.df['outlier'] = pd.factorize(self.df['outlier'])[0]\n",
    "        self.dataset = torch.tensor(self.df.to_numpy()).float()\n",
    "        \n",
    "    def __len__(self):\n",
    "        return len(self.dataset)\n",
    "    \n",
    "    def __getitem__(self, i):\n",
    "        return self.dataset[i]"
   ]
  },
  {
   "cell_type": "code",
   "execution_count": 55,
   "id": "a6f7d4f3",
   "metadata": {
    "scrolled": true
   },
   "outputs": [
    {
     "name": "stdout",
     "output_type": "stream",
     "text": [
      "tensor([[3.2366e-01, 7.9379e-01, 8.4866e-01,  ..., 2.2088e-01, 4.6940e+03,\n",
      "         0.0000e+00],\n",
      "        [4.2380e-01, 7.6977e-01, 6.3213e-01,  ..., 4.6854e-01, 2.4010e+03,\n",
      "         0.0000e+00],\n",
      "        [4.7750e-01, 5.8051e-01, 5.5413e-01,  ..., 3.7082e-01, 3.6020e+03,\n",
      "         0.0000e+00],\n",
      "        ...,\n",
      "        [4.2525e-01, 5.5367e-01, 7.6135e-01,  ..., 4.3909e-01, 4.9970e+03,\n",
      "         1.0000e+00],\n",
      "        [4.2961e-01, 1.7797e-01, 5.0757e-01,  ..., 4.2704e-01, 4.9980e+03,\n",
      "         1.0000e+00],\n",
      "        [5.1959e-01, 4.4915e-01, 8.0442e-01,  ..., 5.4351e-01, 5.0000e+03,\n",
      "         1.0000e+00]])\n",
      "3443\n",
      "tensor([3.2366e-01, 7.9379e-01, 8.4866e-01, 6.6006e-01, 6.2224e-01, 7.5510e-01,\n",
      "        7.6076e-01, 6.7165e-01, 6.0372e-01, 6.3617e-01, 4.5491e-01, 4.0622e-01,\n",
      "        2.8190e-01, 2.0356e-01, 2.8661e-01, 4.7438e-01, 3.5248e-01, 3.5886e-01,\n",
      "        2.7563e-01, 4.6594e-01, 2.2088e-01, 4.6940e+03, 0.0000e+00])\n"
     ]
    }
   ],
   "source": [
    "wave = WaveData(r\"C:\\Users\\Denis\\Documents\\Thesis\\FSSGAN Resources\\literature\\Waveform\\Waveform_withoutdupl_norm_v01.arff\")\n",
    "print(wave.dataset)\n",
    "print(len(wave))\n",
    "print(wave[0])"
   ]
  },
  {
   "cell_type": "code",
   "execution_count": null,
   "id": "c119f09c",
   "metadata": {},
   "outputs": [],
   "source": []
  }
 ],
 "metadata": {
  "kernelspec": {
   "display_name": "Python 3 (ipykernel)",
   "language": "python",
   "name": "python3"
  },
  "language_info": {
   "codemirror_mode": {
    "name": "ipython",
    "version": 3
   },
   "file_extension": ".py",
   "mimetype": "text/x-python",
   "name": "python",
   "nbconvert_exporter": "python",
   "pygments_lexer": "ipython3",
   "version": "3.10.9"
  }
 },
 "nbformat": 4,
 "nbformat_minor": 5
}
